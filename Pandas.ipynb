{
 "cells": [
  {
   "cell_type": "markdown",
   "id": "0ac4d07b",
   "metadata": {},
   "source": [
    "# Pandas\n",
    "[Tutorial](https://www.youtube.com/watch?v=8ASjvOIyyl8)\n",
    "[Tutorial2](https://www.youtube.com/watch?v=zAIWnwqHGok)"
   ]
  },
  {
   "cell_type": "code",
   "execution_count": 1,
   "id": "966d4df5",
   "metadata": {},
   "outputs": [],
   "source": [
    "import pandas as pd\n",
    "import numpy as np"
   ]
  },
  {
   "cell_type": "markdown",
   "id": "1645d182",
   "metadata": {},
   "source": [
    "## 1 Creando un dataFrame usando arrays"
   ]
  },
  {
   "cell_type": "code",
   "execution_count": null,
   "id": "0014e63c",
   "metadata": {},
   "outputs": [],
   "source": [
    "data = np.array([[1,4],[55,2],[25,25],[10,5]])"
   ]
  },
  {
   "cell_type": "code",
   "execution_count": null,
   "id": "a5d73056",
   "metadata": {},
   "outputs": [],
   "source": [
    "data"
   ]
  },
  {
   "cell_type": "code",
   "execution_count": null,
   "id": "d286eec1",
   "metadata": {},
   "outputs": [],
   "source": [
    "pd.DataFrame(data, index=['row1','row2','row3','row4'],\n",
    "            columns=['col1','col2'])"
   ]
  },
  {
   "cell_type": "markdown",
   "id": "747d9916",
   "metadata": {},
   "source": [
    "## Creando dataFrame desde diccionarios"
   ]
  },
  {
   "cell_type": "code",
   "execution_count": null,
   "id": "1bd3504e",
   "metadata": {},
   "outputs": [],
   "source": [
    "states = ['California','Texas','Florida','New York']\n",
    "population = [39613493,29730311,21944577,19299981]"
   ]
  },
  {
   "cell_type": "code",
   "execution_count": null,
   "id": "aeec552f",
   "metadata": {},
   "outputs": [],
   "source": [
    "dic_states = {'States':states, 'Population':population}"
   ]
  },
  {
   "cell_type": "code",
   "execution_count": null,
   "id": "62354d41",
   "metadata": {},
   "outputs": [],
   "source": [
    "dic_states"
   ]
  },
  {
   "cell_type": "code",
   "execution_count": null,
   "id": "7e05a997",
   "metadata": {},
   "outputs": [],
   "source": [
    "df = pd.DataFrame(dic_states)"
   ]
  },
  {
   "cell_type": "code",
   "execution_count": null,
   "id": "8977aae3",
   "metadata": {},
   "outputs": [],
   "source": [
    "df"
   ]
  },
  {
   "cell_type": "markdown",
   "id": "7eec9a27",
   "metadata": {},
   "source": [
    "## Crear un dataFrame desde un archivo excel"
   ]
  },
  {
   "cell_type": "code",
   "execution_count": null,
   "id": "ce58740b",
   "metadata": {},
   "outputs": [],
   "source": [
    "import time\n",
    "start = time.time()\n",
    "mat = pd.read_excel(\"C:/Users/ordonez/Documents/SAP/SAP GUI/M.xlsx\")\n",
    "end = time.time()\n",
    "print(f\"Para importar los datos SAP se tardó {end - start} segundos\")"
   ]
  },
  {
   "cell_type": "code",
   "execution_count": null,
   "id": "a1987ae4",
   "metadata": {},
   "outputs": [],
   "source": [
    "display(mat)"
   ]
  },
  {
   "cell_type": "code",
   "execution_count": null,
   "id": "2b13707e",
   "metadata": {},
   "outputs": [],
   "source": [
    "mat.columns"
   ]
  },
  {
   "cell_type": "code",
   "execution_count": null,
   "id": "5bb784ec",
   "metadata": {},
   "outputs": [],
   "source": [
    "mat.dtypes"
   ]
  },
  {
   "cell_type": "code",
   "execution_count": null,
   "id": "dd244614",
   "metadata": {},
   "outputs": [],
   "source": [
    "materiales.info()"
   ]
  },
  {
   "cell_type": "code",
   "execution_count": null,
   "id": "2cf0c996",
   "metadata": {},
   "outputs": [],
   "source": [
    "mat.describe()"
   ]
  },
  {
   "cell_type": "markdown",
   "id": "72323629",
   "metadata": {},
   "source": [
    "## Borrar los materiales de los almacenes 1140 y 1142 del centro 1002"
   ]
  },
  {
   "cell_type": "code",
   "execution_count": null,
   "id": "e87697da",
   "metadata": {},
   "outputs": [],
   "source": [
    "indexABorrar = materiales[(materiales['Ce.']==1002) & (materiales['Almacén'].isin(['1141','1140']))].index\n",
    "materiales.drop(indexABorrar, inplace=True)"
   ]
  },
  {
   "cell_type": "markdown",
   "id": "dd35da0b",
   "metadata": {},
   "source": [
    "## Creamos el id_mat"
   ]
  },
  {
   "cell_type": "code",
   "execution_count": null,
   "id": "0ba9082d",
   "metadata": {},
   "outputs": [],
   "source": [
    "mat[\"id_mat\"] = mat[\"Almacén\"] + mat[\"Material\"].astype(str)\n",
    "mat.set_index('id_mat', inplace=True)"
   ]
  },
  {
   "cell_type": "markdown",
   "id": "ac7545c0",
   "metadata": {},
   "source": [
    "## Filtrados de columnas"
   ]
  },
  {
   "cell_type": "code",
   "execution_count": null,
   "id": "9ea1342e",
   "metadata": {},
   "outputs": [],
   "source": [
    "mat[\"Material\"]"
   ]
  },
  {
   "cell_type": "code",
   "execution_count": null,
   "id": "c56b74cb",
   "metadata": {},
   "outputs": [],
   "source": [
    "mat[['Material','Almacén', 'PrMedioVar','Libre utiliz.']] # Paso una lista con los nom.de col."
   ]
  },
  {
   "cell_type": "markdown",
   "id": "2501c333",
   "metadata": {},
   "source": [
    "## Filtrado de filas"
   ]
  },
  {
   "cell_type": "code",
   "execution_count": null,
   "id": "7a5a5a59",
   "metadata": {},
   "outputs": [],
   "source": [
    "mat.iloc[0]"
   ]
  },
  {
   "cell_type": "code",
   "execution_count": null,
   "id": "955cade3",
   "metadata": {},
   "outputs": [],
   "source": [
    "mat.iloc[0:3]"
   ]
  },
  {
   "cell_type": "code",
   "execution_count": null,
   "id": "ea6cfd83",
   "metadata": {},
   "outputs": [],
   "source": [
    "mat.loc[['11261004756','11261001167','11281061933']]"
   ]
  },
  {
   "cell_type": "code",
   "execution_count": null,
   "id": "6eb9ba89",
   "metadata": {},
   "outputs": [],
   "source": [
    "mat.loc[['11261004756','11261001167','11281061933'],['Material','Almacén', 'PrMedioVar','Libre utiliz.']]"
   ]
  },
  {
   "cell_type": "code",
   "execution_count": null,
   "id": "c90636a9",
   "metadata": {},
   "outputs": [],
   "source": [
    "mat[(mat['PrMedioVar']<10000) & (mat['Almacén']=='1126')]"
   ]
  },
  {
   "cell_type": "code",
   "execution_count": null,
   "id": "cb0b511a",
   "metadata": {},
   "outputs": [],
   "source": [
    "mat.columns"
   ]
  },
  {
   "cell_type": "markdown",
   "id": "1000413d",
   "metadata": {},
   "source": [
    "## Busca si contiene una cadena de texto"
   ]
  },
  {
   "cell_type": "code",
   "execution_count": null,
   "id": "3b2e9b6e",
   "metadata": {},
   "outputs": [],
   "source": [
    "mat[mat['Texto breve de material'].str.contains('6206')]"
   ]
  },
  {
   "cell_type": "markdown",
   "id": "346d282b",
   "metadata": {},
   "source": [
    "## Para buscar por varios textos"
   ]
  },
  {
   "cell_type": "code",
   "execution_count": null,
   "id": "0103a79c",
   "metadata": {},
   "outputs": [],
   "source": [
    "columna = 'Texto breve de material'\n",
    "texto1 = 'JUNTA'\n",
    "texto2 = '1929'\n",
    "\n",
    "dfBusqueda2 = materiales[(materiales[columna].str.contains(texto1,case=False)) & (materiales[columna].str.contains(texto2,case=False))][['Material','Texto breve de material','Ce.','Almacén','Grupo de artículos', 'GCp']]\n",
    "dfBusqueda2.to_excel('C:/Users/ordonez/Documents/SAP/SAP GUI/busqueda2.xlsx')"
   ]
  },
  {
   "cell_type": "markdown",
   "id": "60856c62",
   "metadata": {},
   "source": [
    "## Apply"
   ]
  },
  {
   "cell_type": "code",
   "execution_count": null,
   "id": "131c4b03",
   "metadata": {},
   "outputs": [],
   "source": [
    "import random\n",
    "def stockCero(stock):\n",
    "    resultado = stock == 0.0\n",
    "    return resultado\n",
    "\n",
    "mat[\"stockCero\"] = mat['Libre utiliz.'].apply(stockCero)\n",
    "mat.head(10)"
   ]
  },
  {
   "cell_type": "code",
   "execution_count": null,
   "id": "f9f937f5",
   "metadata": {},
   "outputs": [],
   "source": [
    "def calculoValor(fila):\n",
    "    resultado = fila['Libre utiliz.'] * fila['PrMedioVar']\n",
    "    return resultado\n",
    "\n",
    "mat['valor'] = mat.apply(calculoValor, axis=1)"
   ]
  },
  {
   "cell_type": "code",
   "execution_count": null,
   "id": "e277a024",
   "metadata": {},
   "outputs": [],
   "source": [
    "mat[['Material','Libre utiliz.','PrMedioVar','valor']].head()"
   ]
  },
  {
   "cell_type": "markdown",
   "id": "36442a23",
   "metadata": {},
   "source": [
    "## Agrupación de datos"
   ]
  },
  {
   "cell_type": "code",
   "execution_count": null,
   "id": "9b967d11",
   "metadata": {},
   "outputs": [],
   "source": [
    "mat.groupby(\"Almacén\").mean()"
   ]
  },
  {
   "cell_type": "code",
   "execution_count": null,
   "id": "b960733e",
   "metadata": {},
   "outputs": [],
   "source": [
    "agrupado = mat.groupby(\"Almacén\").agg({\n",
    "    'Libre utiliz.': 'mean',\n",
    "    'PrMedioVar': 'max',\n",
    "    'PzE': 'min',\n",
    "    'Creado': 'max'\n",
    "})"
   ]
  },
  {
   "cell_type": "code",
   "execution_count": null,
   "id": "351b593b",
   "metadata": {},
   "outputs": [],
   "source": [
    "agrupado"
   ]
  },
  {
   "cell_type": "code",
   "execution_count": null,
   "id": "e6d442c9",
   "metadata": {},
   "outputs": [],
   "source": [
    "agrupado['PrMedioVar'].plot(kind='bar')"
   ]
  },
  {
   "cell_type": "code",
   "execution_count": null,
   "id": "94ee6622",
   "metadata": {},
   "outputs": [],
   "source": [
    "mat.plot(kind='scatter',x='PzE',y='Stock máximo')"
   ]
  },
  {
   "cell_type": "code",
   "execution_count": null,
   "id": "4296c3d3",
   "metadata": {},
   "outputs": [],
   "source": [
    "mat.dtypes"
   ]
  },
  {
   "cell_type": "markdown",
   "id": "403e95d2",
   "metadata": {},
   "source": [
    "# Introducción al Pandas"
   ]
  },
  {
   "cell_type": "code",
   "execution_count": null,
   "id": "d95f9975",
   "metadata": {},
   "outputs": [],
   "source": [
    "df = pd.read_csv(\"C:/Users/ordonez/Documents/UCASAL/notebooks/base_datos_2008.csv\", nrows = 1000000)"
   ]
  },
  {
   "cell_type": "code",
   "execution_count": null,
   "id": "a365c099",
   "metadata": {},
   "outputs": [],
   "source": [
    "df.head()"
   ]
  },
  {
   "cell_type": "code",
   "execution_count": null,
   "id": "efbacc75",
   "metadata": {},
   "outputs": [],
   "source": [
    "df.tail()"
   ]
  },
  {
   "cell_type": "code",
   "execution_count": null,
   "id": "d0b503dc",
   "metadata": {},
   "outputs": [],
   "source": [
    "df.sample(frac = 1) #El 1 indica que mostrará el 100 %"
   ]
  },
  {
   "cell_type": "code",
   "execution_count": null,
   "id": "6f9c78c5",
   "metadata": {},
   "outputs": [],
   "source": [
    "#Muestra las columnas del dataFrame\n",
    "df.columns"
   ]
  },
  {
   "cell_type": "code",
   "execution_count": null,
   "id": "5a8da2a0",
   "metadata": {},
   "outputs": [],
   "source": [
    "df.info()"
   ]
  },
  {
   "cell_type": "code",
   "execution_count": null,
   "id": "0f870171",
   "metadata": {},
   "outputs": [],
   "source": [
    "#Para saber el tipo de dato de cada columna\n",
    "df.dtypes"
   ]
  },
  {
   "cell_type": "code",
   "execution_count": null,
   "id": "87b18313",
   "metadata": {},
   "outputs": [],
   "source": [
    "df[\"Year\"] #df.Year"
   ]
  },
  {
   "cell_type": "code",
   "execution_count": null,
   "id": "2d2d8cbc",
   "metadata": {},
   "outputs": [],
   "source": [
    "df.Year"
   ]
  },
  {
   "cell_type": "code",
   "execution_count": null,
   "id": "7e1037ee",
   "metadata": {},
   "outputs": [],
   "source": [
    "df[['DayofMonth','ArrDelay','Distance']]"
   ]
  },
  {
   "cell_type": "code",
   "execution_count": null,
   "id": "5c710df1",
   "metadata": {},
   "outputs": [],
   "source": [
    "df[df.Origin.isin([\"HOU\",\"ATL\"])]"
   ]
  },
  {
   "cell_type": "code",
   "execution_count": null,
   "id": "c7ffea81",
   "metadata": {},
   "outputs": [],
   "source": [
    "df[pd.isna(df[\"ArrDelay\"])].head()"
   ]
  },
  {
   "cell_type": "code",
   "execution_count": null,
   "id": "3813644c",
   "metadata": {},
   "outputs": [],
   "source": [
    "len(df[pd.isna(df[\"ArrDelay\"])])"
   ]
  },
  {
   "cell_type": "markdown",
   "id": "3bbbfa72",
   "metadata": {},
   "source": [
    "## Transformaciones de las bases de datos"
   ]
  },
  {
   "cell_type": "markdown",
   "id": "f620a92d",
   "metadata": {},
   "source": [
    "### Agregamos una columna"
   ]
  },
  {
   "cell_type": "code",
   "execution_count": null,
   "id": "da286000",
   "metadata": {},
   "outputs": [],
   "source": [
    "df[\"HoursDelay\"] = round(df[\"ArrDelay\"] / 60)"
   ]
  },
  {
   "cell_type": "code",
   "execution_count": null,
   "id": "246d220c",
   "metadata": {},
   "outputs": [],
   "source": [
    "df.HoursDelay"
   ]
  },
  {
   "cell_type": "markdown",
   "id": "7c2063a9",
   "metadata": {},
   "source": [
    "### Borramos una columna"
   ]
  },
  {
   "cell_type": "code",
   "execution_count": null,
   "id": "d646fbcb",
   "metadata": {},
   "outputs": [],
   "source": [
    "del(df[\"HoursDelay\"])"
   ]
  },
  {
   "cell_type": "code",
   "execution_count": null,
   "id": "b7988f87",
   "metadata": {},
   "outputs": [],
   "source": [
    "df = df.drop([\"Diverted\",\"Cancelled\",\"Year\"],axis=1)\n",
    "# df.drop([\"Diverted\",\"Cancelled\",\"Year\"],axis=1,inplace=true) el parámetro inplace hace efectivo el borrado sin necesidad de reasignar"
   ]
  },
  {
   "cell_type": "code",
   "execution_count": null,
   "id": "7c59b7ac",
   "metadata": {},
   "outputs": [],
   "source": [
    "df.head()"
   ]
  },
  {
   "cell_type": "markdown",
   "id": "0a4c105d",
   "metadata": {},
   "source": [
    "### Borrar filas"
   ]
  },
  {
   "cell_type": "code",
   "execution_count": null,
   "id": "ce373f7f",
   "metadata": {},
   "outputs": [],
   "source": [
    "df.drop(0) #Borra la primer fila"
   ]
  },
  {
   "cell_type": "code",
   "execution_count": null,
   "id": "f4a24117",
   "metadata": {},
   "outputs": [],
   "source": [
    "df.drop(range(0,10000)) #No borra hasta que se asigne"
   ]
  },
  {
   "cell_type": "markdown",
   "id": "91986c2d",
   "metadata": {},
   "source": [
    "### Concatenating dfATL and dfHOU along rows"
   ]
  },
  {
   "cell_type": "code",
   "execution_count": null,
   "id": "065ddb7a",
   "metadata": {},
   "outputs": [],
   "source": [
    "dfATL = df[df.Origin == \"ATL\"]\n",
    "dfHOU = df[df.Origin == \"HOU\"]\n",
    "newdf = pd.concat([dfATL,dfHOU],axis=0) #dfATL.append(dfHOU) is deprecated"
   ]
  },
  {
   "cell_type": "code",
   "execution_count": null,
   "id": "7fc48a2c",
   "metadata": {},
   "outputs": [],
   "source": [
    "display(newdf.Origin)"
   ]
  },
  {
   "cell_type": "markdown",
   "id": "41fcb93f",
   "metadata": {},
   "source": [
    "### Groupby: Obtener información esencial"
   ]
  },
  {
   "cell_type": "code",
   "execution_count": null,
   "id": "ce48ec98",
   "metadata": {},
   "outputs": [],
   "source": [
    "#Obtiene el máximo retraso de los vuelos por semana\n",
    "df.groupby(by = \"DayOfWeek\")[\"ArrDelay\"].max()"
   ]
  },
  {
   "cell_type": "code",
   "execution_count": null,
   "id": "e4bb1f19",
   "metadata": {},
   "outputs": [],
   "source": [
    "df.groupby(by = \"DayOfWeek\")[\"ArrDelay\"].describe()"
   ]
  },
  {
   "cell_type": "code",
   "execution_count": null,
   "id": "bc1a6d69",
   "metadata": {},
   "outputs": [],
   "source": [
    "df.groupby(by = \"DayOfWeek\")[\"ArrDelay\",\"DepDelay\"].mean()"
   ]
  },
  {
   "cell_type": "code",
   "execution_count": null,
   "id": "d5833923",
   "metadata": {},
   "outputs": [],
   "source": [
    "#Rango\n",
    "df.groupby(by = \"DayOfWeek\")[\"ArrDelay\"].max() - df.groupby(by = \"DayOfWeek\")[\"ArrDelay\"].min()"
   ]
  },
  {
   "cell_type": "code",
   "execution_count": null,
   "id": "99ef2bed",
   "metadata": {},
   "outputs": [],
   "source": [
    "dfATLHOU = df[df.Origin.isin([\"ATL\",\"HOU\"])]"
   ]
  },
  {
   "cell_type": "code",
   "execution_count": null,
   "id": "cc8bce03",
   "metadata": {},
   "outputs": [],
   "source": [
    "dfATLHOU.groupby(by = [\"DayOfWeek\",\"Origin\"])[\"ArrDelay\"].mean()"
   ]
  },
  {
   "cell_type": "code",
   "execution_count": null,
   "id": "a73016de",
   "metadata": {},
   "outputs": [],
   "source": [
    "mygroupby = dfATLHOU.groupby(by = [\"DayOfWeek\",\"Origin\"])[\"ArrDelay\"]\n",
    "mygroupby.max()"
   ]
  },
  {
   "cell_type": "markdown",
   "id": "ab5a5b4a",
   "metadata": {},
   "source": [
    "## Tratar datos duplicados y perdidos"
   ]
  },
  {
   "cell_type": "code",
   "execution_count": null,
   "id": "dba23af6",
   "metadata": {},
   "outputs": [],
   "source": [
    "df = pd.read_csv(\"C:/Users/ordonez/Documents/UCASAL/notebooks/base_datos_2008.csv\", nrows = 1e6)"
   ]
  },
  {
   "cell_type": "code",
   "execution_count": null,
   "id": "f65cab80",
   "metadata": {},
   "outputs": [],
   "source": [
    "#duplicamos el dataframe\n",
    "dfDuplicate = pd.concat([df,df])"
   ]
  },
  {
   "cell_type": "code",
   "execution_count": null,
   "id": "cfac0b4d",
   "metadata": {},
   "outputs": [],
   "source": [
    "dfDuplicate = dfDuplicate.sample(frac=1)"
   ]
  },
  {
   "cell_type": "code",
   "execution_count": null,
   "id": "f842b8a2",
   "metadata": {},
   "outputs": [],
   "source": [
    "dfClean = dfDuplicate.drop_duplicates()"
   ]
  },
  {
   "cell_type": "code",
   "execution_count": null,
   "id": "3994b005",
   "metadata": {},
   "outputs": [],
   "source": [
    "dfClean.drop_duplicates(subset = \"DayofMonth\")"
   ]
  },
  {
   "cell_type": "code",
   "execution_count": null,
   "id": "49c22942",
   "metadata": {},
   "outputs": [],
   "source": [
    "df.dropna()"
   ]
  },
  {
   "cell_type": "markdown",
   "id": "c1cb4f5b",
   "metadata": {},
   "source": [
    "## Trabajo con Fechas"
   ]
  },
  {
   "cell_type": "code",
   "execution_count": 9,
   "id": "9833ee02",
   "metadata": {},
   "outputs": [],
   "source": [
    "dfFechas = pd.DataFrame({'Date':['3/10/2000','3/11/2000','3/12/2000'],\n",
    "                        'Value':[2,3,4]})"
   ]
  },
  {
   "cell_type": "code",
   "execution_count": 10,
   "id": "f1b58db0",
   "metadata": {},
   "outputs": [
    {
     "name": "stdout",
     "output_type": "stream",
     "text": [
      "<class 'pandas.core.frame.DataFrame'>\n",
      "RangeIndex: 3 entries, 0 to 2\n",
      "Data columns (total 2 columns):\n",
      " #   Column  Non-Null Count  Dtype \n",
      "---  ------  --------------  ----- \n",
      " 0   Date    3 non-null      object\n",
      " 1   Value   3 non-null      int64 \n",
      "dtypes: int64(1), object(1)\n",
      "memory usage: 176.0+ bytes\n"
     ]
    }
   ],
   "source": [
    "dfFechas.info()"
   ]
  },
  {
   "cell_type": "code",
   "execution_count": 11,
   "id": "a85dcc83",
   "metadata": {},
   "outputs": [],
   "source": [
    "dfFechas['Date'] = pd.to_datetime(dfFechas['Date'])"
   ]
  },
  {
   "cell_type": "code",
   "execution_count": 12,
   "id": "6bf4a4bc",
   "metadata": {},
   "outputs": [
    {
     "name": "stdout",
     "output_type": "stream",
     "text": [
      "<class 'pandas.core.frame.DataFrame'>\n",
      "RangeIndex: 3 entries, 0 to 2\n",
      "Data columns (total 2 columns):\n",
      " #   Column  Non-Null Count  Dtype         \n",
      "---  ------  --------------  -----         \n",
      " 0   Date    3 non-null      datetime64[ns]\n",
      " 1   Value   3 non-null      int64         \n",
      "dtypes: datetime64[ns](1), int64(1)\n",
      "memory usage: 176.0 bytes\n"
     ]
    }
   ],
   "source": [
    "dfFechas.info()"
   ]
  },
  {
   "cell_type": "code",
   "execution_count": 13,
   "id": "df17e393",
   "metadata": {},
   "outputs": [
    {
     "data": {
      "text/html": [
       "<div>\n",
       "<style scoped>\n",
       "    .dataframe tbody tr th:only-of-type {\n",
       "        vertical-align: middle;\n",
       "    }\n",
       "\n",
       "    .dataframe tbody tr th {\n",
       "        vertical-align: top;\n",
       "    }\n",
       "\n",
       "    .dataframe thead th {\n",
       "        text-align: right;\n",
       "    }\n",
       "</style>\n",
       "<table border=\"1\" class=\"dataframe\">\n",
       "  <thead>\n",
       "    <tr style=\"text-align: right;\">\n",
       "      <th></th>\n",
       "      <th>Date</th>\n",
       "      <th>Value</th>\n",
       "    </tr>\n",
       "  </thead>\n",
       "  <tbody>\n",
       "    <tr>\n",
       "      <th>0</th>\n",
       "      <td>2000-03-10</td>\n",
       "      <td>2</td>\n",
       "    </tr>\n",
       "    <tr>\n",
       "      <th>1</th>\n",
       "      <td>2000-03-11</td>\n",
       "      <td>3</td>\n",
       "    </tr>\n",
       "    <tr>\n",
       "      <th>2</th>\n",
       "      <td>2000-03-12</td>\n",
       "      <td>4</td>\n",
       "    </tr>\n",
       "  </tbody>\n",
       "</table>\n",
       "</div>"
      ],
      "text/plain": [
       "        Date  Value\n",
       "0 2000-03-10      2\n",
       "1 2000-03-11      3\n",
       "2 2000-03-12      4"
      ]
     },
     "execution_count": 13,
     "metadata": {},
     "output_type": "execute_result"
    }
   ],
   "source": [
    "dfFechas"
   ]
  },
  {
   "cell_type": "code",
   "execution_count": 14,
   "id": "c0edf0cc",
   "metadata": {},
   "outputs": [],
   "source": [
    "dfFechas = pd.DataFrame({'Date':['3/10/2000','3/11/2000','3/12/2000'],\n",
    "                        'Value':[2,3,4]})\n",
    "dfFechas['Date'] = pd.to_datetime(dfFechas['Date'], dayfirst=True)"
   ]
  },
  {
   "cell_type": "code",
   "execution_count": 15,
   "id": "61a11f90",
   "metadata": {},
   "outputs": [
    {
     "data": {
      "text/html": [
       "<div>\n",
       "<style scoped>\n",
       "    .dataframe tbody tr th:only-of-type {\n",
       "        vertical-align: middle;\n",
       "    }\n",
       "\n",
       "    .dataframe tbody tr th {\n",
       "        vertical-align: top;\n",
       "    }\n",
       "\n",
       "    .dataframe thead th {\n",
       "        text-align: right;\n",
       "    }\n",
       "</style>\n",
       "<table border=\"1\" class=\"dataframe\">\n",
       "  <thead>\n",
       "    <tr style=\"text-align: right;\">\n",
       "      <th></th>\n",
       "      <th>Date</th>\n",
       "      <th>Value</th>\n",
       "    </tr>\n",
       "  </thead>\n",
       "  <tbody>\n",
       "    <tr>\n",
       "      <th>0</th>\n",
       "      <td>2000-10-03</td>\n",
       "      <td>2</td>\n",
       "    </tr>\n",
       "    <tr>\n",
       "      <th>1</th>\n",
       "      <td>2000-11-03</td>\n",
       "      <td>3</td>\n",
       "    </tr>\n",
       "    <tr>\n",
       "      <th>2</th>\n",
       "      <td>2000-12-03</td>\n",
       "      <td>4</td>\n",
       "    </tr>\n",
       "  </tbody>\n",
       "</table>\n",
       "</div>"
      ],
      "text/plain": [
       "        Date  Value\n",
       "0 2000-10-03      2\n",
       "1 2000-11-03      3\n",
       "2 2000-12-03      4"
      ]
     },
     "execution_count": 15,
     "metadata": {},
     "output_type": "execute_result"
    }
   ],
   "source": [
    "dfFechas"
   ]
  },
  {
   "cell_type": "markdown",
   "id": "9db2d554",
   "metadata": {},
   "source": [
    "### Formato personalizado"
   ]
  },
  {
   "cell_type": "code",
   "execution_count": 16,
   "id": "662de374",
   "metadata": {},
   "outputs": [],
   "source": [
    "df = pd.DataFrame({'date': ['2016-6-10 20:30:0', \n",
    "                            '2016-7-1 19:45:30', \n",
    "                            '2013-10-12 4:5:1'],\n",
    "                   'value': [2, 3, 4]})\n",
    "df['date'] = pd.to_datetime(df['date'], format=\"%Y-%d-%m %H:%M:%S\")"
   ]
  },
  {
   "cell_type": "code",
   "execution_count": 17,
   "id": "3fb06556",
   "metadata": {},
   "outputs": [
    {
     "data": {
      "text/html": [
       "<div>\n",
       "<style scoped>\n",
       "    .dataframe tbody tr th:only-of-type {\n",
       "        vertical-align: middle;\n",
       "    }\n",
       "\n",
       "    .dataframe tbody tr th {\n",
       "        vertical-align: top;\n",
       "    }\n",
       "\n",
       "    .dataframe thead th {\n",
       "        text-align: right;\n",
       "    }\n",
       "</style>\n",
       "<table border=\"1\" class=\"dataframe\">\n",
       "  <thead>\n",
       "    <tr style=\"text-align: right;\">\n",
       "      <th></th>\n",
       "      <th>date</th>\n",
       "      <th>value</th>\n",
       "    </tr>\n",
       "  </thead>\n",
       "  <tbody>\n",
       "    <tr>\n",
       "      <th>0</th>\n",
       "      <td>2016-10-06 20:30:00</td>\n",
       "      <td>2</td>\n",
       "    </tr>\n",
       "    <tr>\n",
       "      <th>1</th>\n",
       "      <td>2016-01-07 19:45:30</td>\n",
       "      <td>3</td>\n",
       "    </tr>\n",
       "    <tr>\n",
       "      <th>2</th>\n",
       "      <td>2013-12-10 04:05:01</td>\n",
       "      <td>4</td>\n",
       "    </tr>\n",
       "  </tbody>\n",
       "</table>\n",
       "</div>"
      ],
      "text/plain": [
       "                 date  value\n",
       "0 2016-10-06 20:30:00      2\n",
       "1 2016-01-07 19:45:30      3\n",
       "2 2013-12-10 04:05:01      4"
      ]
     },
     "execution_count": 17,
     "metadata": {},
     "output_type": "execute_result"
    }
   ],
   "source": [
    "df"
   ]
  },
  {
   "cell_type": "code",
   "execution_count": null,
   "id": "39ca0f57",
   "metadata": {},
   "outputs": [],
   "source": []
  },
  {
   "cell_type": "code",
   "execution_count": 5,
   "id": "61411e28",
   "metadata": {},
   "outputs": [
    {
     "name": "stdout",
     "output_type": "stream",
     "text": [
      "<class 'pandas.core.frame.DataFrame'>\n",
      "RangeIndex: 887 entries, 0 to 886\n",
      "Data columns (total 8 columns):\n",
      " #   Column                   Non-Null Count  Dtype  \n",
      "---  ------                   --------------  -----  \n",
      " 0   Survived                 887 non-null    int64  \n",
      " 1   Pclass                   887 non-null    int64  \n",
      " 2   Name                     887 non-null    object \n",
      " 3   Sex                      887 non-null    object \n",
      " 4   Age                      887 non-null    float64\n",
      " 5   Siblings/Spouses Aboard  887 non-null    int64  \n",
      " 6   Parents/Children Aboard  887 non-null    int64  \n",
      " 7   Fare                     887 non-null    float64\n",
      "dtypes: float64(2), int64(4), object(2)\n",
      "memory usage: 55.6+ KB\n"
     ]
    }
   ],
   "source": [
    "path = 'https://web.stanford.edu/class/archive/cs/cs109/cs109.1166/stuff/'\n",
    "data = pd.read_csv(path + \"titanic.csv\")\n",
    "#data.to_excel(\"titanic.xlsx\")\n",
    "data.info()"
   ]
  },
  {
   "cell_type": "code",
   "execution_count": 6,
   "id": "4d86776a",
   "metadata": {},
   "outputs": [
    {
     "data": {
      "text/html": [
       "<div>\n",
       "<style scoped>\n",
       "    .dataframe tbody tr th:only-of-type {\n",
       "        vertical-align: middle;\n",
       "    }\n",
       "\n",
       "    .dataframe tbody tr th {\n",
       "        vertical-align: top;\n",
       "    }\n",
       "\n",
       "    .dataframe thead th {\n",
       "        text-align: right;\n",
       "    }\n",
       "</style>\n",
       "<table border=\"1\" class=\"dataframe\">\n",
       "  <thead>\n",
       "    <tr style=\"text-align: right;\">\n",
       "      <th></th>\n",
       "      <th>Survived</th>\n",
       "      <th>Pclass</th>\n",
       "      <th>Name</th>\n",
       "      <th>Sex</th>\n",
       "      <th>Age</th>\n",
       "      <th>Siblings/Spouses Aboard</th>\n",
       "      <th>Parents/Children Aboard</th>\n",
       "      <th>Fare</th>\n",
       "    </tr>\n",
       "  </thead>\n",
       "  <tbody>\n",
       "    <tr>\n",
       "      <th>0</th>\n",
       "      <td>0</td>\n",
       "      <td>3</td>\n",
       "      <td>Mr. Owen Harris Braund</td>\n",
       "      <td>male</td>\n",
       "      <td>22.0</td>\n",
       "      <td>1</td>\n",
       "      <td>0</td>\n",
       "      <td>7.2500</td>\n",
       "    </tr>\n",
       "    <tr>\n",
       "      <th>1</th>\n",
       "      <td>1</td>\n",
       "      <td>1</td>\n",
       "      <td>Mrs. John Bradley (Florence Briggs Thayer) Cum...</td>\n",
       "      <td>female</td>\n",
       "      <td>38.0</td>\n",
       "      <td>1</td>\n",
       "      <td>0</td>\n",
       "      <td>71.2833</td>\n",
       "    </tr>\n",
       "    <tr>\n",
       "      <th>2</th>\n",
       "      <td>1</td>\n",
       "      <td>3</td>\n",
       "      <td>Miss. Laina Heikkinen</td>\n",
       "      <td>female</td>\n",
       "      <td>26.0</td>\n",
       "      <td>0</td>\n",
       "      <td>0</td>\n",
       "      <td>7.9250</td>\n",
       "    </tr>\n",
       "    <tr>\n",
       "      <th>3</th>\n",
       "      <td>1</td>\n",
       "      <td>1</td>\n",
       "      <td>Mrs. Jacques Heath (Lily May Peel) Futrelle</td>\n",
       "      <td>female</td>\n",
       "      <td>35.0</td>\n",
       "      <td>1</td>\n",
       "      <td>0</td>\n",
       "      <td>53.1000</td>\n",
       "    </tr>\n",
       "    <tr>\n",
       "      <th>4</th>\n",
       "      <td>0</td>\n",
       "      <td>3</td>\n",
       "      <td>Mr. William Henry Allen</td>\n",
       "      <td>male</td>\n",
       "      <td>35.0</td>\n",
       "      <td>0</td>\n",
       "      <td>0</td>\n",
       "      <td>8.0500</td>\n",
       "    </tr>\n",
       "    <tr>\n",
       "      <th>...</th>\n",
       "      <td>...</td>\n",
       "      <td>...</td>\n",
       "      <td>...</td>\n",
       "      <td>...</td>\n",
       "      <td>...</td>\n",
       "      <td>...</td>\n",
       "      <td>...</td>\n",
       "      <td>...</td>\n",
       "    </tr>\n",
       "    <tr>\n",
       "      <th>882</th>\n",
       "      <td>0</td>\n",
       "      <td>2</td>\n",
       "      <td>Rev. Juozas Montvila</td>\n",
       "      <td>male</td>\n",
       "      <td>27.0</td>\n",
       "      <td>0</td>\n",
       "      <td>0</td>\n",
       "      <td>13.0000</td>\n",
       "    </tr>\n",
       "    <tr>\n",
       "      <th>883</th>\n",
       "      <td>1</td>\n",
       "      <td>1</td>\n",
       "      <td>Miss. Margaret Edith Graham</td>\n",
       "      <td>female</td>\n",
       "      <td>19.0</td>\n",
       "      <td>0</td>\n",
       "      <td>0</td>\n",
       "      <td>30.0000</td>\n",
       "    </tr>\n",
       "    <tr>\n",
       "      <th>884</th>\n",
       "      <td>0</td>\n",
       "      <td>3</td>\n",
       "      <td>Miss. Catherine Helen Johnston</td>\n",
       "      <td>female</td>\n",
       "      <td>7.0</td>\n",
       "      <td>1</td>\n",
       "      <td>2</td>\n",
       "      <td>23.4500</td>\n",
       "    </tr>\n",
       "    <tr>\n",
       "      <th>885</th>\n",
       "      <td>1</td>\n",
       "      <td>1</td>\n",
       "      <td>Mr. Karl Howell Behr</td>\n",
       "      <td>male</td>\n",
       "      <td>26.0</td>\n",
       "      <td>0</td>\n",
       "      <td>0</td>\n",
       "      <td>30.0000</td>\n",
       "    </tr>\n",
       "    <tr>\n",
       "      <th>886</th>\n",
       "      <td>0</td>\n",
       "      <td>3</td>\n",
       "      <td>Mr. Patrick Dooley</td>\n",
       "      <td>male</td>\n",
       "      <td>32.0</td>\n",
       "      <td>0</td>\n",
       "      <td>0</td>\n",
       "      <td>7.7500</td>\n",
       "    </tr>\n",
       "  </tbody>\n",
       "</table>\n",
       "<p>887 rows × 8 columns</p>\n",
       "</div>"
      ],
      "text/plain": [
       "     Survived  Pclass                                               Name  \\\n",
       "0           0       3                             Mr. Owen Harris Braund   \n",
       "1           1       1  Mrs. John Bradley (Florence Briggs Thayer) Cum...   \n",
       "2           1       3                              Miss. Laina Heikkinen   \n",
       "3           1       1        Mrs. Jacques Heath (Lily May Peel) Futrelle   \n",
       "4           0       3                            Mr. William Henry Allen   \n",
       "..        ...     ...                                                ...   \n",
       "882         0       2                               Rev. Juozas Montvila   \n",
       "883         1       1                        Miss. Margaret Edith Graham   \n",
       "884         0       3                     Miss. Catherine Helen Johnston   \n",
       "885         1       1                               Mr. Karl Howell Behr   \n",
       "886         0       3                                 Mr. Patrick Dooley   \n",
       "\n",
       "        Sex   Age  Siblings/Spouses Aboard  Parents/Children Aboard     Fare  \n",
       "0      male  22.0                        1                        0   7.2500  \n",
       "1    female  38.0                        1                        0  71.2833  \n",
       "2    female  26.0                        0                        0   7.9250  \n",
       "3    female  35.0                        1                        0  53.1000  \n",
       "4      male  35.0                        0                        0   8.0500  \n",
       "..      ...   ...                      ...                      ...      ...  \n",
       "882    male  27.0                        0                        0  13.0000  \n",
       "883  female  19.0                        0                        0  30.0000  \n",
       "884  female   7.0                        1                        2  23.4500  \n",
       "885    male  26.0                        0                        0  30.0000  \n",
       "886    male  32.0                        0                        0   7.7500  \n",
       "\n",
       "[887 rows x 8 columns]"
      ]
     },
     "execution_count": 6,
     "metadata": {},
     "output_type": "execute_result"
    }
   ],
   "source": [
    "data"
   ]
  },
  {
   "cell_type": "markdown",
   "id": "c88ff6b6",
   "metadata": {},
   "source": [
    "# Best of Both Worlds: Automated and Dynamic SQL Queries from Python\n",
    "[link](https://towardsdatascience.com/best-of-both-worlds-automated-and-dynamic-sql-queries-from-python-5b74a24501b0)"
   ]
  },
  {
   "cell_type": "code",
   "execution_count": 1,
   "id": "55a630e6",
   "metadata": {},
   "outputs": [
    {
     "ename": "ModuleNotFoundError",
     "evalue": "No module named 'sqlalchemy'",
     "output_type": "error",
     "traceback": [
      "\u001b[1;31m---------------------------------------------------------------------------\u001b[0m",
      "\u001b[1;31mModuleNotFoundError\u001b[0m                       Traceback (most recent call last)",
      "Input \u001b[1;32mIn [1]\u001b[0m, in \u001b[0;36m<module>\u001b[1;34m\u001b[0m\n\u001b[1;32m----> 1\u001b[0m \u001b[38;5;28;01mimport\u001b[39;00m \u001b[38;5;21;01msqlalchemy\u001b[39;00m \u001b[38;5;28;01mas\u001b[39;00m \u001b[38;5;21;01msa\u001b[39;00m\n",
      "\u001b[1;31mModuleNotFoundError\u001b[0m: No module named 'sqlalchemy'"
     ]
    }
   ],
   "source": [
    "import sqlalchemy as sa"
   ]
  },
  {
   "cell_type": "markdown",
   "id": "2e5cd393",
   "metadata": {},
   "source": [
    "# Fugue and DuckDB: Fast SQL Code in Python\n",
    "Optimize Your SQL Code with Python and DuckDB\n",
    "[link](https://towardsdatascience.com/fugue-and-duckdb-fast-sql-code-in-python-e2e2dfc0f8eb)"
   ]
  },
  {
   "cell_type": "markdown",
   "id": "e0b5f7ec",
   "metadata": {},
   "source": [
    "# 5 Intro to PyTorch: Part 1 \n",
    "[link](https://towardsdatascience.com/intro-to-pytorch-part-1-663574fb9675)"
   ]
  },
  {
   "cell_type": "code",
   "execution_count": null,
   "id": "18c27d8d",
   "metadata": {},
   "outputs": [],
   "source": []
  }
 ],
 "metadata": {
  "hide_input": false,
  "kernelspec": {
   "display_name": "Python 3 (ipykernel)",
   "language": "python",
   "name": "python3"
  },
  "language_info": {
   "codemirror_mode": {
    "name": "ipython",
    "version": 3
   },
   "file_extension": ".py",
   "mimetype": "text/x-python",
   "name": "python",
   "nbconvert_exporter": "python",
   "pygments_lexer": "ipython3",
   "version": "3.10.3"
  },
  "toc": {
   "base_numbering": 1,
   "nav_menu": {},
   "number_sections": true,
   "sideBar": true,
   "skip_h1_title": false,
   "title_cell": "Table of Contents",
   "title_sidebar": "Contents",
   "toc_cell": false,
   "toc_position": {},
   "toc_section_display": true,
   "toc_window_display": true
  }
 },
 "nbformat": 4,
 "nbformat_minor": 5
}
