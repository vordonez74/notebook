{
 "cells": [
  {
   "cell_type": "markdown",
   "id": "98d47140",
   "metadata": {},
   "source": [
    "# PyAutoGUI"
   ]
  },
  {
   "cell_type": "code",
   "execution_count": 1,
   "id": "1a413cd0",
   "metadata": {},
   "outputs": [],
   "source": [
    "import pyautogui as robot\n",
    "import time"
   ]
  },
  {
   "cell_type": "code",
   "execution_count": null,
   "id": "cc84e452",
   "metadata": {},
   "outputs": [],
   "source": [
    "#no ejecutar desde jupyter\n",
    "#robot.displayMousePosition()"
   ]
  },
  {
   "cell_type": "code",
   "execution_count": 2,
   "id": "24836038",
   "metadata": {},
   "outputs": [],
   "source": [
    "robot.moveTo(29,1052)\n",
    "robot.click(clicks=1)\n",
    "time.sleep(1)\n",
    "robot.moveTo(541,430)\n",
    "robot.click(clicks=1)\n",
    "time.sleep(2)\n",
    "robot.moveTo(279,78)\n",
    "robot.click(clicks=1)\n",
    "robot.typewrite(\"https://www.youtube.com/\")\n",
    "robot.hotkey(\"enter\")\n",
    "time.sleep(1)\n",
    "robot.moveTo(502,194)\n",
    "robot.click(clicks=1)\n",
    "robot.typewrite(\"Cae el sol - Luna Park - AIRBAG\")\n",
    "robot.hotkey(\"enter\")\n",
    "time.sleep(4)\n",
    "robot.moveTo(511,469)\n",
    "robot.click(clicks=1)"
   ]
  },
  {
   "cell_type": "code",
   "execution_count": 18,
   "id": "3b8880b5",
   "metadata": {},
   "outputs": [],
   "source": [
    "#import selenium"
   ]
  },
  {
   "cell_type": "code",
   "execution_count": 20,
   "id": "c56ce1f6",
   "metadata": {},
   "outputs": [],
   "source": [
    "import requests"
   ]
  },
  {
   "cell_type": "markdown",
   "id": "ee05125d",
   "metadata": {},
   "source": [
    "# https://github.com/tebelorg/RPA-Python\n",
    "# https://recursospython.com/guias-y-manuales/pyautogui/"
   ]
  },
  {
   "cell_type": "markdown",
   "id": "5ab53e37",
   "metadata": {},
   "source": [
    "## Descarga de reportes de SAP"
   ]
  },
  {
   "cell_type": "code",
   "execution_count": 52,
   "id": "c1f98919",
   "metadata": {},
   "outputs": [],
   "source": [
    "## ATENCIÓN ##\n",
    "permiso = False #cambiar por True cuando tengo un modo abierto."
   ]
  },
  {
   "cell_type": "code",
   "execution_count": 43,
   "id": "9c7b541a",
   "metadata": {},
   "outputs": [],
   "source": [
    "import pyautogui as robot\n",
    "import time\n",
    "from datetime import date\n",
    "\n",
    "today = date.today()\n",
    "hoy = str(today.day)+'.'+str(today.month)+'.'+str(today.year)\n",
    "\n",
    "def minimizar():\n",
    "    robot.moveTo(1775,17)\n",
    "    robot.click(clicks=1)\n",
    "    \n",
    "def ejecutar(tx):\n",
    "    robot.moveTo(86,86)\n",
    "    robot.click(clicks=1)\n",
    "    robot.typewrite(tx)\n",
    "    robot.hotkey(\"enter\")\n",
    "    time.sleep(2)\n",
    "    \n",
    "def traerVariante(var):\n",
    "    robot.moveTo(78,197)\n",
    "    robot.click(clicks=1)\n",
    "    time.sleep(2)\n",
    "    robot.typewrite(var)\n",
    "    robot.moveTo(845,748)\n",
    "    robot.click(clicks=1)\n",
    "    time.sleep(2)\n",
    "    robot.moveTo(38,198)\n",
    "    robot.click(clicks=1)\n",
    "if permiso:\n",
    "    #Carga 5 modos mas\n",
    "    robot.moveTo(816,87)\n",
    "    for i in range(0,5):\n",
    "        robot.click(clicks=1)\n",
    "        time.sleep(3)\n",
    "\n",
    "    #Ejecuta 6 tx\n",
    "    ejecutar(\"ZMM_SOLPED\")\n",
    "    traerVariante(\"GLOBAL\")\n",
    "    minimizar()\n",
    "    ejecutar(\"MB25\")\n",
    "    traerVariante(\"GLOBAL\")\n",
    "    minimizar()\n",
    "    ejecutar(\"ZMM_MATERIALES\")\n",
    "    traerVariante(\"GLOBAL\")\n",
    "    minimizar()\n",
    "    ejecutar(\"ME2N\")\n",
    "    traerVariante(\"GLOBAL\")\n",
    "    minimizar()\n",
    "    ##################\n",
    "    # MB51\n",
    "    ejecutar(\"MB51\")\n",
    "    robot.moveTo(78,197)\n",
    "    robot.click(clicks=1)\n",
    "    time.sleep(2)\n",
    "    robot.typewrite(\"GLOBAL_B\")\n",
    "    robot.moveTo(845,748)\n",
    "    robot.click(clicks=1)\n",
    "    time.sleep(2)\n",
    "    robot.hotkey('pagedown')\n",
    "    time.sleep(1)\n",
    "    robot.moveTo(799,434)\n",
    "    robot.click(clicks=1)\n",
    "    robot.typewrite(hoy)\n",
    "    time.sleep(2)\n",
    "    robot.moveTo(38,198)\n",
    "    robot.click(clicks=1)    \n",
    "    ##################\n",
    "    ejecutar(\"VL10B\")\n",
    "    traerVariante(\"GLOBAL\")\n",
    "    robot.moveTo(283,200)\n",
    "    time.sleep(5)\n",
    "    robot.click(clicks=1)"
   ]
  },
  {
   "cell_type": "code",
   "execution_count": 91,
   "id": "57f7978e",
   "metadata": {},
   "outputs": [
    {
     "data": {
      "text/plain": [
       "False"
      ]
     },
     "execution_count": 91,
     "metadata": {},
     "output_type": "execute_result"
    }
   ],
   "source": [
    "permiso"
   ]
  },
  {
   "cell_type": "code",
   "execution_count": 63,
   "id": "29c2e6dd",
   "metadata": {},
   "outputs": [],
   "source": [
    "if permiso:\n",
    "    ejecutar(\"ME3N\")\n",
    "    robot.moveTo(78,197)\n",
    "    robot.click(clicks=1)\n",
    "    time.sleep(2)\n",
    "    robot.typewrite(\"CONTRATO\")\n",
    "    robot.moveTo(845,748)\n",
    "    robot.click(clicks=1)\n",
    "    time.sleep(2)\n",
    "    robot.moveTo(114,200)\n",
    "    robot.click(clicks=1)\n",
    "    time.sleep(2)\n",
    "    robot.moveTo(1100,308)\n",
    "    robot.click(clicks=1)\n",
    "    time.sleep(2)\n",
    "    robot.typewrite(hoy)\n",
    "    time.sleep(2)\n",
    "    robot.moveTo(38,198)\n",
    "    robot.click(clicks=1)"
   ]
  },
  {
   "cell_type": "code",
   "execution_count": 74,
   "id": "6a355c40",
   "metadata": {},
   "outputs": [],
   "source": [
    "#robot.click(button=\"right\")\n",
    "#robot.KEYBOARD_KEYS"
   ]
  },
  {
   "cell_type": "code",
   "execution_count": null,
   "id": "aad249c2",
   "metadata": {},
   "outputs": [],
   "source": []
  },
  {
   "cell_type": "code",
   "execution_count": null,
   "id": "6edaf5aa",
   "metadata": {},
   "outputs": [],
   "source": []
  }
 ],
 "metadata": {
  "hide_input": false,
  "kernelspec": {
   "display_name": "Python 3 (ipykernel)",
   "language": "python",
   "name": "python3"
  },
  "language_info": {
   "codemirror_mode": {
    "name": "ipython",
    "version": 3
   },
   "file_extension": ".py",
   "mimetype": "text/x-python",
   "name": "python",
   "nbconvert_exporter": "python",
   "pygments_lexer": "ipython3",
   "version": "3.10.4"
  },
  "toc": {
   "base_numbering": 1,
   "nav_menu": {},
   "number_sections": true,
   "sideBar": true,
   "skip_h1_title": false,
   "title_cell": "Table of Contents",
   "title_sidebar": "Contents",
   "toc_cell": false,
   "toc_position": {},
   "toc_section_display": true,
   "toc_window_display": false
  }
 },
 "nbformat": 4,
 "nbformat_minor": 5
}
