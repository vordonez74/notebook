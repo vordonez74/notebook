{
 "cells": [
  {
   "cell_type": "markdown",
   "id": "98d47140",
   "metadata": {},
   "source": [
    "# PyAutoGUI\n",
    "## Automatización robótica de procesos\n",
    "Una automatización robótica de procesos, o RPA, es una forma naciente de automatización de los procesos de negocio que replica las acciones de un ser humano interactuando con la interfaz de usuario de un sistema informático"
   ]
  },
  {
   "cell_type": "code",
   "execution_count": null,
   "id": "3b8880b5",
   "metadata": {},
   "outputs": [],
   "source": [
    "#import selenium"
   ]
  },
  {
   "cell_type": "code",
   "execution_count": null,
   "id": "c56ce1f6",
   "metadata": {},
   "outputs": [],
   "source": [
    "import requests"
   ]
  },
  {
   "cell_type": "markdown",
   "id": "ee05125d",
   "metadata": {},
   "source": [
    "# https://github.com/tebelorg/RPA-Python\n",
    "# https://recursospython.com/guias-y-manuales/pyautogui/"
   ]
  },
  {
   "cell_type": "markdown",
   "id": "5ab53e37",
   "metadata": {},
   "source": [
    "## Descarga automática de reportes de SAP con pyautogui"
   ]
  },
  {
   "cell_type": "code",
   "execution_count": 1,
   "id": "bba66970",
   "metadata": {},
   "outputs": [],
   "source": [
    "import pyautogui as robot\n",
    "import time\n",
    "from datetime import date\n",
    "\n",
    "today = date.today()\n",
    "\n",
    "if today.month<10:\n",
    "    if today.day<10:\n",
    "        hoy = '0'+str(today.day)+'.0'+str(today.month)+'.'+str(today.year)\n",
    "    else:\n",
    "        hoy = str(today.day)+'.0'+str(today.month)+'.'+str(today.year)\n",
    "else:\n",
    "    if today.day<10:\n",
    "        hoy = '0'+str(today.day)+'.'+str(today.month)+'.'+str(today.year)\n",
    "    else:\n",
    "        hoy = str(today.day)+'.'+str(today.month)+'.'+str(today.year)\n",
    "\n",
    "def minimizar():\n",
    "    robot.moveTo(1775,17)\n",
    "    robot.click(clicks=1)\n",
    "    time.sleep(2)\n",
    "    \n",
    "def ejecutar(tx):\n",
    "    robot.moveTo(86,86)\n",
    "    robot.click(clicks=1)\n",
    "    robot.typewrite(tx)\n",
    "    robot.hotkey(\"enter\")\n",
    "    time.sleep(2)\n",
    "    \n",
    "def traerVariante(var):\n",
    "    time.sleep(2)\n",
    "    robot.moveTo(78,197)\n",
    "    robot.click(clicks=1)\n",
    "    time.sleep(2)\n",
    "    robot.typewrite(var)\n",
    "    robot.moveTo(845,748)\n",
    "    robot.click(clicks=1)\n",
    "    time.sleep(2)\n",
    "    robot.moveTo(38,198)\n",
    "    robot.click(clicks=1)\n",
    "    time.sleep(2)"
   ]
  },
  {
   "cell_type": "code",
   "execution_count": 2,
   "id": "c1f98919",
   "metadata": {},
   "outputs": [],
   "source": [
    "a = input(\"¿Confirma la ejecución del robot? s/n \")\n",
    "\n",
    "if(a.upper() == 'S'):\n",
    "    #Carga 5 modos mas\n",
    "    robot.moveTo(816,87)\n",
    "    for i in range(0,5):\n",
    "        robot.click(clicks=1)\n",
    "        time.sleep(4)\n",
    "    time.sleep(2)\n",
    "    #Ejecuta 6 tx\n",
    "    ejecutar(\"ZMM_SOLPED\")\n",
    "    traerVariante(\"GLOBAL\")\n",
    "    minimizar()\n",
    "    ejecutar(\"MB25\")\n",
    "    traerVariante(\"GLOBAL\")\n",
    "    minimizar()\n",
    "    ejecutar(\"ZMM_MATERIALES\")\n",
    "    traerVariante(\"GLOBAL\")\n",
    "    minimizar()\n",
    "    ejecutar(\"ME2N\")\n",
    "    traerVariante(\"GLOBAL\")\n",
    "    minimizar()\n",
    "    ##################\n",
    "    # MB51\n",
    "    ejecutar(\"MB51\")\n",
    "    robot.moveTo(78,197)\n",
    "    robot.click(clicks=1)\n",
    "    time.sleep(2)\n",
    "    robot.typewrite(\"GLOBAL_B\")\n",
    "    robot.moveTo(845,748)\n",
    "    robot.click(clicks=1)\n",
    "    time.sleep(2)\n",
    "    robot.hotkey('pagedown')\n",
    "    time.sleep(1)\n",
    "    robot.moveTo(799,434)\n",
    "    robot.click(clicks=1)\n",
    "    robot.typewrite(hoy)\n",
    "    time.sleep(2)\n",
    "    robot.moveTo(38,198)\n",
    "    robot.click(clicks=1)    \n",
    "    ##################\n",
    "    # CONTRATOS\n",
    "    minimizar()\n",
    "    ejecutar(\"ME3N\")\n",
    "    robot.moveTo(78,197)\n",
    "    robot.click(clicks=1)\n",
    "    time.sleep(2)\n",
    "    robot.typewrite(\"CONTRATO\")\n",
    "    robot.moveTo(845,748)\n",
    "    robot.click(clicks=1)\n",
    "    time.sleep(2)\n",
    "    robot.moveTo(114,200)\n",
    "    robot.click(clicks=1)\n",
    "    time.sleep(8)\n",
    "    robot.moveTo(1100,308)\n",
    "    robot.click(clicks=1)\n",
    "    time.sleep(3)\n",
    "    robot.typewrite(hoy)\n",
    "    time.sleep(2)\n",
    "    robot.moveTo(38,198)\n",
    "    robot.click(clicks=1)"
   ]
  },
  {
   "cell_type": "code",
   "execution_count": null,
   "id": "9c7b541a",
   "metadata": {},
   "outputs": [],
   "source": []
  },
  {
   "cell_type": "code",
   "execution_count": null,
   "id": "6a355c40",
   "metadata": {},
   "outputs": [],
   "source": [
    "#robot.click(button=\"right\")\n",
    "#robot.KEYBOARD_KEYS"
   ]
  },
  {
   "cell_type": "code",
   "execution_count": null,
   "id": "5728dff8",
   "metadata": {},
   "outputs": [],
   "source": [
    "robot.KEYBOARD_KEYS"
   ]
  },
  {
   "cell_type": "code",
   "execution_count": null,
   "id": "94016e54",
   "metadata": {},
   "outputs": [],
   "source": []
  }
 ],
 "metadata": {
  "hide_input": false,
  "kernelspec": {
   "display_name": "Python 3 (ipykernel)",
   "language": "python",
   "name": "python3"
  },
  "language_info": {
   "codemirror_mode": {
    "name": "ipython",
    "version": 3
   },
   "file_extension": ".py",
   "mimetype": "text/x-python",
   "name": "python",
   "nbconvert_exporter": "python",
   "pygments_lexer": "ipython3",
   "version": "3.10.5"
  },
  "toc": {
   "base_numbering": 1,
   "nav_menu": {},
   "number_sections": true,
   "sideBar": true,
   "skip_h1_title": false,
   "title_cell": "Table of Contents",
   "title_sidebar": "Contents",
   "toc_cell": false,
   "toc_position": {},
   "toc_section_display": true,
   "toc_window_display": false
  }
 },
 "nbformat": 4,
 "nbformat_minor": 5
}
