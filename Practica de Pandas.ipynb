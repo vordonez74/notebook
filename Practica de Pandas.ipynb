{
 "cells": [
  {
   "cell_type": "markdown",
   "id": "0ac4d07b",
   "metadata": {},
   "source": [
    "# Pandas\n",
    "[Tutorial](https://www.youtube.com/watch?v=8ASjvOIyyl8)\n",
    "[Tutorial2](https://www.youtube.com/watch?v=zAIWnwqHGok)"
   ]
  },
  {
   "cell_type": "code",
   "execution_count": 1,
   "id": "966d4df5",
   "metadata": {},
   "outputs": [],
   "source": [
    "import pandas as pd\n",
    "import numpy as np"
   ]
  },
  {
   "cell_type": "markdown",
   "id": "1645d182",
   "metadata": {},
   "source": [
    "## 1 Creando un dataFrame usando arrays"
   ]
  },
  {
   "cell_type": "code",
   "execution_count": 2,
   "id": "0014e63c",
   "metadata": {},
   "outputs": [],
   "source": [
    "data = np.array([[1,4],[55,2],[25,25],[10,5]])"
   ]
  },
  {
   "cell_type": "code",
   "execution_count": 3,
   "id": "a5d73056",
   "metadata": {},
   "outputs": [
    {
     "data": {
      "text/plain": [
       "array([[ 1,  4],\n",
       "       [55,  2],\n",
       "       [25, 25],\n",
       "       [10,  5]])"
      ]
     },
     "execution_count": 3,
     "metadata": {},
     "output_type": "execute_result"
    }
   ],
   "source": [
    "data"
   ]
  },
  {
   "cell_type": "code",
   "execution_count": 7,
   "id": "d286eec1",
   "metadata": {},
   "outputs": [
    {
     "data": {
      "text/html": [
       "<div>\n",
       "<style scoped>\n",
       "    .dataframe tbody tr th:only-of-type {\n",
       "        vertical-align: middle;\n",
       "    }\n",
       "\n",
       "    .dataframe tbody tr th {\n",
       "        vertical-align: top;\n",
       "    }\n",
       "\n",
       "    .dataframe thead th {\n",
       "        text-align: right;\n",
       "    }\n",
       "</style>\n",
       "<table border=\"1\" class=\"dataframe\">\n",
       "  <thead>\n",
       "    <tr style=\"text-align: right;\">\n",
       "      <th></th>\n",
       "      <th>col1</th>\n",
       "      <th>col2</th>\n",
       "    </tr>\n",
       "  </thead>\n",
       "  <tbody>\n",
       "    <tr>\n",
       "      <th>row1</th>\n",
       "      <td>1</td>\n",
       "      <td>4</td>\n",
       "    </tr>\n",
       "    <tr>\n",
       "      <th>row2</th>\n",
       "      <td>55</td>\n",
       "      <td>2</td>\n",
       "    </tr>\n",
       "    <tr>\n",
       "      <th>row3</th>\n",
       "      <td>25</td>\n",
       "      <td>25</td>\n",
       "    </tr>\n",
       "    <tr>\n",
       "      <th>row4</th>\n",
       "      <td>10</td>\n",
       "      <td>5</td>\n",
       "    </tr>\n",
       "  </tbody>\n",
       "</table>\n",
       "</div>"
      ],
      "text/plain": [
       "      col1  col2\n",
       "row1     1     4\n",
       "row2    55     2\n",
       "row3    25    25\n",
       "row4    10     5"
      ]
     },
     "execution_count": 7,
     "metadata": {},
     "output_type": "execute_result"
    }
   ],
   "source": [
    "pd.DataFrame(data, index=['row1','row2','row3','row4'],\n",
    "            columns=['col1','col2'])"
   ]
  },
  {
   "cell_type": "markdown",
   "id": "747d9916",
   "metadata": {},
   "source": [
    "## Creando dataFrame desde diccionarios"
   ]
  },
  {
   "cell_type": "code",
   "execution_count": 8,
   "id": "1bd3504e",
   "metadata": {},
   "outputs": [],
   "source": [
    "states = ['California','Texas','Florida','New York']\n",
    "population = [39613493,29730311,21944577,19299981]"
   ]
  },
  {
   "cell_type": "code",
   "execution_count": 9,
   "id": "aeec552f",
   "metadata": {},
   "outputs": [],
   "source": [
    "dic_states = {'States':states, 'Population':population}"
   ]
  },
  {
   "cell_type": "code",
   "execution_count": 10,
   "id": "62354d41",
   "metadata": {},
   "outputs": [
    {
     "data": {
      "text/plain": [
       "{'States': ['California', 'Texas', 'Florida', 'New York'],\n",
       " 'Population': [39613493, 29730311, 21944577, 19299981]}"
      ]
     },
     "execution_count": 10,
     "metadata": {},
     "output_type": "execute_result"
    }
   ],
   "source": [
    "dic_states"
   ]
  },
  {
   "cell_type": "code",
   "execution_count": 11,
   "id": "7e05a997",
   "metadata": {},
   "outputs": [],
   "source": [
    "df = pd.DataFrame(dic_states)"
   ]
  },
  {
   "cell_type": "code",
   "execution_count": 12,
   "id": "8977aae3",
   "metadata": {},
   "outputs": [
    {
     "data": {
      "text/html": [
       "<div>\n",
       "<style scoped>\n",
       "    .dataframe tbody tr th:only-of-type {\n",
       "        vertical-align: middle;\n",
       "    }\n",
       "\n",
       "    .dataframe tbody tr th {\n",
       "        vertical-align: top;\n",
       "    }\n",
       "\n",
       "    .dataframe thead th {\n",
       "        text-align: right;\n",
       "    }\n",
       "</style>\n",
       "<table border=\"1\" class=\"dataframe\">\n",
       "  <thead>\n",
       "    <tr style=\"text-align: right;\">\n",
       "      <th></th>\n",
       "      <th>States</th>\n",
       "      <th>Population</th>\n",
       "    </tr>\n",
       "  </thead>\n",
       "  <tbody>\n",
       "    <tr>\n",
       "      <th>0</th>\n",
       "      <td>California</td>\n",
       "      <td>39613493</td>\n",
       "    </tr>\n",
       "    <tr>\n",
       "      <th>1</th>\n",
       "      <td>Texas</td>\n",
       "      <td>29730311</td>\n",
       "    </tr>\n",
       "    <tr>\n",
       "      <th>2</th>\n",
       "      <td>Florida</td>\n",
       "      <td>21944577</td>\n",
       "    </tr>\n",
       "    <tr>\n",
       "      <th>3</th>\n",
       "      <td>New York</td>\n",
       "      <td>19299981</td>\n",
       "    </tr>\n",
       "  </tbody>\n",
       "</table>\n",
       "</div>"
      ],
      "text/plain": [
       "       States  Population\n",
       "0  California    39613493\n",
       "1       Texas    29730311\n",
       "2     Florida    21944577\n",
       "3    New York    19299981"
      ]
     },
     "execution_count": 12,
     "metadata": {},
     "output_type": "execute_result"
    }
   ],
   "source": [
    "df"
   ]
  },
  {
   "cell_type": "markdown",
   "id": "7eec9a27",
   "metadata": {},
   "source": [
    "## Crear un dataFrame desde un archivo excel"
   ]
  },
  {
   "cell_type": "code",
   "execution_count": null,
   "id": "ce58740b",
   "metadata": {},
   "outputs": [],
   "source": [
    "import time\n",
    "start = time.time()\n",
    "mat = pd.read_excel(\"C:/Users/ordonez/Documents/SAP/SAP GUI/M.xlsx\")\n",
    "end = time.time()\n",
    "print(f\"Para importar los datos SAP se tardó {end - start} segundos\")"
   ]
  },
  {
   "cell_type": "code",
   "execution_count": null,
   "id": "a1987ae4",
   "metadata": {},
   "outputs": [],
   "source": [
    "display(mat)"
   ]
  },
  {
   "cell_type": "code",
   "execution_count": null,
   "id": "2b13707e",
   "metadata": {},
   "outputs": [],
   "source": [
    "mat.columns"
   ]
  },
  {
   "cell_type": "code",
   "execution_count": null,
   "id": "5bb784ec",
   "metadata": {},
   "outputs": [],
   "source": [
    "mat.dtypes"
   ]
  },
  {
   "cell_type": "code",
   "execution_count": null,
   "id": "dd244614",
   "metadata": {},
   "outputs": [],
   "source": [
    "materiales.info()"
   ]
  },
  {
   "cell_type": "code",
   "execution_count": null,
   "id": "2cf0c996",
   "metadata": {},
   "outputs": [],
   "source": [
    "mat.describe()"
   ]
  },
  {
   "cell_type": "markdown",
   "id": "72323629",
   "metadata": {},
   "source": [
    "## Borrar los materiales de los almacenes 1140 y 1142 del centro 1002"
   ]
  },
  {
   "cell_type": "code",
   "execution_count": null,
   "id": "e87697da",
   "metadata": {},
   "outputs": [],
   "source": [
    "indexABorrar = materiales[(materiales['Ce.']==1002) & (materiales['Almacén'].isin(['1141','1140']))].index\n",
    "materiales.drop(indexABorrar, inplace=True)"
   ]
  },
  {
   "cell_type": "markdown",
   "id": "dd35da0b",
   "metadata": {},
   "source": [
    "## Creamos el id_mat"
   ]
  },
  {
   "cell_type": "code",
   "execution_count": null,
   "id": "0ba9082d",
   "metadata": {},
   "outputs": [],
   "source": [
    "mat[\"id_mat\"] = mat[\"Almacén\"] + mat[\"Material\"].astype(str)\n",
    "mat.set_index('id_mat', inplace=True)"
   ]
  },
  {
   "cell_type": "markdown",
   "id": "ac7545c0",
   "metadata": {},
   "source": [
    "## Filtrados de columnas"
   ]
  },
  {
   "cell_type": "code",
   "execution_count": null,
   "id": "9ea1342e",
   "metadata": {},
   "outputs": [],
   "source": [
    "mat[\"Material\"]"
   ]
  },
  {
   "cell_type": "code",
   "execution_count": null,
   "id": "c56b74cb",
   "metadata": {},
   "outputs": [],
   "source": [
    "mat[['Material','Almacén', 'PrMedioVar','Libre utiliz.']] # Paso una lista con los nom.de col."
   ]
  },
  {
   "cell_type": "markdown",
   "id": "2501c333",
   "metadata": {},
   "source": [
    "## Filtrado de filas"
   ]
  },
  {
   "cell_type": "code",
   "execution_count": null,
   "id": "7a5a5a59",
   "metadata": {},
   "outputs": [],
   "source": [
    "mat.iloc[0]"
   ]
  },
  {
   "cell_type": "code",
   "execution_count": null,
   "id": "955cade3",
   "metadata": {},
   "outputs": [],
   "source": [
    "mat.iloc[0:3]"
   ]
  },
  {
   "cell_type": "code",
   "execution_count": null,
   "id": "ea6cfd83",
   "metadata": {},
   "outputs": [],
   "source": [
    "mat.loc[['11261004756','11261001167','11281061933']]"
   ]
  },
  {
   "cell_type": "code",
   "execution_count": null,
   "id": "6eb9ba89",
   "metadata": {},
   "outputs": [],
   "source": [
    "mat.loc[['11261004756','11261001167','11281061933'],['Material','Almacén', 'PrMedioVar','Libre utiliz.']]"
   ]
  },
  {
   "cell_type": "code",
   "execution_count": null,
   "id": "c90636a9",
   "metadata": {},
   "outputs": [],
   "source": [
    "mat[(mat['PrMedioVar']<10000) & (mat['Almacén']=='1126')]"
   ]
  },
  {
   "cell_type": "code",
   "execution_count": null,
   "id": "cb0b511a",
   "metadata": {},
   "outputs": [],
   "source": [
    "mat.columns"
   ]
  },
  {
   "cell_type": "markdown",
   "id": "1000413d",
   "metadata": {},
   "source": [
    "## Busca si contiene una cadena de texto"
   ]
  },
  {
   "cell_type": "code",
   "execution_count": null,
   "id": "3b2e9b6e",
   "metadata": {},
   "outputs": [],
   "source": [
    "mat[mat['Texto breve de material'].str.contains('6206')]"
   ]
  },
  {
   "cell_type": "markdown",
   "id": "346d282b",
   "metadata": {},
   "source": [
    "## Para buscar por varios textos"
   ]
  },
  {
   "cell_type": "code",
   "execution_count": null,
   "id": "0103a79c",
   "metadata": {},
   "outputs": [],
   "source": [
    "columna = 'Texto breve de material'\n",
    "texto1 = 'JUNTA'\n",
    "texto2 = '1929'\n",
    "\n",
    "dfBusqueda2 = materiales[(materiales[columna].str.contains(texto1,case=False)) & (materiales[columna].str.contains(texto2,case=False))][['Material','Texto breve de material','Ce.','Almacén','Grupo de artículos', 'GCp']]\n",
    "dfBusqueda2.to_excel('C:/Users/ordonez/Documents/SAP/SAP GUI/busqueda2.xlsx')"
   ]
  },
  {
   "cell_type": "markdown",
   "id": "60856c62",
   "metadata": {},
   "source": [
    "## Apply"
   ]
  },
  {
   "cell_type": "code",
   "execution_count": null,
   "id": "131c4b03",
   "metadata": {},
   "outputs": [],
   "source": [
    "import random\n",
    "def stockCero(stock):\n",
    "    resultado = stock == 0.0\n",
    "    return resultado\n",
    "\n",
    "mat[\"stockCero\"] = mat['Libre utiliz.'].apply(stockCero)\n",
    "mat.head(10)"
   ]
  },
  {
   "cell_type": "code",
   "execution_count": null,
   "id": "f9f937f5",
   "metadata": {},
   "outputs": [],
   "source": [
    "def calculoValor(fila):\n",
    "    resultado = fila['Libre utiliz.'] * fila['PrMedioVar']\n",
    "    return resultado\n",
    "\n",
    "mat['valor'] = mat.apply(calculoValor, axis=1)"
   ]
  },
  {
   "cell_type": "code",
   "execution_count": null,
   "id": "e277a024",
   "metadata": {},
   "outputs": [],
   "source": [
    "mat[['Material','Libre utiliz.','PrMedioVar','valor']].head()"
   ]
  },
  {
   "cell_type": "markdown",
   "id": "36442a23",
   "metadata": {},
   "source": [
    "## Agrupación de datos"
   ]
  },
  {
   "cell_type": "code",
   "execution_count": null,
   "id": "9b967d11",
   "metadata": {},
   "outputs": [],
   "source": [
    "mat.groupby(\"Almacén\").mean()"
   ]
  },
  {
   "cell_type": "code",
   "execution_count": null,
   "id": "b960733e",
   "metadata": {},
   "outputs": [],
   "source": [
    "agrupado = mat.groupby(\"Almacén\").agg({\n",
    "    'Libre utiliz.': 'mean',\n",
    "    'PrMedioVar': 'max',\n",
    "    'PzE': 'min',\n",
    "    'Creado': 'max'\n",
    "})"
   ]
  },
  {
   "cell_type": "code",
   "execution_count": null,
   "id": "351b593b",
   "metadata": {},
   "outputs": [],
   "source": [
    "agrupado"
   ]
  },
  {
   "cell_type": "code",
   "execution_count": null,
   "id": "e6d442c9",
   "metadata": {},
   "outputs": [],
   "source": [
    "agrupado['PrMedioVar'].plot(kind='bar')"
   ]
  },
  {
   "cell_type": "code",
   "execution_count": null,
   "id": "94ee6622",
   "metadata": {},
   "outputs": [],
   "source": [
    "mat.plot(kind='scatter',x='PzE',y='Stock máximo')"
   ]
  },
  {
   "cell_type": "code",
   "execution_count": null,
   "id": "4296c3d3",
   "metadata": {},
   "outputs": [],
   "source": [
    "mat.dtypes"
   ]
  },
  {
   "cell_type": "code",
   "execution_count": null,
   "id": "23ac8aae",
   "metadata": {},
   "outputs": [],
   "source": []
  }
 ],
 "metadata": {
  "kernelspec": {
   "display_name": "Python 3 (ipykernel)",
   "language": "python",
   "name": "python3"
  },
  "language_info": {
   "codemirror_mode": {
    "name": "ipython",
    "version": 3
   },
   "file_extension": ".py",
   "mimetype": "text/x-python",
   "name": "python",
   "nbconvert_exporter": "python",
   "pygments_lexer": "ipython3",
   "version": "3.10.2"
  }
 },
 "nbformat": 4,
 "nbformat_minor": 5
}
