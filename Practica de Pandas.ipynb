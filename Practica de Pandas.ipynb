{
 "cells": [
  {
   "cell_type": "markdown",
   "id": "0ac4d07b",
   "metadata": {},
   "source": [
    "# Pandas\n",
    "[Tutorial](https://www.youtube.com/watch?v=8ASjvOIyyl8)"
   ]
  },
  {
   "cell_type": "code",
   "execution_count": null,
   "id": "ce58740b",
   "metadata": {},
   "outputs": [],
   "source": [
    "import pandas as pd\n",
    "import time\n",
    "start = time.time()\n",
    "mat = pd.read_excel(\"C:/Users/ordonez/Documents/SAP/SAP GUI/M.xlsx\")\n",
    "end = time.time()\n",
    "print(f\"Para importar los datos SAP se tardó {end - start} segundos\")"
   ]
  },
  {
   "cell_type": "code",
   "execution_count": null,
   "id": "a1987ae4",
   "metadata": {},
   "outputs": [],
   "source": [
    "display(mat)"
   ]
  },
  {
   "cell_type": "code",
   "execution_count": null,
   "id": "2b13707e",
   "metadata": {},
   "outputs": [],
   "source": [
    "mat.columns"
   ]
  },
  {
   "cell_type": "code",
   "execution_count": null,
   "id": "5bb784ec",
   "metadata": {},
   "outputs": [],
   "source": [
    "mat.dtypes"
   ]
  },
  {
   "cell_type": "code",
   "execution_count": null,
   "id": "dd244614",
   "metadata": {},
   "outputs": [],
   "source": [
    "materiales.info()"
   ]
  },
  {
   "cell_type": "code",
   "execution_count": null,
   "id": "2cf0c996",
   "metadata": {},
   "outputs": [],
   "source": [
    "mat.describe()"
   ]
  },
  {
   "cell_type": "markdown",
   "id": "72323629",
   "metadata": {},
   "source": [
    "## Borrar los materiales de los almacenes 1140 y 1142 del centro 1002"
   ]
  },
  {
   "cell_type": "code",
   "execution_count": null,
   "id": "e87697da",
   "metadata": {},
   "outputs": [],
   "source": [
    "indexABorrar = materiales[(materiales['Ce.']==1002) & (materiales['Almacén'].isin(['1141','1140']))].index\n",
    "materiales.drop(indexABorrar, inplace=True)"
   ]
  },
  {
   "cell_type": "markdown",
   "id": "dd35da0b",
   "metadata": {},
   "source": [
    "## Creamos el id_mat"
   ]
  },
  {
   "cell_type": "code",
   "execution_count": null,
   "id": "0ba9082d",
   "metadata": {},
   "outputs": [],
   "source": [
    "mat[\"id_mat\"] = mat[\"Almacén\"] + mat[\"Material\"].astype(str)\n",
    "mat.set_index('id_mat', inplace=True)"
   ]
  },
  {
   "cell_type": "markdown",
   "id": "ac7545c0",
   "metadata": {},
   "source": [
    "## Filtrados de columnas"
   ]
  },
  {
   "cell_type": "code",
   "execution_count": null,
   "id": "9ea1342e",
   "metadata": {},
   "outputs": [],
   "source": [
    "mat[\"Material\"]"
   ]
  },
  {
   "cell_type": "code",
   "execution_count": null,
   "id": "c56b74cb",
   "metadata": {},
   "outputs": [],
   "source": [
    "mat[['Material','Almacén', 'PrMedioVar','Libre utiliz.']] # Paso una lista con los nom.de col."
   ]
  },
  {
   "cell_type": "markdown",
   "id": "2501c333",
   "metadata": {},
   "source": [
    "## Filtrado de filas"
   ]
  },
  {
   "cell_type": "code",
   "execution_count": null,
   "id": "7a5a5a59",
   "metadata": {},
   "outputs": [],
   "source": [
    "mat.iloc[0]"
   ]
  },
  {
   "cell_type": "code",
   "execution_count": null,
   "id": "955cade3",
   "metadata": {},
   "outputs": [],
   "source": [
    "mat.iloc[0:3]"
   ]
  },
  {
   "cell_type": "code",
   "execution_count": null,
   "id": "ea6cfd83",
   "metadata": {},
   "outputs": [],
   "source": [
    "mat.loc[['11261004756','11261001167','11281061933']]"
   ]
  },
  {
   "cell_type": "code",
   "execution_count": null,
   "id": "6eb9ba89",
   "metadata": {},
   "outputs": [],
   "source": [
    "mat.loc[['11261004756','11261001167','11281061933'],['Material','Almacén', 'PrMedioVar','Libre utiliz.']]"
   ]
  },
  {
   "cell_type": "code",
   "execution_count": null,
   "id": "c90636a9",
   "metadata": {},
   "outputs": [],
   "source": [
    "mat[(mat['PrMedioVar']<10000) & (mat['Almacén']=='1126')]"
   ]
  },
  {
   "cell_type": "code",
   "execution_count": null,
   "id": "cb0b511a",
   "metadata": {},
   "outputs": [],
   "source": [
    "mat.columns"
   ]
  },
  {
   "cell_type": "markdown",
   "id": "1000413d",
   "metadata": {},
   "source": [
    "## Busca si contiene una cadena de texto"
   ]
  },
  {
   "cell_type": "code",
   "execution_count": null,
   "id": "3b2e9b6e",
   "metadata": {},
   "outputs": [],
   "source": [
    "mat[mat['Texto breve de material'].str.contains('6206')]"
   ]
  },
  {
   "cell_type": "markdown",
   "id": "346d282b",
   "metadata": {},
   "source": [
    "## Para buscar por varios textos"
   ]
  },
  {
   "cell_type": "code",
   "execution_count": null,
   "id": "0103a79c",
   "metadata": {},
   "outputs": [],
   "source": [
    "columna = 'Texto breve de material'\n",
    "texto1 = 'JUNTA'\n",
    "texto2 = '1929'\n",
    "\n",
    "dfBusqueda2 = materiales[(materiales[columna].str.contains(texto1,case=False)) & (materiales[columna].str.contains(texto2,case=False))][['Material','Texto breve de material','Ce.','Almacén','Grupo de artículos', 'GCp']]\n",
    "dfBusqueda2.to_excel('C:/Users/ordonez/Documents/SAP/SAP GUI/busqueda2.xlsx')"
   ]
  },
  {
   "cell_type": "markdown",
   "id": "60856c62",
   "metadata": {},
   "source": [
    "## Apply"
   ]
  },
  {
   "cell_type": "code",
   "execution_count": null,
   "id": "131c4b03",
   "metadata": {},
   "outputs": [],
   "source": [
    "import random\n",
    "def stockCero(stock):\n",
    "    resultado = stock == 0.0\n",
    "    return resultado\n",
    "\n",
    "mat[\"stockCero\"] = mat['Libre utiliz.'].apply(stockCero)\n",
    "mat.head(10)"
   ]
  },
  {
   "cell_type": "code",
   "execution_count": null,
   "id": "f9f937f5",
   "metadata": {},
   "outputs": [],
   "source": [
    "def calculoValor(fila):\n",
    "    resultado = fila['Libre utiliz.'] * fila['PrMedioVar']\n",
    "    return resultado\n",
    "\n",
    "mat['valor'] = mat.apply(calculoValor, axis=1)"
   ]
  },
  {
   "cell_type": "code",
   "execution_count": null,
   "id": "e277a024",
   "metadata": {},
   "outputs": [],
   "source": [
    "mat[['Material','Libre utiliz.','PrMedioVar','valor']].head()"
   ]
  },
  {
   "cell_type": "markdown",
   "id": "36442a23",
   "metadata": {},
   "source": [
    "## Agrupación de datos"
   ]
  },
  {
   "cell_type": "code",
   "execution_count": null,
   "id": "9b967d11",
   "metadata": {},
   "outputs": [],
   "source": [
    "mat.groupby(\"Almacén\").mean()"
   ]
  },
  {
   "cell_type": "code",
   "execution_count": null,
   "id": "b960733e",
   "metadata": {},
   "outputs": [],
   "source": [
    "agrupado = mat.groupby(\"Almacén\").agg({\n",
    "    'Libre utiliz.': 'mean',\n",
    "    'PrMedioVar': 'max',\n",
    "    'PzE': 'min',\n",
    "    'Creado': 'max'\n",
    "})"
   ]
  },
  {
   "cell_type": "code",
   "execution_count": null,
   "id": "351b593b",
   "metadata": {},
   "outputs": [],
   "source": [
    "agrupado"
   ]
  },
  {
   "cell_type": "code",
   "execution_count": null,
   "id": "e6d442c9",
   "metadata": {},
   "outputs": [],
   "source": [
    "agrupado['PrMedioVar'].plot(kind='bar')"
   ]
  },
  {
   "cell_type": "code",
   "execution_count": null,
   "id": "94ee6622",
   "metadata": {},
   "outputs": [],
   "source": [
    "mat.plot(kind='scatter',x='PzE',y='Stock máximo')"
   ]
  },
  {
   "cell_type": "code",
   "execution_count": null,
   "id": "4296c3d3",
   "metadata": {},
   "outputs": [],
   "source": [
    "mat.dtypes"
   ]
  },
  {
   "cell_type": "code",
   "execution_count": null,
   "id": "23ac8aae",
   "metadata": {},
   "outputs": [],
   "source": []
  }
 ],
 "metadata": {
  "kernelspec": {
   "display_name": "Python 3 (ipykernel)",
   "language": "python",
   "name": "python3"
  },
  "language_info": {
   "codemirror_mode": {
    "name": "ipython",
    "version": 3
   },
   "file_extension": ".py",
   "mimetype": "text/x-python",
   "name": "python",
   "nbconvert_exporter": "python",
   "pygments_lexer": "ipython3",
   "version": "3.10.2"
  }
 },
 "nbformat": 4,
 "nbformat_minor": 5
}
