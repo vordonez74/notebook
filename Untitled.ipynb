{
 "cells": [
  {
   "cell_type": "code",
   "execution_count": null,
   "id": "5223bc6b",
   "metadata": {},
   "outputs": [],
   "source": [
    "import numpy as np"
   ]
  },
  {
   "cell_type": "code",
   "execution_count": 49,
   "id": "4daf0eb9",
   "metadata": {},
   "outputs": [
    {
     "name": "stdout",
     "output_type": "stream",
     "text": [
      "10\n",
      "20\n",
      "30\n",
      "40\n",
      "55\n",
      "Detener la carga del programa\n"
     ]
    }
   ],
   "source": [
    "class ContiguaSimple:\n",
    "    memoria = [0,1,2,3,4,5,6,7,8,9]\n",
    "    def __init__(self,base, limite, programa):\n",
    "        if base>=0 and base<=9 and limite<=9 and limite>=0 and base<=limite and programa.size<10:\n",
    "            self.base = base\n",
    "            self.limite = base + limite\n",
    "            self.contador = base\n",
    "            j = 0\n",
    "            for i in range(base,self.limite):\n",
    "                self.memoria[i]=programa[j]\n",
    "                j = j+1\n",
    "        else:\n",
    "            self.base = 0\n",
    "            self.limite = 0\n",
    "            print(\"Error en la carga\")\n",
    "    def ejecutar(self):\n",
    "        while(True):\n",
    "            print(self.memoria[self.contador])\n",
    "            self.contador = self.contador + 1\n",
    "            if self.contador == self.limite:\n",
    "                print(\"Detener la carga del programa\")\n",
    "                break;\n",
    "            else:\n",
    "                if self.contador>self.limite:\n",
    "                    print(\"Detener la carga del programa\")\n",
    "                    break;\n",
    "\n",
    "programa = np.array([10,20,30,40,55])\n",
    "\n",
    "cs = ContiguaSimple(3,programa.size,programa)\n",
    "cs.ejecutar()"
   ]
  },
  {
   "cell_type": "code",
   "execution_count": 45,
   "id": "e08f6d66",
   "metadata": {},
   "outputs": [
    {
     "name": "stdout",
     "output_type": "stream",
     "text": [
      "3\n",
      "4\n",
      "5\n",
      "6\n",
      "7\n"
     ]
    }
   ],
   "source": [
    "for i in range(3,8):\n",
    "    print(i)"
   ]
  },
  {
   "cell_type": "code",
   "execution_count": 43,
   "id": "06fa09ff",
   "metadata": {},
   "outputs": [
    {
     "data": {
      "text/plain": [
       "range(3, 5)"
      ]
     },
     "execution_count": 43,
     "metadata": {},
     "output_type": "execute_result"
    }
   ],
   "source": [
    "rango"
   ]
  },
  {
   "cell_type": "markdown",
   "id": "2f4494e7",
   "metadata": {},
   "source": [
    "$t_a$"
   ]
  },
  {
   "cell_type": "code",
   "execution_count": null,
   "id": "c5029e6c",
   "metadata": {},
   "outputs": [],
   "source": []
  }
 ],
 "metadata": {
  "hide_input": false,
  "kernelspec": {
   "display_name": "Python 3 (ipykernel)",
   "language": "python",
   "name": "python3"
  },
  "language_info": {
   "codemirror_mode": {
    "name": "ipython",
    "version": 3
   },
   "file_extension": ".py",
   "mimetype": "text/x-python",
   "name": "python",
   "nbconvert_exporter": "python",
   "pygments_lexer": "ipython3",
   "version": "3.10.4"
  },
  "toc": {
   "base_numbering": 1,
   "nav_menu": {},
   "number_sections": true,
   "sideBar": true,
   "skip_h1_title": false,
   "title_cell": "Table of Contents",
   "title_sidebar": "Contents",
   "toc_cell": false,
   "toc_position": {},
   "toc_section_display": true,
   "toc_window_display": false
  }
 },
 "nbformat": 4,
 "nbformat_minor": 5
}
