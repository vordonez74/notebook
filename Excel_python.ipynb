{
 "cells": [
  {
   "cell_type": "markdown",
   "id": "e0148b24",
   "metadata": {},
   "source": [
    "[Automatizar Excel con Python](https://www.youtube.com/watch?v=JL9RMCS4Sho)"
   ]
  },
  {
   "cell_type": "code",
   "execution_count": null,
   "id": "39467917",
   "metadata": {},
   "outputs": [],
   "source": [
    "import pandas as pd\n",
    "import time\n",
    "\n",
    "start = time.time()\n",
    "columnas = [0,1,2,3,4,6,7,8]\n",
    "\n",
    "df = pd.read_excel(\"ConsumosMicro.xlsx\",\n",
    "                  sheet_name = \"ConsumosMicro\",\n",
    "                  header = 0,\n",
    "                  usecols = columnas)\n",
    "\n",
    "end = time.time()\n",
    "print(f\"Se tardo {(end - start)/60:.2f} minutos en cargar {len(df)} registros.\")\n",
    "\n",
    "print(df.shape)\n",
    "print(df.columns)"
   ]
  },
  {
   "cell_type": "code",
   "execution_count": null,
   "id": "dfec8ad3",
   "metadata": {},
   "outputs": [],
   "source": [
    "display(df)"
   ]
  },
  {
   "cell_type": "code",
   "execution_count": null,
   "id": "1816c9ac",
   "metadata": {},
   "outputs": [],
   "source": [
    "df.dtypes"
   ]
  },
  {
   "cell_type": "code",
   "execution_count": null,
   "id": "2e55ed9c",
   "metadata": {},
   "outputs": [],
   "source": []
  }
 ],
 "metadata": {
  "kernelspec": {
   "display_name": "Python 3 (ipykernel)",
   "language": "python",
   "name": "python3"
  },
  "language_info": {
   "codemirror_mode": {
    "name": "ipython",
    "version": 3
   },
   "file_extension": ".py",
   "mimetype": "text/x-python",
   "name": "python",
   "nbconvert_exporter": "python",
   "pygments_lexer": "ipython3",
   "version": "3.10.2"
  }
 },
 "nbformat": 4,
 "nbformat_minor": 5
}
