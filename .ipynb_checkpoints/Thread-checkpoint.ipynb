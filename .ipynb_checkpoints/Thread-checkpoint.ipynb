{
 "cells": [
  {
   "cell_type": "markdown",
   "id": "7ffee6d9",
   "metadata": {},
   "source": [
    "# Pool de threads"
   ]
  },
  {
   "cell_type": "code",
   "execution_count": 2,
   "id": "d019d6f8",
   "metadata": {},
   "outputs": [],
   "source": [
    "import time\n",
    "import logging\n",
    "from concurrent.futures import ThreadPoolExecutor"
   ]
  },
  {
   "cell_type": "code",
   "execution_count": 6,
   "id": "85b9410d",
   "metadata": {},
   "outputs": [],
   "source": [
    "logging.basicConfig(level=logging.DEBUG, format='%(threadName)s: %(message)s')"
   ]
  },
  {
   "cell_type": "code",
   "execution_count": 8,
   "id": "1af7fb93",
   "metadata": {},
   "outputs": [
    {
     "name": "stderr",
     "output_type": "stream",
     "text": [
      "ThreadPoolExecutor-1_1: Terminamos la tarea compleja 3 - 4!!\n",
      "\n",
      "ThreadPoolExecutor-1_0: Terminamos la tarea compleja 1 - 2!!\n",
      "\n",
      "ThreadPoolExecutor-1_1: Terminamos la tarea compleja 5 - 6!!\n",
      "\n"
     ]
    }
   ],
   "source": [
    "def super_task(a,b):\n",
    "    time.sleep(1)\n",
    "    logging.info(f'Terminamos la tarea compleja {a} - {b}!!\\n')\n",
    "\n",
    "if __name__== '__main__':\n",
    "    executor = ThreadPoolExecutor(max_workers=2)\n",
    "    executor.submit(super_task,1,2)\n",
    "    executor.submit(super_task,3,4)\n",
    "    executor.submit(super_task,5,6)"
   ]
  },
  {
   "cell_type": "markdown",
   "id": "b18cbcdf",
   "metadata": {},
   "source": [
    "1. [programación concurrente](https://codigofacilito.com/articulos/programacion-concurrente)\n",
    "2. [15 hilos](https://www.youtube.com/watch?v=3Rlh6uUuQqA)"
   ]
  },
  {
   "cell_type": "code",
   "execution_count": null,
   "id": "4c1a296f",
   "metadata": {},
   "outputs": [],
   "source": []
  }
 ],
 "metadata": {
  "hide_input": false,
  "kernelspec": {
   "display_name": "Python 3 (ipykernel)",
   "language": "python",
   "name": "python3"
  },
  "language_info": {
   "codemirror_mode": {
    "name": "ipython",
    "version": 3
   },
   "file_extension": ".py",
   "mimetype": "text/x-python",
   "name": "python",
   "nbconvert_exporter": "python",
   "pygments_lexer": "ipython3",
   "version": "3.10.4"
  },
  "toc": {
   "base_numbering": 1,
   "nav_menu": {},
   "number_sections": true,
   "sideBar": true,
   "skip_h1_title": false,
   "title_cell": "Table of Contents",
   "title_sidebar": "Contents",
   "toc_cell": false,
   "toc_position": {},
   "toc_section_display": true,
   "toc_window_display": false
  }
 },
 "nbformat": 4,
 "nbformat_minor": 5
}
