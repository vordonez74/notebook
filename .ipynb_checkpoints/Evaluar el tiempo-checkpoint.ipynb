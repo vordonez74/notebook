{
 "cells": [
  {
   "cell_type": "markdown",
   "id": "e4583496",
   "metadata": {},
   "source": [
    "# Evaluar la eficiencia del código"
   ]
  },
  {
   "cell_type": "code",
   "execution_count": null,
   "id": "d7a9162f",
   "metadata": {},
   "outputs": [],
   "source": [
    "import time\n",
    "\n",
    "start = time.time()\n",
    "\n",
    "# Nuestro código - Duerme 1/2 segundo\n",
    "time.sleep(0.5)\n",
    "\n",
    "end = time.time()\n",
    "\n",
    "print(end-start)"
   ]
  },
  {
   "cell_type": "markdown",
   "id": "5c1e4b8e",
   "metadata": {},
   "source": [
    "## Código más humano"
   ]
  },
  {
   "cell_type": "code",
   "execution_count": null,
   "id": "52cca51c",
   "metadata": {},
   "outputs": [],
   "source": [
    "from datetime import timedelta\n",
    "\n",
    "start = time.monotonic()\n",
    "\n",
    "#Nuestro código\n",
    "time.sleep(1)\n",
    "\n",
    "end = time.monotonic()\n",
    "\n",
    "print(timedelta(seconds = end - start))"
   ]
  },
  {
   "cell_type": "markdown",
   "id": "be691ef6",
   "metadata": {},
   "source": [
    "## Para comparar dos procesos"
   ]
  },
  {
   "cell_type": "code",
   "execution_count": null,
   "id": "24a1dc75",
   "metadata": {},
   "outputs": [],
   "source": [
    "import time\n",
    "\n",
    "start = time.time()\n",
    "\n",
    "\n",
    "time.sleep(0.5)\n",
    "\n",
    "end = time.time()\n",
    "\n",
    "start2 = time.time()\n",
    "\n",
    "time.sleep(0.6)\n",
    "\n",
    "end2 = time.time()\n",
    "\n",
    "print(end-start > end2 -start2)"
   ]
  },
  {
   "cell_type": "code",
   "execution_count": null,
   "id": "f8c94e06",
   "metadata": {},
   "outputs": [],
   "source": []
  }
 ],
 "metadata": {
  "kernelspec": {
   "display_name": "Python 3 (ipykernel)",
   "language": "python",
   "name": "python3"
  },
  "language_info": {
   "codemirror_mode": {
    "name": "ipython",
    "version": 3
   },
   "file_extension": ".py",
   "mimetype": "text/x-python",
   "name": "python",
   "nbconvert_exporter": "python",
   "pygments_lexer": "ipython3",
   "version": "3.10.2"
  }
 },
 "nbformat": 4,
 "nbformat_minor": 5
}
