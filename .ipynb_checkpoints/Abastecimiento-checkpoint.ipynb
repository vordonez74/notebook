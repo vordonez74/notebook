{
 "cells": [
  {
   "cell_type": "markdown",
   "id": "a939389d",
   "metadata": {},
   "source": [
    "# ABASTECIMENTO\n",
    "ver pyodbc"
   ]
  },
  {
   "cell_type": "markdown",
   "id": "00c5f7fd",
   "metadata": {},
   "source": [
    "## Importando datos"
   ]
  },
  {
   "cell_type": "code",
   "execution_count": 1,
   "id": "affe6e1d",
   "metadata": {},
   "outputs": [
    {
     "name": "stdout",
     "output_type": "stream",
     "text": [
      "Se importo M (28191 registros/8.0944664478302 segundos)\n",
      "Se importo P (3611 registros/0.7726595401763916 segundos)\n",
      "Se importo B (21195 registros/2.05159854888916 segundos)\n",
      "Se importo R (1551 registros/0.3206298351287842 segundos)\n",
      "Se importo Z (798 registros/0.16108274459838867 segundos)\n",
      "Se importo S (2227 registros/0.414503812789917 segundos)\n",
      "Se importo C (2957 registros/0.7219216823577881 segundos)\n",
      "Se borraron los materiales de los almacenes 1140 y 1142 del centro 1002.\n",
      "Se creó id_mat\n"
     ]
    }
   ],
   "source": [
    "import pandas as pd\n",
    "import time\n",
    "start = time.time()\n",
    "materiales = pd.read_excel(\"C:/Users/ordonez/Documents/SAP/SAP GUI/M.xlsx\")\n",
    "end = time.time()\n",
    "print(f\"Se importo M ({len(materiales)} registros/{end - start} segundos)\")\n",
    "\n",
    "start = time.time()\n",
    "pedidos = pd.read_excel(\"C:/Users/ordonez/Documents/SAP/SAP GUI/P.xlsx\")\n",
    "end = time.time()\n",
    "print(f\"Se importo P ({len(pedidos)} registros/{end - start} segundos)\")\n",
    "\n",
    "start = time.time()\n",
    "bloq = pd.read_excel(\"C:/Users/ordonez/Documents/SAP/SAP GUI/B.xlsx\")\n",
    "end = time.time()\n",
    "print(f\"Se importo B ({len(bloq)} registros/{end - start} segundos)\")\n",
    "\n",
    "start = time.time()\n",
    "reservas = pd.read_excel(\"C:/Users/ordonez/Documents/SAP/SAP GUI/R.xlsx\")\n",
    "end = time.time()\n",
    "print(f\"Se importo R ({len(reservas)} registros/{end - start} segundos)\")\n",
    "\n",
    "start = time.time()\n",
    "zub = pd.read_excel(\"C:/Users/ordonez/Documents/SAP/SAP GUI/Z.xlsx\")\n",
    "end = time.time()\n",
    "print(f\"Se importo Z ({len(zub)} registros/{end - start} segundos)\")\n",
    "\n",
    "start = time.time()\n",
    "zor = pd.read_excel(\"C:/Users/ordonez/Documents/SAP/SAP GUI/S.xlsx\")\n",
    "end = time.time()\n",
    "print(f\"Se importo S ({len(zor)} registros/{end - start} segundos)\")\n",
    "\n",
    "start = time.time()\n",
    "contratos = pd.read_excel(\"C:/Users/ordonez/Documents/SAP/SAP GUI/C.xlsx\")\n",
    "end = time.time()\n",
    "print(f\"Se importo C ({len(contratos)} registros/{end - start} segundos)\")\n",
    "\n",
    "#start = time.time()\n",
    "##ConsumoMicro\n",
    "#end = time.time()\n",
    "#print(f\"Para importar los consumos se tardó {end - start} segundos\")\n",
    "\n",
    "#Borrar los materiales de los almacenes 1140 y 1142 del centro 1002\n",
    "indexABorrar = materiales[(materiales['Ce.']==1002) & (materiales['Almacén'].isin(['1141','1140']))].index\n",
    "materiales.drop(indexABorrar, inplace=True)\n",
    "print('Se borraron los materiales de los almacenes 1140 y 1142 del centro 1002.')\n",
    "\n",
    "#Creamos el id del dataframe materiales\n",
    "materiales[\"id_mat\"] = materiales[\"Almacén\"] + materiales[\"Material\"].astype(str)\n",
    "materiales.set_index('id_mat', inplace=True)\n",
    "print('Se creó id_mat')"
   ]
  },
  {
   "cell_type": "markdown",
   "id": "772382ca",
   "metadata": {},
   "source": [
    "## Busqueda"
   ]
  },
  {
   "cell_type": "code",
   "execution_count": null,
   "id": "8f58834b",
   "metadata": {},
   "outputs": [],
   "source": [
    "columna = 'Texto breve de material'\n",
    "texto1 = '10074'\n",
    "dfBusqueda1 = materiales[materiales[columna].str.contains(texto1)][['Material','Texto breve de material','Ce.','Almacén','Grupo de artículos', 'GCp']]\n",
    "dfBusqueda1.to_excel('C:/Users/ordonez/Documents/SAP/SAP GUI/busqueda1.xlsx')"
   ]
  },
  {
   "cell_type": "markdown",
   "id": "d108213a",
   "metadata": {},
   "source": [
    "## Busqueda tipo like"
   ]
  },
  {
   "cell_type": "code",
   "execution_count": null,
   "id": "07f34610",
   "metadata": {},
   "outputs": [],
   "source": [
    "columna = 'Texto breve de material'\n",
    "texto1 = 'JUNTA'\n",
    "texto2 = '1929'\n",
    "\n",
    "dfBusqueda2 = materiales[(materiales[columna].str.contains(texto1,case=False)) & (materiales[columna].str.contains(texto2,case=False))][['Material','Texto breve de material','Ce.','Almacén','Grupo de artículos', 'GCp']]\n",
    "dfBusqueda2.to_excel('C:/Users/ordonez/Documents/SAP/SAP GUI/busqueda2.xlsx')"
   ]
  },
  {
   "cell_type": "markdown",
   "id": "523e5777",
   "metadata": {},
   "source": [
    "## Análisis de Bloqueados"
   ]
  },
  {
   "cell_type": "code",
   "execution_count": null,
   "id": "ae5d2728",
   "metadata": {},
   "outputs": [],
   "source": [
    "bloq"
   ]
  },
  {
   "cell_type": "code",
   "execution_count": null,
   "id": "4b5a780f",
   "metadata": {},
   "outputs": [],
   "source": [
    "bloq.columns"
   ]
  },
  {
   "cell_type": "code",
   "execution_count": null,
   "id": "cf17472b",
   "metadata": {},
   "outputs": [],
   "source": [
    "#Para concatenar\n",
    "#bloq[\"key\"] = bloq[\"Material\"].astype(str) + bloq[\"Pedido\"].astype(str)"
   ]
  },
  {
   "cell_type": "code",
   "execution_count": null,
   "id": "1837a824",
   "metadata": {},
   "outputs": [],
   "source": [
    "#convierte en negativo los 105 y los 106\n",
    "def transformar(x,y):\n",
    "    if x == 103:\n",
    "        return y\n",
    "    elif x == 104:\n",
    "        return y\n",
    "    elif x == 105:\n",
    "        return y * (-1)\n",
    "    elif x == 106:\n",
    "        return y * (-1)\n",
    "\n",
    "bloq['Cantidad'] = bloq.apply(lambda row: transformar(row['Clase de movimiento'],row['Cantidad']), axis=1)"
   ]
  },
  {
   "cell_type": "code",
   "execution_count": null,
   "id": "a333a786",
   "metadata": {},
   "outputs": [],
   "source": [
    "#Suma 103+104+105+106\n",
    "pendientes = bloq.groupby(by = \"Material\")['Cantidad'].sum()\n",
    "\n",
    "pendientes = pendientes[x!=0.0]"
   ]
  },
  {
   "cell_type": "code",
   "execution_count": null,
   "id": "89754f3b",
   "metadata": {},
   "outputs": [],
   "source": [
    "bloq[bloq[\"Material\"].isin(pendientes.keys())]"
   ]
  },
  {
   "cell_type": "code",
   "execution_count": null,
   "id": "16df3158",
   "metadata": {},
   "outputs": [],
   "source": [
    "bloq[bloq[\"Material\"]==1004085]"
   ]
  },
  {
   "cell_type": "code",
   "execution_count": null,
   "id": "3dd87178",
   "metadata": {},
   "outputs": [],
   "source": [
    "#Para exportar a excel\n",
    "#b = bloq.head()\n",
    "#b.to_excel('C:/Users/ordonez/Documents/SAP/SAP GUI/prueba.xlsx')"
   ]
  }
 ],
 "metadata": {
  "kernelspec": {
   "display_name": "Python 3 (ipykernel)",
   "language": "python",
   "name": "python3"
  },
  "language_info": {
   "codemirror_mode": {
    "name": "ipython",
    "version": 3
   },
   "file_extension": ".py",
   "mimetype": "text/x-python",
   "name": "python",
   "nbconvert_exporter": "python",
   "pygments_lexer": "ipython3",
   "version": "3.10.2"
  }
 },
 "nbformat": 4,
 "nbformat_minor": 5
}
