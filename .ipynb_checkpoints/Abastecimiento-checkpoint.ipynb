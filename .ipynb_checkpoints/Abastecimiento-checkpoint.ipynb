{
 "cells": [
  {
   "cell_type": "markdown",
   "id": "a939389d",
   "metadata": {},
   "source": [
    "# ABASTECIMENTO\n",
    "ver pyodbc"
   ]
  },
  {
   "cell_type": "code",
   "execution_count": 1,
   "id": "28c84291",
   "metadata": {},
   "outputs": [],
   "source": [
    "import pandas as pd\n",
    "import numpy as np\n",
    "import matplotlib.pyplot as plt\n",
    "from datetime import date,time,datetime"
   ]
  },
  {
   "cell_type": "markdown",
   "id": "00c5f7fd",
   "metadata": {},
   "source": [
    "## Importando datos"
   ]
  },
  {
   "cell_type": "code",
   "execution_count": 2,
   "id": "affe6e1d",
   "metadata": {},
   "outputs": [
    {
     "name": "stdout",
     "output_type": "stream",
     "text": [
      "Se importo M (28193 registros/9.0 segundos)\n",
      "Se importo P (3959 registros/0.8 segundos)\n",
      "Se importo B (21689 registros/2.7 segundos)\n",
      "Se importo R (1504 registros/0.3 segundos)\n",
      "Se importo Z (737 registros/0.2 segundos)\n",
      "Se importo S (1772 registros/0.3 segundos)\n",
      "Se importo C (2963 registros/0.8 segundos)\n",
      "Se importo ConsumoMicro (667306 registros/2.7 minutos\n",
      "Se borraron los materiales de los almacenes 1140 y 1142 del centro 1002.\n",
      "Se creó id_mat\n",
      "Se creó la columna flia en df materiales.\n"
     ]
    }
   ],
   "source": [
    "import time\n",
    "start = time.time()\n",
    "materiales = pd.read_excel(\"C:/Users/ordonez/Documents/SAP/SAP GUI/M.xlsx\")\n",
    "end = time.time()\n",
    "print(f\"Se importo M ({len(materiales)} registros/{round(end - start,1)} segundos)\")\n",
    "\n",
    "start = time.time()\n",
    "pedidos = pd.read_excel(\"C:/Users/ordonez/Documents/SAP/SAP GUI/P.xlsx\")\n",
    "end = time.time()\n",
    "print(f\"Se importo P ({len(pedidos)} registros/{round(end - start,1)} segundos)\")\n",
    "\n",
    "start = time.time()\n",
    "bloq = pd.read_excel(\"C:/Users/ordonez/Documents/SAP/SAP GUI/B.xlsx\")\n",
    "end = time.time()\n",
    "print(f\"Se importo B ({len(bloq)} registros/{round(end - start,1)} segundos)\")\n",
    "\n",
    "start = time.time()\n",
    "reservas = pd.read_excel(\"C:/Users/ordonez/Documents/SAP/SAP GUI/R.xlsx\")\n",
    "end = time.time()\n",
    "print(f\"Se importo R ({len(reservas)} registros/{round(end - start,1)} segundos)\")\n",
    "\n",
    "start = time.time()\n",
    "zub = pd.read_excel(\"C:/Users/ordonez/Documents/SAP/SAP GUI/Z.xlsx\")\n",
    "end = time.time()\n",
    "print(f\"Se importo Z ({len(zub)} registros/{round(end - start,1)} segundos)\")\n",
    "\n",
    "start = time.time()\n",
    "zor = pd.read_excel(\"C:/Users/ordonez/Documents/SAP/SAP GUI/S.xlsx\")\n",
    "end = time.time()\n",
    "print(f\"Se importo S ({len(zor)} registros/{round(end - start,1)} segundos)\")\n",
    "\n",
    "start = time.time()\n",
    "contratos = pd.read_excel(\"C:/Users/ordonez/Documents/SAP/SAP GUI/C.xlsx\")\n",
    "end = time.time()\n",
    "print(f\"Se importo C ({len(contratos)} registros/{round(end - start,1)} segundos)\")\n",
    "\n",
    "start = time.time()\n",
    "consumos = pd.read_excel(\"C:/Users/ordonez/Documents/SAP/SAP GUI/ConsumosMicro.xlsx\")\n",
    "end = time.time()\n",
    "print(f\"Se importo ConsumoMicro ({len(consumos)} registros/{round((end - start)/60,1)} minutos\")\n",
    "\n",
    "#Borrar los materiales de los almacenes 1140 y 1142 del centro 1002\n",
    "indexABorrar = materiales[(materiales['Ce.']==1002) & (materiales['Almacén'].isin(['1141','1140']))].index\n",
    "materiales.drop(indexABorrar, inplace=True)\n",
    "print('Se borraron los materiales de los almacenes 1140 y 1142 del centro 1002.')\n",
    "\n",
    "#Creamos el id del dataframe materiales\n",
    "materiales[\"id_mat\"] = materiales[\"Almacén\"] + materiales[\"Material\"].astype(str)\n",
    "materiales.set_index('id_mat', inplace=True)\n",
    "print('Se creó id_mat')\n",
    "\n",
    "#Creamos la columna familia\n",
    "def crearFlia(jquia):\n",
    "    flia = jquia[:5][3:]\n",
    "    return flia\n",
    "materiales['flia'] = materiales['Jquía.productos'].apply(crearFlia)\n",
    "materiales[['Material','Texto breve de material','Jquía.productos','flia']]\n",
    "print('Se creó la columna flia en df materiales.')"
   ]
  },
  {
   "cell_type": "code",
   "execution_count": 3,
   "id": "c3072bd1",
   "metadata": {},
   "outputs": [
    {
     "name": "stdout",
     "output_type": "stream",
     "text": [
      "Se importo prov (1427 registros/0.9 segundos)\n",
      "Se importo matProv (45343 registros/1.7 segundos)\n"
     ]
    }
   ],
   "source": [
    "start = time.time()\n",
    "prov = pd.read_excel(\"proveedores.xlsx\")\n",
    "end = time.time()\n",
    "print(f\"Se importo prov ({len(prov)} registros/{round(end - start,1)} segundos)\")\n",
    "\n",
    "start = time.time()\n",
    "matProv = pd.read_excel(\"mat-prov.xlsx\")\n",
    "end = time.time()\n",
    "print(f\"Se importo matProv ({len(matProv)} registros/{round(end - start,1)} segundos)\")"
   ]
  },
  {
   "cell_type": "markdown",
   "id": "772382ca",
   "metadata": {},
   "source": [
    "## Busqueda"
   ]
  },
  {
   "cell_type": "code",
   "execution_count": null,
   "id": "8f58834b",
   "metadata": {},
   "outputs": [],
   "source": [
    "columna = 'Texto breve de material'\n",
    "texto1 = 'benzoato'\n",
    "dfBusqueda1 = materiales[materiales[columna].str.contains(texto1,case=False)][['Material','Texto breve de material','Ce.','Almacén','Grupo de artículos', 'GCp']]\n",
    "dfBusqueda1\n",
    "#dfBusqueda1.to_excel('C:/Users/ordonez/Documents/SAP/SAP GUI/busqueda1.xlsx')"
   ]
  },
  {
   "cell_type": "markdown",
   "id": "d108213a",
   "metadata": {},
   "source": [
    "## Busqueda tipo like"
   ]
  },
  {
   "cell_type": "code",
   "execution_count": null,
   "id": "07f34610",
   "metadata": {},
   "outputs": [],
   "source": [
    "columna = 'Texto breve de material'\n",
    "texto1 = 'JUNTA'\n",
    "texto2 = '1929'\n",
    "\n",
    "dfBusqueda2 = materiales[(materiales[columna].str.contains(texto1,case=False)) & (materiales[columna].str.contains(texto2,case=False))][['Material','Texto breve de material','Ce.','Almacén','Grupo de artículos', 'GCp']]\n",
    "dfBusqueda2.to_excel('C:/Users/ordonez/Documents/SAP/SAP GUI/busqueda2.xlsx')"
   ]
  },
  {
   "cell_type": "markdown",
   "id": "523e5777",
   "metadata": {},
   "source": [
    "## Análisis de Bloqueados"
   ]
  },
  {
   "cell_type": "code",
   "execution_count": null,
   "id": "ae5d2728",
   "metadata": {},
   "outputs": [],
   "source": [
    "bloq"
   ]
  },
  {
   "cell_type": "code",
   "execution_count": null,
   "id": "4b5a780f",
   "metadata": {},
   "outputs": [],
   "source": [
    "bloq.columns"
   ]
  },
  {
   "cell_type": "code",
   "execution_count": null,
   "id": "cf17472b",
   "metadata": {},
   "outputs": [],
   "source": [
    "#Para concatenar\n",
    "#bloq[\"key\"] = bloq[\"Material\"].astype(str) + bloq[\"Pedido\"].astype(str)"
   ]
  },
  {
   "cell_type": "code",
   "execution_count": null,
   "id": "1837a824",
   "metadata": {},
   "outputs": [],
   "source": [
    "#convierte en negativo los 105 y los 106\n",
    "def transformar(x,y):\n",
    "    if x == 103:\n",
    "        return y\n",
    "    elif x == 104:\n",
    "        return y\n",
    "    elif x == 105:\n",
    "        return y * (-1)\n",
    "    elif x == 106:\n",
    "        return y * (-1)\n",
    "\n",
    "bloq['Cantidad'] = bloq.apply(lambda row: transformar(row['Clase de movimiento'],row['Cantidad']), axis=1)"
   ]
  },
  {
   "cell_type": "code",
   "execution_count": null,
   "id": "a333a786",
   "metadata": {},
   "outputs": [],
   "source": [
    "#Suma 103+104+105+106\n",
    "pendientes = bloq.groupby(by = \"Material\")['Cantidad'].sum()\n",
    "\n",
    "pendientes = pendientes[x!=0.0]"
   ]
  },
  {
   "cell_type": "code",
   "execution_count": null,
   "id": "89754f3b",
   "metadata": {},
   "outputs": [],
   "source": [
    "bloq[bloq[\"Material\"].isin(pendientes.keys())]"
   ]
  },
  {
   "cell_type": "code",
   "execution_count": null,
   "id": "16df3158",
   "metadata": {},
   "outputs": [],
   "source": [
    "bloq[bloq[\"Material\"]==1004085]"
   ]
  },
  {
   "cell_type": "code",
   "execution_count": null,
   "id": "3dd87178",
   "metadata": {},
   "outputs": [],
   "source": [
    "#Para exportar a excel\n",
    "#b = bloq.head()\n",
    "#b.to_excel('C:/Users/ordonez/Documents/SAP/SAP GUI/prueba.xlsx')"
   ]
  },
  {
   "cell_type": "markdown",
   "id": "f745320d",
   "metadata": {},
   "source": [
    "## Valores únicos"
   ]
  },
  {
   "cell_type": "code",
   "execution_count": null,
   "id": "58309825",
   "metadata": {},
   "outputs": [],
   "source": [
    "dato = np.unique(materiales.Material)"
   ]
  },
  {
   "cell_type": "code",
   "execution_count": null,
   "id": "bf40f415",
   "metadata": {},
   "outputs": [],
   "source": [
    "dato"
   ]
  },
  {
   "cell_type": "code",
   "execution_count": null,
   "id": "1eafc4b5",
   "metadata": {},
   "outputs": [],
   "source": [
    "data = np.unique(materiales['Almacén'], return_counts=True )"
   ]
  },
  {
   "cell_type": "code",
   "execution_count": null,
   "id": "6a2a5672",
   "metadata": {},
   "outputs": [],
   "source": [
    "data"
   ]
  },
  {
   "cell_type": "code",
   "execution_count": null,
   "id": "54623123",
   "metadata": {},
   "outputs": [],
   "source": [
    "data[1]"
   ]
  },
  {
   "cell_type": "code",
   "execution_count": null,
   "id": "a73a685e",
   "metadata": {},
   "outputs": [],
   "source": [
    "plt.pie(x = data[1],\n",
    "       labels=data[0],\n",
    "       startangle=90,\n",
    "       radius = 2)\n",
    "plt.show()"
   ]
  },
  {
   "cell_type": "markdown",
   "id": "306f3458",
   "metadata": {},
   "source": [
    "## Consumos"
   ]
  },
  {
   "cell_type": "code",
   "execution_count": null,
   "id": "b70f3caf",
   "metadata": {},
   "outputs": [],
   "source": [
    "consumos.info()\n"
   ]
  },
  {
   "cell_type": "markdown",
   "id": "e64f6277",
   "metadata": {},
   "source": [
    "## Consumo de los Ultimos 12 meses"
   ]
  },
  {
   "cell_type": "code",
   "execution_count": 15,
   "id": "c52921ba",
   "metadata": {},
   "outputs": [],
   "source": [
    "hasta = str(date.today().year  )+\"-\"+str(date.today().month)+\"-01\"\n",
    "desde = str(date.today().year-1)+\"-\"+str(date.today().month)+\"-01\"\n",
    "condicion = (consumos['Fecha'] >= desde) & (consumos['Fecha'] < hasta)\n",
    "ult12 = consumos.loc[condicion][['Fecha','Material','Alm','Salida']]"
   ]
  },
  {
   "cell_type": "code",
   "execution_count": 16,
   "id": "761daede",
   "metadata": {},
   "outputs": [
    {
     "data": {
      "text/html": [
       "<div>\n",
       "<style scoped>\n",
       "    .dataframe tbody tr th:only-of-type {\n",
       "        vertical-align: middle;\n",
       "    }\n",
       "\n",
       "    .dataframe tbody tr th {\n",
       "        vertical-align: top;\n",
       "    }\n",
       "\n",
       "    .dataframe thead th {\n",
       "        text-align: right;\n",
       "    }\n",
       "</style>\n",
       "<table border=\"1\" class=\"dataframe\">\n",
       "  <thead>\n",
       "    <tr style=\"text-align: right;\">\n",
       "      <th></th>\n",
       "      <th>Fecha</th>\n",
       "      <th>Material</th>\n",
       "      <th>Alm</th>\n",
       "      <th>Salida</th>\n",
       "    </tr>\n",
       "  </thead>\n",
       "  <tbody>\n",
       "    <tr>\n",
       "      <th>494217</th>\n",
       "      <td>2021-02-01</td>\n",
       "      <td>1000009</td>\n",
       "      <td>1125</td>\n",
       "      <td>1242.0</td>\n",
       "    </tr>\n",
       "    <tr>\n",
       "      <th>494218</th>\n",
       "      <td>2021-02-01</td>\n",
       "      <td>1000020</td>\n",
       "      <td>1125</td>\n",
       "      <td>675.0</td>\n",
       "    </tr>\n",
       "    <tr>\n",
       "      <th>494219</th>\n",
       "      <td>2021-02-01</td>\n",
       "      <td>1000021</td>\n",
       "      <td>1125</td>\n",
       "      <td>576.0</td>\n",
       "    </tr>\n",
       "    <tr>\n",
       "      <th>494220</th>\n",
       "      <td>2021-02-01</td>\n",
       "      <td>1000079</td>\n",
       "      <td>1125</td>\n",
       "      <td>1000.0</td>\n",
       "    </tr>\n",
       "    <tr>\n",
       "      <th>494221</th>\n",
       "      <td>2021-02-01</td>\n",
       "      <td>1000083</td>\n",
       "      <td>1133</td>\n",
       "      <td>1177420.0</td>\n",
       "    </tr>\n",
       "    <tr>\n",
       "      <th>...</th>\n",
       "      <td>...</td>\n",
       "      <td>...</td>\n",
       "      <td>...</td>\n",
       "      <td>...</td>\n",
       "    </tr>\n",
       "    <tr>\n",
       "      <th>659428</th>\n",
       "      <td>2022-01-31</td>\n",
       "      <td>1056035</td>\n",
       "      <td>1126</td>\n",
       "      <td>5.0</td>\n",
       "    </tr>\n",
       "    <tr>\n",
       "      <th>659429</th>\n",
       "      <td>2022-01-31</td>\n",
       "      <td>1056482</td>\n",
       "      <td>1126</td>\n",
       "      <td>1.0</td>\n",
       "    </tr>\n",
       "    <tr>\n",
       "      <th>659430</th>\n",
       "      <td>2022-01-31</td>\n",
       "      <td>1056483</td>\n",
       "      <td>1126</td>\n",
       "      <td>50.0</td>\n",
       "    </tr>\n",
       "    <tr>\n",
       "      <th>659431</th>\n",
       "      <td>2022-01-31</td>\n",
       "      <td>1059454</td>\n",
       "      <td>1126</td>\n",
       "      <td>100.0</td>\n",
       "    </tr>\n",
       "    <tr>\n",
       "      <th>659432</th>\n",
       "      <td>2022-01-31</td>\n",
       "      <td>1060933</td>\n",
       "      <td>1124</td>\n",
       "      <td>1.0</td>\n",
       "    </tr>\n",
       "  </tbody>\n",
       "</table>\n",
       "<p>165216 rows × 4 columns</p>\n",
       "</div>"
      ],
      "text/plain": [
       "            Fecha  Material   Alm     Salida\n",
       "494217 2021-02-01   1000009  1125     1242.0\n",
       "494218 2021-02-01   1000020  1125      675.0\n",
       "494219 2021-02-01   1000021  1125      576.0\n",
       "494220 2021-02-01   1000079  1125     1000.0\n",
       "494221 2021-02-01   1000083  1133  1177420.0\n",
       "...           ...       ...   ...        ...\n",
       "659428 2022-01-31   1056035  1126        5.0\n",
       "659429 2022-01-31   1056482  1126        1.0\n",
       "659430 2022-01-31   1056483  1126       50.0\n",
       "659431 2022-01-31   1059454  1126      100.0\n",
       "659432 2022-01-31   1060933  1124        1.0\n",
       "\n",
       "[165216 rows x 4 columns]"
      ]
     },
     "execution_count": 16,
     "metadata": {},
     "output_type": "execute_result"
    }
   ],
   "source": [
    "ult12"
   ]
  },
  {
   "cell_type": "code",
   "execution_count": 52,
   "id": "7b9acdd3",
   "metadata": {},
   "outputs": [],
   "source": [
    "ult12_1125 = ult12[ult12['Alm']=='1125']"
   ]
  },
  {
   "cell_type": "code",
   "execution_count": 53,
   "id": "47ae9ac8",
   "metadata": {},
   "outputs": [
    {
     "data": {
      "text/html": [
       "<div>\n",
       "<style scoped>\n",
       "    .dataframe tbody tr th:only-of-type {\n",
       "        vertical-align: middle;\n",
       "    }\n",
       "\n",
       "    .dataframe tbody tr th {\n",
       "        vertical-align: top;\n",
       "    }\n",
       "\n",
       "    .dataframe thead th {\n",
       "        text-align: right;\n",
       "    }\n",
       "</style>\n",
       "<table border=\"1\" class=\"dataframe\">\n",
       "  <thead>\n",
       "    <tr style=\"text-align: right;\">\n",
       "      <th></th>\n",
       "      <th>Fecha</th>\n",
       "      <th>Material</th>\n",
       "      <th>Alm</th>\n",
       "      <th>Salida</th>\n",
       "    </tr>\n",
       "  </thead>\n",
       "  <tbody>\n",
       "    <tr>\n",
       "      <th>494217</th>\n",
       "      <td>2021-02-01</td>\n",
       "      <td>1000009</td>\n",
       "      <td>1125</td>\n",
       "      <td>1242.0</td>\n",
       "    </tr>\n",
       "    <tr>\n",
       "      <th>494218</th>\n",
       "      <td>2021-02-01</td>\n",
       "      <td>1000020</td>\n",
       "      <td>1125</td>\n",
       "      <td>675.0</td>\n",
       "    </tr>\n",
       "    <tr>\n",
       "      <th>494219</th>\n",
       "      <td>2021-02-01</td>\n",
       "      <td>1000021</td>\n",
       "      <td>1125</td>\n",
       "      <td>576.0</td>\n",
       "    </tr>\n",
       "    <tr>\n",
       "      <th>494220</th>\n",
       "      <td>2021-02-01</td>\n",
       "      <td>1000079</td>\n",
       "      <td>1125</td>\n",
       "      <td>1000.0</td>\n",
       "    </tr>\n",
       "    <tr>\n",
       "      <th>494222</th>\n",
       "      <td>2021-02-01</td>\n",
       "      <td>1000159</td>\n",
       "      <td>1125</td>\n",
       "      <td>1500.0</td>\n",
       "    </tr>\n",
       "    <tr>\n",
       "      <th>...</th>\n",
       "      <td>...</td>\n",
       "      <td>...</td>\n",
       "      <td>...</td>\n",
       "      <td>...</td>\n",
       "    </tr>\n",
       "    <tr>\n",
       "      <th>659422</th>\n",
       "      <td>2022-01-31</td>\n",
       "      <td>1054401</td>\n",
       "      <td>1125</td>\n",
       "      <td>2400.0</td>\n",
       "    </tr>\n",
       "    <tr>\n",
       "      <th>659423</th>\n",
       "      <td>2022-01-31</td>\n",
       "      <td>1054402</td>\n",
       "      <td>1125</td>\n",
       "      <td>2400.0</td>\n",
       "    </tr>\n",
       "    <tr>\n",
       "      <th>659424</th>\n",
       "      <td>2022-01-31</td>\n",
       "      <td>1054402</td>\n",
       "      <td>1125</td>\n",
       "      <td>-2400.0</td>\n",
       "    </tr>\n",
       "    <tr>\n",
       "      <th>659425</th>\n",
       "      <td>2022-01-31</td>\n",
       "      <td>1054403</td>\n",
       "      <td>1125</td>\n",
       "      <td>2400.0</td>\n",
       "    </tr>\n",
       "    <tr>\n",
       "      <th>659426</th>\n",
       "      <td>2022-01-31</td>\n",
       "      <td>1054404</td>\n",
       "      <td>1125</td>\n",
       "      <td>16100.0</td>\n",
       "    </tr>\n",
       "  </tbody>\n",
       "</table>\n",
       "<p>16859 rows × 4 columns</p>\n",
       "</div>"
      ],
      "text/plain": [
       "            Fecha  Material   Alm   Salida\n",
       "494217 2021-02-01   1000009  1125   1242.0\n",
       "494218 2021-02-01   1000020  1125    675.0\n",
       "494219 2021-02-01   1000021  1125    576.0\n",
       "494220 2021-02-01   1000079  1125   1000.0\n",
       "494222 2021-02-01   1000159  1125   1500.0\n",
       "...           ...       ...   ...      ...\n",
       "659422 2022-01-31   1054401  1125   2400.0\n",
       "659423 2022-01-31   1054402  1125   2400.0\n",
       "659424 2022-01-31   1054402  1125  -2400.0\n",
       "659425 2022-01-31   1054403  1125   2400.0\n",
       "659426 2022-01-31   1054404  1125  16100.0\n",
       "\n",
       "[16859 rows x 4 columns]"
      ]
     },
     "execution_count": 53,
     "metadata": {},
     "output_type": "execute_result"
    }
   ],
   "source": [
    "ult12_1125"
   ]
  },
  {
   "cell_type": "code",
   "execution_count": 54,
   "id": "9cdc06c1",
   "metadata": {},
   "outputs": [
    {
     "name": "stderr",
     "output_type": "stream",
     "text": [
      "C:\\Users\\ordonez\\AppData\\Local\\Temp\\ipykernel_19912\\1645651975.py:7: SettingWithCopyWarning: \n",
      "A value is trying to be set on a copy of a slice from a DataFrame.\n",
      "Try using .loc[row_indexer,col_indexer] = value instead\n",
      "\n",
      "See the caveats in the documentation: https://pandas.pydata.org/pandas-docs/stable/user_guide/indexing.html#returning-a-view-versus-a-copy\n",
      "  ult12_1125['Mes'] = ult12_1125['Fecha'].apply(crearMes)\n"
     ]
    }
   ],
   "source": [
    "#Dos formas de hacerlo. Ammbas generan warning.\n",
    "#ult12_1125['Mes'] = ult12_1125['Fecha'].dt.month\n",
    "\n",
    "def crearMes(fecha):\n",
    "    mes = fecha.month\n",
    "    return mes\n",
    "ult12_1125['Mes'] = ult12_1125['Fecha'].apply(crearMes)"
   ]
  },
  {
   "cell_type": "code",
   "execution_count": 55,
   "id": "2be251de",
   "metadata": {},
   "outputs": [
    {
     "data": {
      "text/plain": [
       "False"
      ]
     },
     "execution_count": 55,
     "metadata": {},
     "output_type": "execute_result"
    }
   ],
   "source": [
    "ult12_1125._is_view #ult12_1125._is_copy"
   ]
  },
  {
   "cell_type": "code",
   "execution_count": 39,
   "id": "f3722226",
   "metadata": {},
   "outputs": [
    {
     "data": {
      "text/html": [
       "<div>\n",
       "<style scoped>\n",
       "    .dataframe tbody tr th:only-of-type {\n",
       "        vertical-align: middle;\n",
       "    }\n",
       "\n",
       "    .dataframe tbody tr th {\n",
       "        vertical-align: top;\n",
       "    }\n",
       "\n",
       "    .dataframe thead th {\n",
       "        text-align: right;\n",
       "    }\n",
       "</style>\n",
       "<table border=\"1\" class=\"dataframe\">\n",
       "  <thead>\n",
       "    <tr style=\"text-align: right;\">\n",
       "      <th></th>\n",
       "      <th>Fecha</th>\n",
       "      <th>Material</th>\n",
       "      <th>Alm</th>\n",
       "      <th>Salida</th>\n",
       "    </tr>\n",
       "  </thead>\n",
       "  <tbody>\n",
       "    <tr>\n",
       "      <th>494217</th>\n",
       "      <td>2021-02-01</td>\n",
       "      <td>1000009</td>\n",
       "      <td>1125</td>\n",
       "      <td>1242.0</td>\n",
       "    </tr>\n",
       "    <tr>\n",
       "      <th>494218</th>\n",
       "      <td>2021-02-01</td>\n",
       "      <td>1000020</td>\n",
       "      <td>1125</td>\n",
       "      <td>675.0</td>\n",
       "    </tr>\n",
       "    <tr>\n",
       "      <th>494219</th>\n",
       "      <td>2021-02-01</td>\n",
       "      <td>1000021</td>\n",
       "      <td>1125</td>\n",
       "      <td>576.0</td>\n",
       "    </tr>\n",
       "    <tr>\n",
       "      <th>494220</th>\n",
       "      <td>2021-02-01</td>\n",
       "      <td>1000079</td>\n",
       "      <td>1125</td>\n",
       "      <td>1000.0</td>\n",
       "    </tr>\n",
       "    <tr>\n",
       "      <th>494222</th>\n",
       "      <td>2021-02-01</td>\n",
       "      <td>1000159</td>\n",
       "      <td>1125</td>\n",
       "      <td>1500.0</td>\n",
       "    </tr>\n",
       "    <tr>\n",
       "      <th>...</th>\n",
       "      <td>...</td>\n",
       "      <td>...</td>\n",
       "      <td>...</td>\n",
       "      <td>...</td>\n",
       "    </tr>\n",
       "    <tr>\n",
       "      <th>659422</th>\n",
       "      <td>2022-01-31</td>\n",
       "      <td>1054401</td>\n",
       "      <td>1125</td>\n",
       "      <td>2400.0</td>\n",
       "    </tr>\n",
       "    <tr>\n",
       "      <th>659423</th>\n",
       "      <td>2022-01-31</td>\n",
       "      <td>1054402</td>\n",
       "      <td>1125</td>\n",
       "      <td>2400.0</td>\n",
       "    </tr>\n",
       "    <tr>\n",
       "      <th>659424</th>\n",
       "      <td>2022-01-31</td>\n",
       "      <td>1054402</td>\n",
       "      <td>1125</td>\n",
       "      <td>-2400.0</td>\n",
       "    </tr>\n",
       "    <tr>\n",
       "      <th>659425</th>\n",
       "      <td>2022-01-31</td>\n",
       "      <td>1054403</td>\n",
       "      <td>1125</td>\n",
       "      <td>2400.0</td>\n",
       "    </tr>\n",
       "    <tr>\n",
       "      <th>659426</th>\n",
       "      <td>2022-01-31</td>\n",
       "      <td>1054404</td>\n",
       "      <td>1125</td>\n",
       "      <td>16100.0</td>\n",
       "    </tr>\n",
       "  </tbody>\n",
       "</table>\n",
       "<p>16859 rows × 4 columns</p>\n",
       "</div>"
      ],
      "text/plain": [
       "            Fecha  Material   Alm   Salida\n",
       "494217 2021-02-01   1000009  1125   1242.0\n",
       "494218 2021-02-01   1000020  1125    675.0\n",
       "494219 2021-02-01   1000021  1125    576.0\n",
       "494220 2021-02-01   1000079  1125   1000.0\n",
       "494222 2021-02-01   1000159  1125   1500.0\n",
       "...           ...       ...   ...      ...\n",
       "659422 2022-01-31   1054401  1125   2400.0\n",
       "659423 2022-01-31   1054402  1125   2400.0\n",
       "659424 2022-01-31   1054402  1125  -2400.0\n",
       "659425 2022-01-31   1054403  1125   2400.0\n",
       "659426 2022-01-31   1054404  1125  16100.0\n",
       "\n",
       "[16859 rows x 4 columns]"
      ]
     },
     "execution_count": 39,
     "metadata": {},
     "output_type": "execute_result"
    }
   ],
   "source": [
    "ult12_1125"
   ]
  },
  {
   "cell_type": "code",
   "execution_count": 40,
   "id": "e336aba7",
   "metadata": {},
   "outputs": [
    {
     "name": "stderr",
     "output_type": "stream",
     "text": [
      "C:\\Users\\ordonez\\AppData\\Local\\Temp\\ipykernel_19912\\1901377617.py:1: SettingWithCopyWarning: \n",
      "A value is trying to be set on a copy of a slice from a DataFrame.\n",
      "Try using .loc[row_indexer,col_indexer] = value instead\n",
      "\n",
      "See the caveats in the documentation: https://pandas.pydata.org/pandas-docs/stable/user_guide/indexing.html#returning-a-view-versus-a-copy\n",
      "  ult12_1125['Mes'] = ult12_1125['Fecha'].dt.month\n"
     ]
    }
   ],
   "source": [
    "ult12_1125['Mes'] = ult12_1125['Fecha'].dt.month"
   ]
  },
  {
   "cell_type": "code",
   "execution_count": 41,
   "id": "ba4424b0",
   "metadata": {},
   "outputs": [
    {
     "data": {
      "text/plain": [
       "False"
      ]
     },
     "execution_count": 41,
     "metadata": {},
     "output_type": "execute_result"
    }
   ],
   "source": [
    "ult12_1125._is_view"
   ]
  },
  {
   "cell_type": "code",
   "execution_count": 42,
   "id": "7f446412",
   "metadata": {},
   "outputs": [
    {
     "data": {
      "text/html": [
       "<div>\n",
       "<style scoped>\n",
       "    .dataframe tbody tr th:only-of-type {\n",
       "        vertical-align: middle;\n",
       "    }\n",
       "\n",
       "    .dataframe tbody tr th {\n",
       "        vertical-align: top;\n",
       "    }\n",
       "\n",
       "    .dataframe thead th {\n",
       "        text-align: right;\n",
       "    }\n",
       "</style>\n",
       "<table border=\"1\" class=\"dataframe\">\n",
       "  <thead>\n",
       "    <tr style=\"text-align: right;\">\n",
       "      <th></th>\n",
       "      <th>Fecha</th>\n",
       "      <th>Material</th>\n",
       "      <th>Alm</th>\n",
       "      <th>Salida</th>\n",
       "      <th>Mes</th>\n",
       "    </tr>\n",
       "  </thead>\n",
       "  <tbody>\n",
       "    <tr>\n",
       "      <th>494217</th>\n",
       "      <td>2021-02-01</td>\n",
       "      <td>1000009</td>\n",
       "      <td>1125</td>\n",
       "      <td>1242.0</td>\n",
       "      <td>2</td>\n",
       "    </tr>\n",
       "    <tr>\n",
       "      <th>494218</th>\n",
       "      <td>2021-02-01</td>\n",
       "      <td>1000020</td>\n",
       "      <td>1125</td>\n",
       "      <td>675.0</td>\n",
       "      <td>2</td>\n",
       "    </tr>\n",
       "    <tr>\n",
       "      <th>494219</th>\n",
       "      <td>2021-02-01</td>\n",
       "      <td>1000021</td>\n",
       "      <td>1125</td>\n",
       "      <td>576.0</td>\n",
       "      <td>2</td>\n",
       "    </tr>\n",
       "    <tr>\n",
       "      <th>494220</th>\n",
       "      <td>2021-02-01</td>\n",
       "      <td>1000079</td>\n",
       "      <td>1125</td>\n",
       "      <td>1000.0</td>\n",
       "      <td>2</td>\n",
       "    </tr>\n",
       "    <tr>\n",
       "      <th>494222</th>\n",
       "      <td>2021-02-01</td>\n",
       "      <td>1000159</td>\n",
       "      <td>1125</td>\n",
       "      <td>1500.0</td>\n",
       "      <td>2</td>\n",
       "    </tr>\n",
       "    <tr>\n",
       "      <th>...</th>\n",
       "      <td>...</td>\n",
       "      <td>...</td>\n",
       "      <td>...</td>\n",
       "      <td>...</td>\n",
       "      <td>...</td>\n",
       "    </tr>\n",
       "    <tr>\n",
       "      <th>659422</th>\n",
       "      <td>2022-01-31</td>\n",
       "      <td>1054401</td>\n",
       "      <td>1125</td>\n",
       "      <td>2400.0</td>\n",
       "      <td>1</td>\n",
       "    </tr>\n",
       "    <tr>\n",
       "      <th>659423</th>\n",
       "      <td>2022-01-31</td>\n",
       "      <td>1054402</td>\n",
       "      <td>1125</td>\n",
       "      <td>2400.0</td>\n",
       "      <td>1</td>\n",
       "    </tr>\n",
       "    <tr>\n",
       "      <th>659424</th>\n",
       "      <td>2022-01-31</td>\n",
       "      <td>1054402</td>\n",
       "      <td>1125</td>\n",
       "      <td>-2400.0</td>\n",
       "      <td>1</td>\n",
       "    </tr>\n",
       "    <tr>\n",
       "      <th>659425</th>\n",
       "      <td>2022-01-31</td>\n",
       "      <td>1054403</td>\n",
       "      <td>1125</td>\n",
       "      <td>2400.0</td>\n",
       "      <td>1</td>\n",
       "    </tr>\n",
       "    <tr>\n",
       "      <th>659426</th>\n",
       "      <td>2022-01-31</td>\n",
       "      <td>1054404</td>\n",
       "      <td>1125</td>\n",
       "      <td>16100.0</td>\n",
       "      <td>1</td>\n",
       "    </tr>\n",
       "  </tbody>\n",
       "</table>\n",
       "<p>16859 rows × 5 columns</p>\n",
       "</div>"
      ],
      "text/plain": [
       "            Fecha  Material   Alm   Salida  Mes\n",
       "494217 2021-02-01   1000009  1125   1242.0    2\n",
       "494218 2021-02-01   1000020  1125    675.0    2\n",
       "494219 2021-02-01   1000021  1125    576.0    2\n",
       "494220 2021-02-01   1000079  1125   1000.0    2\n",
       "494222 2021-02-01   1000159  1125   1500.0    2\n",
       "...           ...       ...   ...      ...  ...\n",
       "659422 2022-01-31   1054401  1125   2400.0    1\n",
       "659423 2022-01-31   1054402  1125   2400.0    1\n",
       "659424 2022-01-31   1054402  1125  -2400.0    1\n",
       "659425 2022-01-31   1054403  1125   2400.0    1\n",
       "659426 2022-01-31   1054404  1125  16100.0    1\n",
       "\n",
       "[16859 rows x 5 columns]"
      ]
     },
     "execution_count": 42,
     "metadata": {},
     "output_type": "execute_result"
    }
   ],
   "source": [
    "ult12_1125"
   ]
  }
 ],
 "metadata": {
  "hide_input": false,
  "kernelspec": {
   "display_name": "Python 3 (ipykernel)",
   "language": "python",
   "name": "python3"
  },
  "language_info": {
   "codemirror_mode": {
    "name": "ipython",
    "version": 3
   },
   "file_extension": ".py",
   "mimetype": "text/x-python",
   "name": "python",
   "nbconvert_exporter": "python",
   "pygments_lexer": "ipython3",
   "version": "3.10.2"
  },
  "toc": {
   "base_numbering": 1,
   "nav_menu": {},
   "number_sections": true,
   "sideBar": true,
   "skip_h1_title": false,
   "title_cell": "Table of Contents",
   "title_sidebar": "Contents",
   "toc_cell": false,
   "toc_position": {
    "height": "calc(100% - 180px)",
    "left": "10px",
    "top": "150px",
    "width": "227.657px"
   },
   "toc_section_display": true,
   "toc_window_display": true
  }
 },
 "nbformat": 4,
 "nbformat_minor": 5
}
