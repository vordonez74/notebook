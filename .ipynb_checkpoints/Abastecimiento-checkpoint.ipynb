{
 "cells": [
  {
   "cell_type": "markdown",
   "id": "a939389d",
   "metadata": {},
   "source": [
    "# ABASTECIMENTO\n",
    "ver pyodbc"
   ]
  },
  {
   "cell_type": "code",
   "execution_count": null,
   "id": "10ec5cd6",
   "metadata": {},
   "outputs": [],
   "source": [
    "import pandas as pd"
   ]
  },
  {
   "cell_type": "markdown",
   "id": "00c5f7fd",
   "metadata": {},
   "source": [
    "## Importando datos"
   ]
  },
  {
   "cell_type": "code",
   "execution_count": null,
   "id": "affe6e1d",
   "metadata": {},
   "outputs": [],
   "source": [
    "import time\n",
    "start = time.time()\n",
    "materiales = pd.read_excel(\"C:/Users/ordonez/Documents/SAP/SAP GUI\\M.xlsx\")\n",
    "pedidos = pd.read_excel(\"C:/Users/ordonez/Documents/SAP/SAP GUI\\P.xlsx\")\n",
    "bloq = pd.read_excel(\"C:/Users/ordonez/Documents/SAP/SAP GUI\\B.xlsx\")\n",
    "reservas = pd.read_excel(\"C:/Users/ordonez/Documents/SAP/SAP GUI\\R.xlsx\")\n",
    "zub = pd.read_excel(\"C:/Users/ordonez/Documents/SAP/SAP GUI\\Z.xlsx\")\n",
    "zor = pd.read_excel(\"C:/Users/ordonez/Documents/SAP/SAP GUI\\S.xlsx\")\n",
    "contratos = pd.read_excel(\"C:/Users/ordonez/Documents/SAP/SAP GUI\\C.xlsx\")\n",
    "end = time.time()\n",
    "print(f\"Para importar los datos SAP se tardó {end - start} segundos\")\n",
    "start = time.time()\n",
    "\n",
    "end = time.time()\n",
    "print(f\"Para importar los consumos se tardó {end - start} segundos\")\n"
   ]
  }
 ],
 "metadata": {
  "kernelspec": {
   "display_name": "Python 3 (ipykernel)",
   "language": "python",
   "name": "python3"
  },
  "language_info": {
   "codemirror_mode": {
    "name": "ipython",
    "version": 3
   },
   "file_extension": ".py",
   "mimetype": "text/x-python",
   "name": "python",
   "nbconvert_exporter": "python",
   "pygments_lexer": "ipython3",
   "version": "3.10.2"
  }
 },
 "nbformat": 4,
 "nbformat_minor": 5
}
