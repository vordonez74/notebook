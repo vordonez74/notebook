{
 "cells": [
  {
   "cell_type": "markdown",
   "id": "a939389d",
   "metadata": {},
   "source": [
    "# ABASTECIMENTO\n",
    "ver pyodbc"
   ]
  },
  {
   "cell_type": "code",
   "execution_count": 1,
   "id": "28c84291",
   "metadata": {},
   "outputs": [],
   "source": [
    "import pandas as pd\n",
    "import numpy as np\n",
    "import matplotlib.pyplot as plt\n",
    "#from datetime import date,time,datetime"
   ]
  },
  {
   "cell_type": "markdown",
   "id": "00c5f7fd",
   "metadata": {},
   "source": [
    "## Importando reportes principales"
   ]
  },
  {
   "cell_type": "code",
   "execution_count": null,
   "id": "affe6e1d",
   "metadata": {},
   "outputs": [],
   "source": [
    "import time\n",
    "start = time.time()\n",
    "materiales = pd.read_excel(\"C:/Users/ordonez/Documents/SAP/SAP GUI/M.xlsx\")\n",
    "end = time.time()\n",
    "print(f\"Se importo M ({len(materiales)} registros/{round(end - start,1)} segundos)\")\n",
    "\n",
    "start = time.time()\n",
    "pedidos = pd.read_excel(\"C:/Users/ordonez/Documents/SAP/SAP GUI/P.xlsx\")\n",
    "end = time.time()\n",
    "print(f\"Se importo P ({len(pedidos)} registros/{round(end - start,1)} segundos)\")\n",
    "\n",
    "start = time.time()\n",
    "bloq = pd.read_excel(\"C:/Users/ordonez/Documents/SAP/SAP GUI/B.xlsx\")\n",
    "end = time.time()\n",
    "print(f\"Se importo B ({len(bloq)} registros/{round(end - start,1)} segundos)\")\n",
    "\n",
    "start = time.time()\n",
    "reservas = pd.read_excel(\"C:/Users/ordonez/Documents/SAP/SAP GUI/R.xlsx\")\n",
    "end = time.time()\n",
    "print(f\"Se importo R ({len(reservas)} registros/{round(end - start,1)} segundos)\")\n",
    "\n",
    "start = time.time()\n",
    "zub = pd.read_excel(\"C:/Users/ordonez/Documents/SAP/SAP GUI/Z.xlsx\")\n",
    "end = time.time()\n",
    "print(f\"Se importo Z ({len(zub)} registros/{round(end - start,1)} segundos)\")\n",
    "\n",
    "start = time.time()\n",
    "zor = pd.read_excel(\"C:/Users/ordonez/Documents/SAP/SAP GUI/S.xlsx\")\n",
    "end = time.time()\n",
    "print(f\"Se importo S ({len(zor)} registros/{round(end - start,1)} segundos)\")\n",
    "\n",
    "start = time.time()\n",
    "contratos = pd.read_excel(\"C:/Users/ordonez/Documents/SAP/SAP GUI/C.xlsx\")\n",
    "end = time.time()\n",
    "print(f\"Se importo C ({len(contratos)} registros/{round(end - start,1)} segundos)\")\n",
    "\n",
    "start = time.time()\n",
    "consumos = pd.read_excel(\"C:/Users/ordonez/Documents/SAP/SAP GUI/ConsumosMicro.xlsx\")\n",
    "end = time.time()\n",
    "print(f\"Se importo ConsumoMicro ({len(consumos)} registros/{round((end - start)/60,1)} minutos\")\n"
   ]
  },
  {
   "cell_type": "markdown",
   "id": "2a7eb974",
   "metadata": {},
   "source": [
    "## Importando proveedores y mat-prov"
   ]
  },
  {
   "cell_type": "code",
   "execution_count": 3,
   "id": "c3072bd1",
   "metadata": {},
   "outputs": [
    {
     "name": "stdout",
     "output_type": "stream",
     "text": [
      "Se importo prov (1427 registros/1.2 segundos)\n",
      "Se importo matProv (45343 registros/1.8 segundos)\n"
     ]
    }
   ],
   "source": [
    "import time\n",
    "start = time.time()\n",
    "prov = pd.read_excel(\"proveedores.xlsx\")\n",
    "end = time.time()\n",
    "print(f\"Se importo prov ({len(prov)} registros/{round(end - start,1)} segundos)\")\n",
    "\n",
    "start = time.time()\n",
    "matProv = pd.read_excel(\"mat-prov.xlsx\")\n",
    "end = time.time()\n",
    "print(f\"Se importo matProv ({len(matProv)} registros/{round(end - start,1)} segundos)\")"
   ]
  },
  {
   "cell_type": "markdown",
   "id": "12e9b15b",
   "metadata": {},
   "source": [
    "### Materiales relacionados por proveedor"
   ]
  },
  {
   "cell_type": "code",
   "execution_count": 24,
   "id": "84eb81ad",
   "metadata": {},
   "outputs": [
    {
     "data": {
      "text/plain": [
       "[1000155,\n",
       " 1000156,\n",
       " 1000153,\n",
       " 1000154,\n",
       " 1000153,\n",
       " 1000155,\n",
       " 1055568,\n",
       " 1055569,\n",
       " 1051331,\n",
       " 1055569,\n",
       " 1000155]"
      ]
     },
     "execution_count": 24,
     "metadata": {},
     "output_type": "execute_result"
    }
   ],
   "source": [
    "material = 1000155\n",
    "listProv = matProv[matProv['id_mat']==material]['id_prov'].values.tolist()\n",
    "matProv[matProv['id_prov'].isin(listProv)]['id_mat'].values.tolist()"
   ]
  },
  {
   "cell_type": "code",
   "execution_count": 16,
   "id": "f3d7bd40",
   "metadata": {},
   "outputs": [
    {
     "data": {
      "text/plain": [
       "[600356, 801228, 809817]"
      ]
     },
     "execution_count": 16,
     "metadata": {},
     "output_type": "execute_result"
    }
   ],
   "source": [
    "listProv"
   ]
  },
  {
   "cell_type": "markdown",
   "id": "09a0ce2c",
   "metadata": {},
   "source": [
    "## Acondiciona dataframe Materiales"
   ]
  },
  {
   "cell_type": "code",
   "execution_count": null,
   "id": "a99ddbb9",
   "metadata": {},
   "outputs": [],
   "source": [
    "#Borrar los materiales de los almacenes 1140 y 1142 del centro 1002\n",
    "indexABorrar = materiales[(materiales['Ce.']==1002) & (materiales['Almacén'].isin(['1141','1140']))].index\n",
    "materiales.drop(indexABorrar, inplace=True)\n",
    "print('Se borraron los materiales de los almacenes 1140 y 1142 del centro 1002.')\n",
    "\n",
    "#Creamos el id del dataframe materiales\n",
    "materiales[\"id_mat\"] = materiales[\"Almacén\"] + materiales[\"Material\"].astype(str)\n",
    "materiales.set_index('id_mat', inplace=True)\n",
    "print('Se creó id_mat')\n",
    "\n",
    "#Creamos la columna familia\n",
    "def crearFlia(jquia):\n",
    "    flia = jquia[:5][3:]\n",
    "    return flia\n",
    "materiales['flia'] = materiales['Jquía.productos'].apply(crearFlia)\n",
    "materiales[['Material','Texto breve de material','Jquía.productos','flia']]\n",
    "print('Se creó la columna flia en df materiales.')"
   ]
  },
  {
   "cell_type": "markdown",
   "id": "772382ca",
   "metadata": {},
   "source": [
    "## Busqueda"
   ]
  },
  {
   "cell_type": "code",
   "execution_count": null,
   "id": "8f58834b",
   "metadata": {},
   "outputs": [],
   "source": [
    "columna = 'Texto breve de material'\n",
    "texto1 = '1010'\n",
    "dfBusqueda1 = materiales[materiales[columna].str.contains(texto1,case=False)][['Material','Texto breve de material','Ce.','Almacén','Grupo de artículos', 'GCp']]\n",
    "dfBusqueda1\n",
    "#dfBusqueda1.to_excel('C:/Users/ordonez/Documents/SAP/SAP GUI/busqueda1.xlsx')"
   ]
  },
  {
   "cell_type": "markdown",
   "id": "d108213a",
   "metadata": {},
   "source": [
    "## Busqueda tipo like"
   ]
  },
  {
   "cell_type": "code",
   "execution_count": null,
   "id": "07f34610",
   "metadata": {},
   "outputs": [],
   "source": [
    "columna = 'Texto breve de material'\n",
    "texto1 = 'SAE'\n",
    "texto2 = '1010'\n",
    "\n",
    "dfBusqueda1 = materiales[(materiales[columna].str.contains(texto1,case=False)) & (materiales[columna].str.contains(texto2,case=False))][['Material','Texto breve de material','Ce.','Almacén','Grupo de artículos', 'GCp']]\n",
    "dfBusqueda1\n",
    "#dfBusqueda1.to_excel('C:/Users/ordonez/Documents/SAP/SAP GUI/busqueda1.xlsx')"
   ]
  },
  {
   "cell_type": "code",
   "execution_count": null,
   "id": "41600f44",
   "metadata": {},
   "outputs": [],
   "source": [
    "columna = 'Texto breve de material'\n",
    "texto1 = 'SAE'\n",
    "texto2 = '1010'\n",
    "\n",
    "dfBusqueda2 = materiales[(materiales[columna].str.contains(texto1,case=False)) | (materiales[columna].str.contains(texto2,case=False))][['Material','Texto breve de material','Ce.','Almacén','Grupo de artículos', 'GCp']]\n",
    "dfBusqueda2 = dfBusqueda2['Material']\n",
    "#dfBusqueda2.to_excel('C:/Users/ordonez/Documents/SAP/SAP GUI/busqueda2.xlsx')"
   ]
  },
  {
   "cell_type": "code",
   "execution_count": null,
   "id": "8f857753",
   "metadata": {},
   "outputs": [],
   "source": [
    "columna = 'Grupo de artículos'\n",
    "texto1 = 'toyo'\n",
    "texto2 = 'hilu'\n",
    "\n",
    "dfBusqueda3 = materiales[(materiales[columna].str.contains(texto1,case=False)) | (materiales[columna].str.contains(texto2,case=False))][['Material','Texto breve de material','Ce.','Almacén','Grupo de artículos', 'GCp']]\n",
    "dfBusqueda3 = dfBusqueda3['Material']\n",
    "dfBusqueda3"
   ]
  },
  {
   "cell_type": "code",
   "execution_count": null,
   "id": "bb475fcb",
   "metadata": {},
   "outputs": [],
   "source": [
    "pd.merge(dfBusqueda3,dfBusqueda2,on='Material',how='outer')"
   ]
  },
  {
   "cell_type": "markdown",
   "id": "523e5777",
   "metadata": {},
   "source": [
    "## Análisis de Bloqueados"
   ]
  },
  {
   "cell_type": "code",
   "execution_count": 1,
   "id": "55827fbc",
   "metadata": {},
   "outputs": [],
   "source": [
    "import pandas as pd\n",
    "import numpy as np\n",
    "import re"
   ]
  },
  {
   "cell_type": "code",
   "execution_count": 8,
   "id": "ae5d2728",
   "metadata": {},
   "outputs": [],
   "source": [
    "bloq = pd.read_excel(\"C:/Users/ordonez/Documents/SAP/SAP GUI/bloqueados.xlsx\")\n",
    "bloq.columns = ['Material', 'mov', 'Cant', 'Centro',\n",
    "       'FechaCont', 'Pedido', 'Referencia', 'Prov',\n",
    "       'Doc', 'Pos']"
   ]
  },
  {
   "cell_type": "code",
   "execution_count": 27,
   "id": "228f8259",
   "metadata": {},
   "outputs": [],
   "source": [
    "patron = re.compile(r'[1-9]+')\n",
    "#\n",
    "def eliminarCeros(cadena):\n",
    "    respuesta = \"*\"\n",
    "    if not (pd.isna(cadena)):\n",
    "        respuesta = \"\".join(patron.findall(cadena))\n",
    "    return respuesta\n",
    "\n",
    "bloq['Remitos'] = bloq['Referencia'].apply(eliminarCeros)"
   ]
  },
  {
   "cell_type": "code",
   "execution_count": 28,
   "id": "c743b2e0",
   "metadata": {},
   "outputs": [
    {
     "data": {
      "text/html": [
       "<div>\n",
       "<style scoped>\n",
       "    .dataframe tbody tr th:only-of-type {\n",
       "        vertical-align: middle;\n",
       "    }\n",
       "\n",
       "    .dataframe tbody tr th {\n",
       "        vertical-align: top;\n",
       "    }\n",
       "\n",
       "    .dataframe thead th {\n",
       "        text-align: right;\n",
       "    }\n",
       "</style>\n",
       "<table border=\"1\" class=\"dataframe\">\n",
       "  <thead>\n",
       "    <tr style=\"text-align: right;\">\n",
       "      <th></th>\n",
       "      <th>Material</th>\n",
       "      <th>mov</th>\n",
       "      <th>Cant</th>\n",
       "      <th>Centro</th>\n",
       "      <th>FechaCont</th>\n",
       "      <th>Pedido</th>\n",
       "      <th>Referencia</th>\n",
       "      <th>Prov</th>\n",
       "      <th>Doc</th>\n",
       "      <th>Pos</th>\n",
       "      <th>Remitos</th>\n",
       "    </tr>\n",
       "  </thead>\n",
       "  <tbody>\n",
       "    <tr>\n",
       "      <th>0</th>\n",
       "      <td>1000372.0</td>\n",
       "      <td>103</td>\n",
       "      <td>1080.0</td>\n",
       "      <td>1003</td>\n",
       "      <td>2020-06-01</td>\n",
       "      <td>4500148296</td>\n",
       "      <td>0014R00609870</td>\n",
       "      <td>803772</td>\n",
       "      <td>5000841929</td>\n",
       "      <td>60</td>\n",
       "      <td>146987</td>\n",
       "    </tr>\n",
       "    <tr>\n",
       "      <th>1</th>\n",
       "      <td>1000372.0</td>\n",
       "      <td>103</td>\n",
       "      <td>17280.0</td>\n",
       "      <td>1003</td>\n",
       "      <td>2020-06-01</td>\n",
       "      <td>4500148296</td>\n",
       "      <td>0014R00609871</td>\n",
       "      <td>803772</td>\n",
       "      <td>5000842050</td>\n",
       "      <td>60</td>\n",
       "      <td>1469871</td>\n",
       "    </tr>\n",
       "    <tr>\n",
       "      <th>2</th>\n",
       "      <td>1000372.0</td>\n",
       "      <td>103</td>\n",
       "      <td>2160.0</td>\n",
       "      <td>1003</td>\n",
       "      <td>2020-06-01</td>\n",
       "      <td>4500148296</td>\n",
       "      <td>0014R00609872</td>\n",
       "      <td>803772</td>\n",
       "      <td>5000842051</td>\n",
       "      <td>60</td>\n",
       "      <td>1469872</td>\n",
       "    </tr>\n",
       "    <tr>\n",
       "      <th>3</th>\n",
       "      <td>1000380.0</td>\n",
       "      <td>103</td>\n",
       "      <td>26400.0</td>\n",
       "      <td>1003</td>\n",
       "      <td>2020-06-01</td>\n",
       "      <td>4500148296</td>\n",
       "      <td>0005R00421868</td>\n",
       "      <td>803772</td>\n",
       "      <td>5000842447</td>\n",
       "      <td>110</td>\n",
       "      <td>5421868</td>\n",
       "    </tr>\n",
       "    <tr>\n",
       "      <th>4</th>\n",
       "      <td>1000397.0</td>\n",
       "      <td>103</td>\n",
       "      <td>510.0</td>\n",
       "      <td>1003</td>\n",
       "      <td>2020-06-01</td>\n",
       "      <td>4500148991</td>\n",
       "      <td>0005R00421690</td>\n",
       "      <td>803772</td>\n",
       "      <td>5000842496</td>\n",
       "      <td>20</td>\n",
       "      <td>542169</td>\n",
       "    </tr>\n",
       "    <tr>\n",
       "      <th>...</th>\n",
       "      <td>...</td>\n",
       "      <td>...</td>\n",
       "      <td>...</td>\n",
       "      <td>...</td>\n",
       "      <td>...</td>\n",
       "      <td>...</td>\n",
       "      <td>...</td>\n",
       "      <td>...</td>\n",
       "      <td>...</td>\n",
       "      <td>...</td>\n",
       "      <td>...</td>\n",
       "    </tr>\n",
       "    <tr>\n",
       "      <th>46055</th>\n",
       "      <td>1059090.0</td>\n",
       "      <td>105</td>\n",
       "      <td>3.0</td>\n",
       "      <td>1007</td>\n",
       "      <td>2022-03-10</td>\n",
       "      <td>4800145726</td>\n",
       "      <td>00003R00051481</td>\n",
       "      <td>803388</td>\n",
       "      <td>5001037289</td>\n",
       "      <td>1</td>\n",
       "      <td>351481</td>\n",
       "    </tr>\n",
       "    <tr>\n",
       "      <th>46056</th>\n",
       "      <td>1059090.0</td>\n",
       "      <td>105</td>\n",
       "      <td>3.0</td>\n",
       "      <td>1007</td>\n",
       "      <td>2022-03-10</td>\n",
       "      <td>4800145726</td>\n",
       "      <td>00003R00051480</td>\n",
       "      <td>803388</td>\n",
       "      <td>5001037288</td>\n",
       "      <td>1</td>\n",
       "      <td>35148</td>\n",
       "    </tr>\n",
       "    <tr>\n",
       "      <th>46057</th>\n",
       "      <td>1059105.0</td>\n",
       "      <td>105</td>\n",
       "      <td>2.0</td>\n",
       "      <td>1007</td>\n",
       "      <td>2022-03-10</td>\n",
       "      <td>4800145726</td>\n",
       "      <td>00003R00051482</td>\n",
       "      <td>803388</td>\n",
       "      <td>5001037320</td>\n",
       "      <td>2</td>\n",
       "      <td>351482</td>\n",
       "    </tr>\n",
       "    <tr>\n",
       "      <th>46058</th>\n",
       "      <td>1060679.0</td>\n",
       "      <td>105</td>\n",
       "      <td>2400.0</td>\n",
       "      <td>1007</td>\n",
       "      <td>2022-03-10</td>\n",
       "      <td>4800146104</td>\n",
       "      <td>00003R00002682</td>\n",
       "      <td>803379</td>\n",
       "      <td>5001037325</td>\n",
       "      <td>12</td>\n",
       "      <td>32682</td>\n",
       "    </tr>\n",
       "    <tr>\n",
       "      <th>46059</th>\n",
       "      <td>1061879.0</td>\n",
       "      <td>105</td>\n",
       "      <td>6.0</td>\n",
       "      <td>1007</td>\n",
       "      <td>2022-03-10</td>\n",
       "      <td>4800145807</td>\n",
       "      <td>00019R00057516</td>\n",
       "      <td>800735</td>\n",
       "      <td>5001037344</td>\n",
       "      <td>2</td>\n",
       "      <td>1957516</td>\n",
       "    </tr>\n",
       "  </tbody>\n",
       "</table>\n",
       "<p>46060 rows × 11 columns</p>\n",
       "</div>"
      ],
      "text/plain": [
       "        Material  mov     Cant  Centro  FechaCont      Pedido      Referencia  \\\n",
       "0      1000372.0  103   1080.0    1003 2020-06-01  4500148296   0014R00609870   \n",
       "1      1000372.0  103  17280.0    1003 2020-06-01  4500148296   0014R00609871   \n",
       "2      1000372.0  103   2160.0    1003 2020-06-01  4500148296   0014R00609872   \n",
       "3      1000380.0  103  26400.0    1003 2020-06-01  4500148296   0005R00421868   \n",
       "4      1000397.0  103    510.0    1003 2020-06-01  4500148991   0005R00421690   \n",
       "...          ...  ...      ...     ...        ...         ...             ...   \n",
       "46055  1059090.0  105      3.0    1007 2022-03-10  4800145726  00003R00051481   \n",
       "46056  1059090.0  105      3.0    1007 2022-03-10  4800145726  00003R00051480   \n",
       "46057  1059105.0  105      2.0    1007 2022-03-10  4800145726  00003R00051482   \n",
       "46058  1060679.0  105   2400.0    1007 2022-03-10  4800146104  00003R00002682   \n",
       "46059  1061879.0  105      6.0    1007 2022-03-10  4800145807  00019R00057516   \n",
       "\n",
       "         Prov         Doc  Pos  Remitos  \n",
       "0      803772  5000841929   60   146987  \n",
       "1      803772  5000842050   60  1469871  \n",
       "2      803772  5000842051   60  1469872  \n",
       "3      803772  5000842447  110  5421868  \n",
       "4      803772  5000842496   20   542169  \n",
       "...       ...         ...  ...      ...  \n",
       "46055  803388  5001037289    1   351481  \n",
       "46056  803388  5001037288    1    35148  \n",
       "46057  803388  5001037320    2   351482  \n",
       "46058  803379  5001037325   12    32682  \n",
       "46059  800735  5001037344    2  1957516  \n",
       "\n",
       "[46060 rows x 11 columns]"
      ]
     },
     "execution_count": 28,
     "metadata": {},
     "output_type": "execute_result"
    }
   ],
   "source": [
    "bloq"
   ]
  },
  {
   "cell_type": "code",
   "execution_count": null,
   "id": "cf17472b",
   "metadata": {},
   "outputs": [],
   "source": [
    "# PENDIENTE se debe quitar los ceros al campo referencias\n",
    "\n",
    "#Para concatenar\n",
    "#bloq[\"key\"] = bloq[\"Material\"].astype(str) + bloq[\"Pedido\"].astype(str)"
   ]
  },
  {
   "cell_type": "code",
   "execution_count": null,
   "id": "1837a824",
   "metadata": {},
   "outputs": [],
   "source": [
    "#convierte en negativo los 105 y los 106\n",
    "def transformar(x,y):\n",
    "    if x == 103:\n",
    "        return y\n",
    "    elif x == 104:\n",
    "        return y\n",
    "    elif x == 105:\n",
    "        return y * (-1)\n",
    "    elif x == 106:\n",
    "        return y * (-1)\n",
    "\n",
    "bloq['Cantidad'] = bloq.apply(lambda row: transformar(row['Clase de movimiento'],row['Cantidad']), axis=1)"
   ]
  },
  {
   "cell_type": "code",
   "execution_count": null,
   "id": "a333a786",
   "metadata": {},
   "outputs": [],
   "source": [
    "#Suma 103+104+105+106\n",
    "pendientes = bloq.groupby(by = \"Material\")['Cantidad'].sum()\n",
    "\n",
    "pendientes = pendientes[x!=0.0]"
   ]
  },
  {
   "cell_type": "code",
   "execution_count": null,
   "id": "89754f3b",
   "metadata": {},
   "outputs": [],
   "source": [
    "bloq[bloq[\"Material\"].isin(pendientes.keys())]"
   ]
  },
  {
   "cell_type": "code",
   "execution_count": null,
   "id": "16df3158",
   "metadata": {},
   "outputs": [],
   "source": [
    "bloq[bloq[\"Material\"]==1004085]"
   ]
  },
  {
   "cell_type": "code",
   "execution_count": null,
   "id": "3dd87178",
   "metadata": {},
   "outputs": [],
   "source": [
    "#Para exportar a excel\n",
    "#b = bloq.head()\n",
    "#b.to_excel('C:/Users/ordonez/Documents/SAP/SAP GUI/prueba.xlsx')"
   ]
  },
  {
   "cell_type": "markdown",
   "id": "f745320d",
   "metadata": {},
   "source": [
    "## Valores únicos"
   ]
  },
  {
   "cell_type": "code",
   "execution_count": null,
   "id": "58309825",
   "metadata": {},
   "outputs": [],
   "source": [
    "dato = np.unique(materiales.Material)"
   ]
  },
  {
   "cell_type": "code",
   "execution_count": null,
   "id": "bf40f415",
   "metadata": {},
   "outputs": [],
   "source": [
    "dato"
   ]
  },
  {
   "cell_type": "code",
   "execution_count": null,
   "id": "1eafc4b5",
   "metadata": {},
   "outputs": [],
   "source": [
    "data = np.unique(materiales['Almacén'], return_counts=True )"
   ]
  },
  {
   "cell_type": "code",
   "execution_count": null,
   "id": "6a2a5672",
   "metadata": {},
   "outputs": [],
   "source": [
    "data"
   ]
  },
  {
   "cell_type": "code",
   "execution_count": null,
   "id": "54623123",
   "metadata": {},
   "outputs": [],
   "source": [
    "data[1]"
   ]
  },
  {
   "cell_type": "code",
   "execution_count": null,
   "id": "a73a685e",
   "metadata": {},
   "outputs": [],
   "source": [
    "plt.pie(x = data[1],\n",
    "       labels=data[0],\n",
    "       startangle=90,\n",
    "       radius = 2)\n",
    "plt.show()"
   ]
  },
  {
   "cell_type": "markdown",
   "id": "306f3458",
   "metadata": {},
   "source": [
    "## Consumos"
   ]
  },
  {
   "cell_type": "code",
   "execution_count": null,
   "id": "b70f3caf",
   "metadata": {},
   "outputs": [],
   "source": [
    "consumos.info()\n"
   ]
  },
  {
   "cell_type": "markdown",
   "id": "e64f6277",
   "metadata": {},
   "source": [
    "## Consumo de los Ultimos 12 meses"
   ]
  },
  {
   "cell_type": "code",
   "execution_count": null,
   "id": "c52921ba",
   "metadata": {},
   "outputs": [],
   "source": [
    "hasta = str(date.today().year  )+\"-\"+str(date.today().month)+\"-01\"\n",
    "desde = str(date.today().year-1)+\"-\"+str(date.today().month)+\"-01\"\n",
    "condicion = (consumos['Fecha'] >= desde) & (consumos['Fecha'] < hasta)\n",
    "ult12 = consumos.loc[condicion][['Fecha','Material','Alm','Salida']]"
   ]
  },
  {
   "cell_type": "code",
   "execution_count": null,
   "id": "761daede",
   "metadata": {},
   "outputs": [],
   "source": [
    "ult12"
   ]
  },
  {
   "cell_type": "code",
   "execution_count": null,
   "id": "7b9acdd3",
   "metadata": {},
   "outputs": [],
   "source": [
    "ult12_1125 = ult12[ult12['Alm']=='1125']"
   ]
  },
  {
   "cell_type": "code",
   "execution_count": null,
   "id": "47ae9ac8",
   "metadata": {},
   "outputs": [],
   "source": [
    "ult12_1125"
   ]
  },
  {
   "cell_type": "code",
   "execution_count": null,
   "id": "9cdc06c1",
   "metadata": {},
   "outputs": [],
   "source": [
    "#Dos formas de hacerlo. Ammbas generan warning.\n",
    "#ult12_1125['Mes'] = ult12_1125['Fecha'].dt.month\n",
    "\n",
    "def crearMes(fecha):\n",
    "    mes = fecha.month\n",
    "    return mes\n",
    "ult12_1125['Mes'] = ult12_1125['Fecha'].apply(crearMes)"
   ]
  },
  {
   "cell_type": "code",
   "execution_count": null,
   "id": "2be251de",
   "metadata": {},
   "outputs": [],
   "source": [
    "ult12_1125._is_view #ult12_1125._is_copy"
   ]
  },
  {
   "cell_type": "code",
   "execution_count": null,
   "id": "f3722226",
   "metadata": {},
   "outputs": [],
   "source": [
    "ult12_1125"
   ]
  },
  {
   "cell_type": "code",
   "execution_count": null,
   "id": "e336aba7",
   "metadata": {},
   "outputs": [],
   "source": [
    "ult12_1125['Mes'] = ult12_1125['Fecha'].dt.month"
   ]
  },
  {
   "cell_type": "code",
   "execution_count": null,
   "id": "ba4424b0",
   "metadata": {},
   "outputs": [],
   "source": [
    "ult12_1125._is_view"
   ]
  },
  {
   "cell_type": "code",
   "execution_count": null,
   "id": "7f446412",
   "metadata": {},
   "outputs": [],
   "source": [
    "ult12_1125"
   ]
  },
  {
   "cell_type": "code",
   "execution_count": null,
   "id": "49b38deb",
   "metadata": {},
   "outputs": [],
   "source": [
    "materiales"
   ]
  },
  {
   "cell_type": "markdown",
   "id": "6e752c50",
   "metadata": {},
   "source": [
    "## Extraer números"
   ]
  },
  {
   "cell_type": "code",
   "execution_count": null,
   "id": "45406f2d",
   "metadata": {},
   "outputs": [],
   "source": [
    "import pandas as pd\n",
    "import numpy as np"
   ]
  },
  {
   "cell_type": "code",
   "execution_count": null,
   "id": "18f87423",
   "metadata": {},
   "outputs": [],
   "source": [
    "df = pd.read_excel(\"C:/Users/ordonez/Documents/SAP/SAP GUI/texto.xlsx\")"
   ]
  },
  {
   "cell_type": "code",
   "execution_count": null,
   "id": "8e6e6fd2",
   "metadata": {},
   "outputs": [],
   "source": [
    "df"
   ]
  },
  {
   "cell_type": "code",
   "execution_count": null,
   "id": "56bdd424",
   "metadata": {},
   "outputs": [],
   "source": [
    "def eliminarCeros(cadena):\n",
    "    lista = []\n",
    "    for x in cadena:\n",
    "        if x != '0':\n",
    "            lista.append(x)\n",
    "    return \"\".join(lista)\n",
    "\n",
    "df['Texto'].apply(eliminarCeros)\n",
    "\n",
    "#cadena = \"00003R00051481\"\n",
    "#cadena = eliminarCeros(cadena)\n",
    "#print(cadena)"
   ]
  },
  {
   "cell_type": "markdown",
   "id": "286ea4f6",
   "metadata": {},
   "source": [
    "## ¿Quién consumió?"
   ]
  },
  {
   "cell_type": "code",
   "execution_count": null,
   "id": "d0d2d1ab",
   "metadata": {},
   "outputs": [],
   "source": [
    "import pandas as pd\n",
    "import numpy as np"
   ]
  },
  {
   "cell_type": "markdown",
   "id": "050d776d",
   "metadata": {},
   "source": [
    "Procedimiento:\n",
    "1. Antes del paso 1 descargo info de consumos con MB51\n",
    "2. Antes del paso 2 copio las reservas de SinDupliar y descargo reserva-user con MB25"
   ]
  },
  {
   "cell_type": "code",
   "execution_count": null,
   "id": "6b6205b3",
   "metadata": {},
   "outputs": [],
   "source": [
    "# 1° cargo información de consumos y reservas (MB51)\n",
    "df = pd.read_excel('C:/Users/ordonez/Documents/SAP/SAP GUI/export.xlsx')\n",
    "df.columns = ['FechaContab', 'Material', 'Moc', 'Cant','Ce', 'Alm', 'reserva', 'CeRecep']\n",
    "# se devuelve las reservas sin duplicar para usar con (MB25)\n",
    "destino = 'C:/Users/ordonez/Documents/SAP/SAP GUI/SinDuplicados.xlsx'\n",
    "pd.DataFrame(df['reserva'].unique()).to_excel(destino,index=False)\n",
    "# Preparo dataframe userSAP\n",
    "userSAP = pd.read_excel('C:/Users/ordonez/Documents/UCASAL/notebooks/usuarioSAP.xlsx')"
   ]
  },
  {
   "cell_type": "code",
   "execution_count": null,
   "id": "427f5fb0",
   "metadata": {},
   "outputs": [],
   "source": [
    "# 2° cargo información reservas-usuarios (MB25)\n",
    "df2 = pd.read_excel('C:/Users/ordonez/Documents/SAP/SAP GUI/export.XLSX')\n",
    "# Elimina dupliados de la columna N° reserva\n",
    "df2 = df2.drop_duplicates(subset=['Nº reserva'])\n",
    "df2.columns = ['reserva','usuarioSAP']\n",
    "reservaDepto = pd.merge(df2,userSAP,on='usuarioSAP',how='left')[['reserva', 'usuarioSAP', 'ApellidoNombre', 'Depto',\n",
    "       'GciaDeptal']]\n",
    "pd.merge(df,reservaDepto,on='reserva',how='left').to_excel('C:/Users/ordonez/Documents/SAP/SAP GUI/export.xlsx',index=False)"
   ]
  },
  {
   "cell_type": "code",
   "execution_count": null,
   "id": "daa552c6",
   "metadata": {},
   "outputs": [],
   "source": [
    "df3 = pd.merge(df,reservaDepto,on='reserva',how='left')"
   ]
  },
  {
   "cell_type": "code",
   "execution_count": null,
   "id": "90ac8edd",
   "metadata": {},
   "outputs": [],
   "source": [
    "df3.info()"
   ]
  },
  {
   "cell_type": "code",
   "execution_count": null,
   "id": "a32720b9",
   "metadata": {},
   "outputs": [],
   "source": [
    "df"
   ]
  },
  {
   "cell_type": "code",
   "execution_count": null,
   "id": "5aab61a1",
   "metadata": {},
   "outputs": [],
   "source": []
  },
  {
   "cell_type": "markdown",
   "id": "b9c64042",
   "metadata": {},
   "source": [
    "## Limpieza de CONSUMOS_DIARIOS.xlsx"
   ]
  },
  {
   "cell_type": "code",
   "execution_count": null,
   "id": "8d95c789",
   "metadata": {},
   "outputs": [],
   "source": [
    "import pandas as pd\n",
    "import numpy as np\n",
    "\n",
    "def a_fecha(cadena):\n",
    "    fecha = cadena[0:2:1]+ '/' + cadena[3:5:1] + '/' + cadena[8:10:1]\n",
    "    return pd.to_datetime(fecha,format='%d/%m/%y')\n",
    "\n",
    "archivo = 'C:/Users/ordonez/Documents/SAP/SAP GUI/CONSUMOS_DIARIOS.xlsx'\n",
    "tipos = {'Número de Reserva Nivel 01':str,\n",
    "         'Mov':str, 'Alm':str, 'CenRec':str\n",
    "        }\n",
    "consumos = pd.read_excel(archivo,header=[2],dtype = tipos)\n",
    "consumos.columns = ['Fecha','Material','Mov','Alm','CeRec','Res','DH','Salida']\n",
    "\n",
    "\n",
    "consumos['Fecha'] = consumos['Fecha'].apply(a_fecha)\n",
    "\n",
    "consumos.to_excel(archivo,index=False)"
   ]
  },
  {
   "cell_type": "code",
   "execution_count": null,
   "id": "ebba5033",
   "metadata": {},
   "outputs": [],
   "source": []
  }
 ],
 "metadata": {
  "hide_input": false,
  "kernelspec": {
   "display_name": "Python 3 (ipykernel)",
   "language": "python",
   "name": "python3"
  },
  "language_info": {
   "codemirror_mode": {
    "name": "ipython",
    "version": 3
   },
   "file_extension": ".py",
   "mimetype": "text/x-python",
   "name": "python",
   "nbconvert_exporter": "python",
   "pygments_lexer": "ipython3",
   "version": "3.10.3"
  },
  "toc": {
   "base_numbering": 1,
   "nav_menu": {
    "height": "289.984px",
    "width": "300.982px"
   },
   "number_sections": true,
   "sideBar": true,
   "skip_h1_title": false,
   "title_cell": "Table of Contents",
   "title_sidebar": "Contents",
   "toc_cell": false,
   "toc_position": {
    "height": "calc(100% - 180px)",
    "left": "10px",
    "top": "150px",
    "width": "227.638px"
   },
   "toc_section_display": true,
   "toc_window_display": true
  }
 },
 "nbformat": 4,
 "nbformat_minor": 5
}
