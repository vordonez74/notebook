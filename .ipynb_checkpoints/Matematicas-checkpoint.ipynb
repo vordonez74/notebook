{
 "cells": [
  {
   "cell_type": "markdown",
   "id": "8817c1bd",
   "metadata": {},
   "source": [
    "## Dividiendo polinomios con numpy\n",
    "[NumPy](https://numpy.org/doc/stable/reference/generated/numpy.polymul.html)"
   ]
  },
  {
   "cell_type": "code",
   "execution_count": null,
   "id": "e4261248",
   "metadata": {},
   "outputs": [],
   "source": [
    "import numpy as np"
   ]
  },
  {
   "cell_type": "markdown",
   "id": "bc771bcb",
   "metadata": {},
   "source": [
    "$$P(x)=6x^7-x^6+0x^5-x^4+0x^3+0x^2+x$$ y $$Q(x)=2x-1$$"
   ]
  },
  {
   "cell_type": "code",
   "execution_count": null,
   "id": "f64b4b93",
   "metadata": {},
   "outputs": [],
   "source": [
    "px = np.array([6.0,-1.0,0.0,-1.0,0.0,0.0,1.0,0.0])\n",
    "qx = np.array([2.0,-1.0])\n",
    "np.polydiv(px,qx)"
   ]
  },
  {
   "cell_type": "code",
   "execution_count": null,
   "id": "5a9c10a5",
   "metadata": {},
   "outputs": [],
   "source": [
    "px =np.array([1.0,3.0,0.0,-3.0,8.0])\n",
    "qx = np.array([1.0,-2.0,1.0,-1.0])\n",
    "np.polydiv(px,qx)"
   ]
  },
  {
   "cell_type": "markdown",
   "id": "80f8cd54",
   "metadata": {},
   "source": [
    "## Cálculo de las raices de un polinomio"
   ]
  },
  {
   "cell_type": "code",
   "execution_count": null,
   "id": "c1b30b93",
   "metadata": {},
   "outputs": [],
   "source": [
    "coef = [1.0,-9.0,24.25,-18.0,4.4]\n",
    "np.roots(coef)"
   ]
  },
  {
   "cell_type": "code",
   "execution_count": null,
   "id": "de7f5795",
   "metadata": {},
   "outputs": [],
   "source": [
    "coef = [1.0,1.0,-14.0,-24.0]\n",
    "np.roots(coef)"
   ]
  },
  {
   "cell_type": "code",
   "execution_count": null,
   "id": "7c7a374c",
   "metadata": {},
   "outputs": [],
   "source": [
    "4**4-9*4**3+97/4*4**2-18*4+4"
   ]
  },
  {
   "cell_type": "code",
   "execution_count": null,
   "id": "8a8019a7",
   "metadata": {},
   "outputs": [],
   "source": []
  }
 ],
 "metadata": {
  "kernelspec": {
   "display_name": "Python 3 (ipykernel)",
   "language": "python",
   "name": "python3"
  },
  "language_info": {
   "codemirror_mode": {
    "name": "ipython",
    "version": 3
   },
   "file_extension": ".py",
   "mimetype": "text/x-python",
   "name": "python",
   "nbconvert_exporter": "python",
   "pygments_lexer": "ipython3",
   "version": "3.10.2"
  }
 },
 "nbformat": 4,
 "nbformat_minor": 5
}
