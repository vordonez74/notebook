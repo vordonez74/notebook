{
 "cells": [
  {
   "cell_type": "markdown",
   "id": "817e9362",
   "metadata": {},
   "source": [
    "# Carga de librerias"
   ]
  },
  {
   "cell_type": "code",
   "execution_count": 1,
   "id": "8a8019a7",
   "metadata": {},
   "outputs": [],
   "source": [
    "import matplotlib.pyplot as plt\n",
    "import numpy as np\n",
    "import math\n",
    "from sympy import *\n",
    "from sympy.interactive import printing"
   ]
  },
  {
   "cell_type": "markdown",
   "id": "8f2d7be0",
   "metadata": {},
   "source": [
    "1. [NumPy](https://numpy.org/doc/stable/reference/generated/numpy.polymul.html)\n",
    "2. [Manual de python](https://aprendeconalf.es/docencia/python/manual/)\n",
    "3. [matplotlib.org](https://matplotlib.org/3.5.0/index.html)"
   ]
  },
  {
   "cell_type": "markdown",
   "id": "fa917772",
   "metadata": {},
   "source": [
    "# Polinomios"
   ]
  },
  {
   "cell_type": "markdown",
   "id": "8817c1bd",
   "metadata": {},
   "source": [
    "## Dividiendo polinomios con numpy"
   ]
  },
  {
   "cell_type": "markdown",
   "id": "bc771bcb",
   "metadata": {},
   "source": [
    "$$P(x)=6x^7-x^6+0x^5-x^4+0x^3+0x^2+x$$ y $$Q(x)=2x-1$$"
   ]
  },
  {
   "cell_type": "code",
   "execution_count": null,
   "id": "f64b4b93",
   "metadata": {},
   "outputs": [],
   "source": [
    "px = np.array([6.0,-1.0,0.0,-1.0,0.0,0.0,1.0,0.0])\n",
    "qx = np.array([2.0,-1.0])\n",
    "np.polydiv(px,qx)"
   ]
  },
  {
   "cell_type": "code",
   "execution_count": null,
   "id": "5a9c10a5",
   "metadata": {},
   "outputs": [],
   "source": [
    "px =np.array([1.0,3.0,0.0,-3.0,8.0])\n",
    "qx = np.array([1.0,-2.0,1.0,-1.0])\n",
    "np.polydiv(px,qx)"
   ]
  },
  {
   "cell_type": "markdown",
   "id": "80f8cd54",
   "metadata": {},
   "source": [
    "## Cálculo de las raices de un polinomio"
   ]
  },
  {
   "cell_type": "code",
   "execution_count": null,
   "id": "c1b30b93",
   "metadata": {},
   "outputs": [],
   "source": [
    "coef = [1.0,-9.0,24.25,-18.0,4.4]\n",
    "np.roots(coef)"
   ]
  },
  {
   "cell_type": "code",
   "execution_count": null,
   "id": "de7f5795",
   "metadata": {},
   "outputs": [],
   "source": [
    "coef = [1.0,1.0,-14.0,-24.0]\n",
    "np.roots(coef)"
   ]
  },
  {
   "cell_type": "markdown",
   "id": "5dbebc1a",
   "metadata": {},
   "source": [
    "   # Grafica de funciones"
   ]
  },
  {
   "cell_type": "code",
   "execution_count": null,
   "id": "440c6aa5",
   "metadata": {},
   "outputs": [],
   "source": [
    "def f1(x):\n",
    "    return 2 * x ** 2 + 5 * x -2\n",
    "def f2(x):\n",
    "    return 4 * x + 1\n",
    "\n",
    "#valores que toma el eje x\n",
    "#x = range(-10,15)\n",
    "x = np.arange(-10,15,0.1)\n",
    "\n",
    "#graficar ambas funciones\n",
    "plt.plot(x,[f1(i) for i in x])\n",
    "plt.plot(x,[f2(i) for i in x])\n",
    "\n",
    "#establece el color de los ejes\n",
    "plt.axhline(0,color='black')\n",
    "plt.axvline(0,color='black')\n",
    "\n",
    "#limitar los valores de los ejes\n",
    "plt.xlim(-10,10)\n",
    "plt.ylim(-10,10)\n",
    "\n",
    "#Guardar grafico como imagen PNG\n",
    "plt.savefig('output.png')\n",
    "\n",
    "#Mostrarlo\n",
    "plt.show()"
   ]
  },
  {
   "cell_type": "code",
   "execution_count": null,
   "id": "38778f2a",
   "metadata": {},
   "outputs": [],
   "source": [
    "x = np.arange(0,10,0.1)\n",
    "y = x*np.cos(x)\n",
    "\n",
    "plt.plot(x,y)\n",
    "plt.xlabel('x')\n",
    "plt.ylabel('y')\n",
    "plt.title('Lab DLS')\n",
    "plt.show()"
   ]
  },
  {
   "cell_type": "markdown",
   "id": "1217ae06",
   "metadata": {},
   "source": [
    "## Gráfica de seno, coseno y tangente en Python."
   ]
  },
  {
   "cell_type": "code",
   "execution_count": 3,
   "id": "97508b3f",
   "metadata": {},
   "outputs": [
    {
     "data": {
      "image/png": "[encoded data removed]",
      "text/plain": [
       "<Figure size 432x288 with 1 Axes>"
      ]
     },
     "metadata": {
      "needs_background": "light"
     },
     "output_type": "display_data"
    }
   ],
   "source": [
    "grados = []\n",
    "seno = []\n",
    "coseno = []\n",
    "tangente = []\n",
    "\n",
    "for i in range(0,540):\n",
    "    grados.append(i)\n",
    "    radianes = (i*math.pi)/180\n",
    "    seno.append(math.sin(radianes))\n",
    "    coseno.append(math.cos(radianes))\n",
    "    tangente.append(math.tan(radianes))\n",
    "    \n",
    "plt.ylim(-2,2)\n",
    "plt.plot(grados,seno,\"r\")\n",
    "plt.plot(grados,coseno,\"b\")\n",
    "plt.plot(grados,tangente)\n",
    "plt.show()"
   ]
  },
  {
   "cell_type": "code",
   "execution_count": null,
   "id": "9b3fe64c",
   "metadata": {},
   "outputs": [],
   "source": []
  },
  {
   "cell_type": "code",
   "execution_count": null,
   "id": "95127ca2",
   "metadata": {},
   "outputs": [],
   "source": []
  },
  {
   "cell_type": "markdown",
   "id": "ee263eda",
   "metadata": {},
   "source": [
    "# Graficar"
   ]
  },
  {
   "cell_type": "code",
   "execution_count": null,
   "id": "24dc0e69",
   "metadata": {},
   "outputs": [],
   "source": [
    "x = np.arange(-5,0,0.1)\n",
    "y = 1/x**2\n",
    "x2 = np.arange(0.1,5,0.1)\n",
    "y2 = 1/x2**2"
   ]
  },
  {
   "cell_type": "code",
   "execution_count": null,
   "id": "c704d108",
   "metadata": {},
   "outputs": [],
   "source": [
    "plt.plot(x,y, color = 'tab:purple')\n",
    "plt.plot(x2,y2, color = 'tab:grey')\n",
    "#Dibuja puntos\n",
    "#plt.plot([1, 2, 3], [1, 4, 9], 'ro')\n",
    "plt.title('Gráfica de funciones')\n",
    "plt.xlabel('x')\n",
    "plt.ylabel('y')\n",
    "plt.axis([-6,6,-1,10])\n",
    "plt.axhline(0,color='black', linestyle = 'dashed')\n",
    "plt.axvline(0,color='black', linestyle = 'dashed')\n",
    "plt.grid(axis = 'y', color = 'gray', linestyle = 'dashed')\n",
    "plt.grid(axis = 'x', color = 'gray', linestyle = 'dashed')\n",
    "#plt.savefig('output.png')\n",
    "plt.show()"
   ]
  },
  {
   "cell_type": "markdown",
   "id": "8f051dec",
   "metadata": {},
   "source": [
    "# Limites"
   ]
  },
  {
   "cell_type": "code",
   "execution_count": null,
   "id": "36ae3a26",
   "metadata": {},
   "outputs": [],
   "source": [
    "x1 = np.arange(-1000,-0.1,100)\n",
    "for i in x1:\n",
    "    print(1/i**2)"
   ]
  },
  {
   "cell_type": "code",
   "execution_count": null,
   "id": "42eafd63",
   "metadata": {},
   "outputs": [],
   "source": []
  },
  {
   "cell_type": "markdown",
   "id": "01f65781",
   "metadata": {},
   "source": [
    "# Raices de ecuación cuadratica"
   ]
  },
  {
   "cell_type": "code",
   "execution_count": 26,
   "id": "d25fff0a",
   "metadata": {},
   "outputs": [],
   "source": [
    "def raices(a,b,c):\n",
    "    if ((a==0 and b==0)or(a==0 and b==0 and -c/a<0)):\n",
    "        print(\"No hay raices\")\n",
    "    if (a==0 and b!=0):\n",
    "        print(f\"La raiz es {-c/b}\")\n",
    "    if (a!=0 and b==0 and (-c/a>=0)):\n",
    "        print(f\"La raices son + -{(-c/a)**(1/2)}\")\n",
    "    r = b**2-4*a*c\n",
    "    if (a!=0 and b!=0 and r>=0):\n",
    "        print(f\"   ×1 = {round((-b+r**(1/2))/(2*a),4)}\")\n",
    "        print(f\"   x2 = {round((-b-r**(1/2))/(2*a),4)}\")\n",
    "        print(f\"  v({-b/(2*a)},{(b**2-4*a*c)/(4*a)})\")\n",
    "    if (a!=0 and b!=0 and r<0):\n",
    "        print(f\"   ×1 = {(-b+r**(1/2))/(2*a)}\")\n",
    "        print(f\"   x2 = {(-b-r**(1/2))/(2*a)}\")"
   ]
  },
  {
   "cell_type": "code",
   "execution_count": 27,
   "id": "0afe85de",
   "metadata": {},
   "outputs": [
    {
     "name": "stdout",
     "output_type": "stream",
     "text": [
      "Coeficiente cuadrático: 1\n",
      "Coeficiente lineal: 1\n",
      "Coeficiente independiente: 1\n",
      "   ×1 = (-0.49999999999999994+0.8660254037844386j)\n",
      "   x2 = (-0.5-0.8660254037844386j)\n"
     ]
    }
   ],
   "source": [
    "a = float(input(\"Coeficiente cuadrático: \"))\n",
    "b = float(input(\"Coeficiente lineal: \"))\n",
    "c = float(input(\"Coeficiente independiente: \"))\n",
    "\n",
    "raices(a,b,c)"
   ]
  },
  {
   "cell_type": "code",
   "execution_count": null,
   "id": "1dffab28",
   "metadata": {},
   "outputs": [],
   "source": [
    "a=1\n",
    "b=88/65\n",
    "c=-11/13\n",
    "raices(a,b,c)"
   ]
  },
  {
   "cell_type": "code",
   "execution_count": null,
   "id": "bdec6b68",
   "metadata": {},
   "outputs": [],
   "source": [
    "for i in range(18-1,2,-1):\n",
    "        print(f'{i}:{18%i}')"
   ]
  },
  {
   "cell_type": "code",
   "execution_count": null,
   "id": "f635cb59",
   "metadata": {},
   "outputs": [],
   "source": [
    "def esPrimo(a):\n",
    "    primo = True\n",
    "    for i in range(a-1,2,-1):\n",
    "        print(i)\n",
    "        if a%i == 0:\n",
    "            primo = False\n",
    "            break\n",
    "    return primo"
   ]
  },
  {
   "cell_type": "code",
   "execution_count": null,
   "id": "92610ad7",
   "metadata": {},
   "outputs": [],
   "source": [
    "esPrimo(121)"
   ]
  },
  {
   "cell_type": "code",
   "execution_count": null,
   "id": "5f2be927",
   "metadata": {},
   "outputs": [],
   "source": []
  },
  {
   "cell_type": "markdown",
   "id": "92b09de8",
   "metadata": {},
   "source": [
    "## Cálculo de raices de polinomios"
   ]
  },
  {
   "cell_type": "code",
   "execution_count": 28,
   "id": "b8112f4e",
   "metadata": {},
   "outputs": [
    {
     "data": {
      "text/plain": [
       "array([-2.32471796+0.j        , -0.33764102+0.56227951j,\n",
       "       -0.33764102-0.56227951j])"
      ]
     },
     "execution_count": 28,
     "metadata": {},
     "output_type": "execute_result"
    }
   ],
   "source": [
    "coef = [1,3,2,1]\n",
    "np.roots(coef)"
   ]
  },
  {
   "cell_type": "code",
   "execution_count": null,
   "id": "5d0ba4a8",
   "metadata": {},
   "outputs": [],
   "source": [
    "\n",
    "x=1\n",
    "c=5/2\n",
    "v=3/2\n",
    "coef = [x,c,v]\n",
    "np.roots(coef)"
   ]
  },
  {
   "cell_type": "markdown",
   "id": "a66b5f47",
   "metadata": {},
   "source": [
    "# Logaritmos\n",
    "$\\log{_a}{x}=y <=> a^{y}=x$"
   ]
  },
  {
   "cell_type": "code",
   "execution_count": null,
   "id": "c0912e9b",
   "metadata": {},
   "outputs": [],
   "source": [
    "math.log(10)"
   ]
  },
  {
   "cell_type": "markdown",
   "id": "a5b39684",
   "metadata": {},
   "source": [
    "## Propiedades\n",
    "1. $\\log{_a}{1}=0$\n",
    "2. $\\log{_a}{a}=1$\n",
    "3. $\\log{_a}{a^x}=x$\n",
    "4. $a^{\\log{_a}{x}}=x$\n",
    "5. $\\log{_b}{(x.y)}=\\log{_b}{x}+\\log{_b}{y}$ con $x>0$ y $y>0$\n",
    "6. $\\log{_b}{\\frac{x}{y}}=\\log{_b}{x}-\\log{_b}{y}$ con $x>0$ y $y>0$\n",
    "7. $\\log{_b}{x^n}=n*\\log{_b}{x}$ con $x>0$\n",
    "8. $\\log{_a}{x}=\\frac{\\log{_d}{x}}{\\log{_d}{a}}$"
   ]
  },
  {
   "cell_type": "code",
   "execution_count": null,
   "id": "c26acbd3",
   "metadata": {},
   "outputs": [],
   "source": [
    "math.log(1/81,3**(1/2))"
   ]
  },
  {
   "cell_type": "code",
   "execution_count": null,
   "id": "e4028528",
   "metadata": {},
   "outputs": [],
   "source": [
    "math.log(0.125,2)"
   ]
  },
  {
   "cell_type": "code",
   "execution_count": null,
   "id": "c357b44f",
   "metadata": {},
   "outputs": [],
   "source": [
    "math.tan(50*math.pi/180)*4"
   ]
  },
  {
   "cell_type": "markdown",
   "id": "53e3d1a7",
   "metadata": {},
   "source": [
    "# Distancia euclidiana"
   ]
  },
  {
   "cell_type": "code",
   "execution_count": null,
   "id": "ff73c6ac",
   "metadata": {},
   "outputs": [],
   "source": [
    "a = np.array((1,2,3))\n",
    "b = np.array((4,5,6))\n",
    "dist = np.linalg.norm(a-b)\n",
    "print(dist)"
   ]
  },
  {
   "cell_type": "code",
   "execution_count": null,
   "id": "82a061b1",
   "metadata": {},
   "outputs": [],
   "source": [
    "dist2 = math.sqrt((a[0]-b[0])**2+(a[1]-b[1])**2+(a[2]-b[2])**2)\n",
    "dist2"
   ]
  },
  {
   "cell_type": "code",
   "execution_count": null,
   "id": "4e328836",
   "metadata": {},
   "outputs": [],
   "source": [
    "dist3 = np.sqrt(np.sum(np.square(a-b)))\n",
    "dist3"
   ]
  },
  {
   "cell_type": "code",
   "execution_count": null,
   "id": "9a6092dd",
   "metadata": {},
   "outputs": [],
   "source": [
    "dist4 = math.dist(a,b)\n",
    "dist4"
   ]
  },
  {
   "cell_type": "markdown",
   "id": "6cfb28e5",
   "metadata": {},
   "source": [
    "# Vectores\n",
    "Existen magnitudes que, una vez fijada la unidad de medida, se determinan por medio de un único número real. Tales magnitudes, como lo son la longitud de una barra, el volumen, la temperatura y masa de un\n",
    "cuerpo se denominan magnitudes escalares. Hay otras magnitudes que no pueden determinarse mediante un único número real. Por ejemplo, para la velocidad de un móvil no basta conocer su intensidad, sino que hace falta conocer adem´as la direcci´on y el sentido en que el m´ovil se mueve."
   ]
  },
  {
   "cell_type": "markdown",
   "id": "50179e8e",
   "metadata": {},
   "source": [
    "# Markdown"
   ]
  },
  {
   "cell_type": "markdown",
   "id": "d0c9bc34",
   "metadata": {},
   "source": [
    "$\\Huge \\mathscr{ABCDEFGHIJKLMNOPQRSTUVWXYZ}$ "
   ]
  },
  {
   "cell_type": "markdown",
   "id": "d845e470",
   "metadata": {},
   "source": [
    "\\begin{equation*}\n",
    "\\sum_{n=1}^\\infty\\frac{1}{n^2}=\\frac{\\pi^2}{6}\n",
    "\\end{equation*}"
   ]
  },
  {
   "cell_type": "markdown",
   "id": "5334b0c8",
   "metadata": {},
   "source": [
    "| Mes | Facturación | Comercial |\n",
    "| --- | ---: | :---: |\n",
    "| Enero | 100.000 | Feli |\n",
    "| Enero | 200.000 | Fran C. |\n",
    "| Febrero | 400.000 | Feli |\n",
    "| Febrero | 50.000 | Fran C. |"
   ]
  },
  {
   "cell_type": "markdown",
   "id": "aa9ec423",
   "metadata": {},
   "source": [
    "$\\alpha,\\beta, \\gamma, \\delta, \\epsilon, \\zeta, \\eta, \\theta, \\iota, \\kappa, \\lambda, \\mu, \\nu$\n",
    "\n",
    "$\\xi, \\omicron, \\pi, \\rho, \\sigma, \\Sigma, \\tau, \\upsilon, \\phi, \\chi, \\psi, \\omega$"
   ]
  },
  {
   "cell_type": "markdown",
   "id": "63ef44eb",
   "metadata": {},
   "source": [
    "# Lógica"
   ]
  },
  {
   "cell_type": "markdown",
   "id": "d541a893",
   "metadata": {},
   "source": [
    "|Equivalencia|Nombre|\n",
    "| :---: | :---:|\n",
    "|$p\\land V\\equiv p$|Leyes de identidad|\n",
    "|$p\\lor F\\equiv p$||\n",
    "|$p\\lor V\\equiv V$|Leyes de dominación|\n",
    "|$p\\land F\\equiv F$||\n",
    "|$p\\lor p\\equiv p$|Leyes de idempotencia|\n",
    "|$p\\land p\\equiv p$||\n",
    "|$\\neg(\\neg p)\\equiv p$|Ley de doble negación|\n",
    "|$p\\lor \\neg p\\equiv V$|Leyes de negación|\n",
    "|$p\\land \\neg p\\equiv F$||"
   ]
  },
  {
   "cell_type": "code",
   "execution_count": null,
   "id": "0065b0d5",
   "metadata": {},
   "outputs": [],
   "source": [
    "booleanos = [True,False]\n",
    "\n",
    "# Tabla de verdad de or\n",
    "\n",
    "print('x\\ty\\tx or y')\n",
    "print('-'*22)\n",
    "for x in booleanos:\n",
    "    for y in booleanos:\n",
    "        print(x, y, x or y, sep = '\\t')\n",
    "\n",
    "print()"
   ]
  },
  {
   "cell_type": "code",
   "execution_count": null,
   "id": "63a0695b",
   "metadata": {},
   "outputs": [],
   "source": [
    "# Tabla de verdad de and\n",
    "\n",
    "print('x\\ty\\tx and y')\n",
    "print('-'*22)\n",
    "for x in booleanos:\n",
    "    for y in booleanos:\n",
    "        print(x,y,x and y,sep='\\t')"
   ]
  },
  {
   "cell_type": "code",
   "execution_count": null,
   "id": "11ef9947",
   "metadata": {},
   "outputs": [],
   "source": [
    "print('x\\ty\\tx => y')\n",
    "print('-'*26)\n",
    "for x in booleanos:\n",
    "    for y in booleanos:\n",
    "        print(x,y,not x or y,sep='\\t')"
   ]
  },
  {
   "cell_type": "code",
   "execution_count": null,
   "id": "00338d47",
   "metadata": {},
   "outputs": [],
   "source": [
    "print('x\\ty')\n",
    "print('-'*26)\n",
    "for x in booleanos:\n",
    "    for y in booleanos:\n",
    "        print(x,y,not x or y,sep='\\t')"
   ]
  },
  {
   "cell_type": "code",
   "execution_count": null,
   "id": "1905cc2a",
   "metadata": {},
   "outputs": [],
   "source": [
    "booleanos = [True,False]\n",
    "print('x\\ty')\n",
    "print('-'*23)\n",
    "for x in booleanos:\n",
    "    for y in booleanos:\n",
    "        for z in booleanos:\n",
    "            print(x,y,x and y+(x or y) and z and (not(x and y)),(x and y) or (y and z)or(x and z),sep='\\t')"
   ]
  },
  {
   "cell_type": "code",
   "execution_count": null,
   "id": "28fc0168",
   "metadata": {},
   "outputs": [],
   "source": [
    "booleanos = [False,True]\n",
    "print('x\\ty\\tz\\tw')\n",
    "print('-'*30)\n",
    "for x in booleanos:\n",
    "    for y in booleanos:\n",
    "        for z in booleanos:\n",
    "            for w in booleanos:\n",
    "                print(x,y,x,w,((x and y and z and w)or not x and not y and not z and not w)or x and y and z or not (z and w)or not x and not z and (x or y or not w),sep='\\t')"
   ]
  },
  {
   "cell_type": "code",
   "execution_count": null,
   "id": "102fa659",
   "metadata": {},
   "outputs": [],
   "source": []
  },
  {
   "cell_type": "markdown",
   "id": "4b0375e6",
   "metadata": {},
   "source": [
    "# Tamaño de la muestra"
   ]
  },
  {
   "cell_type": "code",
   "execution_count": null,
   "id": "3f067408",
   "metadata": {},
   "outputs": [],
   "source": [
    "import math\n",
    "N=307\n",
    "Z=1.28\n",
    "p=50\n",
    "q=50\n",
    "n=(N*Z**2*p*q)/(math.e**2*(N-1)+Z**2*p*q)"
   ]
  },
  {
   "cell_type": "code",
   "execution_count": null,
   "id": "909fbe42",
   "metadata": {},
   "outputs": [],
   "source": [
    "n"
   ]
  },
  {
   "cell_type": "markdown",
   "id": "d4c30ac4",
   "metadata": {},
   "source": [
    "# Números complejos"
   ]
  },
  {
   "cell_type": "code",
   "execution_count": null,
   "id": "dadbac7b",
   "metadata": {},
   "outputs": [],
   "source": [
    "c1 = 3 + 3j"
   ]
  },
  {
   "cell_type": "code",
   "execution_count": null,
   "id": "36eb58fb",
   "metadata": {},
   "outputs": [],
   "source": [
    "c1"
   ]
  },
  {
   "cell_type": "code",
   "execution_count": null,
   "id": "d81e715c",
   "metadata": {},
   "outputs": [],
   "source": [
    "type(c1)"
   ]
  },
  {
   "cell_type": "code",
   "execution_count": null,
   "id": "3edf9cf7",
   "metadata": {},
   "outputs": [],
   "source": [
    "c1.conjugate()"
   ]
  },
  {
   "cell_type": "code",
   "execution_count": null,
   "id": "ccb72490",
   "metadata": {},
   "outputs": [],
   "source": [
    "abs(c1)"
   ]
  },
  {
   "cell_type": "code",
   "execution_count": null,
   "id": "339a1547",
   "metadata": {},
   "outputs": [],
   "source": [
    "a= 0.5j\n",
    "b= 3\n",
    "c= -1+3j\n",
    "a**2+b/c-1j**197/(-1j)**584"
   ]
  },
  {
   "cell_type": "code",
   "execution_count": null,
   "id": "fa945450",
   "metadata": {},
   "outputs": [],
   "source": [
    "88/160"
   ]
  },
  {
   "cell_type": "code",
   "execution_count": null,
   "id": "55b4fe1b",
   "metadata": {},
   "outputs": [],
   "source": [
    "304/160"
   ]
  },
  {
   "cell_type": "code",
   "execution_count": null,
   "id": "5b2cb6ab",
   "metadata": {},
   "outputs": [],
   "source": [
    "1j**197"
   ]
  },
  {
   "cell_type": "code",
   "execution_count": null,
   "id": "e2ddd59f",
   "metadata": {},
   "outputs": [],
   "source": [
    "584%4"
   ]
  },
  {
   "cell_type": "markdown",
   "id": "8aa890f7",
   "metadata": {},
   "source": [
    "# Symbol\n",
    "[Matemáticas, análisis de datos y python](https://relopezbriega.github.io/blog/2015/12/02/introduccion-al-calculo-con-python/)\n",
    "\n",
    "[es.symbolab.com](https://es.symbolab.com/)"
   ]
  },
  {
   "cell_type": "markdown",
   "id": "7bc0692b",
   "metadata": {},
   "source": [
    "## Limites"
   ]
  },
  {
   "cell_type": "code",
   "execution_count": null,
   "id": "e7de8ed5",
   "metadata": {},
   "outputs": [],
   "source": [
    "from sympy.interactive import printing\n",
    "#from sympy import Limit, limit, Symbol, S\n",
    "\n",
    "# imprimir con notación matemática.\n",
    "printing.init_printing(use_latex='mathjax') \n",
    "\n",
    "x = Symbol('x') # Creando el simbolo x.\n",
    "Limit(((x-5)**2-25)/x, x, 0) # Creando el objeto Limit"
   ]
  },
  {
   "cell_type": "code",
   "execution_count": null,
   "id": "1843d0af",
   "metadata": {},
   "outputs": [],
   "source": [
    "# Resolviendo el Limite con el metodo doit()\n",
    "Limit((2*x**2-5*x-3)/(x-3), x, 3).doit()"
   ]
  },
  {
   "cell_type": "markdown",
   "id": "c6972d9f",
   "metadata": {},
   "source": [
    "## Derivadas"
   ]
  },
  {
   "cell_type": "code",
   "execution_count": 63,
   "id": "a54a6e00",
   "metadata": {},
   "outputs": [
    {
     "name": "stdout",
     "output_type": "stream",
     "text": [
      "sin(x)*sin(sin(cos(x)))*cos(cos(x))\n"
     ]
    }
   ],
   "source": [
    "#import sympy as sym\n",
    "x = Symbol('x')\n",
    "fx = cos(sin(cos(x)))\n",
    "print(fx.diff(x,1))"
   ]
  },
  {
   "cell_type": "code",
   "execution_count": 24,
   "id": "7215fb5f",
   "metadata": {},
   "outputs": [
    {
     "name": "stdout",
     "output_type": "stream",
     "text": [
      "Primera derivada:3*x**2 - 2\n",
      "Segunda derivada:6*x\n"
     ]
    }
   ],
   "source": [
    "x = Symbol('x')\n",
    "y = x**3-2*x\n",
    "\n",
    "print(f'Primera derivada:{y.diff(x,1)}')\n",
    "print(f'Segunda derivada:{y.diff(x,2)}')"
   ]
  },
  {
   "cell_type": "code",
   "execution_count": 18,
   "id": "e13f0c9e",
   "metadata": {},
   "outputs": [
    {
     "data": {
      "text/latex": [
       "$\\displaystyle 2 x$"
      ],
      "text/plain": [
       "2*x"
      ]
     },
     "execution_count": 18,
     "metadata": {},
     "output_type": "execute_result"
    }
   ],
   "source": [
    "diff(x**2)"
   ]
  },
  {
   "cell_type": "code",
   "execution_count": 20,
   "id": "d13930cf",
   "metadata": {},
   "outputs": [
    {
     "data": {
      "text/latex": [
       "$\\displaystyle - \\frac{\\sin{\\left(x \\right)}}{2 - \\sin{\\left(x \\right)}} + \\frac{\\cos^{2}{\\left(x \\right)}}{\\left(2 - \\sin{\\left(x \\right)}\\right)^{2}}$"
      ],
      "text/plain": [
       "-sin(x)/(2 - sin(x)) + cos(x)**2/(2 - sin(x))**2"
      ]
     },
     "execution_count": 20,
     "metadata": {},
     "output_type": "execute_result"
    }
   ],
   "source": [
    "diff(cos(x)/(2-sin(x)))"
   ]
  },
  {
   "cell_type": "code",
   "execution_count": 26,
   "id": "9d3cd503",
   "metadata": {},
   "outputs": [
    {
     "data": {
      "text/latex": [
       "$\\displaystyle \\frac{1}{x}$"
      ],
      "text/plain": [
       "1/x"
      ]
     },
     "execution_count": 26,
     "metadata": {},
     "output_type": "execute_result"
    }
   ],
   "source": [
    "fx = ln(x)\n",
    "fx.diff(x,1)"
   ]
  },
  {
   "cell_type": "code",
   "execution_count": 43,
   "id": "253a2031",
   "metadata": {},
   "outputs": [
    {
     "data": {
      "text/latex": [
       "$\\displaystyle x^{3} + 3 x^{2} + 3 x + 1$"
      ],
      "text/plain": [
       "x**3 + 3*x**2 + 3*x + 1"
      ]
     },
     "execution_count": 43,
     "metadata": {},
     "output_type": "execute_result"
    }
   ],
   "source": [
    "fx = (1+x)**3\n",
    "fx.expand()"
   ]
  },
  {
   "cell_type": "code",
   "execution_count": 30,
   "id": "3721f1dc",
   "metadata": {},
   "outputs": [
    {
     "data": {
      "text/latex": [
       "$\\displaystyle x^{2}$"
      ],
      "text/plain": [
       "x**2"
      ]
     },
     "execution_count": 30,
     "metadata": {},
     "output_type": "execute_result"
    }
   ],
   "source": [
    "fx=(x-2*x)**2\n",
    "fx.expand()"
   ]
  },
  {
   "cell_type": "code",
   "execution_count": 42,
   "id": "bfde0b0a",
   "metadata": {},
   "outputs": [
    {
     "name": "stdout",
     "output_type": "stream",
     "text": [
      "2*2**x*x*log(2) + 2*2**x + 1.0*2.71828182845905**x\n"
     ]
    }
   ],
   "source": [
    "e = math.e\n",
    "\n",
    "fx = e**x+x*2*(2**x)\n",
    "print(fx.diff(x,1))"
   ]
  },
  {
   "cell_type": "code",
   "execution_count": 45,
   "id": "5e88d25d",
   "metadata": {},
   "outputs": [
    {
     "name": "stdout",
     "output_type": "stream",
     "text": [
      "1 - x**2/2\n"
     ]
    }
   ],
   "source": [
    "x  = Symbol('x')\n",
    "fx = cos(x) \n",
    "muestras = 51\n",
    "x0 = 0\n",
    "grado = 2       # grado>0\n",
    "n  = grado + 1  # Términos de polinomio\n",
    "\n",
    "# PROCEDIMIENTO\n",
    "\n",
    "k = 0 # contador de términos\n",
    "polinomio = 0\n",
    "while (k < n):\n",
    "    derivada   = fx.diff(x,k)\n",
    "    derivadax0 = derivada.subs(x,x0)\n",
    "    divisor   = np.math.factorial(k)\n",
    "    terminok  = (derivadax0/divisor)*(x-x0)**k\n",
    "    polinomio = polinomio + terminok\n",
    "    k = k + 1\n",
    "\n",
    "# SALIDA\n",
    "print(polinomio)"
   ]
  },
  {
   "cell_type": "code",
   "execution_count": 51,
   "id": "c95e145a",
   "metadata": {},
   "outputs": [
    {
     "name": "stdout",
     "output_type": "stream",
     "text": [
      "-82.26328856329201\n"
     ]
    }
   ],
   "source": [
    "x=350\n",
    "x2 =351\n",
    "y=10880000/x+6.3*x\n",
    "y2=10880000/x2+6.3*x2\n",
    "print((y2-y)/(x2-x))"
   ]
  },
  {
   "cell_type": "code",
   "execution_count": 57,
   "id": "e3291707",
   "metadata": {},
   "outputs": [
    {
     "name": "stdout",
     "output_type": "stream",
     "text": [
      "0.113780940033139*1.104**x\n"
     ]
    }
   ],
   "source": [
    "x = Symbol('x')\n",
    "fx = 1.15*1.104**x\n",
    "print(fx.diff(x,1))"
   ]
  },
  {
   "cell_type": "code",
   "execution_count": 60,
   "id": "8d2a1dcb",
   "metadata": {},
   "outputs": [
    {
     "data": {
      "text/plain": [
       "4.936655143840703e+84"
      ]
     },
     "execution_count": 60,
     "metadata": {},
     "output_type": "execute_result"
    }
   ],
   "source": [
    "1.15*math.log(1.104,math.e)*1.104**1993"
   ]
  },
  {
   "cell_type": "markdown",
   "id": "18cf79e0",
   "metadata": {},
   "source": [
    "# Matrices"
   ]
  },
  {
   "cell_type": "code",
   "execution_count": 14,
   "id": "84ca282b",
   "metadata": {},
   "outputs": [
    {
     "name": "stdout",
     "output_type": "stream",
     "text": [
      "[[ 2  1  1]\n",
      " [ 1 -1  1]\n",
      " [ 3 -1  2]]\n"
     ]
    }
   ],
   "source": [
    "matriz = np.array([[2,1,1],[1,-1,1],[3,-1,2]])\n",
    "print(matriz)"
   ]
  },
  {
   "cell_type": "markdown",
   "id": "b3422fc7",
   "metadata": {},
   "source": [
    "## Determinante"
   ]
  },
  {
   "cell_type": "code",
   "execution_count": 15,
   "id": "2600edaf",
   "metadata": {},
   "outputs": [
    {
     "data": {
      "text/plain": [
       "1.0"
      ]
     },
     "execution_count": 15,
     "metadata": {},
     "output_type": "execute_result"
    }
   ],
   "source": [
    "round(np.linalg.det(matriz),1) #Calcula el teterminante"
   ]
  },
  {
   "cell_type": "markdown",
   "id": "af93e405",
   "metadata": {},
   "source": [
    "### Inversa usando determinante y Adjunta\n",
    "$A^{-1}=\\frac{1}{|A|}*adj(A)$\n",
    "\n",
    "$|A|*A^{-1}=adj(A)$ [1]\n",
    "\n",
    "como $adj(A)=(cof(A))^T$, reemplazando en [1]\n",
    "\n",
    "$|A|*A^{-1}=(cof(A))^T$\n",
    "\n",
    "$cof(A)=|A|*[A^{-1}]^T$"
   ]
  },
  {
   "cell_type": "markdown",
   "id": "93d07982",
   "metadata": {},
   "source": [
    "## Matriz cofactor"
   ]
  },
  {
   "cell_type": "code",
   "execution_count": 16,
   "id": "de938ff7",
   "metadata": {},
   "outputs": [],
   "source": [
    "def matrix_cofactor(matrix):\n",
    "    cofactor = None\n",
    "    cofactor = np.linalg.inv(matrix).T * np.linalg.det(matrix)\n",
    "    return cofactor"
   ]
  },
  {
   "cell_type": "code",
   "execution_count": 17,
   "id": "6a7ad58d",
   "metadata": {},
   "outputs": [
    {
     "data": {
      "text/plain": [
       "array([[-1.,  1.,  2.],\n",
       "       [-3.,  1.,  5.],\n",
       "       [ 2., -1., -3.]])"
      ]
     },
     "execution_count": 17,
     "metadata": {},
     "output_type": "execute_result"
    }
   ],
   "source": [
    "matrix_cofactor(matriz)"
   ]
  },
  {
   "cell_type": "markdown",
   "id": "0e2f6bf6",
   "metadata": {},
   "source": [
    "## Matriz adjunta"
   ]
  },
  {
   "cell_type": "code",
   "execution_count": 18,
   "id": "26c6f7b6",
   "metadata": {},
   "outputs": [
    {
     "name": "stdout",
     "output_type": "stream",
     "text": [
      "[[-1. -3.  2.]\n",
      " [ 1.  1. -1.]\n",
      " [ 2.  5. -3.]]\n"
     ]
    }
   ],
   "source": [
    "#Calculo de la adjunta de A\n",
    "adj_A = matrix_cofactor(matriz).transpose()\n",
    "print(adj_A)"
   ]
  },
  {
   "cell_type": "markdown",
   "id": "d384d6a7",
   "metadata": {},
   "source": [
    "## Matriz inversa"
   ]
  },
  {
   "cell_type": "code",
   "execution_count": 19,
   "id": "39da18bb",
   "metadata": {},
   "outputs": [
    {
     "name": "stdout",
     "output_type": "stream",
     "text": [
      "[[-1. -3.  2.]\n",
      " [ 1.  1. -1.]\n",
      " [ 2.  5. -3.]]\n"
     ]
    }
   ],
   "source": [
    "#Calcula la inversa de A\n",
    "inv_A = np.linalg.inv(matriz)\n",
    "print(inv_A)"
   ]
  },
  {
   "cell_type": "markdown",
   "id": "612fad3c",
   "metadata": {},
   "source": [
    "# Sistema de ecuaciones lineales"
   ]
  },
  {
   "cell_type": "code",
   "execution_count": 20,
   "id": "64f1389d",
   "metadata": {},
   "outputs": [],
   "source": [
    "B = np.array([3,0,2])"
   ]
  },
  {
   "cell_type": "code",
   "execution_count": 21,
   "id": "87226745",
   "metadata": {},
   "outputs": [],
   "source": [
    "A = np.array([[2,1,1],[1,-1,1],[3,-1,2]])"
   ]
  },
  {
   "cell_type": "code",
   "execution_count": 25,
   "id": "d628c624",
   "metadata": {},
   "outputs": [
    {
     "name": "stdout",
     "output_type": "stream",
     "text": [
      "[1.00000000e+00 1.00000000e+00 1.77635684e-15]\n",
      "determinante = 1.0\n"
     ]
    }
   ],
   "source": [
    "det = np.linalg.det(A)\n",
    "if det != 0: #Debe ser distinto de cero sino no puedo usar inversa\n",
    "    X = np.linalg.inv(A).dot(B)\n",
    "    print(X)\n",
    "else:\n",
    "    print('No es posible calcular las soluciones con este método.')\n",
    "print(f'determinante = {round(det,1)}')"
   ]
  },
  {
   "cell_type": "markdown",
   "id": "9afb2ecd",
   "metadata": {},
   "source": [
    "## Otro forma de calcular las soluciones"
   ]
  },
  {
   "cell_type": "code",
   "execution_count": null,
   "id": "28e4ad9e",
   "metadata": {},
   "outputs": [],
   "source": [
    "M = np.matrix([[2,1,-1],[1,-2,3],[1,2,-5]])\n",
    "R = np.matrix([[8],[0],[0]])"
   ]
  },
  {
   "cell_type": "code",
   "execution_count": null,
   "id": "dd7310f6",
   "metadata": {},
   "outputs": [],
   "source": [
    "det = np.linalg.det(M)\n",
    "if det != 0:\n",
    "    X = (M**-1)*R\n",
    "    print(X)\n",
    "else:\n",
    "    print('No es posible calcular las soluciones con este método.')\n",
    "print(f'determinante:{det}')"
   ]
  },
  {
   "cell_type": "code",
   "execution_count": null,
   "id": "bf40aeb2",
   "metadata": {},
   "outputs": [],
   "source": [
    "930-3100"
   ]
  },
  {
   "cell_type": "markdown",
   "id": "fbddf4cb",
   "metadata": {},
   "source": [
    "# Factorial"
   ]
  },
  {
   "cell_type": "code",
   "execution_count": null,
   "id": "7230c9c9",
   "metadata": {},
   "outputs": [],
   "source": [
    "def fact(n):\n",
    "    if n == 1:\n",
    "        return 1\n",
    "    else:\n",
    "        return n * factorial(n-1)"
   ]
  },
  {
   "cell_type": "code",
   "execution_count": null,
   "id": "4350f0f1",
   "metadata": {},
   "outputs": [],
   "source": [
    "fact(6)"
   ]
  },
  {
   "cell_type": "code",
   "execution_count": null,
   "id": "9496ef97",
   "metadata": {},
   "outputs": [],
   "source": [
    "720/243"
   ]
  },
  {
   "cell_type": "markdown",
   "id": "1a08d168",
   "metadata": {},
   "source": [
    "# Calculos auxiliares"
   ]
  },
  {
   "cell_type": "code",
   "execution_count": null,
   "id": "5ed39ae0",
   "metadata": {},
   "outputs": [],
   "source": [
    "1452/369*23-90"
   ]
  },
  {
   "cell_type": "code",
   "execution_count": null,
   "id": "dea56c74",
   "metadata": {},
   "outputs": [],
   "source": [
    "round(3*x**2-6*x-1,3)"
   ]
  },
  {
   "cell_type": "code",
   "execution_count": null,
   "id": "d041b6d5",
   "metadata": {},
   "outputs": [],
   "source": [
    "4**(1/2)"
   ]
  },
  {
   "cell_type": "code",
   "execution_count": null,
   "id": "64764fd7",
   "metadata": {},
   "outputs": [],
   "source": [
    "1024**2"
   ]
  },
  {
   "cell_type": "code",
   "execution_count": null,
   "id": "9aa83282",
   "metadata": {},
   "outputs": [],
   "source": [
    "binario = int('111111111111',2)\n",
    "print(binario)"
   ]
  },
  {
   "cell_type": "code",
   "execution_count": null,
   "id": "a676106c",
   "metadata": {},
   "outputs": [],
   "source": [
    "1024*64"
   ]
  },
  {
   "cell_type": "code",
   "execution_count": null,
   "id": "b04a0af0",
   "metadata": {},
   "outputs": [],
   "source": [
    "65536/(1024*4)"
   ]
  },
  {
   "cell_type": "code",
   "execution_count": null,
   "id": "fc0dbaae",
   "metadata": {},
   "outputs": [],
   "source": []
  }
 ],
 "metadata": {
  "hide_input": false,
  "kernelspec": {
   "display_name": "Python 3 (ipykernel)",
   "language": "python",
   "name": "python3"
  },
  "language_info": {
   "codemirror_mode": {
    "name": "ipython",
    "version": 3
   },
   "file_extension": ".py",
   "mimetype": "text/x-python",
   "name": "python",
   "nbconvert_exporter": "python",
   "pygments_lexer": "ipython3",
   "version": "3.10.4"
  },
  "toc": {
   "base_numbering": 1,
   "nav_menu": {},
   "number_sections": true,
   "sideBar": true,
   "skip_h1_title": false,
   "title_cell": "Table of Contents",
   "title_sidebar": "Contents",
   "toc_cell": false,
   "toc_position": {
    "height": "calc(100% - 180px)",
    "left": "10px",
    "top": "150px",
    "width": "227.63px"
   },
   "toc_section_display": true,
   "toc_window_display": true
  }
 },
 "nbformat": 4,
 "nbformat_minor": 5
}
