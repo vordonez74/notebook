{
 "cells": [
  {
   "cell_type": "markdown",
   "id": "d4bc85c7",
   "metadata": {},
   "source": [
    "# SQLite3\n",
    "En visualcode instalando SQLite podemos presionar Ctrl+Shift+p y abrir la base de dato"
   ]
  },
  {
   "cell_type": "code",
   "execution_count": null,
   "id": "7c5d6651",
   "metadata": {},
   "outputs": [],
   "source": [
    "import sqlite3 as sql"
   ]
  },
  {
   "cell_type": "code",
   "execution_count": null,
   "id": "3c41cb98",
   "metadata": {},
   "outputs": [],
   "source": [
    "conn = sql.connect(\"planificacion.db\")\n",
    "conn.commit()\n",
    "conn.close()"
   ]
  },
  {
   "cell_type": "markdown",
   "id": "25abc719",
   "metadata": {},
   "source": []
  },
  {
   "cell_type": "code",
   "execution_count": null,
   "id": "9b7185ea",
   "metadata": {},
   "outputs": [],
   "source": [
    "conn = sql.connect(\"planificacion.db\")\n",
    "cursor = conn.cursor()\n",
    "instruccion = f\"CREATE TABLE Z(Material text,Cl text,Causante text,Creador text,CeSum text,CeDes text,Creado date,Entrega date,Cantidad real,Um text,Pos integer)\"\n",
    "cursor.execute(instruccion)\n",
    "instruccion = f\"CREATE TABLE B(Material text,Mov text,Cantidad real,Centro text,FechConta date,Pedido text,Referencia text,Proveedor text)\"\n",
    "cursor.execute(instruccion)\n",
    "conn.commit()\n",
    "conn.close()"
   ]
  },
  {
   "cell_type": "code",
   "execution_count": null,
   "id": "4771eb9f",
   "metadata": {},
   "outputs": [],
   "source": [
    "conn = sql.connect(\"planificacion.db\")\n",
    "cursor = conn.cursor()\n",
    "instruccion = f\"INSERT INTO B VALUES('1','103',0,'1001','09-07-2022','1','Rto','prov')\"\n",
    "cursor.execute(instruccion)\n",
    "conn.commit()\n",
    "conn.close()"
   ]
  },
  {
   "cell_type": "code",
   "execution_count": null,
   "id": "f96f3915",
   "metadata": {},
   "outputs": [],
   "source": [
    "conn = sql.connect(\"planificacion.db\")\n",
    "cursor = conn.cursor()\n",
    "instruccion = f\"DELETE FROM B WHERE Pedido=1\"\n",
    "cursor.execute(instruccion)\n",
    "conn.commit()\n",
    "conn.close()"
   ]
  },
  {
   "cell_type": "code",
   "execution_count": null,
   "id": "95905c76",
   "metadata": {},
   "outputs": [],
   "source": [
    "conn = sql.connect(\"planificacion.db\")\n",
    "cursor = conn.cursor()\n",
    "instruccion = f\"SELECT * FROM B\"\n",
    "cursor.execute(instruccion)\n",
    "datos = cursor.fetchall()\n",
    "conn.commit()\n",
    "conn.close()"
   ]
  },
  {
   "cell_type": "code",
   "execution_count": null,
   "id": "b71fe736",
   "metadata": {},
   "outputs": [],
   "source": [
    "type(datos)"
   ]
  },
  {
   "cell_type": "code",
   "execution_count": null,
   "id": "a74d9b7e",
   "metadata": {},
   "outputs": [],
   "source": [
    "print(datos)"
   ]
  },
  {
   "cell_type": "markdown",
   "id": "e907baa4",
   "metadata": {},
   "source": [
    "## Insertar una lista en una tabla"
   ]
  },
  {
   "cell_type": "code",
   "execution_count": null,
   "id": "7748d983",
   "metadata": {},
   "outputs": [],
   "source": [
    "listaBloqueados = [\n",
    "    ('1','103', 0.0, '1001', '09-07-2022', '1', 'Rto', 'prov'),\n",
    "    ('1','104', 0.0, '1001', '09-07-2022', '1', 'Rto', 'prov'),\n",
    "    ('1','105', 0.0, '1001', '09-07-2022', '1', 'Rto', 'prov'),\n",
    "    ('1','106', 0.0, '1001', '09-07-2022', '1', 'Rto', 'prov'),\n",
    "]\n",
    "\n",
    "\n",
    "conn = sql.connect(\"planificacion.db\")\n",
    "cursor = conn.cursor()\n",
    "instruccion = f\"INSERT INTO B VALUES(?,?,?,?,?,?,?,?)\"\n",
    "cursor.executemany(instruccion,listaBloqueados)\n",
    "datos = cursor.fetchall()\n",
    "conn.commit()\n",
    "conn.close()"
   ]
  },
  {
   "cell_type": "markdown",
   "id": "cf9f347b",
   "metadata": {},
   "source": [
    "## Importar desde excel a una tabla de sqlite"
   ]
  },
  {
   "cell_type": "code",
   "execution_count": null,
   "id": "62c861ee",
   "metadata": {},
   "outputs": [],
   "source": [
    "import pandas as pd"
   ]
  },
  {
   "cell_type": "code",
   "execution_count": null,
   "id": "c830d3b9",
   "metadata": {},
   "outputs": [],
   "source": [
    "bloq = pd.read_excel(\"C:/Users/ordonez/Documents/SAP/SAP GUI/B.xlsx\")"
   ]
  },
  {
   "cell_type": "code",
   "execution_count": null,
   "id": "1ffa7df3",
   "metadata": {},
   "outputs": [],
   "source": [
    "conn = sql.connect(\"planificacion.db\")\n",
    "bloq.to_sql('B',conn,if_exists='replace',index=False)"
   ]
  },
  {
   "cell_type": "code",
   "execution_count": null,
   "id": "e18961cf",
   "metadata": {},
   "outputs": [],
   "source": []
  }
 ],
 "metadata": {
  "hide_input": false,
  "kernelspec": {
   "display_name": "Python 3 (ipykernel)",
   "language": "python",
   "name": "python3"
  },
  "language_info": {
   "codemirror_mode": {
    "name": "ipython",
    "version": 3
   },
   "file_extension": ".py",
   "mimetype": "text/x-python",
   "name": "python",
   "nbconvert_exporter": "python",
   "pygments_lexer": "ipython3",
   "version": "3.10.5"
  },
  "toc": {
   "base_numbering": 1,
   "nav_menu": {},
   "number_sections": true,
   "sideBar": true,
   "skip_h1_title": false,
   "title_cell": "Table of Contents",
   "title_sidebar": "Contents",
   "toc_cell": false,
   "toc_position": {},
   "toc_section_display": true,
   "toc_window_display": false
  }
 },
 "nbformat": 4,
 "nbformat_minor": 5
}
