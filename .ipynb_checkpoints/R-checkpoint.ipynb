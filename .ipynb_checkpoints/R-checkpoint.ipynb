{
 "cells": [
  {
   "cell_type": "markdown",
   "id": "61e58eea",
   "metadata": {},
   "source": [
    "# Evaluación de la velocidad de R"
   ]
  },
  {
   "cell_type": "code",
   "execution_count": 1,
   "id": "9642d913",
   "metadata": {},
   "outputs": [],
   "source": [
    "library(readr)"
   ]
  },
  {
   "cell_type": "markdown",
   "id": "ad0ea678",
   "metadata": {},
   "source": [
    "# Crear un dataframe desde un archivo csv"
   ]
  },
  {
   "cell_type": "code",
   "execution_count": 2,
   "id": "ad835cb9",
   "metadata": {},
   "outputs": [
    {
     "name": "stderr",
     "output_type": "stream",
     "text": [
      "\n",
      "\u001b[36m--\u001b[39m \u001b[1mColumn specification\u001b[22m \u001b[36m------------------------------------------------------------------------------------------------\u001b[39m\n",
      "cols(\n",
      "  .default = col_double(),\n",
      "  UniqueCarrier = \u001b[31mcol_character()\u001b[39m,\n",
      "  TailNum = \u001b[31mcol_character()\u001b[39m,\n",
      "  Origin = \u001b[31mcol_character()\u001b[39m,\n",
      "  Dest = \u001b[31mcol_character()\u001b[39m,\n",
      "  CancellationCode = \u001b[31mcol_character()\u001b[39m\n",
      ")\n",
      "\u001b[36mi\u001b[39m Use `spec()` for the full column specifications.\n",
      "\n",
      "\n"
     ]
    }
   ],
   "source": [
    "df <- read_csv(\"2008.csv\")"
   ]
  },
  {
   "cell_type": "code",
   "execution_count": 7,
   "id": "89dbf40b",
   "metadata": {},
   "outputs": [
    {
     "name": "stdout",
     "output_type": "stream",
     "text": [
      "spec_tbl_df [7,009,728 x 29] (S3: spec_tbl_df/tbl_df/tbl/data.frame)\n",
      " $ Year             : num [1:7009728] 2008 2008 2008 2008 2008 ...\n",
      " $ Month            : num [1:7009728] 1 1 1 1 1 1 1 1 1 1 ...\n",
      " $ DayofMonth       : num [1:7009728] 3 3 3 3 3 3 3 3 3 3 ...\n",
      " $ DayOfWeek        : num [1:7009728] 4 4 4 4 4 4 4 4 4 4 ...\n",
      " $ DepTime          : num [1:7009728] 2003 754 628 926 1829 ...\n",
      " $ CRSDepTime       : num [1:7009728] 1955 735 620 930 1755 ...\n",
      " $ ArrTime          : num [1:7009728] 2211 1002 804 1054 1959 ...\n",
      " $ CRSArrTime       : num [1:7009728] 2225 1000 750 1100 1925 ...\n",
      " $ UniqueCarrier    : chr [1:7009728] \"WN\" \"WN\" \"WN\" \"WN\" ...\n",
      " $ FlightNum        : num [1:7009728] 335 3231 448 1746 3920 ...\n",
      " $ TailNum          : chr [1:7009728] \"N712SW\" \"N772SW\" \"N428WN\" \"N612SW\" ...\n",
      " $ ActualElapsedTime: num [1:7009728] 128 128 96 88 90 101 240 233 95 79 ...\n",
      " $ CRSElapsedTime   : num [1:7009728] 150 145 90 90 90 115 250 250 95 95 ...\n",
      " $ AirTime          : num [1:7009728] 116 113 76 78 77 87 230 219 70 70 ...\n",
      " $ ArrDelay         : num [1:7009728] -14 2 14 -6 34 11 57 -18 2 -16 ...\n",
      " $ DepDelay         : num [1:7009728] 8 19 8 -4 34 25 67 -1 2 0 ...\n",
      " $ Origin           : chr [1:7009728] \"IAD\" \"IAD\" \"IND\" \"IND\" ...\n",
      " $ Dest             : chr [1:7009728] \"TPA\" \"TPA\" \"BWI\" \"BWI\" ...\n",
      " $ Distance         : num [1:7009728] 810 810 515 515 515 ...\n",
      " $ TaxiIn           : num [1:7009728] 4 5 3 3 3 4 3 7 6 3 ...\n",
      " $ TaxiOut          : num [1:7009728] 8 10 17 7 10 10 7 7 19 6 ...\n",
      " $ Cancelled        : num [1:7009728] 0 0 0 0 0 0 0 0 0 0 ...\n",
      " $ CancellationCode : chr [1:7009728] NA NA NA NA ...\n",
      " $ Diverted         : num [1:7009728] 0 0 0 0 0 0 0 0 0 0 ...\n",
      " $ CarrierDelay     : num [1:7009728] NA NA NA NA 2 NA 10 NA NA NA ...\n",
      " $ WeatherDelay     : num [1:7009728] NA NA NA NA 0 NA 0 NA NA NA ...\n",
      " $ NASDelay         : num [1:7009728] NA NA NA NA 0 NA 0 NA NA NA ...\n",
      " $ SecurityDelay    : num [1:7009728] NA NA NA NA 0 NA 0 NA NA NA ...\n",
      " $ LateAircraftDelay: num [1:7009728] NA NA NA NA 32 NA 47 NA NA NA ...\n",
      " - attr(*, \"spec\")=\n",
      "  .. cols(\n",
      "  ..   Year = \u001b[32mcol_double()\u001b[39m,\n",
      "  ..   Month = \u001b[32mcol_double()\u001b[39m,\n",
      "  ..   DayofMonth = \u001b[32mcol_double()\u001b[39m,\n",
      "  ..   DayOfWeek = \u001b[32mcol_double()\u001b[39m,\n",
      "  ..   DepTime = \u001b[32mcol_double()\u001b[39m,\n",
      "  ..   CRSDepTime = \u001b[32mcol_double()\u001b[39m,\n",
      "  ..   ArrTime = \u001b[32mcol_double()\u001b[39m,\n",
      "  ..   CRSArrTime = \u001b[32mcol_double()\u001b[39m,\n",
      "  ..   UniqueCarrier = \u001b[31mcol_character()\u001b[39m,\n",
      "  ..   FlightNum = \u001b[32mcol_double()\u001b[39m,\n",
      "  ..   TailNum = \u001b[31mcol_character()\u001b[39m,\n",
      "  ..   ActualElapsedTime = \u001b[32mcol_double()\u001b[39m,\n",
      "  ..   CRSElapsedTime = \u001b[32mcol_double()\u001b[39m,\n",
      "  ..   AirTime = \u001b[32mcol_double()\u001b[39m,\n",
      "  ..   ArrDelay = \u001b[32mcol_double()\u001b[39m,\n",
      "  ..   DepDelay = \u001b[32mcol_double()\u001b[39m,\n",
      "  ..   Origin = \u001b[31mcol_character()\u001b[39m,\n",
      "  ..   Dest = \u001b[31mcol_character()\u001b[39m,\n",
      "  ..   Distance = \u001b[32mcol_double()\u001b[39m,\n",
      "  ..   TaxiIn = \u001b[32mcol_double()\u001b[39m,\n",
      "  ..   TaxiOut = \u001b[32mcol_double()\u001b[39m,\n",
      "  ..   Cancelled = \u001b[32mcol_double()\u001b[39m,\n",
      "  ..   CancellationCode = \u001b[31mcol_character()\u001b[39m,\n",
      "  ..   Diverted = \u001b[32mcol_double()\u001b[39m,\n",
      "  ..   CarrierDelay = \u001b[32mcol_double()\u001b[39m,\n",
      "  ..   WeatherDelay = \u001b[32mcol_double()\u001b[39m,\n",
      "  ..   NASDelay = \u001b[32mcol_double()\u001b[39m,\n",
      "  ..   SecurityDelay = \u001b[32mcol_double()\u001b[39m,\n",
      "  ..   LateAircraftDelay = \u001b[32mcol_double()\u001b[39m\n",
      "  .. )\n"
     ]
    }
   ],
   "source": [
    "str(df)"
   ]
  },
  {
   "cell_type": "code",
   "execution_count": 3,
   "id": "5a8d339a",
   "metadata": {},
   "outputs": [
    {
     "data": {
      "text/html": [
       "7009728"
      ],
      "text/latex": [
       "7009728"
      ],
      "text/markdown": [
       "7009728"
      ],
      "text/plain": [
       "[1] 7009728"
      ]
     },
     "metadata": {},
     "output_type": "display_data"
    }
   ],
   "source": [
    "#Cantidad de filas\n",
    "nrow(df)"
   ]
  },
  {
   "cell_type": "code",
   "execution_count": 4,
   "id": "3e54548f",
   "metadata": {},
   "outputs": [
    {
     "data": {
      "text/html": [
       "29"
      ],
      "text/latex": [
       "29"
      ],
      "text/markdown": [
       "29"
      ],
      "text/plain": [
       "[1] 29"
      ]
     },
     "metadata": {},
     "output_type": "display_data"
    }
   ],
   "source": [
    "#Cantidad de columnas\n",
    "ncol(df)"
   ]
  },
  {
   "cell_type": "markdown",
   "id": "bd217061",
   "metadata": {},
   "source": [
    "## Selección de columnas a mostrar en un dataframe"
   ]
  },
  {
   "cell_type": "code",
   "execution_count": 5,
   "id": "0a8fc0de",
   "metadata": {},
   "outputs": [
    {
     "data": {
      "text/html": [
       "<table class=\"dataframe\">\n",
       "<caption>A tibble: 5 × 3</caption>\n",
       "<thead>\n",
       "\t<tr><th scope=col>DepTime</th><th scope=col>CRSDepTime</th><th scope=col>ArrTime</th></tr>\n",
       "\t<tr><th scope=col>&lt;dbl&gt;</th><th scope=col>&lt;dbl&gt;</th><th scope=col>&lt;dbl&gt;</th></tr>\n",
       "</thead>\n",
       "<tbody>\n",
       "\t<tr><td>2003</td><td>1955</td><td>2211</td></tr>\n",
       "\t<tr><td> 754</td><td> 735</td><td>1002</td></tr>\n",
       "\t<tr><td> 628</td><td> 620</td><td> 804</td></tr>\n",
       "\t<tr><td> 926</td><td> 930</td><td>1054</td></tr>\n",
       "\t<tr><td>1829</td><td>1755</td><td>1959</td></tr>\n",
       "</tbody>\n",
       "</table>\n"
      ],
      "text/latex": [
       "A tibble: 5 × 3\n",
       "\\begin{tabular}{lll}\n",
       " DepTime & CRSDepTime & ArrTime\\\\\n",
       " <dbl> & <dbl> & <dbl>\\\\\n",
       "\\hline\n",
       "\t 2003 & 1955 & 2211\\\\\n",
       "\t  754 &  735 & 1002\\\\\n",
       "\t  628 &  620 &  804\\\\\n",
       "\t  926 &  930 & 1054\\\\\n",
       "\t 1829 & 1755 & 1959\\\\\n",
       "\\end{tabular}\n"
      ],
      "text/markdown": [
       "\n",
       "A tibble: 5 × 3\n",
       "\n",
       "| DepTime &lt;dbl&gt; | CRSDepTime &lt;dbl&gt; | ArrTime &lt;dbl&gt; |\n",
       "|---|---|---|\n",
       "| 2003 | 1955 | 2211 |\n",
       "|  754 |  735 | 1002 |\n",
       "|  628 |  620 |  804 |\n",
       "|  926 |  930 | 1054 |\n",
       "| 1829 | 1755 | 1959 |\n",
       "\n"
      ],
      "text/plain": [
       "  DepTime CRSDepTime ArrTime\n",
       "1 2003    1955       2211   \n",
       "2  754     735       1002   \n",
       "3  628     620        804   \n",
       "4  926     930       1054   \n",
       "5 1829    1755       1959   "
      ]
     },
     "metadata": {},
     "output_type": "display_data"
    }
   ],
   "source": [
    "head(df[c(\"DepTime\",\"CRSDepTime\",\"ArrTime\")],5)"
   ]
  },
  {
   "cell_type": "code",
   "execution_count": 8,
   "id": "feffdd95",
   "metadata": {},
   "outputs": [
    {
     "data": {
      "text/html": [
       "<style>\n",
       ".list-inline {list-style: none; margin:0; padding: 0}\n",
       ".list-inline>li {display: inline-block}\n",
       ".list-inline>li:not(:last-child)::after {content: \"\\00b7\"; padding: 0 .5ex}\n",
       "</style>\n",
       "<ol class=list-inline><li>-14</li><li>2</li><li>14</li><li>-6</li><li>34</li><li>11</li><li>57</li><li>-18</li><li>2</li><li>-16</li><li>1</li><li>80</li><li>1</li><li>10</li><li>-4</li></ol>\n"
      ],
      "text/latex": [
       "\\begin{enumerate*}\n",
       "\\item -14\n",
       "\\item 2\n",
       "\\item 14\n",
       "\\item -6\n",
       "\\item 34\n",
       "\\item 11\n",
       "\\item 57\n",
       "\\item -18\n",
       "\\item 2\n",
       "\\item -16\n",
       "\\item 1\n",
       "\\item 80\n",
       "\\item 1\n",
       "\\item 10\n",
       "\\item -4\n",
       "\\end{enumerate*}\n"
      ],
      "text/markdown": [
       "1. -14\n",
       "2. 2\n",
       "3. 14\n",
       "4. -6\n",
       "5. 34\n",
       "6. 11\n",
       "7. 57\n",
       "8. -18\n",
       "9. 2\n",
       "10. -16\n",
       "11. 1\n",
       "12. 80\n",
       "13. 1\n",
       "14. 10\n",
       "15. -4\n",
       "\n",
       "\n"
      ],
      "text/plain": [
       " [1] -14   2  14  -6  34  11  57 -18   2 -16   1  80   1  10  -4"
      ]
     },
     "metadata": {},
     "output_type": "display_data"
    }
   ],
   "source": [
    "#Muestra una columna del dataframe\n",
    "head(df$ArrDelay,15)"
   ]
  },
  {
   "cell_type": "code",
   "execution_count": null,
   "id": "a7f0e9eb",
   "metadata": {},
   "outputs": [],
   "source": [
    "nrow(delay)"
   ]
  },
  {
   "cell_type": "markdown",
   "id": "a68d3152",
   "metadata": {},
   "source": [
    "# Cálculo del tiempo"
   ]
  },
  {
   "cell_type": "code",
   "execution_count": 9,
   "id": "9d76873d",
   "metadata": {},
   "outputs": [],
   "source": [
    "delay <- df$ArrDelay\n",
    "#Filtra los datos que no sean NA y sobre escribe el dataframe con los nuevos resultados\n",
    "delay <- delay[!is.na(delay)]"
   ]
  },
  {
   "cell_type": "code",
   "execution_count": 10,
   "id": "4d10b551",
   "metadata": {},
   "outputs": [
    {
     "data": {
      "text/html": [
       "8.16845238729124"
      ],
      "text/latex": [
       "8.16845238729124"
      ],
      "text/markdown": [
       "8.16845238729124"
      ],
      "text/plain": [
       "[1] 8.168452"
      ]
     },
     "metadata": {},
     "output_type": "display_data"
    },
    {
     "name": "stdout",
     "output_type": "stream",
     "text": [
      "Time difference of 0.02095103 secs\n"
     ]
    }
   ],
   "source": [
    "#Evalua cuanto se tardó en calcular la media\n",
    "start <- Sys.time()\n",
    "mean(delay)\n",
    "print(Sys.time() -start)"
   ]
  },
  {
   "cell_type": "code",
   "execution_count": 11,
   "id": "1a940f85",
   "metadata": {},
   "outputs": [
    {
     "data": {
      "text/plain": [
       "   user  system elapsed \n",
       "   0.02    0.00    0.02 "
      ]
     },
     "metadata": {},
     "output_type": "display_data"
    }
   ],
   "source": [
    "#devuelve una tabla resumen\n",
    "system.time(mean(delay))"
   ]
  },
  {
   "cell_type": "code",
   "execution_count": null,
   "id": "7fc67756",
   "metadata": {},
   "outputs": [],
   "source": [
    "#Aproximación más avanzada a evaluación de tiempo se logra con\n",
    "library(\"rbenchmark\")"
   ]
  },
  {
   "cell_type": "code",
   "execution_count": null,
   "id": "1e9899e2",
   "metadata": {},
   "outputs": [],
   "source": [
    "benchmark(\n",
    "    \"Media funcion\"={\n",
    "        mean(delay)\n",
    "    },\n",
    "    \"Media con funciones\"={\n",
    "        sum(delay)/length(delay)\n",
    "    },\n",
    "    \"Media manual\"={\n",
    "        media <- 0\n",
    "        for(i in 1:length(delay)){\n",
    "            media <- media + delay[i]\n",
    "        }\n",
    "        media/length(delay)\n",
    "    },\n",
    "    replications = 20,\n",
    "    columns = c(\"test\",\"replications\",\"elapsed\",\"relative\")\n",
    ")"
   ]
  },
  {
   "cell_type": "code",
   "execution_count": null,
   "id": "a9c09880",
   "metadata": {},
   "outputs": [],
   "source": [
    "for(i in 1:10){\n",
    "    print(i)\n",
    "}"
   ]
  },
  {
   "cell_type": "markdown",
   "id": "8632e4aa",
   "metadata": {},
   "source": [
    "# Importar un archivo de excel"
   ]
  },
  {
   "cell_type": "code",
   "execution_count": null,
   "id": "ba35296c",
   "metadata": {},
   "outputs": [],
   "source": [
    "library(readxl)"
   ]
  },
  {
   "cell_type": "code",
   "execution_count": null,
   "id": "26d5870d",
   "metadata": {},
   "outputs": [],
   "source": [
    "M <- read_excel(\"C:/Users/ordonez/Documents/SAP/SAP GUI/M.XLSX\", col_types = c(\"text\", \n",
    "\"text\", \"numeric\", \"numeric\", \"numeric\", \n",
    "\"numeric\", \"text\", \"text\", \"text\", \"text\", \n",
    "\"text\", \"numeric\", \"text\", \"text\", \"text\", \n",
    "\"text\", \"numeric\", \"text\", \"date\", \"text\", \n",
    "\"numeric\", \"text\", \"numeric\"))"
   ]
  },
  {
   "cell_type": "code",
   "execution_count": null,
   "id": "814f0bed",
   "metadata": {},
   "outputs": [],
   "source": [
    "View(M)"
   ]
  },
  {
   "cell_type": "code",
   "execution_count": null,
   "id": "261d7eae",
   "metadata": {},
   "outputs": [],
   "source": [
    "M$Material"
   ]
  },
  {
   "cell_type": "code",
   "execution_count": null,
   "id": "97bf9f0a",
   "metadata": {},
   "outputs": [],
   "source": [
    "M[\"Material\"]"
   ]
  },
  {
   "cell_type": "code",
   "execution_count": null,
   "id": "2e903385",
   "metadata": {},
   "outputs": [],
   "source": [
    "M[1:10,c(\"Material\",\"Texto breve de material\")]"
   ]
  },
  {
   "cell_type": "markdown",
   "id": "54caf35f",
   "metadata": {},
   "source": [
    "# Vectores"
   ]
  },
  {
   "cell_type": "code",
   "execution_count": null,
   "id": "3ed18f64",
   "metadata": {},
   "outputs": [],
   "source": [
    "num <- c(3,5,4,7,8,2,9)"
   ]
  },
  {
   "cell_type": "code",
   "execution_count": null,
   "id": "95a8bc41",
   "metadata": {},
   "outputs": [],
   "source": [
    "class(num)"
   ]
  },
  {
   "cell_type": "code",
   "execution_count": null,
   "id": "0c5c2bed",
   "metadata": {},
   "outputs": [],
   "source": [
    "num[1]"
   ]
  },
  {
   "cell_type": "code",
   "execution_count": null,
   "id": "7c7f10dd",
   "metadata": {},
   "outputs": [],
   "source": [
    "num[2:4]"
   ]
  },
  {
   "cell_type": "code",
   "execution_count": null,
   "id": "da43d005",
   "metadata": {},
   "outputs": [],
   "source": [
    "vec = 1:20"
   ]
  },
  {
   "cell_type": "code",
   "execution_count": null,
   "id": "487107a1",
   "metadata": {},
   "outputs": [],
   "source": [
    "vec"
   ]
  },
  {
   "cell_type": "code",
   "execution_count": null,
   "id": "302010ff",
   "metadata": {},
   "outputs": [],
   "source": [
    "numeros <- c(1,2,\"tres\")"
   ]
  },
  {
   "cell_type": "code",
   "execution_count": null,
   "id": "166feb68",
   "metadata": {},
   "outputs": [],
   "source": [
    "numeros"
   ]
  },
  {
   "cell_type": "code",
   "execution_count": null,
   "id": "71ec1735",
   "metadata": {},
   "outputs": [],
   "source": [
    "matriz <- matrix(1:25, ncol=5)"
   ]
  },
  {
   "cell_type": "code",
   "execution_count": null,
   "id": "19db8cb5",
   "metadata": {},
   "outputs": [],
   "source": [
    "matriz"
   ]
  },
  {
   "cell_type": "code",
   "execution_count": null,
   "id": "97ef0f97",
   "metadata": {},
   "outputs": [],
   "source": [
    "matriz2 = matrix(1:25, ncol=5, byrow=TRUE)"
   ]
  },
  {
   "cell_type": "code",
   "execution_count": null,
   "id": "891f4dc2",
   "metadata": {},
   "outputs": [],
   "source": [
    "matriz2"
   ]
  },
  {
   "cell_type": "markdown",
   "id": "d6086da4",
   "metadata": {},
   "source": [
    "# Lista \"El objeto más flexible de R\""
   ]
  },
  {
   "cell_type": "code",
   "execution_count": null,
   "id": "b4bbb1ae",
   "metadata": {},
   "outputs": [],
   "source": [
    "lista <- list()"
   ]
  },
  {
   "cell_type": "code",
   "execution_count": null,
   "id": "203e163f",
   "metadata": {},
   "outputs": [],
   "source": [
    "class(lista)"
   ]
  },
  {
   "cell_type": "code",
   "execution_count": null,
   "id": "16a41f6b",
   "metadata": {},
   "outputs": [],
   "source": [
    "lista$objeto1 <- 1:25\n",
    "lista$objeto2 <- \"Alejandro\"\n",
    "lista$objeto3 <- M[1:4,c(\"Material\",\"Texto breve de material\")]"
   ]
  },
  {
   "cell_type": "code",
   "execution_count": null,
   "id": "5df64759",
   "metadata": {},
   "outputs": [],
   "source": [
    "lista"
   ]
  },
  {
   "cell_type": "code",
   "execution_count": null,
   "id": "418bf457",
   "metadata": {},
   "outputs": [],
   "source": [
    "lista$objeto1"
   ]
  },
  {
   "cell_type": "code",
   "execution_count": null,
   "id": "57ded6f3",
   "metadata": {},
   "outputs": [],
   "source": [
    "lista$objeto1[3:5]"
   ]
  },
  {
   "cell_type": "markdown",
   "id": "23d634ad",
   "metadata": {},
   "source": [
    "# Tutorial"
   ]
  },
  {
   "cell_type": "code",
   "execution_count": null,
   "id": "59a7f6f3",
   "metadata": {},
   "outputs": [],
   "source": [
    "help(matrix)"
   ]
  },
  {
   "cell_type": "code",
   "execution_count": null,
   "id": "d06aa061",
   "metadata": {},
   "outputs": [],
   "source": [
    "#Ejecutar dos expresiones en una línea\n",
    "a = 3 ; b = 5"
   ]
  },
  {
   "cell_type": "code",
   "execution_count": null,
   "id": "8100327f",
   "metadata": {},
   "outputs": [],
   "source": [
    "b"
   ]
  },
  {
   "cell_type": "code",
   "execution_count": null,
   "id": "98692d39",
   "metadata": {},
   "outputs": [],
   "source": []
  },
  {
   "cell_type": "code",
   "execution_count": null,
   "id": "23df839e",
   "metadata": {},
   "outputs": [],
   "source": []
  },
  {
   "cell_type": "code",
   "execution_count": null,
   "id": "b6b65fe3",
   "metadata": {},
   "outputs": [],
   "source": []
  }
 ],
 "metadata": {
  "hide_input": false,
  "kernelspec": {
   "display_name": "R",
   "language": "R",
   "name": "ir"
  },
  "language_info": {
   "codemirror_mode": "r",
   "file_extension": ".r",
   "mimetype": "text/x-r-source",
   "name": "R",
   "pygments_lexer": "r",
   "version": "4.1.0"
  },
  "toc": {
   "base_numbering": 1,
   "nav_menu": {},
   "number_sections": true,
   "sideBar": true,
   "skip_h1_title": false,
   "title_cell": "Table of Contents",
   "title_sidebar": "Contents",
   "toc_cell": false,
   "toc_position": {},
   "toc_section_display": true,
   "toc_window_display": true
  }
 },
 "nbformat": 4,
 "nbformat_minor": 5
}
