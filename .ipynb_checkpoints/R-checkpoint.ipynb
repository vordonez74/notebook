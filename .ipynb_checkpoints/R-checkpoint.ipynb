{
 "cells": [
  {
   "cell_type": "markdown",
   "id": "61e58eea",
   "metadata": {},
   "source": [
    "# Evaluación de la velocidad de R"
   ]
  },
  {
   "cell_type": "code",
   "execution_count": 1,
   "id": "9642d913",
   "metadata": {},
   "outputs": [],
   "source": [
    "library(readr)"
   ]
  },
  {
   "cell_type": "markdown",
   "id": "ad0ea678",
   "metadata": {},
   "source": [
    "# Crear un dataframe desde un archivo csv"
   ]
  },
  {
   "cell_type": "code",
   "execution_count": 2,
   "id": "ad835cb9",
   "metadata": {},
   "outputs": [
    {
     "name": "stderr",
     "output_type": "stream",
     "text": [
      "\n",
      "\u001b[36m--\u001b[39m \u001b[1mColumn specification\u001b[22m \u001b[36m------------------------------------------------------------------------------------------------\u001b[39m\n",
      "cols(\n",
      "  .default = col_double(),\n",
      "  UniqueCarrier = \u001b[31mcol_character()\u001b[39m,\n",
      "  TailNum = \u001b[31mcol_character()\u001b[39m,\n",
      "  Origin = \u001b[31mcol_character()\u001b[39m,\n",
      "  Dest = \u001b[31mcol_character()\u001b[39m,\n",
      "  CancellationCode = \u001b[31mcol_character()\u001b[39m\n",
      ")\n",
      "\u001b[36mi\u001b[39m Use `spec()` for the full column specifications.\n",
      "\n",
      "\n"
     ]
    }
   ],
   "source": [
    "df <- read_csv(\"2008.csv\")"
   ]
  },
  {
   "cell_type": "code",
   "execution_count": 7,
   "id": "89dbf40b",
   "metadata": {},
   "outputs": [
    {
     "name": "stdout",
     "output_type": "stream",
     "text": [
      "spec_tbl_df [7,009,728 x 29] (S3: spec_tbl_df/tbl_df/tbl/data.frame)\n",
      " $ Year             : num [1:7009728] 2008 2008 2008 2008 2008 ...\n",
      " $ Month            : num [1:7009728] 1 1 1 1 1 1 1 1 1 1 ...\n",
      " $ DayofMonth       : num [1:7009728] 3 3 3 3 3 3 3 3 3 3 ...\n",
      " $ DayOfWeek        : num [1:7009728] 4 4 4 4 4 4 4 4 4 4 ...\n",
      " $ DepTime          : num [1:7009728] 2003 754 628 926 1829 ...\n",
      " $ CRSDepTime       : num [1:7009728] 1955 735 620 930 1755 ...\n",
      " $ ArrTime          : num [1:7009728] 2211 1002 804 1054 1959 ...\n",
      " $ CRSArrTime       : num [1:7009728] 2225 1000 750 1100 1925 ...\n",
      " $ UniqueCarrier    : chr [1:7009728] \"WN\" \"WN\" \"WN\" \"WN\" ...\n",
      " $ FlightNum        : num [1:7009728] 335 3231 448 1746 3920 ...\n",
      " $ TailNum          : chr [1:7009728] \"N712SW\" \"N772SW\" \"N428WN\" \"N612SW\" ...\n",
      " $ ActualElapsedTime: num [1:7009728] 128 128 96 88 90 101 240 233 95 79 ...\n",
      " $ CRSElapsedTime   : num [1:7009728] 150 145 90 90 90 115 250 250 95 95 ...\n",
      " $ AirTime          : num [1:7009728] 116 113 76 78 77 87 230 219 70 70 ...\n",
      " $ ArrDelay         : num [1:7009728] -14 2 14 -6 34 11 57 -18 2 -16 ...\n",
      " $ DepDelay         : num [1:7009728] 8 19 8 -4 34 25 67 -1 2 0 ...\n",
      " $ Origin           : chr [1:7009728] \"IAD\" \"IAD\" \"IND\" \"IND\" ...\n",
      " $ Dest             : chr [1:7009728] \"TPA\" \"TPA\" \"BWI\" \"BWI\" ...\n",
      " $ Distance         : num [1:7009728] 810 810 515 515 515 ...\n",
      " $ TaxiIn           : num [1:7009728] 4 5 3 3 3 4 3 7 6 3 ...\n",
      " $ TaxiOut          : num [1:7009728] 8 10 17 7 10 10 7 7 19 6 ...\n",
      " $ Cancelled        : num [1:7009728] 0 0 0 0 0 0 0 0 0 0 ...\n",
      " $ CancellationCode : chr [1:7009728] NA NA NA NA ...\n",
      " $ Diverted         : num [1:7009728] 0 0 0 0 0 0 0 0 0 0 ...\n",
      " $ CarrierDelay     : num [1:7009728] NA NA NA NA 2 NA 10 NA NA NA ...\n",
      " $ WeatherDelay     : num [1:7009728] NA NA NA NA 0 NA 0 NA NA NA ...\n",
      " $ NASDelay         : num [1:7009728] NA NA NA NA 0 NA 0 NA NA NA ...\n",
      " $ SecurityDelay    : num [1:7009728] NA NA NA NA 0 NA 0 NA NA NA ...\n",
      " $ LateAircraftDelay: num [1:7009728] NA NA NA NA 32 NA 47 NA NA NA ...\n",
      " - attr(*, \"spec\")=\n",
      "  .. cols(\n",
      "  ..   Year = \u001b[32mcol_double()\u001b[39m,\n",
      "  ..   Month = \u001b[32mcol_double()\u001b[39m,\n",
      "  ..   DayofMonth = \u001b[32mcol_double()\u001b[39m,\n",
      "  ..   DayOfWeek = \u001b[32mcol_double()\u001b[39m,\n",
      "  ..   DepTime = \u001b[32mcol_double()\u001b[39m,\n",
      "  ..   CRSDepTime = \u001b[32mcol_double()\u001b[39m,\n",
      "  ..   ArrTime = \u001b[32mcol_double()\u001b[39m,\n",
      "  ..   CRSArrTime = \u001b[32mcol_double()\u001b[39m,\n",
      "  ..   UniqueCarrier = \u001b[31mcol_character()\u001b[39m,\n",
      "  ..   FlightNum = \u001b[32mcol_double()\u001b[39m,\n",
      "  ..   TailNum = \u001b[31mcol_character()\u001b[39m,\n",
      "  ..   ActualElapsedTime = \u001b[32mcol_double()\u001b[39m,\n",
      "  ..   CRSElapsedTime = \u001b[32mcol_double()\u001b[39m,\n",
      "  ..   AirTime = \u001b[32mcol_double()\u001b[39m,\n",
      "  ..   ArrDelay = \u001b[32mcol_double()\u001b[39m,\n",
      "  ..   DepDelay = \u001b[32mcol_double()\u001b[39m,\n",
      "  ..   Origin = \u001b[31mcol_character()\u001b[39m,\n",
      "  ..   Dest = \u001b[31mcol_character()\u001b[39m,\n",
      "  ..   Distance = \u001b[32mcol_double()\u001b[39m,\n",
      "  ..   TaxiIn = \u001b[32mcol_double()\u001b[39m,\n",
      "  ..   TaxiOut = \u001b[32mcol_double()\u001b[39m,\n",
      "  ..   Cancelled = \u001b[32mcol_double()\u001b[39m,\n",
      "  ..   CancellationCode = \u001b[31mcol_character()\u001b[39m,\n",
      "  ..   Diverted = \u001b[32mcol_double()\u001b[39m,\n",
      "  ..   CarrierDelay = \u001b[32mcol_double()\u001b[39m,\n",
      "  ..   WeatherDelay = \u001b[32mcol_double()\u001b[39m,\n",
      "  ..   NASDelay = \u001b[32mcol_double()\u001b[39m,\n",
      "  ..   SecurityDelay = \u001b[32mcol_double()\u001b[39m,\n",
      "  ..   LateAircraftDelay = \u001b[32mcol_double()\u001b[39m\n",
      "  .. )\n"
     ]
    }
   ],
   "source": [
    "str(df)"
   ]
  },
  {
   "cell_type": "code",
   "execution_count": 3,
   "id": "5a8d339a",
   "metadata": {},
   "outputs": [
    {
     "data": {
      "text/html": [
       "7009728"
      ],
      "text/latex": [
       "7009728"
      ],
      "text/markdown": [
       "7009728"
      ],
      "text/plain": [
       "[1] 7009728"
      ]
     },
     "metadata": {},
     "output_type": "display_data"
    }
   ],
   "source": [
    "#Cantidad de filas\n",
    "nrow(df)"
   ]
  },
  {
   "cell_type": "code",
   "execution_count": 4,
   "id": "3e54548f",
   "metadata": {},
   "outputs": [
    {
     "data": {
      "text/html": [
       "29"
      ],
      "text/latex": [
       "29"
      ],
      "text/markdown": [
       "29"
      ],
      "text/plain": [
       "[1] 29"
      ]
     },
     "metadata": {},
     "output_type": "display_data"
    }
   ],
   "source": [
    "#Cantidad de columnas\n",
    "ncol(df)"
   ]
  },
  {
   "cell_type": "markdown",
   "id": "bd217061",
   "metadata": {},
   "source": [
    "## Selección de columnas a mostrar en un dataframe"
   ]
  },
  {
   "cell_type": "code",
   "execution_count": 5,
   "id": "0a8fc0de",
   "metadata": {},
   "outputs": [
    {
     "data": {
      "text/html": [
       "<table class=\"dataframe\">\n",
       "<caption>A tibble: 5 × 3</caption>\n",
       "<thead>\n",
       "\t<tr><th scope=col>DepTime</th><th scope=col>CRSDepTime</th><th scope=col>ArrTime</th></tr>\n",
       "\t<tr><th scope=col>&lt;dbl&gt;</th><th scope=col>&lt;dbl&gt;</th><th scope=col>&lt;dbl&gt;</th></tr>\n",
       "</thead>\n",
       "<tbody>\n",
       "\t<tr><td>2003</td><td>1955</td><td>2211</td></tr>\n",
       "\t<tr><td> 754</td><td> 735</td><td>1002</td></tr>\n",
       "\t<tr><td> 628</td><td> 620</td><td> 804</td></tr>\n",
       "\t<tr><td> 926</td><td> 930</td><td>1054</td></tr>\n",
       "\t<tr><td>1829</td><td>1755</td><td>1959</td></tr>\n",
       "</tbody>\n",
       "</table>\n"
      ],
      "text/latex": [
       "A tibble: 5 × 3\n",
       "\\begin{tabular}{lll}\n",
       " DepTime & CRSDepTime & ArrTime\\\\\n",
       " <dbl> & <dbl> & <dbl>\\\\\n",
       "\\hline\n",
       "\t 2003 & 1955 & 2211\\\\\n",
       "\t  754 &  735 & 1002\\\\\n",
       "\t  628 &  620 &  804\\\\\n",
       "\t  926 &  930 & 1054\\\\\n",
       "\t 1829 & 1755 & 1959\\\\\n",
       "\\end{tabular}\n"
      ],
      "text/markdown": [
       "\n",
       "A tibble: 5 × 3\n",
       "\n",
       "| DepTime &lt;dbl&gt; | CRSDepTime &lt;dbl&gt; | ArrTime &lt;dbl&gt; |\n",
       "|---|---|---|\n",
       "| 2003 | 1955 | 2211 |\n",
       "|  754 |  735 | 1002 |\n",
       "|  628 |  620 |  804 |\n",
       "|  926 |  930 | 1054 |\n",
       "| 1829 | 1755 | 1959 |\n",
       "\n"
      ],
      "text/plain": [
       "  DepTime CRSDepTime ArrTime\n",
       "1 2003    1955       2211   \n",
       "2  754     735       1002   \n",
       "3  628     620        804   \n",
       "4  926     930       1054   \n",
       "5 1829    1755       1959   "
      ]
     },
     "metadata": {},
     "output_type": "display_data"
    }
   ],
   "source": [
    "head(df[c(\"DepTime\",\"CRSDepTime\",\"ArrTime\")],5)"
   ]
  },
  {
   "cell_type": "code",
   "execution_count": 8,
   "id": "feffdd95",
   "metadata": {},
   "outputs": [
    {
     "data": {
      "text/html": [
       "<style>\n",
       ".list-inline {list-style: none; margin:0; padding: 0}\n",
       ".list-inline>li {display: inline-block}\n",
       ".list-inline>li:not(:last-child)::after {content: \"\\00b7\"; padding: 0 .5ex}\n",
       "</style>\n",
       "<ol class=list-inline><li>-14</li><li>2</li><li>14</li><li>-6</li><li>34</li><li>11</li><li>57</li><li>-18</li><li>2</li><li>-16</li><li>1</li><li>80</li><li>1</li><li>10</li><li>-4</li></ol>\n"
      ],
      "text/latex": [
       "\\begin{enumerate*}\n",
       "\\item -14\n",
       "\\item 2\n",
       "\\item 14\n",
       "\\item -6\n",
       "\\item 34\n",
       "\\item 11\n",
       "\\item 57\n",
       "\\item -18\n",
       "\\item 2\n",
       "\\item -16\n",
       "\\item 1\n",
       "\\item 80\n",
       "\\item 1\n",
       "\\item 10\n",
       "\\item -4\n",
       "\\end{enumerate*}\n"
      ],
      "text/markdown": [
       "1. -14\n",
       "2. 2\n",
       "3. 14\n",
       "4. -6\n",
       "5. 34\n",
       "6. 11\n",
       "7. 57\n",
       "8. -18\n",
       "9. 2\n",
       "10. -16\n",
       "11. 1\n",
       "12. 80\n",
       "13. 1\n",
       "14. 10\n",
       "15. -4\n",
       "\n",
       "\n"
      ],
      "text/plain": [
       " [1] -14   2  14  -6  34  11  57 -18   2 -16   1  80   1  10  -4"
      ]
     },
     "metadata": {},
     "output_type": "display_data"
    }
   ],
   "source": [
    "#Muestra una columna del dataframe\n",
    "head(df$ArrDelay,15)"
   ]
  },
  {
   "cell_type": "code",
   "execution_count": null,
   "id": "a7f0e9eb",
   "metadata": {},
   "outputs": [],
   "source": [
    "nrow(delay)"
   ]
  },
  {
   "cell_type": "markdown",
   "id": "a68d3152",
   "metadata": {},
   "source": [
    "# Cálculo del tiempo"
   ]
  },
  {
   "cell_type": "code",
   "execution_count": 9,
   "id": "9d76873d",
   "metadata": {},
   "outputs": [],
   "source": [
    "delay <- df$ArrDelay\n",
    "#Filtra los datos que no sean NA y sobre escribe el dataframe con los nuevos resultados\n",
    "delay <- delay[!is.na(delay)]"
   ]
  },
  {
   "cell_type": "code",
   "execution_count": 10,
   "id": "4d10b551",
   "metadata": {},
   "outputs": [
    {
     "data": {
      "text/html": [
       "8.16845238729124"
      ],
      "text/latex": [
       "8.16845238729124"
      ],
      "text/markdown": [
       "8.16845238729124"
      ],
      "text/plain": [
       "[1] 8.168452"
      ]
     },
     "metadata": {},
     "output_type": "display_data"
    },
    {
     "name": "stdout",
     "output_type": "stream",
     "text": [
      "Time difference of 0.02095103 secs\n"
     ]
    }
   ],
   "source": [
    "#Evalua cuanto se tardó en calcular la media\n",
    "start <- Sys.time()\n",
    "mean(delay)\n",
    "print(Sys.time() -start)"
   ]
  },
  {
   "cell_type": "code",
   "execution_count": 11,
   "id": "1a940f85",
   "metadata": {},
   "outputs": [
    {
     "data": {
      "text/plain": [
       "   user  system elapsed \n",
       "   0.02    0.00    0.02 "
      ]
     },
     "metadata": {},
     "output_type": "display_data"
    }
   ],
   "source": [
    "#devuelve una tabla resumen\n",
    "system.time(mean(delay))"
   ]
  },
  {
   "cell_type": "code",
   "execution_count": null,
   "id": "7fc67756",
   "metadata": {},
   "outputs": [],
   "source": [
    "#Aproximación más avanzada a evaluación de tiempo se logra con\n",
    "library(\"rbenchmark\")"
   ]
  },
  {
   "cell_type": "code",
   "execution_count": null,
   "id": "1e9899e2",
   "metadata": {},
   "outputs": [],
   "source": [
    "benchmark(\n",
    "    \"Media funcion\"={\n",
    "        mean(delay)\n",
    "    },\n",
    "    \"Media con funciones\"={\n",
    "        sum(delay)/length(delay)\n",
    "    },\n",
    "    \"Media manual\"={\n",
    "        media <- 0\n",
    "        for(i in 1:length(delay)){\n",
    "            media <- media + delay[i]\n",
    "        }\n",
    "        media/length(delay)\n",
    "    },\n",
    "    replications = 20,\n",
    "    columns = c(\"test\",\"replications\",\"elapsed\",\"relative\")\n",
    ")"
   ]
  },
  {
   "cell_type": "code",
   "execution_count": null,
   "id": "a9c09880",
   "metadata": {},
   "outputs": [],
   "source": [
    "for(i in 1:10){\n",
    "    print(i)\n",
    "}"
   ]
  },
  {
   "cell_type": "markdown",
   "id": "8632e4aa",
   "metadata": {},
   "source": [
    "# Importar un archivo de excel"
   ]
  },
  {
   "cell_type": "code",
   "execution_count": 46,
   "id": "ba35296c",
   "metadata": {},
   "outputs": [
    {
     "name": "stderr",
     "output_type": "stream",
     "text": [
      "Warning message:\n",
      "\"package 'readxl' was built under R version 4.1.2\"\n"
     ]
    }
   ],
   "source": [
    "library(readxl)"
   ]
  },
  {
   "cell_type": "code",
   "execution_count": 47,
   "id": "26d5870d",
   "metadata": {},
   "outputs": [],
   "source": [
    "M <- read_excel(\"C:/Users/ordonez/Documents/SAP/SAP GUI/M.XLSX\", col_types = c(\"text\", \n",
    "\"text\", \"numeric\", \"numeric\", \"numeric\", \n",
    "\"numeric\", \"text\", \"text\", \"text\", \"text\", \n",
    "\"text\", \"numeric\", \"text\", \"text\", \"text\", \n",
    "\"text\", \"numeric\", \"text\", \"date\", \"text\", \n",
    "\"numeric\", \"text\", \"numeric\"))"
   ]
  },
  {
   "cell_type": "code",
   "execution_count": 48,
   "id": "814f0bed",
   "metadata": {},
   "outputs": [
    {
     "data": {
      "text/html": [
       "<table class=\"dataframe\">\n",
       "<caption>A tibble: 28958 × 23</caption>\n",
       "<thead>\n",
       "\t<tr><th scope=col>Material</th><th scope=col>UMB</th><th scope=col>Libre utiliz.</th><th scope=col>Punto pedido</th><th scope=col>Stock máximo</th><th scope=col>Tam.lote fijo</th><th scope=col>CaP</th><th scope=col>Texto breve de material</th><th scope=col>NºMaterial antiguo</th><th scope=col>Ce.</th><th scope=col>...</th><th scope=col>Grupo art.</th><th scope=col>Grupo de artículos</th><th scope=col>GCp</th><th scope=col>Cantidad base</th><th scope=col>ABC</th><th scope=col>Creado</th><th scope=col>Indicador: Parte crítica</th><th scope=col>Val.redondeo</th><th scope=col>NºFb</th><th scope=col>PzE</th></tr>\n",
       "\t<tr><th scope=col>&lt;chr&gt;</th><th scope=col>&lt;chr&gt;</th><th scope=col>&lt;dbl&gt;</th><th scope=col>&lt;dbl&gt;</th><th scope=col>&lt;dbl&gt;</th><th scope=col>&lt;dbl&gt;</th><th scope=col>&lt;chr&gt;</th><th scope=col>&lt;chr&gt;</th><th scope=col>&lt;chr&gt;</th><th scope=col>&lt;chr&gt;</th><th scope=col>...</th><th scope=col>&lt;chr&gt;</th><th scope=col>&lt;chr&gt;</th><th scope=col>&lt;chr&gt;</th><th scope=col>&lt;dbl&gt;</th><th scope=col>&lt;chr&gt;</th><th scope=col>&lt;dttm&gt;</th><th scope=col>&lt;chr&gt;</th><th scope=col>&lt;dbl&gt;</th><th scope=col>&lt;chr&gt;</th><th scope=col>&lt;dbl&gt;</th></tr>\n",
       "</thead>\n",
       "<tbody>\n",
       "\t<tr><td>1011796</td><td>C/U</td><td>    0.00</td><td>    50.0</td><td>     0</td><td>120</td><td>ND</td><td>LAMPARA BAJO CONSUMO 85W ROSCA E40 220V </td><td>39512108</td><td>1001</td><td>...</td><td>ELEC390IL</td><td>Material eléctrico - Iluminación            </td><td>D40</td><td>   1</td><td>B </td><td>2013-11-08</td><td>No</td><td>    0</td><td>NA</td><td> 60</td></tr>\n",
       "\t<tr><td>1033865</td><td>C/U</td><td>    0.00</td><td>     0.0</td><td>     0</td><td>  2</td><td>ND</td><td>JUNTA SELLANTE GORE TEX DE 3/4\" x 9,14 M</td><td>87491015</td><td>1001</td><td>...</td><td>JUNT870GO</td><td>Junta Sellante Gore                         </td><td>D49</td><td>   1</td><td>C </td><td>2013-11-08</td><td>No</td><td>    0</td><td>NA</td><td> 60</td></tr>\n",
       "\t<tr><td>1000007</td><td>KG </td><td> 7100.00</td><td>     0.0</td><td>  5000</td><td>  0</td><td>ND</td><td>BACTERICIDA BUSSAN 881                  </td><td>01110105</td><td>1002</td><td>...</td><td>30007    </td><td>PRODUCTOS QUÍMICOS                          </td><td>D66</td><td>   1</td><td>NA</td><td>2013-11-08</td><td>No</td><td>    0</td><td>NA</td><td>150</td></tr>\n",
       "\t<tr><td>1000008</td><td>KG </td><td>15222.72</td><td>     0.0</td><td>240000</td><td>  0</td><td>P5</td><td>CAL HIDRATADA. ENV. 1000 KG.            </td><td>01120104</td><td>1001</td><td>...</td><td>CRUD013PS</td><td>Prod. Químico Crudo                         </td><td>D42</td><td>   1</td><td>A </td><td>2013-11-08</td><td>No</td><td>24000</td><td>NA</td><td> 30</td></tr>\n",
       "\t<tr><td>1000009</td><td>KG </td><td>33395.60</td><td>     0.0</td><td>     0</td><td>  0</td><td>P8</td><td>CAL HIDRATADA. ENV.25 KG.               </td><td>01120120</td><td>1001</td><td>...</td><td>REFI012PS</td><td>Insu Pco Refineria                          </td><td>D42</td><td>   1</td><td>A </td><td>2013-11-08</td><td>No</td><td> 1000</td><td>NA</td><td> 30</td></tr>\n",
       "\t<tr><td>1000010</td><td>KG </td><td>10000.00</td><td> 21648.5</td><td>     0</td><td>  0</td><td>Z6</td><td>FLOCULANTE P/CLARIIF DE JUGO            </td><td>01120252</td><td>1001</td><td>...</td><td>CRUD013PQ</td><td>Insumo Químico para crudo                   </td><td>D66</td><td>   1</td><td>A </td><td>2013-11-08</td><td>No</td><td> 1000</td><td>NA</td><td> 90</td></tr>\n",
       "\t<tr><td>1000011</td><td>KG </td><td>  900.00</td><td>   450.0</td><td>   900</td><td>  0</td><td>VB</td><td>DISPERSANTE BUSPERSE 47                 </td><td>01130152</td><td>1002</td><td>...</td><td>CRUD013PQ</td><td>Insumo Químico para crudo                   </td><td>D66</td><td>   1</td><td>B </td><td>2013-11-08</td><td>No</td><td>    0</td><td>NA</td><td> 90</td></tr>\n",
       "\t<tr><td>1000012</td><td>KG </td><td>   50.00</td><td>  1000.0</td><td>  8000</td><td>  0</td><td>VB</td><td>HIDROSULFITO DE SODIO                   </td><td>01130202</td><td>1002</td><td>...</td><td>30000    </td><td>MATERIA PRIMA (COMPRADA)                    </td><td>D65</td><td>   1</td><td>B </td><td>2013-11-08</td><td>No</td><td>    0</td><td>NA</td><td> 45</td></tr>\n",
       "\t<tr><td>1000014</td><td>KG </td><td> 6800.00</td><td>  1983.0</td><td>     0</td><td>  0</td><td>Z6</td><td>ANTIVISCOSO SURFAC88  T-200KG           </td><td>01130400</td><td>1001</td><td>...</td><td>INSQ010PQ</td><td>Insumo Quimicos comunes a todos los negocios</td><td>D66</td><td>   1</td><td>B </td><td>2013-11-08</td><td>No</td><td>  200</td><td>NA</td><td> 45</td></tr>\n",
       "\t<tr><td>1000015</td><td>KG </td><td>85248.00</td><td>     0.0</td><td>130000</td><td>  0</td><td>P5</td><td>ACIDO FOSFORICO 80% - GRANEL- GRAD.ALIM.</td><td>01140052</td><td>1001</td><td>...</td><td>INSQ010PQ</td><td>Insumo Quimicos comunes a todos los negocios</td><td>D42</td><td>   1</td><td>A </td><td>2013-11-08</td><td>No</td><td>28000</td><td>NA</td><td> 30</td></tr>\n",
       "\t<tr><td>1000017</td><td>KG </td><td>  600.00</td><td>     0.0</td><td>     0</td><td>  0</td><td>ND</td><td>SUSTANCIA HB160 BOLSON                  </td><td>01140086</td><td>1002</td><td>...</td><td>30000    </td><td>MATERIA PRIMA (COMPRADA)                    </td><td>NA </td><td>   1</td><td>NA</td><td>2013-11-08</td><td>Sí</td><td>    0</td><td>NA</td><td> 60</td></tr>\n",
       "\t<tr><td>1000019</td><td>KG </td><td>  500.00</td><td>     0.0</td><td>     0</td><td>  0</td><td>P8</td><td>CARBON ACTIVADO B-20KG                  </td><td>01140102</td><td>1001</td><td>...</td><td>REFI012PQ</td><td>Insumo Químico para Refineria               </td><td>D65</td><td>   1</td><td>C </td><td>2013-11-08</td><td>No</td><td> 1000</td><td>NA</td><td> 60</td></tr>\n",
       "\t<tr><td>1000020</td><td>KG </td><td> 4994.00</td><td>     0.0</td><td>     0</td><td>  0</td><td>P8</td><td>DECOLORANTE CATIONICO P/JARABE          </td><td>01140126</td><td>1001</td><td>...</td><td>REFI012PQ</td><td>Insumo Químico para Refineria               </td><td>D66</td><td>   1</td><td>A </td><td>2013-11-08</td><td>No</td><td> 1000</td><td>NA</td><td> 10</td></tr>\n",
       "\t<tr><td>1000021</td><td>KG </td><td>19584.00</td><td>     0.0</td><td>     0</td><td>  0</td><td>P8</td><td>TIERRA FILTRANTE DIAFILTER FLO 2TR      </td><td>01140201</td><td>1001</td><td>...</td><td>REFI012PQ</td><td>Insumo Químico para Refineria               </td><td>D42</td><td>   1</td><td>A </td><td>2013-11-08</td><td>No</td><td>16000</td><td>NA</td><td> 45</td></tr>\n",
       "\t<tr><td>1000022</td><td>KG </td><td>    0.00</td><td>  1000.0</td><td>  2000</td><td>  0</td><td>VB</td><td>TIERRA FILTRANTE DIAFILTER FLO M        </td><td>01140300</td><td>1001</td><td>...</td><td>REFI012PQ</td><td>Insumo Químico para Refineria               </td><td>D42</td><td>   1</td><td>B </td><td>2013-11-08</td><td>No</td><td>    0</td><td>NA</td><td> 60</td></tr>\n",
       "\t<tr><td>1000023</td><td>KG </td><td>    0.00</td><td>  1000.0</td><td>  2000</td><td>  0</td><td>VB</td><td>TIERRA FILTRANTE DIAFILTER FLO R        </td><td>01140359</td><td>1001</td><td>...</td><td>REFI012PQ</td><td>Insumo Químico para Refineria               </td><td>D42</td><td>   1</td><td>C </td><td>2013-11-08</td><td>No</td><td>    0</td><td>NA</td><td> 60</td></tr>\n",
       "\t<tr><td>1000024</td><td>KG </td><td>42696.00</td><td>     0.0</td><td>     0</td><td>  0</td><td>P8</td><td>TIERRA FILTRAN.HARBORLITE GRADO 650     </td><td>01140367</td><td>1001</td><td>...</td><td>REFI012PQ</td><td>Insumo Químico para Refineria               </td><td>D42</td><td>   1</td><td>A </td><td>2013-11-08</td><td>No</td><td>16000</td><td>NA</td><td> 90</td></tr>\n",
       "\t<tr><td>1000027</td><td>KG </td><td> 8100.00</td><td>     0.0</td><td>     0</td><td>  0</td><td>P8</td><td>FLOCULANTE  TALOFLOTE-100               </td><td>01140417</td><td>1001</td><td>...</td><td>REFI012PQ</td><td>Insumo Químico para Refineria               </td><td>D66</td><td>   1</td><td>A </td><td>2013-11-08</td><td>No</td><td> 1000</td><td>NA</td><td> 45</td></tr>\n",
       "\t<tr><td>1000028</td><td>KG </td><td>37584.00</td><td>     0.0</td><td>     0</td><td>  0</td><td>P8</td><td>TIERRA FILTRANTE HARBORLITE GRADO 500   </td><td>01140458</td><td>1001</td><td>...</td><td>REFI012PQ</td><td>Insumo Químico para Refineria               </td><td>D42</td><td>   1</td><td>A </td><td>2013-11-08</td><td>No</td><td>16000</td><td>NA</td><td> 45</td></tr>\n",
       "\t<tr><td>1000031</td><td>KG </td><td>19880.00</td><td>  1000.0</td><td>  2000</td><td>  0</td><td>VB</td><td>ANTIESPUMANTE PARA ALCOHOL              </td><td>01221027</td><td>1001</td><td>...</td><td>ALCO011PQ</td><td>Insumo Qco. Para Fábrica de Alcohol         </td><td>D66</td><td>   1</td><td>A </td><td>2013-11-08</td><td>No</td><td>    0</td><td>NA</td><td> 90</td></tr>\n",
       "\t<tr><td>1000033</td><td>L  </td><td> 6750.00</td><td>     0.0</td><td>     0</td><td>  0</td><td>P8</td><td>ENZIMA,MP ALFAAMI E-225KG               </td><td>01230317</td><td>1001</td><td>...</td><td>INSQ010PQ</td><td>Insumo Quimicos comunes a todos los negocios</td><td>D65</td><td>   1</td><td>A </td><td>2013-11-08</td><td>No</td><td>  225</td><td>NA</td><td> 90</td></tr>\n",
       "\t<tr><td>1000050</td><td>KG </td><td>51000.00</td><td>480000.0</td><td>480000</td><td>  0</td><td>VB</td><td>ALMIDON DE SUPERFICIE GLUCOVIL          </td><td>02110021</td><td>1002</td><td>...</td><td>30000    </td><td>MATERIA PRIMA (COMPRADA)                    </td><td>D66</td><td>1000</td><td>A </td><td>2013-11-08</td><td>No</td><td>    0</td><td>NA</td><td> 45</td></tr>\n",
       "\t<tr><td>1000052</td><td>KG </td><td>19200.00</td><td>145000.0</td><td>145000</td><td>  0</td><td>VB</td><td>ALMIDON DE MASA CATIONICO (GLUCOVIL)    </td><td>02110062</td><td>1002</td><td>...</td><td>30000    </td><td>MATERIA PRIMA (COMPRADA)                    </td><td>D66</td><td>1000</td><td>A </td><td>2013-11-08</td><td>No</td><td>    0</td><td>NA</td><td> 45</td></tr>\n",
       "\t<tr><td>1000054</td><td>KG </td><td> 1200.00</td><td>   600.0</td><td>  1200</td><td>  0</td><td>VB</td><td>ANILINA P/PAPEL CELESTE                 </td><td>02110161</td><td>1002</td><td>...</td><td>30000    </td><td>MATERIA PRIMA (COMPRADA)                    </td><td>D64</td><td>   1</td><td>C </td><td>2013-11-08</td><td>No</td><td>    0</td><td>NA</td><td> 90</td></tr>\n",
       "\t<tr><td>1000055</td><td>KG </td><td> 4200.00</td><td>  3000.0</td><td>  4500</td><td>  0</td><td>VB</td><td>ANILINA P/PAPEL VERDE                   </td><td>02110187</td><td>1002</td><td>...</td><td>30000    </td><td>MATERIA PRIMA (COMPRADA)                    </td><td>D64</td><td>   1</td><td>B </td><td>2013-11-08</td><td>No</td><td>    0</td><td>NA</td><td> 90</td></tr>\n",
       "\t<tr><td>1000056</td><td>KG </td><td> 2000.00</td><td>  4100.0</td><td>  6000</td><td>  0</td><td>VB</td><td>COLORANTE,MP MATIZ VIOLETA CX1.000L     </td><td>02110203</td><td>1002</td><td>...</td><td>30000    </td><td>MATERIA PRIMA (COMPRADA)                    </td><td>D66</td><td>   1</td><td>A </td><td>2013-11-08</td><td>No</td><td>    0</td><td>NA</td><td> 60</td></tr>\n",
       "\t<tr><td>1000057</td><td>KG </td><td>57460.00</td><td>480000.0</td><td>480000</td><td>  0</td><td>VB</td><td>PEROXIDO DE HIDROGENO AL 60%            </td><td>02110286</td><td>1002</td><td>...</td><td>30007    </td><td>PRODUCTOS QUÍMICOS                          </td><td>D66</td><td>   1</td><td>A </td><td>2013-11-08</td><td>No</td><td>    0</td><td>NA</td><td> 60</td></tr>\n",
       "\t<tr><td>1000058</td><td>L  </td><td>56200.00</td><td>150000.0</td><td>190000</td><td>  0</td><td>VB</td><td>BLANQUEADOR OPTICO TINOPAL ABP-LIQ.     </td><td>02110294</td><td>1002</td><td>...</td><td>30007    </td><td>PRODUCTOS QUÍMICOS                          </td><td>D66</td><td>   1</td><td>A </td><td>2013-11-08</td><td>No</td><td>    0</td><td>NA</td><td> 60</td></tr>\n",
       "\t<tr><td>1000059</td><td>KG </td><td>    0.00</td><td>120000.0</td><td>300000</td><td>  0</td><td>VB</td><td>PEROXIDO DE HIDROGENO AL 70%            </td><td>02110302</td><td>1002</td><td>...</td><td>30007    </td><td>PRODUCTOS QUÍMICOS                          </td><td>D66</td><td>   1</td><td>A </td><td>2013-11-08</td><td>No</td><td>    0</td><td>NA</td><td> 60</td></tr>\n",
       "\t<tr><td>1000060</td><td>KG </td><td> 6120.00</td><td>  4000.0</td><td>  6000</td><td>  0</td><td>VB</td><td>ANILINA P/PAPEL CANARIO                 </td><td>02110344</td><td>1002</td><td>...</td><td>30000    </td><td>MATERIA PRIMA (COMPRADA)                    </td><td>D64</td><td>   1</td><td>B </td><td>2013-11-08</td><td>No</td><td>    0</td><td>NA</td><td> 90</td></tr>\n",
       "\t<tr><td>...</td><td>...</td><td>...</td><td>...</td><td>...</td><td>...</td><td>...</td><td>...</td><td>...</td><td>...</td><td></td><td>...</td><td>...</td><td>...</td><td>...</td><td>...</td><td>...</td><td>...</td><td>...</td><td>...</td><td>...</td></tr>\n",
       "\t<tr><td>1063619</td><td>C/U</td><td>0</td><td>    0</td><td>    0</td><td>0</td><td>PD</td><td>RODAMIENTO - ART: 4H-0019               </td><td>NA      </td><td>1007</td><td>...</td><td>VIAL660VS</td><td>Rpto. Máquina Vial                                          </td><td>D18</td><td>1</td><td>NA</td><td>2022-07-04</td><td>No</td><td>0</td><td>NA</td><td>60</td></tr>\n",
       "\t<tr><td>1063620</td><td>C/U</td><td>0</td><td>    0</td><td>    0</td><td>0</td><td>PD</td><td>SENSOR DE PRESIÓN - ART: 311-6342       </td><td>NA      </td><td>1007</td><td>...</td><td>VIAL660VS</td><td>Rpto. Máquina Vial                                          </td><td>D18</td><td>1</td><td>NA</td><td>2022-07-04</td><td>No</td><td>0</td><td>NA</td><td>60</td></tr>\n",
       "\t<tr><td>1063622</td><td>C/U</td><td>0</td><td>    0</td><td>    0</td><td>0</td><td>PD</td><td>INYECTORES - ART: 320-0690              </td><td>NA      </td><td>1007</td><td>...</td><td>VIAL660VS</td><td>Rpto. Máquina Vial                                          </td><td>D18</td><td>1</td><td>NA</td><td>2022-07-04</td><td>No</td><td>0</td><td>NA</td><td>60</td></tr>\n",
       "\t<tr><td>1063623</td><td>C/U</td><td>0</td><td>    0</td><td>    0</td><td>0</td><td>PD</td><td>ORING - ART: 4J-5351                    </td><td>NA      </td><td>1007</td><td>...</td><td>VIAL660VS</td><td>Rpto. Máquina Vial                                          </td><td>D18</td><td>1</td><td>NA</td><td>2022-07-04</td><td>No</td><td>0</td><td>NA</td><td>60</td></tr>\n",
       "\t<tr><td>1063624</td><td>C/U</td><td>0</td><td>    0</td><td>    0</td><td>0</td><td>PD</td><td>ORING - ART: 5M-5860                    </td><td>NA      </td><td>1007</td><td>...</td><td>VIAL660VS</td><td>Rpto. Máquina Vial                                          </td><td>D18</td><td>1</td><td>NA</td><td>2022-07-04</td><td>No</td><td>0</td><td>NA</td><td>60</td></tr>\n",
       "\t<tr><td>1063625</td><td>C/U</td><td>0</td><td>    0</td><td>    0</td><td>0</td><td>PD</td><td>PISTA - ART: 5P-7592                    </td><td>NA      </td><td>1007</td><td>...</td><td>VIAL660VS</td><td>Rpto. Máquina Vial                                          </td><td>D18</td><td>1</td><td>NA</td><td>2022-07-04</td><td>No</td><td>0</td><td>NA</td><td>60</td></tr>\n",
       "\t<tr><td>1063626</td><td>C/U</td><td>0</td><td>    0</td><td>    0</td><td>0</td><td>PD</td><td>RESORTE TRANSMISIÓN - ART: 4M-9592      </td><td>NA      </td><td>1007</td><td>...</td><td>VIAL660VS</td><td>Rpto. Máquina Vial                                          </td><td>D18</td><td>1</td><td>NA</td><td>2022-07-04</td><td>No</td><td>0</td><td>NA</td><td>60</td></tr>\n",
       "\t<tr><td>1063627</td><td>C/U</td><td>0</td><td>    0</td><td>    0</td><td>0</td><td>PD</td><td>COJINETE - ART: 3T-8729                 </td><td>NA      </td><td>1007</td><td>...</td><td>VIAL660VS</td><td>Rpto. Máquina Vial                                          </td><td>D18</td><td>1</td><td>NA</td><td>2022-07-04</td><td>No</td><td>0</td><td>NA</td><td>60</td></tr>\n",
       "\t<tr><td>1063628</td><td>C/U</td><td>0</td><td>    0</td><td>    0</td><td>0</td><td>PD</td><td>ANILLO INYECTOR - ART: 6E-0381          </td><td>NA      </td><td>1007</td><td>...</td><td>VIAL660VS</td><td>Rpto. Máquina Vial                                          </td><td>D18</td><td>1</td><td>NA</td><td>2022-07-04</td><td>No</td><td>0</td><td>NA</td><td>60</td></tr>\n",
       "\t<tr><td>1006523</td><td>C/U</td><td>0</td><td>    0</td><td>    0</td><td>0</td><td>PD</td><td>MECHA DE ACERO RAPIDO 15,75MM           </td><td>32600125</td><td>1001</td><td>...</td><td>HTAS320AC</td><td>Accesorios de herramientas manuales y electrica             </td><td>D53</td><td>1</td><td>NA</td><td>2013-11-08</td><td>No</td><td>1</td><td>NA</td><td>60</td></tr>\n",
       "\t<tr><td>1006208</td><td>C/U</td><td>0</td><td>    2</td><td>    3</td><td>0</td><td>V1</td><td>MACHO M14X2MM JGOX3 HSSE-ISO 529        </td><td>32351744</td><td>1001</td><td>...</td><td>HTAS100RE</td><td>Herramienta Manual                                          </td><td>D53</td><td>1</td><td>NA</td><td>2013-11-08</td><td>No</td><td>0</td><td>NA</td><td>60</td></tr>\n",
       "\t<tr><td>1063635</td><td>C/U</td><td>0</td><td>   58</td><td>   58</td><td>0</td><td>V1</td><td>JUNTA P/INTERCAMBDR. HIPOCL. E-E6-154   </td><td>NA      </td><td>1002</td><td>...</td><td>INTE087IC</td><td>Repuestos Intercambiadores de calor, placas, juntas, fuelles</td><td>D49</td><td>1</td><td>NA</td><td>2022-07-04</td><td>Sí</td><td>0</td><td>NA</td><td>60</td></tr>\n",
       "\t<tr><td>1063640</td><td>C/U</td><td>0</td><td>    2</td><td>    2</td><td>0</td><td>V1</td><td>MODULO FBM238 FOXBORO RH927AF           </td><td>NA      </td><td>1002</td><td>...</td><td>10042    </td><td>MATERIALES ELECTRONICOS                                     </td><td>D53</td><td>1</td><td>NA</td><td>2022-07-05</td><td>Sí</td><td>0</td><td>NA</td><td>60</td></tr>\n",
       "\t<tr><td>1063641</td><td>C/U</td><td>0</td><td>    1</td><td>    1</td><td>0</td><td>V1</td><td>MODULO FBM217 FOXBORO RH914TR           </td><td>NA      </td><td>1002</td><td>...</td><td>10042    </td><td>MATERIALES ELECTRONICOS                                     </td><td>D53</td><td>1</td><td>NA</td><td>2022-07-05</td><td>Sí</td><td>0</td><td>NA</td><td>60</td></tr>\n",
       "\t<tr><td>1063642</td><td>C/U</td><td>0</td><td>    1</td><td>    1</td><td>0</td><td>V1</td><td>CABLE BASE TO BASE FOXBORO RH916MZ      </td><td>NA      </td><td>1002</td><td>...</td><td>10042    </td><td>MATERIALES ELECTRONICOS                                     </td><td>D53</td><td>1</td><td>NA</td><td>2022-07-05</td><td>Sí</td><td>0</td><td>NA</td><td>60</td></tr>\n",
       "\t<tr><td>1063643</td><td>C/U</td><td>0</td><td>    1</td><td>    1</td><td>0</td><td>V1</td><td>MÓDULO FBI200 FOXBORO RH927AP           </td><td>NA      </td><td>1002</td><td>...</td><td>10042    </td><td>MATERIALES ELECTRONICOS                                     </td><td>D53</td><td>1</td><td>NA</td><td>2022-07-05</td><td>Sí</td><td>0</td><td>NA</td><td>60</td></tr>\n",
       "\t<tr><td>1063644</td><td>C/U</td><td>0</td><td>    1</td><td>    1</td><td>0</td><td>V1</td><td>MODULO FCM2F FOXBORO RH914YZ            </td><td>NA      </td><td>1002</td><td>...</td><td>10042    </td><td>MATERIALES ELECTRONICOS                                     </td><td>D53</td><td>1</td><td>NA</td><td>2022-07-05</td><td>Sí</td><td>0</td><td>NA</td><td>60</td></tr>\n",
       "\t<tr><td>1063645</td><td>C/U</td><td>0</td><td>    1</td><td>    1</td><td>0</td><td>V1</td><td>MÓDULO FCP280 FOXBORO  RH924YA          </td><td>NA      </td><td>1002</td><td>...</td><td>10042    </td><td>MATERIALES ELECTRONICOS                                     </td><td>D53</td><td>1</td><td>NA</td><td>2022-07-05</td><td>Sí</td><td>0</td><td>NA</td><td>60</td></tr>\n",
       "\t<tr><td>1063646</td><td>C/U</td><td>0</td><td>    1</td><td>    1</td><td>0</td><td>V1</td><td>MÓDULO FCP280 FOXBORO  RH924WA          </td><td>NA      </td><td>1002</td><td>...</td><td>10042    </td><td>MATERIALES ELECTRONICOS                                     </td><td>D53</td><td>1</td><td>NA</td><td>2022-07-05</td><td>Sí</td><td>0</td><td>NA</td><td>60</td></tr>\n",
       "\t<tr><td>1063547</td><td>C/U</td><td>0</td><td>    1</td><td>    1</td><td>0</td><td>V1</td><td>FUENTE ALIM. DE CTE. AMK PN: 1148443621 </td><td>NA      </td><td>1002</td><td>...</td><td>10042    </td><td>MATERIALES ELECTRONICOS                                     </td><td>D53</td><td>1</td><td>NA</td><td>2022-07-05</td><td>Sí</td><td>0</td><td>NA</td><td>60</td></tr>\n",
       "\t<tr><td>1063548</td><td>C/U</td><td>0</td><td>    1</td><td>    1</td><td>0</td><td>V1</td><td>MODULO ALIM. AMK PN: 1109761019         </td><td>NA      </td><td>1002</td><td>...</td><td>10042    </td><td>MATERIALES ELECTRONICOS                                     </td><td>D53</td><td>1</td><td>NA</td><td>2022-07-05</td><td>Sí</td><td>0</td><td>NA</td><td>60</td></tr>\n",
       "\t<tr><td>1013753</td><td>C/U</td><td>0</td><td>    2</td><td>    3</td><td>0</td><td>V1</td><td>CILINDRO FESTO DSNU-25-25-PPVA          </td><td>44110080</td><td>1002</td><td>...</td><td>NEUM101RE</td><td>Rpto.Neumático Cuade                                        </td><td>D49</td><td>1</td><td>NA</td><td>2013-11-08</td><td>No</td><td>0</td><td>NA</td><td>60</td></tr>\n",
       "\t<tr><td>1063650</td><td>C/U</td><td>0</td><td>    6</td><td>   36</td><td>0</td><td>V1</td><td>ESLINGA 7M. 10TN C 60 KG A125MM DO 400MM</td><td>NA      </td><td>1001</td><td>...</td><td>10033    </td><td>CABLES,CADENAS,CUERDAS,SOGAS                                </td><td>D18</td><td>1</td><td>NA</td><td>2022-07-08</td><td>Sí</td><td>0</td><td>NA</td><td>60</td></tr>\n",
       "\t<tr><td>1063651</td><td>C/U</td><td>0</td><td>    2</td><td>   12</td><td>0</td><td>V1</td><td>ESLINGA 10M T 10TN R60,00 KG A125MM     </td><td>NA      </td><td>1001</td><td>...</td><td>10033    </td><td>CABLES,CADENAS,CUERDAS,SOGAS                                </td><td>D18</td><td>1</td><td>NA</td><td>2022-07-08</td><td>Sí</td><td>0</td><td>NA</td><td>60</td></tr>\n",
       "\t<tr><td>1063652</td><td>C/U</td><td>0</td><td>   10</td><td>   65</td><td>0</td><td>V1</td><td>GRILLETE DE AO, 1\" DE 125MM DE APERTURA </td><td>NA      </td><td>1001</td><td>...</td><td>10033    </td><td>CABLES,CADENAS,CUERDAS,SOGAS                                </td><td>D18</td><td>1</td><td>NA</td><td>2022-07-08</td><td>Sí</td><td>0</td><td>NA</td><td>60</td></tr>\n",
       "\t<tr><td>1063638</td><td>C/U</td><td>0</td><td> 1200</td><td> 1800</td><td>0</td><td>V1</td><td>TARIMA PARA PALLET 64 X 89 CM           </td><td>NA      </td><td>1002</td><td>...</td><td>PALL050FR</td><td>Pallet de madera                                            </td><td>D64</td><td>1</td><td>NA</td><td>2022-07-08</td><td>No</td><td>0</td><td>NA</td><td>60</td></tr>\n",
       "\t<tr><td>1063649</td><td>KG </td><td>0</td><td> 8500</td><td>12500</td><td>0</td><td>V1</td><td>LAM.IMPR.PAP.SULFITO /10 SACHETS 5GR    </td><td>NA      </td><td>1001</td><td>...</td><td>EMBA050PM</td><td>Embalajes para acondicionar envases de azucar               </td><td>D42</td><td>1</td><td>NA</td><td>2022-07-11</td><td>Sí</td><td>0</td><td>NA</td><td>45</td></tr>\n",
       "\t<tr><td>1063660</td><td>C/U</td><td>0</td><td>60000</td><td>60000</td><td>0</td><td>V1</td><td>CAJA CONT. X 1000 SOBRES AZUCAR 5gr     </td><td>NA      </td><td>1001</td><td>...</td><td>EMBA050PM</td><td>Embalajes para acondicionar envases de azucar               </td><td>D64</td><td>1</td><td>NA</td><td>2022-07-11</td><td>Sí</td><td>0</td><td>NA</td><td>15</td></tr>\n",
       "\t<tr><td>1063661</td><td>C/U</td><td>0</td><td>18000</td><td>18000</td><td>0</td><td>V1</td><td>CAJA CONT. X 1500 SOBRES AZUCAR 5gr     </td><td>NA      </td><td>1001</td><td>...</td><td>EMBA050PM</td><td>Embalajes para acondicionar envases de azucar               </td><td>D64</td><td>1</td><td>NA</td><td>2022-07-11</td><td>Sí</td><td>0</td><td>NA</td><td>15</td></tr>\n",
       "\t<tr><td>1063671</td><td>C/U</td><td>0</td><td>   16</td><td>   24</td><td>0</td><td>V1</td><td>CONO SKF/FAG/TIMKEN 89440               </td><td>NA      </td><td>1007</td><td>...</td><td>RODA380CO</td><td>Rodamientos - conos                                         </td><td>D53</td><td>1</td><td>NA</td><td>2022-07-13</td><td>No</td><td>0</td><td>NA</td><td>60</td></tr>\n",
       "</tbody>\n",
       "</table>\n"
      ],
      "text/latex": [
       "A tibble: 28958 × 23\n",
       "\\begin{tabular}{lllllllllllllllllllll}\n",
       " Material & UMB & Libre utiliz. & Punto pedido & Stock máximo & Tam.lote fijo & CaP & Texto breve de material & NºMaterial antiguo & Ce. & ... & Grupo art. & Grupo de artículos & GCp & Cantidad base & ABC & Creado & Indicador: Parte crítica & Val.redondeo & NºFb & PzE\\\\\n",
       " <chr> & <chr> & <dbl> & <dbl> & <dbl> & <dbl> & <chr> & <chr> & <chr> & <chr> & ... & <chr> & <chr> & <chr> & <dbl> & <chr> & <dttm> & <chr> & <dbl> & <chr> & <dbl>\\\\\n",
       "\\hline\n",
       "\t 1011796 & C/U &     0.00 &     50.0 &      0 & 120 & ND & LAMPARA BAJO CONSUMO 85W ROSCA E40 220V  & 39512108 & 1001 & ... & ELEC390IL & Material eléctrico - Iluminación             & D40 &    1 & B  & 2013-11-08 & No &     0 & NA &  60\\\\\n",
       "\t 1033865 & C/U &     0.00 &      0.0 &      0 &   2 & ND & JUNTA SELLANTE GORE TEX DE 3/4\" x 9,14 M & 87491015 & 1001 & ... & JUNT870GO & Junta Sellante Gore                          & D49 &    1 & C  & 2013-11-08 & No &     0 & NA &  60\\\\\n",
       "\t 1000007 & KG  &  7100.00 &      0.0 &   5000 &   0 & ND & BACTERICIDA BUSSAN 881                   & 01110105 & 1002 & ... & 30007     & PRODUCTOS QUÍMICOS                           & D66 &    1 & NA & 2013-11-08 & No &     0 & NA & 150\\\\\n",
       "\t 1000008 & KG  & 15222.72 &      0.0 & 240000 &   0 & P5 & CAL HIDRATADA. ENV. 1000 KG.             & 01120104 & 1001 & ... & CRUD013PS & Prod. Químico Crudo                          & D42 &    1 & A  & 2013-11-08 & No & 24000 & NA &  30\\\\\n",
       "\t 1000009 & KG  & 33395.60 &      0.0 &      0 &   0 & P8 & CAL HIDRATADA. ENV.25 KG.                & 01120120 & 1001 & ... & REFI012PS & Insu Pco Refineria                           & D42 &    1 & A  & 2013-11-08 & No &  1000 & NA &  30\\\\\n",
       "\t 1000010 & KG  & 10000.00 &  21648.5 &      0 &   0 & Z6 & FLOCULANTE P/CLARIIF DE JUGO             & 01120252 & 1001 & ... & CRUD013PQ & Insumo Químico para crudo                    & D66 &    1 & A  & 2013-11-08 & No &  1000 & NA &  90\\\\\n",
       "\t 1000011 & KG  &   900.00 &    450.0 &    900 &   0 & VB & DISPERSANTE BUSPERSE 47                  & 01130152 & 1002 & ... & CRUD013PQ & Insumo Químico para crudo                    & D66 &    1 & B  & 2013-11-08 & No &     0 & NA &  90\\\\\n",
       "\t 1000012 & KG  &    50.00 &   1000.0 &   8000 &   0 & VB & HIDROSULFITO DE SODIO                    & 01130202 & 1002 & ... & 30000     & MATERIA PRIMA (COMPRADA)                     & D65 &    1 & B  & 2013-11-08 & No &     0 & NA &  45\\\\\n",
       "\t 1000014 & KG  &  6800.00 &   1983.0 &      0 &   0 & Z6 & ANTIVISCOSO SURFAC88  T-200KG            & 01130400 & 1001 & ... & INSQ010PQ & Insumo Quimicos comunes a todos los negocios & D66 &    1 & B  & 2013-11-08 & No &   200 & NA &  45\\\\\n",
       "\t 1000015 & KG  & 85248.00 &      0.0 & 130000 &   0 & P5 & ACIDO FOSFORICO 80\\% - GRANEL- GRAD.ALIM. & 01140052 & 1001 & ... & INSQ010PQ & Insumo Quimicos comunes a todos los negocios & D42 &    1 & A  & 2013-11-08 & No & 28000 & NA &  30\\\\\n",
       "\t 1000017 & KG  &   600.00 &      0.0 &      0 &   0 & ND & SUSTANCIA HB160 BOLSON                   & 01140086 & 1002 & ... & 30000     & MATERIA PRIMA (COMPRADA)                     & NA  &    1 & NA & 2013-11-08 & Sí &     0 & NA &  60\\\\\n",
       "\t 1000019 & KG  &   500.00 &      0.0 &      0 &   0 & P8 & CARBON ACTIVADO B-20KG                   & 01140102 & 1001 & ... & REFI012PQ & Insumo Químico para Refineria                & D65 &    1 & C  & 2013-11-08 & No &  1000 & NA &  60\\\\\n",
       "\t 1000020 & KG  &  4994.00 &      0.0 &      0 &   0 & P8 & DECOLORANTE CATIONICO P/JARABE           & 01140126 & 1001 & ... & REFI012PQ & Insumo Químico para Refineria                & D66 &    1 & A  & 2013-11-08 & No &  1000 & NA &  10\\\\\n",
       "\t 1000021 & KG  & 19584.00 &      0.0 &      0 &   0 & P8 & TIERRA FILTRANTE DIAFILTER FLO 2TR       & 01140201 & 1001 & ... & REFI012PQ & Insumo Químico para Refineria                & D42 &    1 & A  & 2013-11-08 & No & 16000 & NA &  45\\\\\n",
       "\t 1000022 & KG  &     0.00 &   1000.0 &   2000 &   0 & VB & TIERRA FILTRANTE DIAFILTER FLO M         & 01140300 & 1001 & ... & REFI012PQ & Insumo Químico para Refineria                & D42 &    1 & B  & 2013-11-08 & No &     0 & NA &  60\\\\\n",
       "\t 1000023 & KG  &     0.00 &   1000.0 &   2000 &   0 & VB & TIERRA FILTRANTE DIAFILTER FLO R         & 01140359 & 1001 & ... & REFI012PQ & Insumo Químico para Refineria                & D42 &    1 & C  & 2013-11-08 & No &     0 & NA &  60\\\\\n",
       "\t 1000024 & KG  & 42696.00 &      0.0 &      0 &   0 & P8 & TIERRA FILTRAN.HARBORLITE GRADO 650      & 01140367 & 1001 & ... & REFI012PQ & Insumo Químico para Refineria                & D42 &    1 & A  & 2013-11-08 & No & 16000 & NA &  90\\\\\n",
       "\t 1000027 & KG  &  8100.00 &      0.0 &      0 &   0 & P8 & FLOCULANTE  TALOFLOTE-100                & 01140417 & 1001 & ... & REFI012PQ & Insumo Químico para Refineria                & D66 &    1 & A  & 2013-11-08 & No &  1000 & NA &  45\\\\\n",
       "\t 1000028 & KG  & 37584.00 &      0.0 &      0 &   0 & P8 & TIERRA FILTRANTE HARBORLITE GRADO 500    & 01140458 & 1001 & ... & REFI012PQ & Insumo Químico para Refineria                & D42 &    1 & A  & 2013-11-08 & No & 16000 & NA &  45\\\\\n",
       "\t 1000031 & KG  & 19880.00 &   1000.0 &   2000 &   0 & VB & ANTIESPUMANTE PARA ALCOHOL               & 01221027 & 1001 & ... & ALCO011PQ & Insumo Qco. Para Fábrica de Alcohol          & D66 &    1 & A  & 2013-11-08 & No &     0 & NA &  90\\\\\n",
       "\t 1000033 & L   &  6750.00 &      0.0 &      0 &   0 & P8 & ENZIMA,MP ALFAAMI E-225KG                & 01230317 & 1001 & ... & INSQ010PQ & Insumo Quimicos comunes a todos los negocios & D65 &    1 & A  & 2013-11-08 & No &   225 & NA &  90\\\\\n",
       "\t 1000050 & KG  & 51000.00 & 480000.0 & 480000 &   0 & VB & ALMIDON DE SUPERFICIE GLUCOVIL           & 02110021 & 1002 & ... & 30000     & MATERIA PRIMA (COMPRADA)                     & D66 & 1000 & A  & 2013-11-08 & No &     0 & NA &  45\\\\\n",
       "\t 1000052 & KG  & 19200.00 & 145000.0 & 145000 &   0 & VB & ALMIDON DE MASA CATIONICO (GLUCOVIL)     & 02110062 & 1002 & ... & 30000     & MATERIA PRIMA (COMPRADA)                     & D66 & 1000 & A  & 2013-11-08 & No &     0 & NA &  45\\\\\n",
       "\t 1000054 & KG  &  1200.00 &    600.0 &   1200 &   0 & VB & ANILINA P/PAPEL CELESTE                  & 02110161 & 1002 & ... & 30000     & MATERIA PRIMA (COMPRADA)                     & D64 &    1 & C  & 2013-11-08 & No &     0 & NA &  90\\\\\n",
       "\t 1000055 & KG  &  4200.00 &   3000.0 &   4500 &   0 & VB & ANILINA P/PAPEL VERDE                    & 02110187 & 1002 & ... & 30000     & MATERIA PRIMA (COMPRADA)                     & D64 &    1 & B  & 2013-11-08 & No &     0 & NA &  90\\\\\n",
       "\t 1000056 & KG  &  2000.00 &   4100.0 &   6000 &   0 & VB & COLORANTE,MP MATIZ VIOLETA CX1.000L      & 02110203 & 1002 & ... & 30000     & MATERIA PRIMA (COMPRADA)                     & D66 &    1 & A  & 2013-11-08 & No &     0 & NA &  60\\\\\n",
       "\t 1000057 & KG  & 57460.00 & 480000.0 & 480000 &   0 & VB & PEROXIDO DE HIDROGENO AL 60\\%             & 02110286 & 1002 & ... & 30007     & PRODUCTOS QUÍMICOS                           & D66 &    1 & A  & 2013-11-08 & No &     0 & NA &  60\\\\\n",
       "\t 1000058 & L   & 56200.00 & 150000.0 & 190000 &   0 & VB & BLANQUEADOR OPTICO TINOPAL ABP-LIQ.      & 02110294 & 1002 & ... & 30007     & PRODUCTOS QUÍMICOS                           & D66 &    1 & A  & 2013-11-08 & No &     0 & NA &  60\\\\\n",
       "\t 1000059 & KG  &     0.00 & 120000.0 & 300000 &   0 & VB & PEROXIDO DE HIDROGENO AL 70\\%             & 02110302 & 1002 & ... & 30007     & PRODUCTOS QUÍMICOS                           & D66 &    1 & A  & 2013-11-08 & No &     0 & NA &  60\\\\\n",
       "\t 1000060 & KG  &  6120.00 &   4000.0 &   6000 &   0 & VB & ANILINA P/PAPEL CANARIO                  & 02110344 & 1002 & ... & 30000     & MATERIA PRIMA (COMPRADA)                     & D64 &    1 & B  & 2013-11-08 & No &     0 & NA &  90\\\\\n",
       "\t ... & ... & ... & ... & ... & ... & ... & ... & ... & ... &  & ... & ... & ... & ... & ... & ... & ... & ... & ... & ...\\\\\n",
       "\t 1063619 & C/U & 0 &     0 &     0 & 0 & PD & RODAMIENTO - ART: 4H-0019                & NA       & 1007 & ... & VIAL660VS & Rpto. Máquina Vial                                           & D18 & 1 & NA & 2022-07-04 & No & 0 & NA & 60\\\\\n",
       "\t 1063620 & C/U & 0 &     0 &     0 & 0 & PD & SENSOR DE PRESIÓN - ART: 311-6342        & NA       & 1007 & ... & VIAL660VS & Rpto. Máquina Vial                                           & D18 & 1 & NA & 2022-07-04 & No & 0 & NA & 60\\\\\n",
       "\t 1063622 & C/U & 0 &     0 &     0 & 0 & PD & INYECTORES - ART: 320-0690               & NA       & 1007 & ... & VIAL660VS & Rpto. Máquina Vial                                           & D18 & 1 & NA & 2022-07-04 & No & 0 & NA & 60\\\\\n",
       "\t 1063623 & C/U & 0 &     0 &     0 & 0 & PD & ORING - ART: 4J-5351                     & NA       & 1007 & ... & VIAL660VS & Rpto. Máquina Vial                                           & D18 & 1 & NA & 2022-07-04 & No & 0 & NA & 60\\\\\n",
       "\t 1063624 & C/U & 0 &     0 &     0 & 0 & PD & ORING - ART: 5M-5860                     & NA       & 1007 & ... & VIAL660VS & Rpto. Máquina Vial                                           & D18 & 1 & NA & 2022-07-04 & No & 0 & NA & 60\\\\\n",
       "\t 1063625 & C/U & 0 &     0 &     0 & 0 & PD & PISTA - ART: 5P-7592                     & NA       & 1007 & ... & VIAL660VS & Rpto. Máquina Vial                                           & D18 & 1 & NA & 2022-07-04 & No & 0 & NA & 60\\\\\n",
       "\t 1063626 & C/U & 0 &     0 &     0 & 0 & PD & RESORTE TRANSMISIÓN - ART: 4M-9592       & NA       & 1007 & ... & VIAL660VS & Rpto. Máquina Vial                                           & D18 & 1 & NA & 2022-07-04 & No & 0 & NA & 60\\\\\n",
       "\t 1063627 & C/U & 0 &     0 &     0 & 0 & PD & COJINETE - ART: 3T-8729                  & NA       & 1007 & ... & VIAL660VS & Rpto. Máquina Vial                                           & D18 & 1 & NA & 2022-07-04 & No & 0 & NA & 60\\\\\n",
       "\t 1063628 & C/U & 0 &     0 &     0 & 0 & PD & ANILLO INYECTOR - ART: 6E-0381           & NA       & 1007 & ... & VIAL660VS & Rpto. Máquina Vial                                           & D18 & 1 & NA & 2022-07-04 & No & 0 & NA & 60\\\\\n",
       "\t 1006523 & C/U & 0 &     0 &     0 & 0 & PD & MECHA DE ACERO RAPIDO 15,75MM            & 32600125 & 1001 & ... & HTAS320AC & Accesorios de herramientas manuales y electrica              & D53 & 1 & NA & 2013-11-08 & No & 1 & NA & 60\\\\\n",
       "\t 1006208 & C/U & 0 &     2 &     3 & 0 & V1 & MACHO M14X2MM JGOX3 HSSE-ISO 529         & 32351744 & 1001 & ... & HTAS100RE & Herramienta Manual                                           & D53 & 1 & NA & 2013-11-08 & No & 0 & NA & 60\\\\\n",
       "\t 1063635 & C/U & 0 &    58 &    58 & 0 & V1 & JUNTA P/INTERCAMBDR. HIPOCL. E-E6-154    & NA       & 1002 & ... & INTE087IC & Repuestos Intercambiadores de calor, placas, juntas, fuelles & D49 & 1 & NA & 2022-07-04 & Sí & 0 & NA & 60\\\\\n",
       "\t 1063640 & C/U & 0 &     2 &     2 & 0 & V1 & MODULO FBM238 FOXBORO RH927AF            & NA       & 1002 & ... & 10042     & MATERIALES ELECTRONICOS                                      & D53 & 1 & NA & 2022-07-05 & Sí & 0 & NA & 60\\\\\n",
       "\t 1063641 & C/U & 0 &     1 &     1 & 0 & V1 & MODULO FBM217 FOXBORO RH914TR            & NA       & 1002 & ... & 10042     & MATERIALES ELECTRONICOS                                      & D53 & 1 & NA & 2022-07-05 & Sí & 0 & NA & 60\\\\\n",
       "\t 1063642 & C/U & 0 &     1 &     1 & 0 & V1 & CABLE BASE TO BASE FOXBORO RH916MZ       & NA       & 1002 & ... & 10042     & MATERIALES ELECTRONICOS                                      & D53 & 1 & NA & 2022-07-05 & Sí & 0 & NA & 60\\\\\n",
       "\t 1063643 & C/U & 0 &     1 &     1 & 0 & V1 & MÓDULO FBI200 FOXBORO RH927AP            & NA       & 1002 & ... & 10042     & MATERIALES ELECTRONICOS                                      & D53 & 1 & NA & 2022-07-05 & Sí & 0 & NA & 60\\\\\n",
       "\t 1063644 & C/U & 0 &     1 &     1 & 0 & V1 & MODULO FCM2F FOXBORO RH914YZ             & NA       & 1002 & ... & 10042     & MATERIALES ELECTRONICOS                                      & D53 & 1 & NA & 2022-07-05 & Sí & 0 & NA & 60\\\\\n",
       "\t 1063645 & C/U & 0 &     1 &     1 & 0 & V1 & MÓDULO FCP280 FOXBORO  RH924YA           & NA       & 1002 & ... & 10042     & MATERIALES ELECTRONICOS                                      & D53 & 1 & NA & 2022-07-05 & Sí & 0 & NA & 60\\\\\n",
       "\t 1063646 & C/U & 0 &     1 &     1 & 0 & V1 & MÓDULO FCP280 FOXBORO  RH924WA           & NA       & 1002 & ... & 10042     & MATERIALES ELECTRONICOS                                      & D53 & 1 & NA & 2022-07-05 & Sí & 0 & NA & 60\\\\\n",
       "\t 1063547 & C/U & 0 &     1 &     1 & 0 & V1 & FUENTE ALIM. DE CTE. AMK PN: 1148443621  & NA       & 1002 & ... & 10042     & MATERIALES ELECTRONICOS                                      & D53 & 1 & NA & 2022-07-05 & Sí & 0 & NA & 60\\\\\n",
       "\t 1063548 & C/U & 0 &     1 &     1 & 0 & V1 & MODULO ALIM. AMK PN: 1109761019          & NA       & 1002 & ... & 10042     & MATERIALES ELECTRONICOS                                      & D53 & 1 & NA & 2022-07-05 & Sí & 0 & NA & 60\\\\\n",
       "\t 1013753 & C/U & 0 &     2 &     3 & 0 & V1 & CILINDRO FESTO DSNU-25-25-PPVA           & 44110080 & 1002 & ... & NEUM101RE & Rpto.Neumático Cuade                                         & D49 & 1 & NA & 2013-11-08 & No & 0 & NA & 60\\\\\n",
       "\t 1063650 & C/U & 0 &     6 &    36 & 0 & V1 & ESLINGA 7M. 10TN C 60 KG A125MM DO 400MM & NA       & 1001 & ... & 10033     & CABLES,CADENAS,CUERDAS,SOGAS                                 & D18 & 1 & NA & 2022-07-08 & Sí & 0 & NA & 60\\\\\n",
       "\t 1063651 & C/U & 0 &     2 &    12 & 0 & V1 & ESLINGA 10M T 10TN R60,00 KG A125MM      & NA       & 1001 & ... & 10033     & CABLES,CADENAS,CUERDAS,SOGAS                                 & D18 & 1 & NA & 2022-07-08 & Sí & 0 & NA & 60\\\\\n",
       "\t 1063652 & C/U & 0 &    10 &    65 & 0 & V1 & GRILLETE DE AO, 1\" DE 125MM DE APERTURA  & NA       & 1001 & ... & 10033     & CABLES,CADENAS,CUERDAS,SOGAS                                 & D18 & 1 & NA & 2022-07-08 & Sí & 0 & NA & 60\\\\\n",
       "\t 1063638 & C/U & 0 &  1200 &  1800 & 0 & V1 & TARIMA PARA PALLET 64 X 89 CM            & NA       & 1002 & ... & PALL050FR & Pallet de madera                                             & D64 & 1 & NA & 2022-07-08 & No & 0 & NA & 60\\\\\n",
       "\t 1063649 & KG  & 0 &  8500 & 12500 & 0 & V1 & LAM.IMPR.PAP.SULFITO /10 SACHETS 5GR     & NA       & 1001 & ... & EMBA050PM & Embalajes para acondicionar envases de azucar                & D42 & 1 & NA & 2022-07-11 & Sí & 0 & NA & 45\\\\\n",
       "\t 1063660 & C/U & 0 & 60000 & 60000 & 0 & V1 & CAJA CONT. X 1000 SOBRES AZUCAR 5gr      & NA       & 1001 & ... & EMBA050PM & Embalajes para acondicionar envases de azucar                & D64 & 1 & NA & 2022-07-11 & Sí & 0 & NA & 15\\\\\n",
       "\t 1063661 & C/U & 0 & 18000 & 18000 & 0 & V1 & CAJA CONT. X 1500 SOBRES AZUCAR 5gr      & NA       & 1001 & ... & EMBA050PM & Embalajes para acondicionar envases de azucar                & D64 & 1 & NA & 2022-07-11 & Sí & 0 & NA & 15\\\\\n",
       "\t 1063671 & C/U & 0 &    16 &    24 & 0 & V1 & CONO SKF/FAG/TIMKEN 89440                & NA       & 1007 & ... & RODA380CO & Rodamientos - conos                                          & D53 & 1 & NA & 2022-07-13 & No & 0 & NA & 60\\\\\n",
       "\\end{tabular}\n"
      ],
      "text/markdown": [
       "\n",
       "A tibble: 28958 × 23\n",
       "\n",
       "| Material &lt;chr&gt; | UMB &lt;chr&gt; | Libre utiliz. &lt;dbl&gt; | Punto pedido &lt;dbl&gt; | Stock máximo &lt;dbl&gt; | Tam.lote fijo &lt;dbl&gt; | CaP &lt;chr&gt; | Texto breve de material &lt;chr&gt; | NºMaterial antiguo &lt;chr&gt; | Ce. &lt;chr&gt; | ... ... | Grupo art. &lt;chr&gt; | Grupo de artículos &lt;chr&gt; | GCp &lt;chr&gt; | Cantidad base &lt;dbl&gt; | ABC &lt;chr&gt; | Creado &lt;dttm&gt; | Indicador: Parte crítica &lt;chr&gt; | Val.redondeo &lt;dbl&gt; | NºFb &lt;chr&gt; | PzE &lt;dbl&gt; |\n",
       "|---|---|---|---|---|---|---|---|---|---|---|---|---|---|---|---|---|---|---|---|---|\n",
       "| 1011796 | C/U |     0.00 |     50.0 |      0 | 120 | ND | LAMPARA BAJO CONSUMO 85W ROSCA E40 220V  | 39512108 | 1001 | ... | ELEC390IL | Material eléctrico - Iluminación             | D40 |    1 | B  | 2013-11-08 | No |     0 | NA |  60 |\n",
       "| 1033865 | C/U |     0.00 |      0.0 |      0 |   2 | ND | JUNTA SELLANTE GORE TEX DE 3/4\" x 9,14 M | 87491015 | 1001 | ... | JUNT870GO | Junta Sellante Gore                          | D49 |    1 | C  | 2013-11-08 | No |     0 | NA |  60 |\n",
       "| 1000007 | KG  |  7100.00 |      0.0 |   5000 |   0 | ND | BACTERICIDA BUSSAN 881                   | 01110105 | 1002 | ... | 30007     | PRODUCTOS QUÍMICOS                           | D66 |    1 | NA | 2013-11-08 | No |     0 | NA | 150 |\n",
       "| 1000008 | KG  | 15222.72 |      0.0 | 240000 |   0 | P5 | CAL HIDRATADA. ENV. 1000 KG.             | 01120104 | 1001 | ... | CRUD013PS | Prod. Químico Crudo                          | D42 |    1 | A  | 2013-11-08 | No | 24000 | NA |  30 |\n",
       "| 1000009 | KG  | 33395.60 |      0.0 |      0 |   0 | P8 | CAL HIDRATADA. ENV.25 KG.                | 01120120 | 1001 | ... | REFI012PS | Insu Pco Refineria                           | D42 |    1 | A  | 2013-11-08 | No |  1000 | NA |  30 |\n",
       "| 1000010 | KG  | 10000.00 |  21648.5 |      0 |   0 | Z6 | FLOCULANTE P/CLARIIF DE JUGO             | 01120252 | 1001 | ... | CRUD013PQ | Insumo Químico para crudo                    | D66 |    1 | A  | 2013-11-08 | No |  1000 | NA |  90 |\n",
       "| 1000011 | KG  |   900.00 |    450.0 |    900 |   0 | VB | DISPERSANTE BUSPERSE 47                  | 01130152 | 1002 | ... | CRUD013PQ | Insumo Químico para crudo                    | D66 |    1 | B  | 2013-11-08 | No |     0 | NA |  90 |\n",
       "| 1000012 | KG  |    50.00 |   1000.0 |   8000 |   0 | VB | HIDROSULFITO DE SODIO                    | 01130202 | 1002 | ... | 30000     | MATERIA PRIMA (COMPRADA)                     | D65 |    1 | B  | 2013-11-08 | No |     0 | NA |  45 |\n",
       "| 1000014 | KG  |  6800.00 |   1983.0 |      0 |   0 | Z6 | ANTIVISCOSO SURFAC88  T-200KG            | 01130400 | 1001 | ... | INSQ010PQ | Insumo Quimicos comunes a todos los negocios | D66 |    1 | B  | 2013-11-08 | No |   200 | NA |  45 |\n",
       "| 1000015 | KG  | 85248.00 |      0.0 | 130000 |   0 | P5 | ACIDO FOSFORICO 80% - GRANEL- GRAD.ALIM. | 01140052 | 1001 | ... | INSQ010PQ | Insumo Quimicos comunes a todos los negocios | D42 |    1 | A  | 2013-11-08 | No | 28000 | NA |  30 |\n",
       "| 1000017 | KG  |   600.00 |      0.0 |      0 |   0 | ND | SUSTANCIA HB160 BOLSON                   | 01140086 | 1002 | ... | 30000     | MATERIA PRIMA (COMPRADA)                     | NA  |    1 | NA | 2013-11-08 | Sí |     0 | NA |  60 |\n",
       "| 1000019 | KG  |   500.00 |      0.0 |      0 |   0 | P8 | CARBON ACTIVADO B-20KG                   | 01140102 | 1001 | ... | REFI012PQ | Insumo Químico para Refineria                | D65 |    1 | C  | 2013-11-08 | No |  1000 | NA |  60 |\n",
       "| 1000020 | KG  |  4994.00 |      0.0 |      0 |   0 | P8 | DECOLORANTE CATIONICO P/JARABE           | 01140126 | 1001 | ... | REFI012PQ | Insumo Químico para Refineria                | D66 |    1 | A  | 2013-11-08 | No |  1000 | NA |  10 |\n",
       "| 1000021 | KG  | 19584.00 |      0.0 |      0 |   0 | P8 | TIERRA FILTRANTE DIAFILTER FLO 2TR       | 01140201 | 1001 | ... | REFI012PQ | Insumo Químico para Refineria                | D42 |    1 | A  | 2013-11-08 | No | 16000 | NA |  45 |\n",
       "| 1000022 | KG  |     0.00 |   1000.0 |   2000 |   0 | VB | TIERRA FILTRANTE DIAFILTER FLO M         | 01140300 | 1001 | ... | REFI012PQ | Insumo Químico para Refineria                | D42 |    1 | B  | 2013-11-08 | No |     0 | NA |  60 |\n",
       "| 1000023 | KG  |     0.00 |   1000.0 |   2000 |   0 | VB | TIERRA FILTRANTE DIAFILTER FLO R         | 01140359 | 1001 | ... | REFI012PQ | Insumo Químico para Refineria                | D42 |    1 | C  | 2013-11-08 | No |     0 | NA |  60 |\n",
       "| 1000024 | KG  | 42696.00 |      0.0 |      0 |   0 | P8 | TIERRA FILTRAN.HARBORLITE GRADO 650      | 01140367 | 1001 | ... | REFI012PQ | Insumo Químico para Refineria                | D42 |    1 | A  | 2013-11-08 | No | 16000 | NA |  90 |\n",
       "| 1000027 | KG  |  8100.00 |      0.0 |      0 |   0 | P8 | FLOCULANTE  TALOFLOTE-100                | 01140417 | 1001 | ... | REFI012PQ | Insumo Químico para Refineria                | D66 |    1 | A  | 2013-11-08 | No |  1000 | NA |  45 |\n",
       "| 1000028 | KG  | 37584.00 |      0.0 |      0 |   0 | P8 | TIERRA FILTRANTE HARBORLITE GRADO 500    | 01140458 | 1001 | ... | REFI012PQ | Insumo Químico para Refineria                | D42 |    1 | A  | 2013-11-08 | No | 16000 | NA |  45 |\n",
       "| 1000031 | KG  | 19880.00 |   1000.0 |   2000 |   0 | VB | ANTIESPUMANTE PARA ALCOHOL               | 01221027 | 1001 | ... | ALCO011PQ | Insumo Qco. Para Fábrica de Alcohol          | D66 |    1 | A  | 2013-11-08 | No |     0 | NA |  90 |\n",
       "| 1000033 | L   |  6750.00 |      0.0 |      0 |   0 | P8 | ENZIMA,MP ALFAAMI E-225KG                | 01230317 | 1001 | ... | INSQ010PQ | Insumo Quimicos comunes a todos los negocios | D65 |    1 | A  | 2013-11-08 | No |   225 | NA |  90 |\n",
       "| 1000050 | KG  | 51000.00 | 480000.0 | 480000 |   0 | VB | ALMIDON DE SUPERFICIE GLUCOVIL           | 02110021 | 1002 | ... | 30000     | MATERIA PRIMA (COMPRADA)                     | D66 | 1000 | A  | 2013-11-08 | No |     0 | NA |  45 |\n",
       "| 1000052 | KG  | 19200.00 | 145000.0 | 145000 |   0 | VB | ALMIDON DE MASA CATIONICO (GLUCOVIL)     | 02110062 | 1002 | ... | 30000     | MATERIA PRIMA (COMPRADA)                     | D66 | 1000 | A  | 2013-11-08 | No |     0 | NA |  45 |\n",
       "| 1000054 | KG  |  1200.00 |    600.0 |   1200 |   0 | VB | ANILINA P/PAPEL CELESTE                  | 02110161 | 1002 | ... | 30000     | MATERIA PRIMA (COMPRADA)                     | D64 |    1 | C  | 2013-11-08 | No |     0 | NA |  90 |\n",
       "| 1000055 | KG  |  4200.00 |   3000.0 |   4500 |   0 | VB | ANILINA P/PAPEL VERDE                    | 02110187 | 1002 | ... | 30000     | MATERIA PRIMA (COMPRADA)                     | D64 |    1 | B  | 2013-11-08 | No |     0 | NA |  90 |\n",
       "| 1000056 | KG  |  2000.00 |   4100.0 |   6000 |   0 | VB | COLORANTE,MP MATIZ VIOLETA CX1.000L      | 02110203 | 1002 | ... | 30000     | MATERIA PRIMA (COMPRADA)                     | D66 |    1 | A  | 2013-11-08 | No |     0 | NA |  60 |\n",
       "| 1000057 | KG  | 57460.00 | 480000.0 | 480000 |   0 | VB | PEROXIDO DE HIDROGENO AL 60%             | 02110286 | 1002 | ... | 30007     | PRODUCTOS QUÍMICOS                           | D66 |    1 | A  | 2013-11-08 | No |     0 | NA |  60 |\n",
       "| 1000058 | L   | 56200.00 | 150000.0 | 190000 |   0 | VB | BLANQUEADOR OPTICO TINOPAL ABP-LIQ.      | 02110294 | 1002 | ... | 30007     | PRODUCTOS QUÍMICOS                           | D66 |    1 | A  | 2013-11-08 | No |     0 | NA |  60 |\n",
       "| 1000059 | KG  |     0.00 | 120000.0 | 300000 |   0 | VB | PEROXIDO DE HIDROGENO AL 70%             | 02110302 | 1002 | ... | 30007     | PRODUCTOS QUÍMICOS                           | D66 |    1 | A  | 2013-11-08 | No |     0 | NA |  60 |\n",
       "| 1000060 | KG  |  6120.00 |   4000.0 |   6000 |   0 | VB | ANILINA P/PAPEL CANARIO                  | 02110344 | 1002 | ... | 30000     | MATERIA PRIMA (COMPRADA)                     | D64 |    1 | B  | 2013-11-08 | No |     0 | NA |  90 |\n",
       "| ... | ... | ... | ... | ... | ... | ... | ... | ... | ... | <!----> | ... | ... | ... | ... | ... | ... | ... | ... | ... | ... |\n",
       "| 1063619 | C/U | 0 |     0 |     0 | 0 | PD | RODAMIENTO - ART: 4H-0019                | NA       | 1007 | ... | VIAL660VS | Rpto. Máquina Vial                                           | D18 | 1 | NA | 2022-07-04 | No | 0 | NA | 60 |\n",
       "| 1063620 | C/U | 0 |     0 |     0 | 0 | PD | SENSOR DE PRESIÓN - ART: 311-6342        | NA       | 1007 | ... | VIAL660VS | Rpto. Máquina Vial                                           | D18 | 1 | NA | 2022-07-04 | No | 0 | NA | 60 |\n",
       "| 1063622 | C/U | 0 |     0 |     0 | 0 | PD | INYECTORES - ART: 320-0690               | NA       | 1007 | ... | VIAL660VS | Rpto. Máquina Vial                                           | D18 | 1 | NA | 2022-07-04 | No | 0 | NA | 60 |\n",
       "| 1063623 | C/U | 0 |     0 |     0 | 0 | PD | ORING - ART: 4J-5351                     | NA       | 1007 | ... | VIAL660VS | Rpto. Máquina Vial                                           | D18 | 1 | NA | 2022-07-04 | No | 0 | NA | 60 |\n",
       "| 1063624 | C/U | 0 |     0 |     0 | 0 | PD | ORING - ART: 5M-5860                     | NA       | 1007 | ... | VIAL660VS | Rpto. Máquina Vial                                           | D18 | 1 | NA | 2022-07-04 | No | 0 | NA | 60 |\n",
       "| 1063625 | C/U | 0 |     0 |     0 | 0 | PD | PISTA - ART: 5P-7592                     | NA       | 1007 | ... | VIAL660VS | Rpto. Máquina Vial                                           | D18 | 1 | NA | 2022-07-04 | No | 0 | NA | 60 |\n",
       "| 1063626 | C/U | 0 |     0 |     0 | 0 | PD | RESORTE TRANSMISIÓN - ART: 4M-9592       | NA       | 1007 | ... | VIAL660VS | Rpto. Máquina Vial                                           | D18 | 1 | NA | 2022-07-04 | No | 0 | NA | 60 |\n",
       "| 1063627 | C/U | 0 |     0 |     0 | 0 | PD | COJINETE - ART: 3T-8729                  | NA       | 1007 | ... | VIAL660VS | Rpto. Máquina Vial                                           | D18 | 1 | NA | 2022-07-04 | No | 0 | NA | 60 |\n",
       "| 1063628 | C/U | 0 |     0 |     0 | 0 | PD | ANILLO INYECTOR - ART: 6E-0381           | NA       | 1007 | ... | VIAL660VS | Rpto. Máquina Vial                                           | D18 | 1 | NA | 2022-07-04 | No | 0 | NA | 60 |\n",
       "| 1006523 | C/U | 0 |     0 |     0 | 0 | PD | MECHA DE ACERO RAPIDO 15,75MM            | 32600125 | 1001 | ... | HTAS320AC | Accesorios de herramientas manuales y electrica              | D53 | 1 | NA | 2013-11-08 | No | 1 | NA | 60 |\n",
       "| 1006208 | C/U | 0 |     2 |     3 | 0 | V1 | MACHO M14X2MM JGOX3 HSSE-ISO 529         | 32351744 | 1001 | ... | HTAS100RE | Herramienta Manual                                           | D53 | 1 | NA | 2013-11-08 | No | 0 | NA | 60 |\n",
       "| 1063635 | C/U | 0 |    58 |    58 | 0 | V1 | JUNTA P/INTERCAMBDR. HIPOCL. E-E6-154    | NA       | 1002 | ... | INTE087IC | Repuestos Intercambiadores de calor, placas, juntas, fuelles | D49 | 1 | NA | 2022-07-04 | Sí | 0 | NA | 60 |\n",
       "| 1063640 | C/U | 0 |     2 |     2 | 0 | V1 | MODULO FBM238 FOXBORO RH927AF            | NA       | 1002 | ... | 10042     | MATERIALES ELECTRONICOS                                      | D53 | 1 | NA | 2022-07-05 | Sí | 0 | NA | 60 |\n",
       "| 1063641 | C/U | 0 |     1 |     1 | 0 | V1 | MODULO FBM217 FOXBORO RH914TR            | NA       | 1002 | ... | 10042     | MATERIALES ELECTRONICOS                                      | D53 | 1 | NA | 2022-07-05 | Sí | 0 | NA | 60 |\n",
       "| 1063642 | C/U | 0 |     1 |     1 | 0 | V1 | CABLE BASE TO BASE FOXBORO RH916MZ       | NA       | 1002 | ... | 10042     | MATERIALES ELECTRONICOS                                      | D53 | 1 | NA | 2022-07-05 | Sí | 0 | NA | 60 |\n",
       "| 1063643 | C/U | 0 |     1 |     1 | 0 | V1 | MÓDULO FBI200 FOXBORO RH927AP            | NA       | 1002 | ... | 10042     | MATERIALES ELECTRONICOS                                      | D53 | 1 | NA | 2022-07-05 | Sí | 0 | NA | 60 |\n",
       "| 1063644 | C/U | 0 |     1 |     1 | 0 | V1 | MODULO FCM2F FOXBORO RH914YZ             | NA       | 1002 | ... | 10042     | MATERIALES ELECTRONICOS                                      | D53 | 1 | NA | 2022-07-05 | Sí | 0 | NA | 60 |\n",
       "| 1063645 | C/U | 0 |     1 |     1 | 0 | V1 | MÓDULO FCP280 FOXBORO  RH924YA           | NA       | 1002 | ... | 10042     | MATERIALES ELECTRONICOS                                      | D53 | 1 | NA | 2022-07-05 | Sí | 0 | NA | 60 |\n",
       "| 1063646 | C/U | 0 |     1 |     1 | 0 | V1 | MÓDULO FCP280 FOXBORO  RH924WA           | NA       | 1002 | ... | 10042     | MATERIALES ELECTRONICOS                                      | D53 | 1 | NA | 2022-07-05 | Sí | 0 | NA | 60 |\n",
       "| 1063547 | C/U | 0 |     1 |     1 | 0 | V1 | FUENTE ALIM. DE CTE. AMK PN: 1148443621  | NA       | 1002 | ... | 10042     | MATERIALES ELECTRONICOS                                      | D53 | 1 | NA | 2022-07-05 | Sí | 0 | NA | 60 |\n",
       "| 1063548 | C/U | 0 |     1 |     1 | 0 | V1 | MODULO ALIM. AMK PN: 1109761019          | NA       | 1002 | ... | 10042     | MATERIALES ELECTRONICOS                                      | D53 | 1 | NA | 2022-07-05 | Sí | 0 | NA | 60 |\n",
       "| 1013753 | C/U | 0 |     2 |     3 | 0 | V1 | CILINDRO FESTO DSNU-25-25-PPVA           | 44110080 | 1002 | ... | NEUM101RE | Rpto.Neumático Cuade                                         | D49 | 1 | NA | 2013-11-08 | No | 0 | NA | 60 |\n",
       "| 1063650 | C/U | 0 |     6 |    36 | 0 | V1 | ESLINGA 7M. 10TN C 60 KG A125MM DO 400MM | NA       | 1001 | ... | 10033     | CABLES,CADENAS,CUERDAS,SOGAS                                 | D18 | 1 | NA | 2022-07-08 | Sí | 0 | NA | 60 |\n",
       "| 1063651 | C/U | 0 |     2 |    12 | 0 | V1 | ESLINGA 10M T 10TN R60,00 KG A125MM      | NA       | 1001 | ... | 10033     | CABLES,CADENAS,CUERDAS,SOGAS                                 | D18 | 1 | NA | 2022-07-08 | Sí | 0 | NA | 60 |\n",
       "| 1063652 | C/U | 0 |    10 |    65 | 0 | V1 | GRILLETE DE AO, 1\" DE 125MM DE APERTURA  | NA       | 1001 | ... | 10033     | CABLES,CADENAS,CUERDAS,SOGAS                                 | D18 | 1 | NA | 2022-07-08 | Sí | 0 | NA | 60 |\n",
       "| 1063638 | C/U | 0 |  1200 |  1800 | 0 | V1 | TARIMA PARA PALLET 64 X 89 CM            | NA       | 1002 | ... | PALL050FR | Pallet de madera                                             | D64 | 1 | NA | 2022-07-08 | No | 0 | NA | 60 |\n",
       "| 1063649 | KG  | 0 |  8500 | 12500 | 0 | V1 | LAM.IMPR.PAP.SULFITO /10 SACHETS 5GR     | NA       | 1001 | ... | EMBA050PM | Embalajes para acondicionar envases de azucar                | D42 | 1 | NA | 2022-07-11 | Sí | 0 | NA | 45 |\n",
       "| 1063660 | C/U | 0 | 60000 | 60000 | 0 | V1 | CAJA CONT. X 1000 SOBRES AZUCAR 5gr      | NA       | 1001 | ... | EMBA050PM | Embalajes para acondicionar envases de azucar                | D64 | 1 | NA | 2022-07-11 | Sí | 0 | NA | 15 |\n",
       "| 1063661 | C/U | 0 | 18000 | 18000 | 0 | V1 | CAJA CONT. X 1500 SOBRES AZUCAR 5gr      | NA       | 1001 | ... | EMBA050PM | Embalajes para acondicionar envases de azucar                | D64 | 1 | NA | 2022-07-11 | Sí | 0 | NA | 15 |\n",
       "| 1063671 | C/U | 0 |    16 |    24 | 0 | V1 | CONO SKF/FAG/TIMKEN 89440                | NA       | 1007 | ... | RODA380CO | Rodamientos - conos                                          | D53 | 1 | NA | 2022-07-13 | No | 0 | NA | 60 |\n",
       "\n"
      ],
      "text/plain": [
       "      Material UMB Libre utiliz. Punto pedido Stock máximo Tam.lote fijo CaP\n",
       "1     1011796  C/U     0.00          50.0          0       120           ND \n",
       "2     1033865  C/U     0.00           0.0          0         2           ND \n",
       "3     1000007  KG   7100.00           0.0       5000         0           ND \n",
       "4     1000008  KG  15222.72           0.0     240000         0           P5 \n",
       "5     1000009  KG  33395.60           0.0          0         0           P8 \n",
       "6     1000010  KG  10000.00       21648.5          0         0           Z6 \n",
       "7     1000011  KG    900.00         450.0        900         0           VB \n",
       "8     1000012  KG     50.00        1000.0       8000         0           VB \n",
       "9     1000014  KG   6800.00        1983.0          0         0           Z6 \n",
       "10    1000015  KG  85248.00           0.0     130000         0           P5 \n",
       "11    1000017  KG    600.00           0.0          0         0           ND \n",
       "12    1000019  KG    500.00           0.0          0         0           P8 \n",
       "13    1000020  KG   4994.00           0.0          0         0           P8 \n",
       "14    1000021  KG  19584.00           0.0          0         0           P8 \n",
       "15    1000022  KG      0.00        1000.0       2000         0           VB \n",
       "16    1000023  KG      0.00        1000.0       2000         0           VB \n",
       "17    1000024  KG  42696.00           0.0          0         0           P8 \n",
       "18    1000027  KG   8100.00           0.0          0         0           P8 \n",
       "19    1000028  KG  37584.00           0.0          0         0           P8 \n",
       "20    1000031  KG  19880.00        1000.0       2000         0           VB \n",
       "21    1000033  L    6750.00           0.0          0         0           P8 \n",
       "22    1000050  KG  51000.00      480000.0     480000         0           VB \n",
       "23    1000052  KG  19200.00      145000.0     145000         0           VB \n",
       "24    1000054  KG   1200.00         600.0       1200         0           VB \n",
       "25    1000055  KG   4200.00        3000.0       4500         0           VB \n",
       "26    1000056  KG   2000.00        4100.0       6000         0           VB \n",
       "27    1000057  KG  57460.00      480000.0     480000         0           VB \n",
       "28    1000058  L   56200.00      150000.0     190000         0           VB \n",
       "29    1000059  KG      0.00      120000.0     300000         0           VB \n",
       "30    1000060  KG   6120.00        4000.0       6000         0           VB \n",
       "...   ...      ... ...           ...          ...          ...           ...\n",
       "28929 1063619  C/U 0                 0            0        0             PD \n",
       "28930 1063620  C/U 0                 0            0        0             PD \n",
       "28931 1063622  C/U 0                 0            0        0             PD \n",
       "28932 1063623  C/U 0                 0            0        0             PD \n",
       "28933 1063624  C/U 0                 0            0        0             PD \n",
       "28934 1063625  C/U 0                 0            0        0             PD \n",
       "28935 1063626  C/U 0                 0            0        0             PD \n",
       "28936 1063627  C/U 0                 0            0        0             PD \n",
       "28937 1063628  C/U 0                 0            0        0             PD \n",
       "28938 1006523  C/U 0                 0            0        0             PD \n",
       "28939 1006208  C/U 0                 2            3        0             V1 \n",
       "28940 1063635  C/U 0                58           58        0             V1 \n",
       "28941 1063640  C/U 0                 2            2        0             V1 \n",
       "28942 1063641  C/U 0                 1            1        0             V1 \n",
       "28943 1063642  C/U 0                 1            1        0             V1 \n",
       "28944 1063643  C/U 0                 1            1        0             V1 \n",
       "28945 1063644  C/U 0                 1            1        0             V1 \n",
       "28946 1063645  C/U 0                 1            1        0             V1 \n",
       "28947 1063646  C/U 0                 1            1        0             V1 \n",
       "28948 1063547  C/U 0                 1            1        0             V1 \n",
       "28949 1063548  C/U 0                 1            1        0             V1 \n",
       "28950 1013753  C/U 0                 2            3        0             V1 \n",
       "28951 1063650  C/U 0                 6           36        0             V1 \n",
       "28952 1063651  C/U 0                 2           12        0             V1 \n",
       "28953 1063652  C/U 0                10           65        0             V1 \n",
       "28954 1063638  C/U 0              1200         1800        0             V1 \n",
       "28955 1063649  KG  0              8500        12500        0             V1 \n",
       "28956 1063660  C/U 0             60000        60000        0             V1 \n",
       "28957 1063661  C/U 0             18000        18000        0             V1 \n",
       "28958 1063671  C/U 0                16           24        0             V1 \n",
       "      Texto breve de material                  NºMaterial antiguo Ce.  ...\n",
       "1     LAMPARA BAJO CONSUMO 85W ROSCA E40 220V  39512108           1001 ...\n",
       "2     JUNTA SELLANTE GORE TEX DE 3/4\" x 9,14 M 87491015           1001 ...\n",
       "3     BACTERICIDA BUSSAN 881                   01110105           1002 ...\n",
       "4     CAL HIDRATADA. ENV. 1000 KG.             01120104           1001 ...\n",
       "5     CAL HIDRATADA. ENV.25 KG.                01120120           1001 ...\n",
       "6     FLOCULANTE P/CLARIIF DE JUGO             01120252           1001 ...\n",
       "7     DISPERSANTE BUSPERSE 47                  01130152           1002 ...\n",
       "8     HIDROSULFITO DE SODIO                    01130202           1002 ...\n",
       "9     ANTIVISCOSO SURFAC88  T-200KG            01130400           1001 ...\n",
       "10    ACIDO FOSFORICO 80% - GRANEL- GRAD.ALIM. 01140052           1001 ...\n",
       "11    SUSTANCIA HB160 BOLSON                   01140086           1002 ...\n",
       "12    CARBON ACTIVADO B-20KG                   01140102           1001 ...\n",
       "13    DECOLORANTE CATIONICO P/JARABE           01140126           1001 ...\n",
       "14    TIERRA FILTRANTE DIAFILTER FLO 2TR       01140201           1001 ...\n",
       "15    TIERRA FILTRANTE DIAFILTER FLO M         01140300           1001 ...\n",
       "16    TIERRA FILTRANTE DIAFILTER FLO R         01140359           1001 ...\n",
       "17    TIERRA FILTRAN.HARBORLITE GRADO 650      01140367           1001 ...\n",
       "18    FLOCULANTE  TALOFLOTE-100                01140417           1001 ...\n",
       "19    TIERRA FILTRANTE HARBORLITE GRADO 500    01140458           1001 ...\n",
       "20    ANTIESPUMANTE PARA ALCOHOL               01221027           1001 ...\n",
       "21    ENZIMA,MP ALFAAMI E-225KG                01230317           1001 ...\n",
       "22    ALMIDON DE SUPERFICIE GLUCOVIL           02110021           1002 ...\n",
       "23    ALMIDON DE MASA CATIONICO (GLUCOVIL)     02110062           1002 ...\n",
       "24    ANILINA P/PAPEL CELESTE                  02110161           1002 ...\n",
       "25    ANILINA P/PAPEL VERDE                    02110187           1002 ...\n",
       "26    COLORANTE,MP MATIZ VIOLETA CX1.000L      02110203           1002 ...\n",
       "27    PEROXIDO DE HIDROGENO AL 60%             02110286           1002 ...\n",
       "28    BLANQUEADOR OPTICO TINOPAL ABP-LIQ.      02110294           1002 ...\n",
       "29    PEROXIDO DE HIDROGENO AL 70%             02110302           1002 ...\n",
       "30    ANILINA P/PAPEL CANARIO                  02110344           1002 ...\n",
       "...   ...                                      ...                ...     \n",
       "28929 RODAMIENTO - ART: 4H-0019                NA                 1007 ...\n",
       "28930 SENSOR DE PRESIÓN - ART: 311-6342        NA                 1007 ...\n",
       "28931 INYECTORES - ART: 320-0690               NA                 1007 ...\n",
       "28932 ORING - ART: 4J-5351                     NA                 1007 ...\n",
       "28933 ORING - ART: 5M-5860                     NA                 1007 ...\n",
       "28934 PISTA - ART: 5P-7592                     NA                 1007 ...\n",
       "28935 RESORTE TRANSMISIÓN - ART: 4M-9592       NA                 1007 ...\n",
       "28936 COJINETE - ART: 3T-8729                  NA                 1007 ...\n",
       "28937 ANILLO INYECTOR - ART: 6E-0381           NA                 1007 ...\n",
       "28938 MECHA DE ACERO RAPIDO 15,75MM            32600125           1001 ...\n",
       "28939 MACHO M14X2MM JGOX3 HSSE-ISO 529         32351744           1001 ...\n",
       "28940 JUNTA P/INTERCAMBDR. HIPOCL. E-E6-154    NA                 1002 ...\n",
       "28941 MODULO FBM238 FOXBORO RH927AF            NA                 1002 ...\n",
       "28942 MODULO FBM217 FOXBORO RH914TR            NA                 1002 ...\n",
       "28943 CABLE BASE TO BASE FOXBORO RH916MZ       NA                 1002 ...\n",
       "28944 MÓDULO FBI200 FOXBORO RH927AP            NA                 1002 ...\n",
       "28945 MODULO FCM2F FOXBORO RH914YZ             NA                 1002 ...\n",
       "28946 MÓDULO FCP280 FOXBORO  RH924YA           NA                 1002 ...\n",
       "28947 MÓDULO FCP280 FOXBORO  RH924WA           NA                 1002 ...\n",
       "28948 FUENTE ALIM. DE CTE. AMK PN: 1148443621  NA                 1002 ...\n",
       "28949 MODULO ALIM. AMK PN: 1109761019          NA                 1002 ...\n",
       "28950 CILINDRO FESTO DSNU-25-25-PPVA           44110080           1002 ...\n",
       "28951 ESLINGA 7M. 10TN C 60 KG A125MM DO 400MM NA                 1001 ...\n",
       "28952 ESLINGA 10M T 10TN R60,00 KG A125MM      NA                 1001 ...\n",
       "28953 GRILLETE DE AO, 1\" DE 125MM DE APERTURA  NA                 1001 ...\n",
       "28954 TARIMA PARA PALLET 64 X 89 CM            NA                 1002 ...\n",
       "28955 LAM.IMPR.PAP.SULFITO /10 SACHETS 5GR     NA                 1001 ...\n",
       "28956 CAJA CONT. X 1000 SOBRES AZUCAR 5gr      NA                 1001 ...\n",
       "28957 CAJA CONT. X 1500 SOBRES AZUCAR 5gr      NA                 1001 ...\n",
       "28958 CONO SKF/FAG/TIMKEN 89440                NA                 1007 ...\n",
       "      Grupo art. Grupo de artículos                                          \n",
       "1     ELEC390IL  Material eléctrico - Iluminación                            \n",
       "2     JUNT870GO  Junta Sellante Gore                                         \n",
       "3     30007      PRODUCTOS QUÍMICOS                                          \n",
       "4     CRUD013PS  Prod. Químico Crudo                                         \n",
       "5     REFI012PS  Insu Pco Refineria                                          \n",
       "6     CRUD013PQ  Insumo Químico para crudo                                   \n",
       "7     CRUD013PQ  Insumo Químico para crudo                                   \n",
       "8     30000      MATERIA PRIMA (COMPRADA)                                    \n",
       "9     INSQ010PQ  Insumo Quimicos comunes a todos los negocios                \n",
       "10    INSQ010PQ  Insumo Quimicos comunes a todos los negocios                \n",
       "11    30000      MATERIA PRIMA (COMPRADA)                                    \n",
       "12    REFI012PQ  Insumo Químico para Refineria                               \n",
       "13    REFI012PQ  Insumo Químico para Refineria                               \n",
       "14    REFI012PQ  Insumo Químico para Refineria                               \n",
       "15    REFI012PQ  Insumo Químico para Refineria                               \n",
       "16    REFI012PQ  Insumo Químico para Refineria                               \n",
       "17    REFI012PQ  Insumo Químico para Refineria                               \n",
       "18    REFI012PQ  Insumo Químico para Refineria                               \n",
       "19    REFI012PQ  Insumo Químico para Refineria                               \n",
       "20    ALCO011PQ  Insumo Qco. Para Fábrica de Alcohol                         \n",
       "21    INSQ010PQ  Insumo Quimicos comunes a todos los negocios                \n",
       "22    30000      MATERIA PRIMA (COMPRADA)                                    \n",
       "23    30000      MATERIA PRIMA (COMPRADA)                                    \n",
       "24    30000      MATERIA PRIMA (COMPRADA)                                    \n",
       "25    30000      MATERIA PRIMA (COMPRADA)                                    \n",
       "26    30000      MATERIA PRIMA (COMPRADA)                                    \n",
       "27    30007      PRODUCTOS QUÍMICOS                                          \n",
       "28    30007      PRODUCTOS QUÍMICOS                                          \n",
       "29    30007      PRODUCTOS QUÍMICOS                                          \n",
       "30    30000      MATERIA PRIMA (COMPRADA)                                    \n",
       "...   ...        ...                                                         \n",
       "28929 VIAL660VS  Rpto. Máquina Vial                                          \n",
       "28930 VIAL660VS  Rpto. Máquina Vial                                          \n",
       "28931 VIAL660VS  Rpto. Máquina Vial                                          \n",
       "28932 VIAL660VS  Rpto. Máquina Vial                                          \n",
       "28933 VIAL660VS  Rpto. Máquina Vial                                          \n",
       "28934 VIAL660VS  Rpto. Máquina Vial                                          \n",
       "28935 VIAL660VS  Rpto. Máquina Vial                                          \n",
       "28936 VIAL660VS  Rpto. Máquina Vial                                          \n",
       "28937 VIAL660VS  Rpto. Máquina Vial                                          \n",
       "28938 HTAS320AC  Accesorios de herramientas manuales y electrica             \n",
       "28939 HTAS100RE  Herramienta Manual                                          \n",
       "28940 INTE087IC  Repuestos Intercambiadores de calor, placas, juntas, fuelles\n",
       "28941 10042      MATERIALES ELECTRONICOS                                     \n",
       "28942 10042      MATERIALES ELECTRONICOS                                     \n",
       "28943 10042      MATERIALES ELECTRONICOS                                     \n",
       "28944 10042      MATERIALES ELECTRONICOS                                     \n",
       "28945 10042      MATERIALES ELECTRONICOS                                     \n",
       "28946 10042      MATERIALES ELECTRONICOS                                     \n",
       "28947 10042      MATERIALES ELECTRONICOS                                     \n",
       "28948 10042      MATERIALES ELECTRONICOS                                     \n",
       "28949 10042      MATERIALES ELECTRONICOS                                     \n",
       "28950 NEUM101RE  Rpto.Neumático Cuade                                        \n",
       "28951 10033      CABLES,CADENAS,CUERDAS,SOGAS                                \n",
       "28952 10033      CABLES,CADENAS,CUERDAS,SOGAS                                \n",
       "28953 10033      CABLES,CADENAS,CUERDAS,SOGAS                                \n",
       "28954 PALL050FR  Pallet de madera                                            \n",
       "28955 EMBA050PM  Embalajes para acondicionar envases de azucar               \n",
       "28956 EMBA050PM  Embalajes para acondicionar envases de azucar               \n",
       "28957 EMBA050PM  Embalajes para acondicionar envases de azucar               \n",
       "28958 RODA380CO  Rodamientos - conos                                         \n",
       "      GCp Cantidad base ABC Creado     Indicador: Parte crítica Val.redondeo\n",
       "1     D40    1          B   2013-11-08 No                           0       \n",
       "2     D49    1          C   2013-11-08 No                           0       \n",
       "3     D66    1          NA  2013-11-08 No                           0       \n",
       "4     D42    1          A   2013-11-08 No                       24000       \n",
       "5     D42    1          A   2013-11-08 No                        1000       \n",
       "6     D66    1          A   2013-11-08 No                        1000       \n",
       "7     D66    1          B   2013-11-08 No                           0       \n",
       "8     D65    1          B   2013-11-08 No                           0       \n",
       "9     D66    1          B   2013-11-08 No                         200       \n",
       "10    D42    1          A   2013-11-08 No                       28000       \n",
       "11    NA     1          NA  2013-11-08 Sí                           0       \n",
       "12    D65    1          C   2013-11-08 No                        1000       \n",
       "13    D66    1          A   2013-11-08 No                        1000       \n",
       "14    D42    1          A   2013-11-08 No                       16000       \n",
       "15    D42    1          B   2013-11-08 No                           0       \n",
       "16    D42    1          C   2013-11-08 No                           0       \n",
       "17    D42    1          A   2013-11-08 No                       16000       \n",
       "18    D66    1          A   2013-11-08 No                        1000       \n",
       "19    D42    1          A   2013-11-08 No                       16000       \n",
       "20    D66    1          A   2013-11-08 No                           0       \n",
       "21    D65    1          A   2013-11-08 No                         225       \n",
       "22    D66 1000          A   2013-11-08 No                           0       \n",
       "23    D66 1000          A   2013-11-08 No                           0       \n",
       "24    D64    1          C   2013-11-08 No                           0       \n",
       "25    D64    1          B   2013-11-08 No                           0       \n",
       "26    D66    1          A   2013-11-08 No                           0       \n",
       "27    D66    1          A   2013-11-08 No                           0       \n",
       "28    D66    1          A   2013-11-08 No                           0       \n",
       "29    D66    1          A   2013-11-08 No                           0       \n",
       "30    D64    1          B   2013-11-08 No                           0       \n",
       "...   ... ...           ... ...        ...                      ...         \n",
       "28929 D18 1             NA  2022-07-04 No                       0           \n",
       "28930 D18 1             NA  2022-07-04 No                       0           \n",
       "28931 D18 1             NA  2022-07-04 No                       0           \n",
       "28932 D18 1             NA  2022-07-04 No                       0           \n",
       "28933 D18 1             NA  2022-07-04 No                       0           \n",
       "28934 D18 1             NA  2022-07-04 No                       0           \n",
       "28935 D18 1             NA  2022-07-04 No                       0           \n",
       "28936 D18 1             NA  2022-07-04 No                       0           \n",
       "28937 D18 1             NA  2022-07-04 No                       0           \n",
       "28938 D53 1             NA  2013-11-08 No                       1           \n",
       "28939 D53 1             NA  2013-11-08 No                       0           \n",
       "28940 D49 1             NA  2022-07-04 Sí                       0           \n",
       "28941 D53 1             NA  2022-07-05 Sí                       0           \n",
       "28942 D53 1             NA  2022-07-05 Sí                       0           \n",
       "28943 D53 1             NA  2022-07-05 Sí                       0           \n",
       "28944 D53 1             NA  2022-07-05 Sí                       0           \n",
       "28945 D53 1             NA  2022-07-05 Sí                       0           \n",
       "28946 D53 1             NA  2022-07-05 Sí                       0           \n",
       "28947 D53 1             NA  2022-07-05 Sí                       0           \n",
       "28948 D53 1             NA  2022-07-05 Sí                       0           \n",
       "28949 D53 1             NA  2022-07-05 Sí                       0           \n",
       "28950 D49 1             NA  2013-11-08 No                       0           \n",
       "28951 D18 1             NA  2022-07-08 Sí                       0           \n",
       "28952 D18 1             NA  2022-07-08 Sí                       0           \n",
       "28953 D18 1             NA  2022-07-08 Sí                       0           \n",
       "28954 D64 1             NA  2022-07-08 No                       0           \n",
       "28955 D42 1             NA  2022-07-11 Sí                       0           \n",
       "28956 D64 1             NA  2022-07-11 Sí                       0           \n",
       "28957 D64 1             NA  2022-07-11 Sí                       0           \n",
       "28958 D53 1             NA  2022-07-13 No                       0           \n",
       "      NºFb PzE\n",
       "1     NA    60\n",
       "2     NA    60\n",
       "3     NA   150\n",
       "4     NA    30\n",
       "5     NA    30\n",
       "6     NA    90\n",
       "7     NA    90\n",
       "8     NA    45\n",
       "9     NA    45\n",
       "10    NA    30\n",
       "11    NA    60\n",
       "12    NA    60\n",
       "13    NA    10\n",
       "14    NA    45\n",
       "15    NA    60\n",
       "16    NA    60\n",
       "17    NA    90\n",
       "18    NA    45\n",
       "19    NA    45\n",
       "20    NA    90\n",
       "21    NA    90\n",
       "22    NA    45\n",
       "23    NA    45\n",
       "24    NA    90\n",
       "25    NA    90\n",
       "26    NA    60\n",
       "27    NA    60\n",
       "28    NA    60\n",
       "29    NA    60\n",
       "30    NA    90\n",
       "...   ...  ...\n",
       "28929 NA   60 \n",
       "28930 NA   60 \n",
       "28931 NA   60 \n",
       "28932 NA   60 \n",
       "28933 NA   60 \n",
       "28934 NA   60 \n",
       "28935 NA   60 \n",
       "28936 NA   60 \n",
       "28937 NA   60 \n",
       "28938 NA   60 \n",
       "28939 NA   60 \n",
       "28940 NA   60 \n",
       "28941 NA   60 \n",
       "28942 NA   60 \n",
       "28943 NA   60 \n",
       "28944 NA   60 \n",
       "28945 NA   60 \n",
       "28946 NA   60 \n",
       "28947 NA   60 \n",
       "28948 NA   60 \n",
       "28949 NA   60 \n",
       "28950 NA   60 \n",
       "28951 NA   60 \n",
       "28952 NA   60 \n",
       "28953 NA   60 \n",
       "28954 NA   60 \n",
       "28955 NA   45 \n",
       "28956 NA   15 \n",
       "28957 NA   15 \n",
       "28958 NA   60 "
      ]
     },
     "metadata": {},
     "output_type": "display_data"
    }
   ],
   "source": [
    "View(M)"
   ]
  },
  {
   "cell_type": "code",
   "execution_count": null,
   "id": "261d7eae",
   "metadata": {},
   "outputs": [],
   "source": [
    "M$Material"
   ]
  },
  {
   "cell_type": "code",
   "execution_count": null,
   "id": "97bf9f0a",
   "metadata": {},
   "outputs": [],
   "source": [
    "M[\"Material\"]"
   ]
  },
  {
   "cell_type": "code",
   "execution_count": null,
   "id": "2e903385",
   "metadata": {},
   "outputs": [],
   "source": [
    "M[1:10,c(\"Material\",\"Texto breve de material\")]"
   ]
  },
  {
   "cell_type": "markdown",
   "id": "54caf35f",
   "metadata": {},
   "source": [
    "# Vectores"
   ]
  },
  {
   "cell_type": "code",
   "execution_count": 14,
   "id": "3ed18f64",
   "metadata": {},
   "outputs": [
    {
     "data": {
      "text/html": [
       "<style>\n",
       ".list-inline {list-style: none; margin:0; padding: 0}\n",
       ".list-inline>li {display: inline-block}\n",
       ".list-inline>li:not(:last-child)::after {content: \"\\00b7\"; padding: 0 .5ex}\n",
       "</style>\n",
       "<ol class=list-inline><li>3</li><li>5</li><li>4</li><li>7</li><li>8</li><li>2</li><li>9</li></ol>\n"
      ],
      "text/latex": [
       "\\begin{enumerate*}\n",
       "\\item 3\n",
       "\\item 5\n",
       "\\item 4\n",
       "\\item 7\n",
       "\\item 8\n",
       "\\item 2\n",
       "\\item 9\n",
       "\\end{enumerate*}\n"
      ],
      "text/markdown": [
       "1. 3\n",
       "2. 5\n",
       "3. 4\n",
       "4. 7\n",
       "5. 8\n",
       "6. 2\n",
       "7. 9\n",
       "\n",
       "\n"
      ],
      "text/plain": [
       "[1] 3 5 4 7 8 2 9"
      ]
     },
     "metadata": {},
     "output_type": "display_data"
    }
   ],
   "source": [
    "num <- c(3,5,4,7,8,2,9)\n",
    "num"
   ]
  },
  {
   "cell_type": "code",
   "execution_count": 3,
   "id": "95a8bc41",
   "metadata": {},
   "outputs": [
    {
     "data": {
      "text/html": [
       "'numeric'"
      ],
      "text/latex": [
       "'numeric'"
      ],
      "text/markdown": [
       "'numeric'"
      ],
      "text/plain": [
       "[1] \"numeric\""
      ]
     },
     "metadata": {},
     "output_type": "display_data"
    }
   ],
   "source": [
    "class(num)"
   ]
  },
  {
   "cell_type": "code",
   "execution_count": 4,
   "id": "0c5c2bed",
   "metadata": {},
   "outputs": [
    {
     "data": {
      "text/html": [
       "3"
      ],
      "text/latex": [
       "3"
      ],
      "text/markdown": [
       "3"
      ],
      "text/plain": [
       "[1] 3"
      ]
     },
     "metadata": {},
     "output_type": "display_data"
    }
   ],
   "source": [
    "num[1]"
   ]
  },
  {
   "cell_type": "code",
   "execution_count": 5,
   "id": "7c7f10dd",
   "metadata": {},
   "outputs": [
    {
     "data": {
      "text/html": [
       "<style>\n",
       ".list-inline {list-style: none; margin:0; padding: 0}\n",
       ".list-inline>li {display: inline-block}\n",
       ".list-inline>li:not(:last-child)::after {content: \"\\00b7\"; padding: 0 .5ex}\n",
       "</style>\n",
       "<ol class=list-inline><li>5</li><li>4</li><li>7</li></ol>\n"
      ],
      "text/latex": [
       "\\begin{enumerate*}\n",
       "\\item 5\n",
       "\\item 4\n",
       "\\item 7\n",
       "\\end{enumerate*}\n"
      ],
      "text/markdown": [
       "1. 5\n",
       "2. 4\n",
       "3. 7\n",
       "\n",
       "\n"
      ],
      "text/plain": [
       "[1] 5 4 7"
      ]
     },
     "metadata": {},
     "output_type": "display_data"
    }
   ],
   "source": [
    "num[2:4]"
   ]
  },
  {
   "cell_type": "code",
   "execution_count": 6,
   "id": "da43d005",
   "metadata": {},
   "outputs": [],
   "source": [
    "vec = 1:20"
   ]
  },
  {
   "cell_type": "code",
   "execution_count": 7,
   "id": "487107a1",
   "metadata": {},
   "outputs": [
    {
     "data": {
      "text/html": [
       "<style>\n",
       ".list-inline {list-style: none; margin:0; padding: 0}\n",
       ".list-inline>li {display: inline-block}\n",
       ".list-inline>li:not(:last-child)::after {content: \"\\00b7\"; padding: 0 .5ex}\n",
       "</style>\n",
       "<ol class=list-inline><li>1</li><li>2</li><li>3</li><li>4</li><li>5</li><li>6</li><li>7</li><li>8</li><li>9</li><li>10</li><li>11</li><li>12</li><li>13</li><li>14</li><li>15</li><li>16</li><li>17</li><li>18</li><li>19</li><li>20</li></ol>\n"
      ],
      "text/latex": [
       "\\begin{enumerate*}\n",
       "\\item 1\n",
       "\\item 2\n",
       "\\item 3\n",
       "\\item 4\n",
       "\\item 5\n",
       "\\item 6\n",
       "\\item 7\n",
       "\\item 8\n",
       "\\item 9\n",
       "\\item 10\n",
       "\\item 11\n",
       "\\item 12\n",
       "\\item 13\n",
       "\\item 14\n",
       "\\item 15\n",
       "\\item 16\n",
       "\\item 17\n",
       "\\item 18\n",
       "\\item 19\n",
       "\\item 20\n",
       "\\end{enumerate*}\n"
      ],
      "text/markdown": [
       "1. 1\n",
       "2. 2\n",
       "3. 3\n",
       "4. 4\n",
       "5. 5\n",
       "6. 6\n",
       "7. 7\n",
       "8. 8\n",
       "9. 9\n",
       "10. 10\n",
       "11. 11\n",
       "12. 12\n",
       "13. 13\n",
       "14. 14\n",
       "15. 15\n",
       "16. 16\n",
       "17. 17\n",
       "18. 18\n",
       "19. 19\n",
       "20. 20\n",
       "\n",
       "\n"
      ],
      "text/plain": [
       " [1]  1  2  3  4  5  6  7  8  9 10 11 12 13 14 15 16 17 18 19 20"
      ]
     },
     "metadata": {},
     "output_type": "display_data"
    }
   ],
   "source": [
    "vec"
   ]
  },
  {
   "cell_type": "code",
   "execution_count": 15,
   "id": "302010ff",
   "metadata": {},
   "outputs": [
    {
     "data": {
      "text/html": [
       "<style>\n",
       ".list-inline {list-style: none; margin:0; padding: 0}\n",
       ".list-inline>li {display: inline-block}\n",
       ".list-inline>li:not(:last-child)::after {content: \"\\00b7\"; padding: 0 .5ex}\n",
       "</style>\n",
       "<ol class=list-inline><li>'1'</li><li>'2'</li><li>'tres'</li></ol>\n"
      ],
      "text/latex": [
       "\\begin{enumerate*}\n",
       "\\item '1'\n",
       "\\item '2'\n",
       "\\item 'tres'\n",
       "\\end{enumerate*}\n"
      ],
      "text/markdown": [
       "1. '1'\n",
       "2. '2'\n",
       "3. 'tres'\n",
       "\n",
       "\n"
      ],
      "text/plain": [
       "[1] \"1\"    \"2\"    \"tres\""
      ]
     },
     "metadata": {},
     "output_type": "display_data"
    }
   ],
   "source": [
    "numeros <- c(1,2,\"tres\")\n",
    "numeros"
   ]
  },
  {
   "cell_type": "markdown",
   "id": "0b1d0b7a",
   "metadata": {},
   "source": [
    "# Matriz"
   ]
  },
  {
   "cell_type": "code",
   "execution_count": 16,
   "id": "71ec1735",
   "metadata": {},
   "outputs": [
    {
     "data": {
      "text/html": [
       "<table class=\"dataframe\">\n",
       "<caption>A matrix: 5 × 5 of type int</caption>\n",
       "<tbody>\n",
       "\t<tr><td>1</td><td> 6</td><td>11</td><td>16</td><td>21</td></tr>\n",
       "\t<tr><td>2</td><td> 7</td><td>12</td><td>17</td><td>22</td></tr>\n",
       "\t<tr><td>3</td><td> 8</td><td>13</td><td>18</td><td>23</td></tr>\n",
       "\t<tr><td>4</td><td> 9</td><td>14</td><td>19</td><td>24</td></tr>\n",
       "\t<tr><td>5</td><td>10</td><td>15</td><td>20</td><td>25</td></tr>\n",
       "</tbody>\n",
       "</table>\n"
      ],
      "text/latex": [
       "A matrix: 5 × 5 of type int\n",
       "\\begin{tabular}{lllll}\n",
       "\t 1 &  6 & 11 & 16 & 21\\\\\n",
       "\t 2 &  7 & 12 & 17 & 22\\\\\n",
       "\t 3 &  8 & 13 & 18 & 23\\\\\n",
       "\t 4 &  9 & 14 & 19 & 24\\\\\n",
       "\t 5 & 10 & 15 & 20 & 25\\\\\n",
       "\\end{tabular}\n"
      ],
      "text/markdown": [
       "\n",
       "A matrix: 5 × 5 of type int\n",
       "\n",
       "| 1 |  6 | 11 | 16 | 21 |\n",
       "| 2 |  7 | 12 | 17 | 22 |\n",
       "| 3 |  8 | 13 | 18 | 23 |\n",
       "| 4 |  9 | 14 | 19 | 24 |\n",
       "| 5 | 10 | 15 | 20 | 25 |\n",
       "\n"
      ],
      "text/plain": [
       "     [,1] [,2] [,3] [,4] [,5]\n",
       "[1,] 1     6   11   16   21  \n",
       "[2,] 2     7   12   17   22  \n",
       "[3,] 3     8   13   18   23  \n",
       "[4,] 4     9   14   19   24  \n",
       "[5,] 5    10   15   20   25  "
      ]
     },
     "metadata": {},
     "output_type": "display_data"
    }
   ],
   "source": [
    "matriz <- matrix(1:25, ncol=5)\n",
    "matriz"
   ]
  },
  {
   "cell_type": "code",
   "execution_count": 17,
   "id": "97ef0f97",
   "metadata": {},
   "outputs": [
    {
     "data": {
      "text/html": [
       "<table class=\"dataframe\">\n",
       "<caption>A matrix: 5 × 5 of type int</caption>\n",
       "<tbody>\n",
       "\t<tr><td> 1</td><td> 2</td><td> 3</td><td> 4</td><td> 5</td></tr>\n",
       "\t<tr><td> 6</td><td> 7</td><td> 8</td><td> 9</td><td>10</td></tr>\n",
       "\t<tr><td>11</td><td>12</td><td>13</td><td>14</td><td>15</td></tr>\n",
       "\t<tr><td>16</td><td>17</td><td>18</td><td>19</td><td>20</td></tr>\n",
       "\t<tr><td>21</td><td>22</td><td>23</td><td>24</td><td>25</td></tr>\n",
       "</tbody>\n",
       "</table>\n"
      ],
      "text/latex": [
       "A matrix: 5 × 5 of type int\n",
       "\\begin{tabular}{lllll}\n",
       "\t  1 &  2 &  3 &  4 &  5\\\\\n",
       "\t  6 &  7 &  8 &  9 & 10\\\\\n",
       "\t 11 & 12 & 13 & 14 & 15\\\\\n",
       "\t 16 & 17 & 18 & 19 & 20\\\\\n",
       "\t 21 & 22 & 23 & 24 & 25\\\\\n",
       "\\end{tabular}\n"
      ],
      "text/markdown": [
       "\n",
       "A matrix: 5 × 5 of type int\n",
       "\n",
       "|  1 |  2 |  3 |  4 |  5 |\n",
       "|  6 |  7 |  8 |  9 | 10 |\n",
       "| 11 | 12 | 13 | 14 | 15 |\n",
       "| 16 | 17 | 18 | 19 | 20 |\n",
       "| 21 | 22 | 23 | 24 | 25 |\n",
       "\n"
      ],
      "text/plain": [
       "     [,1] [,2] [,3] [,4] [,5]\n",
       "[1,]  1    2    3    4    5  \n",
       "[2,]  6    7    8    9   10  \n",
       "[3,] 11   12   13   14   15  \n",
       "[4,] 16   17   18   19   20  \n",
       "[5,] 21   22   23   24   25  "
      ]
     },
     "metadata": {},
     "output_type": "display_data"
    }
   ],
   "source": [
    "matriz2 = matrix(1:25, ncol=5, byrow=TRUE)\n",
    "matriz2"
   ]
  },
  {
   "cell_type": "code",
   "execution_count": 18,
   "id": "891f4dc2",
   "metadata": {},
   "outputs": [
    {
     "data": {
      "text/html": [
       "<table class=\"dataframe\">\n",
       "<caption>A matrix: 4 × 5 of type int</caption>\n",
       "<tbody>\n",
       "\t<tr><td>1</td><td>5</td><td> 9</td><td>13</td><td>17</td></tr>\n",
       "\t<tr><td>2</td><td>6</td><td>10</td><td>14</td><td>18</td></tr>\n",
       "\t<tr><td>3</td><td>7</td><td>11</td><td>15</td><td>19</td></tr>\n",
       "\t<tr><td>4</td><td>8</td><td>12</td><td>16</td><td>20</td></tr>\n",
       "</tbody>\n",
       "</table>\n"
      ],
      "text/latex": [
       "A matrix: 4 × 5 of type int\n",
       "\\begin{tabular}{lllll}\n",
       "\t 1 & 5 &  9 & 13 & 17\\\\\n",
       "\t 2 & 6 & 10 & 14 & 18\\\\\n",
       "\t 3 & 7 & 11 & 15 & 19\\\\\n",
       "\t 4 & 8 & 12 & 16 & 20\\\\\n",
       "\\end{tabular}\n"
      ],
      "text/markdown": [
       "\n",
       "A matrix: 4 × 5 of type int\n",
       "\n",
       "| 1 | 5 |  9 | 13 | 17 |\n",
       "| 2 | 6 | 10 | 14 | 18 |\n",
       "| 3 | 7 | 11 | 15 | 19 |\n",
       "| 4 | 8 | 12 | 16 | 20 |\n",
       "\n"
      ],
      "text/plain": [
       "     [,1] [,2] [,3] [,4] [,5]\n",
       "[1,] 1    5     9   13   17  \n",
       "[2,] 2    6    10   14   18  \n",
       "[3,] 3    7    11   15   19  \n",
       "[4,] 4    8    12   16   20  "
      ]
     },
     "metadata": {},
     "output_type": "display_data"
    }
   ],
   "source": [
    "matriz <- matrix(data=1:20,nrow = 4,ncol=5,byrow = FALSE)\n",
    "matriz"
   ]
  },
  {
   "cell_type": "code",
   "execution_count": 19,
   "id": "8cd233ee",
   "metadata": {},
   "outputs": [
    {
     "data": {
      "text/html": [
       "10"
      ],
      "text/latex": [
       "10"
      ],
      "text/markdown": [
       "10"
      ],
      "text/plain": [
       "[1] 10"
      ]
     },
     "metadata": {},
     "output_type": "display_data"
    }
   ],
   "source": [
    "matriz[2,3]"
   ]
  },
  {
   "cell_type": "code",
   "execution_count": 20,
   "id": "1b669ab0",
   "metadata": {},
   "outputs": [
    {
     "data": {
      "text/html": [
       "<style>\n",
       ".list-inline {list-style: none; margin:0; padding: 0}\n",
       ".list-inline>li {display: inline-block}\n",
       ".list-inline>li:not(:last-child)::after {content: \"\\00b7\"; padding: 0 .5ex}\n",
       "</style>\n",
       "<ol class=list-inline><li>5</li><li>6</li><li>7</li><li>8</li></ol>\n"
      ],
      "text/latex": [
       "\\begin{enumerate*}\n",
       "\\item 5\n",
       "\\item 6\n",
       "\\item 7\n",
       "\\item 8\n",
       "\\end{enumerate*}\n"
      ],
      "text/markdown": [
       "1. 5\n",
       "2. 6\n",
       "3. 7\n",
       "4. 8\n",
       "\n",
       "\n"
      ],
      "text/plain": [
       "[1] 5 6 7 8"
      ]
     },
     "metadata": {},
     "output_type": "display_data"
    }
   ],
   "source": [
    "matriz[,2] #recupera la columna 2"
   ]
  },
  {
   "cell_type": "code",
   "execution_count": 21,
   "id": "5495d13f",
   "metadata": {},
   "outputs": [
    {
     "data": {
      "text/html": [
       "<table class=\"dataframe\">\n",
       "<caption>A matrix: 4 × 3 of type int</caption>\n",
       "<tbody>\n",
       "\t<tr><td>1</td><td>5</td><td> 9</td></tr>\n",
       "\t<tr><td>2</td><td>6</td><td>10</td></tr>\n",
       "\t<tr><td>3</td><td>7</td><td>11</td></tr>\n",
       "\t<tr><td>4</td><td>8</td><td>12</td></tr>\n",
       "</tbody>\n",
       "</table>\n"
      ],
      "text/latex": [
       "A matrix: 4 × 3 of type int\n",
       "\\begin{tabular}{lll}\n",
       "\t 1 & 5 &  9\\\\\n",
       "\t 2 & 6 & 10\\\\\n",
       "\t 3 & 7 & 11\\\\\n",
       "\t 4 & 8 & 12\\\\\n",
       "\\end{tabular}\n"
      ],
      "text/markdown": [
       "\n",
       "A matrix: 4 × 3 of type int\n",
       "\n",
       "| 1 | 5 |  9 |\n",
       "| 2 | 6 | 10 |\n",
       "| 3 | 7 | 11 |\n",
       "| 4 | 8 | 12 |\n",
       "\n"
      ],
      "text/plain": [
       "     [,1] [,2] [,3]\n",
       "[1,] 1    5     9  \n",
       "[2,] 2    6    10  \n",
       "[3,] 3    7    11  \n",
       "[4,] 4    8    12  "
      ]
     },
     "metadata": {},
     "output_type": "display_data"
    }
   ],
   "source": [
    "matriz[,-c(4,5)] #matriz sin las columnas 4 y 5"
   ]
  },
  {
   "cell_type": "markdown",
   "id": "8d6fb87b",
   "metadata": {},
   "source": [
    "# Arreglos es una matrices de varias dimensiones"
   ]
  },
  {
   "cell_type": "code",
   "execution_count": 22,
   "id": "6d5c7fd2",
   "metadata": {},
   "outputs": [
    {
     "data": {
      "text/html": [
       "<style>\n",
       ".list-inline {list-style: none; margin:0; padding: 0}\n",
       ".list-inline>li {display: inline-block}\n",
       ".list-inline>li:not(:last-child)::after {content: \"\\00b7\"; padding: 0 .5ex}\n",
       "</style>\n",
       "<ol class=list-inline><li>'a'</li><li>'b'</li><li>'c'</li><li>'d'</li><li>'e'</li><li>'f'</li><li>'g'</li><li>'h'</li><li>'i'</li><li>'j'</li><li>'k'</li><li>'l'</li><li>'m'</li><li>'n'</li><li>'o'</li><li>'p'</li><li>'q'</li><li>'r'</li><li>'s'</li><li>'t'</li><li>'u'</li><li>'v'</li><li>'w'</li><li>'x'</li></ol>\n"
      ],
      "text/latex": [
       "\\begin{enumerate*}\n",
       "\\item 'a'\n",
       "\\item 'b'\n",
       "\\item 'c'\n",
       "\\item 'd'\n",
       "\\item 'e'\n",
       "\\item 'f'\n",
       "\\item 'g'\n",
       "\\item 'h'\n",
       "\\item 'i'\n",
       "\\item 'j'\n",
       "\\item 'k'\n",
       "\\item 'l'\n",
       "\\item 'm'\n",
       "\\item 'n'\n",
       "\\item 'o'\n",
       "\\item 'p'\n",
       "\\item 'q'\n",
       "\\item 'r'\n",
       "\\item 's'\n",
       "\\item 't'\n",
       "\\item 'u'\n",
       "\\item 'v'\n",
       "\\item 'w'\n",
       "\\item 'x'\n",
       "\\end{enumerate*}\n"
      ],
      "text/markdown": [
       "1. 'a'\n",
       "2. 'b'\n",
       "3. 'c'\n",
       "4. 'd'\n",
       "5. 'e'\n",
       "6. 'f'\n",
       "7. 'g'\n",
       "8. 'h'\n",
       "9. 'i'\n",
       "10. 'j'\n",
       "11. 'k'\n",
       "12. 'l'\n",
       "13. 'm'\n",
       "14. 'n'\n",
       "15. 'o'\n",
       "16. 'p'\n",
       "17. 'q'\n",
       "18. 'r'\n",
       "19. 's'\n",
       "20. 't'\n",
       "21. 'u'\n",
       "22. 'v'\n",
       "23. 'w'\n",
       "24. 'x'\n",
       "\n",
       "\n"
      ],
      "text/plain": [
       ", , 1\n",
       "\n",
       "     [,1] [,2] [,3] [,4]\n",
       "[1,] \"a\"  \"d\"  \"g\"  \"j\" \n",
       "[2,] \"b\"  \"e\"  \"h\"  \"k\" \n",
       "[3,] \"c\"  \"f\"  \"i\"  \"l\" \n",
       "\n",
       ", , 2\n",
       "\n",
       "     [,1] [,2] [,3] [,4]\n",
       "[1,] \"m\"  \"p\"  \"s\"  \"v\" \n",
       "[2,] \"n\"  \"q\"  \"t\"  \"w\" \n",
       "[3,] \"o\"  \"r\"  \"u\"  \"x\" \n"
      ]
     },
     "metadata": {},
     "output_type": "display_data"
    }
   ],
   "source": [
    "arreglo <- array(data = letters[1:24],dim = c(3,4,2))\n",
    "arreglo"
   ]
  },
  {
   "cell_type": "code",
   "execution_count": 23,
   "id": "621ce109",
   "metadata": {},
   "outputs": [
    {
     "data": {
      "text/html": [
       "<table class=\"dataframe\">\n",
       "<caption>A matrix: 3 × 4 of type chr</caption>\n",
       "<tbody>\n",
       "\t<tr><td>a</td><td>d</td><td>g</td><td>j</td></tr>\n",
       "\t<tr><td>b</td><td>e</td><td>h</td><td>k</td></tr>\n",
       "\t<tr><td>c</td><td>f</td><td>i</td><td>l</td></tr>\n",
       "</tbody>\n",
       "</table>\n"
      ],
      "text/latex": [
       "A matrix: 3 × 4 of type chr\n",
       "\\begin{tabular}{llll}\n",
       "\t a & d & g & j\\\\\n",
       "\t b & e & h & k\\\\\n",
       "\t c & f & i & l\\\\\n",
       "\\end{tabular}\n"
      ],
      "text/markdown": [
       "\n",
       "A matrix: 3 × 4 of type chr\n",
       "\n",
       "| a | d | g | j |\n",
       "| b | e | h | k |\n",
       "| c | f | i | l |\n",
       "\n"
      ],
      "text/plain": [
       "     [,1] [,2] [,3] [,4]\n",
       "[1,] a    d    g    j   \n",
       "[2,] b    e    h    k   \n",
       "[3,] c    f    i    l   "
      ]
     },
     "metadata": {},
     "output_type": "display_data"
    }
   ],
   "source": [
    "arreglo[,,1]"
   ]
  },
  {
   "cell_type": "markdown",
   "id": "64ab21c5",
   "metadata": {},
   "source": [
    "# Data frame"
   ]
  },
  {
   "cell_type": "code",
   "execution_count": 24,
   "id": "f7d91ca3",
   "metadata": {},
   "outputs": [],
   "source": [
    "#data frame\n",
    "\n",
    "edad <- c(15, 19, 13, NA, 20)\n",
    "deporte <- c(TRUE, TRUE, NA, FALSE, TRUE)\n",
    "comic_fav <- c(NA, 'Superman', 'Batman', NA, 'Batman')"
   ]
  },
  {
   "cell_type": "code",
   "execution_count": 25,
   "id": "1bdc8286",
   "metadata": {},
   "outputs": [
    {
     "data": {
      "text/html": [
       "<table class=\"dataframe\">\n",
       "<caption>A data.frame: 5 × 3</caption>\n",
       "<thead>\n",
       "\t<tr><th scope=col>edad</th><th scope=col>deporte</th><th scope=col>comic_fav</th></tr>\n",
       "\t<tr><th scope=col>&lt;dbl&gt;</th><th scope=col>&lt;lgl&gt;</th><th scope=col>&lt;chr&gt;</th></tr>\n",
       "</thead>\n",
       "<tbody>\n",
       "\t<tr><td>15</td><td> TRUE</td><td>NA      </td></tr>\n",
       "\t<tr><td>19</td><td> TRUE</td><td>Superman</td></tr>\n",
       "\t<tr><td>13</td><td>   NA</td><td>Batman  </td></tr>\n",
       "\t<tr><td>NA</td><td>FALSE</td><td>NA      </td></tr>\n",
       "\t<tr><td>20</td><td> TRUE</td><td>Batman  </td></tr>\n",
       "</tbody>\n",
       "</table>\n"
      ],
      "text/latex": [
       "A data.frame: 5 × 3\n",
       "\\begin{tabular}{lll}\n",
       " edad & deporte & comic\\_fav\\\\\n",
       " <dbl> & <lgl> & <chr>\\\\\n",
       "\\hline\n",
       "\t 15 &  TRUE & NA      \\\\\n",
       "\t 19 &  TRUE & Superman\\\\\n",
       "\t 13 &    NA & Batman  \\\\\n",
       "\t NA & FALSE & NA      \\\\\n",
       "\t 20 &  TRUE & Batman  \\\\\n",
       "\\end{tabular}\n"
      ],
      "text/markdown": [
       "\n",
       "A data.frame: 5 × 3\n",
       "\n",
       "| edad &lt;dbl&gt; | deporte &lt;lgl&gt; | comic_fav &lt;chr&gt; |\n",
       "|---|---|---|\n",
       "| 15 |  TRUE | NA       |\n",
       "| 19 |  TRUE | Superman |\n",
       "| 13 |    NA | Batman   |\n",
       "| NA | FALSE | NA       |\n",
       "| 20 |  TRUE | Batman   |\n",
       "\n"
      ],
      "text/plain": [
       "  edad deporte comic_fav\n",
       "1 15    TRUE   NA       \n",
       "2 19    TRUE   Superman \n",
       "3 13      NA   Batman   \n",
       "4 NA   FALSE   NA       \n",
       "5 20    TRUE   Batman   "
      ]
     },
     "metadata": {},
     "output_type": "display_data"
    }
   ],
   "source": [
    "df <- data.frame(edad,deporte,comic_fav)\n",
    "df"
   ]
  },
  {
   "cell_type": "code",
   "execution_count": 26,
   "id": "81700790",
   "metadata": {},
   "outputs": [
    {
     "data": {
      "text/html": [
       "<style>\n",
       ".list-inline {list-style: none; margin:0; padding: 0}\n",
       ".list-inline>li {display: inline-block}\n",
       ".list-inline>li:not(:last-child)::after {content: \"\\00b7\"; padding: 0 .5ex}\n",
       "</style>\n",
       "<ol class=list-inline><li>15</li><li>19</li><li>13</li><li>&lt;NA&gt;</li><li>20</li></ol>\n"
      ],
      "text/latex": [
       "\\begin{enumerate*}\n",
       "\\item 15\n",
       "\\item 19\n",
       "\\item 13\n",
       "\\item <NA>\n",
       "\\item 20\n",
       "\\end{enumerate*}\n"
      ],
      "text/markdown": [
       "1. 15\n",
       "2. 19\n",
       "3. 13\n",
       "4. &lt;NA&gt;\n",
       "5. 20\n",
       "\n",
       "\n"
      ],
      "text/plain": [
       "[1] 15 19 13 NA 20"
      ]
     },
     "metadata": {},
     "output_type": "display_data"
    }
   ],
   "source": [
    "df$edad"
   ]
  },
  {
   "cell_type": "code",
   "execution_count": 27,
   "id": "1f859bc3",
   "metadata": {},
   "outputs": [
    {
     "data": {
      "text/html": [
       "<style>\n",
       ".list-inline {list-style: none; margin:0; padding: 0}\n",
       ".list-inline>li {display: inline-block}\n",
       ".list-inline>li:not(:last-child)::after {content: \"\\00b7\"; padding: 0 .5ex}\n",
       "</style>\n",
       "<ol class=list-inline><li>15</li><li>19</li><li>13</li><li>&lt;NA&gt;</li><li>20</li></ol>\n"
      ],
      "text/latex": [
       "\\begin{enumerate*}\n",
       "\\item 15\n",
       "\\item 19\n",
       "\\item 13\n",
       "\\item <NA>\n",
       "\\item 20\n",
       "\\end{enumerate*}\n"
      ],
      "text/markdown": [
       "1. 15\n",
       "2. 19\n",
       "3. 13\n",
       "4. &lt;NA&gt;\n",
       "5. 20\n",
       "\n",
       "\n"
      ],
      "text/plain": [
       "[1] 15 19 13 NA 20"
      ]
     },
     "metadata": {},
     "output_type": "display_data"
    }
   ],
   "source": [
    "df[,1]"
   ]
  },
  {
   "cell_type": "code",
   "execution_count": 28,
   "id": "a3b9077e",
   "metadata": {},
   "outputs": [
    {
     "data": {
      "text/html": [
       "<style>\n",
       ".list-inline {list-style: none; margin:0; padding: 0}\n",
       ".list-inline>li {display: inline-block}\n",
       ".list-inline>li:not(:last-child)::after {content: \"\\00b7\"; padding: 0 .5ex}\n",
       "</style>\n",
       "<ol class=list-inline><li>TRUE</li><li>TRUE</li><li>&lt;NA&gt;</li><li>FALSE</li><li>TRUE</li></ol>\n"
      ],
      "text/latex": [
       "\\begin{enumerate*}\n",
       "\\item TRUE\n",
       "\\item TRUE\n",
       "\\item <NA>\n",
       "\\item FALSE\n",
       "\\item TRUE\n",
       "\\end{enumerate*}\n"
      ],
      "text/markdown": [
       "1. TRUE\n",
       "2. TRUE\n",
       "3. &lt;NA&gt;\n",
       "4. FALSE\n",
       "5. TRUE\n",
       "\n",
       "\n"
      ],
      "text/plain": [
       "[1]  TRUE  TRUE    NA FALSE  TRUE"
      ]
     },
     "metadata": {},
     "output_type": "display_data"
    }
   ],
   "source": [
    "df[[\"deporte\"]] #devuelve en forma de vetor"
   ]
  },
  {
   "cell_type": "code",
   "execution_count": 29,
   "id": "ee3c62e5",
   "metadata": {},
   "outputs": [
    {
     "data": {
      "text/html": [
       "<table class=\"dataframe\">\n",
       "<caption>A data.frame: 5 × 1</caption>\n",
       "<thead>\n",
       "\t<tr><th scope=col>deporte</th></tr>\n",
       "\t<tr><th scope=col>&lt;lgl&gt;</th></tr>\n",
       "</thead>\n",
       "<tbody>\n",
       "\t<tr><td> TRUE</td></tr>\n",
       "\t<tr><td> TRUE</td></tr>\n",
       "\t<tr><td>   NA</td></tr>\n",
       "\t<tr><td>FALSE</td></tr>\n",
       "\t<tr><td> TRUE</td></tr>\n",
       "</tbody>\n",
       "</table>\n"
      ],
      "text/latex": [
       "A data.frame: 5 × 1\n",
       "\\begin{tabular}{l}\n",
       " deporte\\\\\n",
       " <lgl>\\\\\n",
       "\\hline\n",
       "\t  TRUE\\\\\n",
       "\t  TRUE\\\\\n",
       "\t    NA\\\\\n",
       "\t FALSE\\\\\n",
       "\t  TRUE\\\\\n",
       "\\end{tabular}\n"
      ],
      "text/markdown": [
       "\n",
       "A data.frame: 5 × 1\n",
       "\n",
       "| deporte &lt;lgl&gt; |\n",
       "|---|\n",
       "|  TRUE |\n",
       "|  TRUE |\n",
       "|    NA |\n",
       "| FALSE |\n",
       "|  TRUE |\n",
       "\n"
      ],
      "text/plain": [
       "  deporte\n",
       "1  TRUE  \n",
       "2  TRUE  \n",
       "3    NA  \n",
       "4 FALSE  \n",
       "5  TRUE  "
      ]
     },
     "metadata": {},
     "output_type": "display_data"
    }
   ],
   "source": [
    "df[\"deporte\"] #devuelve en forma de data frame"
   ]
  },
  {
   "cell_type": "code",
   "execution_count": 30,
   "id": "ba7bb5fb",
   "metadata": {},
   "outputs": [
    {
     "name": "stdout",
     "output_type": "stream",
     "text": [
      " chr [1:5] NA \"Superman\" \"Batman\" NA \"Batman\"\n"
     ]
    }
   ],
   "source": [
    "str(df[[\"comic_fav\"]])"
   ]
  },
  {
   "cell_type": "code",
   "execution_count": 31,
   "id": "c4e23846",
   "metadata": {},
   "outputs": [
    {
     "name": "stdout",
     "output_type": "stream",
     "text": [
      "'data.frame':\t5 obs. of  1 variable:\n",
      " $ comic_fav: chr  NA \"Superman\" \"Batman\" NA ...\n"
     ]
    }
   ],
   "source": [
    "str(df[\"comic_fav\"])"
   ]
  },
  {
   "cell_type": "code",
   "execution_count": 32,
   "id": "29053471",
   "metadata": {},
   "outputs": [
    {
     "data": {
      "text/html": [
       "<table class=\"dataframe\">\n",
       "<caption>A data.frame: 5 × 2</caption>\n",
       "<thead>\n",
       "\t<tr><th scope=col>deporte</th><th scope=col>edad</th></tr>\n",
       "\t<tr><th scope=col>&lt;lgl&gt;</th><th scope=col>&lt;dbl&gt;</th></tr>\n",
       "</thead>\n",
       "<tbody>\n",
       "\t<tr><td> TRUE</td><td>15</td></tr>\n",
       "\t<tr><td> TRUE</td><td>19</td></tr>\n",
       "\t<tr><td>   NA</td><td>13</td></tr>\n",
       "\t<tr><td>FALSE</td><td>NA</td></tr>\n",
       "\t<tr><td> TRUE</td><td>20</td></tr>\n",
       "</tbody>\n",
       "</table>\n"
      ],
      "text/latex": [
       "A data.frame: 5 × 2\n",
       "\\begin{tabular}{ll}\n",
       " deporte & edad\\\\\n",
       " <lgl> & <dbl>\\\\\n",
       "\\hline\n",
       "\t  TRUE & 15\\\\\n",
       "\t  TRUE & 19\\\\\n",
       "\t    NA & 13\\\\\n",
       "\t FALSE & NA\\\\\n",
       "\t  TRUE & 20\\\\\n",
       "\\end{tabular}\n"
      ],
      "text/markdown": [
       "\n",
       "A data.frame: 5 × 2\n",
       "\n",
       "| deporte &lt;lgl&gt; | edad &lt;dbl&gt; |\n",
       "|---|---|\n",
       "|  TRUE | 15 |\n",
       "|  TRUE | 19 |\n",
       "|    NA | 13 |\n",
       "| FALSE | NA |\n",
       "|  TRUE | 20 |\n",
       "\n"
      ],
      "text/plain": [
       "  deporte edad\n",
       "1  TRUE   15  \n",
       "2  TRUE   19  \n",
       "3    NA   13  \n",
       "4 FALSE   NA  \n",
       "5  TRUE   20  "
      ]
     },
     "metadata": {},
     "output_type": "display_data"
    }
   ],
   "source": [
    "df[c(\"deporte\",\"edad\")]"
   ]
  },
  {
   "cell_type": "code",
   "execution_count": 33,
   "id": "983a9ed3",
   "metadata": {},
   "outputs": [
    {
     "data": {
      "text/html": [
       "<style>\n",
       ".list-inline {list-style: none; margin:0; padding: 0}\n",
       ".list-inline>li {display: inline-block}\n",
       ".list-inline>li:not(:last-child)::after {content: \"\\00b7\"; padding: 0 .5ex}\n",
       "</style>\n",
       "<ol class=list-inline><li>19</li><li>13</li><li>&lt;NA&gt;</li></ol>\n"
      ],
      "text/latex": [
       "\\begin{enumerate*}\n",
       "\\item 19\n",
       "\\item 13\n",
       "\\item <NA>\n",
       "\\end{enumerate*}\n"
      ],
      "text/markdown": [
       "1. 19\n",
       "2. 13\n",
       "3. &lt;NA&gt;\n",
       "\n",
       "\n"
      ],
      "text/plain": [
       "[1] 19 13 NA"
      ]
     },
     "metadata": {},
     "output_type": "display_data"
    }
   ],
   "source": [
    "df[2:4,1] #recuperar edad de las posiciones 3 a 4"
   ]
  },
  {
   "cell_type": "code",
   "execution_count": 34,
   "id": "73c9b8cd",
   "metadata": {},
   "outputs": [
    {
     "data": {
      "text/html": [
       "<table class=\"dataframe\">\n",
       "<caption>A data.frame: 3 × 3</caption>\n",
       "<thead>\n",
       "\t<tr><th></th><th scope=col>edad</th><th scope=col>deporte</th><th scope=col>comic_fav</th></tr>\n",
       "\t<tr><th></th><th scope=col>&lt;dbl&gt;</th><th scope=col>&lt;lgl&gt;</th><th scope=col>&lt;chr&gt;</th></tr>\n",
       "</thead>\n",
       "<tbody>\n",
       "\t<tr><th scope=row>1</th><td>15</td><td>TRUE</td><td>NA      </td></tr>\n",
       "\t<tr><th scope=row>2</th><td>19</td><td>TRUE</td><td>Superman</td></tr>\n",
       "\t<tr><th scope=row>5</th><td>20</td><td>TRUE</td><td>Batman  </td></tr>\n",
       "</tbody>\n",
       "</table>\n"
      ],
      "text/latex": [
       "A data.frame: 3 × 3\n",
       "\\begin{tabular}{r|lll}\n",
       "  & edad & deporte & comic\\_fav\\\\\n",
       "  & <dbl> & <lgl> & <chr>\\\\\n",
       "\\hline\n",
       "\t1 & 15 & TRUE & NA      \\\\\n",
       "\t2 & 19 & TRUE & Superman\\\\\n",
       "\t5 & 20 & TRUE & Batman  \\\\\n",
       "\\end{tabular}\n"
      ],
      "text/markdown": [
       "\n",
       "A data.frame: 3 × 3\n",
       "\n",
       "| <!--/--> | edad &lt;dbl&gt; | deporte &lt;lgl&gt; | comic_fav &lt;chr&gt; |\n",
       "|---|---|---|---|\n",
       "| 1 | 15 | TRUE | NA       |\n",
       "| 2 | 19 | TRUE | Superman |\n",
       "| 5 | 20 | TRUE | Batman   |\n",
       "\n"
      ],
      "text/plain": [
       "  edad deporte comic_fav\n",
       "1 15   TRUE    NA       \n",
       "2 19   TRUE    Superman \n",
       "5 20   TRUE    Batman   "
      ]
     },
     "metadata": {},
     "output_type": "display_data"
    }
   ],
   "source": [
    "#Extraer subconjunto de un data frame\n",
    "\n",
    "subset(df,subset=deporte==TRUE)"
   ]
  },
  {
   "cell_type": "code",
   "execution_count": 35,
   "id": "6eb5b29b",
   "metadata": {},
   "outputs": [
    {
     "data": {
      "text/html": [
       "<table class=\"dataframe\">\n",
       "<caption>A data.frame: 3 × 3</caption>\n",
       "<thead>\n",
       "\t<tr><th></th><th scope=col>edad</th><th scope=col>deporte</th><th scope=col>comic_fav</th></tr>\n",
       "\t<tr><th></th><th scope=col>&lt;dbl&gt;</th><th scope=col>&lt;lgl&gt;</th><th scope=col>&lt;chr&gt;</th></tr>\n",
       "</thead>\n",
       "<tbody>\n",
       "\t<tr><th scope=row>1</th><td>15</td><td>TRUE</td><td>NA      </td></tr>\n",
       "\t<tr><th scope=row>2</th><td>19</td><td>TRUE</td><td>Superman</td></tr>\n",
       "\t<tr><th scope=row>3</th><td>13</td><td>  NA</td><td>Batman  </td></tr>\n",
       "</tbody>\n",
       "</table>\n"
      ],
      "text/latex": [
       "A data.frame: 3 × 3\n",
       "\\begin{tabular}{r|lll}\n",
       "  & edad & deporte & comic\\_fav\\\\\n",
       "  & <dbl> & <lgl> & <chr>\\\\\n",
       "\\hline\n",
       "\t1 & 15 & TRUE & NA      \\\\\n",
       "\t2 & 19 & TRUE & Superman\\\\\n",
       "\t3 & 13 &   NA & Batman  \\\\\n",
       "\\end{tabular}\n"
      ],
      "text/markdown": [
       "\n",
       "A data.frame: 3 × 3\n",
       "\n",
       "| <!--/--> | edad &lt;dbl&gt; | deporte &lt;lgl&gt; | comic_fav &lt;chr&gt; |\n",
       "|---|---|---|---|\n",
       "| 1 | 15 | TRUE | NA       |\n",
       "| 2 | 19 | TRUE | Superman |\n",
       "| 3 | 13 |   NA | Batman   |\n",
       "\n"
      ],
      "text/plain": [
       "  edad deporte comic_fav\n",
       "1 15   TRUE    NA       \n",
       "2 19   TRUE    Superman \n",
       "3 13     NA    Batman   "
      ]
     },
     "metadata": {},
     "output_type": "display_data"
    }
   ],
   "source": [
    "subset(df,subset = edad < 20)"
   ]
  },
  {
   "cell_type": "code",
   "execution_count": 36,
   "id": "d3465744",
   "metadata": {},
   "outputs": [
    {
     "data": {
      "text/html": [
       "<table class=\"dataframe\">\n",
       "<caption>A data.frame: 2 × 3</caption>\n",
       "<thead>\n",
       "\t<tr><th></th><th scope=col>edad</th><th scope=col>deporte</th><th scope=col>comic_fav</th></tr>\n",
       "\t<tr><th></th><th scope=col>&lt;dbl&gt;</th><th scope=col>&lt;lgl&gt;</th><th scope=col>&lt;chr&gt;</th></tr>\n",
       "</thead>\n",
       "<tbody>\n",
       "\t<tr><th scope=row>1</th><td>15</td><td>TRUE</td><td>NA      </td></tr>\n",
       "\t<tr><th scope=row>2</th><td>19</td><td>TRUE</td><td>Superman</td></tr>\n",
       "</tbody>\n",
       "</table>\n"
      ],
      "text/latex": [
       "A data.frame: 2 × 3\n",
       "\\begin{tabular}{r|lll}\n",
       "  & edad & deporte & comic\\_fav\\\\\n",
       "  & <dbl> & <lgl> & <chr>\\\\\n",
       "\\hline\n",
       "\t1 & 15 & TRUE & NA      \\\\\n",
       "\t2 & 19 & TRUE & Superman\\\\\n",
       "\\end{tabular}\n"
      ],
      "text/markdown": [
       "\n",
       "A data.frame: 2 × 3\n",
       "\n",
       "| <!--/--> | edad &lt;dbl&gt; | deporte &lt;lgl&gt; | comic_fav &lt;chr&gt; |\n",
       "|---|---|---|---|\n",
       "| 1 | 15 | TRUE | NA       |\n",
       "| 2 | 19 | TRUE | Superman |\n",
       "\n"
      ],
      "text/plain": [
       "  edad deporte comic_fav\n",
       "1 15   TRUE    NA       \n",
       "2 19   TRUE    Superman "
      ]
     },
     "metadata": {},
     "output_type": "display_data"
    }
   ],
   "source": [
    "subset(df,subset = edad < 20 & deporte==TRUE)"
   ]
  },
  {
   "cell_type": "code",
   "execution_count": 37,
   "id": "b7eaad0f",
   "metadata": {},
   "outputs": [],
   "source": [
    "url <- 'https://raw.githubusercontent.com/fhernanb/datos/master/medidas_cuerpo'"
   ]
  },
  {
   "cell_type": "code",
   "execution_count": 38,
   "id": "271baa0f",
   "metadata": {},
   "outputs": [
    {
     "data": {
      "text/html": [
       "<table class=\"dataframe\">\n",
       "<caption>A data.frame: 36 × 6</caption>\n",
       "<thead>\n",
       "\t<tr><th scope=col>edad</th><th scope=col>peso</th><th scope=col>altura</th><th scope=col>sexo</th><th scope=col>muneca</th><th scope=col>biceps</th></tr>\n",
       "\t<tr><th scope=col>&lt;int&gt;</th><th scope=col>&lt;dbl&gt;</th><th scope=col>&lt;dbl&gt;</th><th scope=col>&lt;chr&gt;</th><th scope=col>&lt;dbl&gt;</th><th scope=col>&lt;dbl&gt;</th></tr>\n",
       "</thead>\n",
       "<tbody>\n",
       "\t<tr><td>43</td><td>87.3</td><td>188.0</td><td>Hombre</td><td>12.2</td><td>35.8</td></tr>\n",
       "\t<tr><td>65</td><td>80.0</td><td>174.0</td><td>Hombre</td><td>12.0</td><td>35.0</td></tr>\n",
       "\t<tr><td>45</td><td>82.3</td><td>176.5</td><td>Hombre</td><td>11.2</td><td>38.5</td></tr>\n",
       "\t<tr><td>37</td><td>73.6</td><td>180.3</td><td>Hombre</td><td>11.2</td><td>32.2</td></tr>\n",
       "\t<tr><td>55</td><td>74.1</td><td>167.6</td><td>Hombre</td><td>11.8</td><td>32.9</td></tr>\n",
       "\t<tr><td>33</td><td>85.9</td><td>188.0</td><td>Hombre</td><td>12.4</td><td>38.5</td></tr>\n",
       "\t<tr><td>25</td><td>73.2</td><td>180.3</td><td>Hombre</td><td>10.6</td><td>38.3</td></tr>\n",
       "\t<tr><td>35</td><td>76.3</td><td>167.6</td><td>Hombre</td><td>11.3</td><td>35.0</td></tr>\n",
       "\t<tr><td>28</td><td>65.9</td><td>183.0</td><td>Hombre</td><td>10.2</td><td>32.1</td></tr>\n",
       "\t<tr><td>26</td><td>90.9</td><td>183.0</td><td>Hombre</td><td>12.0</td><td>40.4</td></tr>\n",
       "\t<tr><td>43</td><td>89.1</td><td>179.1</td><td>Hombre</td><td>11.3</td><td>36.5</td></tr>\n",
       "\t<tr><td>30</td><td>62.3</td><td>170.2</td><td>Hombre</td><td>11.5</td><td>34.2</td></tr>\n",
       "\t<tr><td>26</td><td>82.7</td><td>177.8</td><td>Hombre</td><td>11.5</td><td>35.2</td></tr>\n",
       "\t<tr><td>51</td><td>79.1</td><td>179.1</td><td>Hombre</td><td>11.8</td><td>34.0</td></tr>\n",
       "\t<tr><td>30</td><td>98.2</td><td>190.5</td><td>Hombre</td><td>10.7</td><td>34.8</td></tr>\n",
       "\t<tr><td>24</td><td>84.1</td><td>177.8</td><td>Hombre</td><td>11.5</td><td>38.6</td></tr>\n",
       "\t<tr><td>35</td><td>83.2</td><td>180.3</td><td>Hombre</td><td>11.1</td><td>36.4</td></tr>\n",
       "\t<tr><td>37</td><td>83.2</td><td>180.3</td><td>Hombre</td><td>10.5</td><td>34.0</td></tr>\n",
       "\t<tr><td>22</td><td>51.6</td><td>161.2</td><td>Mujer </td><td> 9.2</td><td>24.3</td></tr>\n",
       "\t<tr><td>20</td><td>59.0</td><td>167.5</td><td>Mujer </td><td> 9.9</td><td>27.8</td></tr>\n",
       "\t<tr><td>19</td><td>49.2</td><td>159.5</td><td>Mujer </td><td> 8.9</td><td>24.0</td></tr>\n",
       "\t<tr><td>25</td><td>63.0</td><td>157.0</td><td>Mujer </td><td> 9.5</td><td>28.0</td></tr>\n",
       "\t<tr><td>21</td><td>53.6</td><td>155.8</td><td>Mujer </td><td> 9.1</td><td>26.9</td></tr>\n",
       "\t<tr><td>23</td><td>59.0</td><td>170.0</td><td>Mujer </td><td>10.0</td><td>26.5</td></tr>\n",
       "\t<tr><td>26</td><td>47.6</td><td>159.1</td><td>Mujer </td><td> 9.4</td><td>24.1</td></tr>\n",
       "\t<tr><td>22</td><td>69.8</td><td>166.0</td><td>Mujer </td><td>10.7</td><td>29.2</td></tr>\n",
       "\t<tr><td>28</td><td>66.8</td><td>176.2</td><td>Mujer </td><td> 9.8</td><td>29.0</td></tr>\n",
       "\t<tr><td>40</td><td>75.2</td><td>160.2</td><td>Mujer </td><td>11.5</td><td>33.6</td></tr>\n",
       "\t<tr><td>32</td><td>55.2</td><td>172.5</td><td>Mujer </td><td> 8.6</td><td>24.8</td></tr>\n",
       "\t<tr><td>25</td><td>54.2</td><td>170.9</td><td>Mujer </td><td> 9.7</td><td>25.4</td></tr>\n",
       "\t<tr><td>25</td><td>62.5</td><td>172.9</td><td>Mujer </td><td> 9.2</td><td>25.9</td></tr>\n",
       "\t<tr><td>29</td><td>42.0</td><td>153.4</td><td>Mujer </td><td> 8.3</td><td>24.0</td></tr>\n",
       "\t<tr><td>22</td><td>50.0</td><td>160.0</td><td>Mujer </td><td> 8.6</td><td>25.6</td></tr>\n",
       "\t<tr><td>25</td><td>49.8</td><td>147.2</td><td>Mujer </td><td> 9.0</td><td>26.0</td></tr>\n",
       "\t<tr><td>23</td><td>49.2</td><td>168.2</td><td>Mujer </td><td> 9.6</td><td>23.5</td></tr>\n",
       "\t<tr><td>37</td><td>73.2</td><td>175.0</td><td>Mujer </td><td>11.0</td><td>31.0</td></tr>\n",
       "</tbody>\n",
       "</table>\n"
      ],
      "text/latex": [
       "A data.frame: 36 × 6\n",
       "\\begin{tabular}{llllll}\n",
       " edad & peso & altura & sexo & muneca & biceps\\\\\n",
       " <int> & <dbl> & <dbl> & <chr> & <dbl> & <dbl>\\\\\n",
       "\\hline\n",
       "\t 43 & 87.3 & 188.0 & Hombre & 12.2 & 35.8\\\\\n",
       "\t 65 & 80.0 & 174.0 & Hombre & 12.0 & 35.0\\\\\n",
       "\t 45 & 82.3 & 176.5 & Hombre & 11.2 & 38.5\\\\\n",
       "\t 37 & 73.6 & 180.3 & Hombre & 11.2 & 32.2\\\\\n",
       "\t 55 & 74.1 & 167.6 & Hombre & 11.8 & 32.9\\\\\n",
       "\t 33 & 85.9 & 188.0 & Hombre & 12.4 & 38.5\\\\\n",
       "\t 25 & 73.2 & 180.3 & Hombre & 10.6 & 38.3\\\\\n",
       "\t 35 & 76.3 & 167.6 & Hombre & 11.3 & 35.0\\\\\n",
       "\t 28 & 65.9 & 183.0 & Hombre & 10.2 & 32.1\\\\\n",
       "\t 26 & 90.9 & 183.0 & Hombre & 12.0 & 40.4\\\\\n",
       "\t 43 & 89.1 & 179.1 & Hombre & 11.3 & 36.5\\\\\n",
       "\t 30 & 62.3 & 170.2 & Hombre & 11.5 & 34.2\\\\\n",
       "\t 26 & 82.7 & 177.8 & Hombre & 11.5 & 35.2\\\\\n",
       "\t 51 & 79.1 & 179.1 & Hombre & 11.8 & 34.0\\\\\n",
       "\t 30 & 98.2 & 190.5 & Hombre & 10.7 & 34.8\\\\\n",
       "\t 24 & 84.1 & 177.8 & Hombre & 11.5 & 38.6\\\\\n",
       "\t 35 & 83.2 & 180.3 & Hombre & 11.1 & 36.4\\\\\n",
       "\t 37 & 83.2 & 180.3 & Hombre & 10.5 & 34.0\\\\\n",
       "\t 22 & 51.6 & 161.2 & Mujer  &  9.2 & 24.3\\\\\n",
       "\t 20 & 59.0 & 167.5 & Mujer  &  9.9 & 27.8\\\\\n",
       "\t 19 & 49.2 & 159.5 & Mujer  &  8.9 & 24.0\\\\\n",
       "\t 25 & 63.0 & 157.0 & Mujer  &  9.5 & 28.0\\\\\n",
       "\t 21 & 53.6 & 155.8 & Mujer  &  9.1 & 26.9\\\\\n",
       "\t 23 & 59.0 & 170.0 & Mujer  & 10.0 & 26.5\\\\\n",
       "\t 26 & 47.6 & 159.1 & Mujer  &  9.4 & 24.1\\\\\n",
       "\t 22 & 69.8 & 166.0 & Mujer  & 10.7 & 29.2\\\\\n",
       "\t 28 & 66.8 & 176.2 & Mujer  &  9.8 & 29.0\\\\\n",
       "\t 40 & 75.2 & 160.2 & Mujer  & 11.5 & 33.6\\\\\n",
       "\t 32 & 55.2 & 172.5 & Mujer  &  8.6 & 24.8\\\\\n",
       "\t 25 & 54.2 & 170.9 & Mujer  &  9.7 & 25.4\\\\\n",
       "\t 25 & 62.5 & 172.9 & Mujer  &  9.2 & 25.9\\\\\n",
       "\t 29 & 42.0 & 153.4 & Mujer  &  8.3 & 24.0\\\\\n",
       "\t 22 & 50.0 & 160.0 & Mujer  &  8.6 & 25.6\\\\\n",
       "\t 25 & 49.8 & 147.2 & Mujer  &  9.0 & 26.0\\\\\n",
       "\t 23 & 49.2 & 168.2 & Mujer  &  9.6 & 23.5\\\\\n",
       "\t 37 & 73.2 & 175.0 & Mujer  & 11.0 & 31.0\\\\\n",
       "\\end{tabular}\n"
      ],
      "text/markdown": [
       "\n",
       "A data.frame: 36 × 6\n",
       "\n",
       "| edad &lt;int&gt; | peso &lt;dbl&gt; | altura &lt;dbl&gt; | sexo &lt;chr&gt; | muneca &lt;dbl&gt; | biceps &lt;dbl&gt; |\n",
       "|---|---|---|---|---|---|\n",
       "| 43 | 87.3 | 188.0 | Hombre | 12.2 | 35.8 |\n",
       "| 65 | 80.0 | 174.0 | Hombre | 12.0 | 35.0 |\n",
       "| 45 | 82.3 | 176.5 | Hombre | 11.2 | 38.5 |\n",
       "| 37 | 73.6 | 180.3 | Hombre | 11.2 | 32.2 |\n",
       "| 55 | 74.1 | 167.6 | Hombre | 11.8 | 32.9 |\n",
       "| 33 | 85.9 | 188.0 | Hombre | 12.4 | 38.5 |\n",
       "| 25 | 73.2 | 180.3 | Hombre | 10.6 | 38.3 |\n",
       "| 35 | 76.3 | 167.6 | Hombre | 11.3 | 35.0 |\n",
       "| 28 | 65.9 | 183.0 | Hombre | 10.2 | 32.1 |\n",
       "| 26 | 90.9 | 183.0 | Hombre | 12.0 | 40.4 |\n",
       "| 43 | 89.1 | 179.1 | Hombre | 11.3 | 36.5 |\n",
       "| 30 | 62.3 | 170.2 | Hombre | 11.5 | 34.2 |\n",
       "| 26 | 82.7 | 177.8 | Hombre | 11.5 | 35.2 |\n",
       "| 51 | 79.1 | 179.1 | Hombre | 11.8 | 34.0 |\n",
       "| 30 | 98.2 | 190.5 | Hombre | 10.7 | 34.8 |\n",
       "| 24 | 84.1 | 177.8 | Hombre | 11.5 | 38.6 |\n",
       "| 35 | 83.2 | 180.3 | Hombre | 11.1 | 36.4 |\n",
       "| 37 | 83.2 | 180.3 | Hombre | 10.5 | 34.0 |\n",
       "| 22 | 51.6 | 161.2 | Mujer  |  9.2 | 24.3 |\n",
       "| 20 | 59.0 | 167.5 | Mujer  |  9.9 | 27.8 |\n",
       "| 19 | 49.2 | 159.5 | Mujer  |  8.9 | 24.0 |\n",
       "| 25 | 63.0 | 157.0 | Mujer  |  9.5 | 28.0 |\n",
       "| 21 | 53.6 | 155.8 | Mujer  |  9.1 | 26.9 |\n",
       "| 23 | 59.0 | 170.0 | Mujer  | 10.0 | 26.5 |\n",
       "| 26 | 47.6 | 159.1 | Mujer  |  9.4 | 24.1 |\n",
       "| 22 | 69.8 | 166.0 | Mujer  | 10.7 | 29.2 |\n",
       "| 28 | 66.8 | 176.2 | Mujer  |  9.8 | 29.0 |\n",
       "| 40 | 75.2 | 160.2 | Mujer  | 11.5 | 33.6 |\n",
       "| 32 | 55.2 | 172.5 | Mujer  |  8.6 | 24.8 |\n",
       "| 25 | 54.2 | 170.9 | Mujer  |  9.7 | 25.4 |\n",
       "| 25 | 62.5 | 172.9 | Mujer  |  9.2 | 25.9 |\n",
       "| 29 | 42.0 | 153.4 | Mujer  |  8.3 | 24.0 |\n",
       "| 22 | 50.0 | 160.0 | Mujer  |  8.6 | 25.6 |\n",
       "| 25 | 49.8 | 147.2 | Mujer  |  9.0 | 26.0 |\n",
       "| 23 | 49.2 | 168.2 | Mujer  |  9.6 | 23.5 |\n",
       "| 37 | 73.2 | 175.0 | Mujer  | 11.0 | 31.0 |\n",
       "\n"
      ],
      "text/plain": [
       "   edad peso altura sexo   muneca biceps\n",
       "1  43   87.3 188.0  Hombre 12.2   35.8  \n",
       "2  65   80.0 174.0  Hombre 12.0   35.0  \n",
       "3  45   82.3 176.5  Hombre 11.2   38.5  \n",
       "4  37   73.6 180.3  Hombre 11.2   32.2  \n",
       "5  55   74.1 167.6  Hombre 11.8   32.9  \n",
       "6  33   85.9 188.0  Hombre 12.4   38.5  \n",
       "7  25   73.2 180.3  Hombre 10.6   38.3  \n",
       "8  35   76.3 167.6  Hombre 11.3   35.0  \n",
       "9  28   65.9 183.0  Hombre 10.2   32.1  \n",
       "10 26   90.9 183.0  Hombre 12.0   40.4  \n",
       "11 43   89.1 179.1  Hombre 11.3   36.5  \n",
       "12 30   62.3 170.2  Hombre 11.5   34.2  \n",
       "13 26   82.7 177.8  Hombre 11.5   35.2  \n",
       "14 51   79.1 179.1  Hombre 11.8   34.0  \n",
       "15 30   98.2 190.5  Hombre 10.7   34.8  \n",
       "16 24   84.1 177.8  Hombre 11.5   38.6  \n",
       "17 35   83.2 180.3  Hombre 11.1   36.4  \n",
       "18 37   83.2 180.3  Hombre 10.5   34.0  \n",
       "19 22   51.6 161.2  Mujer   9.2   24.3  \n",
       "20 20   59.0 167.5  Mujer   9.9   27.8  \n",
       "21 19   49.2 159.5  Mujer   8.9   24.0  \n",
       "22 25   63.0 157.0  Mujer   9.5   28.0  \n",
       "23 21   53.6 155.8  Mujer   9.1   26.9  \n",
       "24 23   59.0 170.0  Mujer  10.0   26.5  \n",
       "25 26   47.6 159.1  Mujer   9.4   24.1  \n",
       "26 22   69.8 166.0  Mujer  10.7   29.2  \n",
       "27 28   66.8 176.2  Mujer   9.8   29.0  \n",
       "28 40   75.2 160.2  Mujer  11.5   33.6  \n",
       "29 32   55.2 172.5  Mujer   8.6   24.8  \n",
       "30 25   54.2 170.9  Mujer   9.7   25.4  \n",
       "31 25   62.5 172.9  Mujer   9.2   25.9  \n",
       "32 29   42.0 153.4  Mujer   8.3   24.0  \n",
       "33 22   50.0 160.0  Mujer   8.6   25.6  \n",
       "34 25   49.8 147.2  Mujer   9.0   26.0  \n",
       "35 23   49.2 168.2  Mujer   9.6   23.5  \n",
       "36 37   73.2 175.0  Mujer  11.0   31.0  "
      ]
     },
     "metadata": {},
     "output_type": "display_data"
    }
   ],
   "source": [
    "df1 <- read.table(url,header=T)\n",
    "df1"
   ]
  },
  {
   "cell_type": "code",
   "execution_count": 39,
   "id": "c5e7c6f1",
   "metadata": {},
   "outputs": [
    {
     "data": {
      "text/html": [
       "<style>\n",
       ".list-inline {list-style: none; margin:0; padding: 0}\n",
       ".list-inline>li {display: inline-block}\n",
       ".list-inline>li:not(:last-child)::after {content: \"\\00b7\"; padding: 0 .5ex}\n",
       "</style>\n",
       "<ol class=list-inline><li>36</li><li>6</li></ol>\n"
      ],
      "text/latex": [
       "\\begin{enumerate*}\n",
       "\\item 36\n",
       "\\item 6\n",
       "\\end{enumerate*}\n"
      ],
      "text/markdown": [
       "1. 36\n",
       "2. 6\n",
       "\n",
       "\n"
      ],
      "text/plain": [
       "[1] 36  6"
      ]
     },
     "metadata": {},
     "output_type": "display_data"
    }
   ],
   "source": [
    "dim(df1) #para conocer la dimensión original"
   ]
  },
  {
   "cell_type": "code",
   "execution_count": 40,
   "id": "825d22e5",
   "metadata": {},
   "outputs": [
    {
     "data": {
      "text/html": [
       "<table class=\"dataframe\">\n",
       "<caption>A data.frame: 3 × 6</caption>\n",
       "<thead>\n",
       "\t<tr><th></th><th scope=col>edad</th><th scope=col>peso</th><th scope=col>altura</th><th scope=col>sexo</th><th scope=col>muneca</th><th scope=col>biceps</th></tr>\n",
       "\t<tr><th></th><th scope=col>&lt;int&gt;</th><th scope=col>&lt;dbl&gt;</th><th scope=col>&lt;dbl&gt;</th><th scope=col>&lt;chr&gt;</th><th scope=col>&lt;dbl&gt;</th><th scope=col>&lt;dbl&gt;</th></tr>\n",
       "</thead>\n",
       "<tbody>\n",
       "\t<tr><th scope=row>1</th><td>43</td><td>87.3</td><td>188.0</td><td>Hombre</td><td>12.2</td><td>35.8</td></tr>\n",
       "\t<tr><th scope=row>6</th><td>33</td><td>85.9</td><td>188.0</td><td>Hombre</td><td>12.4</td><td>38.5</td></tr>\n",
       "\t<tr><th scope=row>15</th><td>30</td><td>98.2</td><td>190.5</td><td>Hombre</td><td>10.7</td><td>34.8</td></tr>\n",
       "</tbody>\n",
       "</table>\n"
      ],
      "text/latex": [
       "A data.frame: 3 × 6\n",
       "\\begin{tabular}{r|llllll}\n",
       "  & edad & peso & altura & sexo & muneca & biceps\\\\\n",
       "  & <int> & <dbl> & <dbl> & <chr> & <dbl> & <dbl>\\\\\n",
       "\\hline\n",
       "\t1 & 43 & 87.3 & 188.0 & Hombre & 12.2 & 35.8\\\\\n",
       "\t6 & 33 & 85.9 & 188.0 & Hombre & 12.4 & 38.5\\\\\n",
       "\t15 & 30 & 98.2 & 190.5 & Hombre & 10.7 & 34.8\\\\\n",
       "\\end{tabular}\n"
      ],
      "text/markdown": [
       "\n",
       "A data.frame: 3 × 6\n",
       "\n",
       "| <!--/--> | edad &lt;int&gt; | peso &lt;dbl&gt; | altura &lt;dbl&gt; | sexo &lt;chr&gt; | muneca &lt;dbl&gt; | biceps &lt;dbl&gt; |\n",
       "|---|---|---|---|---|---|---|\n",
       "| 1 | 43 | 87.3 | 188.0 | Hombre | 12.2 | 35.8 |\n",
       "| 6 | 33 | 85.9 | 188.0 | Hombre | 12.4 | 38.5 |\n",
       "| 15 | 30 | 98.2 | 190.5 | Hombre | 10.7 | 34.8 |\n",
       "\n"
      ],
      "text/plain": [
       "   edad peso altura sexo   muneca biceps\n",
       "1  43   87.3 188.0  Hombre 12.2   35.8  \n",
       "6  33   85.9 188.0  Hombre 12.4   38.5  \n",
       "15 30   98.2 190.5  Hombre 10.7   34.8  "
      ]
     },
     "metadata": {},
     "output_type": "display_data"
    }
   ],
   "source": [
    "subset(df1,subset = peso>80.0 & altura>185.0)"
   ]
  },
  {
   "cell_type": "code",
   "execution_count": 42,
   "id": "d1b00f0b",
   "metadata": {},
   "outputs": [
    {
     "data": {
      "text/html": [
       "<table class=\"dataframe\">\n",
       "<caption>A data.frame: 17 × 3</caption>\n",
       "<thead>\n",
       "\t<tr><th></th><th scope=col>peso</th><th scope=col>altura</th><th scope=col>sexo</th></tr>\n",
       "\t<tr><th></th><th scope=col>&lt;dbl&gt;</th><th scope=col>&lt;dbl&gt;</th><th scope=col>&lt;chr&gt;</th></tr>\n",
       "</thead>\n",
       "<tbody>\n",
       "\t<tr><th scope=row>9</th><td>65.9</td><td>183.0</td><td>Hombre</td></tr>\n",
       "\t<tr><th scope=row>12</th><td>62.3</td><td>170.2</td><td>Hombre</td></tr>\n",
       "\t<tr><th scope=row>19</th><td>51.6</td><td>161.2</td><td>Mujer </td></tr>\n",
       "\t<tr><th scope=row>20</th><td>59.0</td><td>167.5</td><td>Mujer </td></tr>\n",
       "\t<tr><th scope=row>21</th><td>49.2</td><td>159.5</td><td>Mujer </td></tr>\n",
       "\t<tr><th scope=row>22</th><td>63.0</td><td>157.0</td><td>Mujer </td></tr>\n",
       "\t<tr><th scope=row>23</th><td>53.6</td><td>155.8</td><td>Mujer </td></tr>\n",
       "\t<tr><th scope=row>24</th><td>59.0</td><td>170.0</td><td>Mujer </td></tr>\n",
       "\t<tr><th scope=row>25</th><td>47.6</td><td>159.1</td><td>Mujer </td></tr>\n",
       "\t<tr><th scope=row>27</th><td>66.8</td><td>176.2</td><td>Mujer </td></tr>\n",
       "\t<tr><th scope=row>29</th><td>55.2</td><td>172.5</td><td>Mujer </td></tr>\n",
       "\t<tr><th scope=row>30</th><td>54.2</td><td>170.9</td><td>Mujer </td></tr>\n",
       "\t<tr><th scope=row>31</th><td>62.5</td><td>172.9</td><td>Mujer </td></tr>\n",
       "\t<tr><th scope=row>32</th><td>42.0</td><td>153.4</td><td>Mujer </td></tr>\n",
       "\t<tr><th scope=row>33</th><td>50.0</td><td>160.0</td><td>Mujer </td></tr>\n",
       "\t<tr><th scope=row>34</th><td>49.8</td><td>147.2</td><td>Mujer </td></tr>\n",
       "\t<tr><th scope=row>35</th><td>49.2</td><td>168.2</td><td>Mujer </td></tr>\n",
       "</tbody>\n",
       "</table>\n"
      ],
      "text/latex": [
       "A data.frame: 17 × 3\n",
       "\\begin{tabular}{r|lll}\n",
       "  & peso & altura & sexo\\\\\n",
       "  & <dbl> & <dbl> & <chr>\\\\\n",
       "\\hline\n",
       "\t9 & 65.9 & 183.0 & Hombre\\\\\n",
       "\t12 & 62.3 & 170.2 & Hombre\\\\\n",
       "\t19 & 51.6 & 161.2 & Mujer \\\\\n",
       "\t20 & 59.0 & 167.5 & Mujer \\\\\n",
       "\t21 & 49.2 & 159.5 & Mujer \\\\\n",
       "\t22 & 63.0 & 157.0 & Mujer \\\\\n",
       "\t23 & 53.6 & 155.8 & Mujer \\\\\n",
       "\t24 & 59.0 & 170.0 & Mujer \\\\\n",
       "\t25 & 47.6 & 159.1 & Mujer \\\\\n",
       "\t27 & 66.8 & 176.2 & Mujer \\\\\n",
       "\t29 & 55.2 & 172.5 & Mujer \\\\\n",
       "\t30 & 54.2 & 170.9 & Mujer \\\\\n",
       "\t31 & 62.5 & 172.9 & Mujer \\\\\n",
       "\t32 & 42.0 & 153.4 & Mujer \\\\\n",
       "\t33 & 50.0 & 160.0 & Mujer \\\\\n",
       "\t34 & 49.8 & 147.2 & Mujer \\\\\n",
       "\t35 & 49.2 & 168.2 & Mujer \\\\\n",
       "\\end{tabular}\n"
      ],
      "text/markdown": [
       "\n",
       "A data.frame: 17 × 3\n",
       "\n",
       "| <!--/--> | peso &lt;dbl&gt; | altura &lt;dbl&gt; | sexo &lt;chr&gt; |\n",
       "|---|---|---|---|\n",
       "| 9 | 65.9 | 183.0 | Hombre |\n",
       "| 12 | 62.3 | 170.2 | Hombre |\n",
       "| 19 | 51.6 | 161.2 | Mujer  |\n",
       "| 20 | 59.0 | 167.5 | Mujer  |\n",
       "| 21 | 49.2 | 159.5 | Mujer  |\n",
       "| 22 | 63.0 | 157.0 | Mujer  |\n",
       "| 23 | 53.6 | 155.8 | Mujer  |\n",
       "| 24 | 59.0 | 170.0 | Mujer  |\n",
       "| 25 | 47.6 | 159.1 | Mujer  |\n",
       "| 27 | 66.8 | 176.2 | Mujer  |\n",
       "| 29 | 55.2 | 172.5 | Mujer  |\n",
       "| 30 | 54.2 | 170.9 | Mujer  |\n",
       "| 31 | 62.5 | 172.9 | Mujer  |\n",
       "| 32 | 42.0 | 153.4 | Mujer  |\n",
       "| 33 | 50.0 | 160.0 | Mujer  |\n",
       "| 34 | 49.8 | 147.2 | Mujer  |\n",
       "| 35 | 49.2 | 168.2 | Mujer  |\n",
       "\n"
      ],
      "text/plain": [
       "   peso altura sexo  \n",
       "9  65.9 183.0  Hombre\n",
       "12 62.3 170.2  Hombre\n",
       "19 51.6 161.2  Mujer \n",
       "20 59.0 167.5  Mujer \n",
       "21 49.2 159.5  Mujer \n",
       "22 63.0 157.0  Mujer \n",
       "23 53.6 155.8  Mujer \n",
       "24 59.0 170.0  Mujer \n",
       "25 47.6 159.1  Mujer \n",
       "27 66.8 176.2  Mujer \n",
       "29 55.2 172.5  Mujer \n",
       "30 54.2 170.9  Mujer \n",
       "31 62.5 172.9  Mujer \n",
       "32 42.0 153.4  Mujer \n",
       "33 50.0 160.0  Mujer \n",
       "34 49.8 147.2  Mujer \n",
       "35 49.2 168.2  Mujer "
      ]
     },
     "metadata": {},
     "output_type": "display_data"
    }
   ],
   "source": [
    "media <- mean(df1$peso)\n",
    "subset(df1,subset = peso<media,select = c('peso','altura','sexo'))"
   ]
  },
  {
   "cell_type": "markdown",
   "id": "d6086da4",
   "metadata": {},
   "source": [
    "# Lista \"El objeto más flexible de R\""
   ]
  },
  {
   "cell_type": "code",
   "execution_count": 43,
   "id": "b4bbb1ae",
   "metadata": {},
   "outputs": [],
   "source": [
    "lista <- list()"
   ]
  },
  {
   "cell_type": "code",
   "execution_count": 44,
   "id": "203e163f",
   "metadata": {},
   "outputs": [
    {
     "data": {
      "text/html": [
       "'list'"
      ],
      "text/latex": [
       "'list'"
      ],
      "text/markdown": [
       "'list'"
      ],
      "text/plain": [
       "[1] \"list\""
      ]
     },
     "metadata": {},
     "output_type": "display_data"
    }
   ],
   "source": [
    "class(lista)"
   ]
  },
  {
   "cell_type": "code",
   "execution_count": 49,
   "id": "16a41f6b",
   "metadata": {},
   "outputs": [],
   "source": [
    "lista$objeto1 <- 1:25\n",
    "lista$objeto2 <- \"Alejandro\"\n",
    "lista$objeto3 <- M[1:4,c(\"Material\",\"Texto breve de material\")]"
   ]
  },
  {
   "cell_type": "code",
   "execution_count": 50,
   "id": "5df64759",
   "metadata": {},
   "outputs": [
    {
     "data": {
      "text/html": [
       "<dl>\n",
       "\t<dt>$objeto1</dt>\n",
       "\t\t<dd><style>\n",
       ".list-inline {list-style: none; margin:0; padding: 0}\n",
       ".list-inline>li {display: inline-block}\n",
       ".list-inline>li:not(:last-child)::after {content: \"\\00b7\"; padding: 0 .5ex}\n",
       "</style>\n",
       "<ol class=list-inline><li>1</li><li>2</li><li>3</li><li>4</li><li>5</li><li>6</li><li>7</li><li>8</li><li>9</li><li>10</li><li>11</li><li>12</li><li>13</li><li>14</li><li>15</li><li>16</li><li>17</li><li>18</li><li>19</li><li>20</li><li>21</li><li>22</li><li>23</li><li>24</li><li>25</li></ol>\n",
       "</dd>\n",
       "\t<dt>$objeto2</dt>\n",
       "\t\t<dd>'Alejandro'</dd>\n",
       "\t<dt>$objeto3</dt>\n",
       "\t\t<dd><table class=\"dataframe\">\n",
       "<caption>A tibble: 4 × 2</caption>\n",
       "<thead>\n",
       "\t<tr><th scope=col>Material</th><th scope=col>Texto breve de material</th></tr>\n",
       "\t<tr><th scope=col>&lt;chr&gt;</th><th scope=col>&lt;chr&gt;</th></tr>\n",
       "</thead>\n",
       "<tbody>\n",
       "\t<tr><td>1011796</td><td>LAMPARA BAJO CONSUMO 85W ROSCA E40 220V </td></tr>\n",
       "\t<tr><td>1033865</td><td>JUNTA SELLANTE GORE TEX DE 3/4\" x 9,14 M</td></tr>\n",
       "\t<tr><td>1000007</td><td>BACTERICIDA BUSSAN 881                  </td></tr>\n",
       "\t<tr><td>1000008</td><td>CAL HIDRATADA. ENV. 1000 KG.            </td></tr>\n",
       "</tbody>\n",
       "</table>\n",
       "</dd>\n",
       "</dl>\n"
      ],
      "text/latex": [
       "\\begin{description}\n",
       "\\item[\\$objeto1] \\begin{enumerate*}\n",
       "\\item 1\n",
       "\\item 2\n",
       "\\item 3\n",
       "\\item 4\n",
       "\\item 5\n",
       "\\item 6\n",
       "\\item 7\n",
       "\\item 8\n",
       "\\item 9\n",
       "\\item 10\n",
       "\\item 11\n",
       "\\item 12\n",
       "\\item 13\n",
       "\\item 14\n",
       "\\item 15\n",
       "\\item 16\n",
       "\\item 17\n",
       "\\item 18\n",
       "\\item 19\n",
       "\\item 20\n",
       "\\item 21\n",
       "\\item 22\n",
       "\\item 23\n",
       "\\item 24\n",
       "\\item 25\n",
       "\\end{enumerate*}\n",
       "\n",
       "\\item[\\$objeto2] 'Alejandro'\n",
       "\\item[\\$objeto3] A tibble: 4 × 2\n",
       "\\begin{tabular}{ll}\n",
       " Material & Texto breve de material\\\\\n",
       " <chr> & <chr>\\\\\n",
       "\\hline\n",
       "\t 1011796 & LAMPARA BAJO CONSUMO 85W ROSCA E40 220V \\\\\n",
       "\t 1033865 & JUNTA SELLANTE GORE TEX DE 3/4\" x 9,14 M\\\\\n",
       "\t 1000007 & BACTERICIDA BUSSAN 881                  \\\\\n",
       "\t 1000008 & CAL HIDRATADA. ENV. 1000 KG.            \\\\\n",
       "\\end{tabular}\n",
       "\n",
       "\\end{description}\n"
      ],
      "text/markdown": [
       "$objeto1\n",
       ":   1. 1\n",
       "2. 2\n",
       "3. 3\n",
       "4. 4\n",
       "5. 5\n",
       "6. 6\n",
       "7. 7\n",
       "8. 8\n",
       "9. 9\n",
       "10. 10\n",
       "11. 11\n",
       "12. 12\n",
       "13. 13\n",
       "14. 14\n",
       "15. 15\n",
       "16. 16\n",
       "17. 17\n",
       "18. 18\n",
       "19. 19\n",
       "20. 20\n",
       "21. 21\n",
       "22. 22\n",
       "23. 23\n",
       "24. 24\n",
       "25. 25\n",
       "\n",
       "\n",
       "\n",
       "$objeto2\n",
       ":   'Alejandro'\n",
       "$objeto3\n",
       ":   \n",
       "A tibble: 4 × 2\n",
       "\n",
       "| Material &lt;chr&gt; | Texto breve de material &lt;chr&gt; |\n",
       "|---|---|\n",
       "| 1011796 | LAMPARA BAJO CONSUMO 85W ROSCA E40 220V  |\n",
       "| 1033865 | JUNTA SELLANTE GORE TEX DE 3/4\" x 9,14 M |\n",
       "| 1000007 | BACTERICIDA BUSSAN 881                   |\n",
       "| 1000008 | CAL HIDRATADA. ENV. 1000 KG.             |\n",
       "\n",
       "\n",
       "\n",
       "\n"
      ],
      "text/plain": [
       "$objeto1\n",
       " [1]  1  2  3  4  5  6  7  8  9 10 11 12 13 14 15 16 17 18 19 20 21 22 23 24 25\n",
       "\n",
       "$objeto2\n",
       "[1] \"Alejandro\"\n",
       "\n",
       "$objeto3\n",
       "\u001b[90m# A tibble: 4 x 2\u001b[39m\n",
       "  Material `Texto breve de material`                  \n",
       "  \u001b[3m\u001b[90m<chr>\u001b[39m\u001b[23m    \u001b[3m\u001b[90m<chr>\u001b[39m\u001b[23m                                      \n",
       "\u001b[90m1\u001b[39m 1011796  \u001b[90m\"\u001b[39mLAMPARA BAJO CONSUMO 85W ROSCA E40 220V\u001b[90m\"\u001b[39m  \n",
       "\u001b[90m2\u001b[39m 1033865  \u001b[90m\"\u001b[39mJUNTA SELLANTE GORE TEX DE 3/4\\\" x 9,14 M\u001b[90m\"\u001b[39m\n",
       "\u001b[90m3\u001b[39m 1000007  \u001b[90m\"\u001b[39mBACTERICIDA BUSSAN 881\u001b[90m\"\u001b[39m                   \n",
       "\u001b[90m4\u001b[39m 1000008  \u001b[90m\"\u001b[39mCAL HIDRATADA. ENV. 1000 KG.\u001b[90m\"\u001b[39m             \n"
      ]
     },
     "metadata": {},
     "output_type": "display_data"
    }
   ],
   "source": [
    "lista"
   ]
  },
  {
   "cell_type": "code",
   "execution_count": 51,
   "id": "418bf457",
   "metadata": {},
   "outputs": [
    {
     "data": {
      "text/html": [
       "<style>\n",
       ".list-inline {list-style: none; margin:0; padding: 0}\n",
       ".list-inline>li {display: inline-block}\n",
       ".list-inline>li:not(:last-child)::after {content: \"\\00b7\"; padding: 0 .5ex}\n",
       "</style>\n",
       "<ol class=list-inline><li>1</li><li>2</li><li>3</li><li>4</li><li>5</li><li>6</li><li>7</li><li>8</li><li>9</li><li>10</li><li>11</li><li>12</li><li>13</li><li>14</li><li>15</li><li>16</li><li>17</li><li>18</li><li>19</li><li>20</li><li>21</li><li>22</li><li>23</li><li>24</li><li>25</li></ol>\n"
      ],
      "text/latex": [
       "\\begin{enumerate*}\n",
       "\\item 1\n",
       "\\item 2\n",
       "\\item 3\n",
       "\\item 4\n",
       "\\item 5\n",
       "\\item 6\n",
       "\\item 7\n",
       "\\item 8\n",
       "\\item 9\n",
       "\\item 10\n",
       "\\item 11\n",
       "\\item 12\n",
       "\\item 13\n",
       "\\item 14\n",
       "\\item 15\n",
       "\\item 16\n",
       "\\item 17\n",
       "\\item 18\n",
       "\\item 19\n",
       "\\item 20\n",
       "\\item 21\n",
       "\\item 22\n",
       "\\item 23\n",
       "\\item 24\n",
       "\\item 25\n",
       "\\end{enumerate*}\n"
      ],
      "text/markdown": [
       "1. 1\n",
       "2. 2\n",
       "3. 3\n",
       "4. 4\n",
       "5. 5\n",
       "6. 6\n",
       "7. 7\n",
       "8. 8\n",
       "9. 9\n",
       "10. 10\n",
       "11. 11\n",
       "12. 12\n",
       "13. 13\n",
       "14. 14\n",
       "15. 15\n",
       "16. 16\n",
       "17. 17\n",
       "18. 18\n",
       "19. 19\n",
       "20. 20\n",
       "21. 21\n",
       "22. 22\n",
       "23. 23\n",
       "24. 24\n",
       "25. 25\n",
       "\n",
       "\n"
      ],
      "text/plain": [
       " [1]  1  2  3  4  5  6  7  8  9 10 11 12 13 14 15 16 17 18 19 20 21 22 23 24 25"
      ]
     },
     "metadata": {},
     "output_type": "display_data"
    }
   ],
   "source": [
    "lista$objeto1"
   ]
  },
  {
   "cell_type": "code",
   "execution_count": 52,
   "id": "57ded6f3",
   "metadata": {},
   "outputs": [
    {
     "data": {
      "text/html": [
       "<style>\n",
       ".list-inline {list-style: none; margin:0; padding: 0}\n",
       ".list-inline>li {display: inline-block}\n",
       ".list-inline>li:not(:last-child)::after {content: \"\\00b7\"; padding: 0 .5ex}\n",
       "</style>\n",
       "<ol class=list-inline><li>3</li><li>4</li><li>5</li></ol>\n"
      ],
      "text/latex": [
       "\\begin{enumerate*}\n",
       "\\item 3\n",
       "\\item 4\n",
       "\\item 5\n",
       "\\end{enumerate*}\n"
      ],
      "text/markdown": [
       "1. 3\n",
       "2. 4\n",
       "3. 5\n",
       "\n",
       "\n"
      ],
      "text/plain": [
       "[1] 3 4 5"
      ]
     },
     "metadata": {},
     "output_type": "display_data"
    }
   ],
   "source": [
    "lista$objeto1[3:5]"
   ]
  },
  {
   "cell_type": "markdown",
   "id": "23d634ad",
   "metadata": {},
   "source": [
    "# Usando la consola"
   ]
  },
  {
   "cell_type": "code",
   "execution_count": null,
   "id": "d06aa061",
   "metadata": {},
   "outputs": [],
   "source": [
    "#Ejecutar dos expresiones en una línea\n",
    "a = 3 ; b = 5"
   ]
  },
  {
   "cell_type": "code",
   "execution_count": 54,
   "id": "59a7f6f3",
   "metadata": {},
   "outputs": [
    {
     "name": "stdout",
     "output_type": "stream",
     "text": [
      "Ingrese su nombre: ale\n"
     ]
    }
   ],
   "source": [
    "nombre <- readline(prompt=\"Ingrese su nombre: \")"
   ]
  },
  {
   "cell_type": "code",
   "execution_count": 55,
   "id": "8100327f",
   "metadata": {},
   "outputs": [
    {
     "data": {
      "text/html": [
       "'ale'"
      ],
      "text/latex": [
       "'ale'"
      ],
      "text/markdown": [
       "'ale'"
      ],
      "text/plain": [
       "[1] \"ale\""
      ]
     },
     "metadata": {},
     "output_type": "display_data"
    }
   ],
   "source": [
    "nombre"
   ]
  },
  {
   "cell_type": "code",
   "execution_count": 56,
   "id": "98692d39",
   "metadata": {},
   "outputs": [
    {
     "name": "stdout",
     "output_type": "stream",
     "text": [
      "Ingrese su edad:47\n"
     ]
    }
   ],
   "source": [
    "edad <- as.integer(readline(prompt=\"Ingrese su edad:\"))"
   ]
  },
  {
   "cell_type": "code",
   "execution_count": 58,
   "id": "23df839e",
   "metadata": {},
   "outputs": [
    {
     "data": {
      "text/html": [
       "'integer'"
      ],
      "text/latex": [
       "'integer'"
      ],
      "text/markdown": [
       "'integer'"
      ],
      "text/plain": [
       "[1] \"integer\""
      ]
     },
     "metadata": {},
     "output_type": "display_data"
    }
   ],
   "source": [
    "class(edad)"
   ]
  },
  {
   "cell_type": "markdown",
   "id": "75568e26",
   "metadata": {},
   "source": [
    "# Funciones\n",
    "* which.min: nos entrega la posición en donde está el valor mínimo del vector.<br>\n",
    "* which.max: nos da la posición del valor máximo del vector.\n",
    "* rev: invierte un vector.\n",
    "* sin, cos, tan, asin, acos, atan, atan2, log, logb, log10, exp, sqrt, abs"
   ]
  },
  {
   "cell_type": "code",
   "execution_count": 63,
   "id": "9b701743",
   "metadata": {},
   "outputs": [
    {
     "data": {
      "text/html": [
       "<style>\n",
       ".list-inline {list-style: none; margin:0; padding: 0}\n",
       ".list-inline>li {display: inline-block}\n",
       ".list-inline>li:not(:last-child)::after {content: \"\\00b7\"; padding: 0 .5ex}\n",
       "</style>\n",
       "<ol class=list-inline><li>0</li><li>1</li><li>1.22460635382238e-16</li></ol>\n"
      ],
      "text/latex": [
       "\\begin{enumerate*}\n",
       "\\item 0\n",
       "\\item 1\n",
       "\\item 1.22460635382238e-16\n",
       "\\end{enumerate*}\n"
      ],
      "text/markdown": [
       "1. 0\n",
       "2. 1\n",
       "3. 1.22460635382238e-16\n",
       "\n",
       "\n"
      ],
      "text/plain": [
       "[1] 0.000000e+00 1.000000e+00 1.224606e-16"
      ]
     },
     "metadata": {},
     "output_type": "display_data"
    }
   ],
   "source": [
    "angulos <- c(0, pi/2, pi)\n",
    "sin(angulos)"
   ]
  },
  {
   "cell_type": "code",
   "execution_count": 64,
   "id": "eed4aaf7",
   "metadata": {},
   "outputs": [
    {
     "data": {
      "text/html": [
       "3"
      ],
      "text/latex": [
       "3"
      ],
      "text/markdown": [
       "3"
      ],
      "text/plain": [
       "[1] 3"
      ]
     },
     "metadata": {},
     "output_type": "display_data"
    }
   ],
   "source": [
    "logb(125, base=5)"
   ]
  },
  {
   "cell_type": "markdown",
   "id": "7fdbc001",
   "metadata": {},
   "source": [
    "# Función seq"
   ]
  },
  {
   "cell_type": "code",
   "execution_count": 66,
   "id": "ac5252ca",
   "metadata": {},
   "outputs": [
    {
     "data": {
      "text/html": [
       "<style>\n",
       ".list-inline {list-style: none; margin:0; padding: 0}\n",
       ".list-inline>li {display: inline-block}\n",
       ".list-inline>li:not(:last-child)::after {content: \"\\00b7\"; padding: 0 .5ex}\n",
       "</style>\n",
       "<ol class=list-inline><li>0</li><li>0.1</li><li>0.2</li><li>0.3</li><li>0.4</li><li>0.5</li><li>0.6</li><li>0.7</li><li>0.8</li><li>0.9</li><li>1</li></ol>\n"
      ],
      "text/latex": [
       "\\begin{enumerate*}\n",
       "\\item 0\n",
       "\\item 0.1\n",
       "\\item 0.2\n",
       "\\item 0.3\n",
       "\\item 0.4\n",
       "\\item 0.5\n",
       "\\item 0.6\n",
       "\\item 0.7\n",
       "\\item 0.8\n",
       "\\item 0.9\n",
       "\\item 1\n",
       "\\end{enumerate*}\n"
      ],
      "text/markdown": [
       "1. 0\n",
       "2. 0.1\n",
       "3. 0.2\n",
       "4. 0.3\n",
       "5. 0.4\n",
       "6. 0.5\n",
       "7. 0.6\n",
       "8. 0.7\n",
       "9. 0.8\n",
       "10. 0.9\n",
       "11. 1\n",
       "\n",
       "\n"
      ],
      "text/plain": [
       " [1] 0.0 0.1 0.2 0.3 0.4 0.5 0.6 0.7 0.8 0.9 1.0"
      ]
     },
     "metadata": {},
     "output_type": "display_data"
    }
   ],
   "source": [
    "seq(from=0, to=1, length.out = 11)"
   ]
  },
  {
   "cell_type": "code",
   "execution_count": 67,
   "id": "47299eec",
   "metadata": {},
   "outputs": [
    {
     "data": {
      "text/html": [
       "<style>\n",
       ".list-inline {list-style: none; margin:0; padding: 0}\n",
       ".list-inline>li {display: inline-block}\n",
       ".list-inline>li:not(:last-child)::after {content: \"\\00b7\"; padding: 0 .5ex}\n",
       "</style>\n",
       "<ol class=list-inline><li>1</li><li>3</li><li>5</li><li>7</li><li>9</li></ol>\n"
      ],
      "text/latex": [
       "\\begin{enumerate*}\n",
       "\\item 1\n",
       "\\item 3\n",
       "\\item 5\n",
       "\\item 7\n",
       "\\item 9\n",
       "\\end{enumerate*}\n"
      ],
      "text/markdown": [
       "1. 1\n",
       "2. 3\n",
       "3. 5\n",
       "4. 7\n",
       "5. 9\n",
       "\n",
       "\n"
      ],
      "text/plain": [
       "[1] 1 3 5 7 9"
      ]
     },
     "metadata": {},
     "output_type": "display_data"
    }
   ],
   "source": [
    "seq(from=1, to=9, by=2)"
   ]
  },
  {
   "cell_type": "code",
   "execution_count": 68,
   "id": "f5b91e91",
   "metadata": {},
   "outputs": [
    {
     "data": {
      "text/html": [
       "<style>\n",
       ".list-inline {list-style: none; margin:0; padding: 0}\n",
       ".list-inline>li {display: inline-block}\n",
       ".list-inline>li:not(:last-child)::after {content: \"\\00b7\"; padding: 0 .5ex}\n",
       "</style>\n",
       "<ol class=list-inline><li>2</li><li>3</li><li>4</li><li>5</li><li>6</li><li>7</li><li>8</li></ol>\n"
      ],
      "text/latex": [
       "\\begin{enumerate*}\n",
       "\\item 2\n",
       "\\item 3\n",
       "\\item 4\n",
       "\\item 5\n",
       "\\item 6\n",
       "\\item 7\n",
       "\\item 8\n",
       "\\end{enumerate*}\n"
      ],
      "text/markdown": [
       "1. 2\n",
       "2. 3\n",
       "3. 4\n",
       "4. 5\n",
       "5. 6\n",
       "6. 7\n",
       "7. 8\n",
       "\n",
       "\n"
      ],
      "text/plain": [
       "[1] 2 3 4 5 6 7 8"
      ]
     },
     "metadata": {},
     "output_type": "display_data"
    }
   ],
   "source": [
    "2:8"
   ]
  },
  {
   "cell_type": "code",
   "execution_count": 69,
   "id": "d7b2826f",
   "metadata": {},
   "outputs": [
    {
     "data": {
      "text/html": [
       "<style>\n",
       ".list-inline {list-style: none; margin:0; padding: 0}\n",
       ".list-inline>li {display: inline-block}\n",
       ".list-inline>li:not(:last-child)::after {content: \"\\00b7\"; padding: 0 .5ex}\n",
       "</style>\n",
       "<ol class=list-inline><li>3</li><li>2</li><li>1</li><li>0</li><li>-1</li><li>-2</li><li>-3</li><li>-4</li><li>-5</li></ol>\n"
      ],
      "text/latex": [
       "\\begin{enumerate*}\n",
       "\\item 3\n",
       "\\item 2\n",
       "\\item 1\n",
       "\\item 0\n",
       "\\item -1\n",
       "\\item -2\n",
       "\\item -3\n",
       "\\item -4\n",
       "\\item -5\n",
       "\\end{enumerate*}\n"
      ],
      "text/markdown": [
       "1. 3\n",
       "2. 2\n",
       "3. 1\n",
       "4. 0\n",
       "5. -1\n",
       "6. -2\n",
       "7. -3\n",
       "8. -4\n",
       "9. -5\n",
       "\n",
       "\n"
      ],
      "text/plain": [
       "[1]  3  2  1  0 -1 -2 -3 -4 -5"
      ]
     },
     "metadata": {},
     "output_type": "display_data"
    }
   ],
   "source": [
    "3:-5"
   ]
  },
  {
   "cell_type": "code",
   "execution_count": 70,
   "id": "cdc95708",
   "metadata": {},
   "outputs": [
    {
     "data": {
      "text/html": [
       "<style>\n",
       ".list-inline {list-style: none; margin:0; padding: 0}\n",
       ".list-inline>li {display: inline-block}\n",
       ".list-inline>li:not(:last-child)::after {content: \"\\00b7\"; padding: 0 .5ex}\n",
       "</style>\n",
       "<ol class=list-inline><li>3.14159265358979</li><li>4.14159265358979</li><li>5.14159265358979</li></ol>\n"
      ],
      "text/latex": [
       "\\begin{enumerate*}\n",
       "\\item 3.14159265358979\n",
       "\\item 4.14159265358979\n",
       "\\item 5.14159265358979\n",
       "\\end{enumerate*}\n"
      ],
      "text/markdown": [
       "1. 3.14159265358979\n",
       "2. 4.14159265358979\n",
       "3. 5.14159265358979\n",
       "\n",
       "\n"
      ],
      "text/plain": [
       "[1] 3.141593 4.141593 5.141593"
      ]
     },
     "metadata": {},
     "output_type": "display_data"
    }
   ],
   "source": [
    "pi:6  # real sequence"
   ]
  },
  {
   "cell_type": "code",
   "execution_count": 71,
   "id": "9a44b2e0",
   "metadata": {},
   "outputs": [
    {
     "data": {
      "text/html": [
       "<style>\n",
       ".list-inline {list-style: none; margin:0; padding: 0}\n",
       ".list-inline>li {display: inline-block}\n",
       ".list-inline>li:not(:last-child)::after {content: \"\\00b7\"; padding: 0 .5ex}\n",
       "</style>\n",
       "<ol class=list-inline><li>6</li><li>5</li><li>4</li></ol>\n"
      ],
      "text/latex": [
       "\\begin{enumerate*}\n",
       "\\item 6\n",
       "\\item 5\n",
       "\\item 4\n",
       "\\end{enumerate*}\n"
      ],
      "text/markdown": [
       "1. 6\n",
       "2. 5\n",
       "3. 4\n",
       "\n",
       "\n"
      ],
      "text/plain": [
       "[1] 6 5 4"
      ]
     },
     "metadata": {},
     "output_type": "display_data"
    }
   ],
   "source": [
    "6:pi  # integer sequence"
   ]
  },
  {
   "cell_type": "markdown",
   "id": "78a908dd",
   "metadata": {},
   "source": [
    "# Función rep"
   ]
  },
  {
   "cell_type": "code",
   "execution_count": 72,
   "id": "c10cf6fd",
   "metadata": {},
   "outputs": [
    {
     "data": {
      "text/html": [
       "<style>\n",
       ".list-inline {list-style: none; margin:0; padding: 0}\n",
       ".list-inline>li {display: inline-block}\n",
       ".list-inline>li:not(:last-child)::after {content: \"\\00b7\"; padding: 0 .5ex}\n",
       "</style>\n",
       "<ol class=list-inline><li>1</li><li>2</li><li>3</li><li>4</li><li>1</li><li>2</li><li>3</li><li>4</li></ol>\n"
      ],
      "text/latex": [
       "\\begin{enumerate*}\n",
       "\\item 1\n",
       "\\item 2\n",
       "\\item 3\n",
       "\\item 4\n",
       "\\item 1\n",
       "\\item 2\n",
       "\\item 3\n",
       "\\item 4\n",
       "\\end{enumerate*}\n"
      ],
      "text/markdown": [
       "1. 1\n",
       "2. 2\n",
       "3. 3\n",
       "4. 4\n",
       "5. 1\n",
       "6. 2\n",
       "7. 3\n",
       "8. 4\n",
       "\n",
       "\n"
      ],
      "text/plain": [
       "[1] 1 2 3 4 1 2 3 4"
      ]
     },
     "metadata": {},
     "output_type": "display_data"
    }
   ],
   "source": [
    "rep(x=1:4, times=2)"
   ]
  },
  {
   "cell_type": "code",
   "execution_count": 74,
   "id": "3c634867",
   "metadata": {},
   "outputs": [
    {
     "data": {
      "text/html": [
       "<style>\n",
       ".list-inline {list-style: none; margin:0; padding: 0}\n",
       ".list-inline>li {display: inline-block}\n",
       ".list-inline>li:not(:last-child)::after {content: \"\\00b7\"; padding: 0 .5ex}\n",
       "</style>\n",
       "<ol class=list-inline><li>1</li><li>1</li><li>2</li><li>2</li><li>2</li><li>3</li><li>3</li><li>4</li><li>4</li></ol>\n"
      ],
      "text/latex": [
       "\\begin{enumerate*}\n",
       "\\item 1\n",
       "\\item 1\n",
       "\\item 2\n",
       "\\item 2\n",
       "\\item 2\n",
       "\\item 3\n",
       "\\item 3\n",
       "\\item 4\n",
       "\\item 4\n",
       "\\end{enumerate*}\n"
      ],
      "text/markdown": [
       "1. 1\n",
       "2. 1\n",
       "3. 2\n",
       "4. 2\n",
       "5. 2\n",
       "6. 3\n",
       "7. 3\n",
       "8. 4\n",
       "9. 4\n",
       "\n",
       "\n"
      ],
      "text/plain": [
       "[1] 1 1 2 2 2 3 3 4 4"
      ]
     },
     "metadata": {},
     "output_type": "display_data"
    }
   ],
   "source": [
    "rep(x=1:4, times=c(2,3,2,2))"
   ]
  },
  {
   "cell_type": "code",
   "execution_count": 75,
   "id": "351ff9eb",
   "metadata": {},
   "outputs": [
    {
     "data": {
      "text/html": [
       "<style>\n",
       ".list-inline {list-style: none; margin:0; padding: 0}\n",
       ".list-inline>li {display: inline-block}\n",
       ".list-inline>li:not(:last-child)::after {content: \"\\00b7\"; padding: 0 .5ex}\n",
       "</style>\n",
       "<ol class=list-inline><li>1</li><li>1</li><li>2</li><li>2</li><li>3</li><li>3</li><li>4</li><li>4</li></ol>\n"
      ],
      "text/latex": [
       "\\begin{enumerate*}\n",
       "\\item 1\n",
       "\\item 1\n",
       "\\item 2\n",
       "\\item 2\n",
       "\\item 3\n",
       "\\item 3\n",
       "\\item 4\n",
       "\\item 4\n",
       "\\end{enumerate*}\n"
      ],
      "text/markdown": [
       "1. 1\n",
       "2. 1\n",
       "3. 2\n",
       "4. 2\n",
       "5. 3\n",
       "6. 3\n",
       "7. 4\n",
       "8. 4\n",
       "\n",
       "\n"
      ],
      "text/plain": [
       "[1] 1 1 2 2 3 3 4 4"
      ]
     },
     "metadata": {},
     "output_type": "display_data"
    }
   ],
   "source": [
    "rep(x=1:4, each=2)"
   ]
  },
  {
   "cell_type": "markdown",
   "id": "df67ba9c",
   "metadata": {},
   "source": [
    "# Funciones round, ceiling, floor y trunc\n",
    "* round(x, digits): sirve para redondear un número según los dígitos indicados.\n",
    "* ceiling(x): entrega el mínimo entero mayor o igual que x.\n",
    "* floor(x): entrega el máximo entero menor o igual que x.\n",
    "* trunc(x): entrega la parte entera de un número x."
   ]
  },
  {
   "cell_type": "code",
   "execution_count": 76,
   "id": "c31fffb8",
   "metadata": {},
   "outputs": [
    {
     "data": {
      "text/html": [
       "5.349"
      ],
      "text/latex": [
       "5.349"
      ],
      "text/markdown": [
       "5.349"
      ],
      "text/plain": [
       "[1] 5.349"
      ]
     },
     "metadata": {},
     "output_type": "display_data"
    }
   ],
   "source": [
    "x <- 5.34896  # Número positivo elegido\n",
    "round(x, digits=3)"
   ]
  },
  {
   "cell_type": "code",
   "execution_count": 77,
   "id": "ef2d3061",
   "metadata": {},
   "outputs": [
    {
     "data": {
      "text/html": [
       "6"
      ],
      "text/latex": [
       "6"
      ],
      "text/markdown": [
       "6"
      ],
      "text/plain": [
       "[1] 6"
      ]
     },
     "metadata": {},
     "output_type": "display_data"
    }
   ],
   "source": [
    "ceiling(x)"
   ]
  },
  {
   "cell_type": "code",
   "execution_count": 78,
   "id": "efb561f1",
   "metadata": {},
   "outputs": [
    {
     "data": {
      "text/html": [
       "5"
      ],
      "text/latex": [
       "5"
      ],
      "text/markdown": [
       "5"
      ],
      "text/plain": [
       "[1] 5"
      ]
     },
     "metadata": {},
     "output_type": "display_data"
    }
   ],
   "source": [
    "floor(x)"
   ]
  },
  {
   "cell_type": "code",
   "execution_count": 79,
   "id": "a4c00e7f",
   "metadata": {},
   "outputs": [
    {
     "data": {
      "text/html": [
       "5"
      ],
      "text/latex": [
       "5"
      ],
      "text/markdown": [
       "5"
      ],
      "text/plain": [
       "[1] 5"
      ]
     },
     "metadata": {},
     "output_type": "display_data"
    }
   ],
   "source": [
    "trunc(x)"
   ]
  },
  {
   "cell_type": "markdown",
   "id": "eb60adf9",
   "metadata": {},
   "source": [
    "# sort y rank"
   ]
  },
  {
   "cell_type": "code",
   "execution_count": 80,
   "id": "311bc361",
   "metadata": {},
   "outputs": [
    {
     "data": {
      "text/html": [
       "<style>\n",
       ".list-inline {list-style: none; margin:0; padding: 0}\n",
       ".list-inline>li {display: inline-block}\n",
       ".list-inline>li:not(:last-child)::after {content: \"\\00b7\"; padding: 0 .5ex}\n",
       "</style>\n",
       "<ol class=list-inline><li>2</li><li>3</li><li>4</li><li>5</li><li>6</li><li>9</li></ol>\n"
      ],
      "text/latex": [
       "\\begin{enumerate*}\n",
       "\\item 2\n",
       "\\item 3\n",
       "\\item 4\n",
       "\\item 5\n",
       "\\item 6\n",
       "\\item 9\n",
       "\\end{enumerate*}\n"
      ],
      "text/markdown": [
       "1. 2\n",
       "2. 3\n",
       "3. 4\n",
       "4. 5\n",
       "5. 6\n",
       "6. 9\n",
       "\n",
       "\n"
      ],
      "text/plain": [
       "[1] 2 3 4 5 6 9"
      ]
     },
     "metadata": {},
     "output_type": "display_data"
    }
   ],
   "source": [
    "x <- c(2, 3, 6, 4, 9, 5)\n",
    "sort(x)"
   ]
  },
  {
   "cell_type": "code",
   "execution_count": 81,
   "id": "27a64550",
   "metadata": {},
   "outputs": [
    {
     "data": {
      "text/html": [
       "<style>\n",
       ".list-inline {list-style: none; margin:0; padding: 0}\n",
       ".list-inline>li {display: inline-block}\n",
       ".list-inline>li:not(:last-child)::after {content: \"\\00b7\"; padding: 0 .5ex}\n",
       "</style>\n",
       "<ol class=list-inline><li>1</li><li>2</li><li>5</li><li>3</li><li>6</li><li>4</li></ol>\n"
      ],
      "text/latex": [
       "\\begin{enumerate*}\n",
       "\\item 1\n",
       "\\item 2\n",
       "\\item 5\n",
       "\\item 3\n",
       "\\item 6\n",
       "\\item 4\n",
       "\\end{enumerate*}\n"
      ],
      "text/markdown": [
       "1. 1\n",
       "2. 2\n",
       "3. 5\n",
       "4. 3\n",
       "5. 6\n",
       "6. 4\n",
       "\n",
       "\n"
      ],
      "text/plain": [
       "[1] 1 2 5 3 6 4"
      ]
     },
     "metadata": {},
     "output_type": "display_data"
    }
   ],
   "source": [
    "rank(x)"
   ]
  },
  {
   "cell_type": "code",
   "execution_count": 82,
   "id": "07cf90d2",
   "metadata": {},
   "outputs": [
    {
     "data": {
      "text/html": [
       "<style>\n",
       ".list-inline {list-style: none; margin:0; padding: 0}\n",
       ".list-inline>li {display: inline-block}\n",
       ".list-inline>li:not(:last-child)::after {content: \"\\00b7\"; padding: 0 .5ex}\n",
       "</style>\n",
       "<ol class=list-inline><li>9</li><li>6</li><li>5</li><li>4</li><li>3</li><li>2</li></ol>\n"
      ],
      "text/latex": [
       "\\begin{enumerate*}\n",
       "\\item 9\n",
       "\\item 6\n",
       "\\item 5\n",
       "\\item 4\n",
       "\\item 3\n",
       "\\item 2\n",
       "\\end{enumerate*}\n"
      ],
      "text/markdown": [
       "1. 9\n",
       "2. 6\n",
       "3. 5\n",
       "4. 4\n",
       "5. 3\n",
       "6. 2\n",
       "\n",
       "\n"
      ],
      "text/plain": [
       "[1] 9 6 5 4 3 2"
      ]
     },
     "metadata": {},
     "output_type": "display_data"
    }
   ],
   "source": [
    "sort(x, decreasing=TRUE)"
   ]
  },
  {
   "cell_type": "code",
   "execution_count": null,
   "id": "0edcd088",
   "metadata": {},
   "outputs": [],
   "source": [
    "#https://fhernanb.github.io/Manual-de-R/bucles.html"
   ]
  }
 ],
 "metadata": {
  "hide_input": false,
  "kernelspec": {
   "display_name": "R",
   "language": "R",
   "name": "ir"
  },
  "language_info": {
   "codemirror_mode": "r",
   "file_extension": ".r",
   "mimetype": "text/x-r-source",
   "name": "R",
   "pygments_lexer": "r",
   "version": "4.1.0"
  },
  "toc": {
   "base_numbering": 1,
   "nav_menu": {},
   "number_sections": true,
   "sideBar": true,
   "skip_h1_title": false,
   "title_cell": "Table of Contents",
   "title_sidebar": "Contents",
   "toc_cell": false,
   "toc_position": {},
   "toc_section_display": true,
   "toc_window_display": true
  }
 },
 "nbformat": 4,
 "nbformat_minor": 5
}
