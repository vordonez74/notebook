{
 "cells": [
  {
   "cell_type": "code",
   "execution_count": 2,
   "id": "eae206e4",
   "metadata": {},
   "outputs": [],
   "source": [
    "import pandas as pd\n",
    "import numpy as np\n",
    "import matplotlib.pyplot as plt\n",
    "df = pd.read_csv(\"C:/Users/ordonez/Documents/UCASAL/notebooks/base_datos_2008.csv\",nrows=100000)"
   ]
  },
  {
   "cell_type": "code",
   "execution_count": 4,
   "id": "ac3f3857",
   "metadata": {},
   "outputs": [
    {
     "name": "stdout",
     "output_type": "stream",
     "text": [
      "<class 'pandas.core.frame.DataFrame'>\n",
      "RangeIndex: 100000 entries, 0 to 99999\n",
      "Data columns (total 29 columns):\n",
      " #   Column             Non-Null Count   Dtype  \n",
      "---  ------             --------------   -----  \n",
      " 0   Year               100000 non-null  int64  \n",
      " 1   Month              100000 non-null  int64  \n",
      " 2   DayofMonth         100000 non-null  int64  \n",
      " 3   DayOfWeek          100000 non-null  int64  \n",
      " 4   DepTime            98858 non-null   float64\n",
      " 5   CRSDepTime         100000 non-null  int64  \n",
      " 6   ArrTime            98698 non-null   float64\n",
      " 7   CRSArrTime         100000 non-null  int64  \n",
      " 8   UniqueCarrier      100000 non-null  object \n",
      " 9   FlightNum          100000 non-null  int64  \n",
      " 10  TailNum            98858 non-null   object \n",
      " 11  ActualElapsedTime  98698 non-null   float64\n",
      " 12  CRSElapsedTime     100000 non-null  int64  \n",
      " 13  AirTime            98698 non-null   float64\n",
      " 14  ArrDelay           98698 non-null   float64\n",
      " 15  DepDelay           98858 non-null   float64\n",
      " 16  Origin             100000 non-null  object \n",
      " 17  Dest               100000 non-null  object \n",
      " 18  Distance           100000 non-null  int64  \n",
      " 19  TaxiIn             98698 non-null   float64\n",
      " 20  TaxiOut            98858 non-null   float64\n",
      " 21  Cancelled          100000 non-null  int64  \n",
      " 22  CancellationCode   1142 non-null    object \n",
      " 23  Diverted           100000 non-null  int64  \n",
      " 24  CarrierDelay       19629 non-null   float64\n",
      " 25  WeatherDelay       19629 non-null   float64\n",
      " 26  NASDelay           19629 non-null   float64\n",
      " 27  SecurityDelay      19629 non-null   float64\n",
      " 28  LateAircraftDelay  19629 non-null   float64\n",
      "dtypes: float64(13), int64(11), object(5)\n",
      "memory usage: 22.1+ MB\n"
     ]
    }
   ],
   "source": [
    "df.info()"
   ]
  },
  {
   "cell_type": "code",
   "execution_count": 10,
   "id": "2b843363",
   "metadata": {},
   "outputs": [],
   "source": [
    "df.to_excel(\"reducida.xlsx\")"
   ]
  },
  {
   "cell_type": "code",
   "execution_count": 6,
   "id": "316b9d9b",
   "metadata": {},
   "outputs": [],
   "source": [
    "data = np.unique(df.Cancelled, return_counts=True)"
   ]
  },
  {
   "cell_type": "code",
   "execution_count": 7,
   "id": "d16e65d0",
   "metadata": {},
   "outputs": [
    {
     "data": {
      "text/plain": [
       "(array([0, 1], dtype=int64), array([98858,  1142], dtype=int64))"
      ]
     },
     "execution_count": 7,
     "metadata": {},
     "output_type": "execute_result"
    }
   ],
   "source": [
    "data"
   ]
  },
  {
   "cell_type": "code",
   "execution_count": 12,
   "id": "74dd2860",
   "metadata": {},
   "outputs": [
    {
     "data": {
      "image/png": "[encoded data removed]",
      "text/plain": [
       "<Figure size 432x288 with 1 Axes>"
      ]
     },
     "metadata": {},
     "output_type": "display_data"
    }
   ],
   "source": [
    "plt.pie(x=data[1],\n",
    "       labels=data[0],\n",
    "       startangle=90,\n",
    "       radius=2)\n",
    "plt.show()"
   ]
  },
  {
   "cell_type": "code",
   "execution_count": null,
   "id": "e66b7e55",
   "metadata": {},
   "outputs": [],
   "source": []
  }
 ],
 "metadata": {
  "kernelspec": {
   "display_name": "Python 3 (ipykernel)",
   "language": "python",
   "name": "python3"
  },
  "language_info": {
   "codemirror_mode": {
    "name": "ipython",
    "version": 3
   },
   "file_extension": ".py",
   "mimetype": "text/x-python",
   "name": "python",
   "nbconvert_exporter": "python",
   "pygments_lexer": "ipython3",
   "version": "3.10.2"
  }
 },
 "nbformat": 4,
 "nbformat_minor": 5
}
