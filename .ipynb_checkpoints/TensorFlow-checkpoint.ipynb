{
 "cells": [
  {
   "cell_type": "markdown",
   "id": "b97e8d08",
   "metadata": {},
   "source": [
    "# Ejemplo Clasificador de imagenes"
   ]
  },
  {
   "cell_type": "code",
   "execution_count": 1,
   "id": "a36335dd",
   "metadata": {},
   "outputs": [],
   "source": [
    "import keras\n",
    "from keras.datasets import mnist\n",
    "from keras.models import Sequential\n",
    "from keras.layers import Dense\n",
    "import numpy as np"
   ]
  },
  {
   "cell_type": "code",
   "execution_count": 2,
   "id": "1befc968",
   "metadata": {},
   "outputs": [],
   "source": [
    "batch_size = 128\n",
    "num_classes = 10\n",
    "epochs = 5"
   ]
  },
  {
   "cell_type": "code",
   "execution_count": 3,
   "id": "65d8efbc",
   "metadata": {},
   "outputs": [],
   "source": [
    "# los datos, divididos en conjunto de entranamiento y conjunto de prueba\n",
    "(x_train, y_train),(x_test, y_test) = mnist.load_data()"
   ]
  },
  {
   "cell_type": "code",
   "execution_count": 4,
   "id": "7be0d15d",
   "metadata": {},
   "outputs": [
    {
     "data": {
      "text/plain": [
       "<function matplotlib.pyplot.show(close=None, block=None)>"
      ]
     },
     "execution_count": 4,
     "metadata": {},
     "output_type": "execute_result"
    },
    {
     "data": {
      "image/png": "[encoded data removed]",
      "text/plain": [
       "<Figure size 432x288 with 1 Axes>"
      ]
     },
     "metadata": {
      "needs_background": "light"
     },
     "output_type": "display_data"
    }
   ],
   "source": [
    "#graficar algún dato cualquiera\n",
    "%matplotlib inline\n",
    "import matplotlib.pyplot as plt\n",
    "index = np.random.randint(x_train.shape[0])\n",
    "img = x_train[index,:].reshape((28,28))\n",
    "plt.imshow(img, cmap=\"gray\")\n",
    "plt.title(\"Etiqueta: \"+str(y_train[index]))\n",
    "plt.show"
   ]
  },
  {
   "cell_type": "code",
   "execution_count": 5,
   "id": "eeeb583c",
   "metadata": {},
   "outputs": [
    {
     "name": "stdout",
     "output_type": "stream",
     "text": [
      "Dimensiones de x_train:\t(60000, 28, 28)\n",
      "Dimensiones de y_train:\t(60000,)\n",
      "Dimensiones de x_test:\t(10000, 28, 28)\n",
      "Dimensiones de y_test:\t(10000,)\n",
      "Tipo de datos de los pixeles:\n",
      "<class 'numpy.uint8'>\n",
      "Tipo de datos de las etiquetas:\n",
      "<class 'numpy.uint8'>\n"
     ]
    }
   ],
   "source": [
    "print(\"Dimensiones de x_train:\\t\"+str(x_train.shape))\n",
    "print(\"Dimensiones de y_train:\\t\"+str(y_train.shape))\n",
    "print(\"Dimensiones de x_test:\\t\"+str(x_test.shape))\n",
    "print(\"Dimensiones de y_test:\\t\"+str(y_test.shape))\n",
    "print(\"Tipo de datos de los pixeles:\\n\"+str(type(x_train[index][0][0])))\n",
    "print(\"Tipo de datos de las etiquetas:\\n\"+str(type(y_train[index])))"
   ]
  },
  {
   "cell_type": "code",
   "execution_count": 6,
   "id": "a4ecb879",
   "metadata": {},
   "outputs": [
    {
     "name": "stdout",
     "output_type": "stream",
     "text": [
      "Etiquetas antes: 3\n",
      "Etiquetas después: [0. 0. 0. 1. 0. 0. 0. 0. 0. 0.]\n"
     ]
    }
   ],
   "source": [
    "#convertir datos de enteros (de 0 a 255) a float\n",
    "x_train = x_train.astype('float32')\n",
    "x_test = x_test.astype('float32')\n",
    "# normalizar datos (convertir rango 0-255 a 0-1)\n",
    "x_train /= 255\n",
    "x_test /= 255\n",
    "\n",
    "# \"achatar\" imágenes (28px*28px a 784 entradas)\n",
    "x_train = x_train.reshape(60000, 784)\n",
    "x_test = x_test.reshape(10000, 784)\n",
    "\n",
    "#codificar etiquetas (dígitos del 0 al 9) usando one-hot encoding\n",
    "print(\"Etiquetas antes: \" + str(y_train[index]))\n",
    "y_train = keras.utils.to_categorical(y_train, num_classes)\n",
    "y_test = keras.utils.to_categorical(y_test,num_classes)\n",
    "print(\"Etiquetas después: \"+ str(y_train[index]))"
   ]
  },
  {
   "cell_type": "code",
   "execution_count": 7,
   "id": "05e07162",
   "metadata": {},
   "outputs": [],
   "source": [
    "model = Sequential()\n",
    "model.add(Dense(7, activation='relu', input_shape=(784,)))\n",
    "model.add(Dense(5, activation='relu'))\n",
    "model.add(Dense(num_classes, activation='softmax'))"
   ]
  },
  {
   "cell_type": "code",
   "execution_count": 8,
   "id": "76812ddf",
   "metadata": {},
   "outputs": [],
   "source": [
    "model.compile(loss='categorical_crossentropy',optimizer='sgd',metrics=['accuracy'])"
   ]
  },
  {
   "cell_type": "code",
   "execution_count": 9,
   "id": "ecb0b1b6",
   "metadata": {},
   "outputs": [
    {
     "name": "stdout",
     "output_type": "stream",
     "text": [
      "Model: \"sequential\"\n",
      "_________________________________________________________________\n",
      " Layer (type)                Output Shape              Param #   \n",
      "=================================================================\n",
      " dense (Dense)               (None, 7)                 5495      \n",
      "                                                                 \n",
      " dense_1 (Dense)             (None, 5)                 40        \n",
      "                                                                 \n",
      " dense_2 (Dense)             (None, 10)                60        \n",
      "                                                                 \n",
      "=================================================================\n",
      "Total params: 5,595\n",
      "Trainable params: 5,595\n",
      "Non-trainable params: 0\n",
      "_________________________________________________________________\n"
     ]
    }
   ],
   "source": [
    "model.summary()"
   ]
  },
  {
   "cell_type": "code",
   "execution_count": 10,
   "id": "d7b907e8",
   "metadata": {},
   "outputs": [
    {
     "name": "stdout",
     "output_type": "stream",
     "text": [
      "Epoch 1/5\n",
      "469/469 [==============================] - 1s 2ms/step - loss: 2.1197 - accuracy: 0.2897 - val_loss: 1.8357 - val_accuracy: 0.3808\n",
      "Epoch 2/5\n",
      "469/469 [==============================] - 1s 1ms/step - loss: 1.6318 - accuracy: 0.4209 - val_loss: 1.4432 - val_accuracy: 0.4834\n",
      "Epoch 3/5\n",
      "469/469 [==============================] - 1s 2ms/step - loss: 1.3373 - accuracy: 0.5262 - val_loss: 1.2057 - val_accuracy: 0.5732\n",
      "Epoch 4/5\n",
      "469/469 [==============================] - 1s 1ms/step - loss: 1.1419 - accuracy: 0.6081 - val_loss: 1.0399 - val_accuracy: 0.6416\n",
      "Epoch 5/5\n",
      "469/469 [==============================] - 1s 2ms/step - loss: 1.0043 - accuracy: 0.6626 - val_loss: 0.9203 - val_accuracy: 0.7016\n",
      "Test loss:  0.9203261733055115\n",
      "Test accuracy:  0.7016000151634216\n"
     ]
    }
   ],
   "source": [
    "history = model.fit(x_train, y_train,\n",
    "                   batch_size=batch_size,\n",
    "                   epochs=epochs,\n",
    "                   verbose=1,\n",
    "                   validation_data=(x_test, y_test))\n",
    "score = model.evaluate(x_test, y_test, verbose=0)\n",
    "print('Test loss: ',score[0])\n",
    "print('Test accuracy: ',score[1])"
   ]
  },
  {
   "cell_type": "code",
   "execution_count": 11,
   "id": "c4c34095",
   "metadata": {},
   "outputs": [
    {
     "name": "stdout",
     "output_type": "stream",
     "text": [
      "1/1 [==============================] - 0s 78ms/step\n"
     ]
    },
    {
     "data": {
      "image/png": "[encoded data removed]",
      "text/plain": [
       "<Figure size 432x288 with 1 Axes>"
      ]
     },
     "metadata": {
      "needs_background": "light"
     },
     "output_type": "display_data"
    },
    {
     "data": {
      "image/png": "[encoded data removed]",
      "text/plain": [
       "<Figure size 432x288 with 1 Axes>"
      ]
     },
     "metadata": {
      "needs_background": "light"
     },
     "output_type": "display_data"
    },
    {
     "data": {
      "image/png": "[encoded data removed]",
      "text/plain": [
       "<Figure size 432x288 with 1 Axes>"
      ]
     },
     "metadata": {
      "needs_background": "light"
     },
     "output_type": "display_data"
    },
    {
     "data": {
      "image/png": "[encoded data removed]",
      "text/plain": [
       "<Figure size 432x288 with 1 Axes>"
      ]
     },
     "metadata": {
      "needs_background": "light"
     },
     "output_type": "display_data"
    },
    {
     "data": {
      "image/png": "[encoded data removed]",
      "text/plain": [
       "<Figure size 432x288 with 1 Axes>"
      ]
     },
     "metadata": {
      "needs_background": "light"
     },
     "output_type": "display_data"
    },
    {
     "data": {
      "image/png": "[encoded data removed]",
      "text/plain": [
       "<Figure size 432x288 with 1 Axes>"
      ]
     },
     "metadata": {
      "needs_background": "light"
     },
     "output_type": "display_data"
    },
    {
     "data": {
      "image/png": "[encoded data removed]",
      "text/plain": [
       "<Figure size 432x288 with 1 Axes>"
      ]
     },
     "metadata": {
      "needs_background": "light"
     },
     "output_type": "display_data"
    },
    {
     "data": {
      "image/png": "[encoded data removed]",
      "text/plain": [
       "<Figure size 432x288 with 1 Axes>"
      ]
     },
     "metadata": {
      "needs_background": "light"
     },
     "output_type": "display_data"
    },
    {
     "data": {
      "image/png": "[encoded data removed]",
      "text/plain": [
       "<Figure size 432x288 with 1 Axes>"
      ]
     },
     "metadata": {
      "needs_background": "light"
     },
     "output_type": "display_data"
    },
    {
     "data": {
      "image/png": "[encoded data removed]",
      "text/plain": [
       "<Figure size 432x288 with 1 Axes>"
      ]
     },
     "metadata": {
      "needs_background": "light"
     },
     "output_type": "display_data"
    }
   ],
   "source": [
    "#genera índices aleatorios para graficar\n",
    "cantNums = 10\n",
    "indices = np.random.randint(x_test.shape[0]-cantNums,size=cantNums)\n",
    "#predice la etiqueta correspondiente a 10 imágenes del conjunto de prueba\n",
    "predicciones = model.predict(x_test[indices,:])\n",
    "# grafica números con sus pedicciones\n",
    "for i in range(indices.shape[0]):\n",
    "    img = x_test[indices[i],:].reshape((28,28))\n",
    "    plt.imshow(img,cmap=\"gray\")\n",
    "    plt.title(\"Predicción: \"+str(np.argmax(predicciones[i,:]))+\", Número real: \"+\n",
    "             str(np.where(y_test[indices[i],:] == 1)[0]))\n",
    "    plt.show()"
   ]
  },
  {
   "cell_type": "markdown",
   "id": "f8303c4a",
   "metadata": {},
   "source": [
    "# Ejemplo celsius a Fahrenheit"
   ]
  },
  {
   "cell_type": "code",
   "execution_count": 1,
   "id": "9472b8ba",
   "metadata": {},
   "outputs": [],
   "source": [
    "import tensorflow as tf #libreria para inteligencia artificial hecha por google\n",
    "import numpy as np"
   ]
  },
  {
   "cell_type": "code",
   "execution_count": 2,
   "id": "a024c659",
   "metadata": {},
   "outputs": [],
   "source": [
    "#datos de ejemplo para entrenar\n",
    "celsius = np.array([-40,-10,0,8,15,22,38],dtype=float)\n",
    "fahrenheit = np.array([-40,14,32,46,59,72,100],dtype=float)"
   ]
  },
  {
   "cell_type": "code",
   "execution_count": 4,
   "id": "1423e687",
   "metadata": {},
   "outputs": [],
   "source": [
    "capa = tf.keras.layers.Dense(units=1, input_shape=[1])\n",
    "modelo = tf.keras.Sequential([capa])"
   ]
  },
  {
   "cell_type": "code",
   "execution_count": 5,
   "id": "889fdbab",
   "metadata": {},
   "outputs": [],
   "source": [
    "modelo.compile(\n",
    "    optimizer=tf.keras.optimizers.Adam(0.1), #0.1 es la tasa de aprendizaje\n",
    "    loss='mean_squared_error' #función de perdida\n",
    ")"
   ]
  },
  {
   "cell_type": "code",
   "execution_count": 6,
   "id": "eebc5cdc",
   "metadata": {},
   "outputs": [
    {
     "name": "stdout",
     "output_type": "stream",
     "text": [
      "Comenzando entrenamiento...\n",
      "Modelo entrenado\n"
     ]
    }
   ],
   "source": [
    "print(\"Comenzando entrenamiento...\")\n",
    "historial = modelo.fit(celsius,fahrenheit, epochs=1000, verbose=False)\n",
    "print(\"Modelo entrenado\")"
   ]
  },
  {
   "cell_type": "code",
   "execution_count": 7,
   "id": "3b58c5ab",
   "metadata": {},
   "outputs": [
    {
     "data": {
      "text/plain": [
       "[<matplotlib.lines.Line2D at 0x16104675060>]"
      ]
     },
     "execution_count": 7,
     "metadata": {},
     "output_type": "execute_result"
    },
    {
     "data": {
      "image/png": "[encoded data removed]",
      "text/plain": [
       "<Figure size 432x288 with 1 Axes>"
      ]
     },
     "metadata": {
      "needs_background": "light"
     },
     "output_type": "display_data"
    }
   ],
   "source": [
    "import matplotlib.pyplot as plt\n",
    "plt.xlabel(\"# Epoca\")\n",
    "plt.ylabel(\"Magnitud de pérdida\")\n",
    "plt.plot(historial.history[\"loss\"])"
   ]
  },
  {
   "cell_type": "code",
   "execution_count": 9,
   "id": "4e6c3fa4",
   "metadata": {},
   "outputs": [
    {
     "name": "stdout",
     "output_type": "stream",
     "text": [
      "Hagamos una predicción!\n",
      "1/1 [==============================] - 0s 33ms/step\n",
      "El resultado es [[211.74316]] fahrenheit!\n"
     ]
    }
   ],
   "source": [
    "print(\"Hagamos una predicción!\")\n",
    "resultado = modelo.predict([100.0])\n",
    "print(\"El resultado es \"+ str(resultado)+\" fahrenheit!\")"
   ]
  },
  {
   "cell_type": "code",
   "execution_count": null,
   "id": "999036c7",
   "metadata": {},
   "outputs": [],
   "source": []
  }
 ],
 "metadata": {
  "hide_input": false,
  "kernelspec": {
   "display_name": "Python 3 (ipykernel)",
   "language": "python",
   "name": "python3"
  },
  "language_info": {
   "codemirror_mode": {
    "name": "ipython",
    "version": 3
   },
   "file_extension": ".py",
   "mimetype": "text/x-python",
   "name": "python",
   "nbconvert_exporter": "python",
   "pygments_lexer": "ipython3",
   "version": "3.10.5"
  },
  "toc": {
   "base_numbering": 1,
   "nav_menu": {},
   "number_sections": true,
   "sideBar": true,
   "skip_h1_title": false,
   "title_cell": "Table of Contents",
   "title_sidebar": "Contents",
   "toc_cell": false,
   "toc_position": {},
   "toc_section_display": true,
   "toc_window_display": false
  }
 },
 "nbformat": 4,
 "nbformat_minor": 5
}
