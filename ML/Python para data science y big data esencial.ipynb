{
 "cells": [
  {
   "cell_type": "code",
   "execution_count": null,
   "id": "d8d8958e",
   "metadata": {},
   "outputs": [],
   "source": [
    "import numpy as np\n",
    "import pandas as pd\n",
    "df = pd.read_csv(\"C:/Users/ordonez/Documents/UCASAL/notebooks/base_datos_2008.csv\", nrows = 1000000)"
   ]
  },
  {
   "cell_type": "code",
   "execution_count": null,
   "id": "bb846ab9",
   "metadata": {},
   "outputs": [],
   "source": [
    "display(df)"
   ]
  },
  {
   "cell_type": "code",
   "execution_count": null,
   "id": "d849b271",
   "metadata": {},
   "outputs": [],
   "source": [
    "#borrar los nulos\n",
    "df.dropna(inplace=True, subset=[\"ArrDelay\",\"DepDelay\"])"
   ]
  },
  {
   "cell_type": "code",
   "execution_count": null,
   "id": "b64b118e",
   "metadata": {},
   "outputs": [],
   "source": [
    "df.dropna(inplace=True, subset=[\"DepTime\"])"
   ]
  },
  {
   "cell_type": "code",
   "execution_count": null,
   "id": "2d8a8cbd",
   "metadata": {},
   "outputs": [],
   "source": [
    "np.corrcoef([df[\"ArrDelay\"],df[\"DepDelay\"]])"
   ]
  },
  {
   "cell_type": "code",
   "execution_count": null,
   "id": "965d84f5",
   "metadata": {},
   "outputs": [],
   "source": [
    "np.corrcoef([df[\"ArrDelay\"],df[\"DepDelay\"],df[\"DepTime\"]])"
   ]
  },
  {
   "cell_type": "code",
   "execution_count": null,
   "id": "bb3376ef",
   "metadata": {},
   "outputs": [],
   "source": [
    "df.drop(inplace=True, columns = [\"Year\",\"Cancelled\",\"Diverted\"])"
   ]
  },
  {
   "cell_type": "code",
   "execution_count": null,
   "id": "0b745309",
   "metadata": {},
   "outputs": [],
   "source": [
    "df.drop(inplace=True, columns = [\"Month\"])"
   ]
  },
  {
   "cell_type": "code",
   "execution_count": null,
   "id": "3cff4764",
   "metadata": {},
   "outputs": [],
   "source": [
    "df.corr()"
   ]
  },
  {
   "cell_type": "code",
   "execution_count": null,
   "id": "e7a5790d",
   "metadata": {},
   "outputs": [],
   "source": [
    "corr = round(df.corr(),3)"
   ]
  },
  {
   "cell_type": "markdown",
   "id": "9042cead",
   "metadata": {},
   "source": [
    "### Para crear la matriz de coorrelación es necesario instalar matplotlib"
   ]
  },
  {
   "cell_type": "code",
   "execution_count": null,
   "id": "7483853e",
   "metadata": {},
   "outputs": [],
   "source": [
    "corr.style.background_gradient()"
   ]
  },
  {
   "cell_type": "markdown",
   "id": "4152f0d7",
   "metadata": {},
   "source": [
    "# Test de chi-Cuadrado\n",
    "Criterio para encontrar relación entre variables cualitativas\n",
    "- Se utiliza para comparar proporciones\n",
    "- Se basa sobre el análisis de variables cualtitativas\n",
    "- Nos va a decir si una tasa es diferente a otra y si esta diferencia es estadisticamente significativa\n",
    "- Para calcularla nos auxiliamos de las **tablas de contingecia**\n",
    "$$X^2=\\sum_{i=1}^k \\frac{(observado_i - esperado_i)^2}{esperado_i}$$"
   ]
  },
  {
   "cell_type": "code",
   "execution_count": null,
   "id": "86db59d7",
   "metadata": {},
   "outputs": [],
   "source": [
    "import pandas as pd\n",
    "import numpy as np\n",
    "import time\n",
    "start = time.time()\n",
    "df = pd.read_csv(\"C:/Users/ordonez/Documents/UCASAL/notebooks/base_datos_2008.csv\")\n",
    "end = time.time()\n",
    "print(f\"Se tardó {round(end-start,2)} segundos en cargar {len(df)} registros.\")"
   ]
  },
  {
   "cell_type": "code",
   "execution_count": null,
   "id": "f7e2ce56",
   "metadata": {},
   "outputs": [],
   "source": [
    "np.random.seed(0)\n",
    "df = df[df[\"Origin\"].isin([\"HOU\",\"ATL\",\"IND\"])]\n",
    "df = df.sample(frac=1)\n",
    "df = df[0:10000]"
   ]
  },
  {
   "cell_type": "code",
   "execution_count": null,
   "id": "0873c8a4",
   "metadata": {},
   "outputs": [],
   "source": [
    "df[\"BigDelay\"] = df[\"ArrDelay\"] > 30\n",
    "observados = pd.crosstab(index=df['BigDelay'],columns=df['Origin'], margins=True)"
   ]
  },
  {
   "cell_type": "code",
   "execution_count": null,
   "id": "4e765080",
   "metadata": {},
   "outputs": [],
   "source": [
    "observados"
   ]
  },
  {
   "cell_type": "code",
   "execution_count": null,
   "id": "9a7618b8",
   "metadata": {},
   "outputs": [],
   "source": [
    "from scipy.stats import chi2_contingency"
   ]
  },
  {
   "cell_type": "code",
   "execution_count": null,
   "id": "5c04425e",
   "metadata": {},
   "outputs": [],
   "source": [
    "test = chi2_contingency(observados)"
   ]
  },
  {
   "cell_type": "code",
   "execution_count": null,
   "id": "581f72fb",
   "metadata": {},
   "outputs": [],
   "source": [
    "test"
   ]
  },
  {
   "cell_type": "code",
   "execution_count": null,
   "id": "a53cdb8a",
   "metadata": {},
   "outputs": [],
   "source": [
    "esperados = pd.DataFrame(test[3])"
   ]
  },
  {
   "cell_type": "code",
   "execution_count": null,
   "id": "afce23a3",
   "metadata": {},
   "outputs": [],
   "source": [
    "esperados"
   ]
  },
  {
   "cell_type": "code",
   "execution_count": null,
   "id": "92ac5cb2",
   "metadata": {},
   "outputs": [],
   "source": [
    "esperados_rel = round(esperados.apply(lambda r: r/len(df) * 100,axis=1),2)"
   ]
  },
  {
   "cell_type": "code",
   "execution_count": null,
   "id": "92f70cff",
   "metadata": {},
   "outputs": [],
   "source": [
    "observados_rel = round(observados.apply(lambda r: r/len(df) * 100,axis=1),2)"
   ]
  },
  {
   "cell_type": "code",
   "execution_count": null,
   "id": "eddd3fa0",
   "metadata": {},
   "outputs": [],
   "source": [
    "observados_rel"
   ]
  },
  {
   "cell_type": "code",
   "execution_count": null,
   "id": "51a23715",
   "metadata": {},
   "outputs": [],
   "source": [
    "esperados_rel"
   ]
  },
  {
   "cell_type": "code",
   "execution_count": null,
   "id": "6069c77b",
   "metadata": {},
   "outputs": [],
   "source": [
    "test[1]"
   ]
  },
  {
   "cell_type": "markdown",
   "id": "9bd26d3e",
   "metadata": {},
   "source": [
    "## Resumen de Test de Hipótesis\n",
    "* Si el p-valor < 0.05, hay diferencias significativas: Hay relación entre variables\n",
    "* Si el p-valor > 0.05, no hay difrencias significativas: No hay relación entre variables"
   ]
  },
  {
   "cell_type": "markdown",
   "id": "f10c386a",
   "metadata": {},
   "source": [
    "# Análisis de datos extremos"
   ]
  },
  {
   "cell_type": "code",
   "execution_count": null,
   "id": "8822e785",
   "metadata": {},
   "outputs": [],
   "source": [
    "import pandas as pd\n",
    "import numpy as np\n",
    "df = pd.read_csv(\"C:/Users/ordonez/Documents/UCASAL/notebooks/base_datos_2008.csv\", nrows = 100000)"
   ]
  },
  {
   "cell_type": "code",
   "execution_count": null,
   "id": "bdfb6262",
   "metadata": {},
   "outputs": [],
   "source": [
    "x = df[\"ArrDelay\"].dropna()"
   ]
  },
  {
   "cell_type": "code",
   "execution_count": null,
   "id": "e9efcdcc",
   "metadata": {},
   "outputs": [],
   "source": [
    "Q1 = np.percentile(x,25)\n",
    "Q3 = np.percentile(x,75)\n",
    "rangointer = Q3 - Q1"
   ]
  },
  {
   "cell_type": "code",
   "execution_count": null,
   "id": "6b98c156",
   "metadata": {},
   "outputs": [],
   "source": [
    "umbralsuperior = Q3 + 1.5*rangointer\n",
    "umbralinferior = Q1 - 1.5*rangointer"
   ]
  },
  {
   "cell_type": "code",
   "execution_count": null,
   "id": "3a223d1d",
   "metadata": {},
   "outputs": [],
   "source": [
    "umbralsuperior"
   ]
  },
  {
   "cell_type": "code",
   "execution_count": null,
   "id": "83833e92",
   "metadata": {},
   "outputs": [],
   "source": [
    "umbralinferior"
   ]
  },
  {
   "cell_type": "code",
   "execution_count": null,
   "id": "68ffdb06",
   "metadata": {},
   "outputs": [],
   "source": [
    "np.mean(x > umbralsuperior)"
   ]
  },
  {
   "cell_type": "code",
   "execution_count": null,
   "id": "4f3480bb",
   "metadata": {},
   "outputs": [],
   "source": [
    "np.mean(x < umbralinferior)"
   ]
  },
  {
   "cell_type": "code",
   "execution_count": null,
   "id": "0e71090a",
   "metadata": {},
   "outputs": [],
   "source": [
    "from sklearn.covariance import EllipticEnvelope"
   ]
  },
  {
   "cell_type": "code",
   "execution_count": null,
   "id": "3b7037e1",
   "metadata": {},
   "outputs": [],
   "source": [
    "outliers = EllipticEnvelope(contamination = .01)"
   ]
  },
  {
   "cell_type": "code",
   "execution_count": null,
   "id": "8ff3d792",
   "metadata": {},
   "outputs": [],
   "source": [
    "var_list = [\"DepDelay\",\"TaxiIn\",\"TaxiOut\",\"CarrierDelay\",\"WeatherDelay\",\"NASDelay\",\"SecurityDelay\",\"LateAircraftDelay\"]"
   ]
  },
  {
   "cell_type": "code",
   "execution_count": null,
   "id": "0fd8ad8f",
   "metadata": {},
   "outputs": [],
   "source": [
    "x = np.array(df.loc[:,var_list].dropna())"
   ]
  },
  {
   "cell_type": "code",
   "execution_count": null,
   "id": "53505a9c",
   "metadata": {},
   "outputs": [],
   "source": [
    "outliers.fit(x)"
   ]
  },
  {
   "cell_type": "code",
   "execution_count": null,
   "id": "4a980259",
   "metadata": {},
   "outputs": [],
   "source": [
    "pred = outliers.predict(x)"
   ]
  },
  {
   "cell_type": "code",
   "execution_count": null,
   "id": "d0d62615",
   "metadata": {},
   "outputs": [],
   "source": [
    "pred"
   ]
  },
  {
   "cell_type": "code",
   "execution_count": null,
   "id": "7bb3502b",
   "metadata": {},
   "outputs": [],
   "source": [
    "elips_outliers = np.where(pred == -1)[0]"
   ]
  },
  {
   "cell_type": "code",
   "execution_count": null,
   "id": "b725e9b9",
   "metadata": {},
   "outputs": [],
   "source": [
    "#conseguiremos un listado de los index de los casos que están alejados de los valores centrales de todas las variables estudiadas\n",
    "elips_outliers"
   ]
  },
  {
   "cell_type": "markdown",
   "id": "906de47a",
   "metadata": {},
   "source": [
    "# Principios de las bases de datos relacionales\n",
    "## Transformar una dataframe en una base de datos relacional"
   ]
  },
  {
   "cell_type": "code",
   "execution_count": null,
   "id": "20aea77c",
   "metadata": {},
   "outputs": [],
   "source": [
    "import pandas as pd\n",
    "data = [(1,\"Joan\",\"Gasull\",25,1,\"Libreta\",1.2,.4,0.8,3,\"03-02-2018\"),\n",
    "       (1,\"Joan\",\"Gasull\",25,2,\"Bolígrafo\",0.4,0.15,0.25,1,\"03-02-2018\"),\n",
    "       (1,\"Joan\",\"Gasull\",25,1,\"Libreta\",1.2,.4,0.8,2,\"15-02-2018\"),\n",
    "       (2,\"Joan\",\"López\",33,2,\"Bolígrafo\",0.4,0.15,0.25,4,\"01-02-2018\"),\n",
    "       (2,\"Joan\",\"López\",33,1,\"Libreta\",1.2,.4,0.8,10,\"05-03-2018\"),\n",
    "       (3,\"Maria\",\"Garcia\",40,1,\"Libreta\",1.2,.4,0.8,20,\"13-04-2018\"),\n",
    "       (3,\"Maria\",\"Garcia\",40,2,\"Bolígrafo\",0.4,0.15,0.25,1,\"09-02-2018\"),\n",
    "       (3,\"Maria\",\"Garcia\",40,2,\"Bolígrafo\",0.4,0.15,0.25,3,\"03-04-2018\")]\n",
    "labels = [\"Comprador_id\",\"Nombre\",\"Apellido\",\"Edad\",\"Producto_id\",\"Producto\",\n",
    "         \"Precio\",\"Coste\",\"Margen\",\"Cantidad\",\"Fecha\"]"
   ]
  },
  {
   "cell_type": "code",
   "execution_count": null,
   "id": "8f9b8ee0",
   "metadata": {},
   "outputs": [],
   "source": [
    "type(data)"
   ]
  },
  {
   "cell_type": "code",
   "execution_count": null,
   "id": "56becdc6",
   "metadata": {},
   "outputs": [],
   "source": [
    "type(data[0])"
   ]
  },
  {
   "cell_type": "code",
   "execution_count": null,
   "id": "b834022e",
   "metadata": {},
   "outputs": [],
   "source": [
    "df = pd.DataFrame.from_records(data,columns = labels)"
   ]
  },
  {
   "cell_type": "code",
   "execution_count": null,
   "id": "17fa8627",
   "metadata": {},
   "outputs": [],
   "source": [
    "df"
   ]
  },
  {
   "cell_type": "code",
   "execution_count": null,
   "id": "a076dc05",
   "metadata": {},
   "outputs": [],
   "source": [
    "compradores = df.drop_duplicates(subset = \"Comprador_id\", keep = \"first\")\n",
    "compradores = compradores[[\"Comprador_id\",\"Nombre\",\"Apellido\",\"Edad\"]]\n",
    "compradores"
   ]
  },
  {
   "cell_type": "code",
   "execution_count": null,
   "id": "029a8ac3",
   "metadata": {},
   "outputs": [],
   "source": [
    "productos = df.drop_duplicates(subset=\"Producto_id\", keep=\"first\")\n",
    "productos = productos[[\"Producto_id\",\"Producto\",\"Precio\",\"Margen\"]]\n",
    "productos"
   ]
  },
  {
   "cell_type": "code",
   "execution_count": null,
   "id": "bd5a5db4",
   "metadata": {},
   "outputs": [],
   "source": [
    "compras = df[[\"Comprador_id\",\"Producto_id\",\"Fecha\",\"Cantidad\"]]\n",
    "compras"
   ]
  },
  {
   "cell_type": "markdown",
   "id": "2a3223f2",
   "metadata": {},
   "source": [
    "## Joins. Trabajar con bases de datos relacionales"
   ]
  },
  {
   "cell_type": "code",
   "execution_count": null,
   "id": "6ee48907",
   "metadata": {},
   "outputs": [],
   "source": [
    "import pandas as pd\n",
    "consumidores = [(\"A\",\"Móvil\"),(\"B\",\"Móvil\"),(\"A\",\"Portátil\"),(\"A\",\"Tablet\"),\n",
    "               (\"B\",\"Tablet\"),(\"C\",\"Portátil\"),(\"D\",\"Smartwatch\"),(\"E\",\"Consola\")]\n",
    "con_labels = [\"Consumidor\",\"Producto\"]\n",
    "con_df = pd.DataFrame.from_records(consumidores, columns = con_labels)\n",
    "productores = [(\"a\",\"Móvil\"),(\"a\",\"Smartwatch\"),(\"a\",\"Tablet\"),(\"b\",\"Portátil\"),\n",
    "               (\"c\",\"Sobremesa\"),(\"c\",\"Portátil\")]\n",
    "prod_labels = [\"Productor\",\"Producto\"]\n",
    "prod_df = pd.DataFrame.from_records(productores, columns=prod_labels)"
   ]
  },
  {
   "cell_type": "code",
   "execution_count": null,
   "id": "afeca8da",
   "metadata": {},
   "outputs": [],
   "source": [
    "con_df"
   ]
  },
  {
   "cell_type": "code",
   "execution_count": null,
   "id": "4630eafb",
   "metadata": {},
   "outputs": [],
   "source": [
    "prod_df"
   ]
  },
  {
   "cell_type": "code",
   "execution_count": null,
   "id": "0a96ee10",
   "metadata": {},
   "outputs": [],
   "source": [
    "pd.merge(con_df,prod_df,on=\"Producto\",how=\"outer\")"
   ]
  },
  {
   "cell_type": "code",
   "execution_count": null,
   "id": "f83daf0c",
   "metadata": {},
   "outputs": [],
   "source": [
    "pd.merge(con_df,prod_df,on=\"Producto\",how=\"inner\")"
   ]
  },
  {
   "cell_type": "code",
   "execution_count": null,
   "id": "0a3568b3",
   "metadata": {},
   "outputs": [],
   "source": [
    "pd.merge(con_df,prod_df,on=\"Producto\",how=\"right\")"
   ]
  },
  {
   "cell_type": "markdown",
   "id": "00c423c0",
   "metadata": {},
   "source": [
    "## Paralelizar loops en Python"
   ]
  },
  {
   "cell_type": "code",
   "execution_count": null,
   "id": "21be4511",
   "metadata": {},
   "outputs": [],
   "source": [
    "import pandas as pd\n",
    "import numpy as np\n",
    "from joblib import Parallel, delayed\n",
    "\n",
    "df = pd.read_csv(\"C:/Users/ordonez/Documents/UCASAL/notebooks/base_datos_2008.csv\", nrows = 100000)"
   ]
  },
  {
   "cell_type": "code",
   "execution_count": null,
   "id": "e21c7f24",
   "metadata": {},
   "outputs": [],
   "source": []
  }
 ],
 "metadata": {
  "hide_input": false,
  "kernelspec": {
   "display_name": "Python 3 (ipykernel)",
   "language": "python",
   "name": "python3"
  },
  "language_info": {
   "codemirror_mode": {
    "name": "ipython",
    "version": 3
   },
   "file_extension": ".py",
   "mimetype": "text/x-python",
   "name": "python",
   "nbconvert_exporter": "python",
   "pygments_lexer": "ipython3",
   "version": "3.10.2"
  },
  "toc": {
   "base_numbering": 1,
   "nav_menu": {},
   "number_sections": true,
   "sideBar": true,
   "skip_h1_title": false,
   "title_cell": "Table of Contents",
   "title_sidebar": "Contents",
   "toc_cell": false,
   "toc_position": {},
   "toc_section_display": true,
   "toc_window_display": true
  }
 },
 "nbformat": 4,
 "nbformat_minor": 5
}
