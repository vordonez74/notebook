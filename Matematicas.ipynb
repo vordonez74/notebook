{
 "cells": [
  {
   "cell_type": "markdown",
   "id": "fa917772",
   "metadata": {},
   "source": [
    "# Polinomios"
   ]
  },
  {
   "cell_type": "markdown",
   "id": "8817c1bd",
   "metadata": {},
   "source": [
    "## Dividiendo polinomios con numpy\n",
    "[NumPy](https://numpy.org/doc/stable/reference/generated/numpy.polymul.html)"
   ]
  },
  {
   "cell_type": "code",
   "execution_count": 13,
   "id": "e4261248",
   "metadata": {},
   "outputs": [],
   "source": [
    "import numpy as np"
   ]
  },
  {
   "cell_type": "markdown",
   "id": "bc771bcb",
   "metadata": {},
   "source": [
    "$$P(x)=6x^7-x^6+0x^5-x^4+0x^3+0x^2+x$$ y $$Q(x)=2x-1$$"
   ]
  },
  {
   "cell_type": "code",
   "execution_count": null,
   "id": "f64b4b93",
   "metadata": {},
   "outputs": [],
   "source": [
    "px = np.array([6.0,-1.0,0.0,-1.0,0.0,0.0,1.0,0.0])\n",
    "qx = np.array([2.0,-1.0])\n",
    "np.polydiv(px,qx)"
   ]
  },
  {
   "cell_type": "code",
   "execution_count": null,
   "id": "5a9c10a5",
   "metadata": {},
   "outputs": [],
   "source": [
    "px =np.array([1.0,3.0,0.0,-3.0,8.0])\n",
    "qx = np.array([1.0,-2.0,1.0,-1.0])\n",
    "np.polydiv(px,qx)"
   ]
  },
  {
   "cell_type": "markdown",
   "id": "80f8cd54",
   "metadata": {},
   "source": [
    "## Cálculo de las raices de un polinomio"
   ]
  },
  {
   "cell_type": "code",
   "execution_count": null,
   "id": "c1b30b93",
   "metadata": {},
   "outputs": [],
   "source": [
    "coef = [1.0,-9.0,24.25,-18.0,4.4]\n",
    "np.roots(coef)"
   ]
  },
  {
   "cell_type": "code",
   "execution_count": null,
   "id": "de7f5795",
   "metadata": {},
   "outputs": [],
   "source": [
    "coef = [1.0,1.0,-14.0,-24.0]\n",
    "np.roots(coef)"
   ]
  },
  {
   "cell_type": "markdown",
   "id": "5dbebc1a",
   "metadata": {},
   "source": [
    "   ## Grafica de funciones"
   ]
  },
  {
   "cell_type": "code",
   "execution_count": 14,
   "id": "8a8019a7",
   "metadata": {},
   "outputs": [],
   "source": [
    "from matplotlib import pyplot\n",
    "import numpy as np"
   ]
  },
  {
   "cell_type": "code",
   "execution_count": 15,
   "id": "440c6aa5",
   "metadata": {},
   "outputs": [
    {
     "data": {
      "image/png": "[encoded data removed]",
      "text/plain": [
       "<Figure size 432x288 with 1 Axes>"
      ]
     },
     "metadata": {
      "needs_background": "light"
     },
     "output_type": "display_data"
    }
   ],
   "source": [
    "def f1(x):\n",
    "    return 2 * x ** 2 + 5 * x -2\n",
    "def f2(x):\n",
    "    return 4 * x + 1\n",
    "\n",
    "#valores que toma el eje x\n",
    "#x = range(-10,15)\n",
    "x = np.arange(-10,15,0.1)\n",
    "\n",
    "#graficar ambas funciones\n",
    "pyplot.plot(x,[f1(i) for i in x])\n",
    "pyplot.plot(x,[f2(i) for i in x])\n",
    "\n",
    "#establece el color de los ejes\n",
    "pyplot.axhline(0,color='black')\n",
    "pyplot.axvline(0,color='black')\n",
    "\n",
    "#limitar los valores de los ejes\n",
    "pyplot.xlim(-10,10)\n",
    "pyplot.ylim(-10,10)\n",
    "\n",
    "#Guardar grafico como imagen PNG\n",
    "pyplot.savefig('output.png')\n",
    "\n",
    "#Mostrarlo\n",
    "pyplot.show()"
   ]
  },
  {
   "cell_type": "code",
   "execution_count": 16,
   "id": "38778f2a",
   "metadata": {},
   "outputs": [
    {
     "data": {
      "image/png": "[encoded data removed]",
      "text/plain": [
       "<Figure size 432x288 with 1 Axes>"
      ]
     },
     "metadata": {
      "needs_background": "light"
     },
     "output_type": "display_data"
    }
   ],
   "source": [
    "x = np.arange(0,10,0.1)\n",
    "y = x*np.cos(x)\n",
    "\n",
    "pyplot.plot(x,y)\n",
    "pyplot.xlabel('x')\n",
    "pyplot.ylabel('y')\n",
    "pyplot.title('Lab DLS')\n",
    "pyplot.show()"
   ]
  },
  {
   "cell_type": "markdown",
   "id": "01f65781",
   "metadata": {},
   "source": [
    "## Cálculo de raices de ecuación cuadratica"
   ]
  },
  {
   "cell_type": "code",
   "execution_count": 1,
   "id": "0afe85de",
   "metadata": {},
   "outputs": [
    {
     "name": "stdout",
     "output_type": "stream",
     "text": [
      "x1 = -1.5 y x2 = -2.0\n"
     ]
    }
   ],
   "source": [
    "def raices(a,b,c):\n",
    "    disc = b**2-4*a*c\n",
    "    if disc > 0:\n",
    "        print(f'x1 = {(-b+disc**(1/2))/(2*a)} y x2 = {(-b-disc**(1/2))/(2*a)}')\n",
    "    elif disc == 0:\n",
    "        print(f'x1,x2 = {-b/(2*a)}')\n",
    "    else:\n",
    "        print('No tiene raices reales')\n",
    "raices(1,7/2,3)"
   ]
  },
  {
   "cell_type": "code",
   "execution_count": 12,
   "id": "b8112f4e",
   "metadata": {},
   "outputs": [
    {
     "name": "stdout",
     "output_type": "stream",
     "text": [
      "1.0\n",
      "10.0\n",
      "35.0\n",
      "84.0\n"
     ]
    }
   ],
   "source": [
    "for n in range(1,5):\n",
    "    resultado = (n*(2*n-1)*(2*n+1))/3\n",
    "    print(resultado)"
   ]
  },
  {
   "cell_type": "markdown",
   "id": "a66b5f47",
   "metadata": {},
   "source": [
    "# Logaritmos\n",
    "$\\log{_a}{x}=y <=> a^{y}=x$"
   ]
  },
  {
   "cell_type": "code",
   "execution_count": 1,
   "id": "7b241c59",
   "metadata": {},
   "outputs": [],
   "source": [
    "import math"
   ]
  },
  {
   "cell_type": "code",
   "execution_count": 22,
   "id": "c0912e9b",
   "metadata": {},
   "outputs": [
    {
     "data": {
      "text/plain": [
       "2.302585092994046"
      ]
     },
     "execution_count": 22,
     "metadata": {},
     "output_type": "execute_result"
    }
   ],
   "source": [
    "math.log(10)"
   ]
  },
  {
   "cell_type": "markdown",
   "id": "a5b39684",
   "metadata": {},
   "source": [
    "## Propiedades\n",
    "1. $\\log{_a}{1}=0$\n",
    "2. $\\log{_a}{a}=1$\n",
    "3. $\\log{_a}{a^x}=x$\n",
    "4. $a^{\\log{_a}{x}}=x$\n",
    "5. $\\log{_b}{(x.y)}=\\log{_b}{x}+\\log{_b}{y}$ con $x>0$ y $y>0$\n",
    "6. $\\log{_b}{\\frac{x}{y}}=\\log{_b}{x}-\\log{_b}{y}$ con $x>0$ y $y>0$\n",
    "7. $\\log{_b}{x^n}=n*\\log{_b}{x}$ con $x>0$\n",
    "8. $\\log{_a}{x}=\\frac{\\log{_d}{x}}{\\log{_d}{a}}$"
   ]
  },
  {
   "cell_type": "code",
   "execution_count": 23,
   "id": "c26acbd3",
   "metadata": {},
   "outputs": [
    {
     "data": {
      "text/plain": [
       "-8.000000000000002"
      ]
     },
     "execution_count": 23,
     "metadata": {},
     "output_type": "execute_result"
    }
   ],
   "source": [
    "math.log(1/81,3**(1/2))"
   ]
  },
  {
   "cell_type": "code",
   "execution_count": 24,
   "id": "e4028528",
   "metadata": {},
   "outputs": [
    {
     "data": {
      "text/plain": [
       "-3.0"
      ]
     },
     "execution_count": 24,
     "metadata": {},
     "output_type": "execute_result"
    }
   ],
   "source": [
    "math.log(0.125,2)"
   ]
  },
  {
   "cell_type": "code",
   "execution_count": 4,
   "id": "c357b44f",
   "metadata": {},
   "outputs": [
    {
     "data": {
      "text/plain": [
       "4.76701437037684"
      ]
     },
     "execution_count": 4,
     "metadata": {},
     "output_type": "execute_result"
    }
   ],
   "source": [
    "math.tan(50*math.pi/180)*4"
   ]
  },
  {
   "cell_type": "markdown",
   "id": "1217ae06",
   "metadata": {},
   "source": [
    "## Gráfica de seno, coseno y tangente en Python."
   ]
  },
  {
   "cell_type": "code",
   "execution_count": 30,
   "id": "66e0fa99",
   "metadata": {},
   "outputs": [],
   "source": [
    "import matplotlib.pyplot as plt"
   ]
  },
  {
   "cell_type": "code",
   "execution_count": 32,
   "id": "97508b3f",
   "metadata": {},
   "outputs": [
    {
     "data": {
      "image/png": "[encoded data removed]",
      "text/plain": [
       "<Figure size 432x288 with 1 Axes>"
      ]
     },
     "metadata": {
      "needs_background": "light"
     },
     "output_type": "display_data"
    }
   ],
   "source": [
    "grados = []\n",
    "seno = []\n",
    "coseno = []\n",
    "tangente = []\n",
    "\n",
    "for i in range(0,540):\n",
    "    grados.append(i)\n",
    "    radianes = (i*math.pi)/100\n",
    "    seno.append(math.sin(radianes))\n",
    "    coseno.append(math.cos(radianes))\n",
    "    tangente.append(math.tan(radianes))\n",
    "    \n",
    "plt.ylim(-2,2)\n",
    "plt.plot(grados,seno,\"r\")\n",
    "plt.plot(grados,coseno,\"b\")\n",
    "plt.plot(grados,tangente)\n",
    "plt.show()"
   ]
  },
  {
   "cell_type": "markdown",
   "id": "53e3d1a7",
   "metadata": {},
   "source": [
    "# Distancia euclidiana"
   ]
  },
  {
   "cell_type": "code",
   "execution_count": 3,
   "id": "b5e06628",
   "metadata": {},
   "outputs": [],
   "source": [
    "import numpy as np\n",
    "import math"
   ]
  },
  {
   "cell_type": "code",
   "execution_count": 2,
   "id": "ff73c6ac",
   "metadata": {},
   "outputs": [
    {
     "name": "stdout",
     "output_type": "stream",
     "text": [
      "5.196152422706632\n"
     ]
    }
   ],
   "source": [
    "a = np.array((1,2,3))\n",
    "b = np.array((4,5,6))\n",
    "dist = np.linalg.norm(a-b)\n",
    "print(dist)"
   ]
  },
  {
   "cell_type": "code",
   "execution_count": 6,
   "id": "82a061b1",
   "metadata": {},
   "outputs": [
    {
     "data": {
      "text/plain": [
       "5.196152422706632"
      ]
     },
     "execution_count": 6,
     "metadata": {},
     "output_type": "execute_result"
    }
   ],
   "source": [
    "dist2 = math.sqrt((a[0]-b[0])**2+(a[1]-b[1])**2+(a[2]-b[2])**2)\n",
    "dist2"
   ]
  },
  {
   "cell_type": "code",
   "execution_count": 7,
   "id": "4e328836",
   "metadata": {},
   "outputs": [
    {
     "data": {
      "text/plain": [
       "5.196152422706632"
      ]
     },
     "execution_count": 7,
     "metadata": {},
     "output_type": "execute_result"
    }
   ],
   "source": [
    "dist3 = np.sqrt(np.sum(np.square(a-b)))\n",
    "dist3"
   ]
  },
  {
   "cell_type": "code",
   "execution_count": 9,
   "id": "9a6092dd",
   "metadata": {},
   "outputs": [
    {
     "data": {
      "text/plain": [
       "5.196152422706632"
      ]
     },
     "execution_count": 9,
     "metadata": {},
     "output_type": "execute_result"
    }
   ],
   "source": [
    "dist4 = math.dist(a,b)\n",
    "dist4"
   ]
  },
  {
   "cell_type": "markdown",
   "id": "6cfb28e5",
   "metadata": {},
   "source": [
    "# Vectores\n",
    "Existen magnitudes que, una vez fijada la unidad de medida, se determinan por medio de un único número real. Tales magnitudes, como lo son la longitud de una barra, el volumen, la temperatura y masa de un\n",
    "cuerpo se denominan magnitudes escalares. Hay otras magnitudes que no pueden determinarse mediante un único número real. Por ejemplo, para la velocidad de un móvil no basta conocer su intensidad, sino que hace falta conocer adem´as la direcci´on y el sentido en que el m´ovil se mueve."
   ]
  },
  {
   "cell_type": "markdown",
   "id": "50179e8e",
   "metadata": {},
   "source": [
    "# Markdown"
   ]
  },
  {
   "cell_type": "markdown",
   "id": "d845e470",
   "metadata": {},
   "source": [
    "\\begin{equation*}\n",
    "\\sum_{n=1}^\\infty\\frac{1}{n^2}=\\frac{\\pi^2}{6}\n",
    "\\end{equation*}"
   ]
  },
  {
   "cell_type": "markdown",
   "id": "5334b0c8",
   "metadata": {},
   "source": [
    "| Mes | Facturación | Comercial |\n",
    "| --- | ---: | :---: |\n",
    "| Enero | 100.000 | Feli |\n",
    "| Enero | 200.000 | Fran C. |\n",
    "| Febrero | 400.000 | Feli |\n",
    "| Febrero | 50.000 | Fran C. |"
   ]
  },
  {
   "cell_type": "markdown",
   "id": "63ef44eb",
   "metadata": {},
   "source": [
    "# Lógica"
   ]
  },
  {
   "cell_type": "code",
   "execution_count": 8,
   "id": "0065b0d5",
   "metadata": {},
   "outputs": [
    {
     "name": "stdout",
     "output_type": "stream",
     "text": [
      "x\ty\tx or y\n",
      "----------------------\n",
      "True\tTrue\tTrue\n",
      "True\tFalse\tTrue\n",
      "False\tTrue\tTrue\n",
      "False\tFalse\tFalse\n",
      "\n"
     ]
    }
   ],
   "source": [
    "booleanos = [True,False]\n",
    "\n",
    "# Tabla de verdad de or\n",
    "\n",
    "print('x\\ty\\tx or y')\n",
    "print('-'*22)\n",
    "for x in booleanos:\n",
    "    for y in booleanos:\n",
    "        print(x, y, x or y, sep = '\\t')\n",
    "\n",
    "print()"
   ]
  },
  {
   "cell_type": "code",
   "execution_count": 9,
   "id": "63a0695b",
   "metadata": {},
   "outputs": [
    {
     "name": "stdout",
     "output_type": "stream",
     "text": [
      "x\ty\tx and y\n",
      "----------------------\n",
      "True\tTrue\tTrue\n",
      "True\tFalse\tFalse\n",
      "False\tTrue\tFalse\n",
      "False\tFalse\tFalse\n"
     ]
    }
   ],
   "source": [
    "# Tabla de verdad de and\n",
    "\n",
    "print('x\\ty\\tx and y')\n",
    "print('-'*22)\n",
    "for x in booleanos:\n",
    "    for y in booleanos:\n",
    "        print(x,y,x and y,sep='\\t')"
   ]
  },
  {
   "cell_type": "code",
   "execution_count": 24,
   "id": "11ef9947",
   "metadata": {},
   "outputs": [
    {
     "name": "stdout",
     "output_type": "stream",
     "text": [
      "x\ty\tx => y\n",
      "--------------------------\n",
      "True\tTrue\tTrue\n",
      "True\tFalse\tFalse\n",
      "False\tTrue\tTrue\n",
      "False\tFalse\tTrue\n"
     ]
    }
   ],
   "source": [
    "print('x\\ty\\tx => y')\n",
    "print('-'*26)\n",
    "for x in booleanos:\n",
    "    for y in booleanos:\n",
    "        print(x,y,not x or y,sep='\\t')"
   ]
  },
  {
   "cell_type": "code",
   "execution_count": 22,
   "id": "00338d47",
   "metadata": {},
   "outputs": [
    {
     "name": "stdout",
     "output_type": "stream",
     "text": [
      "x\ty\n",
      "--------------------------\n",
      "True\tTrue\tTrue\n",
      "True\tFalse\tFalse\n",
      "False\tTrue\tTrue\n",
      "False\tFalse\tTrue\n"
     ]
    }
   ],
   "source": [
    "print('x\\ty')\n",
    "print('-'*26)\n",
    "for x in booleanos:\n",
    "    for y in booleanos:\n",
    "        print(x,y,not x or y,sep='\\t')"
   ]
  },
  {
   "cell_type": "code",
   "execution_count": 21,
   "id": "1905cc2a",
   "metadata": {},
   "outputs": [
    {
     "name": "stdout",
     "output_type": "stream",
     "text": [
      "x\ty\n",
      "-----------------------\n",
      "True\tTrue\tTrue\n",
      "True\tTrue\tFalse\n",
      "True\tFalse\tTrue\n",
      "True\tFalse\tFalse\n",
      "False\tTrue\tTrue\n",
      "False\tTrue\tFalse\n",
      "False\tFalse\tTrue\n",
      "False\tFalse\tFalse\n"
     ]
    }
   ],
   "source": [
    "print('x\\ty')\n",
    "print('-'*23)\n",
    "for x in booleanos:\n",
    "    for y in booleanos:\n",
    "        for h in booleanos:\n",
    "            print(x,y,h,sep='\\t')"
   ]
  },
  {
   "cell_type": "code",
   "execution_count": 1,
   "id": "28fc0168",
   "metadata": {},
   "outputs": [
    {
     "data": {
      "text/plain": [
       "36"
      ]
     },
     "execution_count": 1,
     "metadata": {},
     "output_type": "execute_result"
    }
   ],
   "source": [
    "12*3"
   ]
  },
  {
   "cell_type": "code",
   "execution_count": null,
   "id": "a35fdd7d",
   "metadata": {},
   "outputs": [],
   "source": []
  }
 ],
 "metadata": {
  "hide_input": false,
  "kernelspec": {
   "display_name": "Python 3 (ipykernel)",
   "language": "python",
   "name": "python3"
  },
  "language_info": {
   "codemirror_mode": {
    "name": "ipython",
    "version": 3
   },
   "file_extension": ".py",
   "mimetype": "text/x-python",
   "name": "python",
   "nbconvert_exporter": "python",
   "pygments_lexer": "ipython3",
   "version": "3.10.3"
  },
  "toc": {
   "base_numbering": 1,
   "nav_menu": {},
   "number_sections": true,
   "sideBar": true,
   "skip_h1_title": false,
   "title_cell": "Table of Contents",
   "title_sidebar": "Contents",
   "toc_cell": false,
   "toc_position": {
    "height": "calc(100% - 180px)",
    "left": "10px",
    "top": "150px",
    "width": "227.657px"
   },
   "toc_section_display": true,
   "toc_window_display": true
  }
 },
 "nbformat": 4,
 "nbformat_minor": 5
}
