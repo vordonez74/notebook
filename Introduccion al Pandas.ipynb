{
 "cells": [
  {
   "cell_type": "markdown",
   "id": "af02d65a",
   "metadata": {},
   "source": [
    "# Introducción al Pandas"
   ]
  },
  {
   "cell_type": "code",
   "execution_count": null,
   "id": "17d8ffda",
   "metadata": {},
   "outputs": [],
   "source": [
    "import pandas as pd"
   ]
  },
  {
   "cell_type": "code",
   "execution_count": null,
   "id": "7cca5c50",
   "metadata": {},
   "outputs": [],
   "source": [
    "df = pd.read_csv(\"C:/Users/ordonez/Documents/UCASAL/notebooks/base_datos_2008.csv\", nrows = 1000000)"
   ]
  },
  {
   "cell_type": "code",
   "execution_count": null,
   "id": "d5a48350",
   "metadata": {},
   "outputs": [],
   "source": [
    "df.head()"
   ]
  },
  {
   "cell_type": "code",
   "execution_count": null,
   "id": "37cdaa0b",
   "metadata": {},
   "outputs": [],
   "source": [
    "df.tail()"
   ]
  },
  {
   "cell_type": "code",
   "execution_count": null,
   "id": "4a20cba3",
   "metadata": {},
   "outputs": [],
   "source": [
    "df.sample(frac = 1) #El 1 indica que mostrará el 100 %"
   ]
  },
  {
   "cell_type": "code",
   "execution_count": null,
   "id": "32903b62",
   "metadata": {},
   "outputs": [],
   "source": [
    "#Muestra las columnas del dataFrame\n",
    "df.columns"
   ]
  },
  {
   "cell_type": "code",
   "execution_count": null,
   "id": "d6dbed41",
   "metadata": {},
   "outputs": [],
   "source": [
    "#Para listar una columna\n",
    "df.Year"
   ]
  },
  {
   "cell_type": "code",
   "execution_count": null,
   "id": "e9ec5fde",
   "metadata": {},
   "outputs": [],
   "source": [
    "#Para saber el tipo de dato de cada columna\n",
    "df.dtypes"
   ]
  },
  {
   "cell_type": "code",
   "execution_count": null,
   "id": "f2302274",
   "metadata": {},
   "outputs": [],
   "source": [
    "df[\"Year\"] #df.Year"
   ]
  },
  {
   "cell_type": "code",
   "execution_count": null,
   "id": "defa4b91",
   "metadata": {},
   "outputs": [],
   "source": [
    "df[df.Origin.isin([\"HOU\",\"ATL\"])]"
   ]
  },
  {
   "cell_type": "code",
   "execution_count": null,
   "id": "22ea69d6",
   "metadata": {},
   "outputs": [],
   "source": [
    "df[pd.isna(df[\"ArrDelay\"])].head()"
   ]
  },
  {
   "cell_type": "code",
   "execution_count": null,
   "id": "68a932a6",
   "metadata": {},
   "outputs": [],
   "source": [
    "len(df[pd.isna(df[\"ArrDelay\"])])\n"
   ]
  },
  {
   "cell_type": "markdown",
   "id": "722f07ed",
   "metadata": {},
   "source": [
    "## Transformaciones de las bases de datos"
   ]
  },
  {
   "cell_type": "markdown",
   "id": "a28d6baa",
   "metadata": {},
   "source": [
    "### Agregamos una columna"
   ]
  },
  {
   "cell_type": "code",
   "execution_count": null,
   "id": "9b1963ca",
   "metadata": {},
   "outputs": [],
   "source": [
    "df[\"HoursDelay\"] = round(df[\"ArrDelay\"] / 60)"
   ]
  },
  {
   "cell_type": "code",
   "execution_count": null,
   "id": "aeb7c35a",
   "metadata": {},
   "outputs": [],
   "source": [
    "df.HoursDelay"
   ]
  },
  {
   "cell_type": "markdown",
   "id": "ce7b4e30",
   "metadata": {},
   "source": [
    "### Borramos una columna"
   ]
  },
  {
   "cell_type": "code",
   "execution_count": null,
   "id": "8f1fa918",
   "metadata": {},
   "outputs": [],
   "source": [
    "del(df[\"HoursDelay\"])"
   ]
  },
  {
   "cell_type": "code",
   "execution_count": null,
   "id": "654b2e71",
   "metadata": {},
   "outputs": [],
   "source": [
    "df = df.drop([\"Diverted\",\"Cancelled\",\"Year\"],axis=1)\n",
    "# df.drop([\"Diverted\",\"Cancelled\",\"Year\"],axis=1,inplace=true) el parámetro inplace hace efectivo el borrado sin necesidad de reasignar"
   ]
  },
  {
   "cell_type": "code",
   "execution_count": null,
   "id": "9319565a",
   "metadata": {},
   "outputs": [],
   "source": [
    "df.head()"
   ]
  },
  {
   "cell_type": "markdown",
   "id": "777a4a75",
   "metadata": {},
   "source": [
    "### Borrar filas"
   ]
  },
  {
   "cell_type": "code",
   "execution_count": null,
   "id": "6866d97f",
   "metadata": {},
   "outputs": [],
   "source": [
    "df.drop(0) #Borra la primer fila"
   ]
  },
  {
   "cell_type": "code",
   "execution_count": null,
   "id": "3929d2e1",
   "metadata": {},
   "outputs": [],
   "source": [
    "df.drop(range(0,10000)) #No borra hasta que se asigne"
   ]
  },
  {
   "cell_type": "markdown",
   "id": "855a1b73",
   "metadata": {},
   "source": [
    "### Concatenating dfATL and dfHOU along rows"
   ]
  },
  {
   "cell_type": "code",
   "execution_count": null,
   "id": "97bcf01c",
   "metadata": {},
   "outputs": [],
   "source": [
    "dfATL = df[df.Origin == \"ATL\"]\n",
    "dfHOU = df[df.Origin == \"HOU\"]\n",
    "newdf = pd.concat([dfATL,dfHOU],axis=0) #dfATL.append(dfHOU) is deprecated"
   ]
  },
  {
   "cell_type": "code",
   "execution_count": null,
   "id": "682012e2",
   "metadata": {},
   "outputs": [],
   "source": [
    "display(newdf.Origin)"
   ]
  },
  {
   "cell_type": "markdown",
   "id": "aa401a7b",
   "metadata": {},
   "source": [
    "### Groupby: Obtener información esencial"
   ]
  },
  {
   "cell_type": "code",
   "execution_count": null,
   "id": "24200700",
   "metadata": {},
   "outputs": [],
   "source": [
    "#Obtiene el máximo retraso de los vuelos por semana\n",
    "df.groupby(by = \"DayOfWeek\")[\"ArrDelay\"].max()"
   ]
  },
  {
   "cell_type": "code",
   "execution_count": null,
   "id": "2ae436d2",
   "metadata": {},
   "outputs": [],
   "source": [
    "df.groupby(by = \"DayOfWeek\")[\"ArrDelay\"].describe()"
   ]
  },
  {
   "cell_type": "code",
   "execution_count": null,
   "id": "9a5b88eb",
   "metadata": {},
   "outputs": [],
   "source": [
    "df.groupby(by = \"DayOfWeek\")[\"ArrDelay\",\"DepDelay\"].mean()"
   ]
  },
  {
   "cell_type": "code",
   "execution_count": null,
   "id": "86be79a9",
   "metadata": {},
   "outputs": [],
   "source": [
    "#Rango\n",
    "df.groupby(by = \"DayOfWeek\")[\"ArrDelay\"].max() - df.groupby(by = \"DayOfWeek\")[\"ArrDelay\"].min()"
   ]
  },
  {
   "cell_type": "code",
   "execution_count": null,
   "id": "89f7f565",
   "metadata": {},
   "outputs": [],
   "source": [
    "dfATLHOU = df[df.Origin.isin([\"ATL\",\"HOU\"])]"
   ]
  },
  {
   "cell_type": "code",
   "execution_count": null,
   "id": "4beb1e0a",
   "metadata": {},
   "outputs": [],
   "source": [
    "dfATLHOU.groupby(by = [\"DayOfWeek\",\"Origin\"])[\"ArrDelay\"].mean()"
   ]
  },
  {
   "cell_type": "code",
   "execution_count": null,
   "id": "b3bc73cd",
   "metadata": {},
   "outputs": [],
   "source": [
    "mygroupby = dfATLHOU.groupby(by = [\"DayOfWeek\",\"Origin\"])[\"ArrDelay\"]\n",
    "mygroupby.max()"
   ]
  },
  {
   "cell_type": "markdown",
   "id": "0235da65",
   "metadata": {},
   "source": [
    "## Tratar datos duplicados y perdidos"
   ]
  },
  {
   "cell_type": "code",
   "execution_count": null,
   "id": "9b586a36",
   "metadata": {},
   "outputs": [],
   "source": [
    "import pandas as pd\n",
    "df = pd.read_csv(\"C:/Users/ordonez/Documents/UCASAL/notebooks/base_datos_2008.csv\", nrows = 1e6)"
   ]
  },
  {
   "cell_type": "code",
   "execution_count": null,
   "id": "fd2c102e",
   "metadata": {},
   "outputs": [],
   "source": [
    "#duplicamos el dataframe\n",
    "dfDuplicate = pd.concat([df,df])"
   ]
  },
  {
   "cell_type": "code",
   "execution_count": null,
   "id": "d30a2129",
   "metadata": {},
   "outputs": [],
   "source": [
    "dfDuplicate = dfDuplicate.sample(frac=1)"
   ]
  },
  {
   "cell_type": "code",
   "execution_count": null,
   "id": "92f638e5",
   "metadata": {},
   "outputs": [],
   "source": [
    "dfClean = dfDuplicate.drop_duplicates()"
   ]
  },
  {
   "cell_type": "code",
   "execution_count": null,
   "id": "d3feabd1",
   "metadata": {},
   "outputs": [],
   "source": [
    "dfClean.drop_duplicates(subset = \"DayofMonth\")"
   ]
  },
  {
   "cell_type": "code",
   "execution_count": null,
   "id": "75ebc5bb",
   "metadata": {},
   "outputs": [],
   "source": [
    "df.dropna()"
   ]
  },
  {
   "cell_type": "code",
   "execution_count": null,
   "id": "3559e718",
   "metadata": {},
   "outputs": [],
   "source": []
  }
 ],
 "metadata": {
  "kernelspec": {
   "display_name": "Python 3 (ipykernel)",
   "language": "python",
   "name": "python3"
  },
  "language_info": {
   "codemirror_mode": {
    "name": "ipython",
    "version": 3
   },
   "file_extension": ".py",
   "mimetype": "text/x-python",
   "name": "python",
   "nbconvert_exporter": "python",
   "pygments_lexer": "ipython3",
   "version": "3.10.2"
  }
 },
 "nbformat": 4,
 "nbformat_minor": 5
}
