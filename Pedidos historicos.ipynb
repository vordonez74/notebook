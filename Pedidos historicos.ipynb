{
 "cells": [
  {
   "cell_type": "code",
   "execution_count": 1,
   "id": "fbaa9f50",
   "metadata": {},
   "outputs": [],
   "source": [
    "import pandas as pd\n",
    "import time"
   ]
  },
  {
   "cell_type": "code",
   "execution_count": 2,
   "id": "3272ecd3",
   "metadata": {},
   "outputs": [
    {
     "name": "stdout",
     "output_type": "stream",
     "text": [
      "Tardo 43.5 segundos\n"
     ]
    }
   ],
   "source": [
    "start = time.time()\n",
    "pedhist= pd.read_excel(\"PEDIDOS192021.XLSX\")\n",
    "end = time.time()\n",
    "print(f\"Tardo {round(end - start,1)} segundos\")"
   ]
  },
  {
   "cell_type": "code",
   "execution_count": 5,
   "id": "16a62952",
   "metadata": {},
   "outputs": [
    {
     "name": "stdout",
     "output_type": "stream",
     "text": [
      "<class 'pandas.core.frame.DataFrame'>\n",
      "RangeIndex: 97582 entries, 0 to 97581\n",
      "Data columns (total 42 columns):\n",
      " #   Column                               Non-Null Count  Dtype         \n",
      "---  ------                               --------------  -----         \n",
      " 0   Fecha documento                      97582 non-null  datetime64[ns]\n",
      " 1   Centro                               97582 non-null  int64         \n",
      " 2   Almacén                              96723 non-null  object        \n",
      " 3   Cl.documento compras                 97582 non-null  object        \n",
      " 4   Documento compras                    97582 non-null  int64         \n",
      " 5   Nombre del proveedor                 97582 non-null  object        \n",
      " 6   Material                             97582 non-null  int64         \n",
      " 7   Texto breve                          97582 non-null  object        \n",
      " 8   Unidad medida pedido                 97582 non-null  object        \n",
      " 9   UM precio pedido                     97582 non-null  object        \n",
      " 10  Unidad de medida de almacén          97582 non-null  object        \n",
      " 11  Posición                             97582 non-null  int64         \n",
      " 12  Cantidad de pedido                   97582 non-null  float64       \n",
      " 13  Cantidad en UMA                      97582 non-null  float64       \n",
      " 14  Por calcular (cantidad)              97582 non-null  float64       \n",
      " 15  Por entregar (cantidad)              97582 non-null  float64       \n",
      " 16  Cantidad prevista                    97582 non-null  int64         \n",
      " 17  Ctd-prev. pendiente                  97582 non-null  int64         \n",
      " 18  Valor neto de pedido                 97582 non-null  float64       \n",
      " 19  Tipo cambio moneda                   97582 non-null  object        \n",
      " 20  Moneda                               97582 non-null  object        \n",
      " 21  Precio neto                          97582 non-null  float64       \n",
      " 22  Grupo de compras                     97582 non-null  object        \n",
      " 23  Nuestra referencia                   48452 non-null  object        \n",
      " 24  Cantidad base                        97582 non-null  int64         \n",
      " 25  Número de necesidad                  44925 non-null  object        \n",
      " 26  Licitación                           44898 non-null  float64       \n",
      " 27  Contrato marco                       47305 non-null  float64       \n",
      " 28  incompleto                           200 non-null    object        \n",
      " 29  Tipo de imputación                   3 non-null      object        \n",
      " 30  Indicador de borrado                 3652 non-null   object        \n",
      " 31  Historial pedido/Docu.orden entrega  0 non-null      float64       \n",
      " 32  Ctd.notificada                       97582 non-null  float64       \n",
      " 33  Ind.liberación                       45002 non-null  object        \n",
      " 34  Plazo de oferta                      0 non-null      float64       \n",
      " 35  Pos.contrato sup.                    97582 non-null  int64         \n",
      " 36  Reg.info de compras                  97155 non-null  float64       \n",
      " 37  Tipo de posición                     38727 non-null  object        \n",
      " 38  Tipo de posición.1                   97582 non-null  int64         \n",
      " 39  Tipo doc.compras                     97582 non-null  object        \n",
      " 40  Referencia                           44732 non-null  object        \n",
      " 41  Estado liberación                    44178 non-null  object        \n",
      "dtypes: datetime64[ns](1), float64(12), int64(9), object(20)\n",
      "memory usage: 31.3+ MB\n"
     ]
    }
   ],
   "source": [
    "pedhist.info()"
   ]
  },
  {
   "cell_type": "code",
   "execution_count": 6,
   "id": "278f6936",
   "metadata": {},
   "outputs": [
    {
     "data": {
      "text/plain": [
       "Index(['Fecha documento', 'Centro', 'Almacén', 'Cl.documento compras',\n",
       "       'Documento compras', 'Nombre del proveedor', 'Material', 'Texto breve',\n",
       "       'Unidad medida pedido', 'UM precio pedido',\n",
       "       'Unidad de medida de almacén', 'Posición', 'Cantidad de pedido',\n",
       "       'Cantidad en UMA', 'Por calcular (cantidad)', 'Por entregar (cantidad)',\n",
       "       'Cantidad prevista', 'Ctd-prev. pendiente', 'Valor neto de pedido',\n",
       "       'Tipo cambio moneda', 'Moneda', 'Precio neto', 'Grupo de compras',\n",
       "       'Nuestra referencia', 'Cantidad base', 'Número de necesidad',\n",
       "       'Licitación', 'Contrato marco', 'incompleto', 'Tipo de imputación',\n",
       "       'Indicador de borrado', 'Historial pedido/Docu.orden entrega',\n",
       "       'Ctd.notificada', 'Ind.liberación', 'Plazo de oferta',\n",
       "       'Pos.contrato sup.', 'Reg.info de compras', 'Tipo de posición',\n",
       "       'Tipo de posición.1', 'Tipo doc.compras', 'Referencia',\n",
       "       'Estado liberación'],\n",
       "      dtype='object')"
      ]
     },
     "execution_count": 6,
     "metadata": {},
     "output_type": "execute_result"
    }
   ],
   "source": [
    "pedhist.columns"
   ]
  },
  {
   "cell_type": "code",
   "execution_count": 14,
   "id": "00efee22",
   "metadata": {},
   "outputs": [
    {
     "data": {
      "text/html": [
       "<div>\n",
       "<style scoped>\n",
       "    .dataframe tbody tr th:only-of-type {\n",
       "        vertical-align: middle;\n",
       "    }\n",
       "\n",
       "    .dataframe tbody tr th {\n",
       "        vertical-align: top;\n",
       "    }\n",
       "\n",
       "    .dataframe thead th {\n",
       "        text-align: right;\n",
       "    }\n",
       "</style>\n",
       "<table border=\"1\" class=\"dataframe\">\n",
       "  <thead>\n",
       "    <tr style=\"text-align: right;\">\n",
       "      <th></th>\n",
       "      <th>Nombre del proveedor</th>\n",
       "      <th>Material</th>\n",
       "    </tr>\n",
       "  </thead>\n",
       "  <tbody>\n",
       "    <tr>\n",
       "      <th>164</th>\n",
       "      <td>803649     AUTOLUX S.A.</td>\n",
       "      <td>1057554</td>\n",
       "    </tr>\n",
       "    <tr>\n",
       "      <th>165</th>\n",
       "      <td>803649     AUTOLUX S.A.</td>\n",
       "      <td>1048861</td>\n",
       "    </tr>\n",
       "    <tr>\n",
       "      <th>166</th>\n",
       "      <td>803649     AUTOLUX S.A.</td>\n",
       "      <td>1024751</td>\n",
       "    </tr>\n",
       "    <tr>\n",
       "      <th>167</th>\n",
       "      <td>803649     AUTOLUX S.A.</td>\n",
       "      <td>1060323</td>\n",
       "    </tr>\n",
       "    <tr>\n",
       "      <th>168</th>\n",
       "      <td>803649     AUTOLUX S.A.</td>\n",
       "      <td>1059063</td>\n",
       "    </tr>\n",
       "    <tr>\n",
       "      <th>...</th>\n",
       "      <td>...</td>\n",
       "      <td>...</td>\n",
       "    </tr>\n",
       "    <tr>\n",
       "      <th>97218</th>\n",
       "      <td>803649     AUTOLUX S.A.</td>\n",
       "      <td>1024587</td>\n",
       "    </tr>\n",
       "    <tr>\n",
       "      <th>97219</th>\n",
       "      <td>803649     AUTOLUX S.A.</td>\n",
       "      <td>1024602</td>\n",
       "    </tr>\n",
       "    <tr>\n",
       "      <th>97220</th>\n",
       "      <td>803649     AUTOLUX S.A.</td>\n",
       "      <td>1024660</td>\n",
       "    </tr>\n",
       "    <tr>\n",
       "      <th>97411</th>\n",
       "      <td>803649     AUTOLUX S.A.</td>\n",
       "      <td>1024588</td>\n",
       "    </tr>\n",
       "    <tr>\n",
       "      <th>97510</th>\n",
       "      <td>803649     AUTOLUX S.A.</td>\n",
       "      <td>1024762</td>\n",
       "    </tr>\n",
       "  </tbody>\n",
       "</table>\n",
       "<p>941 rows × 2 columns</p>\n",
       "</div>"
      ],
      "text/plain": [
       "          Nombre del proveedor  Material\n",
       "164    803649     AUTOLUX S.A.   1057554\n",
       "165    803649     AUTOLUX S.A.   1048861\n",
       "166    803649     AUTOLUX S.A.   1024751\n",
       "167    803649     AUTOLUX S.A.   1060323\n",
       "168    803649     AUTOLUX S.A.   1059063\n",
       "...                        ...       ...\n",
       "97218  803649     AUTOLUX S.A.   1024587\n",
       "97219  803649     AUTOLUX S.A.   1024602\n",
       "97220  803649     AUTOLUX S.A.   1024660\n",
       "97411  803649     AUTOLUX S.A.   1024588\n",
       "97510  803649     AUTOLUX S.A.   1024762\n",
       "\n",
       "[941 rows x 2 columns]"
      ]
     },
     "execution_count": 14,
     "metadata": {},
     "output_type": "execute_result"
    }
   ],
   "source": [
    "pedhist[pedhist['Nombre del proveedor'].str.contains(\"AUTOLUX\",case=False)][['Nombre del proveedor','Material']]"
   ]
  },
  {
   "cell_type": "code",
   "execution_count": null,
   "id": "dd253adf",
   "metadata": {},
   "outputs": [],
   "source": []
  }
 ],
 "metadata": {
  "hide_input": false,
  "kernelspec": {
   "display_name": "Python 3 (ipykernel)",
   "language": "python",
   "name": "python3"
  },
  "language_info": {
   "codemirror_mode": {
    "name": "ipython",
    "version": 3
   },
   "file_extension": ".py",
   "mimetype": "text/x-python",
   "name": "python",
   "nbconvert_exporter": "python",
   "pygments_lexer": "ipython3",
   "version": "3.10.2"
  },
  "toc": {
   "base_numbering": 1,
   "nav_menu": {},
   "number_sections": true,
   "sideBar": true,
   "skip_h1_title": false,
   "title_cell": "Table of Contents",
   "title_sidebar": "Contents",
   "toc_cell": false,
   "toc_position": {},
   "toc_section_display": true,
   "toc_window_display": false
  }
 },
 "nbformat": 4,
 "nbformat_minor": 5
}
