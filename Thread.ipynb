{
 "cells": [
  {
   "cell_type": "markdown",
   "id": "7ffee6d9",
   "metadata": {},
   "source": [
    "# Pool de threads"
   ]
  },
  {
   "cell_type": "code",
   "execution_count": 3,
   "id": "d019d6f8",
   "metadata": {},
   "outputs": [],
   "source": [
    "import time\n",
    "import logging\n",
    "from concurrent.futures import ThreadPoolExecutor"
   ]
  },
  {
   "cell_type": "code",
   "execution_count": 4,
   "id": "85b9410d",
   "metadata": {},
   "outputs": [],
   "source": [
    "logging.basicConfig(level=logging.DEBUG, format='%(threadName)s: %(message)s')"
   ]
  },
  {
   "cell_type": "code",
   "execution_count": 8,
   "id": "1af7fb93",
   "metadata": {},
   "outputs": [
    {
     "name": "stderr",
     "output_type": "stream",
     "text": [
      "ThreadPoolExecutor-1_1: Terminamos la tarea compleja 3 - 4!!\n",
      "\n",
      "ThreadPoolExecutor-1_0: Terminamos la tarea compleja 1 - 2!!\n",
      "\n",
      "ThreadPoolExecutor-1_1: Terminamos la tarea compleja 5 - 6!!\n",
      "\n"
     ]
    }
   ],
   "source": [
    "def super_task(a,b):\n",
    "    time.sleep(1)\n",
    "    logging.info(f'Terminamos la tarea compleja {a} - {b}!!\\n')\n",
    "\n",
    "if __name__== '__main__':\n",
    "    executor = ThreadPoolExecutor(max_workers=2)\n",
    "    executor.submit(super_task,1,2)\n",
    "    executor.submit(super_task,3,4)\n",
    "    executor.submit(super_task,5,6)"
   ]
  },
  {
   "cell_type": "markdown",
   "id": "b18cbcdf",
   "metadata": {},
   "source": [
    "1. [programación concurrente](https://codigofacilito.com/articulos/programacion-concurrente)\n",
    "2. [15 hilos](https://www.youtube.com/watch?v=3Rlh6uUuQqA)"
   ]
  },
  {
   "cell_type": "markdown",
   "id": "52956112",
   "metadata": {},
   "source": [
    "# Prueba de velocida de carga"
   ]
  },
  {
   "cell_type": "code",
   "execution_count": 1,
   "id": "c73cd381",
   "metadata": {},
   "outputs": [],
   "source": [
    "import pandas as pd\n",
    "import numpy as np\n",
    "import time"
   ]
  },
  {
   "cell_type": "code",
   "execution_count": 2,
   "id": "39569fb7",
   "metadata": {},
   "outputs": [
    {
     "name": "stdout",
     "output_type": "stream",
     "text": [
      "Se tardó 13.9 segundos)\n"
     ]
    }
   ],
   "source": [
    "start = time.time()\n",
    "materiales = pd.read_excel(\"C:/Users/ordonez/Documents/SAP/SAP GUI/M.xlsx\")\n",
    "pedidos = pd.read_excel(\"C:/Users/ordonez/Documents/SAP/SAP GUI/P.xlsx\")\n",
    "bloq = pd.read_excel(\"C:/Users/ordonez/Documents/SAP/SAP GUI/B.xlsx\")\n",
    "reservas = pd.read_excel(\"C:/Users/ordonez/Documents/SAP/SAP GUI/R.xlsx\")\n",
    "zub = pd.read_excel(\"C:/Users/ordonez/Documents/SAP/SAP GUI/Z.xlsx\")\n",
    "zor = pd.read_excel(\"C:/Users/ordonez/Documents/SAP/SAP GUI/S.xlsx\")\n",
    "contratos = pd.read_excel(\"C:/Users/ordonez/Documents/SAP/SAP GUI/C.xlsx\")\n",
    "end = time.time()\n",
    "print(f\"Se tardó {round(end - start,1)} segundos)\")\n",
    "\n",
    "# Tarda 13.9 segundos"
   ]
  },
  {
   "cell_type": "code",
   "execution_count": 13,
   "id": "061a9802",
   "metadata": {},
   "outputs": [
    {
     "name": "stderr",
     "output_type": "stream",
     "text": [
      "ThreadPoolExecutor-3_3: Terminamos con reservas!!\n",
      "\n",
      "ThreadPoolExecutor-3_3: Terminamos con ZUB!!\n",
      "\n",
      "ThreadPoolExecutor-3_1: Terminamos con pedidos!!\n",
      "\n",
      "ThreadPoolExecutor-3_3: Terminamos con Solpeds!!\n",
      "\n",
      "ThreadPoolExecutor-3_1: Terminamos con Contratos!!\n",
      "\n",
      "ThreadPoolExecutor-3_2: Terminamos con bloqueos!!\n",
      "\n",
      "ThreadPoolExecutor-3_0: Terminamos con materiales!!\n",
      "\n"
     ]
    }
   ],
   "source": [
    "def carga1():\n",
    "    materiales = pd.read_excel(\"C:/Users/ordonez/Documents/SAP/SAP GUI/M.xlsx\")\n",
    "    logging.info(f'Terminamos con materiales!!\\n')\n",
    "def carga2():\n",
    "    pedidos = pd.read_excel(\"C:/Users/ordonez/Documents/SAP/SAP GUI/P.xlsx\")\n",
    "    logging.info(f'Terminamos con pedidos!!\\n')\n",
    "def carga3():\n",
    "    bloq = pd.read_excel(\"C:/Users/ordonez/Documents/SAP/SAP GUI/B.xlsx\")\n",
    "    logging.info(f'Terminamos con bloqueos!!\\n')\n",
    "def carga4():    \n",
    "    reservas = pd.read_excel(\"C:/Users/ordonez/Documents/SAP/SAP GUI/R.xlsx\")\n",
    "    logging.info(f'Terminamos con reservas!!\\n')\n",
    "def carga5():    \n",
    "    zub = pd.read_excel(\"C:/Users/ordonez/Documents/SAP/SAP GUI/Z.xlsx\")\n",
    "    logging.info(f'Terminamos con ZUB!!\\n')\n",
    "def carga6():    \n",
    "    zor = pd.read_excel(\"C:/Users/ordonez/Documents/SAP/SAP GUI/S.xlsx\")\n",
    "    logging.info(f'Terminamos con Solpeds!!\\n')\n",
    "def carga7():    \n",
    "    contratos = pd.read_excel(\"C:/Users/ordonez/Documents/SAP/SAP GUI/C.xlsx\")\n",
    "    logging.info(f'Terminamos con Contratos!!\\n')\n",
    "\n",
    "if __name__ == '__main__':\n",
    "    start = time.time()\n",
    "    executer = ThreadPoolExecutor(max_workers=4)\n",
    "    executer.submit(carga1)\n",
    "    executer.submit(carga2)\n",
    "    executer.submit(carga3)\n",
    "    executer.submit(carga4)\n",
    "    executer.submit(carga5)\n",
    "    executer.submit(carga6)\n",
    "    executer.submit(carga7)\n",
    "# tarda 15 segundos más o menos, pero puede deberse a que todos los hilos acceden a disco.   "
   ]
  },
  {
   "cell_type": "code",
   "execution_count": null,
   "id": "63fba6f0",
   "metadata": {},
   "outputs": [],
   "source": []
  }
 ],
 "metadata": {
  "hide_input": false,
  "kernelspec": {
   "display_name": "Python 3 (ipykernel)",
   "language": "python",
   "name": "python3"
  },
  "language_info": {
   "codemirror_mode": {
    "name": "ipython",
    "version": 3
   },
   "file_extension": ".py",
   "mimetype": "text/x-python",
   "name": "python",
   "nbconvert_exporter": "python",
   "pygments_lexer": "ipython3",
   "version": "3.10.4"
  },
  "toc": {
   "base_numbering": 1,
   "nav_menu": {},
   "number_sections": true,
   "sideBar": true,
   "skip_h1_title": false,
   "title_cell": "Table of Contents",
   "title_sidebar": "Contents",
   "toc_cell": false,
   "toc_position": {},
   "toc_section_display": true,
   "toc_window_display": false
  }
 },
 "nbformat": 4,
 "nbformat_minor": 5
}
