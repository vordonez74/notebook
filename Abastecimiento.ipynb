{
 "cells": [
  {
   "cell_type": "markdown",
   "id": "a939389d",
   "metadata": {},
   "source": [
    "# ABASTECIMENTO\n",
    "ver pyodbc"
   ]
  },
  {
   "cell_type": "code",
   "execution_count": 1,
   "id": "28c84291",
   "metadata": {},
   "outputs": [],
   "source": [
    "import pandas as pd\n",
    "import numpy as np\n",
    "import matplotlib.pyplot as plt\n",
    "#from datetime import date,time,datetime"
   ]
  },
  {
   "cell_type": "markdown",
   "id": "00c5f7fd",
   "metadata": {},
   "source": [
    "## Importando reportes principales"
   ]
  },
  {
   "cell_type": "code",
   "execution_count": 2,
   "id": "affe6e1d",
   "metadata": {},
   "outputs": [
    {
     "name": "stdout",
     "output_type": "stream",
     "text": [
      "Se importo M (28227 registros/7.2 segundos)\n",
      "Se importo P (3747 registros/0.7 segundos)\n",
      "Se importo B (22610 registros/2.1 segundos)\n",
      "Se importo R (1644 registros/0.3 segundos)\n",
      "Se importo Z (767 registros/0.2 segundos)\n",
      "Se importo S (1667 registros/0.3 segundos)\n",
      "Se importo C (2963 registros/0.7 segundos)\n",
      "Se importo ConsumoMicro (667306 registros/2.0 minutos\n"
     ]
    }
   ],
   "source": [
    "import time\n",
    "start = time.time()\n",
    "materiales = pd.read_excel(\"C:/Users/ordonez/Documents/SAP/SAP GUI/M.xlsx\")\n",
    "end = time.time()\n",
    "print(f\"Se importo M ({len(materiales)} registros/{round(end - start,1)} segundos)\")\n",
    "\n",
    "start = time.time()\n",
    "pedidos = pd.read_excel(\"C:/Users/ordonez/Documents/SAP/SAP GUI/P.xlsx\")\n",
    "end = time.time()\n",
    "print(f\"Se importo P ({len(pedidos)} registros/{round(end - start,1)} segundos)\")\n",
    "\n",
    "start = time.time()\n",
    "bloq = pd.read_excel(\"C:/Users/ordonez/Documents/SAP/SAP GUI/B.xlsx\")\n",
    "end = time.time()\n",
    "print(f\"Se importo B ({len(bloq)} registros/{round(end - start,1)} segundos)\")\n",
    "\n",
    "start = time.time()\n",
    "reservas = pd.read_excel(\"C:/Users/ordonez/Documents/SAP/SAP GUI/R.xlsx\")\n",
    "end = time.time()\n",
    "print(f\"Se importo R ({len(reservas)} registros/{round(end - start,1)} segundos)\")\n",
    "\n",
    "start = time.time()\n",
    "zub = pd.read_excel(\"C:/Users/ordonez/Documents/SAP/SAP GUI/Z.xlsx\")\n",
    "end = time.time()\n",
    "print(f\"Se importo Z ({len(zub)} registros/{round(end - start,1)} segundos)\")\n",
    "\n",
    "start = time.time()\n",
    "zor = pd.read_excel(\"C:/Users/ordonez/Documents/SAP/SAP GUI/S.xlsx\")\n",
    "end = time.time()\n",
    "print(f\"Se importo S ({len(zor)} registros/{round(end - start,1)} segundos)\")\n",
    "\n",
    "start = time.time()\n",
    "contratos = pd.read_excel(\"C:/Users/ordonez/Documents/SAP/SAP GUI/C.xlsx\")\n",
    "end = time.time()\n",
    "print(f\"Se importo C ({len(contratos)} registros/{round(end - start,1)} segundos)\")\n",
    "\n",
    "start = time.time()\n",
    "consumos = pd.read_excel(\"C:/Users/ordonez/Documents/SAP/SAP GUI/ConsumosMicro.xlsx\")\n",
    "end = time.time()\n",
    "print(f\"Se importo ConsumoMicro ({len(consumos)} registros/{round((end - start)/60,1)} minutos\")\n"
   ]
  },
  {
   "cell_type": "markdown",
   "id": "2a7eb974",
   "metadata": {},
   "source": [
    "## Importando proveedores y mat-prov"
   ]
  },
  {
   "cell_type": "code",
   "execution_count": 3,
   "id": "c3072bd1",
   "metadata": {},
   "outputs": [
    {
     "name": "stdout",
     "output_type": "stream",
     "text": [
      "Se importo prov (1427 registros/0.3 segundos)\n",
      "Se importo matProv (45343 registros/1.5 segundos)\n"
     ]
    }
   ],
   "source": [
    "start = time.time()\n",
    "prov = pd.read_excel(\"proveedores.xlsx\")\n",
    "end = time.time()\n",
    "print(f\"Se importo prov ({len(prov)} registros/{round(end - start,1)} segundos)\")\n",
    "\n",
    "start = time.time()\n",
    "matProv = pd.read_excel(\"mat-prov.xlsx\")\n",
    "end = time.time()\n",
    "print(f\"Se importo matProv ({len(matProv)} registros/{round(end - start,1)} segundos)\")"
   ]
  },
  {
   "cell_type": "code",
   "execution_count": null,
   "id": "84eb81ad",
   "metadata": {},
   "outputs": [],
   "source": []
  },
  {
   "cell_type": "markdown",
   "id": "09a0ce2c",
   "metadata": {},
   "source": [
    "## Acondiciona dataframe Materiales"
   ]
  },
  {
   "cell_type": "code",
   "execution_count": 4,
   "id": "a99ddbb9",
   "metadata": {},
   "outputs": [
    {
     "name": "stdout",
     "output_type": "stream",
     "text": [
      "Se borraron los materiales de los almacenes 1140 y 1142 del centro 1002.\n",
      "Se creó id_mat\n",
      "Se creó la columna flia en df materiales.\n"
     ]
    }
   ],
   "source": [
    "#Borrar los materiales de los almacenes 1140 y 1142 del centro 1002\n",
    "indexABorrar = materiales[(materiales['Ce.']==1002) & (materiales['Almacén'].isin(['1141','1140']))].index\n",
    "materiales.drop(indexABorrar, inplace=True)\n",
    "print('Se borraron los materiales de los almacenes 1140 y 1142 del centro 1002.')\n",
    "\n",
    "#Creamos el id del dataframe materiales\n",
    "materiales[\"id_mat\"] = materiales[\"Almacén\"] + materiales[\"Material\"].astype(str)\n",
    "materiales.set_index('id_mat', inplace=True)\n",
    "print('Se creó id_mat')\n",
    "\n",
    "#Creamos la columna familia\n",
    "def crearFlia(jquia):\n",
    "    flia = jquia[:5][3:]\n",
    "    return flia\n",
    "materiales['flia'] = materiales['Jquía.productos'].apply(crearFlia)\n",
    "materiales[['Material','Texto breve de material','Jquía.productos','flia']]\n",
    "print('Se creó la columna flia en df materiales.')"
   ]
  },
  {
   "cell_type": "markdown",
   "id": "772382ca",
   "metadata": {},
   "source": [
    "## Busqueda"
   ]
  },
  {
   "cell_type": "code",
   "execution_count": 6,
   "id": "8f58834b",
   "metadata": {},
   "outputs": [
    {
     "data": {
      "text/html": [
       "<div>\n",
       "<style scoped>\n",
       "    .dataframe tbody tr th:only-of-type {\n",
       "        vertical-align: middle;\n",
       "    }\n",
       "\n",
       "    .dataframe tbody tr th {\n",
       "        vertical-align: top;\n",
       "    }\n",
       "\n",
       "    .dataframe thead th {\n",
       "        text-align: right;\n",
       "    }\n",
       "</style>\n",
       "<table border=\"1\" class=\"dataframe\">\n",
       "  <thead>\n",
       "    <tr style=\"text-align: right;\">\n",
       "      <th></th>\n",
       "      <th>Material</th>\n",
       "      <th>Texto breve de material</th>\n",
       "      <th>Ce.</th>\n",
       "      <th>Almacén</th>\n",
       "      <th>Grupo de artículos</th>\n",
       "      <th>GCp</th>\n",
       "    </tr>\n",
       "    <tr>\n",
       "      <th>id_mat</th>\n",
       "      <th></th>\n",
       "      <th></th>\n",
       "      <th></th>\n",
       "      <th></th>\n",
       "      <th></th>\n",
       "      <th></th>\n",
       "    </tr>\n",
       "  </thead>\n",
       "  <tbody>\n",
       "    <tr>\n",
       "      <th>11241012907</th>\n",
       "      <td>1012907</td>\n",
       "      <td>FILTRO ACEIT. 15600-87320 TOYOTA HILUX</td>\n",
       "      <td>1007</td>\n",
       "      <td>1124</td>\n",
       "      <td>Filtros para vehículos livianos</td>\n",
       "      <td>D18</td>\n",
       "    </tr>\n",
       "    <tr>\n",
       "      <th>11241012908</th>\n",
       "      <td>1012908</td>\n",
       "      <td>FILTRO AIRE 17801-54080 P/TOYOTA HILUX</td>\n",
       "      <td>1007</td>\n",
       "      <td>1124</td>\n",
       "      <td>Filtros para vehículos livianos</td>\n",
       "      <td>D18</td>\n",
       "    </tr>\n",
       "    <tr>\n",
       "      <th>11241012909</th>\n",
       "      <td>1012909</td>\n",
       "      <td>FILTRO COMB. 23303-64010 P/TOYOTA HILUX</td>\n",
       "      <td>1007</td>\n",
       "      <td>1124</td>\n",
       "      <td>Filtros para vehículos livianos</td>\n",
       "      <td>D18</td>\n",
       "    </tr>\n",
       "    <tr>\n",
       "      <th>11241012910</th>\n",
       "      <td>1012910</td>\n",
       "      <td>FILTRO AIRE/OEM 17801-67070 TOYOTA HILUX</td>\n",
       "      <td>1007</td>\n",
       "      <td>1124</td>\n",
       "      <td>Filtros para vehículos livianos</td>\n",
       "      <td>D18</td>\n",
       "    </tr>\n",
       "    <tr>\n",
       "      <th>11241013036</th>\n",
       "      <td>1013036</td>\n",
       "      <td>MINI FUSIBLE 7,5AMP. COL.MARRON P/TOYOTA</td>\n",
       "      <td>1007</td>\n",
       "      <td>1124</td>\n",
       "      <td>Rep. p/vehiculos - accesorios( medicion, lampa...</td>\n",
       "      <td>D18</td>\n",
       "    </tr>\n",
       "    <tr>\n",
       "      <th>...</th>\n",
       "      <td>...</td>\n",
       "      <td>...</td>\n",
       "      <td>...</td>\n",
       "      <td>...</td>\n",
       "      <td>...</td>\n",
       "      <td>...</td>\n",
       "    </tr>\n",
       "    <tr>\n",
       "      <th>11241048813</th>\n",
       "      <td>1048813</td>\n",
       "      <td>SEGURO P/PERNO PASADOR 90069-49007 TOYOT</td>\n",
       "      <td>1007</td>\n",
       "      <td>1124</td>\n",
       "      <td>Vehículos - camioneta toyota hilux</td>\n",
       "      <td>D18</td>\n",
       "    </tr>\n",
       "    <tr>\n",
       "      <th>11241048828</th>\n",
       "      <td>1048828</td>\n",
       "      <td>CAJA FUSIBLE 100A 82620-71012 TOYOTA</td>\n",
       "      <td>1007</td>\n",
       "      <td>1124</td>\n",
       "      <td>Vehículos - camioneta toyota hilux</td>\n",
       "      <td>D18</td>\n",
       "    </tr>\n",
       "    <tr>\n",
       "      <th>11241048816</th>\n",
       "      <td>1048816</td>\n",
       "      <td>CUBREPOLVO DE SEMIEJE 41336-0K050 TOYOTA</td>\n",
       "      <td>1007</td>\n",
       "      <td>1124</td>\n",
       "      <td>Vehículos - camioneta toyota hilux</td>\n",
       "      <td>D18</td>\n",
       "    </tr>\n",
       "    <tr>\n",
       "      <th>11241048819</th>\n",
       "      <td>1048819</td>\n",
       "      <td>MANIJA LEVANTA VIDRIO 692600K010BO TOYOT</td>\n",
       "      <td>1007</td>\n",
       "      <td>1124</td>\n",
       "      <td>Vehículos - camioneta toyota hilux</td>\n",
       "      <td>D18</td>\n",
       "    </tr>\n",
       "    <tr>\n",
       "      <th>11241060961</th>\n",
       "      <td>1060961</td>\n",
       "      <td>PIÑÓN ARRANQ.12 V. ZEN 1562 P/TOYOTA</td>\n",
       "      <td>1007</td>\n",
       "      <td>1124</td>\n",
       "      <td>Rep. p/vehiculos - accesorios( medicion, lampa...</td>\n",
       "      <td>D18</td>\n",
       "    </tr>\n",
       "  </tbody>\n",
       "</table>\n",
       "<p>277 rows × 6 columns</p>\n",
       "</div>"
      ],
      "text/plain": [
       "             Material                   Texto breve de material   Ce. Almacén  \\\n",
       "id_mat                                                                          \n",
       "11241012907   1012907    FILTRO ACEIT. 15600-87320 TOYOTA HILUX  1007    1124   \n",
       "11241012908   1012908    FILTRO AIRE 17801-54080 P/TOYOTA HILUX  1007    1124   \n",
       "11241012909   1012909   FILTRO COMB. 23303-64010 P/TOYOTA HILUX  1007    1124   \n",
       "11241012910   1012910  FILTRO AIRE/OEM 17801-67070 TOYOTA HILUX  1007    1124   \n",
       "11241013036   1013036  MINI FUSIBLE 7,5AMP. COL.MARRON P/TOYOTA  1007    1124   \n",
       "...               ...                                       ...   ...     ...   \n",
       "11241048813   1048813  SEGURO P/PERNO PASADOR 90069-49007 TOYOT  1007    1124   \n",
       "11241048828   1048828      CAJA FUSIBLE 100A 82620-71012 TOYOTA  1007    1124   \n",
       "11241048816   1048816  CUBREPOLVO DE SEMIEJE 41336-0K050 TOYOTA  1007    1124   \n",
       "11241048819   1048819  MANIJA LEVANTA VIDRIO 692600K010BO TOYOT  1007    1124   \n",
       "11241060961   1060961      PIÑÓN ARRANQ.12 V. ZEN 1562 P/TOYOTA  1007    1124   \n",
       "\n",
       "                                            Grupo de artículos  GCp  \n",
       "id_mat                                                               \n",
       "11241012907                    Filtros para vehículos livianos  D18  \n",
       "11241012908                    Filtros para vehículos livianos  D18  \n",
       "11241012909                    Filtros para vehículos livianos  D18  \n",
       "11241012910                    Filtros para vehículos livianos  D18  \n",
       "11241013036  Rep. p/vehiculos - accesorios( medicion, lampa...  D18  \n",
       "...                                                        ...  ...  \n",
       "11241048813                 Vehículos - camioneta toyota hilux  D18  \n",
       "11241048828                 Vehículos - camioneta toyota hilux  D18  \n",
       "11241048816                 Vehículos - camioneta toyota hilux  D18  \n",
       "11241048819                 Vehículos - camioneta toyota hilux  D18  \n",
       "11241060961  Rep. p/vehiculos - accesorios( medicion, lampa...  D18  \n",
       "\n",
       "[277 rows x 6 columns]"
      ]
     },
     "execution_count": 6,
     "metadata": {},
     "output_type": "execute_result"
    }
   ],
   "source": [
    "columna = 'Texto breve de material'\n",
    "texto1 = 'toyo'\n",
    "dfBusqueda1 = materiales[materiales[columna].str.contains(texto1,case=False)][['Material','Texto breve de material','Ce.','Almacén','Grupo de artículos', 'GCp']]\n",
    "dfBusqueda1\n",
    "#dfBusqueda1.to_excel('C:/Users/ordonez/Documents/SAP/SAP GUI/busqueda1.xlsx')"
   ]
  },
  {
   "cell_type": "markdown",
   "id": "d108213a",
   "metadata": {},
   "source": [
    "## Busqueda tipo like"
   ]
  },
  {
   "cell_type": "code",
   "execution_count": 13,
   "id": "07f34610",
   "metadata": {},
   "outputs": [
    {
     "data": {
      "text/html": [
       "<div>\n",
       "<style scoped>\n",
       "    .dataframe tbody tr th:only-of-type {\n",
       "        vertical-align: middle;\n",
       "    }\n",
       "\n",
       "    .dataframe tbody tr th {\n",
       "        vertical-align: top;\n",
       "    }\n",
       "\n",
       "    .dataframe thead th {\n",
       "        text-align: right;\n",
       "    }\n",
       "</style>\n",
       "<table border=\"1\" class=\"dataframe\">\n",
       "  <thead>\n",
       "    <tr style=\"text-align: right;\">\n",
       "      <th></th>\n",
       "      <th>Material</th>\n",
       "      <th>Texto breve de material</th>\n",
       "      <th>Ce.</th>\n",
       "      <th>Almacén</th>\n",
       "      <th>Grupo de artículos</th>\n",
       "      <th>GCp</th>\n",
       "    </tr>\n",
       "    <tr>\n",
       "      <th>id_mat</th>\n",
       "      <th></th>\n",
       "      <th></th>\n",
       "      <th></th>\n",
       "      <th></th>\n",
       "      <th></th>\n",
       "      <th></th>\n",
       "    </tr>\n",
       "  </thead>\n",
       "  <tbody>\n",
       "    <tr>\n",
       "      <th>11241012907</th>\n",
       "      <td>1012907</td>\n",
       "      <td>FILTRO ACEIT. 15600-87320 TOYOTA HILUX</td>\n",
       "      <td>1007</td>\n",
       "      <td>1124</td>\n",
       "      <td>Filtros para vehículos livianos</td>\n",
       "      <td>D18</td>\n",
       "    </tr>\n",
       "    <tr>\n",
       "      <th>11241012908</th>\n",
       "      <td>1012908</td>\n",
       "      <td>FILTRO AIRE 17801-54080 P/TOYOTA HILUX</td>\n",
       "      <td>1007</td>\n",
       "      <td>1124</td>\n",
       "      <td>Filtros para vehículos livianos</td>\n",
       "      <td>D18</td>\n",
       "    </tr>\n",
       "    <tr>\n",
       "      <th>11241012909</th>\n",
       "      <td>1012909</td>\n",
       "      <td>FILTRO COMB. 23303-64010 P/TOYOTA HILUX</td>\n",
       "      <td>1007</td>\n",
       "      <td>1124</td>\n",
       "      <td>Filtros para vehículos livianos</td>\n",
       "      <td>D18</td>\n",
       "    </tr>\n",
       "    <tr>\n",
       "      <th>11241012910</th>\n",
       "      <td>1012910</td>\n",
       "      <td>FILTRO AIRE/OEM 17801-67070 TOYOTA HILUX</td>\n",
       "      <td>1007</td>\n",
       "      <td>1124</td>\n",
       "      <td>Filtros para vehículos livianos</td>\n",
       "      <td>D18</td>\n",
       "    </tr>\n",
       "    <tr>\n",
       "      <th>11241024589</th>\n",
       "      <td>1024589</td>\n",
       "      <td>CORREA OEM 99332-10865-0 P/TOYOTA HILUX</td>\n",
       "      <td>1007</td>\n",
       "      <td>1124</td>\n",
       "      <td>Vehículos - camioneta toyota hilux</td>\n",
       "      <td>D18</td>\n",
       "    </tr>\n",
       "    <tr>\n",
       "      <th>11241024591</th>\n",
       "      <td>1024591</td>\n",
       "      <td>AMORTIG.DELANT.4851180062 P/TOYOTA HILUX</td>\n",
       "      <td>1007</td>\n",
       "      <td>1124</td>\n",
       "      <td>Vehículos - camioneta toyota hilux</td>\n",
       "      <td>D18</td>\n",
       "    </tr>\n",
       "    <tr>\n",
       "      <th>11241024593</th>\n",
       "      <td>1024593</td>\n",
       "      <td>AMORTIG. TRAS.11132  P/TOYOTA HILUX  4x4</td>\n",
       "      <td>1007</td>\n",
       "      <td>1124</td>\n",
       "      <td>Vehículos - camioneta toyota hilux</td>\n",
       "      <td>D18</td>\n",
       "    </tr>\n",
       "    <tr>\n",
       "      <th>11241024601</th>\n",
       "      <td>1024601</td>\n",
       "      <td>COJINETE CTRAL.372303510000 TOYOTA HILUX</td>\n",
       "      <td>1007</td>\n",
       "      <td>1124</td>\n",
       "      <td>Vehículos - camioneta toyota hilux</td>\n",
       "      <td>D18</td>\n",
       "    </tr>\n",
       "    <tr>\n",
       "      <th>11241024606</th>\n",
       "      <td>1024606</td>\n",
       "      <td>BRAZO AUX.,OEM 454903936500 TOYOTA HILUX</td>\n",
       "      <td>1007</td>\n",
       "      <td>1124</td>\n",
       "      <td>Vehículos - camioneta toyota hilux</td>\n",
       "      <td>D18</td>\n",
       "    </tr>\n",
       "    <tr>\n",
       "      <th>11241024615</th>\n",
       "      <td>1024615</td>\n",
       "      <td>TUERCA P/BULON 909420108100 TOYOTA HILUX</td>\n",
       "      <td>1007</td>\n",
       "      <td>1124</td>\n",
       "      <td>Vehículos - camioneta toyota hilux</td>\n",
       "      <td>D18</td>\n",
       "    </tr>\n",
       "    <tr>\n",
       "      <th>11241024632</th>\n",
       "      <td>1024632</td>\n",
       "      <td>FILTRO COMB. 233900L01000 P/TOYOT HILUX</td>\n",
       "      <td>1007</td>\n",
       "      <td>1124</td>\n",
       "      <td>Vehículos - camioneta toyota hilux</td>\n",
       "      <td>D18</td>\n",
       "    </tr>\n",
       "    <tr>\n",
       "      <th>11241024662</th>\n",
       "      <td>1024662</td>\n",
       "      <td>BUJE DE GOMA 909480100200 P/TOYOTA HILUX</td>\n",
       "      <td>1007</td>\n",
       "      <td>1124</td>\n",
       "      <td>Vehículos - camioneta toyota hilux</td>\n",
       "      <td>D18</td>\n",
       "    </tr>\n",
       "    <tr>\n",
       "      <th>11241024665</th>\n",
       "      <td>1024665</td>\n",
       "      <td>TENSOR ALTERN. 88440-04110 TOYOTA HILUX</td>\n",
       "      <td>1007</td>\n",
       "      <td>1124</td>\n",
       "      <td>Vehículos - camioneta toyota hilux</td>\n",
       "      <td>D18</td>\n",
       "    </tr>\n",
       "    <tr>\n",
       "      <th>11241047843</th>\n",
       "      <td>1047843</td>\n",
       "      <td>FILTRO COMBUST.233900L07000 TOYOTA HILUX</td>\n",
       "      <td>1007</td>\n",
       "      <td>1124</td>\n",
       "      <td>Filtros para vehículos livianos</td>\n",
       "      <td>D18</td>\n",
       "    </tr>\n",
       "  </tbody>\n",
       "</table>\n",
       "</div>"
      ],
      "text/plain": [
       "             Material                   Texto breve de material   Ce. Almacén  \\\n",
       "id_mat                                                                          \n",
       "11241012907   1012907    FILTRO ACEIT. 15600-87320 TOYOTA HILUX  1007    1124   \n",
       "11241012908   1012908    FILTRO AIRE 17801-54080 P/TOYOTA HILUX  1007    1124   \n",
       "11241012909   1012909   FILTRO COMB. 23303-64010 P/TOYOTA HILUX  1007    1124   \n",
       "11241012910   1012910  FILTRO AIRE/OEM 17801-67070 TOYOTA HILUX  1007    1124   \n",
       "11241024589   1024589   CORREA OEM 99332-10865-0 P/TOYOTA HILUX  1007    1124   \n",
       "11241024591   1024591  AMORTIG.DELANT.4851180062 P/TOYOTA HILUX  1007    1124   \n",
       "11241024593   1024593  AMORTIG. TRAS.11132  P/TOYOTA HILUX  4x4  1007    1124   \n",
       "11241024601   1024601  COJINETE CTRAL.372303510000 TOYOTA HILUX  1007    1124   \n",
       "11241024606   1024606  BRAZO AUX.,OEM 454903936500 TOYOTA HILUX  1007    1124   \n",
       "11241024615   1024615  TUERCA P/BULON 909420108100 TOYOTA HILUX  1007    1124   \n",
       "11241024632   1024632   FILTRO COMB. 233900L01000 P/TOYOT HILUX  1007    1124   \n",
       "11241024662   1024662  BUJE DE GOMA 909480100200 P/TOYOTA HILUX  1007    1124   \n",
       "11241024665   1024665   TENSOR ALTERN. 88440-04110 TOYOTA HILUX  1007    1124   \n",
       "11241047843   1047843  FILTRO COMBUST.233900L07000 TOYOTA HILUX  1007    1124   \n",
       "\n",
       "                             Grupo de artículos  GCp  \n",
       "id_mat                                                \n",
       "11241012907     Filtros para vehículos livianos  D18  \n",
       "11241012908     Filtros para vehículos livianos  D18  \n",
       "11241012909     Filtros para vehículos livianos  D18  \n",
       "11241012910     Filtros para vehículos livianos  D18  \n",
       "11241024589  Vehículos - camioneta toyota hilux  D18  \n",
       "11241024591  Vehículos - camioneta toyota hilux  D18  \n",
       "11241024593  Vehículos - camioneta toyota hilux  D18  \n",
       "11241024601  Vehículos - camioneta toyota hilux  D18  \n",
       "11241024606  Vehículos - camioneta toyota hilux  D18  \n",
       "11241024615  Vehículos - camioneta toyota hilux  D18  \n",
       "11241024632  Vehículos - camioneta toyota hilux  D18  \n",
       "11241024662  Vehículos - camioneta toyota hilux  D18  \n",
       "11241024665  Vehículos - camioneta toyota hilux  D18  \n",
       "11241047843     Filtros para vehículos livianos  D18  "
      ]
     },
     "execution_count": 13,
     "metadata": {},
     "output_type": "execute_result"
    }
   ],
   "source": [
    "columna = 'Texto breve de material'\n",
    "texto1 = 'toyo'\n",
    "texto2 = 'hilu'\n",
    "\n",
    "dfBusqueda1 = materiales[(materiales[columna].str.contains(texto1,case=False)) & (materiales[columna].str.contains(texto2,case=False))][['Material','Texto breve de material','Ce.','Almacén','Grupo de artículos', 'GCp']]\n",
    "dfBusqueda1\n",
    "#dfBusqueda1.to_excel('C:/Users/ordonez/Documents/SAP/SAP GUI/busqueda1.xlsx')"
   ]
  },
  {
   "cell_type": "code",
   "execution_count": 20,
   "id": "41600f44",
   "metadata": {},
   "outputs": [],
   "source": [
    "columna = 'Texto breve de material'\n",
    "texto1 = 'toyo'\n",
    "texto2 = 'hilu'\n",
    "\n",
    "dfBusqueda2 = materiales[(materiales[columna].str.contains(texto1,case=False)) | (materiales[columna].str.contains(texto2,case=False))][['Material','Texto breve de material','Ce.','Almacén','Grupo de artículos', 'GCp']]\n",
    "dfBusqueda2 = dfBusqueda2['Material']\n",
    "#dfBusqueda2.to_excel('C:/Users/ordonez/Documents/SAP/SAP GUI/busqueda2.xlsx')"
   ]
  },
  {
   "cell_type": "code",
   "execution_count": 19,
   "id": "8f857753",
   "metadata": {},
   "outputs": [
    {
     "data": {
      "text/plain": [
       "id_mat\n",
       "11241024586    1024586\n",
       "11241024587    1024587\n",
       "11241024588    1024588\n",
       "11241024589    1024589\n",
       "11241024590    1024590\n",
       "                ...   \n",
       "11241061733    1061733\n",
       "11241061734    1061734\n",
       "11241061737    1061737\n",
       "11241061738    1061738\n",
       "11241061892    1061892\n",
       "Name: Material, Length: 355, dtype: int64"
      ]
     },
     "execution_count": 19,
     "metadata": {},
     "output_type": "execute_result"
    }
   ],
   "source": [
    "columna = 'Grupo de artículos'\n",
    "texto1 = 'toyo'\n",
    "texto2 = 'hilu'\n",
    "\n",
    "dfBusqueda3 = materiales[(materiales[columna].str.contains(texto1,case=False)) | (materiales[columna].str.contains(texto2,case=False))][['Material','Texto breve de material','Ce.','Almacén','Grupo de artículos', 'GCp']]\n",
    "dfBusqueda3 = dfBusqueda3['Material']\n",
    "dfBusqueda3"
   ]
  },
  {
   "cell_type": "code",
   "execution_count": 24,
   "id": "bb475fcb",
   "metadata": {},
   "outputs": [
    {
     "data": {
      "text/html": [
       "<div>\n",
       "<style scoped>\n",
       "    .dataframe tbody tr th:only-of-type {\n",
       "        vertical-align: middle;\n",
       "    }\n",
       "\n",
       "    .dataframe tbody tr th {\n",
       "        vertical-align: top;\n",
       "    }\n",
       "\n",
       "    .dataframe thead th {\n",
       "        text-align: right;\n",
       "    }\n",
       "</style>\n",
       "<table border=\"1\" class=\"dataframe\">\n",
       "  <thead>\n",
       "    <tr style=\"text-align: right;\">\n",
       "      <th></th>\n",
       "      <th>Material</th>\n",
       "    </tr>\n",
       "  </thead>\n",
       "  <tbody>\n",
       "    <tr>\n",
       "      <th>0</th>\n",
       "      <td>1024586</td>\n",
       "    </tr>\n",
       "    <tr>\n",
       "      <th>1</th>\n",
       "      <td>1024587</td>\n",
       "    </tr>\n",
       "    <tr>\n",
       "      <th>2</th>\n",
       "      <td>1024588</td>\n",
       "    </tr>\n",
       "    <tr>\n",
       "      <th>3</th>\n",
       "      <td>1024589</td>\n",
       "    </tr>\n",
       "    <tr>\n",
       "      <th>4</th>\n",
       "      <td>1024590</td>\n",
       "    </tr>\n",
       "    <tr>\n",
       "      <th>...</th>\n",
       "      <td>...</td>\n",
       "    </tr>\n",
       "    <tr>\n",
       "      <th>418</th>\n",
       "      <td>1047842</td>\n",
       "    </tr>\n",
       "    <tr>\n",
       "      <th>419</th>\n",
       "      <td>1047843</td>\n",
       "    </tr>\n",
       "    <tr>\n",
       "      <th>420</th>\n",
       "      <td>1047844</td>\n",
       "    </tr>\n",
       "    <tr>\n",
       "      <th>421</th>\n",
       "      <td>1047845</td>\n",
       "    </tr>\n",
       "    <tr>\n",
       "      <th>422</th>\n",
       "      <td>1060961</td>\n",
       "    </tr>\n",
       "  </tbody>\n",
       "</table>\n",
       "<p>423 rows × 1 columns</p>\n",
       "</div>"
      ],
      "text/plain": [
       "     Material\n",
       "0     1024586\n",
       "1     1024587\n",
       "2     1024588\n",
       "3     1024589\n",
       "4     1024590\n",
       "..        ...\n",
       "418   1047842\n",
       "419   1047843\n",
       "420   1047844\n",
       "421   1047845\n",
       "422   1060961\n",
       "\n",
       "[423 rows x 1 columns]"
      ]
     },
     "execution_count": 24,
     "metadata": {},
     "output_type": "execute_result"
    }
   ],
   "source": [
    "pd.merge(dfBusqueda3,dfBusqueda2,on='Material',how='outer')"
   ]
  },
  {
   "cell_type": "markdown",
   "id": "523e5777",
   "metadata": {},
   "source": [
    "## Análisis de Bloqueados"
   ]
  },
  {
   "cell_type": "code",
   "execution_count": null,
   "id": "ae5d2728",
   "metadata": {},
   "outputs": [],
   "source": [
    "bloq"
   ]
  },
  {
   "cell_type": "code",
   "execution_count": null,
   "id": "4b5a780f",
   "metadata": {},
   "outputs": [],
   "source": [
    "bloq.columns"
   ]
  },
  {
   "cell_type": "code",
   "execution_count": null,
   "id": "cf17472b",
   "metadata": {},
   "outputs": [],
   "source": [
    "#Para concatenar\n",
    "#bloq[\"key\"] = bloq[\"Material\"].astype(str) + bloq[\"Pedido\"].astype(str)"
   ]
  },
  {
   "cell_type": "code",
   "execution_count": null,
   "id": "1837a824",
   "metadata": {},
   "outputs": [],
   "source": [
    "#convierte en negativo los 105 y los 106\n",
    "def transformar(x,y):\n",
    "    if x == 103:\n",
    "        return y\n",
    "    elif x == 104:\n",
    "        return y\n",
    "    elif x == 105:\n",
    "        return y * (-1)\n",
    "    elif x == 106:\n",
    "        return y * (-1)\n",
    "\n",
    "bloq['Cantidad'] = bloq.apply(lambda row: transformar(row['Clase de movimiento'],row['Cantidad']), axis=1)"
   ]
  },
  {
   "cell_type": "code",
   "execution_count": null,
   "id": "a333a786",
   "metadata": {},
   "outputs": [],
   "source": [
    "#Suma 103+104+105+106\n",
    "pendientes = bloq.groupby(by = \"Material\")['Cantidad'].sum()\n",
    "\n",
    "pendientes = pendientes[x!=0.0]"
   ]
  },
  {
   "cell_type": "code",
   "execution_count": null,
   "id": "89754f3b",
   "metadata": {},
   "outputs": [],
   "source": [
    "bloq[bloq[\"Material\"].isin(pendientes.keys())]"
   ]
  },
  {
   "cell_type": "code",
   "execution_count": null,
   "id": "16df3158",
   "metadata": {},
   "outputs": [],
   "source": [
    "bloq[bloq[\"Material\"]==1004085]"
   ]
  },
  {
   "cell_type": "code",
   "execution_count": null,
   "id": "3dd87178",
   "metadata": {},
   "outputs": [],
   "source": [
    "#Para exportar a excel\n",
    "#b = bloq.head()\n",
    "#b.to_excel('C:/Users/ordonez/Documents/SAP/SAP GUI/prueba.xlsx')"
   ]
  },
  {
   "cell_type": "markdown",
   "id": "f745320d",
   "metadata": {},
   "source": [
    "## Valores únicos"
   ]
  },
  {
   "cell_type": "code",
   "execution_count": null,
   "id": "58309825",
   "metadata": {},
   "outputs": [],
   "source": [
    "dato = np.unique(materiales.Material)"
   ]
  },
  {
   "cell_type": "code",
   "execution_count": null,
   "id": "bf40f415",
   "metadata": {},
   "outputs": [],
   "source": [
    "dato"
   ]
  },
  {
   "cell_type": "code",
   "execution_count": null,
   "id": "1eafc4b5",
   "metadata": {},
   "outputs": [],
   "source": [
    "data = np.unique(materiales['Almacén'], return_counts=True )"
   ]
  },
  {
   "cell_type": "code",
   "execution_count": null,
   "id": "6a2a5672",
   "metadata": {},
   "outputs": [],
   "source": [
    "data"
   ]
  },
  {
   "cell_type": "code",
   "execution_count": null,
   "id": "54623123",
   "metadata": {},
   "outputs": [],
   "source": [
    "data[1]"
   ]
  },
  {
   "cell_type": "code",
   "execution_count": null,
   "id": "a73a685e",
   "metadata": {},
   "outputs": [],
   "source": [
    "plt.pie(x = data[1],\n",
    "       labels=data[0],\n",
    "       startangle=90,\n",
    "       radius = 2)\n",
    "plt.show()"
   ]
  },
  {
   "cell_type": "markdown",
   "id": "306f3458",
   "metadata": {},
   "source": [
    "## Consumos"
   ]
  },
  {
   "cell_type": "code",
   "execution_count": null,
   "id": "b70f3caf",
   "metadata": {},
   "outputs": [],
   "source": [
    "consumos.info()\n"
   ]
  },
  {
   "cell_type": "markdown",
   "id": "e64f6277",
   "metadata": {},
   "source": [
    "## Consumo de los Ultimos 12 meses"
   ]
  },
  {
   "cell_type": "code",
   "execution_count": null,
   "id": "c52921ba",
   "metadata": {},
   "outputs": [],
   "source": [
    "hasta = str(date.today().year  )+\"-\"+str(date.today().month)+\"-01\"\n",
    "desde = str(date.today().year-1)+\"-\"+str(date.today().month)+\"-01\"\n",
    "condicion = (consumos['Fecha'] >= desde) & (consumos['Fecha'] < hasta)\n",
    "ult12 = consumos.loc[condicion][['Fecha','Material','Alm','Salida']]"
   ]
  },
  {
   "cell_type": "code",
   "execution_count": null,
   "id": "761daede",
   "metadata": {},
   "outputs": [],
   "source": [
    "ult12"
   ]
  },
  {
   "cell_type": "code",
   "execution_count": null,
   "id": "7b9acdd3",
   "metadata": {},
   "outputs": [],
   "source": [
    "ult12_1125 = ult12[ult12['Alm']=='1125']"
   ]
  },
  {
   "cell_type": "code",
   "execution_count": null,
   "id": "47ae9ac8",
   "metadata": {},
   "outputs": [],
   "source": [
    "ult12_1125"
   ]
  },
  {
   "cell_type": "code",
   "execution_count": null,
   "id": "9cdc06c1",
   "metadata": {},
   "outputs": [],
   "source": [
    "#Dos formas de hacerlo. Ammbas generan warning.\n",
    "#ult12_1125['Mes'] = ult12_1125['Fecha'].dt.month\n",
    "\n",
    "def crearMes(fecha):\n",
    "    mes = fecha.month\n",
    "    return mes\n",
    "ult12_1125['Mes'] = ult12_1125['Fecha'].apply(crearMes)"
   ]
  },
  {
   "cell_type": "code",
   "execution_count": null,
   "id": "2be251de",
   "metadata": {},
   "outputs": [],
   "source": [
    "ult12_1125._is_view #ult12_1125._is_copy"
   ]
  },
  {
   "cell_type": "code",
   "execution_count": null,
   "id": "f3722226",
   "metadata": {},
   "outputs": [],
   "source": [
    "ult12_1125"
   ]
  },
  {
   "cell_type": "code",
   "execution_count": null,
   "id": "e336aba7",
   "metadata": {},
   "outputs": [],
   "source": [
    "ult12_1125['Mes'] = ult12_1125['Fecha'].dt.month"
   ]
  },
  {
   "cell_type": "code",
   "execution_count": null,
   "id": "ba4424b0",
   "metadata": {},
   "outputs": [],
   "source": [
    "ult12_1125._is_view"
   ]
  },
  {
   "cell_type": "code",
   "execution_count": null,
   "id": "7f446412",
   "metadata": {},
   "outputs": [],
   "source": [
    "ult12_1125"
   ]
  },
  {
   "cell_type": "code",
   "execution_count": null,
   "id": "49b38deb",
   "metadata": {},
   "outputs": [],
   "source": [
    "materiales"
   ]
  },
  {
   "cell_type": "code",
   "execution_count": null,
   "id": "b9445bb4",
   "metadata": {},
   "outputs": [],
   "source": []
  }
 ],
 "metadata": {
  "hide_input": false,
  "kernelspec": {
   "display_name": "Python 3 (ipykernel)",
   "language": "python",
   "name": "python3"
  },
  "language_info": {
   "codemirror_mode": {
    "name": "ipython",
    "version": 3
   },
   "file_extension": ".py",
   "mimetype": "text/x-python",
   "name": "python",
   "nbconvert_exporter": "python",
   "pygments_lexer": "ipython3",
   "version": "3.10.2"
  },
  "toc": {
   "base_numbering": 1,
   "nav_menu": {},
   "number_sections": true,
   "sideBar": true,
   "skip_h1_title": false,
   "title_cell": "Table of Contents",
   "title_sidebar": "Contents",
   "toc_cell": false,
   "toc_position": {
    "height": "calc(100% - 180px)",
    "left": "10px",
    "top": "150px",
    "width": "227.657px"
   },
   "toc_section_display": true,
   "toc_window_display": false
  }
 },
 "nbformat": 4,
 "nbformat_minor": 5
}
