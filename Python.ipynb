{
 "cells": [
  {
   "cell_type": "markdown",
   "id": "e4583496",
   "metadata": {
    "lang": "en"
   },
   "source": [
    "# Evaluar la eficiencia del código"
   ]
  },
  {
   "cell_type": "code",
   "execution_count": null,
   "id": "d7a9162f",
   "metadata": {},
   "outputs": [],
   "source": [
    "import time\n",
    "\n",
    "start = time.time()\n",
    "\n",
    "# Nuestro código - Duerme 1/2 segundo\n",
    "time.sleep(0.5)\n",
    "\n",
    "end = time.time()\n",
    "\n",
    "print(end-start)"
   ]
  },
  {
   "cell_type": "markdown",
   "id": "5c1e4b8e",
   "metadata": {},
   "source": [
    "## Código más humano"
   ]
  },
  {
   "cell_type": "code",
   "execution_count": null,
   "id": "52cca51c",
   "metadata": {},
   "outputs": [],
   "source": [
    "from datetime import timedelta\n",
    "\n",
    "start = time.monotonic()\n",
    "\n",
    "#Nuestro código\n",
    "time.sleep(1)\n",
    "\n",
    "end = time.monotonic()\n",
    "\n",
    "print(timedelta(seconds = end - start))"
   ]
  },
  {
   "cell_type": "markdown",
   "id": "be691ef6",
   "metadata": {},
   "source": [
    "## Para comparar dos procesos"
   ]
  },
  {
   "cell_type": "code",
   "execution_count": null,
   "id": "24a1dc75",
   "metadata": {},
   "outputs": [],
   "source": [
    "import time\n",
    "\n",
    "start = time.time()\n",
    "\n",
    "\n",
    "time.sleep(0.5)\n",
    "\n",
    "end = time.time()\n",
    "\n",
    "start2 = time.time()\n",
    "\n",
    "time.sleep(0.6)\n",
    "\n",
    "end2 = time.time()\n",
    "\n",
    "print(end-start > end2 -start2)"
   ]
  },
  {
   "cell_type": "markdown",
   "id": "3a416294",
   "metadata": {},
   "source": [
    "# Listas"
   ]
  },
  {
   "cell_type": "code",
   "execution_count": null,
   "id": "520099ce",
   "metadata": {},
   "outputs": [],
   "source": [
    "countries =['United Sates','India','China','Brazil']"
   ]
  },
  {
   "cell_type": "code",
   "execution_count": null,
   "id": "ac9ea782",
   "metadata": {},
   "outputs": [],
   "source": [
    "countries"
   ]
  },
  {
   "cell_type": "code",
   "execution_count": null,
   "id": "636ff786",
   "metadata": {},
   "outputs": [],
   "source": [
    "countries[0]"
   ]
  },
  {
   "cell_type": "code",
   "execution_count": null,
   "id": "9deba5a6",
   "metadata": {},
   "outputs": [],
   "source": [
    "countries[-1]"
   ]
  },
  {
   "cell_type": "markdown",
   "id": "6aa79a6d",
   "metadata": {},
   "source": [
    "## Rebanada / Slicing"
   ]
  },
  {
   "cell_type": "code",
   "execution_count": null,
   "id": "779385c6",
   "metadata": {},
   "outputs": [],
   "source": [
    "countries[0:3]"
   ]
  },
  {
   "cell_type": "markdown",
   "id": "4486e283",
   "metadata": {},
   "source": [
    "## Operaciones y Metodos"
   ]
  },
  {
   "cell_type": "code",
   "execution_count": null,
   "id": "14ea015d",
   "metadata": {},
   "outputs": [],
   "source": [
    "countries.append('Canada')"
   ]
  },
  {
   "cell_type": "code",
   "execution_count": null,
   "id": "a8533042",
   "metadata": {},
   "outputs": [],
   "source": [
    "countries"
   ]
  },
  {
   "cell_type": "code",
   "execution_count": null,
   "id": "81433aa9",
   "metadata": {},
   "outputs": [],
   "source": [
    "countries.insert(0,'Argentina')"
   ]
  },
  {
   "cell_type": "code",
   "execution_count": null,
   "id": "4b2ab1ac",
   "metadata": {},
   "outputs": [],
   "source": [
    "countries"
   ]
  },
  {
   "cell_type": "markdown",
   "id": "815c9c31",
   "metadata": {},
   "source": [
    "## Concatenar dos listas"
   ]
  },
  {
   "cell_type": "code",
   "execution_count": null,
   "id": "12cb67d5",
   "metadata": {},
   "outputs": [],
   "source": [
    "countries_2 = ['UK','Alemania','Australia']"
   ]
  },
  {
   "cell_type": "code",
   "execution_count": null,
   "id": "7f6df216",
   "metadata": {},
   "outputs": [],
   "source": [
    "countries + countries_2"
   ]
  },
  {
   "cell_type": "markdown",
   "id": "c45d107b",
   "metadata": {},
   "source": [
    "## Anidado de listas"
   ]
  },
  {
   "cell_type": "code",
   "execution_count": null,
   "id": "56499f14",
   "metadata": {},
   "outputs": [],
   "source": [
    "nueva_lista = [countries,countries_2]"
   ]
  },
  {
   "cell_type": "code",
   "execution_count": null,
   "id": "cd3119e6",
   "metadata": {},
   "outputs": [],
   "source": [
    "nueva_lista"
   ]
  },
  {
   "cell_type": "markdown",
   "id": "fcbd4b74",
   "metadata": {},
   "source": [
    "## Eliminar elementos"
   ]
  },
  {
   "cell_type": "code",
   "execution_count": null,
   "id": "fbaa4f39",
   "metadata": {},
   "outputs": [],
   "source": [
    "countries.remove('Canada')"
   ]
  },
  {
   "cell_type": "code",
   "execution_count": null,
   "id": "d8081f3b",
   "metadata": {},
   "outputs": [],
   "source": [
    "countries"
   ]
  },
  {
   "cell_type": "code",
   "execution_count": null,
   "id": "c79920d1",
   "metadata": {},
   "outputs": [],
   "source": [
    "countries.pop()"
   ]
  },
  {
   "cell_type": "code",
   "execution_count": null,
   "id": "aab3fe11",
   "metadata": {},
   "outputs": [],
   "source": [
    "countries"
   ]
  },
  {
   "cell_type": "code",
   "execution_count": null,
   "id": "f7afaae7",
   "metadata": {},
   "outputs": [],
   "source": [
    "countries.pop(0)"
   ]
  },
  {
   "cell_type": "code",
   "execution_count": null,
   "id": "26517a45",
   "metadata": {},
   "outputs": [],
   "source": [
    "countries"
   ]
  },
  {
   "cell_type": "code",
   "execution_count": null,
   "id": "43556a9a",
   "metadata": {},
   "outputs": [],
   "source": [
    "del countries[0]"
   ]
  },
  {
   "cell_type": "code",
   "execution_count": null,
   "id": "ab7c9b40",
   "metadata": {},
   "outputs": [],
   "source": [
    "countries"
   ]
  },
  {
   "cell_type": "markdown",
   "id": "c3b1fc0a",
   "metadata": {},
   "source": [
    "## Ordenar listas"
   ]
  },
  {
   "cell_type": "code",
   "execution_count": null,
   "id": "12f791c4",
   "metadata": {},
   "outputs": [],
   "source": [
    "numbers = [4,3,10,7,1,2]"
   ]
  },
  {
   "cell_type": "code",
   "execution_count": null,
   "id": "e4c39ebc",
   "metadata": {},
   "outputs": [],
   "source": [
    "numbers.sort()"
   ]
  },
  {
   "cell_type": "code",
   "execution_count": null,
   "id": "7039dfef",
   "metadata": {},
   "outputs": [],
   "source": [
    "numbers"
   ]
  },
  {
   "cell_type": "code",
   "execution_count": null,
   "id": "29cc32c0",
   "metadata": {},
   "outputs": [],
   "source": [
    "numbers.sort(reverse=True)"
   ]
  },
  {
   "cell_type": "code",
   "execution_count": null,
   "id": "aadd70fc",
   "metadata": {},
   "outputs": [],
   "source": [
    "numbers"
   ]
  },
  {
   "cell_type": "markdown",
   "id": "01c08099",
   "metadata": {},
   "source": [
    "## Copiar una lista"
   ]
  },
  {
   "cell_type": "code",
   "execution_count": null,
   "id": "c45adbf6",
   "metadata": {},
   "outputs": [],
   "source": [
    "countries.append('Argentina')\n",
    "countries.append('Alemania')"
   ]
  },
  {
   "cell_type": "code",
   "execution_count": null,
   "id": "1f56c2a4",
   "metadata": {},
   "outputs": [],
   "source": [
    "nueva_lista = countries.copy()"
   ]
  },
  {
   "cell_type": "markdown",
   "id": "bd213efe",
   "metadata": {},
   "source": [
    "# Diccionarios"
   ]
  },
  {
   "cell_type": "code",
   "execution_count": null,
   "id": "b448e381",
   "metadata": {},
   "outputs": [],
   "source": [
    "mi_diccionario = {'key1':'value1','key2':'value2'}"
   ]
  },
  {
   "cell_type": "code",
   "execution_count": null,
   "id": "aaee41c6",
   "metadata": {},
   "outputs": [],
   "source": [
    "mi_diccionario['key1']"
   ]
  },
  {
   "cell_type": "code",
   "execution_count": null,
   "id": "54b887d1",
   "metadata": {},
   "outputs": [],
   "source": [
    "mi_diccionario.keys()"
   ]
  },
  {
   "cell_type": "code",
   "execution_count": null,
   "id": "651e20b2",
   "metadata": {},
   "outputs": [],
   "source": [
    "mi_diccionario.values()"
   ]
  },
  {
   "cell_type": "code",
   "execution_count": null,
   "id": "edb17cc0",
   "metadata": {},
   "outputs": [],
   "source": [
    "mi_diccionario.items()"
   ]
  },
  {
   "cell_type": "markdown",
   "id": "11efef4d",
   "metadata": {},
   "source": [
    "## Agregar / actualizar elementos"
   ]
  },
  {
   "cell_type": "code",
   "execution_count": null,
   "id": "ef3d0de4",
   "metadata": {},
   "outputs": [],
   "source": [
    "mi_diccionario['estatura'] = 1.78"
   ]
  },
  {
   "cell_type": "code",
   "execution_count": null,
   "id": "7d5fe0f4",
   "metadata": {},
   "outputs": [],
   "source": [
    "mi_diccionario"
   ]
  },
  {
   "cell_type": "code",
   "execution_count": null,
   "id": "fb54ebb5",
   "metadata": {},
   "outputs": [],
   "source": [
    "mi_diccionario.update({'estatura':1.75})"
   ]
  },
  {
   "cell_type": "code",
   "execution_count": null,
   "id": "d17e254c",
   "metadata": {},
   "outputs": [],
   "source": [
    "mi_diccionario"
   ]
  },
  {
   "cell_type": "markdown",
   "id": "ca800e83",
   "metadata": {},
   "source": [
    "## Copiar un diccionario"
   ]
  },
  {
   "cell_type": "code",
   "execution_count": null,
   "id": "00c64856",
   "metadata": {},
   "outputs": [],
   "source": [
    "mi_nuevo_dicc = mi_diccionario.copy()"
   ]
  },
  {
   "cell_type": "code",
   "execution_count": null,
   "id": "ffb03a03",
   "metadata": {},
   "outputs": [],
   "source": [
    "mi_nuevo_dicc"
   ]
  },
  {
   "cell_type": "markdown",
   "id": "160a4fb1",
   "metadata": {},
   "source": [
    "## Eliminar un elemento"
   ]
  },
  {
   "cell_type": "code",
   "execution_count": null,
   "id": "f26d6623",
   "metadata": {},
   "outputs": [],
   "source": [
    "mi_diccionario"
   ]
  },
  {
   "cell_type": "code",
   "execution_count": null,
   "id": "ca59513e",
   "metadata": {},
   "outputs": [],
   "source": [
    "mi_diccionario.pop('estatura')"
   ]
  },
  {
   "cell_type": "code",
   "execution_count": null,
   "id": "2ec347ba",
   "metadata": {},
   "outputs": [],
   "source": [
    "mi_diccionario"
   ]
  },
  {
   "cell_type": "code",
   "execution_count": null,
   "id": "03f8740b",
   "metadata": {},
   "outputs": [],
   "source": [
    "mi_diccionario.clear()"
   ]
  },
  {
   "cell_type": "code",
   "execution_count": null,
   "id": "0719a765",
   "metadata": {},
   "outputs": [],
   "source": [
    "mi_diccionario"
   ]
  },
  {
   "cell_type": "markdown",
   "id": "e857e173",
   "metadata": {},
   "source": [
    "# Dataframe"
   ]
  },
  {
   "cell_type": "code",
   "execution_count": null,
   "id": "c0d02de9",
   "metadata": {},
   "outputs": [],
   "source": []
  },
  {
   "cell_type": "markdown",
   "id": "360a36b9",
   "metadata": {},
   "source": [
    "## Cómo crear un DataFrame a partir de un diccionario de listas"
   ]
  },
  {
   "cell_type": "code",
   "execution_count": null,
   "id": "5c309e69",
   "metadata": {},
   "outputs": [],
   "source": [
    "import pandas as pd\n",
    "\n",
    "datos = {\n",
    "    'Nombre' : ['Juan', 'Laura', 'Pepe'],\n",
    "    'Edad': [42, 40, 37],\n",
    "    'Departamento': ['Comunicación', 'Administración', 'Ventas']\n",
    "}\n",
    "\n",
    "df = pd.DataFrame(datos)\n",
    "\n",
    "print(df)"
   ]
  },
  {
   "cell_type": "code",
   "execution_count": null,
   "id": "53cd982e",
   "metadata": {},
   "outputs": [],
   "source": [
    "df['Nombre']"
   ]
  },
  {
   "cell_type": "code",
   "execution_count": null,
   "id": "c4b35599",
   "metadata": {},
   "outputs": [],
   "source": [
    "df[df['Edad']<40]"
   ]
  },
  {
   "cell_type": "code",
   "execution_count": null,
   "id": "ec592722",
   "metadata": {},
   "outputs": [],
   "source": [
    "df['Edad']*2"
   ]
  },
  {
   "cell_type": "markdown",
   "id": "e1e5ea32",
   "metadata": {},
   "source": [
    "# Funciones"
   ]
  },
  {
   "cell_type": "code",
   "execution_count": null,
   "id": "7e6d838a",
   "metadata": {},
   "outputs": [],
   "source": [
    "countries"
   ]
  },
  {
   "cell_type": "code",
   "execution_count": null,
   "id": "390e2afc",
   "metadata": {},
   "outputs": [],
   "source": [
    "len(countries)"
   ]
  },
  {
   "cell_type": "code",
   "execution_count": null,
   "id": "4ba25e3a",
   "metadata": {},
   "outputs": [],
   "source": [
    "max([5,10,11,6,22])"
   ]
  },
  {
   "cell_type": "code",
   "execution_count": null,
   "id": "3d72191f",
   "metadata": {},
   "outputs": [],
   "source": [
    "type(countries)"
   ]
  },
  {
   "cell_type": "code",
   "execution_count": null,
   "id": "b6dad629",
   "metadata": {},
   "outputs": [],
   "source": [
    "round(3.4568,1)"
   ]
  },
  {
   "cell_type": "code",
   "execution_count": null,
   "id": "e19dc062",
   "metadata": {},
   "outputs": [],
   "source": [
    "range(1,10,2)"
   ]
  },
  {
   "cell_type": "code",
   "execution_count": null,
   "id": "716f8cd5",
   "metadata": {},
   "outputs": [],
   "source": [
    "for i in range(1,10,2):\n",
    "    print(i)"
   ]
  },
  {
   "cell_type": "code",
   "execution_count": null,
   "id": "20df75bd",
   "metadata": {},
   "outputs": [],
   "source": [
    "def sumar(a,b):\n",
    "    return a+b\n",
    "sumar(10,22)"
   ]
  },
  {
   "cell_type": "markdown",
   "id": "52eff95c",
   "metadata": {},
   "source": [
    "# Modulos"
   ]
  },
  {
   "cell_type": "code",
   "execution_count": null,
   "id": "e4cdb292",
   "metadata": {},
   "outputs": [],
   "source": [
    "import os"
   ]
  },
  {
   "cell_type": "code",
   "execution_count": null,
   "id": "a021740e",
   "metadata": {},
   "outputs": [],
   "source": [
    "os.getcwd()"
   ]
  },
  {
   "cell_type": "code",
   "execution_count": null,
   "id": "30ecc3d5",
   "metadata": {},
   "outputs": [],
   "source": [
    "os.listdir()"
   ]
  },
  {
   "cell_type": "code",
   "execution_count": null,
   "id": "8d2aff02",
   "metadata": {},
   "outputs": [],
   "source": [
    "os.makedirs('Nueva carpeta')"
   ]
  },
  {
   "cell_type": "markdown",
   "id": "a55d1962",
   "metadata": {},
   "source": [
    "## Trabajo con fechas"
   ]
  },
  {
   "cell_type": "code",
   "execution_count": null,
   "id": "5cae2a54",
   "metadata": {},
   "outputs": [],
   "source": [
    "from datetime import date,time,datetime"
   ]
  },
  {
   "cell_type": "code",
   "execution_count": null,
   "id": "b977bb70",
   "metadata": {},
   "outputs": [],
   "source": [
    "date.today()"
   ]
  },
  {
   "cell_type": "code",
   "execution_count": null,
   "id": "528534b5",
   "metadata": {},
   "outputs": [],
   "source": [
    "#Fecha y hora del sistema\n",
    "datetime.now()"
   ]
  },
  {
   "cell_type": "markdown",
   "id": "b86a629f",
   "metadata": {},
   "source": [
    "# Gráficos de puntos"
   ]
  },
  {
   "cell_type": "code",
   "execution_count": null,
   "id": "03529dbb",
   "metadata": {},
   "outputs": [],
   "source": [
    "import matplotlib.pyplot as plt\n",
    "import numpy as np"
   ]
  },
  {
   "cell_type": "code",
   "execution_count": null,
   "id": "112279e5",
   "metadata": {},
   "outputs": [],
   "source": [
    "n = 10\n",
    "data = np.random.random((n,2))\n",
    "print(data)"
   ]
  },
  {
   "cell_type": "code",
   "execution_count": null,
   "id": "6df3b731",
   "metadata": {},
   "outputs": [],
   "source": [
    "n = 500\n",
    "colores = ['green','yellow']\n",
    "colores_filt=[]\n",
    "\n",
    "data = np.random.random((n,2))\n",
    "\n",
    "for line in data:\n",
    "    if line[1] > 0.5: #con line[1] recorre el eje y\n",
    "        colores_filt.append(colores[1])\n",
    "    else:\n",
    "        colores_filt.append(colores[0])\n",
    "\n",
    "plt.scatter(data[:,0],data[:,1], color=colores_filt)\n",
    "plt.xlabel('Eje x')\n",
    "plt.ylabel('Eje y')\n",
    "plt.title('Gráfico de puntos')\n",
    "plt.show()"
   ]
  },
  {
   "cell_type": "code",
   "execution_count": null,
   "id": "73e36dc4",
   "metadata": {},
   "outputs": [],
   "source": [
    "n = 500\n",
    "\n",
    "data = np.random.random((n,2))\n",
    "\n",
    "d_1 = data[data[:,1]>0.5]\n",
    "d_2 = data[data[:,1]<=0.5]\n",
    "\n",
    "plt.scatter(d_1[:,0],d_1[:,1], label='>0.5')\n",
    "plt.scatter(d_2[:,0],d_2[:,1], label='<=0.5')\n",
    "plt.xlabel('Eje x')\n",
    "plt.ylabel('Eje y')\n",
    "plt.title('Gráfico de puntos')\n",
    "plt.legend(loc='upper left',bbox_to_anchor=(1,1))\n",
    "plt.show()"
   ]
  },
  {
   "cell_type": "markdown",
   "id": "b134997a",
   "metadata": {},
   "source": [
    "# Otro ejemplo"
   ]
  },
  {
   "cell_type": "code",
   "execution_count": null,
   "id": "5123ad79",
   "metadata": {},
   "outputs": [],
   "source": [
    "x = np.random.randint(1, 51,20)\n",
    "y = np.random.randint(1, 51,20)\n",
    "colors = np.random.rand(20)\n",
    "area = np.pi * (np.random.randint(1, 25,20))**2\n",
    "plt.scatter(x,y,s=area,c=colors,alpha=0.5)\n",
    "plt.show()"
   ]
  },
  {
   "cell_type": "code",
   "execution_count": null,
   "id": "aa275826",
   "metadata": {},
   "outputs": [],
   "source": [
    "area"
   ]
  },
  {
   "cell_type": "code",
   "execution_count": null,
   "id": "640d9dec",
   "metadata": {},
   "outputs": [],
   "source": []
  },
  {
   "cell_type": "code",
   "execution_count": null,
   "id": "9674b0d4",
   "metadata": {},
   "outputs": [],
   "source": [
    "x"
   ]
  },
  {
   "cell_type": "markdown",
   "id": "f972cd80",
   "metadata": {},
   "source": [
    "## ndarray de numpy"
   ]
  },
  {
   "cell_type": "code",
   "execution_count": null,
   "id": "505d9103",
   "metadata": {},
   "outputs": [],
   "source": [
    "x = np.array([[1, 2, 3], [4, 5, 6], [14, 2, 33], [1, 0, 7]], np.int32)"
   ]
  },
  {
   "cell_type": "code",
   "execution_count": null,
   "id": "c2fa7b26",
   "metadata": {},
   "outputs": [],
   "source": [
    "x"
   ]
  },
  {
   "cell_type": "code",
   "execution_count": null,
   "id": "6b0a0339",
   "metadata": {},
   "outputs": [],
   "source": [
    "for line in x:\n",
    "    print(line[1])"
   ]
  },
  {
   "cell_type": "code",
   "execution_count": null,
   "id": "6b58e9ef",
   "metadata": {},
   "outputs": [],
   "source": [
    "x.shape"
   ]
  },
  {
   "cell_type": "code",
   "execution_count": null,
   "id": "dbcd8b50",
   "metadata": {},
   "outputs": [],
   "source": [
    "x.dtype"
   ]
  },
  {
   "cell_type": "code",
   "execution_count": null,
   "id": "6df02bf9",
   "metadata": {},
   "outputs": [],
   "source": [
    "x[0,1] # devuelve fila 1 columna 2"
   ]
  },
  {
   "cell_type": "code",
   "execution_count": null,
   "id": "37581517",
   "metadata": {},
   "outputs": [],
   "source": [
    "y = x[:,1] #devuelve columna 2 completa"
   ]
  },
  {
   "cell_type": "code",
   "execution_count": null,
   "id": "af7cfd43",
   "metadata": {},
   "outputs": [],
   "source": [
    "y"
   ]
  },
  {
   "cell_type": "code",
   "execution_count": null,
   "id": "12356c06",
   "metadata": {},
   "outputs": [],
   "source": [
    "y[0]"
   ]
  },
  {
   "cell_type": "code",
   "execution_count": null,
   "id": "e7e9004e",
   "metadata": {},
   "outputs": [],
   "source": [
    " x[:,1]"
   ]
  },
  {
   "cell_type": "code",
   "execution_count": null,
   "id": "62909c10",
   "metadata": {},
   "outputs": [],
   "source": [
    " x[1:,1]"
   ]
  },
  {
   "cell_type": "code",
   "execution_count": null,
   "id": "623967b5",
   "metadata": {},
   "outputs": [],
   "source": [
    " x[1:3,1] #devuelve desde la posición 1 hasta la posición 2 de array([2, 5, 2, 0])"
   ]
  },
  {
   "cell_type": "code",
   "execution_count": null,
   "id": "37fd188a",
   "metadata": {},
   "outputs": [],
   "source": [
    "x"
   ]
  },
  {
   "cell_type": "code",
   "execution_count": null,
   "id": "c6a1ce1c",
   "metadata": {},
   "outputs": [],
   "source": [
    "x[x[:,2]>5]"
   ]
  },
  {
   "cell_type": "markdown",
   "id": "5b23c7af",
   "metadata": {},
   "source": [
    "# Cadenas"
   ]
  },
  {
   "cell_type": "code",
   "execution_count": null,
   "id": "df18602d",
   "metadata": {},
   "outputs": [],
   "source": [
    "nombre = \"AleJandro\""
   ]
  },
  {
   "cell_type": "code",
   "execution_count": null,
   "id": "b99ca9dd",
   "metadata": {},
   "outputs": [],
   "source": [
    "nombre.lower()"
   ]
  },
  {
   "cell_type": "code",
   "execution_count": null,
   "id": "4baf4ba7",
   "metadata": {},
   "outputs": [],
   "source": [
    "nombre.upper()"
   ]
  },
  {
   "cell_type": "code",
   "execution_count": null,
   "id": "7872bdfd",
   "metadata": {},
   "outputs": [],
   "source": [
    "nombre[0]"
   ]
  },
  {
   "cell_type": "code",
   "execution_count": null,
   "id": "3c940d9c",
   "metadata": {},
   "outputs": [],
   "source": [
    "nombre.capitalize()"
   ]
  },
  {
   "cell_type": "code",
   "execution_count": null,
   "id": "aa4af542",
   "metadata": {},
   "outputs": [],
   "source": [
    "ale = []"
   ]
  },
  {
   "cell_type": "code",
   "execution_count": null,
   "id": "f0b1711d",
   "metadata": {},
   "outputs": [],
   "source": [
    "type(ale)"
   ]
  },
  {
   "cell_type": "code",
   "execution_count": null,
   "id": "8177a553",
   "metadata": {},
   "outputs": [],
   "source": [
    "saludo = \"Hola0como te0 va? soy Alejandro\"\n",
    "for c in saludo:\n",
    "    if c=='0':\n",
    "        print(c)"
   ]
  },
  {
   "cell_type": "code",
   "execution_count": null,
   "id": "26685d2f",
   "metadata": {},
   "outputs": [],
   "source": [
    "lista = list(saludo)"
   ]
  },
  {
   "cell_type": "code",
   "execution_count": null,
   "id": "b6e79e41",
   "metadata": {},
   "outputs": [],
   "source": [
    "for x in range(0,len(lista)):\n",
    "    if lista[x] == '0':\n",
    "        print(lista[x])"
   ]
  },
  {
   "cell_type": "code",
   "execution_count": null,
   "id": "40f952da",
   "metadata": {},
   "outputs": [],
   "source": [
    "for x in lista:\n",
    "    if x == '0':\n",
    "        lista.remove(x)"
   ]
  },
  {
   "cell_type": "code",
   "execution_count": null,
   "id": "6e22afab",
   "metadata": {},
   "outputs": [],
   "source": [
    "cadena = \"\".join(lista)"
   ]
  },
  {
   "cell_type": "code",
   "execution_count": null,
   "id": "bd0bee81",
   "metadata": {},
   "outputs": [],
   "source": [
    "cadena"
   ]
  },
  {
   "cell_type": "code",
   "execution_count": null,
   "id": "11728c19",
   "metadata": {},
   "outputs": [],
   "source": [
    "type(cadena)"
   ]
  },
  {
   "cell_type": "code",
   "execution_count": null,
   "id": "28a791ed",
   "metadata": {},
   "outputs": [],
   "source": [
    "def eliminarCeros(cadena):\n",
    "    lista = []\n",
    "    for x in cadena:\n",
    "        if x != '0':\n",
    "            lista.append(x)\n",
    "    return \"\".join(lista)\n",
    "\n",
    "cadena = \"00003R00051481\"\n",
    "cadena = eliminarCeros(cadena)\n",
    "print(cadena)"
   ]
  },
  {
   "cell_type": "code",
   "execution_count": null,
   "id": "9e104b94",
   "metadata": {},
   "outputs": [],
   "source": [
    "cadena = \"00003R00051481\"\n",
    "lista = list(cadena)\n",
    "lista"
   ]
  },
  {
   "cell_type": "code",
   "execution_count": null,
   "id": "c7dd0ced",
   "metadata": {},
   "outputs": [],
   "source": [
    "range(0,len(lista)-1)"
   ]
  },
  {
   "cell_type": "code",
   "execution_count": null,
   "id": "1012a42c",
   "metadata": {},
   "outputs": [],
   "source": [
    "lista[13] == '1'"
   ]
  },
  {
   "cell_type": "code",
   "execution_count": null,
   "id": "dd38bfcf",
   "metadata": {},
   "outputs": [],
   "source": [
    "lista.append"
   ]
  },
  {
   "cell_type": "code",
   "execution_count": null,
   "id": "7cc2f6a1",
   "metadata": {},
   "outputs": [],
   "source": [
    "cadena = \"00003R00051481\"\n",
    "lista = []\n",
    "for x in cadena:\n",
    "    if x != '0':\n",
    "        lista.append(x)\n",
    "lista"
   ]
  },
  {
   "cell_type": "code",
   "execution_count": null,
   "id": "3cfe6460",
   "metadata": {},
   "outputs": [],
   "source": [
    "lista"
   ]
  },
  {
   "cell_type": "markdown",
   "id": "3eb9d3b9",
   "metadata": {},
   "source": [
    "# Expresiones Regulares"
   ]
  },
  {
   "cell_type": "code",
   "execution_count": null,
   "id": "68cec02b",
   "metadata": {},
   "outputs": [],
   "source": [
    "import re"
   ]
  },
  {
   "cell_type": "code",
   "execution_count": null,
   "id": "fa9391fd",
   "metadata": {},
   "outputs": [],
   "source": [
    "patron = re.compile(r'[a-z]+')"
   ]
  },
  {
   "cell_type": "code",
   "execution_count": null,
   "id": "ad0a25c3",
   "metadata": {},
   "outputs": [],
   "source": [
    "print(patron.findall('a45d'))"
   ]
  },
  {
   "cell_type": "code",
   "execution_count": null,
   "id": "1ca09ee3",
   "metadata": {},
   "outputs": [],
   "source": [
    "patron = re.compile(r'[1-9]+')\n",
    "cadena = \"00003R00051481\"\n",
    "p = \"\".join(patron.findall(cadena))"
   ]
  },
  {
   "cell_type": "code",
   "execution_count": null,
   "id": "1344b076",
   "metadata": {},
   "outputs": [],
   "source": [
    "type(p)"
   ]
  },
  {
   "cell_type": "code",
   "execution_count": null,
   "id": "86fe0a52",
   "metadata": {},
   "outputs": [],
   "source": [
    "p"
   ]
  },
  {
   "cell_type": "markdown",
   "id": "23cf58d4",
   "metadata": {},
   "source": [
    "# sqlite3"
   ]
  },
  {
   "cell_type": "code",
   "execution_count": null,
   "id": "db21e0b4",
   "metadata": {},
   "outputs": [],
   "source": [
    "import sqlite3"
   ]
  },
  {
   "cell_type": "code",
   "execution_count": null,
   "id": "a77efef4",
   "metadata": {},
   "outputs": [],
   "source": [
    "#Se abre la base de dato bd1.db o la crea si no existe\n",
    "conexion=sqlite3.connect(\"bd1.db\")"
   ]
  },
  {
   "cell_type": "code",
   "execution_count": null,
   "id": "1451524f",
   "metadata": {},
   "outputs": [],
   "source": [
    "#Crea la tabla articulo\n",
    "try:\n",
    "    conexion.execute(\"\"\"\n",
    "                    create table articulos(\n",
    "                        codigo integer primary key autoincrement,\n",
    "                        descripcion text,\n",
    "                        precio real\n",
    "                    )\n",
    "    \"\"\")\n",
    "    print('Se creo la tabla articulo')\n",
    "except sqlite3.operationError:\n",
    "    print('La tabla articulo ya existe')\n",
    "conexion.close()"
   ]
  },
  {
   "cell_type": "code",
   "execution_count": null,
   "id": "dce8a168",
   "metadata": {},
   "outputs": [],
   "source": [
    "#Insertamos 3 registros a la tabla articulos\n",
    "conexion=sqlite3.connect(\"bd1.db\")\n",
    "try:\n",
    "    conexion.execute(\"insert into articulos(descripcion,precio) values(?,?)\",(\"naranja\",23.5))\n",
    "    conexion.execute(\"insert into articulos(descripcion,precio) values(?,?)\",(\"manzana\",20.0))\n",
    "    conexion.execute(\"insert into articulos(descripcion,precio) values(?,?)\",(\"sandia\",35.7))\n",
    "    conexion.commit()\n",
    "except sqlite3.operationError:\n",
    "    print('Algo está mal')\n",
    "conexion.close()"
   ]
  },
  {
   "cell_type": "code",
   "execution_count": null,
   "id": "bab32e41",
   "metadata": {},
   "outputs": [],
   "source": [
    "conexion=sqlite3.connect(\"bd1.db\")\n",
    "cursor=conexion.execute(\"Select * from articulos\")\n",
    "for fila in cursor:\n",
    "    print(fila)\n",
    "conexion.close()"
   ]
  },
  {
   "cell_type": "code",
   "execution_count": null,
   "id": "432a5b74",
   "metadata": {},
   "outputs": [],
   "source": [
    "conexion=sqlite3.connect(\"bd1.db\")\n",
    "cod = int(input(\"Ingrese el código\"))\n",
    "cursor=conexion.execute(\"Select * from articulos where codigo=?\",(cod,))\n",
    "fila=cursor.fetchone()\n",
    "if fila!=None:\n",
    "    print(fila)\n",
    "else:\n",
    "    print('No existe el código')\n",
    "conexion.close()"
   ]
  },
  {
   "cell_type": "code",
   "execution_count": null,
   "id": "65aadc9d",
   "metadata": {},
   "outputs": [],
   "source": [
    "import pandas as pd"
   ]
  },
  {
   "cell_type": "code",
   "execution_count": null,
   "id": "cd4dff4c",
   "metadata": {},
   "outputs": [],
   "source": [
    "conexion=sqlite3.connect(\"bd1.db\")\n",
    "df = pd.read_sql_query(\"Select * from articulos\",conexion)"
   ]
  },
  {
   "cell_type": "code",
   "execution_count": null,
   "id": "6e2cd68c",
   "metadata": {},
   "outputs": [],
   "source": [
    "df"
   ]
  },
  {
   "cell_type": "code",
   "execution_count": null,
   "id": "a7df4e13",
   "metadata": {},
   "outputs": [],
   "source": [
    "conexion.close()"
   ]
  },
  {
   "cell_type": "markdown",
   "id": "9e4def1b",
   "metadata": {},
   "source": [
    "# Guía Practica Nro.2\n",
    "# “CARMABOLAS”\n",
    "## Introducción:\n",
    "Se pretende crear un juego de carambolas en una mesa similar a la de Pool.\n",
    "Primer nivel de juego, es con una bola, el segundo nivel es con dos bolas y el tercero con tres \n",
    "bolas.\n",
    "La regla es simple, las bolas que chocan con las barandas, suman 1 (uno) punto y las que chocan con otra bola suman 2 (dos) puntos.\n",
    "El jugador que mas punto obtenga gana.\n",
    "Los únicos datos de entrada será, angulo de golpe, y fuerza.\n",
    "- El angulo va de 0° a 180°, por que se asume que sera hacia adelante.\n",
    "- La fuerza va de 0 a 100, y disminuye 1 punto de fuerza cada segundo de tiempo y 3 puntos de \n",
    "fuerza en cada choque, cuando no tiene mas fuerza la bola se detiene.\n",
    "- NO vamos a tener en cuenta la gravedad, ni el roce con la superficie ni ningún otro factor real."
   ]
  },
  {
   "cell_type": "code",
   "execution_count": 1,
   "id": "1664f9e7",
   "metadata": {},
   "outputs": [],
   "source": [
    "import time\n",
    "import random"
   ]
  },
  {
   "cell_type": "code",
   "execution_count": 5,
   "id": "b4fc7a1c",
   "metadata": {
    "collapsed": true
   },
   "outputs": [
    {
     "name": "stdout",
     "output_type": "stream",
     "text": [
      "Ingresar el ángulo (0°-180°)3\n",
      "Ingresar la fuerza (0-100)50\n",
      "Inicia golpe\n",
      "Chocó con una baranda\n",
      "tiempo:1 fuerza:47 puntos:1 nivel:1\n",
      "tiempo:2 fuerza:46 puntos:1 nivel:1\n",
      "tiempo:3 fuerza:45 puntos:1 nivel:1\n",
      "tiempo:4 fuerza:44 puntos:1 nivel:1\n",
      "tiempo:5 fuerza:43 puntos:1 nivel:1\n",
      "tiempo:6 fuerza:42 puntos:1 nivel:1\n",
      "Chocó con una baranda\n",
      "tiempo:7 fuerza:39 puntos:2 nivel:1\n",
      "Chocó con una baranda\n",
      "tiempo:8 fuerza:36 puntos:3 nivel:1\n",
      "tiempo:9 fuerza:35 puntos:3 nivel:1\n",
      "tiempo:10 fuerza:34 puntos:3 nivel:1\n",
      "Chocó con una baranda\n",
      "tiempo:11 fuerza:31 puntos:4 nivel:1\n",
      "tiempo:12 fuerza:30 puntos:4 nivel:1\n",
      "Chocó con una baranda\n",
      "tiempo:13 fuerza:27 puntos:5 nivel:1\n",
      "Chocó con una baranda\n",
      "tiempo:14 fuerza:24 puntos:6 nivel:1\n",
      "tiempo:15 fuerza:23 puntos:6 nivel:1\n",
      "Chocó con una baranda\n",
      "tiempo:16 fuerza:20 puntos:7 nivel:1\n",
      "tiempo:17 fuerza:19 puntos:7 nivel:1\n",
      "Chocó con una baranda\n",
      "tiempo:18 fuerza:16 puntos:8 nivel:1\n",
      "Chocó con una baranda\n",
      "tiempo:19 fuerza:13 puntos:9 nivel:1\n",
      "Chocó con una baranda\n",
      "tiempo:20 fuerza:10 puntos:10 nivel:1\n",
      "tiempo:21 fuerza:9 puntos:10 nivel:1\n",
      "tiempo:22 fuerza:8 puntos:10 nivel:1\n",
      "tiempo:23 fuerza:7 puntos:10 nivel:1\n",
      "Chocó con una baranda\n",
      "tiempo:24 fuerza:4 puntos:11 nivel:1\n",
      "tiempo:25 fuerza:3 puntos:11 nivel:1\n",
      "Chocó con una baranda\n",
      "tiempo:26 fuerza:0 puntos:12 nivel:1\n",
      "Chocó con una baranda\n",
      "tiempo:27 fuerza:-3 puntos:13 nivel:1\n",
      "¿Otro golpe?[S|N]s\n",
      "Ingresar el ángulo (0°-180°)3\n",
      "Ingresar la fuerza (0-100)50\n",
      "Inicia golpe\n",
      "tiempo:1 fuerza:49 puntos:13 nivel:1\n",
      "Chocó con una baranda\n",
      "tiempo:2 fuerza:46 puntos:14 nivel:1\n",
      "Chocó con una baranda\n",
      "tiempo:3 fuerza:43 puntos:15 nivel:1\n",
      "tiempo:4 fuerza:42 puntos:15 nivel:1\n",
      "Chocó con una baranda\n",
      "tiempo:5 fuerza:39 puntos:16 nivel:1\n",
      "Chocó con una baranda\n",
      "tiempo:6 fuerza:36 puntos:17 nivel:1\n",
      "Chocó con una baranda\n",
      "tiempo:7 fuerza:33 puntos:18 nivel:1\n",
      "tiempo:8 fuerza:32 puntos:18 nivel:1\n",
      "Chocó con una baranda\n",
      "tiempo:9 fuerza:29 puntos:19 nivel:1\n",
      "tiempo:10 fuerza:28 puntos:19 nivel:1\n",
      "Chocó con una baranda\n",
      "tiempo:11 fuerza:25 puntos:20 nivel:1\n",
      "tiempo:12 fuerza:24 puntos:20 nivel:1\n",
      "tiempo:13 fuerza:23 puntos:20 nivel:1\n",
      "tiempo:14 fuerza:22 puntos:20 nivel:1\n",
      "Chocó con una baranda\n",
      "tiempo:15 fuerza:19 puntos:21 nivel:1\n",
      "Chocó con una baranda\n",
      "tiempo:16 fuerza:16 puntos:22 nivel:1\n",
      "Chocó con una baranda\n",
      "tiempo:17 fuerza:13 puntos:23 nivel:1\n",
      "tiempo:18 fuerza:12 puntos:23 nivel:1\n",
      "Chocó con una baranda\n",
      "tiempo:19 fuerza:9 puntos:24 nivel:1\n",
      "Chocó con una baranda\n",
      "tiempo:20 fuerza:6 puntos:25 nivel:1\n",
      "Chocó con una baranda\n",
      "tiempo:21 fuerza:3 puntos:26 nivel:1\n",
      "Chocó con una baranda\n",
      "tiempo:22 fuerza:0 puntos:27 nivel:1\n",
      "Chocó con una baranda\n",
      "tiempo:23 fuerza:-3 puntos:28 nivel:1\n",
      "¿Otro golpe?[S|N]s\n",
      "Ingresar el ángulo (0°-180°)30\n",
      "Ingresar la fuerza (0-100)30\n",
      "Inicia golpe\n",
      "tiempo:1 fuerza:29 puntos:28 nivel:1\n",
      "Chocó con una baranda\n",
      "tiempo:2 fuerza:26 puntos:29 nivel:1\n",
      "tiempo:3 fuerza:25 puntos:29 nivel:1\n",
      "Chocó con una baranda\n",
      "tiempo:4 fuerza:22 puntos:30 nivel:1\n",
      "tiempo:5 fuerza:21 puntos:30 nivel:1\n",
      "Chocó con una baranda\n",
      "tiempo:6 fuerza:18 puntos:31 nivel:1\n",
      "Chocó con una baranda\n",
      "tiempo:7 fuerza:15 puntos:32 nivel:2\n",
      "tiempo:8 fuerza:14 puntos:32 nivel:2\n",
      "tiempo:9 fuerza:13 puntos:32 nivel:2\n",
      "tiempo:10 fuerza:12 puntos:32 nivel:2\n",
      "Chocó con una baranda\n",
      "tiempo:11 fuerza:9 puntos:33 nivel:2\n",
      "Chocó con una baranda\n",
      "tiempo:12 fuerza:6 puntos:34 nivel:2\n",
      "chocó con una bola\n",
      "tiempo:13 fuerza:3 puntos:36 nivel:2\n",
      "Chocó con una baranda\n",
      "tiempo:14 fuerza:0 puntos:37 nivel:2\n",
      "chocó con una bola\n",
      "tiempo:15 fuerza:-3 puntos:39 nivel:2\n",
      "¿Otro golpe?[S|N]s\n",
      "Ingresar el ángulo (0°-180°)10\n",
      "Ingresar la fuerza (0-100)20\n",
      "Inicia golpe\n",
      "Chocó con una baranda\n",
      "tiempo:1 fuerza:17 puntos:40 nivel:2\n",
      "tiempo:2 fuerza:16 puntos:40 nivel:2\n",
      "tiempo:3 fuerza:15 puntos:40 nivel:2\n",
      "Chocó con una baranda\n",
      "tiempo:4 fuerza:12 puntos:41 nivel:2\n",
      "chocó con una bola\n",
      "tiempo:5 fuerza:9 puntos:43 nivel:2\n",
      "Chocó con una baranda\n",
      "tiempo:6 fuerza:6 puntos:44 nivel:2\n",
      "chocó con una bola\n",
      "tiempo:7 fuerza:3 puntos:46 nivel:2\n",
      "Chocó con una baranda\n",
      "tiempo:8 fuerza:0 puntos:47 nivel:2\n",
      "tiempo:9 fuerza:-1 puntos:47 nivel:2\n",
      "¿Otro golpe?[S|N]n\n"
     ]
    }
   ],
   "source": [
    "continuar = True\n",
    "puntos = 0\n",
    "nivel = 0\n",
    "while continuar:\n",
    "    angulo = int(input(\"Ingresar el ángulo (0°-180°)\"))\n",
    "    fuerza = int(input(\"Ingresar la fuerza (0-100)\"))\n",
    "    if angulo>=0 and angulo<=360 and fuerza>=0 and fuerza<=100:\n",
    "        print('Inicia el golpe.')\n",
    "        for i in range(1,101):\n",
    "            if puntos>60:\n",
    "                nivel = 3\n",
    "                #1 chocó con la bardanda,2 no chocó,3 o 4 chocó con otra bola\n",
    "                choca = random.randint(1,4)\n",
    "            elif puntos >30:\n",
    "                nivel = 2\n",
    "                #1 chocó con la bardanda,2 no chocó,3 chocó con otra bola\n",
    "                choca = random.randint(1,3)\n",
    "            else:\n",
    "                nivel = 1\n",
    "                #1 chocó con la bardanda,2 no chocó,3 chocó con otra bola\n",
    "                choca = random.randint(1,2)\n",
    "         \n",
    "            if choca == 1:\n",
    "                puntos = puntos + 1\n",
    "                fuerza = fuerza -3\n",
    "                print(\"Chocó con una baranda\")\n",
    "            elif (choca == 3 or choca == 4) and nivel >1:\n",
    "                puntos = puntos + 2\n",
    "                fuerza = fuerza -3\n",
    "                print(\"chocó con una bola\")\n",
    "            else:\n",
    "                fuerza = fuerza - 1\n",
    "            print(f\"tiempo:{i} fuerza:{fuerza} puntos:{puntos} nivel:{nivel}\")\n",
    "            if fuerza < 1:\n",
    "                break\n",
    "            time.sleep(1)\n",
    "    else:\n",
    "        print('error de entrada')\n",
    "    continuar = input(\"¿Otro golpe?[S|N]\").lower()==\"s\""
   ]
  },
  {
   "cell_type": "code",
   "execution_count": null,
   "id": "c805563f",
   "metadata": {},
   "outputs": [],
   "source": [
    "import random"
   ]
  },
  {
   "cell_type": "code",
   "execution_count": null,
   "id": "76fa85a5",
   "metadata": {},
   "outputs": [],
   "source": [
    "random.randint(1,2)"
   ]
  },
  {
   "cell_type": "code",
   "execution_count": null,
   "id": "a414035f",
   "metadata": {},
   "outputs": [],
   "source": [
    "random.randint(1,4)"
   ]
  },
  {
   "cell_type": "raw",
   "id": "3c9dc1dc",
   "metadata": {},
   "source": []
  }
 ],
 "metadata": {
  "hide_input": false,
  "kernelspec": {
   "display_name": "Python 3 (ipykernel)",
   "language": "python",
   "name": "python3"
  },
  "language_info": {
   "codemirror_mode": {
    "name": "ipython",
    "version": 3
   },
   "file_extension": ".py",
   "mimetype": "text/x-python",
   "name": "python",
   "nbconvert_exporter": "python",
   "pygments_lexer": "ipython3",
   "version": "3.10.4"
  },
  "nbTranslate": {
   "displayLangs": [
    "en"
   ],
   "hotkey": "alt-t",
   "langInMainMenu": true,
   "sourceLang": "es",
   "targetLang": "en",
   "useGoogleTranslate": true
  },
  "toc": {
   "base_numbering": 1,
   "nav_menu": {
    "height": "191.991px",
    "width": "287.991px"
   },
   "number_sections": true,
   "sideBar": true,
   "skip_h1_title": false,
   "title_cell": "Table of Contents",
   "title_sidebar": "Contents",
   "toc_cell": false,
   "toc_position": {
    "height": "calc(100% - 180px)",
    "left": "10px",
    "top": "150px",
    "width": "280.669px"
   },
   "toc_section_display": true,
   "toc_window_display": false
  }
 },
 "nbformat": 4,
 "nbformat_minor": 5
}
