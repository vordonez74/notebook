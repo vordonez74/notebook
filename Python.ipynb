{
 "cells": [
  {
   "cell_type": "markdown",
   "id": "e4583496",
   "metadata": {
    "lang": "en"
   },
   "source": [
    "# Evaluar la eficiencia del código"
   ]
  },
  {
   "cell_type": "code",
   "execution_count": null,
   "id": "d7a9162f",
   "metadata": {},
   "outputs": [],
   "source": [
    "import time\n",
    "\n",
    "start = time.time()\n",
    "\n",
    "# Nuestro código - Duerme 1/2 segundo\n",
    "time.sleep(0.5)\n",
    "\n",
    "end = time.time()\n",
    "\n",
    "print(end-start)"
   ]
  },
  {
   "cell_type": "markdown",
   "id": "5c1e4b8e",
   "metadata": {},
   "source": [
    "## Código más humano"
   ]
  },
  {
   "cell_type": "code",
   "execution_count": null,
   "id": "52cca51c",
   "metadata": {},
   "outputs": [],
   "source": [
    "from datetime import timedelta\n",
    "\n",
    "start = time.monotonic()\n",
    "\n",
    "#Nuestro código\n",
    "time.sleep(1)\n",
    "\n",
    "end = time.monotonic()\n",
    "\n",
    "print(timedelta(seconds = end - start))"
   ]
  },
  {
   "cell_type": "markdown",
   "id": "be691ef6",
   "metadata": {},
   "source": [
    "## Para comparar dos procesos"
   ]
  },
  {
   "cell_type": "code",
   "execution_count": null,
   "id": "24a1dc75",
   "metadata": {},
   "outputs": [],
   "source": [
    "import time\n",
    "\n",
    "start = time.time()\n",
    "\n",
    "\n",
    "time.sleep(0.5)\n",
    "\n",
    "end = time.time()\n",
    "\n",
    "start2 = time.time()\n",
    "\n",
    "time.sleep(0.6)\n",
    "\n",
    "end2 = time.time()\n",
    "\n",
    "print(end-start > end2 -start2)"
   ]
  },
  {
   "cell_type": "markdown",
   "id": "3a416294",
   "metadata": {},
   "source": [
    "# Listas"
   ]
  },
  {
   "cell_type": "code",
   "execution_count": null,
   "id": "520099ce",
   "metadata": {},
   "outputs": [],
   "source": [
    "countries =['United Sates','India','China','Brazil']"
   ]
  },
  {
   "cell_type": "code",
   "execution_count": null,
   "id": "ac9ea782",
   "metadata": {},
   "outputs": [],
   "source": [
    "countries"
   ]
  },
  {
   "cell_type": "code",
   "execution_count": null,
   "id": "636ff786",
   "metadata": {},
   "outputs": [],
   "source": [
    "countries[0]"
   ]
  },
  {
   "cell_type": "code",
   "execution_count": null,
   "id": "9deba5a6",
   "metadata": {},
   "outputs": [],
   "source": [
    "countries[-1]"
   ]
  },
  {
   "cell_type": "markdown",
   "id": "6aa79a6d",
   "metadata": {},
   "source": [
    "## Rebanada / Slicing"
   ]
  },
  {
   "cell_type": "code",
   "execution_count": null,
   "id": "779385c6",
   "metadata": {},
   "outputs": [],
   "source": [
    "countries[0:3]"
   ]
  },
  {
   "cell_type": "markdown",
   "id": "4486e283",
   "metadata": {},
   "source": [
    "## Operaciones y Metodos"
   ]
  },
  {
   "cell_type": "code",
   "execution_count": null,
   "id": "14ea015d",
   "metadata": {},
   "outputs": [],
   "source": [
    "countries.append('Canada')"
   ]
  },
  {
   "cell_type": "code",
   "execution_count": null,
   "id": "a8533042",
   "metadata": {},
   "outputs": [],
   "source": [
    "countries"
   ]
  },
  {
   "cell_type": "code",
   "execution_count": null,
   "id": "81433aa9",
   "metadata": {},
   "outputs": [],
   "source": [
    "countries.insert(0,'Argentina')"
   ]
  },
  {
   "cell_type": "code",
   "execution_count": null,
   "id": "4b2ab1ac",
   "metadata": {},
   "outputs": [],
   "source": [
    "countries"
   ]
  },
  {
   "cell_type": "markdown",
   "id": "815c9c31",
   "metadata": {},
   "source": [
    "## Concatenar dos listas"
   ]
  },
  {
   "cell_type": "code",
   "execution_count": null,
   "id": "12cb67d5",
   "metadata": {},
   "outputs": [],
   "source": [
    "countries_2 = ['UK','Alemania','Australia']"
   ]
  },
  {
   "cell_type": "code",
   "execution_count": null,
   "id": "7f6df216",
   "metadata": {},
   "outputs": [],
   "source": [
    "countries + countries_2"
   ]
  },
  {
   "cell_type": "markdown",
   "id": "c45d107b",
   "metadata": {},
   "source": [
    "## Anidado de listas"
   ]
  },
  {
   "cell_type": "code",
   "execution_count": null,
   "id": "56499f14",
   "metadata": {},
   "outputs": [],
   "source": [
    "nueva_lista = [countries,countries_2]"
   ]
  },
  {
   "cell_type": "code",
   "execution_count": null,
   "id": "cd3119e6",
   "metadata": {},
   "outputs": [],
   "source": [
    "nueva_lista"
   ]
  },
  {
   "cell_type": "markdown",
   "id": "fcbd4b74",
   "metadata": {},
   "source": [
    "## Eliminar elementos"
   ]
  },
  {
   "cell_type": "code",
   "execution_count": null,
   "id": "fbaa4f39",
   "metadata": {},
   "outputs": [],
   "source": [
    "countries.remove('Canada')"
   ]
  },
  {
   "cell_type": "code",
   "execution_count": null,
   "id": "d8081f3b",
   "metadata": {},
   "outputs": [],
   "source": [
    "countries"
   ]
  },
  {
   "cell_type": "code",
   "execution_count": null,
   "id": "c79920d1",
   "metadata": {},
   "outputs": [],
   "source": [
    "countries.pop()"
   ]
  },
  {
   "cell_type": "code",
   "execution_count": null,
   "id": "aab3fe11",
   "metadata": {},
   "outputs": [],
   "source": [
    "countries"
   ]
  },
  {
   "cell_type": "code",
   "execution_count": null,
   "id": "f7afaae7",
   "metadata": {},
   "outputs": [],
   "source": [
    "countries.pop(0)"
   ]
  },
  {
   "cell_type": "code",
   "execution_count": null,
   "id": "26517a45",
   "metadata": {},
   "outputs": [],
   "source": [
    "countries"
   ]
  },
  {
   "cell_type": "code",
   "execution_count": null,
   "id": "43556a9a",
   "metadata": {},
   "outputs": [],
   "source": [
    "del countries[0]"
   ]
  },
  {
   "cell_type": "code",
   "execution_count": null,
   "id": "ab7c9b40",
   "metadata": {},
   "outputs": [],
   "source": [
    "countries"
   ]
  },
  {
   "cell_type": "markdown",
   "id": "c3b1fc0a",
   "metadata": {},
   "source": [
    "## Ordenar listas"
   ]
  },
  {
   "cell_type": "code",
   "execution_count": null,
   "id": "12f791c4",
   "metadata": {},
   "outputs": [],
   "source": [
    "numbers = [4,3,10,7,1,2]"
   ]
  },
  {
   "cell_type": "code",
   "execution_count": null,
   "id": "e4c39ebc",
   "metadata": {},
   "outputs": [],
   "source": [
    "numbers.sort()"
   ]
  },
  {
   "cell_type": "code",
   "execution_count": null,
   "id": "7039dfef",
   "metadata": {},
   "outputs": [],
   "source": [
    "numbers"
   ]
  },
  {
   "cell_type": "code",
   "execution_count": null,
   "id": "29cc32c0",
   "metadata": {},
   "outputs": [],
   "source": [
    "numbers.sort(reverse=True)"
   ]
  },
  {
   "cell_type": "code",
   "execution_count": null,
   "id": "aadd70fc",
   "metadata": {},
   "outputs": [],
   "source": [
    "numbers"
   ]
  },
  {
   "cell_type": "markdown",
   "id": "01c08099",
   "metadata": {},
   "source": [
    "## Copiar una lista"
   ]
  },
  {
   "cell_type": "code",
   "execution_count": null,
   "id": "c45adbf6",
   "metadata": {},
   "outputs": [],
   "source": [
    "countries.append('Argentina')\n",
    "countries.append('Alemania')"
   ]
  },
  {
   "cell_type": "code",
   "execution_count": null,
   "id": "1f56c2a4",
   "metadata": {},
   "outputs": [],
   "source": [
    "nueva_lista = countries.copy()"
   ]
  },
  {
   "cell_type": "markdown",
   "id": "bd213efe",
   "metadata": {},
   "source": [
    "# Diccionarios"
   ]
  },
  {
   "cell_type": "code",
   "execution_count": null,
   "id": "b448e381",
   "metadata": {},
   "outputs": [],
   "source": [
    "mi_diccionario = {'key1':'value1','key2':'value2'}"
   ]
  },
  {
   "cell_type": "code",
   "execution_count": null,
   "id": "aaee41c6",
   "metadata": {},
   "outputs": [],
   "source": [
    "mi_diccionario['key1']"
   ]
  },
  {
   "cell_type": "code",
   "execution_count": null,
   "id": "54b887d1",
   "metadata": {},
   "outputs": [],
   "source": [
    "mi_diccionario.keys()"
   ]
  },
  {
   "cell_type": "code",
   "execution_count": null,
   "id": "651e20b2",
   "metadata": {},
   "outputs": [],
   "source": [
    "mi_diccionario.values()"
   ]
  },
  {
   "cell_type": "code",
   "execution_count": null,
   "id": "edb17cc0",
   "metadata": {},
   "outputs": [],
   "source": [
    "mi_diccionario.items()"
   ]
  },
  {
   "cell_type": "markdown",
   "id": "11efef4d",
   "metadata": {},
   "source": [
    "## Agregar / actualizar elementos"
   ]
  },
  {
   "cell_type": "code",
   "execution_count": null,
   "id": "ef3d0de4",
   "metadata": {},
   "outputs": [],
   "source": [
    "mi_diccionario['estatura'] = 1.78"
   ]
  },
  {
   "cell_type": "code",
   "execution_count": null,
   "id": "7d5fe0f4",
   "metadata": {},
   "outputs": [],
   "source": [
    "mi_diccionario"
   ]
  },
  {
   "cell_type": "code",
   "execution_count": null,
   "id": "fb54ebb5",
   "metadata": {},
   "outputs": [],
   "source": [
    "mi_diccionario.update({'estatura':1.75})"
   ]
  },
  {
   "cell_type": "code",
   "execution_count": null,
   "id": "d17e254c",
   "metadata": {},
   "outputs": [],
   "source": [
    "mi_diccionario"
   ]
  },
  {
   "cell_type": "markdown",
   "id": "ca800e83",
   "metadata": {},
   "source": [
    "## Copiar un diccionario"
   ]
  },
  {
   "cell_type": "code",
   "execution_count": null,
   "id": "00c64856",
   "metadata": {},
   "outputs": [],
   "source": [
    "mi_nuevo_dicc = mi_diccionario.copy()"
   ]
  },
  {
   "cell_type": "code",
   "execution_count": null,
   "id": "ffb03a03",
   "metadata": {},
   "outputs": [],
   "source": [
    "mi_nuevo_dicc"
   ]
  },
  {
   "cell_type": "markdown",
   "id": "160a4fb1",
   "metadata": {},
   "source": [
    "## Eliminar un elemento"
   ]
  },
  {
   "cell_type": "code",
   "execution_count": null,
   "id": "f26d6623",
   "metadata": {},
   "outputs": [],
   "source": [
    "mi_diccionario"
   ]
  },
  {
   "cell_type": "code",
   "execution_count": null,
   "id": "ca59513e",
   "metadata": {},
   "outputs": [],
   "source": [
    "mi_diccionario.pop('estatura')"
   ]
  },
  {
   "cell_type": "code",
   "execution_count": null,
   "id": "2ec347ba",
   "metadata": {},
   "outputs": [],
   "source": [
    "mi_diccionario"
   ]
  },
  {
   "cell_type": "code",
   "execution_count": null,
   "id": "03f8740b",
   "metadata": {},
   "outputs": [],
   "source": [
    "mi_diccionario.clear()"
   ]
  },
  {
   "cell_type": "code",
   "execution_count": null,
   "id": "0719a765",
   "metadata": {},
   "outputs": [],
   "source": [
    "mi_diccionario"
   ]
  },
  {
   "cell_type": "markdown",
   "id": "e857e173",
   "metadata": {},
   "source": [
    "# Dataframe"
   ]
  },
  {
   "cell_type": "code",
   "execution_count": null,
   "id": "c0d02de9",
   "metadata": {},
   "outputs": [],
   "source": []
  },
  {
   "cell_type": "markdown",
   "id": "360a36b9",
   "metadata": {},
   "source": [
    "## Cómo crear un DataFrame a partir de un diccionario de listas"
   ]
  },
  {
   "cell_type": "code",
   "execution_count": 15,
   "id": "5c309e69",
   "metadata": {},
   "outputs": [
    {
     "name": "stdout",
     "output_type": "stream",
     "text": [
      "  Nombre  Edad    Departamento\n",
      "0   Juan    42    Comunicación\n",
      "1  Laura    40  Administración\n",
      "2   Pepe    37          Ventas\n"
     ]
    }
   ],
   "source": [
    "import pandas as pd\n",
    "\n",
    "datos = {\n",
    "    'Nombre' : ['Juan', 'Laura', 'Pepe'],\n",
    "    'Edad': [42, 40, 37],\n",
    "    'Departamento': ['Comunicación', 'Administración', 'Ventas']\n",
    "}\n",
    "\n",
    "df = pd.DataFrame(datos)\n",
    "\n",
    "print(df)"
   ]
  },
  {
   "cell_type": "code",
   "execution_count": 16,
   "id": "53cd982e",
   "metadata": {},
   "outputs": [
    {
     "data": {
      "text/plain": [
       "0     Juan\n",
       "1    Laura\n",
       "2     Pepe\n",
       "Name: Nombre, dtype: object"
      ]
     },
     "execution_count": 16,
     "metadata": {},
     "output_type": "execute_result"
    }
   ],
   "source": [
    "df['Nombre']"
   ]
  },
  {
   "cell_type": "code",
   "execution_count": 17,
   "id": "c4b35599",
   "metadata": {},
   "outputs": [
    {
     "data": {
      "text/html": [
       "<div>\n",
       "<style scoped>\n",
       "    .dataframe tbody tr th:only-of-type {\n",
       "        vertical-align: middle;\n",
       "    }\n",
       "\n",
       "    .dataframe tbody tr th {\n",
       "        vertical-align: top;\n",
       "    }\n",
       "\n",
       "    .dataframe thead th {\n",
       "        text-align: right;\n",
       "    }\n",
       "</style>\n",
       "<table border=\"1\" class=\"dataframe\">\n",
       "  <thead>\n",
       "    <tr style=\"text-align: right;\">\n",
       "      <th></th>\n",
       "      <th>Nombre</th>\n",
       "      <th>Edad</th>\n",
       "      <th>Departamento</th>\n",
       "    </tr>\n",
       "  </thead>\n",
       "  <tbody>\n",
       "    <tr>\n",
       "      <th>2</th>\n",
       "      <td>Pepe</td>\n",
       "      <td>37</td>\n",
       "      <td>Ventas</td>\n",
       "    </tr>\n",
       "  </tbody>\n",
       "</table>\n",
       "</div>"
      ],
      "text/plain": [
       "  Nombre  Edad Departamento\n",
       "2   Pepe    37       Ventas"
      ]
     },
     "execution_count": 17,
     "metadata": {},
     "output_type": "execute_result"
    }
   ],
   "source": [
    "df[df['Edad']<40]"
   ]
  },
  {
   "cell_type": "code",
   "execution_count": 18,
   "id": "ec592722",
   "metadata": {},
   "outputs": [
    {
     "data": {
      "text/plain": [
       "0    84\n",
       "1    80\n",
       "2    74\n",
       "Name: Edad, dtype: int64"
      ]
     },
     "execution_count": 18,
     "metadata": {},
     "output_type": "execute_result"
    }
   ],
   "source": [
    "df['Edad']*2"
   ]
  },
  {
   "cell_type": "markdown",
   "id": "e1e5ea32",
   "metadata": {},
   "source": [
    "# Funciones"
   ]
  },
  {
   "cell_type": "code",
   "execution_count": null,
   "id": "7e6d838a",
   "metadata": {},
   "outputs": [],
   "source": [
    "countries"
   ]
  },
  {
   "cell_type": "code",
   "execution_count": null,
   "id": "390e2afc",
   "metadata": {},
   "outputs": [],
   "source": [
    "len(countries)"
   ]
  },
  {
   "cell_type": "code",
   "execution_count": null,
   "id": "4ba25e3a",
   "metadata": {},
   "outputs": [],
   "source": [
    "max([5,10,11,6,22])"
   ]
  },
  {
   "cell_type": "code",
   "execution_count": null,
   "id": "3d72191f",
   "metadata": {},
   "outputs": [],
   "source": [
    "type(countries)"
   ]
  },
  {
   "cell_type": "code",
   "execution_count": null,
   "id": "b6dad629",
   "metadata": {},
   "outputs": [],
   "source": [
    "round(3.4568,1)"
   ]
  },
  {
   "cell_type": "code",
   "execution_count": null,
   "id": "e19dc062",
   "metadata": {},
   "outputs": [],
   "source": [
    "range(1,10,2)"
   ]
  },
  {
   "cell_type": "code",
   "execution_count": null,
   "id": "716f8cd5",
   "metadata": {},
   "outputs": [],
   "source": [
    "for i in range(1,10,2):\n",
    "    print(i)"
   ]
  },
  {
   "cell_type": "code",
   "execution_count": null,
   "id": "20df75bd",
   "metadata": {},
   "outputs": [],
   "source": [
    "def sumar(a,b):\n",
    "    return a+b\n",
    "sumar(10,22)"
   ]
  },
  {
   "cell_type": "markdown",
   "id": "52eff95c",
   "metadata": {},
   "source": [
    "# Modulos"
   ]
  },
  {
   "cell_type": "code",
   "execution_count": null,
   "id": "e4cdb292",
   "metadata": {},
   "outputs": [],
   "source": [
    "import os"
   ]
  },
  {
   "cell_type": "code",
   "execution_count": null,
   "id": "a021740e",
   "metadata": {},
   "outputs": [],
   "source": [
    "os.getcwd()"
   ]
  },
  {
   "cell_type": "code",
   "execution_count": null,
   "id": "30ecc3d5",
   "metadata": {},
   "outputs": [],
   "source": [
    "os.listdir()"
   ]
  },
  {
   "cell_type": "code",
   "execution_count": null,
   "id": "8d2aff02",
   "metadata": {},
   "outputs": [],
   "source": [
    "os.makedirs('Nueva carpeta')"
   ]
  },
  {
   "cell_type": "markdown",
   "id": "a55d1962",
   "metadata": {},
   "source": [
    "## Trabajo con fechas"
   ]
  },
  {
   "cell_type": "code",
   "execution_count": null,
   "id": "5cae2a54",
   "metadata": {},
   "outputs": [],
   "source": [
    "from datetime import date,time,datetime"
   ]
  },
  {
   "cell_type": "code",
   "execution_count": null,
   "id": "b977bb70",
   "metadata": {},
   "outputs": [],
   "source": [
    "date.today()"
   ]
  },
  {
   "cell_type": "code",
   "execution_count": null,
   "id": "528534b5",
   "metadata": {},
   "outputs": [],
   "source": [
    "#Fecha y hora del sistema\n",
    "datetime.now()"
   ]
  },
  {
   "cell_type": "markdown",
   "id": "b86a629f",
   "metadata": {},
   "source": [
    "# Gráficos de puntos"
   ]
  },
  {
   "cell_type": "code",
   "execution_count": 2,
   "id": "03529dbb",
   "metadata": {},
   "outputs": [],
   "source": [
    "import matplotlib.pyplot as plt\n",
    "import numpy as np"
   ]
  },
  {
   "cell_type": "code",
   "execution_count": null,
   "id": "112279e5",
   "metadata": {},
   "outputs": [],
   "source": [
    "n = 10\n",
    "data = np.random.random((n,2))\n",
    "print(data)"
   ]
  },
  {
   "cell_type": "code",
   "execution_count": null,
   "id": "6df3b731",
   "metadata": {},
   "outputs": [],
   "source": [
    "n = 500\n",
    "colores = ['green','yellow']\n",
    "colores_filt=[]\n",
    "\n",
    "data = np.random.random((n,2))\n",
    "\n",
    "for line in data:\n",
    "    if line[1] > 0.5: #con line[1] recorre el eje y\n",
    "        colores_filt.append(colores[1])\n",
    "    else:\n",
    "        colores_filt.append(colores[0])\n",
    "\n",
    "plt.scatter(data[:,0],data[:,1], color=colores_filt)\n",
    "plt.xlabel('Eje x')\n",
    "plt.ylabel('Eje y')\n",
    "plt.title('Gráfico de puntos')\n",
    "plt.show()"
   ]
  },
  {
   "cell_type": "code",
   "execution_count": 6,
   "id": "73e36dc4",
   "metadata": {},
   "outputs": [
    {
     "data": {
      "image/png": "[encoded data removed]",
      "text/plain": [
       "<Figure size 432x288 with 1 Axes>"
      ]
     },
     "metadata": {
      "needs_background": "light"
     },
     "output_type": "display_data"
    }
   ],
   "source": [
    "n = 500\n",
    "\n",
    "data = np.random.random((n,2))\n",
    "\n",
    "d_1 = data[data[:,1]>0.5]\n",
    "d_2 = data[data[:,1]<=0.5]\n",
    "\n",
    "plt.scatter(d_1[:,0],d_1[:,1], label='>0.5')\n",
    "plt.scatter(d_2[:,0],d_2[:,1], label='<=0.5')\n",
    "plt.xlabel('Eje x')\n",
    "plt.ylabel('Eje y')\n",
    "plt.title('Gráfico de puntos')\n",
    "plt.legend(loc='upper left',bbox_to_anchor=(1,1))\n",
    "plt.show()"
   ]
  },
  {
   "cell_type": "markdown",
   "id": "b134997a",
   "metadata": {},
   "source": [
    "# Otro ejemplo"
   ]
  },
  {
   "cell_type": "code",
   "execution_count": 14,
   "id": "5123ad79",
   "metadata": {},
   "outputs": [
    {
     "data": {
      "image/png": "[encoded data removed]",
      "text/plain": [
       "<Figure size 432x288 with 1 Axes>"
      ]
     },
     "metadata": {
      "needs_background": "light"
     },
     "output_type": "display_data"
    }
   ],
   "source": [
    "x = np.random.randint(1, 51,20)\n",
    "y = np.random.randint(1, 51,20)\n",
    "colors = np.random.rand(20)\n",
    "area = np.pi * (np.random.randint(1, 25,20))**2\n",
    "plt.scatter(x,y,s=area,c=colors,alpha=0.5)\n",
    "plt.show()"
   ]
  },
  {
   "cell_type": "code",
   "execution_count": 15,
   "id": "aa275826",
   "metadata": {},
   "outputs": [
    {
     "data": {
      "text/plain": [
       "array([ 201.06192983, 1385.44236023, 1520.53084434,  201.06192983,\n",
       "        804.24771932, 1661.90251375,   78.53981634,   78.53981634,\n",
       "         28.27433388,  907.92027689, 1134.11494795, 1017.87601976,\n",
       "       1809.55736847,  380.13271108, 1134.11494795,  706.85834706,\n",
       "       1017.87601976,  314.15926536, 1661.90251375,    3.14159265])"
      ]
     },
     "execution_count": 15,
     "metadata": {},
     "output_type": "execute_result"
    }
   ],
   "source": [
    "area"
   ]
  },
  {
   "cell_type": "code",
   "execution_count": null,
   "id": "640d9dec",
   "metadata": {},
   "outputs": [],
   "source": []
  },
  {
   "cell_type": "code",
   "execution_count": 8,
   "id": "9674b0d4",
   "metadata": {},
   "outputs": [
    {
     "data": {
      "text/plain": [
       "array([ 1,  3,  6, 36, 13, 47, 18, 47,  8, 15, 48, 12, 12, 27, 24, 46, 13,\n",
       "       48, 20,  1])"
      ]
     },
     "execution_count": 8,
     "metadata": {},
     "output_type": "execute_result"
    }
   ],
   "source": [
    "x"
   ]
  },
  {
   "cell_type": "markdown",
   "id": "f972cd80",
   "metadata": {},
   "source": [
    "## ndarray de numpy"
   ]
  },
  {
   "cell_type": "code",
   "execution_count": null,
   "id": "505d9103",
   "metadata": {},
   "outputs": [],
   "source": [
    "x = np.array([[1, 2, 3], [4, 5, 6], [14, 2, 33], [1, 0, 7]], np.int32)"
   ]
  },
  {
   "cell_type": "code",
   "execution_count": null,
   "id": "c2fa7b26",
   "metadata": {},
   "outputs": [],
   "source": [
    "x"
   ]
  },
  {
   "cell_type": "code",
   "execution_count": null,
   "id": "6b0a0339",
   "metadata": {},
   "outputs": [],
   "source": [
    "for line in x:\n",
    "    print(line[1])"
   ]
  },
  {
   "cell_type": "code",
   "execution_count": null,
   "id": "6b58e9ef",
   "metadata": {},
   "outputs": [],
   "source": [
    "x.shape"
   ]
  },
  {
   "cell_type": "code",
   "execution_count": null,
   "id": "dbcd8b50",
   "metadata": {},
   "outputs": [],
   "source": [
    "x.dtype"
   ]
  },
  {
   "cell_type": "code",
   "execution_count": null,
   "id": "6df02bf9",
   "metadata": {},
   "outputs": [],
   "source": [
    "x[0,1] # devuelve fila 1 columna 2"
   ]
  },
  {
   "cell_type": "code",
   "execution_count": null,
   "id": "37581517",
   "metadata": {},
   "outputs": [],
   "source": [
    "y = x[:,1] #devuelve columna 2 completa"
   ]
  },
  {
   "cell_type": "code",
   "execution_count": null,
   "id": "af7cfd43",
   "metadata": {},
   "outputs": [],
   "source": [
    "y"
   ]
  },
  {
   "cell_type": "code",
   "execution_count": null,
   "id": "12356c06",
   "metadata": {},
   "outputs": [],
   "source": [
    "y[0]"
   ]
  },
  {
   "cell_type": "code",
   "execution_count": null,
   "id": "e7e9004e",
   "metadata": {},
   "outputs": [],
   "source": [
    " x[:,1]"
   ]
  },
  {
   "cell_type": "code",
   "execution_count": null,
   "id": "62909c10",
   "metadata": {},
   "outputs": [],
   "source": [
    " x[1:,1]"
   ]
  },
  {
   "cell_type": "code",
   "execution_count": null,
   "id": "623967b5",
   "metadata": {},
   "outputs": [],
   "source": [
    " x[1:3,1] #devuelve desde la posición 1 hasta la posición 2 de array([2, 5, 2, 0])"
   ]
  },
  {
   "cell_type": "code",
   "execution_count": null,
   "id": "37fd188a",
   "metadata": {},
   "outputs": [],
   "source": [
    "x"
   ]
  },
  {
   "cell_type": "code",
   "execution_count": null,
   "id": "c6a1ce1c",
   "metadata": {},
   "outputs": [],
   "source": [
    "x[x[:,2]>5]"
   ]
  },
  {
   "cell_type": "markdown",
   "id": "5b23c7af",
   "metadata": {},
   "source": [
    "# Cadenas"
   ]
  },
  {
   "cell_type": "code",
   "execution_count": 7,
   "id": "df18602d",
   "metadata": {},
   "outputs": [],
   "source": [
    "nombre = \"AleJandro\""
   ]
  },
  {
   "cell_type": "code",
   "execution_count": 8,
   "id": "b99ca9dd",
   "metadata": {},
   "outputs": [
    {
     "data": {
      "text/plain": [
       "'alejandro'"
      ]
     },
     "execution_count": 8,
     "metadata": {},
     "output_type": "execute_result"
    }
   ],
   "source": [
    "nombre.lower()"
   ]
  },
  {
   "cell_type": "code",
   "execution_count": 9,
   "id": "4baf4ba7",
   "metadata": {},
   "outputs": [
    {
     "data": {
      "text/plain": [
       "'ALEJANDRO'"
      ]
     },
     "execution_count": 9,
     "metadata": {},
     "output_type": "execute_result"
    }
   ],
   "source": [
    "nombre.upper()"
   ]
  },
  {
   "cell_type": "code",
   "execution_count": 10,
   "id": "7872bdfd",
   "metadata": {},
   "outputs": [
    {
     "data": {
      "text/plain": [
       "'A'"
      ]
     },
     "execution_count": 10,
     "metadata": {},
     "output_type": "execute_result"
    }
   ],
   "source": [
    "nombre[0]"
   ]
  },
  {
   "cell_type": "code",
   "execution_count": 11,
   "id": "3c940d9c",
   "metadata": {},
   "outputs": [
    {
     "data": {
      "text/plain": [
       "'Alejandro'"
      ]
     },
     "execution_count": 11,
     "metadata": {},
     "output_type": "execute_result"
    }
   ],
   "source": [
    "nombre.capitalize()"
   ]
  },
  {
   "cell_type": "code",
   "execution_count": 13,
   "id": "aa4af542",
   "metadata": {},
   "outputs": [],
   "source": [
    "ale = []"
   ]
  },
  {
   "cell_type": "code",
   "execution_count": 14,
   "id": "f0b1711d",
   "metadata": {},
   "outputs": [
    {
     "data": {
      "text/plain": [
       "list"
      ]
     },
     "execution_count": 14,
     "metadata": {},
     "output_type": "execute_result"
    }
   ],
   "source": [
    "type(ale)"
   ]
  },
  {
   "cell_type": "code",
   "execution_count": 2,
   "id": "8177a553",
   "metadata": {},
   "outputs": [
    {
     "name": "stdout",
     "output_type": "stream",
     "text": [
      "0\n",
      "0\n"
     ]
    }
   ],
   "source": [
    "saludo = \"Hola0como te0 va? soy Alejandro\"\n",
    "for c in saludo:\n",
    "    if c=='0':\n",
    "        print(c)"
   ]
  },
  {
   "cell_type": "code",
   "execution_count": 7,
   "id": "26685d2f",
   "metadata": {},
   "outputs": [],
   "source": [
    "lista = list(saludo)"
   ]
  },
  {
   "cell_type": "code",
   "execution_count": 14,
   "id": "b6e79e41",
   "metadata": {},
   "outputs": [
    {
     "name": "stdout",
     "output_type": "stream",
     "text": [
      "0\n",
      "0\n"
     ]
    }
   ],
   "source": [
    "for x in range(0,len(lista)):\n",
    "    if lista[x] == '0':\n",
    "        print(lista[x])"
   ]
  },
  {
   "cell_type": "code",
   "execution_count": 16,
   "id": "40f952da",
   "metadata": {},
   "outputs": [],
   "source": [
    "for x in lista:\n",
    "    if x == '0':\n",
    "        lista.remove(x)"
   ]
  },
  {
   "cell_type": "code",
   "execution_count": 18,
   "id": "6e22afab",
   "metadata": {},
   "outputs": [],
   "source": [
    "cadena = \"\".join(lista)"
   ]
  },
  {
   "cell_type": "code",
   "execution_count": 19,
   "id": "bd0bee81",
   "metadata": {},
   "outputs": [
    {
     "data": {
      "text/plain": [
       "'Holacomo te va? soy Alejandro'"
      ]
     },
     "execution_count": 19,
     "metadata": {},
     "output_type": "execute_result"
    }
   ],
   "source": [
    "cadena"
   ]
  },
  {
   "cell_type": "code",
   "execution_count": 20,
   "id": "11728c19",
   "metadata": {},
   "outputs": [
    {
     "data": {
      "text/plain": [
       "str"
      ]
     },
     "execution_count": 20,
     "metadata": {},
     "output_type": "execute_result"
    }
   ],
   "source": [
    "type(cadena)"
   ]
  },
  {
   "cell_type": "code",
   "execution_count": 57,
   "id": "28a791ed",
   "metadata": {},
   "outputs": [
    {
     "name": "stdout",
     "output_type": "stream",
     "text": [
      "3R51481\n"
     ]
    }
   ],
   "source": [
    "def eliminarCeros(cadena):\n",
    "    lista = []\n",
    "    for x in cadena:\n",
    "        if x != '0':\n",
    "            lista.append(x)\n",
    "    return \"\".join(lista)\n",
    "\n",
    "cadena = \"00003R00051481\"\n",
    "cadena = eliminarCeros(cadena)\n",
    "print(cadena)"
   ]
  },
  {
   "cell_type": "code",
   "execution_count": 52,
   "id": "9e104b94",
   "metadata": {},
   "outputs": [
    {
     "data": {
      "text/plain": [
       "['0', '0', '0', '0', '3', 'R', '0', '0', '0', '5', '1', '4', '8', '1']"
      ]
     },
     "execution_count": 52,
     "metadata": {},
     "output_type": "execute_result"
    }
   ],
   "source": [
    "cadena = \"00003R00051481\"\n",
    "lista = list(cadena)\n",
    "lista"
   ]
  },
  {
   "cell_type": "code",
   "execution_count": 53,
   "id": "c7dd0ced",
   "metadata": {},
   "outputs": [
    {
     "data": {
      "text/plain": [
       "range(0, 13)"
      ]
     },
     "execution_count": 53,
     "metadata": {},
     "output_type": "execute_result"
    }
   ],
   "source": [
    "range(0,len(lista)-1)"
   ]
  },
  {
   "cell_type": "code",
   "execution_count": 54,
   "id": "1012a42c",
   "metadata": {},
   "outputs": [
    {
     "data": {
      "text/plain": [
       "True"
      ]
     },
     "execution_count": 54,
     "metadata": {},
     "output_type": "execute_result"
    }
   ],
   "source": [
    "lista[13] == '1'"
   ]
  },
  {
   "cell_type": "code",
   "execution_count": null,
   "id": "dd38bfcf",
   "metadata": {},
   "outputs": [],
   "source": [
    "lista.append"
   ]
  },
  {
   "cell_type": "code",
   "execution_count": 56,
   "id": "7cc2f6a1",
   "metadata": {},
   "outputs": [
    {
     "data": {
      "text/plain": [
       "['3', 'R', '5', '1', '4', '8', '1']"
      ]
     },
     "execution_count": 56,
     "metadata": {},
     "output_type": "execute_result"
    }
   ],
   "source": [
    "cadena = \"00003R00051481\"\n",
    "lista = []\n",
    "for x in cadena:\n",
    "    if x != '0':\n",
    "        lista.append(x)\n",
    "lista"
   ]
  },
  {
   "cell_type": "code",
   "execution_count": 36,
   "id": "3cfe6460",
   "metadata": {},
   "outputs": [
    {
     "data": {
      "text/plain": [
       "['0', '0', '3', 'R', '0', '5', '1', '4', '8', '1']"
      ]
     },
     "execution_count": 36,
     "metadata": {},
     "output_type": "execute_result"
    }
   ],
   "source": [
    "lista"
   ]
  },
  {
   "cell_type": "code",
   "execution_count": null,
   "id": "68cec02b",
   "metadata": {},
   "outputs": [],
   "source": []
  }
 ],
 "metadata": {
  "hide_input": false,
  "kernelspec": {
   "display_name": "Python 3 (ipykernel)",
   "language": "python",
   "name": "python3"
  },
  "language_info": {
   "codemirror_mode": {
    "name": "ipython",
    "version": 3
   },
   "file_extension": ".py",
   "mimetype": "text/x-python",
   "name": "python",
   "nbconvert_exporter": "python",
   "pygments_lexer": "ipython3",
   "version": "3.10.2"
  },
  "nbTranslate": {
   "displayLangs": [
    "en"
   ],
   "hotkey": "alt-t",
   "langInMainMenu": true,
   "sourceLang": "es",
   "targetLang": "en",
   "useGoogleTranslate": true
  },
  "toc": {
   "base_numbering": 1,
   "nav_menu": {
    "height": "191.991px",
    "width": "287.991px"
   },
   "number_sections": true,
   "sideBar": true,
   "skip_h1_title": false,
   "title_cell": "Table of Contents",
   "title_sidebar": "Contents",
   "toc_cell": false,
   "toc_position": {
    "height": "calc(100% - 180px)",
    "left": "10px",
    "top": "150px",
    "width": "280.669px"
   },
   "toc_section_display": true,
   "toc_window_display": true
  }
 },
 "nbformat": 4,
 "nbformat_minor": 5
}
