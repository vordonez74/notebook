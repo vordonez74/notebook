{
 "cells": [
  {
   "cell_type": "markdown",
   "id": "e4583496",
   "metadata": {
    "lang": "en"
   },
   "source": [
    "# Evaluar la eficiencia del código"
   ]
  },
  {
   "cell_type": "code",
   "execution_count": null,
   "id": "d7a9162f",
   "metadata": {},
   "outputs": [],
   "source": [
    "import time\n",
    "\n",
    "start = time.time()\n",
    "\n",
    "# Nuestro código - Duerme 1/2 segundo\n",
    "time.sleep(0.5)\n",
    "\n",
    "end = time.time()\n",
    "\n",
    "print(end-start)"
   ]
  },
  {
   "cell_type": "markdown",
   "id": "5c1e4b8e",
   "metadata": {},
   "source": [
    "## Código más humano"
   ]
  },
  {
   "cell_type": "code",
   "execution_count": null,
   "id": "52cca51c",
   "metadata": {},
   "outputs": [],
   "source": [
    "from datetime import timedelta\n",
    "\n",
    "start = time.monotonic()\n",
    "\n",
    "#Nuestro código\n",
    "time.sleep(1)\n",
    "\n",
    "end = time.monotonic()\n",
    "\n",
    "print(timedelta(seconds = end - start))"
   ]
  },
  {
   "cell_type": "markdown",
   "id": "be691ef6",
   "metadata": {},
   "source": [
    "## Para comparar dos procesos"
   ]
  },
  {
   "cell_type": "code",
   "execution_count": null,
   "id": "24a1dc75",
   "metadata": {},
   "outputs": [],
   "source": [
    "import time\n",
    "\n",
    "start = time.time()\n",
    "\n",
    "\n",
    "time.sleep(0.5)\n",
    "\n",
    "end = time.time()\n",
    "\n",
    "start2 = time.time()\n",
    "\n",
    "time.sleep(0.6)\n",
    "\n",
    "end2 = time.time()\n",
    "\n",
    "print(end-start > end2 -start2)"
   ]
  },
  {
   "cell_type": "markdown",
   "id": "3a416294",
   "metadata": {},
   "source": [
    "# Listas"
   ]
  },
  {
   "cell_type": "code",
   "execution_count": null,
   "id": "520099ce",
   "metadata": {},
   "outputs": [],
   "source": [
    "countries =['United Sates','India','China','Brazil']"
   ]
  },
  {
   "cell_type": "code",
   "execution_count": null,
   "id": "ac9ea782",
   "metadata": {},
   "outputs": [],
   "source": [
    "countries"
   ]
  },
  {
   "cell_type": "code",
   "execution_count": null,
   "id": "636ff786",
   "metadata": {},
   "outputs": [],
   "source": [
    "countries[0]"
   ]
  },
  {
   "cell_type": "code",
   "execution_count": null,
   "id": "9deba5a6",
   "metadata": {},
   "outputs": [],
   "source": [
    "countries[-1]"
   ]
  },
  {
   "cell_type": "markdown",
   "id": "6aa79a6d",
   "metadata": {},
   "source": [
    "## Rebanada / Slicing"
   ]
  },
  {
   "cell_type": "code",
   "execution_count": null,
   "id": "779385c6",
   "metadata": {},
   "outputs": [],
   "source": [
    "countries[0:3]"
   ]
  },
  {
   "cell_type": "markdown",
   "id": "4486e283",
   "metadata": {},
   "source": [
    "## Operaciones y Metodos"
   ]
  },
  {
   "cell_type": "code",
   "execution_count": null,
   "id": "14ea015d",
   "metadata": {},
   "outputs": [],
   "source": [
    "countries.append('Canada')"
   ]
  },
  {
   "cell_type": "code",
   "execution_count": null,
   "id": "a8533042",
   "metadata": {},
   "outputs": [],
   "source": [
    "countries"
   ]
  },
  {
   "cell_type": "code",
   "execution_count": null,
   "id": "81433aa9",
   "metadata": {},
   "outputs": [],
   "source": [
    "countries.insert(0,'Argentina')"
   ]
  },
  {
   "cell_type": "code",
   "execution_count": null,
   "id": "4b2ab1ac",
   "metadata": {},
   "outputs": [],
   "source": [
    "countries"
   ]
  },
  {
   "cell_type": "markdown",
   "id": "815c9c31",
   "metadata": {},
   "source": [
    "## Concatenar dos listas"
   ]
  },
  {
   "cell_type": "code",
   "execution_count": null,
   "id": "12cb67d5",
   "metadata": {},
   "outputs": [],
   "source": [
    "countries_2 = ['UK','Alemania','Australia']"
   ]
  },
  {
   "cell_type": "code",
   "execution_count": null,
   "id": "7f6df216",
   "metadata": {},
   "outputs": [],
   "source": [
    "countries + countries_2"
   ]
  },
  {
   "cell_type": "markdown",
   "id": "c45d107b",
   "metadata": {},
   "source": [
    "## Anidado de listas"
   ]
  },
  {
   "cell_type": "code",
   "execution_count": null,
   "id": "56499f14",
   "metadata": {},
   "outputs": [],
   "source": [
    "nueva_lista = [countries,countries_2]"
   ]
  },
  {
   "cell_type": "code",
   "execution_count": null,
   "id": "cd3119e6",
   "metadata": {},
   "outputs": [],
   "source": [
    "nueva_lista"
   ]
  },
  {
   "cell_type": "markdown",
   "id": "fcbd4b74",
   "metadata": {},
   "source": [
    "## Eliminar elementos"
   ]
  },
  {
   "cell_type": "code",
   "execution_count": null,
   "id": "fbaa4f39",
   "metadata": {},
   "outputs": [],
   "source": [
    "countries.remove('Canada')"
   ]
  },
  {
   "cell_type": "code",
   "execution_count": null,
   "id": "d8081f3b",
   "metadata": {},
   "outputs": [],
   "source": [
    "countries"
   ]
  },
  {
   "cell_type": "code",
   "execution_count": null,
   "id": "c79920d1",
   "metadata": {},
   "outputs": [],
   "source": [
    "countries.pop()"
   ]
  },
  {
   "cell_type": "code",
   "execution_count": null,
   "id": "aab3fe11",
   "metadata": {},
   "outputs": [],
   "source": [
    "countries"
   ]
  },
  {
   "cell_type": "code",
   "execution_count": null,
   "id": "f7afaae7",
   "metadata": {},
   "outputs": [],
   "source": [
    "countries.pop(0)"
   ]
  },
  {
   "cell_type": "code",
   "execution_count": null,
   "id": "26517a45",
   "metadata": {},
   "outputs": [],
   "source": [
    "countries"
   ]
  },
  {
   "cell_type": "code",
   "execution_count": null,
   "id": "43556a9a",
   "metadata": {},
   "outputs": [],
   "source": [
    "del countries[0]"
   ]
  },
  {
   "cell_type": "code",
   "execution_count": null,
   "id": "ab7c9b40",
   "metadata": {},
   "outputs": [],
   "source": [
    "countries"
   ]
  },
  {
   "cell_type": "markdown",
   "id": "c3b1fc0a",
   "metadata": {},
   "source": [
    "## Ordenar listas"
   ]
  },
  {
   "cell_type": "code",
   "execution_count": null,
   "id": "12f791c4",
   "metadata": {},
   "outputs": [],
   "source": [
    "numbers = [4,3,10,7,1,2]"
   ]
  },
  {
   "cell_type": "code",
   "execution_count": null,
   "id": "e4c39ebc",
   "metadata": {},
   "outputs": [],
   "source": [
    "numbers.sort()"
   ]
  },
  {
   "cell_type": "code",
   "execution_count": null,
   "id": "7039dfef",
   "metadata": {},
   "outputs": [],
   "source": [
    "numbers"
   ]
  },
  {
   "cell_type": "code",
   "execution_count": null,
   "id": "29cc32c0",
   "metadata": {},
   "outputs": [],
   "source": [
    "numbers.sort(reverse=True)"
   ]
  },
  {
   "cell_type": "code",
   "execution_count": null,
   "id": "aadd70fc",
   "metadata": {},
   "outputs": [],
   "source": [
    "numbers"
   ]
  },
  {
   "cell_type": "markdown",
   "id": "01c08099",
   "metadata": {},
   "source": [
    "## Copiar una lista"
   ]
  },
  {
   "cell_type": "code",
   "execution_count": null,
   "id": "c45adbf6",
   "metadata": {},
   "outputs": [],
   "source": [
    "countries.append('Argentina')\n",
    "countries.append('Alemania')"
   ]
  },
  {
   "cell_type": "code",
   "execution_count": null,
   "id": "1f56c2a4",
   "metadata": {},
   "outputs": [],
   "source": [
    "nueva_lista = countries.copy()"
   ]
  },
  {
   "cell_type": "markdown",
   "id": "bd213efe",
   "metadata": {},
   "source": [
    "# Diccionarios"
   ]
  },
  {
   "cell_type": "code",
   "execution_count": null,
   "id": "b448e381",
   "metadata": {},
   "outputs": [],
   "source": [
    "mi_diccionario = {'key1':'value1','key2':'value2'}"
   ]
  },
  {
   "cell_type": "code",
   "execution_count": null,
   "id": "aaee41c6",
   "metadata": {},
   "outputs": [],
   "source": [
    "mi_diccionario['key1']"
   ]
  },
  {
   "cell_type": "code",
   "execution_count": null,
   "id": "54b887d1",
   "metadata": {},
   "outputs": [],
   "source": [
    "mi_diccionario.keys()"
   ]
  },
  {
   "cell_type": "code",
   "execution_count": null,
   "id": "651e20b2",
   "metadata": {},
   "outputs": [],
   "source": [
    "mi_diccionario.values()"
   ]
  },
  {
   "cell_type": "code",
   "execution_count": null,
   "id": "edb17cc0",
   "metadata": {},
   "outputs": [],
   "source": [
    "mi_diccionario.items()"
   ]
  },
  {
   "cell_type": "markdown",
   "id": "11efef4d",
   "metadata": {},
   "source": [
    "## Agregar / actualizar elementos"
   ]
  },
  {
   "cell_type": "code",
   "execution_count": null,
   "id": "ef3d0de4",
   "metadata": {},
   "outputs": [],
   "source": [
    "mi_diccionario['estatura'] = 1.78"
   ]
  },
  {
   "cell_type": "code",
   "execution_count": null,
   "id": "7d5fe0f4",
   "metadata": {},
   "outputs": [],
   "source": [
    "mi_diccionario"
   ]
  },
  {
   "cell_type": "code",
   "execution_count": null,
   "id": "fb54ebb5",
   "metadata": {},
   "outputs": [],
   "source": [
    "mi_diccionario.update({'estatura':1.75})"
   ]
  },
  {
   "cell_type": "code",
   "execution_count": null,
   "id": "d17e254c",
   "metadata": {},
   "outputs": [],
   "source": [
    "mi_diccionario"
   ]
  },
  {
   "cell_type": "markdown",
   "id": "ca800e83",
   "metadata": {},
   "source": [
    "## Copiar un diccionario"
   ]
  },
  {
   "cell_type": "code",
   "execution_count": null,
   "id": "00c64856",
   "metadata": {},
   "outputs": [],
   "source": [
    "mi_nuevo_dicc = mi_diccionario.copy()"
   ]
  },
  {
   "cell_type": "code",
   "execution_count": null,
   "id": "ffb03a03",
   "metadata": {},
   "outputs": [],
   "source": [
    "mi_nuevo_dicc"
   ]
  },
  {
   "cell_type": "markdown",
   "id": "160a4fb1",
   "metadata": {},
   "source": [
    "## Eliminar un elemento"
   ]
  },
  {
   "cell_type": "code",
   "execution_count": null,
   "id": "f26d6623",
   "metadata": {},
   "outputs": [],
   "source": [
    "mi_diccionario"
   ]
  },
  {
   "cell_type": "code",
   "execution_count": null,
   "id": "ca59513e",
   "metadata": {},
   "outputs": [],
   "source": [
    "mi_diccionario.pop('estatura')"
   ]
  },
  {
   "cell_type": "code",
   "execution_count": null,
   "id": "2ec347ba",
   "metadata": {},
   "outputs": [],
   "source": [
    "mi_diccionario"
   ]
  },
  {
   "cell_type": "code",
   "execution_count": null,
   "id": "03f8740b",
   "metadata": {},
   "outputs": [],
   "source": [
    "mi_diccionario.clear()"
   ]
  },
  {
   "cell_type": "code",
   "execution_count": null,
   "id": "0719a765",
   "metadata": {},
   "outputs": [],
   "source": [
    "mi_diccionario"
   ]
  },
  {
   "cell_type": "markdown",
   "id": "e857e173",
   "metadata": {},
   "source": [
    "# Dataframe"
   ]
  },
  {
   "cell_type": "code",
   "execution_count": null,
   "id": "c0d02de9",
   "metadata": {},
   "outputs": [],
   "source": []
  },
  {
   "cell_type": "markdown",
   "id": "360a36b9",
   "metadata": {},
   "source": [
    "## Cómo crear un DataFrame a partir de un diccionario de listas"
   ]
  },
  {
   "cell_type": "code",
   "execution_count": null,
   "id": "5c309e69",
   "metadata": {},
   "outputs": [],
   "source": [
    "import pandas as pd\n",
    "\n",
    "datos = {\n",
    "    'Nombre' : ['Juan', 'Laura', 'Pepe'],\n",
    "    'Edad': [42, 40, 37],\n",
    "    'Departamento': ['Comunicación', 'Administración', 'Ventas']\n",
    "}\n",
    "\n",
    "df = pd.DataFrame(datos)\n",
    "\n",
    "print(df)"
   ]
  },
  {
   "cell_type": "code",
   "execution_count": null,
   "id": "53cd982e",
   "metadata": {},
   "outputs": [],
   "source": [
    "df['Nombre']"
   ]
  },
  {
   "cell_type": "code",
   "execution_count": null,
   "id": "c4b35599",
   "metadata": {},
   "outputs": [],
   "source": [
    "df[df['Edad']<40]"
   ]
  },
  {
   "cell_type": "code",
   "execution_count": null,
   "id": "ec592722",
   "metadata": {},
   "outputs": [],
   "source": [
    "df['Edad']*2"
   ]
  },
  {
   "cell_type": "markdown",
   "id": "e1e5ea32",
   "metadata": {},
   "source": [
    "# Funciones"
   ]
  },
  {
   "cell_type": "code",
   "execution_count": null,
   "id": "7e6d838a",
   "metadata": {},
   "outputs": [],
   "source": [
    "countries"
   ]
  },
  {
   "cell_type": "code",
   "execution_count": null,
   "id": "390e2afc",
   "metadata": {},
   "outputs": [],
   "source": [
    "len(countries)"
   ]
  },
  {
   "cell_type": "code",
   "execution_count": null,
   "id": "4ba25e3a",
   "metadata": {},
   "outputs": [],
   "source": [
    "max([5,10,11,6,22])"
   ]
  },
  {
   "cell_type": "code",
   "execution_count": null,
   "id": "3d72191f",
   "metadata": {},
   "outputs": [],
   "source": [
    "type(countries)"
   ]
  },
  {
   "cell_type": "code",
   "execution_count": null,
   "id": "b6dad629",
   "metadata": {},
   "outputs": [],
   "source": [
    "round(3.4568,1)"
   ]
  },
  {
   "cell_type": "code",
   "execution_count": null,
   "id": "e19dc062",
   "metadata": {},
   "outputs": [],
   "source": [
    "range(1,10,2)"
   ]
  },
  {
   "cell_type": "code",
   "execution_count": null,
   "id": "716f8cd5",
   "metadata": {},
   "outputs": [],
   "source": [
    "for i in range(1,10,2):\n",
    "    print(i)"
   ]
  },
  {
   "cell_type": "code",
   "execution_count": null,
   "id": "20df75bd",
   "metadata": {},
   "outputs": [],
   "source": [
    "def sumar(a,b):\n",
    "    return a+b\n",
    "sumar(10,22)"
   ]
  },
  {
   "cell_type": "markdown",
   "id": "52eff95c",
   "metadata": {},
   "source": [
    "# Modulos"
   ]
  },
  {
   "cell_type": "code",
   "execution_count": null,
   "id": "e4cdb292",
   "metadata": {},
   "outputs": [],
   "source": [
    "import os"
   ]
  },
  {
   "cell_type": "code",
   "execution_count": null,
   "id": "a021740e",
   "metadata": {},
   "outputs": [],
   "source": [
    "os.getcwd()"
   ]
  },
  {
   "cell_type": "code",
   "execution_count": null,
   "id": "30ecc3d5",
   "metadata": {},
   "outputs": [],
   "source": [
    "os.listdir()"
   ]
  },
  {
   "cell_type": "code",
   "execution_count": null,
   "id": "8d2aff02",
   "metadata": {},
   "outputs": [],
   "source": [
    "os.makedirs('Nueva carpeta')"
   ]
  },
  {
   "cell_type": "markdown",
   "id": "a55d1962",
   "metadata": {},
   "source": [
    "## Trabajo con fechas"
   ]
  },
  {
   "cell_type": "code",
   "execution_count": null,
   "id": "5cae2a54",
   "metadata": {},
   "outputs": [],
   "source": [
    "from datetime import date,time,datetime"
   ]
  },
  {
   "cell_type": "code",
   "execution_count": null,
   "id": "b977bb70",
   "metadata": {},
   "outputs": [],
   "source": [
    "date.today()"
   ]
  },
  {
   "cell_type": "code",
   "execution_count": null,
   "id": "528534b5",
   "metadata": {},
   "outputs": [],
   "source": [
    "#Fecha y hora del sistema\n",
    "datetime.now()"
   ]
  },
  {
   "cell_type": "markdown",
   "id": "b86a629f",
   "metadata": {},
   "source": [
    "# Gráficos de puntos"
   ]
  },
  {
   "cell_type": "code",
   "execution_count": null,
   "id": "03529dbb",
   "metadata": {},
   "outputs": [],
   "source": [
    "import matplotlib.pyplot as plt\n",
    "import numpy as np"
   ]
  },
  {
   "cell_type": "code",
   "execution_count": null,
   "id": "112279e5",
   "metadata": {},
   "outputs": [],
   "source": [
    "n = 10\n",
    "data = np.random.random((n,2))\n",
    "print(data)"
   ]
  },
  {
   "cell_type": "code",
   "execution_count": null,
   "id": "6df3b731",
   "metadata": {},
   "outputs": [],
   "source": [
    "n = 500\n",
    "colores = ['green','yellow']\n",
    "colores_filt=[]\n",
    "\n",
    "data = np.random.random((n,2))\n",
    "\n",
    "for line in data:\n",
    "    if line[1] > 0.5: #con line[1] recorre el eje y\n",
    "        colores_filt.append(colores[1])\n",
    "    else:\n",
    "        colores_filt.append(colores[0])\n",
    "\n",
    "plt.scatter(data[:,0],data[:,1], color=colores_filt)\n",
    "plt.xlabel('Eje x')\n",
    "plt.ylabel('Eje y')\n",
    "plt.title('Gráfico de puntos')\n",
    "plt.show()"
   ]
  },
  {
   "cell_type": "code",
   "execution_count": null,
   "id": "73e36dc4",
   "metadata": {},
   "outputs": [],
   "source": [
    "n = 500\n",
    "\n",
    "data = np.random.random((n,2))\n",
    "\n",
    "d_1 = data[data[:,1]>0.5]\n",
    "d_2 = data[data[:,1]<=0.5]\n",
    "\n",
    "plt.scatter(d_1[:,0],d_1[:,1], label='>0.5')\n",
    "plt.scatter(d_2[:,0],d_2[:,1], label='<=0.5')\n",
    "plt.xlabel('Eje x')\n",
    "plt.ylabel('Eje y')\n",
    "plt.title('Gráfico de puntos')\n",
    "plt.legend(loc='upper left',bbox_to_anchor=(1,1))\n",
    "plt.show()"
   ]
  },
  {
   "cell_type": "markdown",
   "id": "b134997a",
   "metadata": {},
   "source": [
    "# Otro ejemplo"
   ]
  },
  {
   "cell_type": "code",
   "execution_count": null,
   "id": "5123ad79",
   "metadata": {},
   "outputs": [],
   "source": [
    "x = np.random.randint(1, 51,20)\n",
    "y = np.random.randint(1, 51,20)\n",
    "colors = np.random.rand(20)\n",
    "area = np.pi * (np.random.randint(1, 25,20))**2\n",
    "plt.scatter(x,y,s=area,c=colors,alpha=0.5)\n",
    "plt.show()"
   ]
  },
  {
   "cell_type": "code",
   "execution_count": null,
   "id": "aa275826",
   "metadata": {},
   "outputs": [],
   "source": [
    "area"
   ]
  },
  {
   "cell_type": "code",
   "execution_count": null,
   "id": "640d9dec",
   "metadata": {},
   "outputs": [],
   "source": []
  },
  {
   "cell_type": "code",
   "execution_count": null,
   "id": "9674b0d4",
   "metadata": {},
   "outputs": [],
   "source": [
    "x"
   ]
  },
  {
   "cell_type": "markdown",
   "id": "f972cd80",
   "metadata": {},
   "source": [
    "## ndarray de numpy"
   ]
  },
  {
   "cell_type": "code",
   "execution_count": null,
   "id": "505d9103",
   "metadata": {},
   "outputs": [],
   "source": [
    "x = np.array([[1, 2, 3], [4, 5, 6], [14, 2, 33], [1, 0, 7]], np.int32)"
   ]
  },
  {
   "cell_type": "code",
   "execution_count": null,
   "id": "c2fa7b26",
   "metadata": {},
   "outputs": [],
   "source": [
    "x"
   ]
  },
  {
   "cell_type": "code",
   "execution_count": null,
   "id": "6b0a0339",
   "metadata": {},
   "outputs": [],
   "source": [
    "for line in x:\n",
    "    print(line[1])"
   ]
  },
  {
   "cell_type": "code",
   "execution_count": null,
   "id": "6b58e9ef",
   "metadata": {},
   "outputs": [],
   "source": [
    "x.shape"
   ]
  },
  {
   "cell_type": "code",
   "execution_count": null,
   "id": "dbcd8b50",
   "metadata": {},
   "outputs": [],
   "source": [
    "x.dtype"
   ]
  },
  {
   "cell_type": "code",
   "execution_count": null,
   "id": "6df02bf9",
   "metadata": {},
   "outputs": [],
   "source": [
    "x[0,1] # devuelve fila 1 columna 2"
   ]
  },
  {
   "cell_type": "code",
   "execution_count": null,
   "id": "37581517",
   "metadata": {},
   "outputs": [],
   "source": [
    "y = x[:,1] #devuelve columna 2 completa"
   ]
  },
  {
   "cell_type": "code",
   "execution_count": null,
   "id": "af7cfd43",
   "metadata": {},
   "outputs": [],
   "source": [
    "y"
   ]
  },
  {
   "cell_type": "code",
   "execution_count": null,
   "id": "12356c06",
   "metadata": {},
   "outputs": [],
   "source": [
    "y[0]"
   ]
  },
  {
   "cell_type": "code",
   "execution_count": null,
   "id": "e7e9004e",
   "metadata": {},
   "outputs": [],
   "source": [
    " x[:,1]"
   ]
  },
  {
   "cell_type": "code",
   "execution_count": null,
   "id": "62909c10",
   "metadata": {},
   "outputs": [],
   "source": [
    " x[1:,1]"
   ]
  },
  {
   "cell_type": "code",
   "execution_count": null,
   "id": "623967b5",
   "metadata": {},
   "outputs": [],
   "source": [
    " x[1:3,1] #devuelve desde la posición 1 hasta la posición 2 de array([2, 5, 2, 0])"
   ]
  },
  {
   "cell_type": "code",
   "execution_count": null,
   "id": "37fd188a",
   "metadata": {},
   "outputs": [],
   "source": [
    "x"
   ]
  },
  {
   "cell_type": "code",
   "execution_count": null,
   "id": "c6a1ce1c",
   "metadata": {},
   "outputs": [],
   "source": [
    "x[x[:,2]>5]"
   ]
  },
  {
   "cell_type": "markdown",
   "id": "5b23c7af",
   "metadata": {},
   "source": [
    "# Cadenas"
   ]
  },
  {
   "cell_type": "code",
   "execution_count": null,
   "id": "df18602d",
   "metadata": {},
   "outputs": [],
   "source": [
    "nombre = \"AleJandro\""
   ]
  },
  {
   "cell_type": "code",
   "execution_count": null,
   "id": "b99ca9dd",
   "metadata": {},
   "outputs": [],
   "source": [
    "nombre.lower()"
   ]
  },
  {
   "cell_type": "code",
   "execution_count": null,
   "id": "4baf4ba7",
   "metadata": {},
   "outputs": [],
   "source": [
    "nombre.upper()"
   ]
  },
  {
   "cell_type": "code",
   "execution_count": null,
   "id": "7872bdfd",
   "metadata": {},
   "outputs": [],
   "source": [
    "nombre[0]"
   ]
  },
  {
   "cell_type": "code",
   "execution_count": null,
   "id": "3c940d9c",
   "metadata": {},
   "outputs": [],
   "source": [
    "nombre.capitalize()"
   ]
  },
  {
   "cell_type": "code",
   "execution_count": null,
   "id": "aa4af542",
   "metadata": {},
   "outputs": [],
   "source": [
    "ale = []"
   ]
  },
  {
   "cell_type": "code",
   "execution_count": null,
   "id": "f0b1711d",
   "metadata": {},
   "outputs": [],
   "source": [
    "type(ale)"
   ]
  },
  {
   "cell_type": "code",
   "execution_count": null,
   "id": "8177a553",
   "metadata": {},
   "outputs": [],
   "source": [
    "saludo = \"Hola0como te0 va? soy Alejandro\"\n",
    "for c in saludo:\n",
    "    if c=='0':\n",
    "        print(c)"
   ]
  },
  {
   "cell_type": "code",
   "execution_count": null,
   "id": "26685d2f",
   "metadata": {},
   "outputs": [],
   "source": [
    "lista = list(saludo)"
   ]
  },
  {
   "cell_type": "code",
   "execution_count": null,
   "id": "b6e79e41",
   "metadata": {},
   "outputs": [],
   "source": [
    "for x in range(0,len(lista)):\n",
    "    if lista[x] == '0':\n",
    "        print(lista[x])"
   ]
  },
  {
   "cell_type": "code",
   "execution_count": null,
   "id": "40f952da",
   "metadata": {},
   "outputs": [],
   "source": [
    "for x in lista:\n",
    "    if x == '0':\n",
    "        lista.remove(x)"
   ]
  },
  {
   "cell_type": "code",
   "execution_count": null,
   "id": "6e22afab",
   "metadata": {},
   "outputs": [],
   "source": [
    "cadena = \"\".join(lista)"
   ]
  },
  {
   "cell_type": "code",
   "execution_count": null,
   "id": "bd0bee81",
   "metadata": {},
   "outputs": [],
   "source": [
    "cadena"
   ]
  },
  {
   "cell_type": "code",
   "execution_count": null,
   "id": "11728c19",
   "metadata": {},
   "outputs": [],
   "source": [
    "type(cadena)"
   ]
  },
  {
   "cell_type": "code",
   "execution_count": null,
   "id": "28a791ed",
   "metadata": {},
   "outputs": [],
   "source": [
    "def eliminarCeros(cadena):\n",
    "    lista = []\n",
    "    for x in cadena:\n",
    "        if x != '0':\n",
    "            lista.append(x)\n",
    "    return \"\".join(lista)\n",
    "\n",
    "cadena = \"00003R00051481\"\n",
    "cadena = eliminarCeros(cadena)\n",
    "print(cadena)"
   ]
  },
  {
   "cell_type": "code",
   "execution_count": null,
   "id": "9e104b94",
   "metadata": {},
   "outputs": [],
   "source": [
    "cadena = \"00003R00051481\"\n",
    "lista = list(cadena)\n",
    "lista"
   ]
  },
  {
   "cell_type": "code",
   "execution_count": null,
   "id": "c7dd0ced",
   "metadata": {},
   "outputs": [],
   "source": [
    "range(0,len(lista)-1)"
   ]
  },
  {
   "cell_type": "code",
   "execution_count": null,
   "id": "1012a42c",
   "metadata": {},
   "outputs": [],
   "source": [
    "lista[13] == '1'"
   ]
  },
  {
   "cell_type": "code",
   "execution_count": null,
   "id": "dd38bfcf",
   "metadata": {},
   "outputs": [],
   "source": [
    "lista.append"
   ]
  },
  {
   "cell_type": "code",
   "execution_count": null,
   "id": "7cc2f6a1",
   "metadata": {},
   "outputs": [],
   "source": [
    "cadena = \"00003R00051481\"\n",
    "lista = []\n",
    "for x in cadena:\n",
    "    if x != '0':\n",
    "        lista.append(x)\n",
    "lista"
   ]
  },
  {
   "cell_type": "code",
   "execution_count": null,
   "id": "3cfe6460",
   "metadata": {},
   "outputs": [],
   "source": [
    "lista"
   ]
  },
  {
   "cell_type": "markdown",
   "id": "3eb9d3b9",
   "metadata": {},
   "source": [
    "# Expresiones Regulares"
   ]
  },
  {
   "cell_type": "code",
   "execution_count": null,
   "id": "68cec02b",
   "metadata": {},
   "outputs": [],
   "source": [
    "import re"
   ]
  },
  {
   "cell_type": "code",
   "execution_count": null,
   "id": "fa9391fd",
   "metadata": {},
   "outputs": [],
   "source": [
    "patron = re.compile(r'[a-z]+')"
   ]
  },
  {
   "cell_type": "code",
   "execution_count": null,
   "id": "ad0a25c3",
   "metadata": {},
   "outputs": [],
   "source": [
    "print(patron.findall('a45d'))"
   ]
  },
  {
   "cell_type": "code",
   "execution_count": null,
   "id": "1ca09ee3",
   "metadata": {},
   "outputs": [],
   "source": [
    "patron = re.compile(r'[1-9]+')\n",
    "cadena = \"00003R00051481\"\n",
    "p = \"\".join(patron.findall(cadena))"
   ]
  },
  {
   "cell_type": "code",
   "execution_count": null,
   "id": "1344b076",
   "metadata": {},
   "outputs": [],
   "source": [
    "type(p)"
   ]
  },
  {
   "cell_type": "code",
   "execution_count": null,
   "id": "86fe0a52",
   "metadata": {},
   "outputs": [],
   "source": [
    "p"
   ]
  },
  {
   "cell_type": "markdown",
   "id": "23cf58d4",
   "metadata": {},
   "source": [
    "# sqlite3"
   ]
  },
  {
   "cell_type": "code",
   "execution_count": null,
   "id": "db21e0b4",
   "metadata": {},
   "outputs": [],
   "source": [
    "import sqlite3"
   ]
  },
  {
   "cell_type": "code",
   "execution_count": null,
   "id": "a77efef4",
   "metadata": {},
   "outputs": [],
   "source": [
    "#Se abre la base de dato bd1.db o la crea si no existe\n",
    "conexion=sqlite3.connect(\"bd1.db\")"
   ]
  },
  {
   "cell_type": "code",
   "execution_count": null,
   "id": "1451524f",
   "metadata": {},
   "outputs": [],
   "source": [
    "#Crea la tabla articulo\n",
    "try:\n",
    "    conexion.execute(\"\"\"\n",
    "                    create table articulos(\n",
    "                        codigo integer primary key autoincrement,\n",
    "                        descripcion text,\n",
    "                        precio real\n",
    "                    )\n",
    "    \"\"\")\n",
    "    print('Se creo la tabla articulo')\n",
    "except sqlite3.operationError:\n",
    "    print('La tabla articulo ya existe')\n",
    "conexion.close()"
   ]
  },
  {
   "cell_type": "code",
   "execution_count": null,
   "id": "dce8a168",
   "metadata": {},
   "outputs": [],
   "source": [
    "#Insertamos 3 registros a la tabla articulos\n",
    "conexion=sqlite3.connect(\"bd1.db\")\n",
    "try:\n",
    "    conexion.execute(\"insert into articulos(descripcion,precio) values(?,?)\",(\"naranja\",23.5))\n",
    "    conexion.execute(\"insert into articulos(descripcion,precio) values(?,?)\",(\"manzana\",20.0))\n",
    "    conexion.execute(\"insert into articulos(descripcion,precio) values(?,?)\",(\"sandia\",35.7))\n",
    "    conexion.commit()\n",
    "except sqlite3.operationError:\n",
    "    print('Algo está mal')\n",
    "conexion.close()"
   ]
  },
  {
   "cell_type": "code",
   "execution_count": null,
   "id": "bab32e41",
   "metadata": {},
   "outputs": [],
   "source": [
    "conexion=sqlite3.connect(\"bd1.db\")\n",
    "cursor=conexion.execute(\"Select * from articulos\")\n",
    "for fila in cursor:\n",
    "    print(fila)\n",
    "conexion.close()"
   ]
  },
  {
   "cell_type": "code",
   "execution_count": null,
   "id": "432a5b74",
   "metadata": {},
   "outputs": [],
   "source": [
    "conexion=sqlite3.connect(\"bd1.db\")\n",
    "cod = int(input(\"Ingrese el código\"))\n",
    "cursor=conexion.execute(\"Select * from articulos where codigo=?\",(cod,))\n",
    "fila=cursor.fetchone()\n",
    "if fila!=None:\n",
    "    print(fila)\n",
    "else:\n",
    "    print('No existe el código')\n",
    "conexion.close()"
   ]
  },
  {
   "cell_type": "code",
   "execution_count": null,
   "id": "65aadc9d",
   "metadata": {},
   "outputs": [],
   "source": [
    "import pandas as pd"
   ]
  },
  {
   "cell_type": "code",
   "execution_count": null,
   "id": "cd4dff4c",
   "metadata": {},
   "outputs": [],
   "source": [
    "conexion=sqlite3.connect(\"bd1.db\")\n",
    "df = pd.read_sql_query(\"Select * from articulos\",conexion)"
   ]
  },
  {
   "cell_type": "code",
   "execution_count": null,
   "id": "6e2cd68c",
   "metadata": {},
   "outputs": [],
   "source": [
    "df"
   ]
  },
  {
   "cell_type": "code",
   "execution_count": null,
   "id": "a7df4e13",
   "metadata": {},
   "outputs": [],
   "source": [
    "conexion.close()"
   ]
  },
  {
   "cell_type": "markdown",
   "id": "9e4def1b",
   "metadata": {},
   "source": [
    "# Guía Practica Nro.2\n",
    "# “CARMABOLAS”\n",
    "## Introducción:\n",
    "Se pretende crear un juego de carambolas en una mesa similar a la de Pool.\n",
    "Primer nivel de juego, es con una bola, el segundo nivel es con dos bolas y el tercero con tres \n",
    "bolas.\n",
    "La regla es simple, las bolas que chocan con las barandas, suman 1 (uno) punto y las que chocan con otra bola suman 2 (dos) puntos.\n",
    "El jugador que mas punto obtenga gana.\n",
    "Los únicos datos de entrada será, angulo de golpe, y fuerza.\n",
    "- El angulo va de 0° a 180°, por que se asume que sera hacia adelante.\n",
    "- La fuerza va de 0 a 100, y disminuye 1 punto de fuerza cada segundo de tiempo y 3 puntos de \n",
    "fuerza en cada choque, cuando no tiene mas fuerza la bola se detiene.\n",
    "- NO vamos a tener en cuenta la gravedad, ni el roce con la superficie ni ningún otro factor real."
   ]
  },
  {
   "cell_type": "code",
   "execution_count": null,
   "id": "1664f9e7",
   "metadata": {},
   "outputs": [],
   "source": [
    "import time\n",
    "import random"
   ]
  },
  {
   "cell_type": "code",
   "execution_count": null,
   "id": "b4fc7a1c",
   "metadata": {},
   "outputs": [],
   "source": [
    "continuar = True\n",
    "puntos = 0\n",
    "nivel = 0\n",
    "while continuar:\n",
    "    angulo = int(input(\"Ingresar el ángulo (0°-180°)\"))\n",
    "    fuerza = int(input(\"Ingresar la fuerza (0-100)\"))\n",
    "    if angulo>=0 and angulo<=360 and fuerza>=0 and fuerza<=100:\n",
    "        print('Inicia el golpe.')\n",
    "        for i in range(1,101):\n",
    "            if puntos>60:\n",
    "                nivel = 3\n",
    "                #1 chocó con la bardanda,2 no chocó,3 o 4 chocó con otra bola\n",
    "                choca = random.randint(1,4)\n",
    "            elif puntos >30:\n",
    "                nivel = 2\n",
    "                #1 chocó con la bardanda,2 no chocó,3 chocó con otra bola\n",
    "                choca = random.randint(1,3)\n",
    "            else:\n",
    "                nivel = 1\n",
    "                #1 chocó con la bardanda,2 no chocó,3 chocó con otra bola\n",
    "                choca = random.randint(1,2)\n",
    "         \n",
    "            if choca == 1:\n",
    "                puntos = puntos + 1\n",
    "                fuerza = fuerza -3\n",
    "                print(\"Chocó con una baranda\")\n",
    "            elif (choca == 3 or choca == 4) and nivel >1:\n",
    "                puntos = puntos + 2\n",
    "                fuerza = fuerza -3\n",
    "                print(\"chocó con una bola\")\n",
    "            else:\n",
    "                fuerza = fuerza - 1\n",
    "            print(f\"tiempo:{i} fuerza:{fuerza} puntos:{puntos} nivel:{nivel}\")\n",
    "            if fuerza < 1:\n",
    "                break\n",
    "            time.sleep(1)\n",
    "    else:\n",
    "        print('error de entrada')\n",
    "    continuar = input(\"¿Otro golpe?[S|N]\").lower()==\"s\""
   ]
  },
  {
   "cell_type": "code",
   "execution_count": null,
   "id": "c805563f",
   "metadata": {},
   "outputs": [],
   "source": [
    "import random"
   ]
  },
  {
   "cell_type": "code",
   "execution_count": null,
   "id": "76fa85a5",
   "metadata": {},
   "outputs": [],
   "source": [
    "random.randint(1,2)"
   ]
  },
  {
   "cell_type": "code",
   "execution_count": null,
   "id": "a414035f",
   "metadata": {},
   "outputs": [],
   "source": [
    "random.randint(1,4)"
   ]
  },
  {
   "cell_type": "markdown",
   "id": "b50b2c64",
   "metadata": {},
   "source": [
    "# Scope\n",
    "Guido van Rossum"
   ]
  },
  {
   "cell_type": "code",
   "execution_count": null,
   "id": "a06e5bee",
   "metadata": {},
   "outputs": [],
   "source": [
    "def scope_test():\n",
    "    def do_local():\n",
    "        spam = \"local spam\"\n",
    "    def do_nonlocal():\n",
    "        nonlocal spam\n",
    "        spam = \"nonlocal spam\"\n",
    "    def do_global():\n",
    "        global spam\n",
    "        spam = \"global spam\"\n",
    "    spam = \"test spam\"\n",
    "    do_local()\n",
    "    print(\"After local assignment:\", spam)\n",
    "    do_nonlocal()\n",
    "    print(\"After nonlocal assignment:\", spam)\n",
    "    do_global()\n",
    "    print(\"After global assignment:\", spam)\n",
    "scope_test()\n",
    "print(\"In global scope:\", spam)"
   ]
  },
  {
   "cell_type": "markdown",
   "id": "ed23c1a1",
   "metadata": {},
   "source": [
    "# Intelligent AI Chatbot in python\n",
    "[tutorial](https://www.youtube.com/watch?v=1lwddP0KUEg&t=476s)"
   ]
  },
  {
   "cell_type": "code",
   "execution_count": null,
   "id": "6e0baeff",
   "metadata": {},
   "outputs": [],
   "source": [
    "import random\n",
    "import json\n",
    "import pickle\n",
    "import numpy as np\n",
    "import nltk"
   ]
  },
  {
   "cell_type": "markdown",
   "id": "c715b1a0",
   "metadata": {},
   "source": [
    "Pickle in Python is primarily used in serializing and deserializing a Python object structure. In other words, it's the process of converting a Python object into a byte stream to store it in a file/database, maintain program state across sessions, or transport data over the network."
   ]
  },
  {
   "cell_type": "code",
   "execution_count": null,
   "id": "e540af01",
   "metadata": {},
   "outputs": [],
   "source": [
    "from nltk.stem import WordNetLemmatizer"
   ]
  },
  {
   "cell_type": "code",
   "execution_count": null,
   "id": "494eeb80",
   "metadata": {},
   "outputs": [],
   "source": [
    "from tensorflow.keras.models import Sequential"
   ]
  },
  {
   "cell_type": "code",
   "execution_count": null,
   "id": "55aa3f10",
   "metadata": {},
   "outputs": [],
   "source": []
  },
  {
   "cell_type": "code",
   "execution_count": null,
   "id": "1dd9144c",
   "metadata": {},
   "outputs": [],
   "source": []
  },
  {
   "cell_type": "code",
   "execution_count": null,
   "id": "3c5d0101",
   "metadata": {},
   "outputs": [],
   "source": []
  },
  {
   "cell_type": "code",
   "execution_count": null,
   "id": "de181a1e",
   "metadata": {},
   "outputs": [],
   "source": []
  },
  {
   "cell_type": "markdown",
   "id": "d90f4695",
   "metadata": {},
   "source": [
    "# NLTK\n",
    "[tutorial](https://youtu.be/nIOYAj4bS8g)<br>\n",
    "[Documentation](https://www.nltk.org/data.html)"
   ]
  },
  {
   "cell_type": "markdown",
   "id": "01a035ea",
   "metadata": {},
   "source": [
    "***NLTK (Natural Language Toolkit)***\n",
    "El kit de herramientas de lenguaje natural, o más comúnmente NLTK, es un conjunto de bibliotecas y programas para el procesamiento del lenguaje natural simbólico y estadísticos para el lenguaje de programación Python."
   ]
  },
  {
   "cell_type": "code",
   "execution_count": null,
   "id": "00acc3e0",
   "metadata": {},
   "outputs": [],
   "source": [
    "with open ('paper.txt','r',encoding=\"utf8\") as miarchivo:\n",
    "    texto = miarchivo.read()\n"
   ]
  },
  {
   "cell_type": "code",
   "execution_count": null,
   "id": "65fb3117",
   "metadata": {},
   "outputs": [],
   "source": [
    "from nltk.corpus import stopwords\n",
    "from nltk.tokenize import word_tokenize\n",
    "import string"
   ]
  },
  {
   "cell_type": "code",
   "execution_count": null,
   "id": "456cef12",
   "metadata": {},
   "outputs": [],
   "source": [
    "#import nltk\n",
    "#nltk.download('stopwords')\n",
    "#nltk.download('punkt')"
   ]
  },
  {
   "cell_type": "code",
   "execution_count": null,
   "id": "430e6910",
   "metadata": {},
   "outputs": [],
   "source": [
    "stop_words = set(stopwords.words('spanish'))\n",
    "word_tokens = word_tokenize(texto)\n",
    "word_tokens2 = list(filter(lambda token: token not in string.punctuation,word_tokens))\n",
    "filtro = []\n",
    "\n",
    "for palabra in word_tokens2:\n",
    "    if palabra not in stop_words:\n",
    "        filtro.append(palabra)\n",
    "print(word_tokens2)"
   ]
  },
  {
   "cell_type": "code",
   "execution_count": null,
   "id": "eaa6968d",
   "metadata": {},
   "outputs": [],
   "source": [
    "filtro"
   ]
  },
  {
   "cell_type": "code",
   "execution_count": null,
   "id": "516d808c",
   "metadata": {},
   "outputs": [],
   "source": [
    "stop_words"
   ]
  },
  {
   "cell_type": "code",
   "execution_count": null,
   "id": "25895334",
   "metadata": {},
   "outputs": [],
   "source": [
    "word_tokens"
   ]
  },
  {
   "cell_type": "code",
   "execution_count": null,
   "id": "0db1303b",
   "metadata": {},
   "outputs": [],
   "source": [
    "from collections import Counter\n",
    "from _collections import OrderedDict"
   ]
  },
  {
   "cell_type": "code",
   "execution_count": null,
   "id": "22c7c5d8",
   "metadata": {},
   "outputs": [],
   "source": [
    "c = Counter(filtro)\n",
    "print(c.most_common(4))"
   ]
  },
  {
   "cell_type": "code",
   "execution_count": null,
   "id": "70242de6",
   "metadata": {},
   "outputs": [],
   "source": [
    "y = OrderedDict(c.most_common())"
   ]
  },
  {
   "cell_type": "code",
   "execution_count": null,
   "id": "f1b52e00",
   "metadata": {},
   "outputs": [],
   "source": [
    "with open('revision.txt','w',encoding=\"utf8\") as f:\n",
    "    for k,v in y.items():\n",
    "        f.write(f'{k} {v}\\n')"
   ]
  },
  {
   "cell_type": "markdown",
   "id": "f3403860",
   "metadata": {},
   "source": [
    "## Ejemplo"
   ]
  },
  {
   "cell_type": "code",
   "execution_count": null,
   "id": "9c0e0e8e",
   "metadata": {},
   "outputs": [],
   "source": [
    "import nltk\n",
    "from nltk.corpus import stopwords\n",
    "from tqdm import tqdm\n",
    "import time as ti\n"
   ]
  },
  {
   "cell_type": "code",
   "execution_count": null,
   "id": "85adb3e4",
   "metadata": {},
   "outputs": [],
   "source": [
    "def normalize(s):\n",
    "    replacements = {\n",
    "        (\"á\",\"a\"),\n",
    "        (\"é\",\"e\"),\n",
    "        (\"í\",\"i\"),\n",
    "        (\"ó\",\"o\"),\n",
    "        (\"ú\",\"u\"),\n",
    "    }\n",
    "    for a, b in replacements:\n",
    "        s = s.replace(a,b).replace(a.upper(),b.upper())\n",
    "    return s"
   ]
  },
  {
   "cell_type": "code",
   "execution_count": null,
   "id": "07de64ed",
   "metadata": {},
   "outputs": [],
   "source": [
    "normalize(\"ordónez\")"
   ]
  },
  {
   "cell_type": "code",
   "execution_count": null,
   "id": "7a52fbd9",
   "metadata": {},
   "outputs": [],
   "source": [
    "with open ('paper.txt','r',encoding=\"utf8\") as miarchivo:\n",
    "    content = miarchivo.read()"
   ]
  },
  {
   "cell_type": "code",
   "execution_count": null,
   "id": "bff434f3",
   "metadata": {},
   "outputs": [],
   "source": [
    "tokenize = nltk.word_tokenize(content)\n",
    "tokenize"
   ]
  },
  {
   "cell_type": "code",
   "execution_count": null,
   "id": "af1ee8b0",
   "metadata": {},
   "outputs": [],
   "source": [
    "token_limpio = []\n",
    "guardar = True\n",
    "for i in tqdm(tokenize):\n",
    "    for word in stopwords.words('spanish'):\n",
    "        if(word.lower() == i.lower()):\n",
    "            guardar = False\n",
    "    if(guardar):\n",
    "        if(len(i)>2):\n",
    "            token_limpio.append(normalize(i))\n",
    "    guardar = True\n",
    "print(token_limpio)"
   ]
  },
  {
   "cell_type": "code",
   "execution_count": null,
   "id": "366dfd94",
   "metadata": {},
   "outputs": [],
   "source": [
    "#nltk.download('averaged_perceptron_tagger')"
   ]
  },
  {
   "cell_type": "code",
   "execution_count": null,
   "id": "4744eef0",
   "metadata": {},
   "outputs": [],
   "source": [
    "tag = nltk.pos_tag(token_limpio)"
   ]
  },
  {
   "cell_type": "code",
   "execution_count": null,
   "id": "b2086ae0",
   "metadata": {},
   "outputs": [],
   "source": [
    "tag"
   ]
  },
  {
   "cell_type": "markdown",
   "id": "edd0e113",
   "metadata": {},
   "source": [
    "# Recorrer un dataframe rapidamente"
   ]
  },
  {
   "cell_type": "code",
   "execution_count": null,
   "id": "ad211a4d",
   "metadata": {},
   "outputs": [],
   "source": [
    "import numpy as np\n",
    "import pandas as pd"
   ]
  },
  {
   "cell_type": "code",
   "execution_count": null,
   "id": "9cce84ee",
   "metadata": {},
   "outputs": [],
   "source": [
    "np.random.rand(0)\n",
    "df = pd.DataFrame(data={'Values':np.random.rand(250000)})"
   ]
  },
  {
   "cell_type": "code",
   "execution_count": null,
   "id": "0d952016",
   "metadata": {},
   "outputs": [],
   "source": [
    "df"
   ]
  },
  {
   "cell_type": "code",
   "execution_count": null,
   "id": "b4ab23d9",
   "metadata": {},
   "outputs": [],
   "source": [
    "%%time\n",
    "\n",
    "total = 0\n",
    "\n",
    "for i in range(df.shape[0]):\n",
    "    total += df.Values[i]\n",
    "\n",
    "total"
   ]
  },
  {
   "cell_type": "code",
   "execution_count": null,
   "id": "189cadb1",
   "metadata": {},
   "outputs": [],
   "source": [
    "%%time\n",
    "\n",
    "total = 0\n",
    "\n",
    "for row in df.itertuples(index=False):\n",
    "    total += row.Values\n",
    "    \n",
    "total"
   ]
  },
  {
   "cell_type": "code",
   "execution_count": null,
   "id": "476b999b",
   "metadata": {},
   "outputs": [],
   "source": [
    "%%time\n",
    "\n",
    "from functools import reduce\n",
    "\n",
    "total = reduce(lambda a, b: a+b, df.Values)\n",
    "\n",
    "total"
   ]
  },
  {
   "cell_type": "markdown",
   "id": "4da0cab7",
   "metadata": {},
   "source": [
    "# Función lambda"
   ]
  },
  {
   "cell_type": "code",
   "execution_count": null,
   "id": "d3a861c4",
   "metadata": {},
   "outputs": [],
   "source": [
    "square = lambda x: x ** 2\n",
    "print(square(3))"
   ]
  },
  {
   "cell_type": "markdown",
   "id": "cbcb49bc",
   "metadata": {},
   "source": [
    "# numpy"
   ]
  },
  {
   "cell_type": "code",
   "execution_count": null,
   "id": "fc11d0b6",
   "metadata": {},
   "outputs": [],
   "source": [
    "import numpy as np"
   ]
  },
  {
   "cell_type": "code",
   "execution_count": null,
   "id": "c86bb5c2",
   "metadata": {},
   "outputs": [],
   "source": [
    "a = np.array([1,2,3,4,5],dtype=np.int32)\n",
    "print(a)\n",
    "print(type(a))"
   ]
  },
  {
   "cell_type": "code",
   "execution_count": null,
   "id": "a5dbbb6d",
   "metadata": {},
   "outputs": [],
   "source": [
    "a_mul = np.array([[[1,2,3,1],\n",
    "                    [4,5,6,2],\n",
    "                    [7,8,9,4]],\n",
    "                 [[1,1,1,2],\n",
    "                  [3,4,5,6],\n",
    "                  [3,4,5,3]]])\n",
    "a_mul"
   ]
  },
  {
   "cell_type": "code",
   "execution_count": null,
   "id": "e6ceb1fd",
   "metadata": {},
   "outputs": [],
   "source": [
    "a_mul[0]"
   ]
  },
  {
   "cell_type": "code",
   "execution_count": null,
   "id": "e765f917",
   "metadata": {},
   "outputs": [],
   "source": [
    "print(f\"{a_mul[1,2]}\")\n",
    "print(f\"shape {a_mul.shape}\")\n",
    "print(f\"ndim {a_mul.ndim}\")\n",
    "print(f\"size {a_mul.size}\")\n",
    "print(f\"dtype {a_mul.dtype}\")"
   ]
  },
  {
   "cell_type": "code",
   "execution_count": null,
   "id": "2d6d02ed",
   "metadata": {},
   "outputs": [],
   "source": [
    "a = np.full((2,3,4),9)\n",
    "a"
   ]
  },
  {
   "cell_type": "code",
   "execution_count": null,
   "id": "e617f5ce",
   "metadata": {},
   "outputs": [],
   "source": [
    "unos = np.ones((2,2,3))\n",
    "unos"
   ]
  },
  {
   "cell_type": "code",
   "execution_count": null,
   "id": "5c8150d3",
   "metadata": {},
   "outputs": [],
   "source": [
    "ceros = np.zeros((2,3))\n",
    "ceros"
   ]
  },
  {
   "cell_type": "code",
   "execution_count": null,
   "id": "bf958aa5",
   "metadata": {},
   "outputs": [],
   "source": [
    "vacia = np.empty((3,2,5))\n",
    "print(vacia)"
   ]
  },
  {
   "cell_type": "code",
   "execution_count": null,
   "id": "c79c1897",
   "metadata": {},
   "outputs": [],
   "source": [
    "x_values = np.arange(0,100,5)\n",
    "print(x_values)"
   ]
  },
  {
   "cell_type": "code",
   "execution_count": null,
   "id": "4a978553",
   "metadata": {},
   "outputs": [],
   "source": [
    "x_values = np.linspace(0,100,5)\n",
    "print(x_values)"
   ]
  },
  {
   "cell_type": "code",
   "execution_count": null,
   "id": "13b70068",
   "metadata": {},
   "outputs": [],
   "source": [
    "print(np.nan)\n",
    "print(np.inf)"
   ]
  },
  {
   "cell_type": "code",
   "execution_count": null,
   "id": "20c37084",
   "metadata": {},
   "outputs": [],
   "source": [
    "print(np.isnan(np.nan))\n",
    "print(np.isinf(np.inf))"
   ]
  },
  {
   "cell_type": "code",
   "execution_count": null,
   "id": "455bedc6",
   "metadata": {},
   "outputs": [],
   "source": [
    "l1 = [2,3,4,5,6]\n",
    "l2 = [4,6,5,2,7]\n",
    "a1 = np.array(l1)\n",
    "a2 = np.array(l2)\n",
    "print(l1 * 2) #muestra 2 veces el vector\n",
    "print(a1 * 2)\n",
    "print(l1 + l2)\n",
    "print(a1 + a2) #suma cada posición"
   ]
  },
  {
   "cell_type": "code",
   "execution_count": null,
   "id": "17adff2a",
   "metadata": {},
   "outputs": [],
   "source": [
    "#multiplica matrices\n",
    "a1 = np.array([2,3,1])\n",
    "a2 = np.array([[1],\n",
    "               [2]])\n",
    "print(a1 * a2)"
   ]
  },
  {
   "cell_type": "code",
   "execution_count": null,
   "id": "dd424558",
   "metadata": {},
   "outputs": [],
   "source": [
    "a = np.array([[1,2,3],\n",
    "              [3,4,5]])\n",
    "print(np.sqrt(a))"
   ]
  },
  {
   "cell_type": "markdown",
   "id": "4ff492d8",
   "metadata": {},
   "source": [
    "[Documentación](https://numpy.org/doc/stable/reference/routines.math.html)"
   ]
  },
  {
   "cell_type": "code",
   "execution_count": null,
   "id": "6029a8f5",
   "metadata": {},
   "outputs": [],
   "source": [
    "a = np.array([1,2,3])\n",
    "a = np.append(a,[4,5,6])\n",
    "print(a)"
   ]
  },
  {
   "cell_type": "code",
   "execution_count": null,
   "id": "207025e9",
   "metadata": {},
   "outputs": [],
   "source": [
    "a = np.insert(a,2,[5,5,5])\n",
    "print(a)"
   ]
  },
  {
   "cell_type": "code",
   "execution_count": null,
   "id": "53be8700",
   "metadata": {},
   "outputs": [],
   "source": [
    "a = np.array([[1,2,3],[4,5,6]])\n",
    "print(a)"
   ]
  },
  {
   "cell_type": "code",
   "execution_count": null,
   "id": "17e8b853",
   "metadata": {},
   "outputs": [],
   "source": [
    "print(np.delete(a,1))"
   ]
  },
  {
   "cell_type": "code",
   "execution_count": null,
   "id": "238c4818",
   "metadata": {},
   "outputs": [],
   "source": [
    "print(np.delete(a,0))"
   ]
  },
  {
   "cell_type": "code",
   "execution_count": null,
   "id": "deeaa5a1",
   "metadata": {},
   "outputs": [],
   "source": [
    "print(np.delete(a,0,0))"
   ]
  },
  {
   "cell_type": "markdown",
   "id": "4ac75e9b",
   "metadata": {},
   "source": [
    "# igraph"
   ]
  },
  {
   "cell_type": "code",
   "execution_count": 1,
   "id": "cb4faa49",
   "metadata": {},
   "outputs": [],
   "source": [
    "import cairo\n",
    "#https://www.youtube.com/watch?v=mgovneug8zo\n",
    "#https://igraph.org/python/#startpy"
   ]
  },
  {
   "cell_type": "code",
   "execution_count": 2,
   "id": "983d47ea",
   "metadata": {},
   "outputs": [],
   "source": [
    "import igraph as ig"
   ]
  },
  {
   "cell_type": "code",
   "execution_count": 44,
   "id": "f3446c26",
   "metadata": {},
   "outputs": [
    {
     "name": "stdout",
     "output_type": "stream",
     "text": [
      "0.9.11\n"
     ]
    }
   ],
   "source": [
    "print(ig.__version__)"
   ]
  },
  {
   "cell_type": "code",
   "execution_count": 3,
   "id": "0b984c7a",
   "metadata": {},
   "outputs": [],
   "source": [
    "g = ig.Graph(directed=True)"
   ]
  },
  {
   "cell_type": "code",
   "execution_count": 4,
   "id": "529ec11f",
   "metadata": {},
   "outputs": [
    {
     "name": "stdout",
     "output_type": "stream",
     "text": [
      "IGRAPH D--- 0 0 --\n"
     ]
    }
   ],
   "source": [
    "print(g)"
   ]
  },
  {
   "cell_type": "code",
   "execution_count": 5,
   "id": "d72a49aa",
   "metadata": {},
   "outputs": [],
   "source": [
    "g.add_vertices(5)"
   ]
  },
  {
   "cell_type": "code",
   "execution_count": 6,
   "id": "bbb4f6e1",
   "metadata": {},
   "outputs": [],
   "source": [
    "g.vs[\"fname\"]=[\"Ale\",\"Clau\",\"Manu\",\"Maxi\",\"Sara\"]"
   ]
  },
  {
   "cell_type": "code",
   "execution_count": 7,
   "id": "6c7e7373",
   "metadata": {},
   "outputs": [
    {
     "data": {
      "text/plain": [
       "['Ale', 'Clau', 'Manu', 'Maxi', 'Sara']"
      ]
     },
     "execution_count": 7,
     "metadata": {},
     "output_type": "execute_result"
    }
   ],
   "source": [
    "g.vs[\"fname\"]"
   ]
  },
  {
   "cell_type": "code",
   "execution_count": 8,
   "id": "5f8812da",
   "metadata": {},
   "outputs": [
    {
     "data": {
      "text/plain": [
       "'Ale'"
      ]
     },
     "execution_count": 8,
     "metadata": {},
     "output_type": "execute_result"
    }
   ],
   "source": [
    "g.vs[0][\"fname\"]"
   ]
  },
  {
   "cell_type": "code",
   "execution_count": 9,
   "id": "586427fe",
   "metadata": {},
   "outputs": [
    {
     "data": {
      "text/plain": [
       "<igraph.VertexSeq at 0x2aeb50799e0>"
      ]
     },
     "execution_count": 9,
     "metadata": {},
     "output_type": "execute_result"
    }
   ],
   "source": [
    "g.vs.select(fname=\"Ale\")"
   ]
  },
  {
   "cell_type": "code",
   "execution_count": 10,
   "id": "941a48f1",
   "metadata": {},
   "outputs": [],
   "source": [
    "g.add_vertices(4)"
   ]
  },
  {
   "cell_type": "code",
   "execution_count": 11,
   "id": "fa043a34",
   "metadata": {},
   "outputs": [],
   "source": [
    "g.vs[\"fname\"]=[\"Ale\",\"Clau\",\"Manu\",\"Maxi\",\"Sara\",\"M6\",\"M7\",\"M8\",\"M9\"]"
   ]
  },
  {
   "cell_type": "code",
   "execution_count": 12,
   "id": "71d6fed0",
   "metadata": {},
   "outputs": [
    {
     "data": {
      "text/plain": [
       "['Ale', 'Clau', 'Manu', 'Maxi', 'Sara', 'M6', 'M7', 'M8', 'M9']"
      ]
     },
     "execution_count": 12,
     "metadata": {},
     "output_type": "execute_result"
    }
   ],
   "source": [
    "g.vs[\"fname\"]"
   ]
  },
  {
   "cell_type": "code",
   "execution_count": 13,
   "id": "f1abe57f",
   "metadata": {},
   "outputs": [],
   "source": [
    "g.add_edges([(0,1),(2,3),(4,5),(6,7),(1,8),(3,5),(2,6)])"
   ]
  },
  {
   "cell_type": "code",
   "execution_count": 14,
   "id": "db5422b5",
   "metadata": {},
   "outputs": [
    {
     "data": {
      "image/svg+xml": [
       "<?xml version=\"1.0\" encoding=\"UTF-8\"?>\n",
       "<svg xmlns=\"http://www.w3.org/2000/svg\" xmlns:xlink=\"http://www.w3.org/1999/xlink\" width=\"400pt\" height=\"400pt\" viewBox=\"0 0 400 400\" version=\"1.1\">\n",
       "<defs>\n",
       "<g>\n",
       "<symbol overflow=\"visible\" id=\"glyph0-0\">\n",
       "<path style=\"stroke:none;\" d=\"M 1.75 0 L 1.75 -8.75 L 8.75 -8.75 L 8.75 0 Z M 1.96875 -0.21875 L 8.53125 -0.21875 L 8.53125 -8.53125 L 1.96875 -8.53125 Z M 1.96875 -0.21875 \"/>\n",
       "</symbol>\n",
       "<symbol overflow=\"visible\" id=\"glyph0-1\">\n",
       "<path style=\"stroke:none;\" d=\"M -0.0195313 0 L 3.828125 -10.023438 L 5.257813 -10.023438 L 9.359375 0 L 7.847656 0 L 6.679688 -3.035156 L 2.488281 -3.035156 L 1.386719 0 Z M 2.871094 -4.117188 L 6.269531 -4.117188 L 5.222656 -6.890625 C 4.898438 -7.734375 4.664063 -8.425781 4.511719 -8.96875 C 4.382813 -8.324219 4.203125 -7.6875 3.972656 -7.054688 Z M 2.871094 -4.117188 \"/>\n",
       "</symbol>\n",
       "<symbol overflow=\"visible\" id=\"glyph0-2\">\n",
       "<path style=\"stroke:none;\" d=\"M 0.894531 0 L 0.894531 -10.023438 L 2.125 -10.023438 L 2.125 0 Z M 0.894531 0 \"/>\n",
       "</symbol>\n",
       "<symbol overflow=\"visible\" id=\"glyph0-3\">\n",
       "<path style=\"stroke:none;\" d=\"M 5.890625 -2.335938 L 7.164063 -2.179688 C 6.960938 -1.4375 6.589844 -0.859375 6.046875 -0.449219 C 5.503906 -0.0390625 4.8125 0.164063 3.972656 0.164063 C 2.910156 0.164063 2.066406 -0.160156 1.445313 -0.816406 C 0.820313 -1.464844 0.507813 -2.382813 0.511719 -3.570313 C 0.507813 -4.785156 0.824219 -5.734375 1.453125 -6.410156 C 2.082031 -7.082031 2.898438 -7.417969 3.902344 -7.421875 C 4.871094 -7.417969 5.664063 -7.085938 6.28125 -6.429688 C 6.894531 -5.765625 7.199219 -4.839844 7.203125 -3.644531 C 7.199219 -3.570313 7.199219 -3.460938 7.199219 -3.316406 L 1.785156 -3.316406 C 1.828125 -2.515625 2.054688 -1.902344 2.460938 -1.480469 C 2.867188 -1.054688 3.371094 -0.84375 3.976563 -0.847656 C 4.425781 -0.84375 4.8125 -0.960938 5.132813 -1.203125 C 5.453125 -1.4375 5.703125 -1.816406 5.890625 -2.335938 Z M 1.851563 -4.328125 L 5.90625 -4.328125 C 5.851563 -4.933594 5.695313 -5.390625 5.441406 -5.703125 C 5.046875 -6.171875 4.539063 -6.410156 3.917969 -6.414063 C 3.351563 -6.410156 2.875 -6.21875 2.492188 -5.84375 C 2.101563 -5.460938 1.890625 -4.957031 1.851563 -4.328125 Z M 1.851563 -4.328125 \"/>\n",
       "</symbol>\n",
       "<symbol overflow=\"visible\" id=\"glyph0-4\">\n",
       "<path style=\"stroke:none;\" d=\"M 8.230469 -3.515625 L 9.554688 -3.179688 C 9.277344 -2.089844 8.777344 -1.257813 8.054688 -0.6875 C 7.332031 -0.113281 6.449219 0.167969 5.40625 0.171875 C 4.324219 0.167969 3.445313 -0.046875 2.773438 -0.488281 C 2.09375 -0.925781 1.578125 -1.5625 1.226563 -2.398438 C 0.867188 -3.226563 0.691406 -4.125 0.695313 -5.085938 C 0.691406 -6.128906 0.890625 -7.039063 1.292969 -7.816406 C 1.691406 -8.59375 2.257813 -9.183594 2.996094 -9.585938 C 3.730469 -9.988281 4.542969 -10.1875 5.429688 -10.191406 C 6.425781 -10.1875 7.269531 -9.933594 7.957031 -9.425781 C 8.640625 -8.914063 9.117188 -8.195313 9.386719 -7.273438 L 8.078125 -6.964844 C 7.84375 -7.691406 7.507813 -8.222656 7.066406 -8.558594 C 6.625 -8.890625 6.066406 -9.058594 5.398438 -9.058594 C 4.625 -9.058594 3.984375 -8.871094 3.46875 -8.503906 C 2.953125 -8.128906 2.589844 -7.632813 2.378906 -7.015625 C 2.167969 -6.390625 2.0625 -5.75 2.0625 -5.09375 C 2.0625 -4.234375 2.183594 -3.492188 2.433594 -2.859375 C 2.679688 -2.222656 3.066406 -1.746094 3.59375 -1.433594 C 4.117188 -1.117188 4.6875 -0.960938 5.296875 -0.964844 C 6.039063 -0.960938 6.667969 -1.175781 7.183594 -1.605469 C 7.699219 -2.035156 8.046875 -2.671875 8.230469 -3.515625 Z M 8.230469 -3.515625 \"/>\n",
       "</symbol>\n",
       "<symbol overflow=\"visible\" id=\"glyph0-5\">\n",
       "<path style=\"stroke:none;\" d=\"M 5.660156 -0.894531 C 5.203125 -0.503906 4.761719 -0.230469 4.34375 -0.0742188 C 3.917969 0.0859375 3.46875 0.164063 2.988281 0.164063 C 2.1875 0.164063 1.574219 -0.0273438 1.148438 -0.417969 C 0.71875 -0.804688 0.503906 -1.304688 0.507813 -1.914063 C 0.503906 -2.265625 0.585938 -2.589844 0.75 -2.886719 C 0.910156 -3.179688 1.121094 -3.414063 1.382813 -3.59375 C 1.644531 -3.769531 1.9375 -3.90625 2.269531 -4 C 2.507813 -4.058594 2.875 -4.121094 3.363281 -4.183594 C 4.355469 -4.300781 5.085938 -4.441406 5.558594 -4.609375 C 5.558594 -4.773438 5.558594 -4.878906 5.5625 -4.929688 C 5.558594 -5.425781 5.445313 -5.78125 5.214844 -5.988281 C 4.898438 -6.265625 4.429688 -6.402344 3.8125 -6.40625 C 3.230469 -6.402344 2.804688 -6.300781 2.53125 -6.101563 C 2.253906 -5.894531 2.050781 -5.535156 1.921875 -5.023438 L 0.71875 -5.1875 C 0.824219 -5.699219 1.003906 -6.117188 1.257813 -6.433594 C 1.503906 -6.75 1.867188 -6.992188 2.34375 -7.164063 C 2.816406 -7.332031 3.363281 -7.417969 3.992188 -7.421875 C 4.609375 -7.417969 5.113281 -7.34375 5.503906 -7.203125 C 5.886719 -7.054688 6.171875 -6.871094 6.359375 -6.652344 C 6.539063 -6.429688 6.667969 -6.152344 6.742188 -5.816406 C 6.777344 -5.605469 6.796875 -5.226563 6.800781 -4.683594 L 6.800781 -3.042969 C 6.796875 -1.894531 6.824219 -1.171875 6.878906 -0.871094 C 6.933594 -0.566406 7.035156 -0.277344 7.191406 0 L 5.90625 0 C 5.777344 -0.253906 5.695313 -0.550781 5.660156 -0.894531 Z M 5.558594 -3.644531 C 5.109375 -3.460938 4.4375 -3.304688 3.546875 -3.179688 C 3.039063 -3.105469 2.683594 -3.023438 2.472656 -2.933594 C 2.261719 -2.839844 2.097656 -2.707031 1.988281 -2.53125 C 1.871094 -2.355469 1.816406 -2.160156 1.820313 -1.949219 C 1.816406 -1.617188 1.941406 -1.34375 2.191406 -1.128906 C 2.4375 -0.90625 2.800781 -0.796875 3.28125 -0.800781 C 3.753906 -0.796875 4.175781 -0.898438 4.546875 -1.109375 C 4.914063 -1.3125 5.183594 -1.597656 5.359375 -1.960938 C 5.488281 -2.238281 5.554688 -2.648438 5.558594 -3.191406 Z M 5.558594 -3.644531 \"/>\n",
       "</symbol>\n",
       "<symbol overflow=\"visible\" id=\"glyph0-6\">\n",
       "<path style=\"stroke:none;\" d=\"M 5.679688 0 L 5.679688 -1.066406 C 5.109375 -0.246094 4.34375 0.164063 3.375 0.164063 C 2.945313 0.164063 2.542969 0.0820313 2.175781 -0.0820313 C 1.800781 -0.246094 1.527344 -0.449219 1.347656 -0.699219 C 1.167969 -0.945313 1.039063 -1.25 0.96875 -1.613281 C 0.914063 -1.851563 0.890625 -2.234375 0.894531 -2.761719 L 0.894531 -7.257813 L 2.125 -7.257813 L 2.125 -3.234375 C 2.121094 -2.589844 2.148438 -2.15625 2.203125 -1.933594 C 2.277344 -1.609375 2.4375 -1.355469 2.691406 -1.171875 C 2.941406 -0.984375 3.253906 -0.890625 3.625 -0.894531 C 3.988281 -0.890625 4.332031 -0.984375 4.660156 -1.175781 C 4.980469 -1.363281 5.210938 -1.621094 5.347656 -1.949219 C 5.480469 -2.273438 5.546875 -2.746094 5.550781 -3.371094 L 5.550781 -7.257813 L 6.78125 -7.257813 L 6.78125 0 Z M 5.679688 0 \"/>\n",
       "</symbol>\n",
       "<symbol overflow=\"visible\" id=\"glyph0-7\">\n",
       "<path style=\"stroke:none;\" d=\"M 1.039063 0 L 1.039063 -10.023438 L 3.035156 -10.023438 L 5.40625 -2.925781 C 5.621094 -2.261719 5.78125 -1.769531 5.886719 -1.441406 C 5.996094 -1.804688 6.171875 -2.339844 6.417969 -3.046875 L 8.820313 -10.023438 L 10.601563 -10.023438 L 10.601563 0 L 9.324219 0 L 9.324219 -8.386719 L 6.414063 0 L 5.214844 0 L 2.316406 -8.53125 L 2.316406 0 Z M 1.039063 0 \"/>\n",
       "</symbol>\n",
       "<symbol overflow=\"visible\" id=\"glyph0-8\">\n",
       "<path style=\"stroke:none;\" d=\"M 0.921875 0 L 0.921875 -7.257813 L 2.03125 -7.257813 L 2.03125 -6.226563 C 2.558594 -7.019531 3.328125 -7.417969 4.339844 -7.421875 C 4.773438 -7.417969 5.175781 -7.339844 5.546875 -7.1875 C 5.910156 -7.027344 6.183594 -6.820313 6.371094 -6.570313 C 6.550781 -6.3125 6.679688 -6.011719 6.753906 -5.660156 C 6.796875 -5.433594 6.820313 -5.035156 6.820313 -4.464844 L 6.820313 0 L 5.59375 0 L 5.59375 -4.414063 C 5.589844 -4.914063 5.542969 -5.289063 5.449219 -5.539063 C 5.351563 -5.785156 5.179688 -5.984375 4.9375 -6.136719 C 4.691406 -6.28125 4.40625 -6.355469 4.082031 -6.359375 C 3.554688 -6.355469 3.101563 -6.191406 2.722656 -5.859375 C 2.339844 -5.523438 2.148438 -4.890625 2.152344 -3.964844 L 2.152344 0 Z M 0.921875 0 \"/>\n",
       "</symbol>\n",
       "<symbol overflow=\"visible\" id=\"glyph0-9\">\n",
       "<path style=\"stroke:none;\" d=\"M 0.101563 0 L 2.753906 -3.773438 L 0.300781 -7.257813 L 1.839844 -7.257813 L 2.953125 -5.558594 C 3.160156 -5.230469 3.328125 -4.957031 3.460938 -4.742188 C 3.65625 -5.039063 3.839844 -5.308594 4.011719 -5.542969 L 5.234375 -7.257813 L 6.707031 -7.257813 L 4.195313 -3.84375 L 6.898438 0 L 5.386719 0 L 3.898438 -2.257813 L 3.5 -2.863281 L 1.59375 0 Z M 0.101563 0 \"/>\n",
       "</symbol>\n",
       "<symbol overflow=\"visible\" id=\"glyph0-10\">\n",
       "<path style=\"stroke:none;\" d=\"M 0.929688 -8.605469 L 0.929688 -10.023438 L 2.160156 -10.023438 L 2.160156 -8.605469 Z M 0.929688 0 L 0.929688 -7.257813 L 2.160156 -7.257813 L 2.160156 0 Z M 0.929688 0 \"/>\n",
       "</symbol>\n",
       "<symbol overflow=\"visible\" id=\"glyph0-11\">\n",
       "<path style=\"stroke:none;\" d=\"M 0.628906 -3.21875 L 1.878906 -3.328125 C 1.9375 -2.828125 2.074219 -2.414063 2.292969 -2.09375 C 2.503906 -1.769531 2.839844 -1.511719 3.300781 -1.316406 C 3.753906 -1.117188 4.269531 -1.019531 4.839844 -1.019531 C 5.34375 -1.019531 5.789063 -1.09375 6.179688 -1.242188 C 6.566406 -1.390625 6.855469 -1.597656 7.042969 -1.863281 C 7.230469 -2.125 7.324219 -2.410156 7.328125 -2.71875 C 7.324219 -3.03125 7.234375 -3.304688 7.054688 -3.542969 C 6.871094 -3.777344 6.570313 -3.976563 6.152344 -4.136719 C 5.882813 -4.238281 5.285156 -4.398438 4.367188 -4.625 C 3.445313 -4.84375 2.800781 -5.054688 2.433594 -5.25 C 1.949219 -5.5 1.59375 -5.808594 1.363281 -6.183594 C 1.125 -6.550781 1.007813 -6.96875 1.011719 -7.429688 C 1.007813 -7.933594 1.152344 -8.40625 1.441406 -8.847656 C 1.730469 -9.285156 2.148438 -9.617188 2.699219 -9.847656 C 3.25 -10.074219 3.863281 -10.1875 4.539063 -10.191406 C 5.277344 -10.1875 5.933594 -10.070313 6.503906 -9.832031 C 7.070313 -9.59375 7.503906 -9.242188 7.8125 -8.777344 C 8.117188 -8.308594 8.28125 -7.78125 8.304688 -7.199219 L 7.035156 -7.101563 C 6.960938 -7.734375 6.730469 -8.210938 6.339844 -8.539063 C 5.945313 -8.859375 5.363281 -9.023438 4.59375 -9.023438 C 3.789063 -9.023438 3.203125 -8.875 2.839844 -8.582031 C 2.46875 -8.285156 2.285156 -7.929688 2.289063 -7.519531 C 2.285156 -7.15625 2.414063 -6.863281 2.679688 -6.632813 C 2.929688 -6.398438 3.597656 -6.15625 4.679688 -5.914063 C 5.753906 -5.667969 6.492188 -5.457031 6.898438 -5.277344 C 7.476563 -5.007813 7.90625 -4.667969 8.1875 -4.253906 C 8.460938 -3.839844 8.601563 -3.363281 8.605469 -2.828125 C 8.601563 -2.292969 8.449219 -1.792969 8.148438 -1.324219 C 7.839844 -0.851563 7.402344 -0.484375 6.832031 -0.222656 C 6.261719 0.0390625 5.617188 0.167969 4.902344 0.171875 C 3.992188 0.167969 3.230469 0.0390625 2.621094 -0.222656 C 2.003906 -0.488281 1.523438 -0.886719 1.179688 -1.417969 C 0.828125 -1.949219 0.644531 -2.546875 0.628906 -3.21875 Z M 0.628906 -3.21875 \"/>\n",
       "</symbol>\n",
       "<symbol overflow=\"visible\" id=\"glyph0-12\">\n",
       "<path style=\"stroke:none;\" d=\"M 0.910156 0 L 0.910156 -7.257813 L 2.015625 -7.257813 L 2.015625 -6.160156 C 2.296875 -6.667969 2.554688 -7.007813 2.796875 -7.175781 C 3.03125 -7.335938 3.296875 -7.417969 3.589844 -7.421875 C 4 -7.417969 4.421875 -7.285156 4.851563 -7.027344 L 4.429688 -5.886719 C 4.125 -6.0625 3.824219 -6.152344 3.527344 -6.152344 C 3.257813 -6.152344 3.015625 -6.070313 2.800781 -5.910156 C 2.585938 -5.746094 2.433594 -5.519531 2.34375 -5.234375 C 2.207031 -4.792969 2.136719 -4.316406 2.140625 -3.800781 L 2.140625 0 Z M 0.910156 0 \"/>\n",
       "</symbol>\n",
       "<symbol overflow=\"visible\" id=\"glyph0-13\">\n",
       "<path style=\"stroke:none;\" d=\"M 6.964844 -7.566406 L 5.742188 -7.472656 C 5.632813 -7.949219 5.476563 -8.300781 5.277344 -8.523438 C 4.941406 -8.871094 4.53125 -9.046875 4.046875 -9.050781 C 3.652344 -9.046875 3.308594 -8.9375 3.015625 -8.722656 C 2.625 -8.4375 2.320313 -8.023438 2.097656 -7.484375 C 1.875 -6.9375 1.757813 -6.167969 1.75 -5.167969 C 2.042969 -5.617188 2.40625 -5.949219 2.835938 -6.171875 C 3.265625 -6.386719 3.714844 -6.496094 4.183594 -6.5 C 5.003906 -6.496094 5.699219 -6.195313 6.277344 -5.59375 C 6.851563 -4.988281 7.140625 -4.207031 7.144531 -3.253906 C 7.140625 -2.621094 7.003906 -2.039063 6.734375 -1.5 C 6.460938 -0.960938 6.089844 -0.546875 5.617188 -0.257813 C 5.140625 0.0273438 4.605469 0.167969 4.007813 0.171875 C 2.980469 0.167969 2.140625 -0.207031 1.496094 -0.960938 C 0.847656 -1.714844 0.527344 -2.957031 0.527344 -4.6875 C 0.527344 -6.625 0.882813 -8.03125 1.601563 -8.914063 C 2.21875 -9.675781 3.058594 -10.058594 4.121094 -10.0625 C 4.90625 -10.058594 5.554688 -9.839844 6.058594 -9.398438 C 6.5625 -8.953125 6.863281 -8.339844 6.964844 -7.566406 Z M 1.941406 -3.246094 C 1.9375 -2.820313 2.027344 -2.414063 2.210938 -2.027344 C 2.386719 -1.640625 2.640625 -1.34375 2.964844 -1.144531 C 3.289063 -0.9375 3.628906 -0.835938 3.984375 -0.839844 C 4.503906 -0.835938 4.949219 -1.046875 5.324219 -1.46875 C 5.695313 -1.886719 5.882813 -2.457031 5.886719 -3.179688 C 5.882813 -3.871094 5.699219 -4.417969 5.332031 -4.816406 C 4.960938 -5.214844 4.496094 -5.414063 3.9375 -5.414063 C 3.378906 -5.414063 2.90625 -5.214844 2.519531 -4.816406 C 2.132813 -4.417969 1.9375 -3.894531 1.941406 -3.246094 Z M 1.941406 -3.246094 \"/>\n",
       "</symbol>\n",
       "<symbol overflow=\"visible\" id=\"glyph0-14\">\n",
       "<path style=\"stroke:none;\" d=\"M 0.664063 -8.710938 L 0.664063 -9.890625 L 7.148438 -9.890625 L 7.148438 -8.933594 C 6.511719 -8.25 5.878906 -7.347656 5.253906 -6.226563 C 4.625 -5.097656 4.140625 -3.941406 3.800781 -2.753906 C 3.550781 -1.914063 3.394531 -0.996094 3.328125 0 L 2.0625 0 C 2.078125 -0.789063 2.230469 -1.738281 2.527344 -2.855469 C 2.820313 -3.96875 3.246094 -5.046875 3.800781 -6.085938 C 4.351563 -7.121094 4.941406 -7.996094 5.570313 -8.710938 Z M 0.664063 -8.710938 \"/>\n",
       "</symbol>\n",
       "<symbol overflow=\"visible\" id=\"glyph0-15\">\n",
       "<path style=\"stroke:none;\" d=\"M 2.476563 -5.433594 C 1.964844 -5.617188 1.585938 -5.886719 1.339844 -6.234375 C 1.089844 -6.578125 0.964844 -6.992188 0.96875 -7.476563 C 0.964844 -8.203125 1.226563 -8.816406 1.753906 -9.316406 C 2.277344 -9.8125 2.976563 -10.058594 3.847656 -10.0625 C 4.71875 -10.058594 5.421875 -9.804688 5.960938 -9.300781 C 6.492188 -8.789063 6.761719 -8.171875 6.761719 -7.445313 C 6.761719 -6.976563 6.636719 -6.570313 6.394531 -6.230469 C 6.148438 -5.882813 5.78125 -5.617188 5.285156 -5.433594 C 5.898438 -5.230469 6.363281 -4.90625 6.6875 -4.460938 C 7.007813 -4.011719 7.171875 -3.480469 7.171875 -2.863281 C 7.171875 -2.003906 6.867188 -1.285156 6.261719 -0.703125 C 5.652344 -0.121094 4.855469 0.167969 3.867188 0.171875 C 2.878906 0.167969 2.082031 -0.121094 1.476563 -0.707031 C 0.867188 -1.289063 0.5625 -2.019531 0.566406 -2.898438 C 0.5625 -3.546875 0.726563 -4.09375 1.0625 -4.535156 C 1.390625 -4.972656 1.863281 -5.269531 2.476563 -5.433594 Z M 2.226563 -7.519531 C 2.226563 -7.042969 2.378906 -6.65625 2.683594 -6.355469 C 2.988281 -6.054688 3.382813 -5.90625 3.875 -5.90625 C 4.34375 -5.90625 4.734375 -6.054688 5.039063 -6.351563 C 5.34375 -6.648438 5.496094 -7.015625 5.496094 -7.453125 C 5.496094 -7.902344 5.339844 -8.28125 5.027344 -8.589844 C 4.714844 -8.894531 4.324219 -9.046875 3.863281 -9.050781 C 3.386719 -9.046875 2.996094 -8.894531 2.691406 -8.597656 C 2.378906 -8.292969 2.226563 -7.933594 2.226563 -7.519531 Z M 1.832031 -2.890625 C 1.828125 -2.539063 1.910156 -2.203125 2.082031 -1.875 C 2.246094 -1.546875 2.496094 -1.289063 2.824219 -1.109375 C 3.152344 -0.925781 3.503906 -0.835938 3.882813 -0.839844 C 4.46875 -0.835938 4.953125 -1.027344 5.339844 -1.40625 C 5.71875 -1.785156 5.910156 -2.265625 5.914063 -2.851563 C 5.910156 -3.441406 5.714844 -3.929688 5.320313 -4.320313 C 4.925781 -4.703125 4.433594 -4.898438 3.84375 -4.902344 C 3.261719 -4.898438 2.78125 -4.707031 2.402344 -4.328125 C 2.019531 -3.941406 1.828125 -3.460938 1.832031 -2.890625 Z M 1.832031 -2.890625 \"/>\n",
       "</symbol>\n",
       "<symbol overflow=\"visible\" id=\"glyph0-16\">\n",
       "<path style=\"stroke:none;\" d=\"M 0.765625 -2.316406 L 1.949219 -2.425781 C 2.046875 -1.871094 2.238281 -1.464844 2.519531 -1.214844 C 2.800781 -0.960938 3.164063 -0.835938 3.609375 -0.839844 C 3.984375 -0.835938 4.3125 -0.921875 4.601563 -1.097656 C 4.882813 -1.269531 5.117188 -1.503906 5.304688 -1.792969 C 5.484375 -2.082031 5.636719 -2.472656 5.761719 -2.964844 C 5.878906 -3.457031 5.941406 -3.957031 5.945313 -4.46875 C 5.941406 -4.523438 5.941406 -4.605469 5.941406 -4.71875 C 5.691406 -4.320313 5.351563 -4.003906 4.929688 -3.761719 C 4.5 -3.519531 4.039063 -3.398438 3.546875 -3.398438 C 2.714844 -3.398438 2.015625 -3.699219 1.441406 -4.300781 C 0.867188 -4.902344 0.578125 -5.695313 0.582031 -6.679688 C 0.578125 -7.695313 0.878906 -8.511719 1.480469 -9.132813 C 2.078125 -9.75 2.828125 -10.058594 3.734375 -10.0625 C 4.382813 -10.058594 4.980469 -9.882813 5.519531 -9.535156 C 6.058594 -9.179688 6.46875 -8.679688 6.75 -8.035156 C 7.03125 -7.382813 7.171875 -6.445313 7.171875 -5.214844 C 7.171875 -3.933594 7.03125 -2.914063 6.753906 -2.15625 C 6.472656 -1.398438 6.058594 -0.820313 5.511719 -0.421875 C 4.960938 -0.0273438 4.316406 0.167969 3.582031 0.171875 C 2.792969 0.167969 2.152344 -0.046875 1.660156 -0.480469 C 1.160156 -0.914063 0.863281 -1.523438 0.765625 -2.316406 Z M 5.804688 -6.742188 C 5.800781 -7.445313 5.613281 -8.003906 5.238281 -8.421875 C 4.863281 -8.832031 4.410156 -9.039063 3.882813 -9.042969 C 3.332031 -9.039063 2.855469 -8.816406 2.453125 -8.371094 C 2.042969 -7.921875 1.839844 -7.34375 1.84375 -6.636719 C 1.839844 -5.996094 2.03125 -5.476563 2.421875 -5.082031 C 2.804688 -4.679688 3.28125 -4.480469 3.847656 -4.484375 C 4.414063 -4.480469 4.882813 -4.679688 5.253906 -5.082031 C 5.617188 -5.476563 5.800781 -6.03125 5.804688 -6.742188 Z M 5.804688 -6.742188 \"/>\n",
       "</symbol>\n",
       "</g>\n",
       "</defs>\n",
       "<g id=\"surface2\">\n",
       "<rect x=\"0\" y=\"0\" width=\"400\" height=\"400\" style=\"fill:rgb(100%,100%,100%);fill-opacity:1;stroke:none;\"/>\n",
       "<path style=\"fill:none;stroke-width:2;stroke-linecap:butt;stroke-linejoin:miter;stroke:rgb(26.666667%,26.666667%,26.666667%);stroke-opacity:1;stroke-miterlimit:10;\" d=\"M 350 217.84375 C 343.304688 194.8125 309.097656 165.320313 307.441406 167.902344 \"/>\n",
       "<path style=\" stroke:none;fill-rule:nonzero;fill:rgb(26.666667%,26.666667%,26.666667%);fill-opacity:1;\" d=\"M 315.144531 155.894531 L 311.34375 170.40625 L 303.539063 165.398438 L 315.144531 155.894531 \"/>\n",
       "<path style=\"fill:none;stroke-width:2;stroke-linecap:butt;stroke-linejoin:miter;stroke:rgb(26.666667%,26.666667%,26.666667%);stroke-opacity:1;stroke-miterlimit:10;\" d=\"M 83.617188 281.980469 C 94.96875 252.984375 88.84375 195.375 79.378906 196.898438 \"/>\n",
       "<path style=\" stroke:none;fill-rule:nonzero;fill:rgb(26.666667%,26.666667%,26.666667%);fill-opacity:1;\" d=\"M 65.296875 199.167969 L 78.644531 192.324219 L 80.117188 201.476563 L 65.296875 199.167969 \"/>\n",
       "<path style=\"fill:none;stroke-width:2;stroke-linecap:butt;stroke-linejoin:miter;stroke:rgb(26.666667%,26.666667%,26.666667%);stroke-opacity:1;stroke-miterlimit:10;\" d=\"M 112.492188 50 C 92.117188 55.976563 69.324219 68.175781 68.367188 87.78125 \"/>\n",
       "<path style=\" stroke:none;fill-rule:nonzero;fill:rgb(26.666667%,26.666667%,26.666667%);fill-opacity:1;\" d=\"M 67.675781 102.03125 L 63.738281 87.558594 L 72.996094 88.007813 L 67.675781 102.03125 \"/>\n",
       "<path style=\"fill:none;stroke-width:2;stroke-linecap:butt;stroke-linejoin:miter;stroke:rgb(26.666667%,26.666667%,26.666667%);stroke-opacity:1;stroke-miterlimit:10;\" d=\"M 156.835938 331.722656 C 184.046875 339.574219 235.359375 331.566406 233.53125 320.769531 \"/>\n",
       "<path style=\" stroke:none;fill-rule:nonzero;fill:rgb(26.666667%,26.666667%,26.666667%);fill-opacity:1;\" d=\"M 235.914063 334.835938 L 228.960938 321.542969 L 238.101563 319.996094 L 235.914063 334.835938 \"/>\n",
       "<path style=\"fill:none;stroke-width:2;stroke-linecap:butt;stroke-linejoin:miter;stroke:rgb(26.666667%,26.666667%,26.666667%);stroke-opacity:1;stroke-miterlimit:10;\" d=\"M 323.238281 143.28125 C 312.574219 118.316406 276.472656 84.640625 268.609375 92.964844 \"/>\n",
       "<path style=\" stroke:none;fill-rule:nonzero;fill:rgb(26.666667%,26.666667%,26.666667%);fill-opacity:1;\" d=\"M 278.40625 82.59375 L 271.980469 96.148438 L 265.242188 89.78125 L 278.40625 82.59375 \"/>\n",
       "<path style=\"fill:none;stroke-width:2;stroke-linecap:butt;stroke-linejoin:miter;stroke:rgb(26.666667%,26.666667%,26.666667%);stroke-opacity:1;stroke-miterlimit:10;\" d=\"M 50 201.632813 C 77.871094 181.152344 95.6875 119.191406 96.535156 119.246094 \"/>\n",
       "<path style=\" stroke:none;fill-rule:nonzero;fill:rgb(26.666667%,26.666667%,26.666667%);fill-opacity:1;\" d=\"M 82.300781 118.292969 L 96.84375 114.621094 L 96.226563 123.871094 L 82.300781 118.292969 \"/>\n",
       "<path style=\"fill:none;stroke-width:2;stroke-linecap:butt;stroke-linejoin:miter;stroke:rgb(26.666667%,26.666667%,26.666667%);stroke-opacity:1;stroke-miterlimit:10;\" d=\"M 83.617188 281.980469 C 109.433594 303.925781 160.289063 326.496094 172.664063 307.75 \"/>\n",
       "<path style=\" stroke:none;fill-rule:nonzero;fill:rgb(26.666667%,26.666667%,26.666667%);fill-opacity:1;\" d=\"M 164.804688 319.65625 L 168.792969 305.199219 L 176.53125 310.304688 L 164.804688 319.65625 \"/>\n",
       "<path style=\"fill-rule:nonzero;fill:rgb(0%,0%,0%);fill-opacity:1;stroke-width:5;stroke-linecap:butt;stroke-linejoin:miter;stroke:rgb(100%,0%,0%);stroke-opacity:1;stroke-miterlimit:10;\" d=\"M 365 217.84375 C 365 226.125 358.285156 232.84375 350 232.84375 C 341.714844 232.84375 335 226.125 335 217.84375 C 335 209.558594 341.714844 202.84375 350 202.84375 C 358.285156 202.84375 365 209.558594 365 217.84375 \"/>\n",
       "<path style=\"fill-rule:nonzero;fill:rgb(0%,0%,0%);fill-opacity:1;stroke-width:5;stroke-linecap:butt;stroke-linejoin:miter;stroke:rgb(100%,0%,0%);stroke-opacity:1;stroke-miterlimit:10;\" d=\"M 338.238281 143.28125 C 338.238281 151.566406 331.519531 158.28125 323.238281 158.28125 C 314.953125 158.28125 308.238281 151.566406 308.238281 143.28125 C 308.238281 134.996094 314.953125 128.28125 323.238281 128.28125 C 331.519531 128.28125 338.238281 134.996094 338.238281 143.28125 \"/>\n",
       "<path style=\"fill-rule:nonzero;fill:rgb(0%,0%,0%);fill-opacity:1;stroke-width:5;stroke-linecap:butt;stroke-linejoin:miter;stroke:rgb(100%,0%,0%);stroke-opacity:1;stroke-miterlimit:10;\" d=\"M 98.617188 281.980469 C 98.617188 290.265625 91.902344 296.980469 83.617188 296.980469 C 75.335938 296.980469 68.617188 290.265625 68.617188 281.980469 C 68.617188 273.695313 75.335938 266.980469 83.617188 266.980469 C 91.902344 266.980469 98.617188 273.695313 98.617188 281.980469 \"/>\n",
       "<path style=\"fill-rule:nonzero;fill:rgb(0%,0%,0%);fill-opacity:1;stroke-width:5;stroke-linecap:butt;stroke-linejoin:miter;stroke:rgb(100%,0%,0%);stroke-opacity:1;stroke-miterlimit:10;\" d=\"M 65 201.632813 C 65 209.917969 58.285156 216.632813 50 216.632813 C 41.714844 216.632813 35 209.917969 35 201.632813 C 35 193.347656 41.714844 186.632813 50 186.632813 C 58.285156 186.632813 65 193.347656 65 201.632813 \"/>\n",
       "<path style=\"fill-rule:nonzero;fill:rgb(0%,0%,0%);fill-opacity:1;stroke-width:5;stroke-linecap:butt;stroke-linejoin:miter;stroke:rgb(100%,0%,0%);stroke-opacity:1;stroke-miterlimit:10;\" d=\"M 127.492188 50 C 127.492188 58.285156 120.777344 65 112.492188 65 C 104.210938 65 97.492188 58.285156 97.492188 50 C 97.492188 41.714844 104.210938 35 112.492188 35 C 120.777344 35 127.492188 41.714844 127.492188 50 \"/>\n",
       "<path style=\"fill-rule:nonzero;fill:rgb(0%,0%,0%);fill-opacity:1;stroke-width:5;stroke-linecap:butt;stroke-linejoin:miter;stroke:rgb(100%,0%,0%);stroke-opacity:1;stroke-miterlimit:10;\" d=\"M 81.933594 117.265625 C 81.933594 125.550781 75.21875 132.265625 66.933594 132.265625 C 58.648438 132.265625 51.933594 125.550781 51.933594 117.265625 C 51.933594 108.980469 58.648438 102.265625 66.933594 102.265625 C 75.21875 102.265625 81.933594 108.980469 81.933594 117.265625 \"/>\n",
       "<path style=\"fill-rule:nonzero;fill:rgb(0%,0%,0%);fill-opacity:1;stroke-width:5;stroke-linecap:butt;stroke-linejoin:miter;stroke:rgb(100%,0%,0%);stroke-opacity:1;stroke-miterlimit:10;\" d=\"M 171.835938 331.722656 C 171.835938 340.007813 165.121094 346.722656 156.835938 346.722656 C 148.554688 346.722656 141.835938 340.007813 141.835938 331.722656 C 141.835938 323.4375 148.554688 316.722656 156.835938 316.722656 C 165.121094 316.722656 171.835938 323.4375 171.835938 331.722656 \"/>\n",
       "<path style=\"fill-rule:nonzero;fill:rgb(0%,0%,0%);fill-opacity:1;stroke-width:5;stroke-linecap:butt;stroke-linejoin:miter;stroke:rgb(100%,0%,0%);stroke-opacity:1;stroke-miterlimit:10;\" d=\"M 253.480469 350 C 253.480469 358.285156 246.765625 365 238.480469 365 C 230.195313 365 223.480469 358.285156 223.480469 350 C 223.480469 341.714844 230.195313 335 238.480469 335 C 246.765625 335 253.480469 341.714844 253.480469 350 \"/>\n",
       "<path style=\"fill-rule:nonzero;fill:rgb(0%,0%,0%);fill-opacity:1;stroke-width:5;stroke-linecap:butt;stroke-linejoin:miter;stroke:rgb(100%,0%,0%);stroke-opacity:1;stroke-miterlimit:10;\" d=\"M 303.640625 71.761719 C 303.640625 80.042969 296.921875 86.761719 288.640625 86.761719 C 280.355469 86.761719 273.640625 80.042969 273.640625 71.761719 C 273.640625 63.476563 280.355469 56.761719 288.640625 56.761719 C 296.921875 56.761719 303.640625 63.476563 303.640625 71.761719 \"/>\n",
       "<g style=\"fill:rgb(0%,0%,0%);fill-opacity:1;\">\n",
       "  <use xlink:href=\"#glyph0-1\" x=\"340.183594\" y=\"242.863281\"/>\n",
       "  <use xlink:href=\"#glyph0-2\" x=\"349.521484\" y=\"242.863281\"/>\n",
       "  <use xlink:href=\"#glyph0-3\" x=\"352.631836\" y=\"242.863281\"/>\n",
       "</g>\n",
       "<g style=\"fill:rgb(0%,0%,0%);fill-opacity:1;\">\n",
       "  <use xlink:href=\"#glyph0-4\" x=\"308.996094\" y=\"168.472656\"/>\n",
       "  <use xlink:href=\"#glyph0-2\" x=\"319.106445\" y=\"168.472656\"/>\n",
       "  <use xlink:href=\"#glyph0-5\" x=\"322.216797\" y=\"168.472656\"/>\n",
       "  <use xlink:href=\"#glyph0-6\" x=\"330.00293\" y=\"168.472656\"/>\n",
       "</g>\n",
       "<g style=\"fill:rgb(0%,0%,0%);fill-opacity:1;\">\n",
       "  <use xlink:href=\"#glyph0-7\" x=\"66.089844\" y=\"307.003906\"/>\n",
       "  <use xlink:href=\"#glyph0-5\" x=\"77.751953\" y=\"307.003906\"/>\n",
       "  <use xlink:href=\"#glyph0-8\" x=\"85.538086\" y=\"307.003906\"/>\n",
       "  <use xlink:href=\"#glyph0-6\" x=\"93.324219\" y=\"307.003906\"/>\n",
       "</g>\n",
       "<g style=\"fill:rgb(0%,0%,0%);fill-opacity:1;\">\n",
       "  <use xlink:href=\"#glyph0-7\" x=\"35.175781\" y=\"226.652344\"/>\n",
       "  <use xlink:href=\"#glyph0-5\" x=\"46.837891\" y=\"226.652344\"/>\n",
       "  <use xlink:href=\"#glyph0-9\" x=\"54.624023\" y=\"226.652344\"/>\n",
       "  <use xlink:href=\"#glyph0-10\" x=\"61.624023\" y=\"226.652344\"/>\n",
       "</g>\n",
       "<g style=\"fill:rgb(0%,0%,0%);fill-opacity:1;\">\n",
       "  <use xlink:href=\"#glyph0-11\" x=\"97.691406\" y=\"75.191406\"/>\n",
       "  <use xlink:href=\"#glyph0-5\" x=\"107.029297\" y=\"75.191406\"/>\n",
       "  <use xlink:href=\"#glyph0-12\" x=\"114.81543\" y=\"75.191406\"/>\n",
       "  <use xlink:href=\"#glyph0-5\" x=\"119.477539\" y=\"75.191406\"/>\n",
       "</g>\n",
       "<g style=\"fill:rgb(0%,0%,0%);fill-opacity:1;\">\n",
       "  <use xlink:href=\"#glyph0-7\" x=\"57.011719\" y=\"142.328125\"/>\n",
       "  <use xlink:href=\"#glyph0-13\" x=\"68.673828\" y=\"142.328125\"/>\n",
       "</g>\n",
       "<g style=\"fill:rgb(0%,0%,0%);fill-opacity:1;\">\n",
       "  <use xlink:href=\"#glyph0-7\" x=\"146.910156\" y=\"356.746094\"/>\n",
       "  <use xlink:href=\"#glyph0-14\" x=\"158.572266\" y=\"356.746094\"/>\n",
       "</g>\n",
       "<g style=\"fill:rgb(0%,0%,0%);fill-opacity:1;\">\n",
       "  <use xlink:href=\"#glyph0-7\" x=\"228.542969\" y=\"375.0625\"/>\n",
       "  <use xlink:href=\"#glyph0-15\" x=\"240.205078\" y=\"375.0625\"/>\n",
       "</g>\n",
       "<g style=\"fill:rgb(0%,0%,0%);fill-opacity:1;\">\n",
       "  <use xlink:href=\"#glyph0-7\" x=\"278.703125\" y=\"96.824219\"/>\n",
       "  <use xlink:href=\"#glyph0-16\" x=\"290.365234\" y=\"96.824219\"/>\n",
       "</g>\n",
       "</g>\n",
       "</svg>\n"
      ],
      "text/plain": [
       "<igraph.drawing.Plot at 0x2aeb505ec20>"
      ]
     },
     "execution_count": 14,
     "metadata": {
      "image/svg+xml": {
       "isolated": true
      }
     },
     "output_type": "execute_result"
    }
   ],
   "source": [
    "ig.plot(g,vertex_label=g.vs[\"fname\"],\n",
    "        bbox=(400,400),\n",
    "        margin=50,\n",
    "        vertex_size=30,\n",
    "        edge_width=2,\n",
    "        edge_curved=0.3,\n",
    "        vertex_color=\"black\",\n",
    "        vertex_label_dist=1,\n",
    "        vertex_frame_color=\"red\",\n",
    "        vertex_frame_width=5)"
   ]
  },
  {
   "cell_type": "code",
   "execution_count": 17,
   "id": "eb96e8d7",
   "metadata": {},
   "outputs": [],
   "source": [
    "G = ig.Graph.Tree(127,2)"
   ]
  },
  {
   "cell_type": "code",
   "execution_count": 18,
   "id": "0481b1a4",
   "metadata": {},
   "outputs": [
    {
     "data": {
      "image/svg+xml": [
       "<?xml version=\"1.0\" encoding=\"UTF-8\"?>\n",
       "<svg xmlns=\"http://www.w3.org/2000/svg\" xmlns:xlink=\"http://www.w3.org/1999/xlink\" width=\"400pt\" height=\"400pt\" viewBox=\"0 0 400 400\" version=\"1.1\">\n",
       "<g id=\"surface8\">\n",
       "<rect x=\"0\" y=\"0\" width=\"400\" height=\"400\" style=\"fill:rgb(100%,100%,100%);fill-opacity:1;stroke:none;\"/>\n",
       "<path style=\"fill:none;stroke-width:1;stroke-linecap:butt;stroke-linejoin:miter;stroke:rgb(26.666667%,26.666667%,26.666667%);stroke-opacity:1;stroke-miterlimit:10;\" d=\"M 204.613281 195.882813 L 217.097656 238.011719 \"/>\n",
       "<path style=\"fill:none;stroke-width:1;stroke-linecap:butt;stroke-linejoin:miter;stroke:rgb(26.666667%,26.666667%,26.666667%);stroke-opacity:1;stroke-miterlimit:10;\" d=\"M 204.613281 195.882813 L 191.597656 153.90625 \"/>\n",
       "<path style=\"fill:none;stroke-width:1;stroke-linecap:butt;stroke-linejoin:miter;stroke:rgb(26.666667%,26.666667%,26.666667%);stroke-opacity:1;stroke-miterlimit:10;\" d=\"M 217.097656 238.011719 L 254.707031 265.472656 \"/>\n",
       "<path style=\"fill:none;stroke-width:1;stroke-linecap:butt;stroke-linejoin:miter;stroke:rgb(26.666667%,26.666667%,26.666667%);stroke-opacity:1;stroke-miterlimit:10;\" d=\"M 217.097656 238.011719 L 184.445313 255.796875 \"/>\n",
       "<path style=\"fill:none;stroke-width:1;stroke-linecap:butt;stroke-linejoin:miter;stroke:rgb(26.666667%,26.666667%,26.666667%);stroke-opacity:1;stroke-miterlimit:10;\" d=\"M 191.597656 153.90625 L 226.824219 131.0625 \"/>\n",
       "<path style=\"fill:none;stroke-width:1;stroke-linecap:butt;stroke-linejoin:miter;stroke:rgb(26.666667%,26.666667%,26.666667%);stroke-opacity:1;stroke-miterlimit:10;\" d=\"M 191.597656 153.90625 L 147.929688 133.566406 \"/>\n",
       "<path style=\"fill:none;stroke-width:1;stroke-linecap:butt;stroke-linejoin:miter;stroke:rgb(26.666667%,26.666667%,26.666667%);stroke-opacity:1;stroke-miterlimit:10;\" d=\"M 254.707031 265.472656 L 291.671875 269.617188 \"/>\n",
       "<path style=\"fill:none;stroke-width:1;stroke-linecap:butt;stroke-linejoin:miter;stroke:rgb(26.666667%,26.666667%,26.666667%);stroke-opacity:1;stroke-miterlimit:10;\" d=\"M 254.707031 265.472656 L 266.136719 297.195313 \"/>\n",
       "<path style=\"fill:none;stroke-width:1;stroke-linecap:butt;stroke-linejoin:miter;stroke:rgb(26.666667%,26.666667%,26.666667%);stroke-opacity:1;stroke-miterlimit:10;\" d=\"M 184.445313 255.796875 L 163.449219 241.863281 \"/>\n",
       "<path style=\"fill:none;stroke-width:1;stroke-linecap:butt;stroke-linejoin:miter;stroke:rgb(26.666667%,26.666667%,26.666667%);stroke-opacity:1;stroke-miterlimit:10;\" d=\"M 184.445313 255.796875 L 164.789063 283.550781 \"/>\n",
       "<path style=\"fill:none;stroke-width:1;stroke-linecap:butt;stroke-linejoin:miter;stroke:rgb(26.666667%,26.666667%,26.666667%);stroke-opacity:1;stroke-miterlimit:10;\" d=\"M 226.824219 131.0625 L 257.609375 134.441406 \"/>\n",
       "<path style=\"fill:none;stroke-width:1;stroke-linecap:butt;stroke-linejoin:miter;stroke:rgb(26.666667%,26.666667%,26.666667%);stroke-opacity:1;stroke-miterlimit:10;\" d=\"M 226.824219 131.0625 L 242.808594 101.476563 \"/>\n",
       "<path style=\"fill:none;stroke-width:1;stroke-linecap:butt;stroke-linejoin:miter;stroke:rgb(26.666667%,26.666667%,26.666667%);stroke-opacity:1;stroke-miterlimit:10;\" d=\"M 147.929688 133.566406 L 109.203125 135.898438 \"/>\n",
       "<path style=\"fill:none;stroke-width:1;stroke-linecap:butt;stroke-linejoin:miter;stroke:rgb(26.666667%,26.666667%,26.666667%);stroke-opacity:1;stroke-miterlimit:10;\" d=\"M 147.929688 133.566406 L 130.992188 104.027344 \"/>\n",
       "<path style=\"fill:none;stroke-width:1;stroke-linecap:butt;stroke-linejoin:miter;stroke:rgb(26.666667%,26.666667%,26.666667%);stroke-opacity:1;stroke-miterlimit:10;\" d=\"M 291.671875 269.617188 L 317.902344 264.058594 \"/>\n",
       "<path style=\"fill:none;stroke-width:1;stroke-linecap:butt;stroke-linejoin:miter;stroke:rgb(26.666667%,26.666667%,26.666667%);stroke-opacity:1;stroke-miterlimit:10;\" d=\"M 291.671875 269.617188 L 315.339844 281.773438 \"/>\n",
       "<path style=\"fill:none;stroke-width:1;stroke-linecap:butt;stroke-linejoin:miter;stroke:rgb(26.666667%,26.666667%,26.666667%);stroke-opacity:1;stroke-miterlimit:10;\" d=\"M 266.136719 297.195313 L 264.136719 321.1875 \"/>\n",
       "<path style=\"fill:none;stroke-width:1;stroke-linecap:butt;stroke-linejoin:miter;stroke:rgb(26.666667%,26.666667%,26.666667%);stroke-opacity:1;stroke-miterlimit:10;\" d=\"M 266.136719 297.195313 L 283.332031 316.292969 \"/>\n",
       "<path style=\"fill:none;stroke-width:1;stroke-linecap:butt;stroke-linejoin:miter;stroke:rgb(26.666667%,26.666667%,26.666667%);stroke-opacity:1;stroke-miterlimit:10;\" d=\"M 163.449219 241.863281 L 160.929688 224.144531 \"/>\n",
       "<path style=\"fill:none;stroke-width:1;stroke-linecap:butt;stroke-linejoin:miter;stroke:rgb(26.666667%,26.666667%,26.666667%);stroke-opacity:1;stroke-miterlimit:10;\" d=\"M 163.449219 241.863281 L 141.175781 240.132813 \"/>\n",
       "<path style=\"fill:none;stroke-width:1;stroke-linecap:butt;stroke-linejoin:miter;stroke:rgb(26.666667%,26.666667%,26.666667%);stroke-opacity:1;stroke-miterlimit:10;\" d=\"M 164.789063 283.550781 L 160.554688 307.445313 \"/>\n",
       "<path style=\"fill:none;stroke-width:1;stroke-linecap:butt;stroke-linejoin:miter;stroke:rgb(26.666667%,26.666667%,26.666667%);stroke-opacity:1;stroke-miterlimit:10;\" d=\"M 164.789063 283.550781 L 142.339844 296.484375 \"/>\n",
       "<path style=\"fill:none;stroke-width:1;stroke-linecap:butt;stroke-linejoin:miter;stroke:rgb(26.666667%,26.666667%,26.666667%);stroke-opacity:1;stroke-miterlimit:10;\" d=\"M 257.609375 134.441406 L 272.007813 147.152344 \"/>\n",
       "<path style=\"fill:none;stroke-width:1;stroke-linecap:butt;stroke-linejoin:miter;stroke:rgb(26.666667%,26.666667%,26.666667%);stroke-opacity:1;stroke-miterlimit:10;\" d=\"M 257.609375 134.441406 L 283.167969 129.261719 \"/>\n",
       "<path style=\"fill:none;stroke-width:1;stroke-linecap:butt;stroke-linejoin:miter;stroke:rgb(26.666667%,26.666667%,26.666667%);stroke-opacity:1;stroke-miterlimit:10;\" d=\"M 242.808594 101.476563 L 243.816406 77.527344 \"/>\n",
       "<path style=\"fill:none;stroke-width:1;stroke-linecap:butt;stroke-linejoin:miter;stroke:rgb(26.666667%,26.666667%,26.666667%);stroke-opacity:1;stroke-miterlimit:10;\" d=\"M 242.808594 101.476563 L 263.507813 85.976563 \"/>\n",
       "<path style=\"fill:none;stroke-width:1;stroke-linecap:butt;stroke-linejoin:miter;stroke:rgb(26.666667%,26.666667%,26.666667%);stroke-opacity:1;stroke-miterlimit:10;\" d=\"M 109.203125 135.898438 L 82.554688 128.445313 \"/>\n",
       "<path style=\"fill:none;stroke-width:1;stroke-linecap:butt;stroke-linejoin:miter;stroke:rgb(26.666667%,26.666667%,26.666667%);stroke-opacity:1;stroke-miterlimit:10;\" d=\"M 109.203125 135.898438 L 83.378906 145.785156 \"/>\n",
       "<path style=\"fill:none;stroke-width:1;stroke-linecap:butt;stroke-linejoin:miter;stroke:rgb(26.666667%,26.666667%,26.666667%);stroke-opacity:1;stroke-miterlimit:10;\" d=\"M 130.992188 104.027344 L 110.460938 87.414063 \"/>\n",
       "<path style=\"fill:none;stroke-width:1;stroke-linecap:butt;stroke-linejoin:miter;stroke:rgb(26.666667%,26.666667%,26.666667%);stroke-opacity:1;stroke-miterlimit:10;\" d=\"M 130.992188 104.027344 L 129.320313 80.402344 \"/>\n",
       "<path style=\"fill:none;stroke-width:1;stroke-linecap:butt;stroke-linejoin:miter;stroke:rgb(26.666667%,26.666667%,26.666667%);stroke-opacity:1;stroke-miterlimit:10;\" d=\"M 317.902344 264.058594 L 337.453125 265.167969 \"/>\n",
       "<path style=\"fill:none;stroke-width:1;stroke-linecap:butt;stroke-linejoin:miter;stroke:rgb(26.666667%,26.666667%,26.666667%);stroke-opacity:1;stroke-miterlimit:10;\" d=\"M 317.902344 264.058594 L 333.675781 255.960938 \"/>\n",
       "<path style=\"fill:none;stroke-width:1;stroke-linecap:butt;stroke-linejoin:miter;stroke:rgb(26.666667%,26.666667%,26.666667%);stroke-opacity:1;stroke-miterlimit:10;\" d=\"M 315.339844 281.773438 L 328.246094 294.257813 \"/>\n",
       "<path style=\"fill:none;stroke-width:1;stroke-linecap:butt;stroke-linejoin:miter;stroke:rgb(26.666667%,26.666667%,26.666667%);stroke-opacity:1;stroke-miterlimit:10;\" d=\"M 315.339844 281.773438 L 334.277344 286.28125 \"/>\n",
       "<path style=\"fill:none;stroke-width:1;stroke-linecap:butt;stroke-linejoin:miter;stroke:rgb(26.666667%,26.666667%,26.666667%);stroke-opacity:1;stroke-miterlimit:10;\" d=\"M 264.136719 321.1875 L 268.1875 338.421875 \"/>\n",
       "<path style=\"fill:none;stroke-width:1;stroke-linecap:butt;stroke-linejoin:miter;stroke:rgb(26.666667%,26.666667%,26.666667%);stroke-opacity:1;stroke-miterlimit:10;\" d=\"M 264.136719 321.1875 L 257.382813 336.4375 \"/>\n",
       "<path style=\"fill:none;stroke-width:1;stroke-linecap:butt;stroke-linejoin:miter;stroke:rgb(26.666667%,26.666667%,26.666667%);stroke-opacity:1;stroke-miterlimit:10;\" d=\"M 283.332031 316.292969 L 298.746094 326.011719 \"/>\n",
       "<path style=\"fill:none;stroke-width:1;stroke-linecap:butt;stroke-linejoin:miter;stroke:rgb(26.666667%,26.666667%,26.666667%);stroke-opacity:1;stroke-miterlimit:10;\" d=\"M 283.332031 316.292969 L 291.066406 332.675781 \"/>\n",
       "<path style=\"fill:none;stroke-width:1;stroke-linecap:butt;stroke-linejoin:miter;stroke:rgb(26.666667%,26.666667%,26.666667%);stroke-opacity:1;stroke-miterlimit:10;\" d=\"M 160.929688 224.144531 L 152.738281 211.691406 \"/>\n",
       "<path style=\"fill:none;stroke-width:1;stroke-linecap:butt;stroke-linejoin:miter;stroke:rgb(26.666667%,26.666667%,26.666667%);stroke-opacity:1;stroke-miterlimit:10;\" d=\"M 160.929688 224.144531 L 166.878906 212.332031 \"/>\n",
       "<path style=\"fill:none;stroke-width:1;stroke-linecap:butt;stroke-linejoin:miter;stroke:rgb(26.666667%,26.666667%,26.666667%);stroke-opacity:1;stroke-miterlimit:10;\" d=\"M 141.175781 240.132813 L 125.878906 245.539063 \"/>\n",
       "<path style=\"fill:none;stroke-width:1;stroke-linecap:butt;stroke-linejoin:miter;stroke:rgb(26.666667%,26.666667%,26.666667%);stroke-opacity:1;stroke-miterlimit:10;\" d=\"M 141.175781 240.132813 L 127.042969 232.535156 \"/>\n",
       "<path style=\"fill:none;stroke-width:1;stroke-linecap:butt;stroke-linejoin:miter;stroke:rgb(26.666667%,26.666667%,26.666667%);stroke-opacity:1;stroke-miterlimit:10;\" d=\"M 160.554688 307.445313 L 163.3125 323.8125 \"/>\n",
       "<path style=\"fill:none;stroke-width:1;stroke-linecap:butt;stroke-linejoin:miter;stroke:rgb(26.666667%,26.666667%,26.666667%);stroke-opacity:1;stroke-miterlimit:10;\" d=\"M 160.554688 307.445313 L 151.976563 323.152344 \"/>\n",
       "<path style=\"fill:none;stroke-width:1;stroke-linecap:butt;stroke-linejoin:miter;stroke:rgb(26.666667%,26.666667%,26.666667%);stroke-opacity:1;stroke-miterlimit:10;\" d=\"M 142.339844 296.484375 L 130.019531 310 \"/>\n",
       "<path style=\"fill:none;stroke-width:1;stroke-linecap:butt;stroke-linejoin:miter;stroke:rgb(26.666667%,26.666667%,26.666667%);stroke-opacity:1;stroke-miterlimit:10;\" d=\"M 142.339844 296.484375 L 124.53125 300.46875 \"/>\n",
       "<path style=\"fill:none;stroke-width:1;stroke-linecap:butt;stroke-linejoin:miter;stroke:rgb(26.666667%,26.666667%,26.666667%);stroke-opacity:1;stroke-miterlimit:10;\" d=\"M 272.007813 147.152344 L 285.675781 158.160156 \"/>\n",
       "<path style=\"fill:none;stroke-width:1;stroke-linecap:butt;stroke-linejoin:miter;stroke:rgb(26.666667%,26.666667%,26.666667%);stroke-opacity:1;stroke-miterlimit:10;\" d=\"M 272.007813 147.152344 L 274.886719 155.679688 \"/>\n",
       "<path style=\"fill:none;stroke-width:1;stroke-linecap:butt;stroke-linejoin:miter;stroke:rgb(26.666667%,26.666667%,26.666667%);stroke-opacity:1;stroke-miterlimit:10;\" d=\"M 283.167969 129.261719 L 301.796875 131.269531 \"/>\n",
       "<path style=\"fill:none;stroke-width:1;stroke-linecap:butt;stroke-linejoin:miter;stroke:rgb(26.666667%,26.666667%,26.666667%);stroke-opacity:1;stroke-miterlimit:10;\" d=\"M 283.167969 129.261719 L 298.714844 120.28125 \"/>\n",
       "<path style=\"fill:none;stroke-width:1;stroke-linecap:butt;stroke-linejoin:miter;stroke:rgb(26.666667%,26.666667%,26.666667%);stroke-opacity:1;stroke-miterlimit:10;\" d=\"M 243.816406 77.527344 L 250.363281 61.335938 \"/>\n",
       "<path style=\"fill:none;stroke-width:1;stroke-linecap:butt;stroke-linejoin:miter;stroke:rgb(26.666667%,26.666667%,26.666667%);stroke-opacity:1;stroke-miterlimit:10;\" d=\"M 243.816406 77.527344 L 238.886719 61.558594 \"/>\n",
       "<path style=\"fill:none;stroke-width:1;stroke-linecap:butt;stroke-linejoin:miter;stroke:rgb(26.666667%,26.666667%,26.666667%);stroke-opacity:1;stroke-miterlimit:10;\" d=\"M 263.507813 85.976563 L 280.753906 79.382813 \"/>\n",
       "<path style=\"fill:none;stroke-width:1;stroke-linecap:butt;stroke-linejoin:miter;stroke:rgb(26.666667%,26.666667%,26.666667%);stroke-opacity:1;stroke-miterlimit:10;\" d=\"M 263.507813 85.976563 L 273.984375 71.230469 \"/>\n",
       "<path style=\"fill:none;stroke-width:1;stroke-linecap:butt;stroke-linejoin:miter;stroke:rgb(26.666667%,26.666667%,26.666667%);stroke-opacity:1;stroke-miterlimit:10;\" d=\"M 82.554688 128.445313 L 62.53125 127.277344 \"/>\n",
       "<path style=\"fill:none;stroke-width:1;stroke-linecap:butt;stroke-linejoin:miter;stroke:rgb(26.666667%,26.666667%,26.666667%);stroke-opacity:1;stroke-miterlimit:10;\" d=\"M 82.554688 128.445313 L 67.085938 118.332031 \"/>\n",
       "<path style=\"fill:none;stroke-width:1;stroke-linecap:butt;stroke-linejoin:miter;stroke:rgb(26.666667%,26.666667%,26.666667%);stroke-opacity:1;stroke-miterlimit:10;\" d=\"M 83.378906 145.785156 L 63.332031 148.222656 \"/>\n",
       "<path style=\"fill:none;stroke-width:1;stroke-linecap:butt;stroke-linejoin:miter;stroke:rgb(26.666667%,26.666667%,26.666667%);stroke-opacity:1;stroke-miterlimit:10;\" d=\"M 83.378906 145.785156 L 68.660156 156.152344 \"/>\n",
       "<path style=\"fill:none;stroke-width:1;stroke-linecap:butt;stroke-linejoin:miter;stroke:rgb(26.666667%,26.666667%,26.666667%);stroke-opacity:1;stroke-miterlimit:10;\" d=\"M 110.460938 87.414063 L 100.015625 72.1875 \"/>\n",
       "<path style=\"fill:none;stroke-width:1;stroke-linecap:butt;stroke-linejoin:miter;stroke:rgb(26.666667%,26.666667%,26.666667%);stroke-opacity:1;stroke-miterlimit:10;\" d=\"M 110.460938 87.414063 L 93.445313 79.800781 \"/>\n",
       "<path style=\"fill:none;stroke-width:1;stroke-linecap:butt;stroke-linejoin:miter;stroke:rgb(26.666667%,26.666667%,26.666667%);stroke-opacity:1;stroke-miterlimit:10;\" d=\"M 129.320313 80.402344 L 122.601563 64.285156 \"/>\n",
       "<path style=\"fill:none;stroke-width:1;stroke-linecap:butt;stroke-linejoin:miter;stroke:rgb(26.666667%,26.666667%,26.666667%);stroke-opacity:1;stroke-miterlimit:10;\" d=\"M 129.320313 80.402344 L 133.835938 64.652344 \"/>\n",
       "<path style=\"fill:none;stroke-width:1;stroke-linecap:butt;stroke-linejoin:miter;stroke:rgb(26.666667%,26.666667%,26.666667%);stroke-opacity:1;stroke-miterlimit:10;\" d=\"M 337.453125 265.167969 L 349.175781 268.621094 \"/>\n",
       "<path style=\"fill:none;stroke-width:1;stroke-linecap:butt;stroke-linejoin:miter;stroke:rgb(26.666667%,26.666667%,26.666667%);stroke-opacity:1;stroke-miterlimit:10;\" d=\"M 337.453125 265.167969 L 350 263.457031 \"/>\n",
       "<path style=\"fill:none;stroke-width:1;stroke-linecap:butt;stroke-linejoin:miter;stroke:rgb(26.666667%,26.666667%,26.666667%);stroke-opacity:1;stroke-miterlimit:10;\" d=\"M 333.675781 255.960938 L 341.894531 248.941406 \"/>\n",
       "<path style=\"fill:none;stroke-width:1;stroke-linecap:butt;stroke-linejoin:miter;stroke:rgb(26.666667%,26.666667%,26.666667%);stroke-opacity:1;stroke-miterlimit:10;\" d=\"M 333.675781 255.960938 L 345.429688 253.535156 \"/>\n",
       "<path style=\"fill:none;stroke-width:1;stroke-linecap:butt;stroke-linejoin:miter;stroke:rgb(26.666667%,26.666667%,26.666667%);stroke-opacity:1;stroke-miterlimit:10;\" d=\"M 328.246094 294.257813 L 334.089844 303.644531 \"/>\n",
       "<path style=\"fill:none;stroke-width:1;stroke-linecap:butt;stroke-linejoin:miter;stroke:rgb(26.666667%,26.666667%,26.666667%);stroke-opacity:1;stroke-miterlimit:10;\" d=\"M 328.246094 294.257813 L 338.824219 300.453125 \"/>\n",
       "<path style=\"fill:none;stroke-width:1;stroke-linecap:butt;stroke-linejoin:miter;stroke:rgb(26.666667%,26.666667%,26.666667%);stroke-opacity:1;stroke-miterlimit:10;\" d=\"M 334.277344 286.28125 L 346.644531 287.011719 \"/>\n",
       "<path style=\"fill:none;stroke-width:1;stroke-linecap:butt;stroke-linejoin:miter;stroke:rgb(26.666667%,26.666667%,26.666667%);stroke-opacity:1;stroke-miterlimit:10;\" d=\"M 334.277344 286.28125 L 345.445313 292.125 \"/>\n",
       "<path style=\"fill:none;stroke-width:1;stroke-linecap:butt;stroke-linejoin:miter;stroke:rgb(26.666667%,26.666667%,26.666667%);stroke-opacity:1;stroke-miterlimit:10;\" d=\"M 268.1875 338.421875 L 273.351563 348.558594 \"/>\n",
       "<path style=\"fill:none;stroke-width:1;stroke-linecap:butt;stroke-linejoin:miter;stroke:rgb(26.666667%,26.666667%,26.666667%);stroke-opacity:1;stroke-miterlimit:10;\" d=\"M 268.1875 338.421875 L 267.78125 350 \"/>\n",
       "<path style=\"fill:none;stroke-width:1;stroke-linecap:butt;stroke-linejoin:miter;stroke:rgb(26.666667%,26.666667%,26.666667%);stroke-opacity:1;stroke-miterlimit:10;\" d=\"M 257.382813 336.4375 L 256.140625 347.460938 \"/>\n",
       "<path style=\"fill:none;stroke-width:1;stroke-linecap:butt;stroke-linejoin:miter;stroke:rgb(26.666667%,26.666667%,26.666667%);stroke-opacity:1;stroke-miterlimit:10;\" d=\"M 257.382813 336.4375 L 250.738281 344.785156 \"/>\n",
       "<path style=\"fill:none;stroke-width:1;stroke-linecap:butt;stroke-linejoin:miter;stroke:rgb(26.666667%,26.666667%,26.666667%);stroke-opacity:1;stroke-miterlimit:10;\" d=\"M 298.746094 326.011719 L 309.613281 330.148438 \"/>\n",
       "<path style=\"fill:none;stroke-width:1;stroke-linecap:butt;stroke-linejoin:miter;stroke:rgb(26.666667%,26.666667%,26.666667%);stroke-opacity:1;stroke-miterlimit:10;\" d=\"M 298.746094 326.011719 L 306.765625 334.863281 \"/>\n",
       "<path style=\"fill:none;stroke-width:1;stroke-linecap:butt;stroke-linejoin:miter;stroke:rgb(26.666667%,26.666667%,26.666667%);stroke-opacity:1;stroke-miterlimit:10;\" d=\"M 291.066406 332.675781 L 298.742188 342 \"/>\n",
       "<path style=\"fill:none;stroke-width:1;stroke-linecap:butt;stroke-linejoin:miter;stroke:rgb(26.666667%,26.666667%,26.666667%);stroke-opacity:1;stroke-miterlimit:10;\" d=\"M 291.066406 332.675781 L 293.363281 343.796875 \"/>\n",
       "<path style=\"fill:none;stroke-width:1;stroke-linecap:butt;stroke-linejoin:miter;stroke:rgb(26.666667%,26.666667%,26.666667%);stroke-opacity:1;stroke-miterlimit:10;\" d=\"M 152.738281 211.691406 L 151.40625 202.257813 \"/>\n",
       "<path style=\"fill:none;stroke-width:1;stroke-linecap:butt;stroke-linejoin:miter;stroke:rgb(26.666667%,26.666667%,26.666667%);stroke-opacity:1;stroke-miterlimit:10;\" d=\"M 152.738281 211.691406 L 145.464844 203.960938 \"/>\n",
       "<path style=\"fill:none;stroke-width:1;stroke-linecap:butt;stroke-linejoin:miter;stroke:rgb(26.666667%,26.666667%,26.666667%);stroke-opacity:1;stroke-miterlimit:10;\" d=\"M 166.878906 212.332031 L 167.109375 202.648438 \"/>\n",
       "<path style=\"fill:none;stroke-width:1;stroke-linecap:butt;stroke-linejoin:miter;stroke:rgb(26.666667%,26.666667%,26.666667%);stroke-opacity:1;stroke-miterlimit:10;\" d=\"M 166.878906 212.332031 L 173.496094 205.242188 \"/>\n",
       "<path style=\"fill:none;stroke-width:1;stroke-linecap:butt;stroke-linejoin:miter;stroke:rgb(26.666667%,26.666667%,26.666667%);stroke-opacity:1;stroke-miterlimit:10;\" d=\"M 125.878906 245.539063 L 117.707031 252.097656 \"/>\n",
       "<path style=\"fill:none;stroke-width:1;stroke-linecap:butt;stroke-linejoin:miter;stroke:rgb(26.666667%,26.666667%,26.666667%);stroke-opacity:1;stroke-miterlimit:10;\" d=\"M 125.878906 245.539063 L 114.789063 246.214844 \"/>\n",
       "<path style=\"fill:none;stroke-width:1;stroke-linecap:butt;stroke-linejoin:miter;stroke:rgb(26.666667%,26.666667%,26.666667%);stroke-opacity:1;stroke-miterlimit:10;\" d=\"M 127.042969 232.535156 L 119.667969 225.917969 \"/>\n",
       "<path style=\"fill:none;stroke-width:1;stroke-linecap:butt;stroke-linejoin:miter;stroke:rgb(26.666667%,26.666667%,26.666667%);stroke-opacity:1;stroke-miterlimit:10;\" d=\"M 127.042969 232.535156 L 116.179688 230.539063 \"/>\n",
       "<path style=\"fill:none;stroke-width:1;stroke-linecap:butt;stroke-linejoin:miter;stroke:rgb(26.666667%,26.666667%,26.666667%);stroke-opacity:1;stroke-miterlimit:10;\" d=\"M 163.3125 323.8125 L 161.738281 334.785156 \"/>\n",
       "<path style=\"fill:none;stroke-width:1;stroke-linecap:butt;stroke-linejoin:miter;stroke:rgb(26.666667%,26.666667%,26.666667%);stroke-opacity:1;stroke-miterlimit:10;\" d=\"M 163.3125 323.8125 L 167.738281 333.34375 \"/>\n",
       "<path style=\"fill:none;stroke-width:1;stroke-linecap:butt;stroke-linejoin:miter;stroke:rgb(26.666667%,26.666667%,26.666667%);stroke-opacity:1;stroke-miterlimit:10;\" d=\"M 151.976563 323.152344 L 149.332031 334.335938 \"/>\n",
       "<path style=\"fill:none;stroke-width:1;stroke-linecap:butt;stroke-linejoin:miter;stroke:rgb(26.666667%,26.666667%,26.666667%);stroke-opacity:1;stroke-miterlimit:10;\" d=\"M 151.976563 323.152344 L 144.1875 331.734375 \"/>\n",
       "<path style=\"fill:none;stroke-width:1;stroke-linecap:butt;stroke-linejoin:miter;stroke:rgb(26.666667%,26.666667%,26.666667%);stroke-opacity:1;stroke-miterlimit:10;\" d=\"M 130.019531 310 L 119.84375 316.800781 \"/>\n",
       "<path style=\"fill:none;stroke-width:1;stroke-linecap:butt;stroke-linejoin:miter;stroke:rgb(26.666667%,26.666667%,26.666667%);stroke-opacity:1;stroke-miterlimit:10;\" d=\"M 130.019531 310 L 124.644531 319.917969 \"/>\n",
       "<path style=\"fill:none;stroke-width:1;stroke-linecap:butt;stroke-linejoin:miter;stroke:rgb(26.666667%,26.666667%,26.666667%);stroke-opacity:1;stroke-miterlimit:10;\" d=\"M 124.53125 300.46875 L 112.921875 301.046875 \"/>\n",
       "<path style=\"fill:none;stroke-width:1;stroke-linecap:butt;stroke-linejoin:miter;stroke:rgb(26.666667%,26.666667%,26.666667%);stroke-opacity:1;stroke-miterlimit:10;\" d=\"M 124.53125 300.46875 L 114.234375 306.488281 \"/>\n",
       "<path style=\"fill:none;stroke-width:1;stroke-linecap:butt;stroke-linejoin:miter;stroke:rgb(26.666667%,26.666667%,26.666667%);stroke-opacity:1;stroke-miterlimit:10;\" d=\"M 285.675781 158.160156 L 294.503906 167.398438 \"/>\n",
       "<path style=\"fill:none;stroke-width:1;stroke-linecap:butt;stroke-linejoin:miter;stroke:rgb(26.666667%,26.666667%,26.666667%);stroke-opacity:1;stroke-miterlimit:10;\" d=\"M 285.675781 158.160156 L 290.816406 165.429688 \"/>\n",
       "<path style=\"fill:none;stroke-width:1;stroke-linecap:butt;stroke-linejoin:miter;stroke:rgb(26.666667%,26.666667%,26.666667%);stroke-opacity:1;stroke-miterlimit:10;\" d=\"M 274.886719 155.679688 L 270.648438 160.589844 \"/>\n",
       "<path style=\"fill:none;stroke-width:1;stroke-linecap:butt;stroke-linejoin:miter;stroke:rgb(26.666667%,26.666667%,26.666667%);stroke-opacity:1;stroke-miterlimit:10;\" d=\"M 274.886719 155.679688 L 278.769531 162.96875 \"/>\n",
       "<path style=\"fill:none;stroke-width:1;stroke-linecap:butt;stroke-linejoin:miter;stroke:rgb(26.666667%,26.666667%,26.666667%);stroke-opacity:1;stroke-miterlimit:10;\" d=\"M 301.796875 131.269531 L 313.738281 128.832031 \"/>\n",
       "<path style=\"fill:none;stroke-width:1;stroke-linecap:butt;stroke-linejoin:miter;stroke:rgb(26.666667%,26.666667%,26.666667%);stroke-opacity:1;stroke-miterlimit:10;\" d=\"M 301.796875 131.269531 L 313.058594 134.578125 \"/>\n",
       "<path style=\"fill:none;stroke-width:1;stroke-linecap:butt;stroke-linejoin:miter;stroke:rgb(26.666667%,26.666667%,26.666667%);stroke-opacity:1;stroke-miterlimit:10;\" d=\"M 298.714844 120.28125 L 310.3125 116.949219 \"/>\n",
       "<path style=\"fill:none;stroke-width:1;stroke-linecap:butt;stroke-linejoin:miter;stroke:rgb(26.666667%,26.666667%,26.666667%);stroke-opacity:1;stroke-miterlimit:10;\" d=\"M 298.714844 120.28125 L 306.554688 112.292969 \"/>\n",
       "<path style=\"fill:none;stroke-width:1;stroke-linecap:butt;stroke-linejoin:miter;stroke:rgb(26.666667%,26.666667%,26.666667%);stroke-opacity:1;stroke-miterlimit:10;\" d=\"M 250.363281 61.335938 L 251.535156 50 \"/>\n",
       "<path style=\"fill:none;stroke-width:1;stroke-linecap:butt;stroke-linejoin:miter;stroke:rgb(26.666667%,26.666667%,26.666667%);stroke-opacity:1;stroke-miterlimit:10;\" d=\"M 250.363281 61.335938 L 256.96875 52.089844 \"/>\n",
       "<path style=\"fill:none;stroke-width:1;stroke-linecap:butt;stroke-linejoin:miter;stroke:rgb(26.666667%,26.666667%,26.666667%);stroke-opacity:1;stroke-miterlimit:10;\" d=\"M 238.886719 61.558594 L 233.21875 52.484375 \"/>\n",
       "<path style=\"fill:none;stroke-width:1;stroke-linecap:butt;stroke-linejoin:miter;stroke:rgb(26.666667%,26.666667%,26.666667%);stroke-opacity:1;stroke-miterlimit:10;\" d=\"M 238.886719 61.558594 L 239.035156 50.511719 \"/>\n",
       "<path style=\"fill:none;stroke-width:1;stroke-linecap:butt;stroke-linejoin:miter;stroke:rgb(26.666667%,26.666667%,26.666667%);stroke-opacity:1;stroke-miterlimit:10;\" d=\"M 280.753906 79.382813 L 292.285156 77.042969 \"/>\n",
       "<path style=\"fill:none;stroke-width:1;stroke-linecap:butt;stroke-linejoin:miter;stroke:rgb(26.666667%,26.666667%,26.666667%);stroke-opacity:1;stroke-miterlimit:10;\" d=\"M 280.753906 79.382813 L 290.164063 72.007813 \"/>\n",
       "<path style=\"fill:none;stroke-width:1;stroke-linecap:butt;stroke-linejoin:miter;stroke:rgb(26.666667%,26.666667%,26.666667%);stroke-opacity:1;stroke-miterlimit:10;\" d=\"M 273.984375 71.230469 L 283.066406 63.203125 \"/>\n",
       "<path style=\"fill:none;stroke-width:1;stroke-linecap:butt;stroke-linejoin:miter;stroke:rgb(26.666667%,26.666667%,26.666667%);stroke-opacity:1;stroke-miterlimit:10;\" d=\"M 273.984375 71.230469 L 277.917969 60.511719 \"/>\n",
       "<path style=\"fill:none;stroke-width:1;stroke-linecap:butt;stroke-linejoin:miter;stroke:rgb(26.666667%,26.666667%,26.666667%);stroke-opacity:1;stroke-miterlimit:10;\" d=\"M 62.53125 127.277344 L 50.382813 123.1875 \"/>\n",
       "<path style=\"fill:none;stroke-width:1;stroke-linecap:butt;stroke-linejoin:miter;stroke:rgb(26.666667%,26.666667%,26.666667%);stroke-opacity:1;stroke-miterlimit:10;\" d=\"M 62.53125 127.277344 L 50 128.332031 \"/>\n",
       "<path style=\"fill:none;stroke-width:1;stroke-linecap:butt;stroke-linejoin:miter;stroke:rgb(26.666667%,26.666667%,26.666667%);stroke-opacity:1;stroke-miterlimit:10;\" d=\"M 67.085938 118.332031 L 55.484375 113.78125 \"/>\n",
       "<path style=\"fill:none;stroke-width:1;stroke-linecap:butt;stroke-linejoin:miter;stroke:rgb(26.666667%,26.666667%,26.666667%);stroke-opacity:1;stroke-miterlimit:10;\" d=\"M 67.085938 118.332031 L 59.617188 109.800781 \"/>\n",
       "<path style=\"fill:none;stroke-width:1;stroke-linecap:butt;stroke-linejoin:miter;stroke:rgb(26.666667%,26.666667%,26.666667%);stroke-opacity:1;stroke-miterlimit:10;\" d=\"M 63.332031 148.222656 L 50.890625 146.726563 \"/>\n",
       "<path style=\"fill:none;stroke-width:1;stroke-linecap:butt;stroke-linejoin:miter;stroke:rgb(26.666667%,26.666667%,26.666667%);stroke-opacity:1;stroke-miterlimit:10;\" d=\"M 63.332031 148.222656 L 51 151.824219 \"/>\n",
       "<path style=\"fill:none;stroke-width:1;stroke-linecap:butt;stroke-linejoin:miter;stroke:rgb(26.666667%,26.666667%,26.666667%);stroke-opacity:1;stroke-miterlimit:10;\" d=\"M 68.660156 156.152344 L 57.21875 160.285156 \"/>\n",
       "<path style=\"fill:none;stroke-width:1;stroke-linecap:butt;stroke-linejoin:miter;stroke:rgb(26.666667%,26.666667%,26.666667%);stroke-opacity:1;stroke-miterlimit:10;\" d=\"M 68.660156 156.152344 L 61.441406 164.148438 \"/>\n",
       "<path style=\"fill:none;stroke-width:1;stroke-linecap:butt;stroke-linejoin:miter;stroke:rgb(26.666667%,26.666667%,26.666667%);stroke-opacity:1;stroke-miterlimit:10;\" d=\"M 100.015625 72.1875 L 90.9375 63.820313 \"/>\n",
       "<path style=\"fill:none;stroke-width:1;stroke-linecap:butt;stroke-linejoin:miter;stroke:rgb(26.666667%,26.666667%,26.666667%);stroke-opacity:1;stroke-miterlimit:10;\" d=\"M 100.015625 72.1875 L 96.019531 61.40625 \"/>\n",
       "<path style=\"fill:none;stroke-width:1;stroke-linecap:butt;stroke-linejoin:miter;stroke:rgb(26.666667%,26.666667%,26.666667%);stroke-opacity:1;stroke-miterlimit:10;\" d=\"M 93.445313 79.800781 L 84.085938 72.140625 \"/>\n",
       "<path style=\"fill:none;stroke-width:1;stroke-linecap:butt;stroke-linejoin:miter;stroke:rgb(26.666667%,26.666667%,26.666667%);stroke-opacity:1;stroke-miterlimit:10;\" d=\"M 93.445313 79.800781 L 81.960938 77.175781 \"/>\n",
       "<path style=\"fill:none;stroke-width:1;stroke-linecap:butt;stroke-linejoin:miter;stroke:rgb(26.666667%,26.666667%,26.666667%);stroke-opacity:1;stroke-miterlimit:10;\" d=\"M 122.601563 64.285156 L 121.300781 53.09375 \"/>\n",
       "<path style=\"fill:none;stroke-width:1;stroke-linecap:butt;stroke-linejoin:miter;stroke:rgb(26.666667%,26.666667%,26.666667%);stroke-opacity:1;stroke-miterlimit:10;\" d=\"M 122.601563 64.285156 L 115.921875 55.050781 \"/>\n",
       "<path style=\"fill:none;stroke-width:1;stroke-linecap:butt;stroke-linejoin:miter;stroke:rgb(26.666667%,26.666667%,26.666667%);stroke-opacity:1;stroke-miterlimit:10;\" d=\"M 133.835938 64.652344 L 139.289063 55.707031 \"/>\n",
       "<path style=\"fill:none;stroke-width:1;stroke-linecap:butt;stroke-linejoin:miter;stroke:rgb(26.666667%,26.666667%,26.666667%);stroke-opacity:1;stroke-miterlimit:10;\" d=\"M 133.835938 64.652344 L 133.453125 53.75 \"/>\n",
       "<path style=\"fill-rule:nonzero;fill:rgb(100%,0%,0%);fill-opacity:1;stroke-width:1;stroke-linecap:butt;stroke-linejoin:miter;stroke:rgb(0%,0%,0%);stroke-opacity:1;stroke-miterlimit:10;\" d=\"M 209.613281 195.882813 C 209.613281 202.546875 199.613281 202.546875 199.613281 195.882813 C 199.613281 189.214844 209.613281 189.214844 209.613281 195.882813 \"/>\n",
       "<path style=\"fill-rule:nonzero;fill:rgb(100%,0%,0%);fill-opacity:1;stroke-width:1;stroke-linecap:butt;stroke-linejoin:miter;stroke:rgb(0%,0%,0%);stroke-opacity:1;stroke-miterlimit:10;\" d=\"M 222.097656 238.011719 C 222.097656 244.679688 212.097656 244.679688 212.097656 238.011719 C 212.097656 231.34375 222.097656 231.34375 222.097656 238.011719 \"/>\n",
       "<path style=\"fill-rule:nonzero;fill:rgb(100%,0%,0%);fill-opacity:1;stroke-width:1;stroke-linecap:butt;stroke-linejoin:miter;stroke:rgb(0%,0%,0%);stroke-opacity:1;stroke-miterlimit:10;\" d=\"M 196.597656 153.90625 C 196.597656 160.574219 186.597656 160.574219 186.597656 153.90625 C 186.597656 147.238281 196.597656 147.238281 196.597656 153.90625 \"/>\n",
       "<path style=\"fill-rule:nonzero;fill:rgb(100%,0%,0%);fill-opacity:1;stroke-width:1;stroke-linecap:butt;stroke-linejoin:miter;stroke:rgb(0%,0%,0%);stroke-opacity:1;stroke-miterlimit:10;\" d=\"M 259.707031 265.472656 C 259.707031 272.140625 249.707031 272.140625 249.707031 265.472656 C 249.707031 258.804688 259.707031 258.804688 259.707031 265.472656 \"/>\n",
       "<path style=\"fill-rule:nonzero;fill:rgb(100%,0%,0%);fill-opacity:1;stroke-width:1;stroke-linecap:butt;stroke-linejoin:miter;stroke:rgb(0%,0%,0%);stroke-opacity:1;stroke-miterlimit:10;\" d=\"M 189.445313 255.796875 C 189.445313 262.464844 179.445313 262.464844 179.445313 255.796875 C 179.445313 249.128906 189.445313 249.128906 189.445313 255.796875 \"/>\n",
       "<path style=\"fill-rule:nonzero;fill:rgb(100%,0%,0%);fill-opacity:1;stroke-width:1;stroke-linecap:butt;stroke-linejoin:miter;stroke:rgb(0%,0%,0%);stroke-opacity:1;stroke-miterlimit:10;\" d=\"M 231.824219 131.0625 C 231.824219 137.726563 221.824219 137.726563 221.824219 131.0625 C 221.824219 124.394531 231.824219 124.394531 231.824219 131.0625 \"/>\n",
       "<path style=\"fill-rule:nonzero;fill:rgb(100%,0%,0%);fill-opacity:1;stroke-width:1;stroke-linecap:butt;stroke-linejoin:miter;stroke:rgb(0%,0%,0%);stroke-opacity:1;stroke-miterlimit:10;\" d=\"M 152.929688 133.566406 C 152.929688 140.234375 142.929688 140.234375 142.929688 133.566406 C 142.929688 126.902344 152.929688 126.902344 152.929688 133.566406 \"/>\n",
       "<path style=\"fill-rule:nonzero;fill:rgb(100%,0%,0%);fill-opacity:1;stroke-width:1;stroke-linecap:butt;stroke-linejoin:miter;stroke:rgb(0%,0%,0%);stroke-opacity:1;stroke-miterlimit:10;\" d=\"M 296.671875 269.617188 C 296.671875 276.28125 286.671875 276.28125 286.671875 269.617188 C 286.671875 262.949219 296.671875 262.949219 296.671875 269.617188 \"/>\n",
       "<path style=\"fill-rule:nonzero;fill:rgb(100%,0%,0%);fill-opacity:1;stroke-width:1;stroke-linecap:butt;stroke-linejoin:miter;stroke:rgb(0%,0%,0%);stroke-opacity:1;stroke-miterlimit:10;\" d=\"M 271.136719 297.195313 C 271.136719 303.859375 261.136719 303.859375 261.136719 297.195313 C 261.136719 290.527344 271.136719 290.527344 271.136719 297.195313 \"/>\n",
       "<path style=\"fill-rule:nonzero;fill:rgb(100%,0%,0%);fill-opacity:1;stroke-width:1;stroke-linecap:butt;stroke-linejoin:miter;stroke:rgb(0%,0%,0%);stroke-opacity:1;stroke-miterlimit:10;\" d=\"M 168.449219 241.863281 C 168.449219 248.53125 158.449219 248.53125 158.449219 241.863281 C 158.449219 235.199219 168.449219 235.199219 168.449219 241.863281 \"/>\n",
       "<path style=\"fill-rule:nonzero;fill:rgb(100%,0%,0%);fill-opacity:1;stroke-width:1;stroke-linecap:butt;stroke-linejoin:miter;stroke:rgb(0%,0%,0%);stroke-opacity:1;stroke-miterlimit:10;\" d=\"M 169.789063 283.550781 C 169.789063 290.214844 159.789063 290.214844 159.789063 283.550781 C 159.789063 276.882813 169.789063 276.882813 169.789063 283.550781 \"/>\n",
       "<path style=\"fill-rule:nonzero;fill:rgb(100%,0%,0%);fill-opacity:1;stroke-width:1;stroke-linecap:butt;stroke-linejoin:miter;stroke:rgb(0%,0%,0%);stroke-opacity:1;stroke-miterlimit:10;\" d=\"M 262.609375 134.441406 C 262.609375 141.109375 252.609375 141.109375 252.609375 134.441406 C 252.609375 127.777344 262.609375 127.777344 262.609375 134.441406 \"/>\n",
       "<path style=\"fill-rule:nonzero;fill:rgb(100%,0%,0%);fill-opacity:1;stroke-width:1;stroke-linecap:butt;stroke-linejoin:miter;stroke:rgb(0%,0%,0%);stroke-opacity:1;stroke-miterlimit:10;\" d=\"M 247.808594 101.476563 C 247.808594 108.144531 237.808594 108.144531 237.808594 101.476563 C 237.808594 94.808594 247.808594 94.808594 247.808594 101.476563 \"/>\n",
       "<path style=\"fill-rule:nonzero;fill:rgb(100%,0%,0%);fill-opacity:1;stroke-width:1;stroke-linecap:butt;stroke-linejoin:miter;stroke:rgb(0%,0%,0%);stroke-opacity:1;stroke-miterlimit:10;\" d=\"M 114.203125 135.898438 C 114.203125 142.5625 104.203125 142.5625 104.203125 135.898438 C 104.203125 129.230469 114.203125 129.230469 114.203125 135.898438 \"/>\n",
       "<path style=\"fill-rule:nonzero;fill:rgb(100%,0%,0%);fill-opacity:1;stroke-width:1;stroke-linecap:butt;stroke-linejoin:miter;stroke:rgb(0%,0%,0%);stroke-opacity:1;stroke-miterlimit:10;\" d=\"M 135.992188 104.027344 C 135.992188 110.695313 125.992188 110.695313 125.992188 104.027344 C 125.992188 97.359375 135.992188 97.359375 135.992188 104.027344 \"/>\n",
       "<path style=\"fill-rule:nonzero;fill:rgb(100%,0%,0%);fill-opacity:1;stroke-width:1;stroke-linecap:butt;stroke-linejoin:miter;stroke:rgb(0%,0%,0%);stroke-opacity:1;stroke-miterlimit:10;\" d=\"M 322.902344 264.058594 C 322.902344 270.722656 312.902344 270.722656 312.902344 264.058594 C 312.902344 257.390625 322.902344 257.390625 322.902344 264.058594 \"/>\n",
       "<path style=\"fill-rule:nonzero;fill:rgb(100%,0%,0%);fill-opacity:1;stroke-width:1;stroke-linecap:butt;stroke-linejoin:miter;stroke:rgb(0%,0%,0%);stroke-opacity:1;stroke-miterlimit:10;\" d=\"M 320.339844 281.773438 C 320.339844 288.4375 310.339844 288.4375 310.339844 281.773438 C 310.339844 275.105469 320.339844 275.105469 320.339844 281.773438 \"/>\n",
       "<path style=\"fill-rule:nonzero;fill:rgb(100%,0%,0%);fill-opacity:1;stroke-width:1;stroke-linecap:butt;stroke-linejoin:miter;stroke:rgb(0%,0%,0%);stroke-opacity:1;stroke-miterlimit:10;\" d=\"M 269.136719 321.1875 C 269.136719 327.851563 259.136719 327.851563 259.136719 321.1875 C 259.136719 314.519531 269.136719 314.519531 269.136719 321.1875 \"/>\n",
       "<path style=\"fill-rule:nonzero;fill:rgb(100%,0%,0%);fill-opacity:1;stroke-width:1;stroke-linecap:butt;stroke-linejoin:miter;stroke:rgb(0%,0%,0%);stroke-opacity:1;stroke-miterlimit:10;\" d=\"M 288.332031 316.292969 C 288.332031 322.957031 278.332031 322.957031 278.332031 316.292969 C 278.332031 309.625 288.332031 309.625 288.332031 316.292969 \"/>\n",
       "<path style=\"fill-rule:nonzero;fill:rgb(100%,0%,0%);fill-opacity:1;stroke-width:1;stroke-linecap:butt;stroke-linejoin:miter;stroke:rgb(0%,0%,0%);stroke-opacity:1;stroke-miterlimit:10;\" d=\"M 165.929688 224.144531 C 165.929688 230.8125 155.929688 230.8125 155.929688 224.144531 C 155.929688 217.476563 165.929688 217.476563 165.929688 224.144531 \"/>\n",
       "<path style=\"fill-rule:nonzero;fill:rgb(100%,0%,0%);fill-opacity:1;stroke-width:1;stroke-linecap:butt;stroke-linejoin:miter;stroke:rgb(0%,0%,0%);stroke-opacity:1;stroke-miterlimit:10;\" d=\"M 146.175781 240.132813 C 146.175781 246.800781 136.175781 246.800781 136.175781 240.132813 C 136.175781 233.46875 146.175781 233.46875 146.175781 240.132813 \"/>\n",
       "<path style=\"fill-rule:nonzero;fill:rgb(100%,0%,0%);fill-opacity:1;stroke-width:1;stroke-linecap:butt;stroke-linejoin:miter;stroke:rgb(0%,0%,0%);stroke-opacity:1;stroke-miterlimit:10;\" d=\"M 165.554688 307.445313 C 165.554688 314.113281 155.554688 314.113281 155.554688 307.445313 C 155.554688 300.777344 165.554688 300.777344 165.554688 307.445313 \"/>\n",
       "<path style=\"fill-rule:nonzero;fill:rgb(100%,0%,0%);fill-opacity:1;stroke-width:1;stroke-linecap:butt;stroke-linejoin:miter;stroke:rgb(0%,0%,0%);stroke-opacity:1;stroke-miterlimit:10;\" d=\"M 147.339844 296.484375 C 147.339844 303.148438 137.339844 303.148438 137.339844 296.484375 C 137.339844 289.816406 147.339844 289.816406 147.339844 296.484375 \"/>\n",
       "<path style=\"fill-rule:nonzero;fill:rgb(100%,0%,0%);fill-opacity:1;stroke-width:1;stroke-linecap:butt;stroke-linejoin:miter;stroke:rgb(0%,0%,0%);stroke-opacity:1;stroke-miterlimit:10;\" d=\"M 277.007813 147.152344 C 277.007813 153.820313 267.007813 153.820313 267.007813 147.152344 C 267.007813 140.488281 277.007813 140.488281 277.007813 147.152344 \"/>\n",
       "<path style=\"fill-rule:nonzero;fill:rgb(100%,0%,0%);fill-opacity:1;stroke-width:1;stroke-linecap:butt;stroke-linejoin:miter;stroke:rgb(0%,0%,0%);stroke-opacity:1;stroke-miterlimit:10;\" d=\"M 288.167969 129.261719 C 288.167969 135.925781 278.167969 135.925781 278.167969 129.261719 C 278.167969 122.59375 288.167969 122.59375 288.167969 129.261719 \"/>\n",
       "<path style=\"fill-rule:nonzero;fill:rgb(100%,0%,0%);fill-opacity:1;stroke-width:1;stroke-linecap:butt;stroke-linejoin:miter;stroke:rgb(0%,0%,0%);stroke-opacity:1;stroke-miterlimit:10;\" d=\"M 248.816406 77.527344 C 248.816406 84.195313 238.816406 84.195313 238.816406 77.527344 C 238.816406 70.859375 248.816406 70.859375 248.816406 77.527344 \"/>\n",
       "<path style=\"fill-rule:nonzero;fill:rgb(100%,0%,0%);fill-opacity:1;stroke-width:1;stroke-linecap:butt;stroke-linejoin:miter;stroke:rgb(0%,0%,0%);stroke-opacity:1;stroke-miterlimit:10;\" d=\"M 268.507813 85.976563 C 268.507813 92.640625 258.507813 92.640625 258.507813 85.976563 C 258.507813 79.308594 268.507813 79.308594 268.507813 85.976563 \"/>\n",
       "<path style=\"fill-rule:nonzero;fill:rgb(100%,0%,0%);fill-opacity:1;stroke-width:1;stroke-linecap:butt;stroke-linejoin:miter;stroke:rgb(0%,0%,0%);stroke-opacity:1;stroke-miterlimit:10;\" d=\"M 87.554688 128.445313 C 87.554688 135.113281 77.554688 135.113281 77.554688 128.445313 C 77.554688 121.777344 87.554688 121.777344 87.554688 128.445313 \"/>\n",
       "<path style=\"fill-rule:nonzero;fill:rgb(100%,0%,0%);fill-opacity:1;stroke-width:1;stroke-linecap:butt;stroke-linejoin:miter;stroke:rgb(0%,0%,0%);stroke-opacity:1;stroke-miterlimit:10;\" d=\"M 88.378906 145.785156 C 88.378906 152.453125 78.378906 152.453125 78.378906 145.785156 C 78.378906 139.121094 88.378906 139.121094 88.378906 145.785156 \"/>\n",
       "<path style=\"fill-rule:nonzero;fill:rgb(100%,0%,0%);fill-opacity:1;stroke-width:1;stroke-linecap:butt;stroke-linejoin:miter;stroke:rgb(0%,0%,0%);stroke-opacity:1;stroke-miterlimit:10;\" d=\"M 115.460938 87.414063 C 115.460938 94.082031 105.460938 94.082031 105.460938 87.414063 C 105.460938 80.75 115.460938 80.75 115.460938 87.414063 \"/>\n",
       "<path style=\"fill-rule:nonzero;fill:rgb(100%,0%,0%);fill-opacity:1;stroke-width:1;stroke-linecap:butt;stroke-linejoin:miter;stroke:rgb(0%,0%,0%);stroke-opacity:1;stroke-miterlimit:10;\" d=\"M 134.320313 80.402344 C 134.320313 87.070313 124.320313 87.070313 124.320313 80.402344 C 124.320313 73.734375 134.320313 73.734375 134.320313 80.402344 \"/>\n",
       "<path style=\"fill-rule:nonzero;fill:rgb(100%,0%,0%);fill-opacity:1;stroke-width:1;stroke-linecap:butt;stroke-linejoin:miter;stroke:rgb(0%,0%,0%);stroke-opacity:1;stroke-miterlimit:10;\" d=\"M 342.453125 265.167969 C 342.453125 271.835938 332.453125 271.835938 332.453125 265.167969 C 332.453125 258.5 342.453125 258.5 342.453125 265.167969 \"/>\n",
       "<path style=\"fill-rule:nonzero;fill:rgb(100%,0%,0%);fill-opacity:1;stroke-width:1;stroke-linecap:butt;stroke-linejoin:miter;stroke:rgb(0%,0%,0%);stroke-opacity:1;stroke-miterlimit:10;\" d=\"M 338.675781 255.960938 C 338.675781 262.625 328.675781 262.625 328.675781 255.960938 C 328.675781 249.292969 338.675781 249.292969 338.675781 255.960938 \"/>\n",
       "<path style=\"fill-rule:nonzero;fill:rgb(100%,0%,0%);fill-opacity:1;stroke-width:1;stroke-linecap:butt;stroke-linejoin:miter;stroke:rgb(0%,0%,0%);stroke-opacity:1;stroke-miterlimit:10;\" d=\"M 333.246094 294.257813 C 333.246094 300.921875 323.246094 300.921875 323.246094 294.257813 C 323.246094 287.589844 333.246094 287.589844 333.246094 294.257813 \"/>\n",
       "<path style=\"fill-rule:nonzero;fill:rgb(100%,0%,0%);fill-opacity:1;stroke-width:1;stroke-linecap:butt;stroke-linejoin:miter;stroke:rgb(0%,0%,0%);stroke-opacity:1;stroke-miterlimit:10;\" d=\"M 339.277344 286.28125 C 339.277344 292.949219 329.277344 292.949219 329.277344 286.28125 C 329.277344 279.613281 339.277344 279.613281 339.277344 286.28125 \"/>\n",
       "<path style=\"fill-rule:nonzero;fill:rgb(100%,0%,0%);fill-opacity:1;stroke-width:1;stroke-linecap:butt;stroke-linejoin:miter;stroke:rgb(0%,0%,0%);stroke-opacity:1;stroke-miterlimit:10;\" d=\"M 273.1875 338.421875 C 273.1875 345.089844 263.1875 345.089844 263.1875 338.421875 C 263.1875 331.753906 273.1875 331.753906 273.1875 338.421875 \"/>\n",
       "<path style=\"fill-rule:nonzero;fill:rgb(100%,0%,0%);fill-opacity:1;stroke-width:1;stroke-linecap:butt;stroke-linejoin:miter;stroke:rgb(0%,0%,0%);stroke-opacity:1;stroke-miterlimit:10;\" d=\"M 262.382813 336.4375 C 262.382813 343.101563 252.382813 343.101563 252.382813 336.4375 C 252.382813 329.769531 262.382813 329.769531 262.382813 336.4375 \"/>\n",
       "<path style=\"fill-rule:nonzero;fill:rgb(100%,0%,0%);fill-opacity:1;stroke-width:1;stroke-linecap:butt;stroke-linejoin:miter;stroke:rgb(0%,0%,0%);stroke-opacity:1;stroke-miterlimit:10;\" d=\"M 303.746094 326.011719 C 303.746094 332.679688 293.746094 332.679688 293.746094 326.011719 C 293.746094 319.347656 303.746094 319.347656 303.746094 326.011719 \"/>\n",
       "<path style=\"fill-rule:nonzero;fill:rgb(100%,0%,0%);fill-opacity:1;stroke-width:1;stroke-linecap:butt;stroke-linejoin:miter;stroke:rgb(0%,0%,0%);stroke-opacity:1;stroke-miterlimit:10;\" d=\"M 296.066406 332.675781 C 296.066406 339.34375 286.066406 339.34375 286.066406 332.675781 C 286.066406 326.011719 296.066406 326.011719 296.066406 332.675781 \"/>\n",
       "<path style=\"fill-rule:nonzero;fill:rgb(100%,0%,0%);fill-opacity:1;stroke-width:1;stroke-linecap:butt;stroke-linejoin:miter;stroke:rgb(0%,0%,0%);stroke-opacity:1;stroke-miterlimit:10;\" d=\"M 157.738281 211.691406 C 157.738281 218.359375 147.738281 218.359375 147.738281 211.691406 C 147.738281 205.023438 157.738281 205.023438 157.738281 211.691406 \"/>\n",
       "<path style=\"fill-rule:nonzero;fill:rgb(100%,0%,0%);fill-opacity:1;stroke-width:1;stroke-linecap:butt;stroke-linejoin:miter;stroke:rgb(0%,0%,0%);stroke-opacity:1;stroke-miterlimit:10;\" d=\"M 171.878906 212.332031 C 171.878906 218.996094 161.878906 218.996094 161.878906 212.332031 C 161.878906 205.664063 171.878906 205.664063 171.878906 212.332031 \"/>\n",
       "<path style=\"fill-rule:nonzero;fill:rgb(100%,0%,0%);fill-opacity:1;stroke-width:1;stroke-linecap:butt;stroke-linejoin:miter;stroke:rgb(0%,0%,0%);stroke-opacity:1;stroke-miterlimit:10;\" d=\"M 130.878906 245.539063 C 130.878906 252.203125 120.878906 252.203125 120.878906 245.539063 C 120.878906 238.871094 130.878906 238.871094 130.878906 245.539063 \"/>\n",
       "<path style=\"fill-rule:nonzero;fill:rgb(100%,0%,0%);fill-opacity:1;stroke-width:1;stroke-linecap:butt;stroke-linejoin:miter;stroke:rgb(0%,0%,0%);stroke-opacity:1;stroke-miterlimit:10;\" d=\"M 132.042969 232.535156 C 132.042969 239.199219 122.042969 239.199219 122.042969 232.535156 C 122.042969 225.867188 132.042969 225.867188 132.042969 232.535156 \"/>\n",
       "<path style=\"fill-rule:nonzero;fill:rgb(100%,0%,0%);fill-opacity:1;stroke-width:1;stroke-linecap:butt;stroke-linejoin:miter;stroke:rgb(0%,0%,0%);stroke-opacity:1;stroke-miterlimit:10;\" d=\"M 168.3125 323.8125 C 168.3125 330.476563 158.3125 330.476563 158.3125 323.8125 C 158.3125 317.144531 168.3125 317.144531 168.3125 323.8125 \"/>\n",
       "<path style=\"fill-rule:nonzero;fill:rgb(100%,0%,0%);fill-opacity:1;stroke-width:1;stroke-linecap:butt;stroke-linejoin:miter;stroke:rgb(0%,0%,0%);stroke-opacity:1;stroke-miterlimit:10;\" d=\"M 156.976563 323.152344 C 156.976563 329.816406 146.976563 329.816406 146.976563 323.152344 C 146.976563 316.484375 156.976563 316.484375 156.976563 323.152344 \"/>\n",
       "<path style=\"fill-rule:nonzero;fill:rgb(100%,0%,0%);fill-opacity:1;stroke-width:1;stroke-linecap:butt;stroke-linejoin:miter;stroke:rgb(0%,0%,0%);stroke-opacity:1;stroke-miterlimit:10;\" d=\"M 135.019531 310 C 135.019531 316.667969 125.019531 316.667969 125.019531 310 C 125.019531 303.335938 135.019531 303.335938 135.019531 310 \"/>\n",
       "<path style=\"fill-rule:nonzero;fill:rgb(100%,0%,0%);fill-opacity:1;stroke-width:1;stroke-linecap:butt;stroke-linejoin:miter;stroke:rgb(0%,0%,0%);stroke-opacity:1;stroke-miterlimit:10;\" d=\"M 129.53125 300.46875 C 129.53125 307.136719 119.53125 307.136719 119.53125 300.46875 C 119.53125 293.804688 129.53125 293.804688 129.53125 300.46875 \"/>\n",
       "<path style=\"fill-rule:nonzero;fill:rgb(100%,0%,0%);fill-opacity:1;stroke-width:1;stroke-linecap:butt;stroke-linejoin:miter;stroke:rgb(0%,0%,0%);stroke-opacity:1;stroke-miterlimit:10;\" d=\"M 290.675781 158.160156 C 290.675781 164.828125 280.675781 164.828125 280.675781 158.160156 C 280.675781 151.496094 290.675781 151.496094 290.675781 158.160156 \"/>\n",
       "<path style=\"fill-rule:nonzero;fill:rgb(100%,0%,0%);fill-opacity:1;stroke-width:1;stroke-linecap:butt;stroke-linejoin:miter;stroke:rgb(0%,0%,0%);stroke-opacity:1;stroke-miterlimit:10;\" d=\"M 279.886719 155.679688 C 279.886719 162.347656 269.886719 162.347656 269.886719 155.679688 C 269.886719 149.015625 279.886719 149.015625 279.886719 155.679688 \"/>\n",
       "<path style=\"fill-rule:nonzero;fill:rgb(100%,0%,0%);fill-opacity:1;stroke-width:1;stroke-linecap:butt;stroke-linejoin:miter;stroke:rgb(0%,0%,0%);stroke-opacity:1;stroke-miterlimit:10;\" d=\"M 306.796875 131.269531 C 306.796875 137.9375 296.796875 137.9375 296.796875 131.269531 C 296.796875 124.601563 306.796875 124.601563 306.796875 131.269531 \"/>\n",
       "<path style=\"fill-rule:nonzero;fill:rgb(100%,0%,0%);fill-opacity:1;stroke-width:1;stroke-linecap:butt;stroke-linejoin:miter;stroke:rgb(0%,0%,0%);stroke-opacity:1;stroke-miterlimit:10;\" d=\"M 303.714844 120.28125 C 303.714844 126.949219 293.714844 126.949219 293.714844 120.28125 C 293.714844 113.613281 303.714844 113.613281 303.714844 120.28125 \"/>\n",
       "<path style=\"fill-rule:nonzero;fill:rgb(100%,0%,0%);fill-opacity:1;stroke-width:1;stroke-linecap:butt;stroke-linejoin:miter;stroke:rgb(0%,0%,0%);stroke-opacity:1;stroke-miterlimit:10;\" d=\"M 255.363281 61.335938 C 255.363281 68.003906 245.363281 68.003906 245.363281 61.335938 C 245.363281 54.667969 255.363281 54.667969 255.363281 61.335938 \"/>\n",
       "<path style=\"fill-rule:nonzero;fill:rgb(100%,0%,0%);fill-opacity:1;stroke-width:1;stroke-linecap:butt;stroke-linejoin:miter;stroke:rgb(0%,0%,0%);stroke-opacity:1;stroke-miterlimit:10;\" d=\"M 243.886719 61.558594 C 243.886719 68.222656 233.886719 68.222656 233.886719 61.558594 C 233.886719 54.890625 243.886719 54.890625 243.886719 61.558594 \"/>\n",
       "<path style=\"fill-rule:nonzero;fill:rgb(100%,0%,0%);fill-opacity:1;stroke-width:1;stroke-linecap:butt;stroke-linejoin:miter;stroke:rgb(0%,0%,0%);stroke-opacity:1;stroke-miterlimit:10;\" d=\"M 285.753906 79.382813 C 285.753906 86.046875 275.753906 86.046875 275.753906 79.382813 C 275.753906 72.714844 285.753906 72.714844 285.753906 79.382813 \"/>\n",
       "<path style=\"fill-rule:nonzero;fill:rgb(100%,0%,0%);fill-opacity:1;stroke-width:1;stroke-linecap:butt;stroke-linejoin:miter;stroke:rgb(0%,0%,0%);stroke-opacity:1;stroke-miterlimit:10;\" d=\"M 278.984375 71.230469 C 278.984375 77.894531 268.984375 77.894531 268.984375 71.230469 C 268.984375 64.5625 278.984375 64.5625 278.984375 71.230469 \"/>\n",
       "<path style=\"fill-rule:nonzero;fill:rgb(100%,0%,0%);fill-opacity:1;stroke-width:1;stroke-linecap:butt;stroke-linejoin:miter;stroke:rgb(0%,0%,0%);stroke-opacity:1;stroke-miterlimit:10;\" d=\"M 67.53125 127.277344 C 67.53125 133.945313 57.53125 133.945313 57.53125 127.277344 C 57.53125 120.613281 67.53125 120.613281 67.53125 127.277344 \"/>\n",
       "<path style=\"fill-rule:nonzero;fill:rgb(100%,0%,0%);fill-opacity:1;stroke-width:1;stroke-linecap:butt;stroke-linejoin:miter;stroke:rgb(0%,0%,0%);stroke-opacity:1;stroke-miterlimit:10;\" d=\"M 72.085938 118.332031 C 72.085938 125 62.085938 125 62.085938 118.332031 C 62.085938 111.664063 72.085938 111.664063 72.085938 118.332031 \"/>\n",
       "<path style=\"fill-rule:nonzero;fill:rgb(100%,0%,0%);fill-opacity:1;stroke-width:1;stroke-linecap:butt;stroke-linejoin:miter;stroke:rgb(0%,0%,0%);stroke-opacity:1;stroke-miterlimit:10;\" d=\"M 68.332031 148.222656 C 68.332031 154.890625 58.332031 154.890625 58.332031 148.222656 C 58.332031 141.554688 68.332031 141.554688 68.332031 148.222656 \"/>\n",
       "<path style=\"fill-rule:nonzero;fill:rgb(100%,0%,0%);fill-opacity:1;stroke-width:1;stroke-linecap:butt;stroke-linejoin:miter;stroke:rgb(0%,0%,0%);stroke-opacity:1;stroke-miterlimit:10;\" d=\"M 73.660156 156.152344 C 73.660156 162.820313 63.660156 162.820313 63.660156 156.152344 C 63.660156 149.484375 73.660156 149.484375 73.660156 156.152344 \"/>\n",
       "<path style=\"fill-rule:nonzero;fill:rgb(100%,0%,0%);fill-opacity:1;stroke-width:1;stroke-linecap:butt;stroke-linejoin:miter;stroke:rgb(0%,0%,0%);stroke-opacity:1;stroke-miterlimit:10;\" d=\"M 105.015625 72.1875 C 105.015625 78.855469 95.015625 78.855469 95.015625 72.1875 C 95.015625 65.519531 105.015625 65.519531 105.015625 72.1875 \"/>\n",
       "<path style=\"fill-rule:nonzero;fill:rgb(100%,0%,0%);fill-opacity:1;stroke-width:1;stroke-linecap:butt;stroke-linejoin:miter;stroke:rgb(0%,0%,0%);stroke-opacity:1;stroke-miterlimit:10;\" d=\"M 98.445313 79.800781 C 98.445313 86.46875 88.445313 86.46875 88.445313 79.800781 C 88.445313 73.136719 98.445313 73.136719 98.445313 79.800781 \"/>\n",
       "<path style=\"fill-rule:nonzero;fill:rgb(100%,0%,0%);fill-opacity:1;stroke-width:1;stroke-linecap:butt;stroke-linejoin:miter;stroke:rgb(0%,0%,0%);stroke-opacity:1;stroke-miterlimit:10;\" d=\"M 127.601563 64.285156 C 127.601563 70.953125 117.601563 70.953125 117.601563 64.285156 C 117.601563 57.621094 127.601563 57.621094 127.601563 64.285156 \"/>\n",
       "<path style=\"fill-rule:nonzero;fill:rgb(100%,0%,0%);fill-opacity:1;stroke-width:1;stroke-linecap:butt;stroke-linejoin:miter;stroke:rgb(0%,0%,0%);stroke-opacity:1;stroke-miterlimit:10;\" d=\"M 138.835938 64.652344 C 138.835938 71.316406 128.835938 71.316406 128.835938 64.652344 C 128.835938 57.984375 138.835938 57.984375 138.835938 64.652344 \"/>\n",
       "<path style=\"fill-rule:nonzero;fill:rgb(100%,0%,0%);fill-opacity:1;stroke-width:1;stroke-linecap:butt;stroke-linejoin:miter;stroke:rgb(0%,0%,0%);stroke-opacity:1;stroke-miterlimit:10;\" d=\"M 354.175781 268.621094 C 354.175781 275.289063 344.175781 275.289063 344.175781 268.621094 C 344.175781 261.953125 354.175781 261.953125 354.175781 268.621094 \"/>\n",
       "<path style=\"fill-rule:nonzero;fill:rgb(100%,0%,0%);fill-opacity:1;stroke-width:1;stroke-linecap:butt;stroke-linejoin:miter;stroke:rgb(0%,0%,0%);stroke-opacity:1;stroke-miterlimit:10;\" d=\"M 355 263.457031 C 355 270.125 345 270.125 345 263.457031 C 345 256.789063 355 256.789063 355 263.457031 \"/>\n",
       "<path style=\"fill-rule:nonzero;fill:rgb(100%,0%,0%);fill-opacity:1;stroke-width:1;stroke-linecap:butt;stroke-linejoin:miter;stroke:rgb(0%,0%,0%);stroke-opacity:1;stroke-miterlimit:10;\" d=\"M 346.894531 248.941406 C 346.894531 255.609375 336.894531 255.609375 336.894531 248.941406 C 336.894531 242.277344 346.894531 242.277344 346.894531 248.941406 \"/>\n",
       "<path style=\"fill-rule:nonzero;fill:rgb(100%,0%,0%);fill-opacity:1;stroke-width:1;stroke-linecap:butt;stroke-linejoin:miter;stroke:rgb(0%,0%,0%);stroke-opacity:1;stroke-miterlimit:10;\" d=\"M 350.429688 253.535156 C 350.429688 260.203125 340.429688 260.203125 340.429688 253.535156 C 340.429688 246.871094 350.429688 246.871094 350.429688 253.535156 \"/>\n",
       "<path style=\"fill-rule:nonzero;fill:rgb(100%,0%,0%);fill-opacity:1;stroke-width:1;stroke-linecap:butt;stroke-linejoin:miter;stroke:rgb(0%,0%,0%);stroke-opacity:1;stroke-miterlimit:10;\" d=\"M 339.089844 303.644531 C 339.089844 310.3125 329.089844 310.3125 329.089844 303.644531 C 329.089844 296.980469 339.089844 296.980469 339.089844 303.644531 \"/>\n",
       "<path style=\"fill-rule:nonzero;fill:rgb(100%,0%,0%);fill-opacity:1;stroke-width:1;stroke-linecap:butt;stroke-linejoin:miter;stroke:rgb(0%,0%,0%);stroke-opacity:1;stroke-miterlimit:10;\" d=\"M 343.824219 300.453125 C 343.824219 307.121094 333.824219 307.121094 333.824219 300.453125 C 333.824219 293.785156 343.824219 293.785156 343.824219 300.453125 \"/>\n",
       "<path style=\"fill-rule:nonzero;fill:rgb(100%,0%,0%);fill-opacity:1;stroke-width:1;stroke-linecap:butt;stroke-linejoin:miter;stroke:rgb(0%,0%,0%);stroke-opacity:1;stroke-miterlimit:10;\" d=\"M 351.644531 287.011719 C 351.644531 293.679688 341.644531 293.679688 341.644531 287.011719 C 341.644531 280.34375 351.644531 280.34375 351.644531 287.011719 \"/>\n",
       "<path style=\"fill-rule:nonzero;fill:rgb(100%,0%,0%);fill-opacity:1;stroke-width:1;stroke-linecap:butt;stroke-linejoin:miter;stroke:rgb(0%,0%,0%);stroke-opacity:1;stroke-miterlimit:10;\" d=\"M 350.445313 292.125 C 350.445313 298.792969 340.445313 298.792969 340.445313 292.125 C 340.445313 285.460938 350.445313 285.460938 350.445313 292.125 \"/>\n",
       "<path style=\"fill-rule:nonzero;fill:rgb(100%,0%,0%);fill-opacity:1;stroke-width:1;stroke-linecap:butt;stroke-linejoin:miter;stroke:rgb(0%,0%,0%);stroke-opacity:1;stroke-miterlimit:10;\" d=\"M 278.351563 348.558594 C 278.351563 355.226563 268.351563 355.226563 268.351563 348.558594 C 268.351563 341.890625 278.351563 341.890625 278.351563 348.558594 \"/>\n",
       "<path style=\"fill-rule:nonzero;fill:rgb(100%,0%,0%);fill-opacity:1;stroke-width:1;stroke-linecap:butt;stroke-linejoin:miter;stroke:rgb(0%,0%,0%);stroke-opacity:1;stroke-miterlimit:10;\" d=\"M 272.78125 350 C 272.78125 356.667969 262.78125 356.667969 262.78125 350 C 262.78125 343.332031 272.78125 343.332031 272.78125 350 \"/>\n",
       "<path style=\"fill-rule:nonzero;fill:rgb(100%,0%,0%);fill-opacity:1;stroke-width:1;stroke-linecap:butt;stroke-linejoin:miter;stroke:rgb(0%,0%,0%);stroke-opacity:1;stroke-miterlimit:10;\" d=\"M 261.140625 347.460938 C 261.140625 354.125 251.140625 354.125 251.140625 347.460938 C 251.140625 340.792969 261.140625 340.792969 261.140625 347.460938 \"/>\n",
       "<path style=\"fill-rule:nonzero;fill:rgb(100%,0%,0%);fill-opacity:1;stroke-width:1;stroke-linecap:butt;stroke-linejoin:miter;stroke:rgb(0%,0%,0%);stroke-opacity:1;stroke-miterlimit:10;\" d=\"M 255.738281 344.785156 C 255.738281 351.453125 245.738281 351.453125 245.738281 344.785156 C 245.738281 338.121094 255.738281 338.121094 255.738281 344.785156 \"/>\n",
       "<path style=\"fill-rule:nonzero;fill:rgb(100%,0%,0%);fill-opacity:1;stroke-width:1;stroke-linecap:butt;stroke-linejoin:miter;stroke:rgb(0%,0%,0%);stroke-opacity:1;stroke-miterlimit:10;\" d=\"M 314.613281 330.148438 C 314.613281 336.816406 304.613281 336.816406 304.613281 330.148438 C 304.613281 323.484375 314.613281 323.484375 314.613281 330.148438 \"/>\n",
       "<path style=\"fill-rule:nonzero;fill:rgb(100%,0%,0%);fill-opacity:1;stroke-width:1;stroke-linecap:butt;stroke-linejoin:miter;stroke:rgb(0%,0%,0%);stroke-opacity:1;stroke-miterlimit:10;\" d=\"M 311.765625 334.863281 C 311.765625 341.527344 301.765625 341.527344 301.765625 334.863281 C 301.765625 328.195313 311.765625 328.195313 311.765625 334.863281 \"/>\n",
       "<path style=\"fill-rule:nonzero;fill:rgb(100%,0%,0%);fill-opacity:1;stroke-width:1;stroke-linecap:butt;stroke-linejoin:miter;stroke:rgb(0%,0%,0%);stroke-opacity:1;stroke-miterlimit:10;\" d=\"M 303.742188 342 C 303.742188 348.664063 293.742188 348.664063 293.742188 342 C 293.742188 335.332031 303.742188 335.332031 303.742188 342 \"/>\n",
       "<path style=\"fill-rule:nonzero;fill:rgb(100%,0%,0%);fill-opacity:1;stroke-width:1;stroke-linecap:butt;stroke-linejoin:miter;stroke:rgb(0%,0%,0%);stroke-opacity:1;stroke-miterlimit:10;\" d=\"M 298.363281 343.796875 C 298.363281 350.464844 288.363281 350.464844 288.363281 343.796875 C 288.363281 337.132813 298.363281 337.132813 298.363281 343.796875 \"/>\n",
       "<path style=\"fill-rule:nonzero;fill:rgb(100%,0%,0%);fill-opacity:1;stroke-width:1;stroke-linecap:butt;stroke-linejoin:miter;stroke:rgb(0%,0%,0%);stroke-opacity:1;stroke-miterlimit:10;\" d=\"M 156.40625 202.257813 C 156.40625 208.925781 146.40625 208.925781 146.40625 202.257813 C 146.40625 195.589844 156.40625 195.589844 156.40625 202.257813 \"/>\n",
       "<path style=\"fill-rule:nonzero;fill:rgb(100%,0%,0%);fill-opacity:1;stroke-width:1;stroke-linecap:butt;stroke-linejoin:miter;stroke:rgb(0%,0%,0%);stroke-opacity:1;stroke-miterlimit:10;\" d=\"M 150.464844 203.960938 C 150.464844 210.628906 140.464844 210.628906 140.464844 203.960938 C 140.464844 197.292969 150.464844 197.292969 150.464844 203.960938 \"/>\n",
       "<path style=\"fill-rule:nonzero;fill:rgb(100%,0%,0%);fill-opacity:1;stroke-width:1;stroke-linecap:butt;stroke-linejoin:miter;stroke:rgb(0%,0%,0%);stroke-opacity:1;stroke-miterlimit:10;\" d=\"M 172.109375 202.648438 C 172.109375 209.316406 162.109375 209.316406 162.109375 202.648438 C 162.109375 195.980469 172.109375 195.980469 172.109375 202.648438 \"/>\n",
       "<path style=\"fill-rule:nonzero;fill:rgb(100%,0%,0%);fill-opacity:1;stroke-width:1;stroke-linecap:butt;stroke-linejoin:miter;stroke:rgb(0%,0%,0%);stroke-opacity:1;stroke-miterlimit:10;\" d=\"M 178.496094 205.242188 C 178.496094 211.910156 168.496094 211.910156 168.496094 205.242188 C 168.496094 198.578125 178.496094 198.578125 178.496094 205.242188 \"/>\n",
       "<path style=\"fill-rule:nonzero;fill:rgb(100%,0%,0%);fill-opacity:1;stroke-width:1;stroke-linecap:butt;stroke-linejoin:miter;stroke:rgb(0%,0%,0%);stroke-opacity:1;stroke-miterlimit:10;\" d=\"M 122.707031 252.097656 C 122.707031 258.765625 112.707031 258.765625 112.707031 252.097656 C 112.707031 245.429688 122.707031 245.429688 122.707031 252.097656 \"/>\n",
       "<path style=\"fill-rule:nonzero;fill:rgb(100%,0%,0%);fill-opacity:1;stroke-width:1;stroke-linecap:butt;stroke-linejoin:miter;stroke:rgb(0%,0%,0%);stroke-opacity:1;stroke-miterlimit:10;\" d=\"M 119.789063 246.214844 C 119.789063 252.878906 109.789063 252.878906 109.789063 246.214844 C 109.789063 239.546875 119.789063 239.546875 119.789063 246.214844 \"/>\n",
       "<path style=\"fill-rule:nonzero;fill:rgb(100%,0%,0%);fill-opacity:1;stroke-width:1;stroke-linecap:butt;stroke-linejoin:miter;stroke:rgb(0%,0%,0%);stroke-opacity:1;stroke-miterlimit:10;\" d=\"M 124.667969 225.917969 C 124.667969 232.585938 114.667969 232.585938 114.667969 225.917969 C 114.667969 219.25 124.667969 219.25 124.667969 225.917969 \"/>\n",
       "<path style=\"fill-rule:nonzero;fill:rgb(100%,0%,0%);fill-opacity:1;stroke-width:1;stroke-linecap:butt;stroke-linejoin:miter;stroke:rgb(0%,0%,0%);stroke-opacity:1;stroke-miterlimit:10;\" d=\"M 121.179688 230.539063 C 121.179688 237.207031 111.179688 237.207031 111.179688 230.539063 C 111.179688 223.875 121.179688 223.875 121.179688 230.539063 \"/>\n",
       "<path style=\"fill-rule:nonzero;fill:rgb(100%,0%,0%);fill-opacity:1;stroke-width:1;stroke-linecap:butt;stroke-linejoin:miter;stroke:rgb(0%,0%,0%);stroke-opacity:1;stroke-miterlimit:10;\" d=\"M 166.738281 334.785156 C 166.738281 341.449219 156.738281 341.449219 156.738281 334.785156 C 156.738281 328.117188 166.738281 328.117188 166.738281 334.785156 \"/>\n",
       "<path style=\"fill-rule:nonzero;fill:rgb(100%,0%,0%);fill-opacity:1;stroke-width:1;stroke-linecap:butt;stroke-linejoin:miter;stroke:rgb(0%,0%,0%);stroke-opacity:1;stroke-miterlimit:10;\" d=\"M 172.738281 333.34375 C 172.738281 340.007813 162.738281 340.007813 162.738281 333.34375 C 162.738281 326.675781 172.738281 326.675781 172.738281 333.34375 \"/>\n",
       "<path style=\"fill-rule:nonzero;fill:rgb(100%,0%,0%);fill-opacity:1;stroke-width:1;stroke-linecap:butt;stroke-linejoin:miter;stroke:rgb(0%,0%,0%);stroke-opacity:1;stroke-miterlimit:10;\" d=\"M 154.332031 334.335938 C 154.332031 341 144.332031 341 144.332031 334.335938 C 144.332031 327.667969 154.332031 327.667969 154.332031 334.335938 \"/>\n",
       "<path style=\"fill-rule:nonzero;fill:rgb(100%,0%,0%);fill-opacity:1;stroke-width:1;stroke-linecap:butt;stroke-linejoin:miter;stroke:rgb(0%,0%,0%);stroke-opacity:1;stroke-miterlimit:10;\" d=\"M 149.1875 331.734375 C 149.1875 338.402344 139.1875 338.402344 139.1875 331.734375 C 139.1875 325.066406 149.1875 325.066406 149.1875 331.734375 \"/>\n",
       "<path style=\"fill-rule:nonzero;fill:rgb(100%,0%,0%);fill-opacity:1;stroke-width:1;stroke-linecap:butt;stroke-linejoin:miter;stroke:rgb(0%,0%,0%);stroke-opacity:1;stroke-miterlimit:10;\" d=\"M 124.84375 316.800781 C 124.84375 323.46875 114.84375 323.46875 114.84375 316.800781 C 114.84375 310.136719 124.84375 310.136719 124.84375 316.800781 \"/>\n",
       "<path style=\"fill-rule:nonzero;fill:rgb(100%,0%,0%);fill-opacity:1;stroke-width:1;stroke-linecap:butt;stroke-linejoin:miter;stroke:rgb(0%,0%,0%);stroke-opacity:1;stroke-miterlimit:10;\" d=\"M 129.644531 319.917969 C 129.644531 326.582031 119.644531 326.582031 119.644531 319.917969 C 119.644531 313.25 129.644531 313.25 129.644531 319.917969 \"/>\n",
       "<path style=\"fill-rule:nonzero;fill:rgb(100%,0%,0%);fill-opacity:1;stroke-width:1;stroke-linecap:butt;stroke-linejoin:miter;stroke:rgb(0%,0%,0%);stroke-opacity:1;stroke-miterlimit:10;\" d=\"M 117.921875 301.046875 C 117.921875 307.710938 107.921875 307.710938 107.921875 301.046875 C 107.921875 294.378906 117.921875 294.378906 117.921875 301.046875 \"/>\n",
       "<path style=\"fill-rule:nonzero;fill:rgb(100%,0%,0%);fill-opacity:1;stroke-width:1;stroke-linecap:butt;stroke-linejoin:miter;stroke:rgb(0%,0%,0%);stroke-opacity:1;stroke-miterlimit:10;\" d=\"M 119.234375 306.488281 C 119.234375 313.15625 109.234375 313.15625 109.234375 306.488281 C 109.234375 299.824219 119.234375 299.824219 119.234375 306.488281 \"/>\n",
       "<path style=\"fill-rule:nonzero;fill:rgb(100%,0%,0%);fill-opacity:1;stroke-width:1;stroke-linecap:butt;stroke-linejoin:miter;stroke:rgb(0%,0%,0%);stroke-opacity:1;stroke-miterlimit:10;\" d=\"M 299.503906 167.398438 C 299.503906 174.066406 289.503906 174.066406 289.503906 167.398438 C 289.503906 160.730469 299.503906 160.730469 299.503906 167.398438 \"/>\n",
       "<path style=\"fill-rule:nonzero;fill:rgb(100%,0%,0%);fill-opacity:1;stroke-width:1;stroke-linecap:butt;stroke-linejoin:miter;stroke:rgb(0%,0%,0%);stroke-opacity:1;stroke-miterlimit:10;\" d=\"M 295.816406 165.429688 C 295.816406 172.097656 285.816406 172.097656 285.816406 165.429688 C 285.816406 158.761719 295.816406 158.761719 295.816406 165.429688 \"/>\n",
       "<path style=\"fill-rule:nonzero;fill:rgb(100%,0%,0%);fill-opacity:1;stroke-width:1;stroke-linecap:butt;stroke-linejoin:miter;stroke:rgb(0%,0%,0%);stroke-opacity:1;stroke-miterlimit:10;\" d=\"M 275.648438 160.589844 C 275.648438 167.257813 265.648438 167.257813 265.648438 160.589844 C 265.648438 153.925781 275.648438 153.925781 275.648438 160.589844 \"/>\n",
       "<path style=\"fill-rule:nonzero;fill:rgb(100%,0%,0%);fill-opacity:1;stroke-width:1;stroke-linecap:butt;stroke-linejoin:miter;stroke:rgb(0%,0%,0%);stroke-opacity:1;stroke-miterlimit:10;\" d=\"M 283.769531 162.96875 C 283.769531 169.636719 273.769531 169.636719 273.769531 162.96875 C 273.769531 156.304688 283.769531 156.304688 283.769531 162.96875 \"/>\n",
       "<path style=\"fill-rule:nonzero;fill:rgb(100%,0%,0%);fill-opacity:1;stroke-width:1;stroke-linecap:butt;stroke-linejoin:miter;stroke:rgb(0%,0%,0%);stroke-opacity:1;stroke-miterlimit:10;\" d=\"M 318.738281 128.832031 C 318.738281 135.5 308.738281 135.5 308.738281 128.832031 C 308.738281 122.167969 318.738281 122.167969 318.738281 128.832031 \"/>\n",
       "<path style=\"fill-rule:nonzero;fill:rgb(100%,0%,0%);fill-opacity:1;stroke-width:1;stroke-linecap:butt;stroke-linejoin:miter;stroke:rgb(0%,0%,0%);stroke-opacity:1;stroke-miterlimit:10;\" d=\"M 318.058594 134.578125 C 318.058594 141.242188 308.058594 141.242188 308.058594 134.578125 C 308.058594 127.910156 318.058594 127.910156 318.058594 134.578125 \"/>\n",
       "<path style=\"fill-rule:nonzero;fill:rgb(100%,0%,0%);fill-opacity:1;stroke-width:1;stroke-linecap:butt;stroke-linejoin:miter;stroke:rgb(0%,0%,0%);stroke-opacity:1;stroke-miterlimit:10;\" d=\"M 315.3125 116.949219 C 315.3125 123.617188 305.3125 123.617188 305.3125 116.949219 C 305.3125 110.28125 315.3125 110.28125 315.3125 116.949219 \"/>\n",
       "<path style=\"fill-rule:nonzero;fill:rgb(100%,0%,0%);fill-opacity:1;stroke-width:1;stroke-linecap:butt;stroke-linejoin:miter;stroke:rgb(0%,0%,0%);stroke-opacity:1;stroke-miterlimit:10;\" d=\"M 311.554688 112.292969 C 311.554688 118.960938 301.554688 118.960938 301.554688 112.292969 C 301.554688 105.628906 311.554688 105.628906 311.554688 112.292969 \"/>\n",
       "<path style=\"fill-rule:nonzero;fill:rgb(100%,0%,0%);fill-opacity:1;stroke-width:1;stroke-linecap:butt;stroke-linejoin:miter;stroke:rgb(0%,0%,0%);stroke-opacity:1;stroke-miterlimit:10;\" d=\"M 256.535156 50 C 256.535156 56.667969 246.535156 56.667969 246.535156 50 C 246.535156 43.332031 256.535156 43.332031 256.535156 50 \"/>\n",
       "<path style=\"fill-rule:nonzero;fill:rgb(100%,0%,0%);fill-opacity:1;stroke-width:1;stroke-linecap:butt;stroke-linejoin:miter;stroke:rgb(0%,0%,0%);stroke-opacity:1;stroke-miterlimit:10;\" d=\"M 261.96875 52.089844 C 261.96875 58.757813 251.96875 58.757813 251.96875 52.089844 C 251.96875 45.421875 261.96875 45.421875 261.96875 52.089844 \"/>\n",
       "<path style=\"fill-rule:nonzero;fill:rgb(100%,0%,0%);fill-opacity:1;stroke-width:1;stroke-linecap:butt;stroke-linejoin:miter;stroke:rgb(0%,0%,0%);stroke-opacity:1;stroke-miterlimit:10;\" d=\"M 238.21875 52.484375 C 238.21875 59.152344 228.21875 59.152344 228.21875 52.484375 C 228.21875 45.820313 238.21875 45.820313 238.21875 52.484375 \"/>\n",
       "<path style=\"fill-rule:nonzero;fill:rgb(100%,0%,0%);fill-opacity:1;stroke-width:1;stroke-linecap:butt;stroke-linejoin:miter;stroke:rgb(0%,0%,0%);stroke-opacity:1;stroke-miterlimit:10;\" d=\"M 244.035156 50.511719 C 244.035156 57.179688 234.035156 57.179688 234.035156 50.511719 C 234.035156 43.84375 244.035156 43.84375 244.035156 50.511719 \"/>\n",
       "<path style=\"fill-rule:nonzero;fill:rgb(100%,0%,0%);fill-opacity:1;stroke-width:1;stroke-linecap:butt;stroke-linejoin:miter;stroke:rgb(0%,0%,0%);stroke-opacity:1;stroke-miterlimit:10;\" d=\"M 297.285156 77.042969 C 297.285156 83.710938 287.285156 83.710938 287.285156 77.042969 C 287.285156 70.375 297.285156 70.375 297.285156 77.042969 \"/>\n",
       "<path style=\"fill-rule:nonzero;fill:rgb(100%,0%,0%);fill-opacity:1;stroke-width:1;stroke-linecap:butt;stroke-linejoin:miter;stroke:rgb(0%,0%,0%);stroke-opacity:1;stroke-miterlimit:10;\" d=\"M 295.164063 72.007813 C 295.164063 78.675781 285.164063 78.675781 285.164063 72.007813 C 285.164063 65.339844 295.164063 65.339844 295.164063 72.007813 \"/>\n",
       "<path style=\"fill-rule:nonzero;fill:rgb(100%,0%,0%);fill-opacity:1;stroke-width:1;stroke-linecap:butt;stroke-linejoin:miter;stroke:rgb(0%,0%,0%);stroke-opacity:1;stroke-miterlimit:10;\" d=\"M 288.066406 63.203125 C 288.066406 69.871094 278.066406 69.871094 278.066406 63.203125 C 278.066406 56.535156 288.066406 56.535156 288.066406 63.203125 \"/>\n",
       "<path style=\"fill-rule:nonzero;fill:rgb(100%,0%,0%);fill-opacity:1;stroke-width:1;stroke-linecap:butt;stroke-linejoin:miter;stroke:rgb(0%,0%,0%);stroke-opacity:1;stroke-miterlimit:10;\" d=\"M 282.917969 60.511719 C 282.917969 67.179688 272.917969 67.179688 272.917969 60.511719 C 272.917969 53.84375 282.917969 53.84375 282.917969 60.511719 \"/>\n",
       "<path style=\"fill-rule:nonzero;fill:rgb(100%,0%,0%);fill-opacity:1;stroke-width:1;stroke-linecap:butt;stroke-linejoin:miter;stroke:rgb(0%,0%,0%);stroke-opacity:1;stroke-miterlimit:10;\" d=\"M 55.382813 123.1875 C 55.382813 129.855469 45.382813 129.855469 45.382813 123.1875 C 45.382813 116.519531 55.382813 116.519531 55.382813 123.1875 \"/>\n",
       "<path style=\"fill-rule:nonzero;fill:rgb(100%,0%,0%);fill-opacity:1;stroke-width:1;stroke-linecap:butt;stroke-linejoin:miter;stroke:rgb(0%,0%,0%);stroke-opacity:1;stroke-miterlimit:10;\" d=\"M 55 128.332031 C 55 134.996094 45 134.996094 45 128.332031 C 45 121.664063 55 121.664063 55 128.332031 \"/>\n",
       "<path style=\"fill-rule:nonzero;fill:rgb(100%,0%,0%);fill-opacity:1;stroke-width:1;stroke-linecap:butt;stroke-linejoin:miter;stroke:rgb(0%,0%,0%);stroke-opacity:1;stroke-miterlimit:10;\" d=\"M 60.484375 113.78125 C 60.484375 120.449219 50.484375 120.449219 50.484375 113.78125 C 50.484375 107.117188 60.484375 107.117188 60.484375 113.78125 \"/>\n",
       "<path style=\"fill-rule:nonzero;fill:rgb(100%,0%,0%);fill-opacity:1;stroke-width:1;stroke-linecap:butt;stroke-linejoin:miter;stroke:rgb(0%,0%,0%);stroke-opacity:1;stroke-miterlimit:10;\" d=\"M 64.617188 109.800781 C 64.617188 116.46875 54.617188 116.46875 54.617188 109.800781 C 54.617188 103.136719 64.617188 103.136719 64.617188 109.800781 \"/>\n",
       "<path style=\"fill-rule:nonzero;fill:rgb(100%,0%,0%);fill-opacity:1;stroke-width:1;stroke-linecap:butt;stroke-linejoin:miter;stroke:rgb(0%,0%,0%);stroke-opacity:1;stroke-miterlimit:10;\" d=\"M 55.890625 146.726563 C 55.890625 153.394531 45.890625 153.394531 45.890625 146.726563 C 45.890625 140.058594 55.890625 140.058594 55.890625 146.726563 \"/>\n",
       "<path style=\"fill-rule:nonzero;fill:rgb(100%,0%,0%);fill-opacity:1;stroke-width:1;stroke-linecap:butt;stroke-linejoin:miter;stroke:rgb(0%,0%,0%);stroke-opacity:1;stroke-miterlimit:10;\" d=\"M 56 151.824219 C 56 158.492188 46 158.492188 46 151.824219 C 46 145.160156 56 145.160156 56 151.824219 \"/>\n",
       "<path style=\"fill-rule:nonzero;fill:rgb(100%,0%,0%);fill-opacity:1;stroke-width:1;stroke-linecap:butt;stroke-linejoin:miter;stroke:rgb(0%,0%,0%);stroke-opacity:1;stroke-miterlimit:10;\" d=\"M 62.21875 160.285156 C 62.21875 166.953125 52.21875 166.953125 52.21875 160.285156 C 52.21875 153.621094 62.21875 153.621094 62.21875 160.285156 \"/>\n",
       "<path style=\"fill-rule:nonzero;fill:rgb(100%,0%,0%);fill-opacity:1;stroke-width:1;stroke-linecap:butt;stroke-linejoin:miter;stroke:rgb(0%,0%,0%);stroke-opacity:1;stroke-miterlimit:10;\" d=\"M 66.441406 164.148438 C 66.441406 170.8125 56.441406 170.8125 56.441406 164.148438 C 56.441406 157.480469 66.441406 157.480469 66.441406 164.148438 \"/>\n",
       "<path style=\"fill-rule:nonzero;fill:rgb(100%,0%,0%);fill-opacity:1;stroke-width:1;stroke-linecap:butt;stroke-linejoin:miter;stroke:rgb(0%,0%,0%);stroke-opacity:1;stroke-miterlimit:10;\" d=\"M 95.9375 63.820313 C 95.9375 70.488281 85.9375 70.488281 85.9375 63.820313 C 85.9375 57.15625 95.9375 57.15625 95.9375 63.820313 \"/>\n",
       "<path style=\"fill-rule:nonzero;fill:rgb(100%,0%,0%);fill-opacity:1;stroke-width:1;stroke-linecap:butt;stroke-linejoin:miter;stroke:rgb(0%,0%,0%);stroke-opacity:1;stroke-miterlimit:10;\" d=\"M 101.019531 61.40625 C 101.019531 68.070313 91.019531 68.070313 91.019531 61.40625 C 91.019531 54.738281 101.019531 54.738281 101.019531 61.40625 \"/>\n",
       "<path style=\"fill-rule:nonzero;fill:rgb(100%,0%,0%);fill-opacity:1;stroke-width:1;stroke-linecap:butt;stroke-linejoin:miter;stroke:rgb(0%,0%,0%);stroke-opacity:1;stroke-miterlimit:10;\" d=\"M 89.085938 72.140625 C 89.085938 78.808594 79.085938 78.808594 79.085938 72.140625 C 79.085938 65.472656 89.085938 65.472656 89.085938 72.140625 \"/>\n",
       "<path style=\"fill-rule:nonzero;fill:rgb(100%,0%,0%);fill-opacity:1;stroke-width:1;stroke-linecap:butt;stroke-linejoin:miter;stroke:rgb(0%,0%,0%);stroke-opacity:1;stroke-miterlimit:10;\" d=\"M 86.960938 77.175781 C 86.960938 83.84375 76.960938 83.84375 76.960938 77.175781 C 76.960938 70.507813 86.960938 70.507813 86.960938 77.175781 \"/>\n",
       "<path style=\"fill-rule:nonzero;fill:rgb(100%,0%,0%);fill-opacity:1;stroke-width:1;stroke-linecap:butt;stroke-linejoin:miter;stroke:rgb(0%,0%,0%);stroke-opacity:1;stroke-miterlimit:10;\" d=\"M 126.300781 53.09375 C 126.300781 59.761719 116.300781 59.761719 116.300781 53.09375 C 116.300781 46.429688 126.300781 46.429688 126.300781 53.09375 \"/>\n",
       "<path style=\"fill-rule:nonzero;fill:rgb(100%,0%,0%);fill-opacity:1;stroke-width:1;stroke-linecap:butt;stroke-linejoin:miter;stroke:rgb(0%,0%,0%);stroke-opacity:1;stroke-miterlimit:10;\" d=\"M 120.921875 55.050781 C 120.921875 61.71875 110.921875 61.71875 110.921875 55.050781 C 110.921875 48.386719 120.921875 48.386719 120.921875 55.050781 \"/>\n",
       "<path style=\"fill-rule:nonzero;fill:rgb(100%,0%,0%);fill-opacity:1;stroke-width:1;stroke-linecap:butt;stroke-linejoin:miter;stroke:rgb(0%,0%,0%);stroke-opacity:1;stroke-miterlimit:10;\" d=\"M 144.289063 55.707031 C 144.289063 62.375 134.289063 62.375 134.289063 55.707031 C 134.289063 49.042969 144.289063 49.042969 144.289063 55.707031 \"/>\n",
       "<path style=\"fill-rule:nonzero;fill:rgb(100%,0%,0%);fill-opacity:1;stroke-width:1;stroke-linecap:butt;stroke-linejoin:miter;stroke:rgb(0%,0%,0%);stroke-opacity:1;stroke-miterlimit:10;\" d=\"M 138.453125 53.75 C 138.453125 60.417969 128.453125 60.417969 128.453125 53.75 C 128.453125 47.085938 138.453125 47.085938 138.453125 53.75 \"/>\n",
       "</g>\n",
       "</svg>\n"
      ],
      "text/plain": [
       "<igraph.drawing.Plot at 0x2aeb65f7160>"
      ]
     },
     "execution_count": 18,
     "metadata": {
      "image/svg+xml": {
       "isolated": true
      }
     },
     "output_type": "execute_result"
    }
   ],
   "source": [
    "ig.plot(G,bbox=(400,400),margin=50,vertex_size=10)"
   ]
  },
  {
   "cell_type": "code",
   "execution_count": 19,
   "id": "97a385a1",
   "metadata": {},
   "outputs": [
    {
     "data": {
      "image/svg+xml": [
       "<?xml version=\"1.0\" encoding=\"UTF-8\"?>\n",
       "<svg xmlns=\"http://www.w3.org/2000/svg\" xmlns:xlink=\"http://www.w3.org/1999/xlink\" width=\"400pt\" height=\"400pt\" viewBox=\"0 0 400 400\" version=\"1.1\">\n",
       "<g id=\"surface14\">\n",
       "<rect x=\"0\" y=\"0\" width=\"400\" height=\"400\" style=\"fill:rgb(100%,100%,100%);fill-opacity:1;stroke:none;\"/>\n",
       "<path style=\"fill:none;stroke-width:1;stroke-linecap:butt;stroke-linejoin:miter;stroke:rgb(26.666667%,26.666667%,26.666667%);stroke-opacity:1;stroke-miterlimit:10;\" d=\"M 300.753906 310.894531 L 350 218.121094 \"/>\n",
       "<path style=\"fill:none;stroke-width:1;stroke-linecap:butt;stroke-linejoin:miter;stroke:rgb(26.666667%,26.666667%,26.666667%);stroke-opacity:1;stroke-miterlimit:10;\" d=\"M 300.753906 310.894531 L 328.667969 115.085938 \"/>\n",
       "<path style=\"fill:none;stroke-width:1;stroke-linecap:butt;stroke-linejoin:miter;stroke:rgb(26.666667%,26.666667%,26.666667%);stroke-opacity:1;stroke-miterlimit:10;\" d=\"M 300.753906 310.894531 L 203.972656 350 \"/>\n",
       "<path style=\"fill:none;stroke-width:1;stroke-linecap:butt;stroke-linejoin:miter;stroke:rgb(26.666667%,26.666667%,26.666667%);stroke-opacity:1;stroke-miterlimit:10;\" d=\"M 300.753906 310.894531 L 104.941406 317.136719 \"/>\n",
       "<path style=\"fill:none;stroke-width:1;stroke-linecap:butt;stroke-linejoin:miter;stroke:rgb(26.666667%,26.666667%,26.666667%);stroke-opacity:1;stroke-miterlimit:10;\" d=\"M 300.753906 310.894531 L 50 227.679688 \"/>\n",
       "<path style=\"fill:none;stroke-width:1;stroke-linecap:butt;stroke-linejoin:miter;stroke:rgb(26.666667%,26.666667%,26.666667%);stroke-opacity:1;stroke-miterlimit:10;\" d=\"M 300.753906 310.894531 L 64.855469 123.492188 \"/>\n",
       "<path style=\"fill:none;stroke-width:1;stroke-linecap:butt;stroke-linejoin:miter;stroke:rgb(26.666667%,26.666667%,26.666667%);stroke-opacity:1;stroke-miterlimit:10;\" d=\"M 300.753906 310.894531 L 142.554688 53.320313 \"/>\n",
       "<path style=\"fill:none;stroke-width:1;stroke-linecap:butt;stroke-linejoin:miter;stroke:rgb(26.666667%,26.666667%,26.666667%);stroke-opacity:1;stroke-miterlimit:10;\" d=\"M 300.753906 310.894531 L 246.742188 50 \"/>\n",
       "<path style=\"fill:none;stroke-width:1;stroke-linecap:butt;stroke-linejoin:miter;stroke:rgb(26.666667%,26.666667%,26.666667%);stroke-opacity:1;stroke-miterlimit:10;\" d=\"M 300.753906 310.894531 L 199.164063 196.191406 \"/>\n",
       "<path style=\"fill:none;stroke-width:1;stroke-linecap:butt;stroke-linejoin:miter;stroke:rgb(26.666667%,26.666667%,26.666667%);stroke-opacity:1;stroke-miterlimit:10;\" d=\"M 350 218.121094 L 328.667969 115.085938 \"/>\n",
       "<path style=\"fill:none;stroke-width:1;stroke-linecap:butt;stroke-linejoin:miter;stroke:rgb(26.666667%,26.666667%,26.666667%);stroke-opacity:1;stroke-miterlimit:10;\" d=\"M 350 218.121094 L 203.972656 350 \"/>\n",
       "<path style=\"fill:none;stroke-width:1;stroke-linecap:butt;stroke-linejoin:miter;stroke:rgb(26.666667%,26.666667%,26.666667%);stroke-opacity:1;stroke-miterlimit:10;\" d=\"M 350 218.121094 L 104.941406 317.136719 \"/>\n",
       "<path style=\"fill:none;stroke-width:1;stroke-linecap:butt;stroke-linejoin:miter;stroke:rgb(26.666667%,26.666667%,26.666667%);stroke-opacity:1;stroke-miterlimit:10;\" d=\"M 350 218.121094 L 50 227.679688 \"/>\n",
       "<path style=\"fill:none;stroke-width:1;stroke-linecap:butt;stroke-linejoin:miter;stroke:rgb(26.666667%,26.666667%,26.666667%);stroke-opacity:1;stroke-miterlimit:10;\" d=\"M 350 218.121094 L 64.855469 123.492188 \"/>\n",
       "<path style=\"fill:none;stroke-width:1;stroke-linecap:butt;stroke-linejoin:miter;stroke:rgb(26.666667%,26.666667%,26.666667%);stroke-opacity:1;stroke-miterlimit:10;\" d=\"M 350 218.121094 L 142.554688 53.320313 \"/>\n",
       "<path style=\"fill:none;stroke-width:1;stroke-linecap:butt;stroke-linejoin:miter;stroke:rgb(26.666667%,26.666667%,26.666667%);stroke-opacity:1;stroke-miterlimit:10;\" d=\"M 350 218.121094 L 246.742188 50 \"/>\n",
       "<path style=\"fill:none;stroke-width:1;stroke-linecap:butt;stroke-linejoin:miter;stroke:rgb(26.666667%,26.666667%,26.666667%);stroke-opacity:1;stroke-miterlimit:10;\" d=\"M 350 218.121094 L 199.164063 196.191406 \"/>\n",
       "<path style=\"fill:none;stroke-width:1;stroke-linecap:butt;stroke-linejoin:miter;stroke:rgb(26.666667%,26.666667%,26.666667%);stroke-opacity:1;stroke-miterlimit:10;\" d=\"M 328.667969 115.085938 L 203.972656 350 \"/>\n",
       "<path style=\"fill:none;stroke-width:1;stroke-linecap:butt;stroke-linejoin:miter;stroke:rgb(26.666667%,26.666667%,26.666667%);stroke-opacity:1;stroke-miterlimit:10;\" d=\"M 328.667969 115.085938 L 104.941406 317.136719 \"/>\n",
       "<path style=\"fill:none;stroke-width:1;stroke-linecap:butt;stroke-linejoin:miter;stroke:rgb(26.666667%,26.666667%,26.666667%);stroke-opacity:1;stroke-miterlimit:10;\" d=\"M 328.667969 115.085938 L 50 227.679688 \"/>\n",
       "<path style=\"fill:none;stroke-width:1;stroke-linecap:butt;stroke-linejoin:miter;stroke:rgb(26.666667%,26.666667%,26.666667%);stroke-opacity:1;stroke-miterlimit:10;\" d=\"M 328.667969 115.085938 L 64.855469 123.492188 \"/>\n",
       "<path style=\"fill:none;stroke-width:1;stroke-linecap:butt;stroke-linejoin:miter;stroke:rgb(26.666667%,26.666667%,26.666667%);stroke-opacity:1;stroke-miterlimit:10;\" d=\"M 328.667969 115.085938 L 142.554688 53.320313 \"/>\n",
       "<path style=\"fill:none;stroke-width:1;stroke-linecap:butt;stroke-linejoin:miter;stroke:rgb(26.666667%,26.666667%,26.666667%);stroke-opacity:1;stroke-miterlimit:10;\" d=\"M 328.667969 115.085938 L 246.742188 50 \"/>\n",
       "<path style=\"fill:none;stroke-width:1;stroke-linecap:butt;stroke-linejoin:miter;stroke:rgb(26.666667%,26.666667%,26.666667%);stroke-opacity:1;stroke-miterlimit:10;\" d=\"M 328.667969 115.085938 L 199.164063 196.191406 \"/>\n",
       "<path style=\"fill:none;stroke-width:1;stroke-linecap:butt;stroke-linejoin:miter;stroke:rgb(26.666667%,26.666667%,26.666667%);stroke-opacity:1;stroke-miterlimit:10;\" d=\"M 203.972656 350 L 104.941406 317.136719 \"/>\n",
       "<path style=\"fill:none;stroke-width:1;stroke-linecap:butt;stroke-linejoin:miter;stroke:rgb(26.666667%,26.666667%,26.666667%);stroke-opacity:1;stroke-miterlimit:10;\" d=\"M 203.972656 350 L 50 227.679688 \"/>\n",
       "<path style=\"fill:none;stroke-width:1;stroke-linecap:butt;stroke-linejoin:miter;stroke:rgb(26.666667%,26.666667%,26.666667%);stroke-opacity:1;stroke-miterlimit:10;\" d=\"M 203.972656 350 L 64.855469 123.492188 \"/>\n",
       "<path style=\"fill:none;stroke-width:1;stroke-linecap:butt;stroke-linejoin:miter;stroke:rgb(26.666667%,26.666667%,26.666667%);stroke-opacity:1;stroke-miterlimit:10;\" d=\"M 203.972656 350 L 142.554688 53.320313 \"/>\n",
       "<path style=\"fill:none;stroke-width:1;stroke-linecap:butt;stroke-linejoin:miter;stroke:rgb(26.666667%,26.666667%,26.666667%);stroke-opacity:1;stroke-miterlimit:10;\" d=\"M 203.972656 350 L 246.742188 50 \"/>\n",
       "<path style=\"fill:none;stroke-width:1;stroke-linecap:butt;stroke-linejoin:miter;stroke:rgb(26.666667%,26.666667%,26.666667%);stroke-opacity:1;stroke-miterlimit:10;\" d=\"M 203.972656 350 L 199.164063 196.191406 \"/>\n",
       "<path style=\"fill:none;stroke-width:1;stroke-linecap:butt;stroke-linejoin:miter;stroke:rgb(26.666667%,26.666667%,26.666667%);stroke-opacity:1;stroke-miterlimit:10;\" d=\"M 104.941406 317.136719 L 50 227.679688 \"/>\n",
       "<path style=\"fill:none;stroke-width:1;stroke-linecap:butt;stroke-linejoin:miter;stroke:rgb(26.666667%,26.666667%,26.666667%);stroke-opacity:1;stroke-miterlimit:10;\" d=\"M 104.941406 317.136719 L 64.855469 123.492188 \"/>\n",
       "<path style=\"fill:none;stroke-width:1;stroke-linecap:butt;stroke-linejoin:miter;stroke:rgb(26.666667%,26.666667%,26.666667%);stroke-opacity:1;stroke-miterlimit:10;\" d=\"M 104.941406 317.136719 L 142.554688 53.320313 \"/>\n",
       "<path style=\"fill:none;stroke-width:1;stroke-linecap:butt;stroke-linejoin:miter;stroke:rgb(26.666667%,26.666667%,26.666667%);stroke-opacity:1;stroke-miterlimit:10;\" d=\"M 104.941406 317.136719 L 246.742188 50 \"/>\n",
       "<path style=\"fill:none;stroke-width:1;stroke-linecap:butt;stroke-linejoin:miter;stroke:rgb(26.666667%,26.666667%,26.666667%);stroke-opacity:1;stroke-miterlimit:10;\" d=\"M 104.941406 317.136719 L 199.164063 196.191406 \"/>\n",
       "<path style=\"fill:none;stroke-width:1;stroke-linecap:butt;stroke-linejoin:miter;stroke:rgb(26.666667%,26.666667%,26.666667%);stroke-opacity:1;stroke-miterlimit:10;\" d=\"M 50 227.679688 L 64.855469 123.492188 \"/>\n",
       "<path style=\"fill:none;stroke-width:1;stroke-linecap:butt;stroke-linejoin:miter;stroke:rgb(26.666667%,26.666667%,26.666667%);stroke-opacity:1;stroke-miterlimit:10;\" d=\"M 50 227.679688 L 142.554688 53.320313 \"/>\n",
       "<path style=\"fill:none;stroke-width:1;stroke-linecap:butt;stroke-linejoin:miter;stroke:rgb(26.666667%,26.666667%,26.666667%);stroke-opacity:1;stroke-miterlimit:10;\" d=\"M 50 227.679688 L 246.742188 50 \"/>\n",
       "<path style=\"fill:none;stroke-width:1;stroke-linecap:butt;stroke-linejoin:miter;stroke:rgb(26.666667%,26.666667%,26.666667%);stroke-opacity:1;stroke-miterlimit:10;\" d=\"M 50 227.679688 L 199.164063 196.191406 \"/>\n",
       "<path style=\"fill:none;stroke-width:1;stroke-linecap:butt;stroke-linejoin:miter;stroke:rgb(26.666667%,26.666667%,26.666667%);stroke-opacity:1;stroke-miterlimit:10;\" d=\"M 64.855469 123.492188 L 142.554688 53.320313 \"/>\n",
       "<path style=\"fill:none;stroke-width:1;stroke-linecap:butt;stroke-linejoin:miter;stroke:rgb(26.666667%,26.666667%,26.666667%);stroke-opacity:1;stroke-miterlimit:10;\" d=\"M 64.855469 123.492188 L 246.742188 50 \"/>\n",
       "<path style=\"fill:none;stroke-width:1;stroke-linecap:butt;stroke-linejoin:miter;stroke:rgb(26.666667%,26.666667%,26.666667%);stroke-opacity:1;stroke-miterlimit:10;\" d=\"M 64.855469 123.492188 L 199.164063 196.191406 \"/>\n",
       "<path style=\"fill:none;stroke-width:1;stroke-linecap:butt;stroke-linejoin:miter;stroke:rgb(26.666667%,26.666667%,26.666667%);stroke-opacity:1;stroke-miterlimit:10;\" d=\"M 142.554688 53.320313 L 246.742188 50 \"/>\n",
       "<path style=\"fill:none;stroke-width:1;stroke-linecap:butt;stroke-linejoin:miter;stroke:rgb(26.666667%,26.666667%,26.666667%);stroke-opacity:1;stroke-miterlimit:10;\" d=\"M 142.554688 53.320313 L 199.164063 196.191406 \"/>\n",
       "<path style=\"fill:none;stroke-width:1;stroke-linecap:butt;stroke-linejoin:miter;stroke:rgb(26.666667%,26.666667%,26.666667%);stroke-opacity:1;stroke-miterlimit:10;\" d=\"M 246.742188 50 L 199.164063 196.191406 \"/>\n",
       "<path style=\"fill-rule:nonzero;fill:rgb(100%,0%,0%);fill-opacity:1;stroke-width:1;stroke-linecap:butt;stroke-linejoin:miter;stroke:rgb(0%,0%,0%);stroke-opacity:1;stroke-miterlimit:10;\" d=\"M 305.753906 310.894531 C 305.753906 317.5625 295.753906 317.5625 295.753906 310.894531 C 295.753906 304.230469 305.753906 304.230469 305.753906 310.894531 \"/>\n",
       "<path style=\"fill-rule:nonzero;fill:rgb(100%,0%,0%);fill-opacity:1;stroke-width:1;stroke-linecap:butt;stroke-linejoin:miter;stroke:rgb(0%,0%,0%);stroke-opacity:1;stroke-miterlimit:10;\" d=\"M 355 218.121094 C 355 224.785156 345 224.785156 345 218.121094 C 345 211.453125 355 211.453125 355 218.121094 \"/>\n",
       "<path style=\"fill-rule:nonzero;fill:rgb(100%,0%,0%);fill-opacity:1;stroke-width:1;stroke-linecap:butt;stroke-linejoin:miter;stroke:rgb(0%,0%,0%);stroke-opacity:1;stroke-miterlimit:10;\" d=\"M 333.667969 115.085938 C 333.667969 121.75 323.667969 121.75 323.667969 115.085938 C 323.667969 108.417969 333.667969 108.417969 333.667969 115.085938 \"/>\n",
       "<path style=\"fill-rule:nonzero;fill:rgb(100%,0%,0%);fill-opacity:1;stroke-width:1;stroke-linecap:butt;stroke-linejoin:miter;stroke:rgb(0%,0%,0%);stroke-opacity:1;stroke-miterlimit:10;\" d=\"M 208.972656 350 C 208.972656 356.667969 198.972656 356.667969 198.972656 350 C 198.972656 343.332031 208.972656 343.332031 208.972656 350 \"/>\n",
       "<path style=\"fill-rule:nonzero;fill:rgb(100%,0%,0%);fill-opacity:1;stroke-width:1;stroke-linecap:butt;stroke-linejoin:miter;stroke:rgb(0%,0%,0%);stroke-opacity:1;stroke-miterlimit:10;\" d=\"M 109.941406 317.136719 C 109.941406 323.804688 99.941406 323.804688 99.941406 317.136719 C 99.941406 310.46875 109.941406 310.46875 109.941406 317.136719 \"/>\n",
       "<path style=\"fill-rule:nonzero;fill:rgb(100%,0%,0%);fill-opacity:1;stroke-width:1;stroke-linecap:butt;stroke-linejoin:miter;stroke:rgb(0%,0%,0%);stroke-opacity:1;stroke-miterlimit:10;\" d=\"M 55 227.679688 C 55 234.347656 45 234.347656 45 227.679688 C 45 221.015625 55 221.015625 55 227.679688 \"/>\n",
       "<path style=\"fill-rule:nonzero;fill:rgb(100%,0%,0%);fill-opacity:1;stroke-width:1;stroke-linecap:butt;stroke-linejoin:miter;stroke:rgb(0%,0%,0%);stroke-opacity:1;stroke-miterlimit:10;\" d=\"M 69.855469 123.492188 C 69.855469 130.160156 59.855469 130.160156 59.855469 123.492188 C 59.855469 116.824219 69.855469 116.824219 69.855469 123.492188 \"/>\n",
       "<path style=\"fill-rule:nonzero;fill:rgb(100%,0%,0%);fill-opacity:1;stroke-width:1;stroke-linecap:butt;stroke-linejoin:miter;stroke:rgb(0%,0%,0%);stroke-opacity:1;stroke-miterlimit:10;\" d=\"M 147.554688 53.320313 C 147.554688 59.988281 137.554688 59.988281 137.554688 53.320313 C 137.554688 46.652344 147.554688 46.652344 147.554688 53.320313 \"/>\n",
       "<path style=\"fill-rule:nonzero;fill:rgb(100%,0%,0%);fill-opacity:1;stroke-width:1;stroke-linecap:butt;stroke-linejoin:miter;stroke:rgb(0%,0%,0%);stroke-opacity:1;stroke-miterlimit:10;\" d=\"M 251.742188 50 C 251.742188 56.667969 241.742188 56.667969 241.742188 50 C 241.742188 43.332031 251.742188 43.332031 251.742188 50 \"/>\n",
       "<path style=\"fill-rule:nonzero;fill:rgb(100%,0%,0%);fill-opacity:1;stroke-width:1;stroke-linecap:butt;stroke-linejoin:miter;stroke:rgb(0%,0%,0%);stroke-opacity:1;stroke-miterlimit:10;\" d=\"M 204.164063 196.191406 C 204.164063 202.859375 194.164063 202.859375 194.164063 196.191406 C 194.164063 189.527344 204.164063 189.527344 204.164063 196.191406 \"/>\n",
       "</g>\n",
       "</svg>\n"
      ],
      "text/plain": [
       "<igraph.drawing.Plot at 0x2aeb505e2c0>"
      ]
     },
     "execution_count": 19,
     "metadata": {
      "image/svg+xml": {
       "isolated": true
      }
     },
     "output_type": "execute_result"
    }
   ],
   "source": [
    "G = ig.Graph.Full(10)\n",
    "ig.plot(G,bbox=(400,400),margin=50,vertex_size=10)"
   ]
  },
  {
   "cell_type": "code",
   "execution_count": 20,
   "id": "49f71531",
   "metadata": {},
   "outputs": [
    {
     "data": {
      "image/svg+xml": [
       "<?xml version=\"1.0\" encoding=\"UTF-8\"?>\n",
       "<svg xmlns=\"http://www.w3.org/2000/svg\" xmlns:xlink=\"http://www.w3.org/1999/xlink\" width=\"400pt\" height=\"400pt\" viewBox=\"0 0 400 400\" version=\"1.1\">\n",
       "<g id=\"surface20\">\n",
       "<rect x=\"0\" y=\"0\" width=\"400\" height=\"400\" style=\"fill:rgb(100%,100%,100%);fill-opacity:1;stroke:none;\"/>\n",
       "<path style=\"fill:none;stroke-width:1;stroke-linecap:butt;stroke-linejoin:miter;stroke:rgb(26.666667%,26.666667%,26.666667%);stroke-opacity:1;stroke-miterlimit:10;\" d=\"M 350 199.640625 L 321.554688 292.34375 \"/>\n",
       "<path style=\"fill:none;stroke-width:1;stroke-linecap:butt;stroke-linejoin:miter;stroke:rgb(26.666667%,26.666667%,26.666667%);stroke-opacity:1;stroke-miterlimit:10;\" d=\"M 321.554688 292.34375 L 246.679688 349.777344 \"/>\n",
       "<path style=\"fill:none;stroke-width:1;stroke-linecap:butt;stroke-linejoin:miter;stroke:rgb(26.666667%,26.666667%,26.666667%);stroke-opacity:1;stroke-miterlimit:10;\" d=\"M 246.679688 349.777344 L 153.972656 350 \"/>\n",
       "<path style=\"fill:none;stroke-width:1;stroke-linecap:butt;stroke-linejoin:miter;stroke:rgb(26.666667%,26.666667%,26.666667%);stroke-opacity:1;stroke-miterlimit:10;\" d=\"M 153.972656 350 L 78.847656 292.929688 \"/>\n",
       "<path style=\"fill:none;stroke-width:1;stroke-linecap:butt;stroke-linejoin:miter;stroke:rgb(26.666667%,26.666667%,26.666667%);stroke-opacity:1;stroke-miterlimit:10;\" d=\"M 78.847656 292.929688 L 50 200.359375 \"/>\n",
       "<path style=\"fill:none;stroke-width:1;stroke-linecap:butt;stroke-linejoin:miter;stroke:rgb(26.666667%,26.666667%,26.666667%);stroke-opacity:1;stroke-miterlimit:10;\" d=\"M 50 200.359375 L 78.445313 107.65625 \"/>\n",
       "<path style=\"fill:none;stroke-width:1;stroke-linecap:butt;stroke-linejoin:miter;stroke:rgb(26.666667%,26.666667%,26.666667%);stroke-opacity:1;stroke-miterlimit:10;\" d=\"M 78.445313 107.65625 L 153.320313 50.222656 \"/>\n",
       "<path style=\"fill:none;stroke-width:1;stroke-linecap:butt;stroke-linejoin:miter;stroke:rgb(26.666667%,26.666667%,26.666667%);stroke-opacity:1;stroke-miterlimit:10;\" d=\"M 153.320313 50.222656 L 246.027344 50 \"/>\n",
       "<path style=\"fill:none;stroke-width:1;stroke-linecap:butt;stroke-linejoin:miter;stroke:rgb(26.666667%,26.666667%,26.666667%);stroke-opacity:1;stroke-miterlimit:10;\" d=\"M 246.027344 50 L 321.152344 107.070313 \"/>\n",
       "<path style=\"fill:none;stroke-width:1;stroke-linecap:butt;stroke-linejoin:miter;stroke:rgb(26.666667%,26.666667%,26.666667%);stroke-opacity:1;stroke-miterlimit:10;\" d=\"M 350 199.640625 L 321.152344 107.070313 \"/>\n",
       "<path style=\"fill-rule:nonzero;fill:rgb(100%,0%,0%);fill-opacity:1;stroke-width:1;stroke-linecap:butt;stroke-linejoin:miter;stroke:rgb(0%,0%,0%);stroke-opacity:1;stroke-miterlimit:10;\" d=\"M 355 199.640625 C 355 206.304688 345 206.304688 345 199.640625 C 345 192.972656 355 192.972656 355 199.640625 \"/>\n",
       "<path style=\"fill-rule:nonzero;fill:rgb(100%,0%,0%);fill-opacity:1;stroke-width:1;stroke-linecap:butt;stroke-linejoin:miter;stroke:rgb(0%,0%,0%);stroke-opacity:1;stroke-miterlimit:10;\" d=\"M 326.554688 292.34375 C 326.554688 299.011719 316.554688 299.011719 316.554688 292.34375 C 316.554688 285.679688 326.554688 285.679688 326.554688 292.34375 \"/>\n",
       "<path style=\"fill-rule:nonzero;fill:rgb(100%,0%,0%);fill-opacity:1;stroke-width:1;stroke-linecap:butt;stroke-linejoin:miter;stroke:rgb(0%,0%,0%);stroke-opacity:1;stroke-miterlimit:10;\" d=\"M 251.679688 349.777344 C 251.679688 356.445313 241.679688 356.445313 241.679688 349.777344 C 241.679688 343.109375 251.679688 343.109375 251.679688 349.777344 \"/>\n",
       "<path style=\"fill-rule:nonzero;fill:rgb(100%,0%,0%);fill-opacity:1;stroke-width:1;stroke-linecap:butt;stroke-linejoin:miter;stroke:rgb(0%,0%,0%);stroke-opacity:1;stroke-miterlimit:10;\" d=\"M 158.972656 350 C 158.972656 356.667969 148.972656 356.667969 148.972656 350 C 148.972656 343.332031 158.972656 343.332031 158.972656 350 \"/>\n",
       "<path style=\"fill-rule:nonzero;fill:rgb(100%,0%,0%);fill-opacity:1;stroke-width:1;stroke-linecap:butt;stroke-linejoin:miter;stroke:rgb(0%,0%,0%);stroke-opacity:1;stroke-miterlimit:10;\" d=\"M 83.847656 292.929688 C 83.847656 299.59375 73.847656 299.59375 73.847656 292.929688 C 73.847656 286.261719 83.847656 286.261719 83.847656 292.929688 \"/>\n",
       "<path style=\"fill-rule:nonzero;fill:rgb(100%,0%,0%);fill-opacity:1;stroke-width:1;stroke-linecap:butt;stroke-linejoin:miter;stroke:rgb(0%,0%,0%);stroke-opacity:1;stroke-miterlimit:10;\" d=\"M 55 200.359375 C 55 207.027344 45 207.027344 45 200.359375 C 45 193.695313 55 193.695313 55 200.359375 \"/>\n",
       "<path style=\"fill-rule:nonzero;fill:rgb(100%,0%,0%);fill-opacity:1;stroke-width:1;stroke-linecap:butt;stroke-linejoin:miter;stroke:rgb(0%,0%,0%);stroke-opacity:1;stroke-miterlimit:10;\" d=\"M 83.445313 107.65625 C 83.445313 114.320313 73.445313 114.320313 73.445313 107.65625 C 73.445313 100.988281 83.445313 100.988281 83.445313 107.65625 \"/>\n",
       "<path style=\"fill-rule:nonzero;fill:rgb(100%,0%,0%);fill-opacity:1;stroke-width:1;stroke-linecap:butt;stroke-linejoin:miter;stroke:rgb(0%,0%,0%);stroke-opacity:1;stroke-miterlimit:10;\" d=\"M 158.320313 50.222656 C 158.320313 56.890625 148.320313 56.890625 148.320313 50.222656 C 148.320313 43.554688 158.320313 43.554688 158.320313 50.222656 \"/>\n",
       "<path style=\"fill-rule:nonzero;fill:rgb(100%,0%,0%);fill-opacity:1;stroke-width:1;stroke-linecap:butt;stroke-linejoin:miter;stroke:rgb(0%,0%,0%);stroke-opacity:1;stroke-miterlimit:10;\" d=\"M 251.027344 50 C 251.027344 56.667969 241.027344 56.667969 241.027344 50 C 241.027344 43.332031 251.027344 43.332031 251.027344 50 \"/>\n",
       "<path style=\"fill-rule:nonzero;fill:rgb(100%,0%,0%);fill-opacity:1;stroke-width:1;stroke-linecap:butt;stroke-linejoin:miter;stroke:rgb(0%,0%,0%);stroke-opacity:1;stroke-miterlimit:10;\" d=\"M 326.152344 107.070313 C 326.152344 113.738281 316.152344 113.738281 316.152344 107.070313 C 316.152344 100.40625 326.152344 100.40625 326.152344 107.070313 \"/>\n",
       "</g>\n",
       "</svg>\n"
      ],
      "text/plain": [
       "<igraph.drawing.Plot at 0x2aea67f62f0>"
      ]
     },
     "execution_count": 20,
     "metadata": {
      "image/svg+xml": {
       "isolated": true
      }
     },
     "output_type": "execute_result"
    }
   ],
   "source": [
    "G = ig.Graph.Ring(10)\n",
    "ig.plot(G,bbox=(400,400),margin=50,vertex_size=10)"
   ]
  },
  {
   "cell_type": "code",
   "execution_count": 21,
   "id": "6c5eacca",
   "metadata": {},
   "outputs": [
    {
     "data": {
      "image/svg+xml": [
       "<?xml version=\"1.0\" encoding=\"UTF-8\"?>\n",
       "<svg xmlns=\"http://www.w3.org/2000/svg\" xmlns:xlink=\"http://www.w3.org/1999/xlink\" width=\"400pt\" height=\"400pt\" viewBox=\"0 0 400 400\" version=\"1.1\">\n",
       "<g id=\"surface26\">\n",
       "<rect x=\"0\" y=\"0\" width=\"400\" height=\"400\" style=\"fill:rgb(100%,100%,100%);fill-opacity:1;stroke:none;\"/>\n",
       "<path style=\"fill:none;stroke-width:1;stroke-linecap:butt;stroke-linejoin:miter;stroke:rgb(26.666667%,26.666667%,26.666667%);stroke-opacity:1;stroke-miterlimit:10;\" d=\"M 101.632813 310.996094 L 50 215.410156 \"/>\n",
       "<path style=\"fill:none;stroke-width:1;stroke-linecap:butt;stroke-linejoin:miter;stroke:rgb(26.666667%,26.666667%,26.666667%);stroke-opacity:1;stroke-miterlimit:10;\" d=\"M 101.632813 310.996094 L 163.585938 121.40625 \"/>\n",
       "<path style=\"fill:none;stroke-width:1;stroke-linecap:butt;stroke-linejoin:miter;stroke:rgb(26.666667%,26.666667%,26.666667%);stroke-opacity:1;stroke-miterlimit:10;\" d=\"M 101.632813 310.996094 L 240.578125 350 \"/>\n",
       "<path style=\"fill:none;stroke-width:1;stroke-linecap:butt;stroke-linejoin:miter;stroke:rgb(26.666667%,26.666667%,26.666667%);stroke-opacity:1;stroke-miterlimit:10;\" d=\"M 50 215.410156 L 241.144531 264.980469 \"/>\n",
       "<path style=\"fill:none;stroke-width:1;stroke-linecap:butt;stroke-linejoin:miter;stroke:rgb(26.666667%,26.666667%,26.666667%);stroke-opacity:1;stroke-miterlimit:10;\" d=\"M 50 215.410156 L 92.558594 75.992188 \"/>\n",
       "<path style=\"fill:none;stroke-width:1;stroke-linecap:butt;stroke-linejoin:miter;stroke:rgb(26.666667%,26.666667%,26.666667%);stroke-opacity:1;stroke-miterlimit:10;\" d=\"M 241.144531 264.980469 L 297.902344 140.339844 \"/>\n",
       "<path style=\"fill:none;stroke-width:1;stroke-linecap:butt;stroke-linejoin:miter;stroke:rgb(26.666667%,26.666667%,26.666667%);stroke-opacity:1;stroke-miterlimit:10;\" d=\"M 241.144531 264.980469 L 350 225.472656 \"/>\n",
       "<path style=\"fill:none;stroke-width:1;stroke-linecap:butt;stroke-linejoin:miter;stroke:rgb(26.666667%,26.666667%,26.666667%);stroke-opacity:1;stroke-miterlimit:10;\" d=\"M 297.902344 140.339844 L 163.585938 121.40625 \"/>\n",
       "<path style=\"fill:none;stroke-width:1;stroke-linecap:butt;stroke-linejoin:miter;stroke:rgb(26.666667%,26.666667%,26.666667%);stroke-opacity:1;stroke-miterlimit:10;\" d=\"M 297.902344 140.339844 L 174.878906 208.398438 \"/>\n",
       "<path style=\"fill:none;stroke-width:1;stroke-linecap:butt;stroke-linejoin:miter;stroke:rgb(26.666667%,26.666667%,26.666667%);stroke-opacity:1;stroke-miterlimit:10;\" d=\"M 163.585938 121.40625 L 255.210938 50 \"/>\n",
       "<path style=\"fill:none;stroke-width:1;stroke-linecap:butt;stroke-linejoin:miter;stroke:rgb(26.666667%,26.666667%,26.666667%);stroke-opacity:1;stroke-miterlimit:10;\" d=\"M 240.578125 350 L 350 225.472656 \"/>\n",
       "<path style=\"fill:none;stroke-width:1;stroke-linecap:butt;stroke-linejoin:miter;stroke:rgb(26.666667%,26.666667%,26.666667%);stroke-opacity:1;stroke-miterlimit:10;\" d=\"M 240.578125 350 L 174.878906 208.398438 \"/>\n",
       "<path style=\"fill:none;stroke-width:1;stroke-linecap:butt;stroke-linejoin:miter;stroke:rgb(26.666667%,26.666667%,26.666667%);stroke-opacity:1;stroke-miterlimit:10;\" d=\"M 92.558594 75.992188 L 174.878906 208.398438 \"/>\n",
       "<path style=\"fill:none;stroke-width:1;stroke-linecap:butt;stroke-linejoin:miter;stroke:rgb(26.666667%,26.666667%,26.666667%);stroke-opacity:1;stroke-miterlimit:10;\" d=\"M 92.558594 75.992188 L 255.210938 50 \"/>\n",
       "<path style=\"fill:none;stroke-width:1;stroke-linecap:butt;stroke-linejoin:miter;stroke:rgb(26.666667%,26.666667%,26.666667%);stroke-opacity:1;stroke-miterlimit:10;\" d=\"M 350 225.472656 L 255.210938 50 \"/>\n",
       "<path style=\"fill-rule:nonzero;fill:rgb(100%,0%,0%);fill-opacity:1;stroke-width:1;stroke-linecap:butt;stroke-linejoin:miter;stroke:rgb(0%,0%,0%);stroke-opacity:1;stroke-miterlimit:10;\" d=\"M 106.632813 310.996094 C 106.632813 317.664063 96.632813 317.664063 96.632813 310.996094 C 96.632813 304.328125 106.632813 304.328125 106.632813 310.996094 \"/>\n",
       "<path style=\"fill-rule:nonzero;fill:rgb(100%,0%,0%);fill-opacity:1;stroke-width:1;stroke-linecap:butt;stroke-linejoin:miter;stroke:rgb(0%,0%,0%);stroke-opacity:1;stroke-miterlimit:10;\" d=\"M 55 215.410156 C 55 222.078125 45 222.078125 45 215.410156 C 45 208.746094 55 208.746094 55 215.410156 \"/>\n",
       "<path style=\"fill-rule:nonzero;fill:rgb(100%,0%,0%);fill-opacity:1;stroke-width:1;stroke-linecap:butt;stroke-linejoin:miter;stroke:rgb(0%,0%,0%);stroke-opacity:1;stroke-miterlimit:10;\" d=\"M 246.144531 264.980469 C 246.144531 271.644531 236.144531 271.644531 236.144531 264.980469 C 236.144531 258.3125 246.144531 258.3125 246.144531 264.980469 \"/>\n",
       "<path style=\"fill-rule:nonzero;fill:rgb(100%,0%,0%);fill-opacity:1;stroke-width:1;stroke-linecap:butt;stroke-linejoin:miter;stroke:rgb(0%,0%,0%);stroke-opacity:1;stroke-miterlimit:10;\" d=\"M 302.902344 140.339844 C 302.902344 147.003906 292.902344 147.003906 292.902344 140.339844 C 292.902344 133.671875 302.902344 133.671875 302.902344 140.339844 \"/>\n",
       "<path style=\"fill-rule:nonzero;fill:rgb(100%,0%,0%);fill-opacity:1;stroke-width:1;stroke-linecap:butt;stroke-linejoin:miter;stroke:rgb(0%,0%,0%);stroke-opacity:1;stroke-miterlimit:10;\" d=\"M 168.585938 121.40625 C 168.585938 128.074219 158.585938 128.074219 158.585938 121.40625 C 158.585938 114.742188 168.585938 114.742188 168.585938 121.40625 \"/>\n",
       "<path style=\"fill-rule:nonzero;fill:rgb(100%,0%,0%);fill-opacity:1;stroke-width:1;stroke-linecap:butt;stroke-linejoin:miter;stroke:rgb(0%,0%,0%);stroke-opacity:1;stroke-miterlimit:10;\" d=\"M 245.578125 350 C 245.578125 356.667969 235.578125 356.667969 235.578125 350 C 235.578125 343.332031 245.578125 343.332031 245.578125 350 \"/>\n",
       "<path style=\"fill-rule:nonzero;fill:rgb(100%,0%,0%);fill-opacity:1;stroke-width:1;stroke-linecap:butt;stroke-linejoin:miter;stroke:rgb(0%,0%,0%);stroke-opacity:1;stroke-miterlimit:10;\" d=\"M 97.558594 75.992188 C 97.558594 82.660156 87.558594 82.660156 87.558594 75.992188 C 87.558594 69.328125 97.558594 69.328125 97.558594 75.992188 \"/>\n",
       "<path style=\"fill-rule:nonzero;fill:rgb(100%,0%,0%);fill-opacity:1;stroke-width:1;stroke-linecap:butt;stroke-linejoin:miter;stroke:rgb(0%,0%,0%);stroke-opacity:1;stroke-miterlimit:10;\" d=\"M 355 225.472656 C 355 232.140625 345 232.140625 345 225.472656 C 345 218.804688 355 218.804688 355 225.472656 \"/>\n",
       "<path style=\"fill-rule:nonzero;fill:rgb(100%,0%,0%);fill-opacity:1;stroke-width:1;stroke-linecap:butt;stroke-linejoin:miter;stroke:rgb(0%,0%,0%);stroke-opacity:1;stroke-miterlimit:10;\" d=\"M 179.878906 208.398438 C 179.878906 215.066406 169.878906 215.066406 169.878906 208.398438 C 169.878906 201.734375 179.878906 201.734375 179.878906 208.398438 \"/>\n",
       "<path style=\"fill-rule:nonzero;fill:rgb(100%,0%,0%);fill-opacity:1;stroke-width:1;stroke-linecap:butt;stroke-linejoin:miter;stroke:rgb(0%,0%,0%);stroke-opacity:1;stroke-miterlimit:10;\" d=\"M 260.210938 50 C 260.210938 56.667969 250.210938 56.667969 250.210938 50 C 250.210938 43.332031 260.210938 43.332031 260.210938 50 \"/>\n",
       "</g>\n",
       "</svg>\n"
      ],
      "text/plain": [
       "<igraph.drawing.Plot at 0x2aea66332b0>"
      ]
     },
     "execution_count": 21,
     "metadata": {
      "image/svg+xml": {
       "isolated": true
      }
     },
     "output_type": "execute_result"
    }
   ],
   "source": [
    "G = ig.Graph.Famous(\"petersen\")\n",
    "ig.plot(G,bbox=(400,400),margin=50,vertex_size=10)"
   ]
  },
  {
   "cell_type": "code",
   "execution_count": 23,
   "id": "5ab5c30c",
   "metadata": {},
   "outputs": [
    {
     "data": {
      "image/svg+xml": [
       "<?xml version=\"1.0\" encoding=\"UTF-8\"?>\n",
       "<svg xmlns=\"http://www.w3.org/2000/svg\" xmlns:xlink=\"http://www.w3.org/1999/xlink\" width=\"400pt\" height=\"400pt\" viewBox=\"0 0 400 400\" version=\"1.1\">\n",
       "<g id=\"surface32\">\n",
       "<rect x=\"0\" y=\"0\" width=\"400\" height=\"400\" style=\"fill:rgb(100%,100%,100%);fill-opacity:1;stroke:none;\"/>\n",
       "<path style=\"fill:none;stroke-width:1;stroke-linecap:butt;stroke-linejoin:miter;stroke:rgb(26.666667%,26.666667%,26.666667%);stroke-opacity:1;stroke-miterlimit:10;\" d=\"M 329.242188 168.125 L 183.453125 286.550781 \"/>\n",
       "<path style=\"fill:none;stroke-width:1;stroke-linecap:butt;stroke-linejoin:miter;stroke:rgb(26.666667%,26.666667%,26.666667%);stroke-opacity:1;stroke-miterlimit:10;\" d=\"M 183.453125 286.550781 L 273.023438 350 \"/>\n",
       "<path style=\"fill:none;stroke-width:1;stroke-linecap:butt;stroke-linejoin:miter;stroke:rgb(26.666667%,26.666667%,26.666667%);stroke-opacity:1;stroke-miterlimit:10;\" d=\"M 273.023438 350 L 337.78125 246.03125 \"/>\n",
       "<path style=\"fill:none;stroke-width:1;stroke-linecap:butt;stroke-linejoin:miter;stroke:rgb(26.666667%,26.666667%,26.666667%);stroke-opacity:1;stroke-miterlimit:10;\" d=\"M 337.78125 246.03125 L 204.816406 150.441406 \"/>\n",
       "<path style=\"fill:none;stroke-width:1;stroke-linecap:butt;stroke-linejoin:miter;stroke:rgb(26.666667%,26.666667%,26.666667%);stroke-opacity:1;stroke-miterlimit:10;\" d=\"M 204.816406 150.441406 L 50 205.089844 \"/>\n",
       "<path style=\"fill:none;stroke-width:1;stroke-linecap:butt;stroke-linejoin:miter;stroke:rgb(26.666667%,26.666667%,26.666667%);stroke-opacity:1;stroke-miterlimit:10;\" d=\"M 50 205.089844 L 129.054688 335.523438 \"/>\n",
       "<path style=\"fill:none;stroke-width:1;stroke-linecap:butt;stroke-linejoin:miter;stroke:rgb(26.666667%,26.666667%,26.666667%);stroke-opacity:1;stroke-miterlimit:10;\" d=\"M 129.054688 335.523438 L 239.019531 241.847656 \"/>\n",
       "<path style=\"fill:none;stroke-width:1;stroke-linecap:butt;stroke-linejoin:miter;stroke:rgb(26.666667%,26.666667%,26.666667%);stroke-opacity:1;stroke-miterlimit:10;\" d=\"M 239.019531 241.847656 L 90.792969 169.578125 \"/>\n",
       "<path style=\"fill:none;stroke-width:1;stroke-linecap:butt;stroke-linejoin:miter;stroke:rgb(26.666667%,26.666667%,26.666667%);stroke-opacity:1;stroke-miterlimit:10;\" d=\"M 90.792969 169.578125 L 88.273438 79.835938 \"/>\n",
       "<path style=\"fill:none;stroke-width:1;stroke-linecap:butt;stroke-linejoin:miter;stroke:rgb(26.666667%,26.666667%,26.666667%);stroke-opacity:1;stroke-miterlimit:10;\" d=\"M 88.273438 79.835938 L 150.816406 203.523438 \"/>\n",
       "<path style=\"fill:none;stroke-width:1;stroke-linecap:butt;stroke-linejoin:miter;stroke:rgb(26.666667%,26.666667%,26.666667%);stroke-opacity:1;stroke-miterlimit:10;\" d=\"M 150.816406 203.523438 L 228.523438 341.320313 \"/>\n",
       "<path style=\"fill:none;stroke-width:1;stroke-linecap:butt;stroke-linejoin:miter;stroke:rgb(26.666667%,26.666667%,26.666667%);stroke-opacity:1;stroke-miterlimit:10;\" d=\"M 228.523438 341.320313 L 97.324219 277.707031 \"/>\n",
       "<path style=\"fill:none;stroke-width:1;stroke-linecap:butt;stroke-linejoin:miter;stroke:rgb(26.666667%,26.666667%,26.666667%);stroke-opacity:1;stroke-miterlimit:10;\" d=\"M 97.324219 277.707031 L 200.621094 87.257813 \"/>\n",
       "<path style=\"fill:none;stroke-width:1;stroke-linecap:butt;stroke-linejoin:miter;stroke:rgb(26.666667%,26.666667%,26.666667%);stroke-opacity:1;stroke-miterlimit:10;\" d=\"M 200.621094 87.257813 L 335.683594 107.371094 \"/>\n",
       "<path style=\"fill:none;stroke-width:1;stroke-linecap:butt;stroke-linejoin:miter;stroke:rgb(26.666667%,26.666667%,26.666667%);stroke-opacity:1;stroke-miterlimit:10;\" d=\"M 335.683594 107.371094 L 259.613281 50 \"/>\n",
       "<path style=\"fill:none;stroke-width:1;stroke-linecap:butt;stroke-linejoin:miter;stroke:rgb(26.666667%,26.666667%,26.666667%);stroke-opacity:1;stroke-miterlimit:10;\" d=\"M 259.613281 50 L 141.367188 69.757813 \"/>\n",
       "<path style=\"fill:none;stroke-width:1;stroke-linecap:butt;stroke-linejoin:miter;stroke:rgb(26.666667%,26.666667%,26.666667%);stroke-opacity:1;stroke-miterlimit:10;\" d=\"M 141.367188 69.757813 L 272.503906 179.589844 \"/>\n",
       "<path style=\"fill:none;stroke-width:1;stroke-linecap:butt;stroke-linejoin:miter;stroke:rgb(26.666667%,26.666667%,26.666667%);stroke-opacity:1;stroke-miterlimit:10;\" d=\"M 272.503906 179.589844 L 350 291.019531 \"/>\n",
       "<path style=\"fill:none;stroke-width:1;stroke-linecap:butt;stroke-linejoin:miter;stroke:rgb(26.666667%,26.666667%,26.666667%);stroke-opacity:1;stroke-miterlimit:10;\" d=\"M 329.242188 168.125 L 350 291.019531 \"/>\n",
       "<path style=\"fill:none;stroke-width:1;stroke-linecap:butt;stroke-linejoin:miter;stroke:rgb(26.666667%,26.666667%,26.666667%);stroke-opacity:1;stroke-miterlimit:10;\" d=\"M 329.242188 168.125 L 204.816406 150.441406 \"/>\n",
       "<path style=\"fill:none;stroke-width:1;stroke-linecap:butt;stroke-linejoin:miter;stroke:rgb(26.666667%,26.666667%,26.666667%);stroke-opacity:1;stroke-miterlimit:10;\" d=\"M 204.816406 150.441406 L 88.273438 79.835938 \"/>\n",
       "<path style=\"fill:none;stroke-width:1;stroke-linecap:butt;stroke-linejoin:miter;stroke:rgb(26.666667%,26.666667%,26.666667%);stroke-opacity:1;stroke-miterlimit:10;\" d=\"M 88.273438 79.835938 L 200.621094 87.257813 \"/>\n",
       "<path style=\"fill:none;stroke-width:1;stroke-linecap:butt;stroke-linejoin:miter;stroke:rgb(26.666667%,26.666667%,26.666667%);stroke-opacity:1;stroke-miterlimit:10;\" d=\"M 200.621094 87.257813 L 272.503906 179.589844 \"/>\n",
       "<path style=\"fill:none;stroke-width:1;stroke-linecap:butt;stroke-linejoin:miter;stroke:rgb(26.666667%,26.666667%,26.666667%);stroke-opacity:1;stroke-miterlimit:10;\" d=\"M 273.023438 350 L 272.503906 179.589844 \"/>\n",
       "<path style=\"fill:none;stroke-width:1;stroke-linecap:butt;stroke-linejoin:miter;stroke:rgb(26.666667%,26.666667%,26.666667%);stroke-opacity:1;stroke-miterlimit:10;\" d=\"M 273.023438 350 L 129.054688 335.523438 \"/>\n",
       "<path style=\"fill:none;stroke-width:1;stroke-linecap:butt;stroke-linejoin:miter;stroke:rgb(26.666667%,26.666667%,26.666667%);stroke-opacity:1;stroke-miterlimit:10;\" d=\"M 129.054688 335.523438 L 150.816406 203.523438 \"/>\n",
       "<path style=\"fill:none;stroke-width:1;stroke-linecap:butt;stroke-linejoin:miter;stroke:rgb(26.666667%,26.666667%,26.666667%);stroke-opacity:1;stroke-miterlimit:10;\" d=\"M 150.816406 203.523438 L 259.613281 50 \"/>\n",
       "<path style=\"fill:none;stroke-width:1;stroke-linecap:butt;stroke-linejoin:miter;stroke:rgb(26.666667%,26.666667%,26.666667%);stroke-opacity:1;stroke-miterlimit:10;\" d=\"M 329.242188 168.125 L 259.613281 50 \"/>\n",
       "<path style=\"fill:none;stroke-width:1;stroke-linecap:butt;stroke-linejoin:miter;stroke:rgb(26.666667%,26.666667%,26.666667%);stroke-opacity:1;stroke-miterlimit:10;\" d=\"M 183.453125 286.550781 L 90.792969 169.578125 \"/>\n",
       "<path style=\"fill:none;stroke-width:1;stroke-linecap:butt;stroke-linejoin:miter;stroke:rgb(26.666667%,26.666667%,26.666667%);stroke-opacity:1;stroke-miterlimit:10;\" d=\"M 90.792969 169.578125 L 141.367188 69.757813 \"/>\n",
       "<path style=\"fill:none;stroke-width:1;stroke-linecap:butt;stroke-linejoin:miter;stroke:rgb(26.666667%,26.666667%,26.666667%);stroke-opacity:1;stroke-miterlimit:10;\" d=\"M 50 205.089844 L 141.367188 69.757813 \"/>\n",
       "<path style=\"fill:none;stroke-width:1;stroke-linecap:butt;stroke-linejoin:miter;stroke:rgb(26.666667%,26.666667%,26.666667%);stroke-opacity:1;stroke-miterlimit:10;\" d=\"M 50 205.089844 L 97.324219 277.707031 \"/>\n",
       "<path style=\"fill:none;stroke-width:1;stroke-linecap:butt;stroke-linejoin:miter;stroke:rgb(26.666667%,26.666667%,26.666667%);stroke-opacity:1;stroke-miterlimit:10;\" d=\"M 183.453125 286.550781 L 97.324219 277.707031 \"/>\n",
       "<path style=\"fill:none;stroke-width:1;stroke-linecap:butt;stroke-linejoin:miter;stroke:rgb(26.666667%,26.666667%,26.666667%);stroke-opacity:1;stroke-miterlimit:10;\" d=\"M 239.019531 241.847656 L 350 291.019531 \"/>\n",
       "<path style=\"fill:none;stroke-width:1;stroke-linecap:butt;stroke-linejoin:miter;stroke:rgb(26.666667%,26.666667%,26.666667%);stroke-opacity:1;stroke-miterlimit:10;\" d=\"M 239.019531 241.847656 L 335.683594 107.371094 \"/>\n",
       "<path style=\"fill:none;stroke-width:1;stroke-linecap:butt;stroke-linejoin:miter;stroke:rgb(26.666667%,26.666667%,26.666667%);stroke-opacity:1;stroke-miterlimit:10;\" d=\"M 337.78125 246.03125 L 335.683594 107.371094 \"/>\n",
       "<path style=\"fill:none;stroke-width:1;stroke-linecap:butt;stroke-linejoin:miter;stroke:rgb(26.666667%,26.666667%,26.666667%);stroke-opacity:1;stroke-miterlimit:10;\" d=\"M 337.78125 246.03125 L 228.523438 341.320313 \"/>\n",
       "<path style=\"fill:none;stroke-width:1;stroke-linecap:butt;stroke-linejoin:miter;stroke:rgb(26.666667%,26.666667%,26.666667%);stroke-opacity:1;stroke-miterlimit:10;\" d=\"M 228.523438 341.320313 L 350 291.019531 \"/>\n",
       "<path style=\"fill-rule:nonzero;fill:rgb(100%,0%,0%);fill-opacity:1;stroke-width:1;stroke-linecap:butt;stroke-linejoin:miter;stroke:rgb(0%,0%,0%);stroke-opacity:1;stroke-miterlimit:10;\" d=\"M 334.242188 168.125 C 334.242188 174.792969 324.242188 174.792969 324.242188 168.125 C 324.242188 161.460938 334.242188 161.460938 334.242188 168.125 \"/>\n",
       "<path style=\"fill-rule:nonzero;fill:rgb(100%,0%,0%);fill-opacity:1;stroke-width:1;stroke-linecap:butt;stroke-linejoin:miter;stroke:rgb(0%,0%,0%);stroke-opacity:1;stroke-miterlimit:10;\" d=\"M 188.453125 286.550781 C 188.453125 293.214844 178.453125 293.214844 178.453125 286.550781 C 178.453125 279.882813 188.453125 279.882813 188.453125 286.550781 \"/>\n",
       "<path style=\"fill-rule:nonzero;fill:rgb(100%,0%,0%);fill-opacity:1;stroke-width:1;stroke-linecap:butt;stroke-linejoin:miter;stroke:rgb(0%,0%,0%);stroke-opacity:1;stroke-miterlimit:10;\" d=\"M 278.023438 350 C 278.023438 356.667969 268.023438 356.667969 268.023438 350 C 268.023438 343.332031 278.023438 343.332031 278.023438 350 \"/>\n",
       "<path style=\"fill-rule:nonzero;fill:rgb(100%,0%,0%);fill-opacity:1;stroke-width:1;stroke-linecap:butt;stroke-linejoin:miter;stroke:rgb(0%,0%,0%);stroke-opacity:1;stroke-miterlimit:10;\" d=\"M 342.78125 246.03125 C 342.78125 252.695313 332.78125 252.695313 332.78125 246.03125 C 332.78125 239.363281 342.78125 239.363281 342.78125 246.03125 \"/>\n",
       "<path style=\"fill-rule:nonzero;fill:rgb(100%,0%,0%);fill-opacity:1;stroke-width:1;stroke-linecap:butt;stroke-linejoin:miter;stroke:rgb(0%,0%,0%);stroke-opacity:1;stroke-miterlimit:10;\" d=\"M 209.816406 150.441406 C 209.816406 157.109375 199.816406 157.109375 199.816406 150.441406 C 199.816406 143.773438 209.816406 143.773438 209.816406 150.441406 \"/>\n",
       "<path style=\"fill-rule:nonzero;fill:rgb(100%,0%,0%);fill-opacity:1;stroke-width:1;stroke-linecap:butt;stroke-linejoin:miter;stroke:rgb(0%,0%,0%);stroke-opacity:1;stroke-miterlimit:10;\" d=\"M 55 205.089844 C 55 211.757813 45 211.757813 45 205.089844 C 45 198.421875 55 198.421875 55 205.089844 \"/>\n",
       "<path style=\"fill-rule:nonzero;fill:rgb(100%,0%,0%);fill-opacity:1;stroke-width:1;stroke-linecap:butt;stroke-linejoin:miter;stroke:rgb(0%,0%,0%);stroke-opacity:1;stroke-miterlimit:10;\" d=\"M 134.054688 335.523438 C 134.054688 342.1875 124.054688 342.1875 124.054688 335.523438 C 124.054688 328.855469 134.054688 328.855469 134.054688 335.523438 \"/>\n",
       "<path style=\"fill-rule:nonzero;fill:rgb(100%,0%,0%);fill-opacity:1;stroke-width:1;stroke-linecap:butt;stroke-linejoin:miter;stroke:rgb(0%,0%,0%);stroke-opacity:1;stroke-miterlimit:10;\" d=\"M 244.019531 241.847656 C 244.019531 248.515625 234.019531 248.515625 234.019531 241.847656 C 234.019531 235.183594 244.019531 235.183594 244.019531 241.847656 \"/>\n",
       "<path style=\"fill-rule:nonzero;fill:rgb(100%,0%,0%);fill-opacity:1;stroke-width:1;stroke-linecap:butt;stroke-linejoin:miter;stroke:rgb(0%,0%,0%);stroke-opacity:1;stroke-miterlimit:10;\" d=\"M 95.792969 169.578125 C 95.792969 176.246094 85.792969 176.246094 85.792969 169.578125 C 85.792969 162.914063 95.792969 162.914063 95.792969 169.578125 \"/>\n",
       "<path style=\"fill-rule:nonzero;fill:rgb(100%,0%,0%);fill-opacity:1;stroke-width:1;stroke-linecap:butt;stroke-linejoin:miter;stroke:rgb(0%,0%,0%);stroke-opacity:1;stroke-miterlimit:10;\" d=\"M 93.273438 79.835938 C 93.273438 86.503906 83.273438 86.503906 83.273438 79.835938 C 83.273438 73.167969 93.273438 73.167969 93.273438 79.835938 \"/>\n",
       "<path style=\"fill-rule:nonzero;fill:rgb(100%,0%,0%);fill-opacity:1;stroke-width:1;stroke-linecap:butt;stroke-linejoin:miter;stroke:rgb(0%,0%,0%);stroke-opacity:1;stroke-miterlimit:10;\" d=\"M 155.816406 203.523438 C 155.816406 210.191406 145.816406 210.191406 145.816406 203.523438 C 145.816406 196.859375 155.816406 196.859375 155.816406 203.523438 \"/>\n",
       "<path style=\"fill-rule:nonzero;fill:rgb(100%,0%,0%);fill-opacity:1;stroke-width:1;stroke-linecap:butt;stroke-linejoin:miter;stroke:rgb(0%,0%,0%);stroke-opacity:1;stroke-miterlimit:10;\" d=\"M 233.523438 341.320313 C 233.523438 347.984375 223.523438 347.984375 223.523438 341.320313 C 223.523438 334.652344 233.523438 334.652344 233.523438 341.320313 \"/>\n",
       "<path style=\"fill-rule:nonzero;fill:rgb(100%,0%,0%);fill-opacity:1;stroke-width:1;stroke-linecap:butt;stroke-linejoin:miter;stroke:rgb(0%,0%,0%);stroke-opacity:1;stroke-miterlimit:10;\" d=\"M 102.324219 277.707031 C 102.324219 284.375 92.324219 284.375 92.324219 277.707031 C 92.324219 271.042969 102.324219 271.042969 102.324219 277.707031 \"/>\n",
       "<path style=\"fill-rule:nonzero;fill:rgb(100%,0%,0%);fill-opacity:1;stroke-width:1;stroke-linecap:butt;stroke-linejoin:miter;stroke:rgb(0%,0%,0%);stroke-opacity:1;stroke-miterlimit:10;\" d=\"M 205.621094 87.257813 C 205.621094 93.921875 195.621094 93.921875 195.621094 87.257813 C 195.621094 80.589844 205.621094 80.589844 205.621094 87.257813 \"/>\n",
       "<path style=\"fill-rule:nonzero;fill:rgb(100%,0%,0%);fill-opacity:1;stroke-width:1;stroke-linecap:butt;stroke-linejoin:miter;stroke:rgb(0%,0%,0%);stroke-opacity:1;stroke-miterlimit:10;\" d=\"M 340.683594 107.371094 C 340.683594 114.039063 330.683594 114.039063 330.683594 107.371094 C 330.683594 100.703125 340.683594 100.703125 340.683594 107.371094 \"/>\n",
       "<path style=\"fill-rule:nonzero;fill:rgb(100%,0%,0%);fill-opacity:1;stroke-width:1;stroke-linecap:butt;stroke-linejoin:miter;stroke:rgb(0%,0%,0%);stroke-opacity:1;stroke-miterlimit:10;\" d=\"M 264.613281 50 C 264.613281 56.667969 254.613281 56.667969 254.613281 50 C 254.613281 43.332031 264.613281 43.332031 264.613281 50 \"/>\n",
       "<path style=\"fill-rule:nonzero;fill:rgb(100%,0%,0%);fill-opacity:1;stroke-width:1;stroke-linecap:butt;stroke-linejoin:miter;stroke:rgb(0%,0%,0%);stroke-opacity:1;stroke-miterlimit:10;\" d=\"M 146.367188 69.757813 C 146.367188 76.421875 136.367188 76.421875 136.367188 69.757813 C 136.367188 63.089844 146.367188 63.089844 146.367188 69.757813 \"/>\n",
       "<path style=\"fill-rule:nonzero;fill:rgb(100%,0%,0%);fill-opacity:1;stroke-width:1;stroke-linecap:butt;stroke-linejoin:miter;stroke:rgb(0%,0%,0%);stroke-opacity:1;stroke-miterlimit:10;\" d=\"M 277.503906 179.589844 C 277.503906 186.253906 267.503906 186.253906 267.503906 179.589844 C 267.503906 172.921875 277.503906 172.921875 277.503906 179.589844 \"/>\n",
       "<path style=\"fill-rule:nonzero;fill:rgb(100%,0%,0%);fill-opacity:1;stroke-width:1;stroke-linecap:butt;stroke-linejoin:miter;stroke:rgb(0%,0%,0%);stroke-opacity:1;stroke-miterlimit:10;\" d=\"M 355 291.019531 C 355 297.6875 345 297.6875 345 291.019531 C 345 284.355469 355 284.355469 355 291.019531 \"/>\n",
       "</g>\n",
       "</svg>\n"
      ],
      "text/plain": [
       "<igraph.drawing.Plot at 0x2aeb6498250>"
      ]
     },
     "execution_count": 23,
     "metadata": {
      "image/svg+xml": {
       "isolated": true
      }
     },
     "output_type": "execute_result"
    }
   ],
   "source": [
    "G = ig.Graph.Famous(\"robertson\")\n",
    "ig.plot(G,bbox=(400,400),margin=50,vertex_size=10)"
   ]
  },
  {
   "cell_type": "code",
   "execution_count": 24,
   "id": "d296c01f",
   "metadata": {},
   "outputs": [
    {
     "data": {
      "text/plain": [
       "Matrix([[0, 1, 0, 0, 1, 0, 0, 0, 0, 0, 0, 0, 0, 0, 0, 1, 0, 0, 1], [1, 0, 1, 0, 0, 0, 0, 0, 1, 0, 0, 0, 1, 0, 0, 0, 0, 0, 0], [0, 1, 0, 1, 0, 0, 1, 0, 0, 0, 0, 0, 0, 0, 0, 0, 0, 1, 0], [0, 0, 1, 0, 1, 0, 0, 0, 0, 0, 0, 1, 0, 0, 1, 0, 0, 0, 0], [1, 0, 0, 1, 0, 1, 0, 0, 0, 1, 0, 0, 0, 0, 0, 0, 0, 0, 0], [0, 0, 0, 0, 1, 0, 1, 0, 0, 0, 0, 0, 1, 0, 0, 0, 1, 0, 0], [0, 0, 1, 0, 0, 1, 0, 1, 0, 0, 1, 0, 0, 0, 0, 0, 0, 0, 0], [0, 0, 0, 0, 0, 0, 1, 0, 1, 0, 0, 0, 0, 0, 1, 0, 0, 0, 1], [0, 1, 0, 0, 0, 0, 0, 1, 0, 1, 0, 0, 0, 0, 0, 0, 1, 0, 0], [0, 0, 0, 0, 1, 0, 0, 0, 1, 0, 1, 0, 0, 1, 0, 0, 0, 0, 0], [0, 0, 0, 0, 0, 0, 1, 0, 0, 1, 0, 1, 0, 0, 0, 1, 0, 0, 0], [0, 0, 0, 1, 0, 0, 0, 0, 0, 0, 1, 0, 1, 0, 0, 0, 0, 0, 1], [0, 1, 0, 0, 0, 1, 0, 0, 0, 0, 0, 1, 0, 1, 0, 0, 0, 0, 0], [0, 0, 0, 0, 0, 0, 0, 0, 0, 1, 0, 0, 1, 0, 1, 0, 0, 1, 0], [0, 0, 0, 1, 0, 0, 0, 1, 0, 0, 0, 0, 0, 1, 0, 1, 0, 0, 0], [1, 0, 0, 0, 0, 0, 0, 0, 0, 0, 1, 0, 0, 0, 1, 0, 1, 0, 0], [0, 0, 0, 0, 0, 1, 0, 0, 1, 0, 0, 0, 0, 0, 0, 1, 0, 1, 0], [0, 0, 1, 0, 0, 0, 0, 0, 0, 0, 0, 0, 0, 1, 0, 0, 1, 0, 1], [1, 0, 0, 0, 0, 0, 0, 1, 0, 0, 0, 1, 0, 0, 0, 0, 0, 1, 0]])"
      ]
     },
     "execution_count": 24,
     "metadata": {},
     "output_type": "execute_result"
    }
   ],
   "source": [
    "#Adjacency Matrix\n",
    "AM = G.get_adjacency()\n",
    "AM"
   ]
  },
  {
   "cell_type": "code",
   "execution_count": 26,
   "id": "a6814839",
   "metadata": {},
   "outputs": [],
   "source": [
    "G.write_adjacency(\"AM.csv\")"
   ]
  },
  {
   "cell_type": "code",
   "execution_count": 42,
   "id": "179a5135",
   "metadata": {},
   "outputs": [
    {
     "name": "stdout",
     "output_type": "stream",
     "text": [
      "IGRAPH U--- 19 38 --\n",
      "+ edges:\n",
      " 0 --  1  4 15 18    5 --  4  6 12 16   10 --  6  9 11 15   15 --  0 10 14 16\n",
      " 1 --  0  2  8 12    6 --  2  5  7 10   11 --  3 10 12 18   16 --  5  8 15 17\n",
      " 2 --  1  3  6 17    7 --  6  8 14 18   12 --  1  5 11 13   17 --  2 13 16 18\n",
      " 3 --  2  4 11 14    8 --  1  7  9 16   13 --  9 12 14 17   18 --  0  7 11 17\n",
      " 4 --  0  3  5  9    9 --  4  8 10 13   14 --  3  7 13 15\n"
     ]
    }
   ],
   "source": [
    "print(G)"
   ]
  },
  {
   "cell_type": "code",
   "execution_count": 40,
   "id": "a1147db0",
   "metadata": {},
   "outputs": [
    {
     "data": {
      "image/svg+xml": [
       "<?xml version=\"1.0\" encoding=\"UTF-8\"?>\n",
       "<svg xmlns=\"http://www.w3.org/2000/svg\" xmlns:xlink=\"http://www.w3.org/1999/xlink\" width=\"400pt\" height=\"400pt\" viewBox=\"0 0 400 400\" version=\"1.1\">\n",
       "<g id=\"surface62\">\n",
       "<rect x=\"0\" y=\"0\" width=\"400\" height=\"400\" style=\"fill:rgb(100%,100%,100%);fill-opacity:1;stroke:none;\"/>\n",
       "<path style=\"fill:none;stroke-width:1;stroke-linecap:butt;stroke-linejoin:miter;stroke:rgb(26.666667%,26.666667%,26.666667%);stroke-opacity:1;stroke-miterlimit:10;\" d=\"M 329.242188 168.125 C 257.011719 165.640625 199.9375 196.945313 186.980469 267.367188 \"/>\n",
       "<path style=\" stroke:none;fill-rule:nonzero;fill:rgb(26.666667%,26.666667%,26.666667%);fill-opacity:1;\" d=\"M 184.398438 281.398438 L 182.421875 266.527344 L 191.539063 268.207031 L 184.398438 281.398438 \"/>\n",
       "<path style=\"fill:none;stroke-width:1;stroke-linecap:butt;stroke-linejoin:miter;stroke:rgb(26.666667%,26.666667%,26.666667%);stroke-opacity:1;stroke-miterlimit:10;\" d=\"M 329.242188 168.125 C 300.21875 131.695313 259.550781 115.167969 221.054688 139.976563 \"/>\n",
       "<path style=\" stroke:none;fill-rule:nonzero;fill:rgb(26.666667%,26.666667%,26.666667%);fill-opacity:1;\" d=\"M 209.0625 147.707031 L 218.542969 136.082031 L 223.566406 143.875 L 209.0625 147.707031 \"/>\n",
       "<path style=\"fill:none;stroke-width:1;stroke-linecap:butt;stroke-linejoin:miter;stroke:rgb(26.666667%,26.666667%,26.666667%);stroke-opacity:1;stroke-miterlimit:10;\" d=\"M 329.242188 168.125 C 334.269531 119.195313 285.757813 100.183594 268.4375 66.941406 \"/>\n",
       "<path style=\" stroke:none;fill-rule:nonzero;fill:rgb(26.666667%,26.666667%,26.666667%);fill-opacity:1;\" d=\"M 261.847656 54.289063 L 272.550781 64.800781 L 264.328125 69.082031 L 261.847656 54.289063 \"/>\n",
       "<path style=\"fill:none;stroke-width:1;stroke-linecap:butt;stroke-linejoin:miter;stroke:rgb(26.666667%,26.666667%,26.666667%);stroke-opacity:1;stroke-miterlimit:10;\" d=\"M 329.242188 168.125 C 299.949219 208.371094 294.59375 281.015625 330.953125 287.582031 \"/>\n",
       "<path style=\" stroke:none;fill-rule:nonzero;fill:rgb(26.666667%,26.666667%,26.666667%);fill-opacity:1;\" d=\"M 344.992188 290.117188 L 330.132813 292.144531 L 331.777344 283.019531 L 344.992188 290.117188 \"/>\n",
       "<path style=\"fill:none;stroke-width:1;stroke-linecap:butt;stroke-linejoin:miter;stroke:rgb(26.666667%,26.666667%,26.666667%);stroke-opacity:1;stroke-miterlimit:10;\" d=\"M 183.453125 286.550781 C 254.5 287.355469 291.347656 249.578125 321.023438 185.789063 \"/>\n",
       "<path style=\" stroke:none;fill-rule:nonzero;fill:rgb(26.666667%,26.666667%,26.666667%);fill-opacity:1;\" d=\"M 327.042969 172.855469 L 325.226563 187.746094 L 316.820313 183.835938 L 327.042969 172.855469 \"/>\n",
       "<path style=\"fill:none;stroke-width:1;stroke-linecap:butt;stroke-linejoin:miter;stroke:rgb(26.666667%,26.666667%,26.666667%);stroke-opacity:1;stroke-miterlimit:10;\" d=\"M 183.453125 286.550781 C 191.210938 325.191406 214.671875 348.675781 254 349.570313 \"/>\n",
       "<path style=\" stroke:none;fill-rule:nonzero;fill:rgb(26.666667%,26.666667%,26.666667%);fill-opacity:1;\" d=\"M 268.261719 349.890625 L 253.894531 354.203125 L 254.101563 344.933594 L 268.261719 349.890625 \"/>\n",
       "<path style=\"fill:none;stroke-width:1;stroke-linecap:butt;stroke-linejoin:miter;stroke:rgb(26.666667%,26.666667%,26.666667%);stroke-opacity:1;stroke-miterlimit:10;\" d=\"M 183.453125 286.550781 C 188.199219 229.132813 163.558594 169.175781 109.882813 169.472656 \"/>\n",
       "<path style=\" stroke:none;fill-rule:nonzero;fill:rgb(26.666667%,26.666667%,26.666667%);fill-opacity:1;\" d=\"M 95.617188 169.550781 L 109.859375 164.839844 L 109.910156 174.109375 L 95.617188 169.550781 \"/>\n",
       "<path style=\"fill:none;stroke-width:1;stroke-linecap:butt;stroke-linejoin:miter;stroke:rgb(26.666667%,26.666667%,26.666667%);stroke-opacity:1;stroke-miterlimit:10;\" d=\"M 183.453125 286.550781 C 164.503906 264.671875 142.921875 263.011719 115.566406 271.828125 \"/>\n",
       "<path style=\" stroke:none;fill-rule:nonzero;fill:rgb(26.666667%,26.666667%,26.666667%);fill-opacity:1;\" d=\"M 101.988281 276.203125 L 114.144531 267.417969 L 116.988281 276.238281 L 101.988281 276.203125 \"/>\n",
       "<path style=\"fill:none;stroke-width:1;stroke-linecap:butt;stroke-linejoin:miter;stroke:rgb(26.666667%,26.666667%,26.666667%);stroke-opacity:1;stroke-miterlimit:10;\" d=\"M 273.023438 350 C 265.996094 310.339844 241.152344 278.703125 202.417969 283.96875 \"/>\n",
       "<path style=\" stroke:none;fill-rule:nonzero;fill:rgb(26.666667%,26.666667%,26.666667%);fill-opacity:1;\" d=\"M 188.28125 285.890625 L 201.792969 279.375 L 203.042969 288.5625 L 188.28125 285.890625 \"/>\n",
       "<path style=\"fill:none;stroke-width:1;stroke-linecap:butt;stroke-linejoin:miter;stroke:rgb(26.666667%,26.666667%,26.666667%);stroke-opacity:1;stroke-miterlimit:10;\" d=\"M 273.023438 350 C 316.933594 338.65625 348.421875 308.820313 340.992188 264.988281 \"/>\n",
       "<path style=\" stroke:none;fill-rule:nonzero;fill:rgb(26.666667%,26.666667%,26.666667%);fill-opacity:1;\" d=\"M 338.609375 250.925781 L 345.5625 264.214844 L 336.421875 265.765625 L 338.609375 250.925781 \"/>\n",
       "<path style=\"fill:none;stroke-width:1;stroke-linecap:butt;stroke-linejoin:miter;stroke:rgb(26.666667%,26.666667%,26.666667%);stroke-opacity:1;stroke-miterlimit:10;\" d=\"M 273.023438 350 C 236.257813 311.582031 196.78125 311.753906 147.113281 329.183594 \"/>\n",
       "<path style=\" stroke:none;fill-rule:nonzero;fill:rgb(26.666667%,26.666667%,26.666667%);fill-opacity:1;\" d=\"M 133.652344 333.910156 L 145.578125 324.8125 L 148.648438 333.558594 L 133.652344 333.910156 \"/>\n",
       "<path style=\"fill:none;stroke-width:1;stroke-linecap:butt;stroke-linejoin:miter;stroke:rgb(26.666667%,26.666667%,26.666667%);stroke-opacity:1;stroke-miterlimit:10;\" d=\"M 273.023438 350 C 318.035156 300.613281 338.640625 224.628906 288.324219 190.363281 \"/>\n",
       "<path style=\" stroke:none;fill-rule:nonzero;fill:rgb(26.666667%,26.666667%,26.666667%);fill-opacity:1;\" d=\"M 276.53125 182.332031 L 290.933594 186.53125 L 285.714844 194.195313 L 276.53125 182.332031 \"/>\n",
       "<path style=\"fill:none;stroke-width:1;stroke-linecap:butt;stroke-linejoin:miter;stroke:rgb(26.666667%,26.666667%,26.666667%);stroke-opacity:1;stroke-miterlimit:10;\" d=\"M 337.78125 246.03125 C 292.996094 256.988281 255.226563 289.742188 267.578125 331.558594 \"/>\n",
       "<path style=\" stroke:none;fill-rule:nonzero;fill:rgb(26.666667%,26.666667%,26.666667%);fill-opacity:1;\" d=\"M 271.621094 345.238281 L 263.132813 332.871094 L 272.023438 330.246094 L 271.621094 345.238281 \"/>\n",
       "<path style=\"fill:none;stroke-width:1;stroke-linecap:butt;stroke-linejoin:miter;stroke:rgb(26.666667%,26.666667%,26.666667%);stroke-opacity:1;stroke-miterlimit:10;\" d=\"M 337.78125 246.03125 C 323.960938 185.367188 285.640625 146.253906 223.894531 149.453125 \"/>\n",
       "<path style=\" stroke:none;fill-rule:nonzero;fill:rgb(26.666667%,26.666667%,26.666667%);fill-opacity:1;\" d=\"M 209.648438 150.191406 L 223.652344 144.824219 L 224.132813 154.082031 L 209.648438 150.191406 \"/>\n",
       "<path style=\"fill:none;stroke-width:1;stroke-linecap:butt;stroke-linejoin:miter;stroke:rgb(26.666667%,26.666667%,26.666667%);stroke-opacity:1;stroke-miterlimit:10;\" d=\"M 337.78125 246.03125 C 284.121094 245.949219 251.742188 272.328125 234.640625 323.148438 \"/>\n",
       "<path style=\" stroke:none;fill-rule:nonzero;fill:rgb(26.666667%,26.666667%,26.666667%);fill-opacity:1;\" d=\"M 230.089844 336.667969 L 230.246094 321.667969 L 239.03125 324.625 L 230.089844 336.667969 \"/>\n",
       "<path style=\"fill:none;stroke-width:1;stroke-linecap:butt;stroke-linejoin:miter;stroke:rgb(26.666667%,26.666667%,26.666667%);stroke-opacity:1;stroke-miterlimit:10;\" d=\"M 337.78125 246.03125 C 366.785156 205.652344 334.613281 165.304688 335.324219 126.730469 \"/>\n",
       "<path style=\" stroke:none;fill-rule:nonzero;fill:rgb(26.666667%,26.666667%,26.666667%);fill-opacity:1;\" d=\"M 335.589844 112.46875 L 339.960938 126.816406 L 330.691406 126.648438 L 335.589844 112.46875 \"/>\n",
       "<path style=\"fill:none;stroke-width:1;stroke-linecap:butt;stroke-linejoin:miter;stroke:rgb(26.666667%,26.666667%,26.666667%);stroke-opacity:1;stroke-miterlimit:10;\" d=\"M 204.816406 150.441406 C 234.1875 184.933594 268.171875 188.886719 310.875 174.371094 \"/>\n",
       "<path style=\" stroke:none;fill-rule:nonzero;fill:rgb(26.666667%,26.666667%,26.666667%);fill-opacity:1;\" d=\"M 324.378906 169.777344 L 312.367188 178.757813 L 309.382813 169.980469 L 324.378906 169.777344 \"/>\n",
       "<path style=\"fill:none;stroke-width:1;stroke-linecap:butt;stroke-linejoin:miter;stroke:rgb(26.666667%,26.666667%,26.666667%);stroke-opacity:1;stroke-miterlimit:10;\" d=\"M 204.816406 150.441406 C 218.296875 211.519531 257.597656 255.546875 318.652344 248.300781 \"/>\n",
       "<path style=\" stroke:none;fill-rule:nonzero;fill:rgb(26.666667%,26.666667%,26.666667%);fill-opacity:1;\" d=\"M 332.820313 246.617188 L 319.199219 252.902344 L 318.105469 243.695313 L 332.820313 246.617188 \"/>\n",
       "<path style=\"fill:none;stroke-width:1;stroke-linecap:butt;stroke-linejoin:miter;stroke:rgb(26.666667%,26.666667%,26.666667%);stroke-opacity:1;stroke-miterlimit:10;\" d=\"M 204.816406 150.441406 C 147.671875 129.570313 110.535156 155.089844 65.046875 192.660156 \"/>\n",
       "<path style=\" stroke:none;fill-rule:nonzero;fill:rgb(26.666667%,26.666667%,26.666667%);fill-opacity:1;\" d=\"M 54.046875 201.746094 L 62.09375 189.089844 L 67.996094 196.234375 L 54.046875 201.746094 \"/>\n",
       "<path style=\"fill:none;stroke-width:1;stroke-linecap:butt;stroke-linejoin:miter;stroke:rgb(26.666667%,26.666667%,26.666667%);stroke-opacity:1;stroke-miterlimit:10;\" d=\"M 204.816406 150.441406 C 190.632813 101.734375 157.335938 70.898438 107.445313 77.355469 \"/>\n",
       "<path style=\" stroke:none;fill-rule:nonzero;fill:rgb(26.666667%,26.666667%,26.666667%);fill-opacity:1;\" d=\"M 93.296875 79.1875 L 106.847656 72.757813 L 108.039063 81.953125 L 93.296875 79.1875 \"/>\n",
       "<path style=\"fill:none;stroke-width:1;stroke-linecap:butt;stroke-linejoin:miter;stroke:rgb(26.666667%,26.666667%,26.666667%);stroke-opacity:1;stroke-miterlimit:10;\" d=\"M 50 205.089844 C 107.660156 228.171875 159.011719 217.566406 193.941406 166.378906 \"/>\n",
       "<path style=\" stroke:none;fill-rule:nonzero;fill:rgb(26.666667%,26.666667%,26.666667%);fill-opacity:1;\" d=\"M 201.984375 154.59375 L 197.773438 168.992188 L 190.113281 163.765625 L 201.984375 154.59375 \"/>\n",
       "<path style=\"fill:none;stroke-width:1;stroke-linecap:butt;stroke-linejoin:miter;stroke:rgb(26.666667%,26.666667%,26.666667%);stroke-opacity:1;stroke-miterlimit:10;\" d=\"M 50 205.089844 C 43.046875 260.246094 82.441406 283.363281 116.078125 321 \"/>\n",
       "<path style=\" stroke:none;fill-rule:nonzero;fill:rgb(26.666667%,26.666667%,26.666667%);fill-opacity:1;\" d=\"M 125.585938 331.636719 L 112.621094 324.089844 L 119.535156 317.910156 L 125.585938 331.636719 \"/>\n",
       "<path style=\"fill:none;stroke-width:1;stroke-linecap:butt;stroke-linejoin:miter;stroke:rgb(26.666667%,26.666667%,26.666667%);stroke-opacity:1;stroke-miterlimit:10;\" d=\"M 50 205.089844 C 54.007813 236.390625 101.574219 263.417969 102.765625 259.417969 \"/>\n",
       "<path style=\" stroke:none;fill-rule:nonzero;fill:rgb(26.666667%,26.666667%,26.666667%);fill-opacity:1;\" d=\"M 98.699219 273.089844 L 98.324219 258.09375 L 107.207031 260.738281 L 98.699219 273.089844 \"/>\n",
       "<path style=\"fill:none;stroke-width:1;stroke-linecap:butt;stroke-linejoin:miter;stroke:rgb(26.666667%,26.666667%,26.666667%);stroke-opacity:1;stroke-miterlimit:10;\" d=\"M 50 205.089844 C 112.542969 190.679688 172.769531 139.167969 149.332031 87.359375 \"/>\n",
       "<path style=\" stroke:none;fill-rule:nonzero;fill:rgb(26.666667%,26.666667%,26.666667%);fill-opacity:1;\" d=\"M 143.453125 74.359375 L 153.554688 85.449219 L 145.109375 89.269531 L 143.453125 74.359375 \"/>\n",
       "<path style=\"fill:none;stroke-width:1;stroke-linecap:butt;stroke-linejoin:miter;stroke:rgb(26.666667%,26.666667%,26.666667%);stroke-opacity:1;stroke-miterlimit:10;\" d=\"M 129.054688 335.523438 C 165.34375 376.851563 217.941406 397.046875 258.246094 362.621094 \"/>\n",
       "<path style=\" stroke:none;fill-rule:nonzero;fill:rgb(26.666667%,26.666667%,26.666667%);fill-opacity:1;\" d=\"M 269.09375 353.355469 L 261.257813 366.148438 L 255.234375 359.097656 L 269.09375 353.355469 \"/>\n",
       "<path style=\"fill:none;stroke-width:1;stroke-linecap:butt;stroke-linejoin:miter;stroke:rgb(26.666667%,26.666667%,26.666667%);stroke-opacity:1;stroke-miterlimit:10;\" d=\"M 129.054688 335.523438 C 141.703125 277.042969 121.636719 204.867188 69.125 205.03125 \"/>\n",
       "<path style=\" stroke:none;fill-rule:nonzero;fill:rgb(26.666667%,26.666667%,26.666667%);fill-opacity:1;\" d=\"M 54.859375 205.074219 L 69.109375 200.394531 L 69.140625 209.664063 L 54.859375 205.074219 \"/>\n",
       "<path style=\"fill:none;stroke-width:1;stroke-linecap:butt;stroke-linejoin:miter;stroke:rgb(26.666667%,26.666667%,26.666667%);stroke-opacity:1;stroke-miterlimit:10;\" d=\"M 129.054688 335.523438 C 187.632813 339.664063 265.316406 295.460938 247.492188 259.121094 \"/>\n",
       "<path style=\" stroke:none;fill-rule:nonzero;fill:rgb(26.666667%,26.666667%,26.666667%);fill-opacity:1;\" d=\"M 241.210938 246.3125 L 251.652344 257.082031 L 243.328125 261.164063 L 241.210938 246.3125 \"/>\n",
       "<path style=\"fill:none;stroke-width:1;stroke-linecap:butt;stroke-linejoin:miter;stroke:rgb(26.666667%,26.666667%,26.666667%);stroke-opacity:1;stroke-miterlimit:10;\" d=\"M 129.054688 335.523438 C 173.921875 303.617188 201.09375 220.238281 169.253906 209.65625 \"/>\n",
       "<path style=\" stroke:none;fill-rule:nonzero;fill:rgb(26.666667%,26.666667%,26.666667%);fill-opacity:1;\" d=\"M 155.71875 205.152344 L 170.71875 205.257813 L 167.792969 214.054688 L 155.71875 205.152344 \"/>\n",
       "<path style=\"fill:none;stroke-width:1;stroke-linecap:butt;stroke-linejoin:miter;stroke:rgb(26.666667%,26.666667%,26.666667%);stroke-opacity:1;stroke-miterlimit:10;\" d=\"M 239.019531 241.847656 C 186.785156 243.890625 172.21875 285.792969 141.667969 320.992188 \"/>\n",
       "<path style=\" stroke:none;fill-rule:nonzero;fill:rgb(26.666667%,26.666667%,26.666667%);fill-opacity:1;\" d=\"M 132.316406 331.765625 L 138.167969 317.953125 L 145.167969 324.027344 L 132.316406 331.765625 \"/>\n",
       "<path style=\"fill:none;stroke-width:1;stroke-linecap:butt;stroke-linejoin:miter;stroke:rgb(26.666667%,26.666667%,26.666667%);stroke-opacity:1;stroke-miterlimit:10;\" d=\"M 239.019531 241.847656 C 215 184.214844 170.929688 153.664063 109.90625 165.785156 \"/>\n",
       "<path style=\" stroke:none;fill-rule:nonzero;fill:rgb(26.666667%,26.666667%,26.666667%);fill-opacity:1;\" d=\"M 95.914063 168.5625 L 109.003906 161.238281 L 110.808594 170.328125 L 95.914063 168.5625 \"/>\n",
       "<path style=\"fill:none;stroke-width:1;stroke-linecap:butt;stroke-linejoin:miter;stroke:rgb(26.666667%,26.666667%,26.666667%);stroke-opacity:1;stroke-miterlimit:10;\" d=\"M 239.019531 241.847656 C 297.796875 224.847656 303.433594 174.269531 327.394531 124.570313 \"/>\n",
       "<path style=\" stroke:none;fill-rule:nonzero;fill:rgb(26.666667%,26.666667%,26.666667%);fill-opacity:1;\" d=\"M 333.585938 111.71875 L 331.566406 126.582031 L 323.21875 122.554688 L 333.585938 111.71875 \"/>\n",
       "<path style=\"fill:none;stroke-width:1;stroke-linecap:butt;stroke-linejoin:miter;stroke:rgb(26.666667%,26.666667%,26.666667%);stroke-opacity:1;stroke-miterlimit:10;\" d=\"M 239.019531 241.847656 C 256.367188 282.636719 287.972656 304.636719 331.054688 295.179688 \"/>\n",
       "<path style=\" stroke:none;fill-rule:nonzero;fill:rgb(26.666667%,26.666667%,26.666667%);fill-opacity:1;\" d=\"M 344.988281 292.121094 L 332.050781 299.707031 L 330.0625 290.652344 L 344.988281 292.121094 \"/>\n",
       "<path style=\"fill:none;stroke-width:1;stroke-linecap:butt;stroke-linejoin:miter;stroke:rgb(26.666667%,26.666667%,26.666667%);stroke-opacity:1;stroke-miterlimit:10;\" d=\"M 90.792969 169.578125 C 87.269531 225.574219 110.40625 269.484375 164.664063 282.160156 \"/>\n",
       "<path style=\" stroke:none;fill-rule:nonzero;fill:rgb(26.666667%,26.666667%,26.666667%);fill-opacity:1;\" d=\"M 178.558594 285.40625 L 163.609375 286.671875 L 165.71875 277.644531 L 178.558594 285.40625 \"/>\n",
       "<path style=\"fill:none;stroke-width:1;stroke-linecap:butt;stroke-linejoin:miter;stroke:rgb(26.666667%,26.666667%,26.666667%);stroke-opacity:1;stroke-miterlimit:10;\" d=\"M 90.792969 169.578125 C 114.929688 227.222656 158.972656 257.328125 220.140625 245.5 \"/>\n",
       "<path style=\" stroke:none;fill-rule:nonzero;fill:rgb(26.666667%,26.666667%,26.666667%);fill-opacity:1;\" d=\"M 234.148438 242.792969 L 221.023438 250.050781 L 219.261719 240.949219 L 234.148438 242.792969 \"/>\n",
       "<path style=\"fill:none;stroke-width:1;stroke-linecap:butt;stroke-linejoin:miter;stroke:rgb(26.666667%,26.666667%,26.666667%);stroke-opacity:1;stroke-miterlimit:10;\" d=\"M 90.792969 169.578125 C 116.542969 145.875 130.324219 96.6875 106.097656 86.980469 \"/>\n",
       "<path style=\" stroke:none;fill-rule:nonzero;fill:rgb(26.666667%,26.666667%,26.666667%);fill-opacity:1;\" d=\"M 92.855469 81.671875 L 107.824219 82.675781 L 104.375 91.28125 L 92.855469 81.671875 \"/>\n",
       "<path style=\"fill:none;stroke-width:1;stroke-linecap:butt;stroke-linejoin:miter;stroke:rgb(26.666667%,26.666667%,26.666667%);stroke-opacity:1;stroke-miterlimit:10;\" d=\"M 90.792969 169.578125 C 130.675781 156.773438 164.152344 123.449219 148.921875 87.558594 \"/>\n",
       "<path style=\" stroke:none;fill-rule:nonzero;fill:rgb(26.666667%,26.666667%,26.666667%);fill-opacity:1;\" d=\"M 143.351563 74.425781 L 153.1875 85.746094 L 144.65625 89.367188 L 143.351563 74.425781 \"/>\n",
       "<path style=\"fill:none;stroke-width:1;stroke-linecap:butt;stroke-linejoin:miter;stroke:rgb(26.666667%,26.666667%,26.666667%);stroke-opacity:1;stroke-miterlimit:10;\" d=\"M 88.273438 79.835938 C 102.332031 128.65625 135.910156 160.789063 185.566406 153.332031 \"/>\n",
       "<path style=\" stroke:none;fill-rule:nonzero;fill:rgb(26.666667%,26.666667%,26.666667%);fill-opacity:1;\" d=\"M 199.675781 151.214844 L 186.253906 157.917969 L 184.878906 148.75 L 199.675781 151.214844 \"/>\n",
       "<path style=\"fill:none;stroke-width:1;stroke-linecap:butt;stroke-linejoin:miter;stroke:rgb(26.666667%,26.666667%,26.666667%);stroke-opacity:1;stroke-miterlimit:10;\" d=\"M 88.273438 79.835938 C 65.800781 102.457031 56.542969 133.105469 77.695313 155.632813 \"/>\n",
       "<path style=\" stroke:none;fill-rule:nonzero;fill:rgb(26.666667%,26.666667%,26.666667%);fill-opacity:1;\" d=\"M 87.460938 166.035156 L 74.316406 158.808594 L 81.078125 152.460938 L 87.460938 166.035156 \"/>\n",
       "<path style=\"fill:none;stroke-width:1;stroke-linecap:butt;stroke-linejoin:miter;stroke:rgb(26.666667%,26.666667%,26.666667%);stroke-opacity:1;stroke-miterlimit:10;\" d=\"M 88.273438 79.835938 C 73.121094 130.488281 83.597656 186.945313 132.117188 198.910156 \"/>\n",
       "<path style=\" stroke:none;fill-rule:nonzero;fill:rgb(26.666667%,26.666667%,26.666667%);fill-opacity:1;\" d=\"M 145.96875 202.328125 L 131.007813 203.410156 L 133.226563 194.410156 L 145.96875 202.328125 \"/>\n",
       "<path style=\"fill:none;stroke-width:1;stroke-linecap:butt;stroke-linejoin:miter;stroke:rgb(26.666667%,26.666667%,26.666667%);stroke-opacity:1;stroke-miterlimit:10;\" d=\"M 88.273438 79.835938 C 116.050781 108.332031 145.964844 109.4375 182.640625 94.554688 \"/>\n",
       "<path style=\" stroke:none;fill-rule:nonzero;fill:rgb(26.666667%,26.666667%,26.666667%);fill-opacity:1;\" d=\"M 195.859375 89.1875 L 184.382813 98.847656 L 180.898438 90.257813 L 195.859375 89.1875 \"/>\n",
       "<path style=\"fill:none;stroke-width:1;stroke-linecap:butt;stroke-linejoin:miter;stroke:rgb(26.666667%,26.666667%,26.666667%);stroke-opacity:1;stroke-miterlimit:10;\" d=\"M 150.816406 203.523438 C 115.925781 236.039063 133.984375 275.640625 130.648438 316.199219 \"/>\n",
       "<path style=\" stroke:none;fill-rule:nonzero;fill:rgb(26.666667%,26.666667%,26.666667%);fill-opacity:1;\" d=\"M 129.476563 330.417969 L 126.027344 315.820313 L 135.265625 316.582031 L 129.476563 330.417969 \"/>\n",
       "<path style=\"fill:none;stroke-width:1;stroke-linecap:butt;stroke-linejoin:miter;stroke:rgb(26.666667%,26.666667%,26.666667%);stroke-opacity:1;stroke-miterlimit:10;\" d=\"M 150.816406 203.523438 C 166.472656 152.445313 155.453125 90.671875 107.320313 82.910156 \"/>\n",
       "<path style=\" stroke:none;fill-rule:nonzero;fill:rgb(26.666667%,26.666667%,26.666667%);fill-opacity:1;\" d=\"M 93.238281 80.636719 L 108.058594 78.332031 L 106.582031 87.484375 L 93.238281 80.636719 \"/>\n",
       "<path style=\"fill:none;stroke-width:1;stroke-linecap:butt;stroke-linejoin:miter;stroke:rgb(26.666667%,26.666667%,26.666667%);stroke-opacity:1;stroke-miterlimit:10;\" d=\"M 150.816406 203.523438 C 137.777344 262.105469 154.328125 314.914063 210.140625 334.777344 \"/>\n",
       "<path style=\" stroke:none;fill-rule:nonzero;fill:rgb(26.666667%,26.666667%,26.666667%);fill-opacity:1;\" d=\"M 223.582031 339.558594 L 208.585938 339.144531 L 211.695313 330.410156 L 223.582031 339.558594 \"/>\n",
       "<path style=\"fill:none;stroke-width:1;stroke-linecap:butt;stroke-linejoin:miter;stroke:rgb(26.666667%,26.666667%,26.666667%);stroke-opacity:1;stroke-miterlimit:10;\" d=\"M 150.816406 203.523438 C 219.167969 184.605469 237.710938 135.558594 254.808594 68.769531 \"/>\n",
       "<path style=\" stroke:none;fill-rule:nonzero;fill:rgb(26.666667%,26.666667%,26.666667%);fill-opacity:1;\" d=\"M 258.347656 54.949219 L 259.296875 69.917969 L 250.316406 67.621094 L 258.347656 54.949219 \"/>\n",
       "<path style=\"fill:none;stroke-width:1;stroke-linecap:butt;stroke-linejoin:miter;stroke:rgb(26.666667%,26.666667%,26.666667%);stroke-opacity:1;stroke-miterlimit:10;\" d=\"M 228.523438 341.320313 C 282.765625 342.191406 323.105469 317.777344 333.921875 264.882813 \"/>\n",
       "<path style=\" stroke:none;fill-rule:nonzero;fill:rgb(26.666667%,26.666667%,26.666667%);fill-opacity:1;\" d=\"M 336.78125 250.90625 L 338.464844 265.8125 L 329.382813 263.953125 L 336.78125 250.90625 \"/>\n",
       "<path style=\"fill:none;stroke-width:1;stroke-linecap:butt;stroke-linejoin:miter;stroke:rgb(26.666667%,26.666667%,26.666667%);stroke-opacity:1;stroke-miterlimit:10;\" d=\"M 228.523438 341.320313 C 243.085938 281.21875 225.550781 209.121094 169.9375 204.957031 \"/>\n",
       "<path style=\" stroke:none;fill-rule:nonzero;fill:rgb(26.666667%,26.666667%,26.666667%);fill-opacity:1;\" d=\"M 155.710938 203.890625 L 170.28125 200.332031 L 169.589844 209.578125 L 155.710938 203.890625 \"/>\n",
       "<path style=\"fill:none;stroke-width:1;stroke-linecap:butt;stroke-linejoin:miter;stroke:rgb(26.666667%,26.666667%,26.666667%);stroke-opacity:1;stroke-miterlimit:10;\" d=\"M 228.523438 341.320313 C 208.027344 290.800781 169.601563 263.078125 116.421875 273.839844 \"/>\n",
       "<path style=\" stroke:none;fill-rule:nonzero;fill:rgb(26.666667%,26.666667%,26.666667%);fill-opacity:1;\" d=\"M 102.441406 276.671875 L 115.503906 269.296875 L 117.34375 278.386719 L 102.441406 276.671875 \"/>\n",
       "<path style=\"fill:none;stroke-width:1;stroke-linecap:butt;stroke-linejoin:miter;stroke:rgb(26.666667%,26.666667%,26.666667%);stroke-opacity:1;stroke-miterlimit:10;\" d=\"M 228.523438 341.320313 C 274.0625 357.535156 312.3125 346.941406 339.3125 306.878906 \"/>\n",
       "<path style=\" stroke:none;fill-rule:nonzero;fill:rgb(26.666667%,26.666667%,26.666667%);fill-opacity:1;\" d=\"M 347.285156 295.046875 L 343.15625 309.46875 L 335.46875 304.285156 L 347.285156 295.046875 \"/>\n",
       "<path style=\"fill:none;stroke-width:1;stroke-linecap:butt;stroke-linejoin:miter;stroke:rgb(26.666667%,26.666667%,26.666667%);stroke-opacity:1;stroke-miterlimit:10;\" d=\"M 97.324219 277.707031 C 120.566406 308.167969 187.035156 311.113281 185.8125 302.722656 \"/>\n",
       "<path style=\" stroke:none;fill-rule:nonzero;fill:rgb(26.666667%,26.666667%,26.666667%);fill-opacity:1;\" d=\"M 183.75 288.605469 L 190.398438 302.054688 L 181.222656 303.394531 L 183.75 288.605469 \"/>\n",
       "<path style=\"fill:none;stroke-width:1;stroke-linecap:butt;stroke-linejoin:miter;stroke:rgb(26.666667%,26.666667%,26.666667%);stroke-opacity:1;stroke-miterlimit:10;\" d=\"M 97.324219 277.707031 C 106.316406 246.070313 95.808594 202.496094 69.03125 204.011719 \"/>\n",
       "<path style=\" stroke:none;fill-rule:nonzero;fill:rgb(26.666667%,26.666667%,26.666667%);fill-opacity:1;\" d=\"M 54.785156 204.820313 L 68.765625 199.386719 L 69.292969 208.640625 L 54.785156 204.820313 \"/>\n",
       "<path style=\"fill:none;stroke-width:1;stroke-linecap:butt;stroke-linejoin:miter;stroke:rgb(26.666667%,26.666667%,26.666667%);stroke-opacity:1;stroke-miterlimit:10;\" d=\"M 97.324219 277.707031 C 118.054688 327.792969 155.589844 351.515625 209.25 344.015625 \"/>\n",
       "<path style=\" stroke:none;fill-rule:nonzero;fill:rgb(26.666667%,26.666667%,26.666667%);fill-opacity:1;\" d=\"M 223.378906 342.039063 L 209.890625 348.605469 L 208.609375 339.421875 L 223.378906 342.039063 \"/>\n",
       "<path style=\"fill:none;stroke-width:1;stroke-linecap:butt;stroke-linejoin:miter;stroke:rgb(26.666667%,26.666667%,26.666667%);stroke-opacity:1;stroke-miterlimit:10;\" d=\"M 97.324219 277.707031 C 178.128906 247.90625 246.398438 173.703125 209.554688 104.128906 \"/>\n",
       "<path style=\" stroke:none;fill-rule:nonzero;fill:rgb(26.666667%,26.666667%,26.666667%);fill-opacity:1;\" d=\"M 202.878906 91.519531 L 213.652344 101.957031 L 205.460938 106.296875 L 202.878906 91.519531 \"/>\n",
       "<path style=\"fill:none;stroke-width:1;stroke-linecap:butt;stroke-linejoin:miter;stroke:rgb(26.666667%,26.666667%,26.666667%);stroke-opacity:1;stroke-miterlimit:10;\" d=\"M 200.621094 87.257813 C 173.015625 57.34375 138.792969 47.960938 104.542969 69.570313 \"/>\n",
       "<path style=\" stroke:none;fill-rule:nonzero;fill:rgb(26.666667%,26.666667%,26.666667%);fill-opacity:1;\" d=\"M 92.480469 77.183594 L 102.070313 65.652344 L 107.019531 73.492188 L 92.480469 77.183594 \"/>\n",
       "<path style=\"fill:none;stroke-width:1;stroke-linecap:butt;stroke-linejoin:miter;stroke:rgb(26.666667%,26.666667%,26.666667%);stroke-opacity:1;stroke-miterlimit:10;\" d=\"M 200.621094 87.257813 C 122.144531 117.710938 78.492188 176.363281 93.796875 258.734375 \"/>\n",
       "<path style=\" stroke:none;fill-rule:nonzero;fill:rgb(26.666667%,26.666667%,26.666667%);fill-opacity:1;\" d=\"M 96.402344 272.761719 L 89.242188 259.582031 L 98.355469 257.890625 L 96.402344 272.761719 \"/>\n",
       "<path style=\"fill:none;stroke-width:1;stroke-linecap:butt;stroke-linejoin:miter;stroke:rgb(26.666667%,26.666667%,26.666667%);stroke-opacity:1;stroke-miterlimit:10;\" d=\"M 200.621094 87.257813 C 233.070313 125.085938 270.21875 128.117188 317.398438 113.164063 \"/>\n",
       "<path style=\" stroke:none;fill-rule:nonzero;fill:rgb(26.666667%,26.666667%,26.666667%);fill-opacity:1;\" d=\"M 331 108.855469 L 318.800781 117.585938 L 316 108.746094 L 331 108.855469 \"/>\n",
       "<path style=\"fill:none;stroke-width:1;stroke-linecap:butt;stroke-linejoin:miter;stroke:rgb(26.666667%,26.666667%,26.666667%);stroke-opacity:1;stroke-miterlimit:10;\" d=\"M 200.621094 87.257813 C 194.996094 131.375 213.035156 181.050781 253.351563 180.058594 \"/>\n",
       "<path style=\" stroke:none;fill-rule:nonzero;fill:rgb(26.666667%,26.666667%,26.666667%);fill-opacity:1;\" d=\"M 267.613281 179.707031 L 253.464844 184.691406 L 253.238281 175.425781 L 267.613281 179.707031 \"/>\n",
       "<path style=\"fill:none;stroke-width:1;stroke-linecap:butt;stroke-linejoin:miter;stroke:rgb(26.666667%,26.666667%,26.666667%);stroke-opacity:1;stroke-miterlimit:10;\" d=\"M 335.683594 107.371094 C 296.398438 148.167969 282.460938 234.949219 319.003906 242.269531 \"/>\n",
       "<path style=\" stroke:none;fill-rule:nonzero;fill:rgb(26.666667%,26.666667%,26.666667%);fill-opacity:1;\" d=\"M 332.992188 245.070313 L 318.09375 246.8125 L 319.914063 237.722656 L 332.992188 245.070313 \"/>\n",
       "<path style=\"fill:none;stroke-width:1;stroke-linecap:butt;stroke-linejoin:miter;stroke:rgb(26.666667%,26.666667%,26.666667%);stroke-opacity:1;stroke-miterlimit:10;\" d=\"M 335.683594 107.371094 C 268.953125 120.109375 195.1875 195.289063 225.910156 227.921875 \"/>\n",
       "<path style=\" stroke:none;fill-rule:nonzero;fill:rgb(26.666667%,26.666667%,26.666667%);fill-opacity:1;\" d=\"M 235.6875 238.308594 L 222.535156 231.097656 L 229.285156 224.746094 L 235.6875 238.308594 \"/>\n",
       "<path style=\"fill:none;stroke-width:1;stroke-linecap:butt;stroke-linejoin:miter;stroke:rgb(26.666667%,26.666667%,26.666667%);stroke-opacity:1;stroke-miterlimit:10;\" d=\"M 335.683594 107.371094 C 303.566406 65.890625 248.988281 40.242188 214.285156 73.976563 \"/>\n",
       "<path style=\" stroke:none;fill-rule:nonzero;fill:rgb(26.666667%,26.666667%,26.666667%);fill-opacity:1;\" d=\"M 204.054688 83.921875 L 211.054688 70.652344 L 217.515625 77.300781 L 204.054688 83.921875 \"/>\n",
       "<path style=\"fill:none;stroke-width:1;stroke-linecap:butt;stroke-linejoin:miter;stroke:rgb(26.666667%,26.666667%,26.666667%);stroke-opacity:1;stroke-miterlimit:10;\" d=\"M 335.683594 107.371094 C 316.667969 70.335938 270.40625 39.300781 245.84375 63.648438 \"/>\n",
       "<path style=\" stroke:none;fill-rule:nonzero;fill:rgb(26.666667%,26.666667%,26.666667%);fill-opacity:1;\" d=\"M 255.976563 53.605469 L 249.109375 66.9375 L 242.582031 60.355469 L 255.976563 53.605469 \"/>\n",
       "<path style=\"fill:none;stroke-width:1;stroke-linecap:butt;stroke-linejoin:miter;stroke:rgb(26.666667%,26.666667%,26.666667%);stroke-opacity:1;stroke-miterlimit:10;\" d=\"M 259.613281 50 C 246.773438 102.003906 263.820313 168.84375 309.851563 168.339844 \"/>\n",
       "<path style=\" stroke:none;fill-rule:nonzero;fill:rgb(26.666667%,26.666667%,26.666667%);fill-opacity:1;\" d=\"M 324.117188 168.183594 L 309.902344 172.972656 L 309.800781 163.703125 L 324.117188 168.183594 \"/>\n",
       "<path style=\"fill:none;stroke-width:1;stroke-linecap:butt;stroke-linejoin:miter;stroke:rgb(26.666667%,26.666667%,26.666667%);stroke-opacity:1;stroke-miterlimit:10;\" d=\"M 259.613281 50 C 185.742188 66.058594 108.871094 134.449219 140.910156 187.207031 \"/>\n",
       "<path style=\" stroke:none;fill-rule:nonzero;fill:rgb(26.666667%,26.666667%,26.666667%);fill-opacity:1;\" d=\"M 148.3125 199.402344 L 136.945313 189.613281 L 144.871094 184.800781 L 148.3125 199.402344 \"/>\n",
       "<path style=\"fill:none;stroke-width:1;stroke-linecap:butt;stroke-linejoin:miter;stroke:rgb(26.666667%,26.666667%,26.666667%);stroke-opacity:1;stroke-miterlimit:10;\" d=\"M 259.613281 50 C 263.519531 84.355469 284.203125 115.359375 316.585938 110.332031 \"/>\n",
       "<path style=\" stroke:none;fill-rule:nonzero;fill:rgb(26.666667%,26.666667%,26.666667%);fill-opacity:1;\" d=\"M 330.683594 108.148438 L 317.296875 114.914063 L 315.875 105.753906 L 330.683594 108.148438 \"/>\n",
       "<path style=\"fill:none;stroke-width:1;stroke-linecap:butt;stroke-linejoin:miter;stroke:rgb(26.666667%,26.666667%,26.666667%);stroke-opacity:1;stroke-miterlimit:10;\" d=\"M 259.613281 50 C 220.234375 20.851563 143.105469 19.777344 142.03125 50.738281 \"/>\n",
       "<path style=\" stroke:none;fill-rule:nonzero;fill:rgb(26.666667%,26.666667%,26.666667%);fill-opacity:1;\" d=\"M 141.535156 64.996094 L 137.398438 50.578125 L 146.664063 50.898438 L 141.535156 64.996094 \"/>\n",
       "<path style=\"fill:none;stroke-width:1;stroke-linecap:butt;stroke-linejoin:miter;stroke:rgb(26.666667%,26.666667%,26.666667%);stroke-opacity:1;stroke-miterlimit:10;\" d=\"M 141.367188 69.757813 C 82.3125 86.058594 56.121094 125.128906 51.453125 186.097656 \"/>\n",
       "<path style=\" stroke:none;fill-rule:nonzero;fill:rgb(26.666667%,26.666667%,26.666667%);fill-opacity:1;\" d=\"M 50.363281 200.324219 L 46.832031 185.746094 L 56.074219 186.453125 L 50.363281 200.324219 \"/>\n",
       "<path style=\"fill:none;stroke-width:1;stroke-linecap:butt;stroke-linejoin:miter;stroke:rgb(26.666667%,26.666667%,26.666667%);stroke-opacity:1;stroke-miterlimit:10;\" d=\"M 141.367188 69.757813 C 101.957031 82.714844 71.171875 114.09375 84.359375 151.390625 \"/>\n",
       "<path style=\" stroke:none;fill-rule:nonzero;fill:rgb(26.666667%,26.666667%,26.666667%);fill-opacity:1;\" d=\"M 89.113281 164.839844 L 79.988281 152.933594 L 88.730469 149.84375 L 89.113281 164.839844 \"/>\n",
       "<path style=\"fill:none;stroke-width:1;stroke-linecap:butt;stroke-linejoin:miter;stroke:rgb(26.666667%,26.666667%,26.666667%);stroke-opacity:1;stroke-miterlimit:10;\" d=\"M 141.367188 69.757813 C 177.9375 91.097656 205.917969 75.066406 242.3125 58.074219 \"/>\n",
       "<path style=\" stroke:none;fill-rule:nonzero;fill:rgb(26.666667%,26.666667%,26.666667%);fill-opacity:1;\" d=\"M 255.242188 52.039063 L 244.273438 62.273438 L 240.355469 53.875 L 255.242188 52.039063 \"/>\n",
       "<path style=\"fill:none;stroke-width:1;stroke-linecap:butt;stroke-linejoin:miter;stroke:rgb(26.666667%,26.666667%,26.666667%);stroke-opacity:1;stroke-miterlimit:10;\" d=\"M 141.367188 69.757813 C 150.785156 134.886719 189.34375 186.761719 253.238281 181.25 \"/>\n",
       "<path style=\" stroke:none;fill-rule:nonzero;fill:rgb(26.666667%,26.666667%,26.666667%);fill-opacity:1;\" d=\"M 267.449219 180.023438 L 253.636719 185.867188 L 252.839844 176.632813 L 267.449219 180.023438 \"/>\n",
       "<path style=\"fill:none;stroke-width:1;stroke-linecap:butt;stroke-linejoin:miter;stroke:rgb(26.666667%,26.666667%,26.666667%);stroke-opacity:1;stroke-miterlimit:10;\" d=\"M 272.503906 179.589844 C 227.074219 229.019531 205.59375 308.964844 256.457031 339.917969 \"/>\n",
       "<path style=\" stroke:none;fill-rule:nonzero;fill:rgb(26.666667%,26.666667%,26.666667%);fill-opacity:1;\" d=\"M 268.644531 347.332031 L 254.046875 343.878906 L 258.867188 335.957031 L 268.644531 347.332031 \"/>\n",
       "<path style=\"fill:none;stroke-width:1;stroke-linecap:butt;stroke-linejoin:miter;stroke:rgb(26.666667%,26.666667%,26.666667%);stroke-opacity:1;stroke-miterlimit:10;\" d=\"M 272.503906 179.589844 C 275.738281 137.699219 257.289063 110.355469 218.394531 94.5 \"/>\n",
       "<path style=\" stroke:none;fill-rule:nonzero;fill:rgb(26.666667%,26.666667%,26.666667%);fill-opacity:1;\" d=\"M 205.183594 89.117188 L 220.144531 90.210938 L 216.648438 98.792969 L 205.183594 89.117188 \"/>\n",
       "<path style=\"fill:none;stroke-width:1;stroke-linecap:butt;stroke-linejoin:miter;stroke:rgb(26.666667%,26.666667%,26.666667%);stroke-opacity:1;stroke-miterlimit:10;\" d=\"M 272.503906 179.589844 C 262.667969 115.140625 225.542969 70.847656 160.816406 70.007813 \"/>\n",
       "<path style=\" stroke:none;fill-rule:nonzero;fill:rgb(26.666667%,26.666667%,26.666667%);fill-opacity:1;\" d=\"M 146.550781 69.824219 L 160.875 65.375 L 160.757813 74.644531 L 146.550781 69.824219 \"/>\n",
       "<path style=\"fill:none;stroke-width:1;stroke-linecap:butt;stroke-linejoin:miter;stroke:rgb(26.666667%,26.666667%,26.666667%);stroke-opacity:1;stroke-miterlimit:10;\" d=\"M 272.503906 179.589844 C 264.160156 231.101563 282.984375 289.238281 330.660156 290.507813 \"/>\n",
       "<path style=\" stroke:none;fill-rule:nonzero;fill:rgb(26.666667%,26.666667%,26.666667%);fill-opacity:1;\" d=\"M 344.921875 290.886719 L 330.535156 295.140625 L 330.785156 285.871094 L 344.921875 290.886719 \"/>\n",
       "<path style=\"fill:none;stroke-width:1;stroke-linecap:butt;stroke-linejoin:miter;stroke:rgb(26.666667%,26.666667%,26.666667%);stroke-opacity:1;stroke-miterlimit:10;\" d=\"M 350 291.019531 C 372.660156 252.847656 359.183594 222.820313 338.53125 185.097656 \"/>\n",
       "<path style=\" stroke:none;fill-rule:nonzero;fill:rgb(26.666667%,26.666667%,26.666667%);fill-opacity:1;\" d=\"M 331.683594 172.582031 L 342.597656 182.871094 L 334.46875 187.320313 L 331.683594 172.582031 \"/>\n",
       "<path style=\"fill:none;stroke-width:1;stroke-linecap:butt;stroke-linejoin:miter;stroke:rgb(26.666667%,26.666667%,26.666667%);stroke-opacity:1;stroke-miterlimit:10;\" d=\"M 350 291.019531 C 332.59375 250.203125 300.9375 228.238281 257.804688 237.722656 \"/>\n",
       "<path style=\" stroke:none;fill-rule:nonzero;fill:rgb(26.666667%,26.666667%,26.666667%);fill-opacity:1;\" d=\"M 243.871094 240.785156 L 256.808594 233.195313 L 258.796875 242.246094 L 243.871094 240.785156 \"/>\n",
       "<path style=\"fill:none;stroke-width:1;stroke-linecap:butt;stroke-linejoin:miter;stroke:rgb(26.666667%,26.666667%,26.666667%);stroke-opacity:1;stroke-miterlimit:10;\" d=\"M 350 291.019531 C 304.800781 276.386719 275.445313 295.46875 242.144531 328.011719 \"/>\n",
       "<path style=\" stroke:none;fill-rule:nonzero;fill:rgb(26.666667%,26.666667%,26.666667%);fill-opacity:1;\" d=\"M 231.941406 337.980469 L 238.902344 324.695313 L 245.382813 331.324219 L 231.941406 337.980469 \"/>\n",
       "<path style=\"fill:none;stroke-width:1;stroke-linecap:butt;stroke-linejoin:miter;stroke:rgb(26.666667%,26.666667%,26.666667%);stroke-opacity:1;stroke-miterlimit:10;\" d=\"M 350 291.019531 C 356.980469 240.914063 339.445313 198.074219 291.25 184.765625 \"/>\n",
       "<path style=\" stroke:none;fill-rule:nonzero;fill:rgb(26.666667%,26.666667%,26.666667%);fill-opacity:1;\" d=\"M 277.5 180.96875 L 292.484375 180.296875 L 290.015625 189.234375 L 277.5 180.96875 \"/>\n",
       "<path style=\"fill-rule:nonzero;fill:rgb(100%,0%,0%);fill-opacity:1;stroke-width:1;stroke-linecap:butt;stroke-linejoin:miter;stroke:rgb(0%,0%,0%);stroke-opacity:1;stroke-miterlimit:10;\" d=\"M 334.242188 168.125 C 334.242188 174.792969 324.242188 174.792969 324.242188 168.125 C 324.242188 161.460938 334.242188 161.460938 334.242188 168.125 \"/>\n",
       "<path style=\"fill-rule:nonzero;fill:rgb(100%,0%,0%);fill-opacity:1;stroke-width:1;stroke-linecap:butt;stroke-linejoin:miter;stroke:rgb(0%,0%,0%);stroke-opacity:1;stroke-miterlimit:10;\" d=\"M 188.453125 286.550781 C 188.453125 293.214844 178.453125 293.214844 178.453125 286.550781 C 178.453125 279.882813 188.453125 279.882813 188.453125 286.550781 \"/>\n",
       "<path style=\"fill-rule:nonzero;fill:rgb(100%,0%,0%);fill-opacity:1;stroke-width:1;stroke-linecap:butt;stroke-linejoin:miter;stroke:rgb(0%,0%,0%);stroke-opacity:1;stroke-miterlimit:10;\" d=\"M 278.023438 350 C 278.023438 356.667969 268.023438 356.667969 268.023438 350 C 268.023438 343.332031 278.023438 343.332031 278.023438 350 \"/>\n",
       "<path style=\"fill-rule:nonzero;fill:rgb(100%,0%,0%);fill-opacity:1;stroke-width:1;stroke-linecap:butt;stroke-linejoin:miter;stroke:rgb(0%,0%,0%);stroke-opacity:1;stroke-miterlimit:10;\" d=\"M 342.78125 246.03125 C 342.78125 252.695313 332.78125 252.695313 332.78125 246.03125 C 332.78125 239.363281 342.78125 239.363281 342.78125 246.03125 \"/>\n",
       "<path style=\"fill-rule:nonzero;fill:rgb(100%,0%,0%);fill-opacity:1;stroke-width:1;stroke-linecap:butt;stroke-linejoin:miter;stroke:rgb(0%,0%,0%);stroke-opacity:1;stroke-miterlimit:10;\" d=\"M 209.816406 150.441406 C 209.816406 157.109375 199.816406 157.109375 199.816406 150.441406 C 199.816406 143.773438 209.816406 143.773438 209.816406 150.441406 \"/>\n",
       "<path style=\"fill-rule:nonzero;fill:rgb(100%,0%,0%);fill-opacity:1;stroke-width:1;stroke-linecap:butt;stroke-linejoin:miter;stroke:rgb(0%,0%,0%);stroke-opacity:1;stroke-miterlimit:10;\" d=\"M 55 205.089844 C 55 211.757813 45 211.757813 45 205.089844 C 45 198.421875 55 198.421875 55 205.089844 \"/>\n",
       "<path style=\"fill-rule:nonzero;fill:rgb(100%,0%,0%);fill-opacity:1;stroke-width:1;stroke-linecap:butt;stroke-linejoin:miter;stroke:rgb(0%,0%,0%);stroke-opacity:1;stroke-miterlimit:10;\" d=\"M 134.054688 335.523438 C 134.054688 342.1875 124.054688 342.1875 124.054688 335.523438 C 124.054688 328.855469 134.054688 328.855469 134.054688 335.523438 \"/>\n",
       "<path style=\"fill-rule:nonzero;fill:rgb(100%,0%,0%);fill-opacity:1;stroke-width:1;stroke-linecap:butt;stroke-linejoin:miter;stroke:rgb(0%,0%,0%);stroke-opacity:1;stroke-miterlimit:10;\" d=\"M 244.019531 241.847656 C 244.019531 248.515625 234.019531 248.515625 234.019531 241.847656 C 234.019531 235.183594 244.019531 235.183594 244.019531 241.847656 \"/>\n",
       "<path style=\"fill-rule:nonzero;fill:rgb(100%,0%,0%);fill-opacity:1;stroke-width:1;stroke-linecap:butt;stroke-linejoin:miter;stroke:rgb(0%,0%,0%);stroke-opacity:1;stroke-miterlimit:10;\" d=\"M 95.792969 169.578125 C 95.792969 176.246094 85.792969 176.246094 85.792969 169.578125 C 85.792969 162.914063 95.792969 162.914063 95.792969 169.578125 \"/>\n",
       "<path style=\"fill-rule:nonzero;fill:rgb(100%,0%,0%);fill-opacity:1;stroke-width:1;stroke-linecap:butt;stroke-linejoin:miter;stroke:rgb(0%,0%,0%);stroke-opacity:1;stroke-miterlimit:10;\" d=\"M 93.273438 79.835938 C 93.273438 86.503906 83.273438 86.503906 83.273438 79.835938 C 83.273438 73.167969 93.273438 73.167969 93.273438 79.835938 \"/>\n",
       "<path style=\"fill-rule:nonzero;fill:rgb(100%,0%,0%);fill-opacity:1;stroke-width:1;stroke-linecap:butt;stroke-linejoin:miter;stroke:rgb(0%,0%,0%);stroke-opacity:1;stroke-miterlimit:10;\" d=\"M 155.816406 203.523438 C 155.816406 210.191406 145.816406 210.191406 145.816406 203.523438 C 145.816406 196.859375 155.816406 196.859375 155.816406 203.523438 \"/>\n",
       "<path style=\"fill-rule:nonzero;fill:rgb(100%,0%,0%);fill-opacity:1;stroke-width:1;stroke-linecap:butt;stroke-linejoin:miter;stroke:rgb(0%,0%,0%);stroke-opacity:1;stroke-miterlimit:10;\" d=\"M 233.523438 341.320313 C 233.523438 347.984375 223.523438 347.984375 223.523438 341.320313 C 223.523438 334.652344 233.523438 334.652344 233.523438 341.320313 \"/>\n",
       "<path style=\"fill-rule:nonzero;fill:rgb(100%,0%,0%);fill-opacity:1;stroke-width:1;stroke-linecap:butt;stroke-linejoin:miter;stroke:rgb(0%,0%,0%);stroke-opacity:1;stroke-miterlimit:10;\" d=\"M 102.324219 277.707031 C 102.324219 284.375 92.324219 284.375 92.324219 277.707031 C 92.324219 271.042969 102.324219 271.042969 102.324219 277.707031 \"/>\n",
       "<path style=\"fill-rule:nonzero;fill:rgb(100%,0%,0%);fill-opacity:1;stroke-width:1;stroke-linecap:butt;stroke-linejoin:miter;stroke:rgb(0%,0%,0%);stroke-opacity:1;stroke-miterlimit:10;\" d=\"M 205.621094 87.257813 C 205.621094 93.921875 195.621094 93.921875 195.621094 87.257813 C 195.621094 80.589844 205.621094 80.589844 205.621094 87.257813 \"/>\n",
       "<path style=\"fill-rule:nonzero;fill:rgb(100%,0%,0%);fill-opacity:1;stroke-width:1;stroke-linecap:butt;stroke-linejoin:miter;stroke:rgb(0%,0%,0%);stroke-opacity:1;stroke-miterlimit:10;\" d=\"M 340.683594 107.371094 C 340.683594 114.039063 330.683594 114.039063 330.683594 107.371094 C 330.683594 100.703125 340.683594 100.703125 340.683594 107.371094 \"/>\n",
       "<path style=\"fill-rule:nonzero;fill:rgb(100%,0%,0%);fill-opacity:1;stroke-width:1;stroke-linecap:butt;stroke-linejoin:miter;stroke:rgb(0%,0%,0%);stroke-opacity:1;stroke-miterlimit:10;\" d=\"M 264.613281 50 C 264.613281 56.667969 254.613281 56.667969 254.613281 50 C 254.613281 43.332031 264.613281 43.332031 264.613281 50 \"/>\n",
       "<path style=\"fill-rule:nonzero;fill:rgb(100%,0%,0%);fill-opacity:1;stroke-width:1;stroke-linecap:butt;stroke-linejoin:miter;stroke:rgb(0%,0%,0%);stroke-opacity:1;stroke-miterlimit:10;\" d=\"M 146.367188 69.757813 C 146.367188 76.421875 136.367188 76.421875 136.367188 69.757813 C 136.367188 63.089844 146.367188 63.089844 146.367188 69.757813 \"/>\n",
       "<path style=\"fill-rule:nonzero;fill:rgb(100%,0%,0%);fill-opacity:1;stroke-width:1;stroke-linecap:butt;stroke-linejoin:miter;stroke:rgb(0%,0%,0%);stroke-opacity:1;stroke-miterlimit:10;\" d=\"M 277.503906 179.589844 C 277.503906 186.253906 267.503906 186.253906 267.503906 179.589844 C 267.503906 172.921875 277.503906 172.921875 277.503906 179.589844 \"/>\n",
       "<path style=\"fill-rule:nonzero;fill:rgb(100%,0%,0%);fill-opacity:1;stroke-width:1;stroke-linecap:butt;stroke-linejoin:miter;stroke:rgb(0%,0%,0%);stroke-opacity:1;stroke-miterlimit:10;\" d=\"M 355 291.019531 C 355 297.6875 345 297.6875 345 291.019531 C 345 284.355469 355 284.355469 355 291.019531 \"/>\n",
       "</g>\n",
       "</svg>\n"
      ],
      "text/plain": [
       "<igraph.drawing.Plot at 0x2aeb61ab910>"
      ]
     },
     "execution_count": 40,
     "metadata": {
      "image/svg+xml": {
       "isolated": true
      }
     },
     "output_type": "execute_result"
    }
   ],
   "source": [
    "L = ig.Graph.Read_Adjacency (\"AM.csv\")\n",
    "ig.plot(L,bbox=(400,400),margin=50,vertex_size=10)"
   ]
  },
  {
   "cell_type": "code",
   "execution_count": 34,
   "id": "efe542ea",
   "metadata": {},
   "outputs": [
    {
     "data": {
      "text/plain": [
       "[[1, 4, 15, 18],\n",
       " [0, 2, 8, 12],\n",
       " [1, 3, 6, 17],\n",
       " [2, 4, 11, 14],\n",
       " [0, 3, 5, 9],\n",
       " [4, 6, 12, 16],\n",
       " [2, 5, 7, 10],\n",
       " [6, 8, 14, 18],\n",
       " [1, 7, 9, 16],\n",
       " [4, 8, 10, 13],\n",
       " [6, 9, 11, 15],\n",
       " [3, 10, 12, 18],\n",
       " [1, 5, 11, 13],\n",
       " [9, 12, 14, 17],\n",
       " [3, 7, 13, 15],\n",
       " [0, 10, 14, 16],\n",
       " [5, 8, 15, 17],\n",
       " [2, 13, 16, 18],\n",
       " [0, 7, 11, 17]]"
      ]
     },
     "execution_count": 34,
     "metadata": {},
     "output_type": "execute_result"
    }
   ],
   "source": [
    "#Adjacency list\n",
    "AL = G.get_adjlist()\n",
    "AL"
   ]
  },
  {
   "cell_type": "code",
   "execution_count": 37,
   "id": "bffa7893",
   "metadata": {},
   "outputs": [
    {
     "name": "stdout",
     "output_type": "stream",
     "text": [
      "IGRAPH U--- 19 38 --\n",
      "+ attr: id (v)\n",
      "+ edges:\n",
      " 0 --  1  4 15 18    5 --  4  6 12 16   10 --  6  9 11 15   15 --  0 10 14 16\n",
      " 1 --  0  2  8 12    6 --  2  5  7 10   11 --  3 10 12 18   16 --  5  8 15 17\n",
      " 2 --  1  3  6 17    7 --  6  8 14 18   12 --  1  5 11 13   17 --  2 13 16 18\n",
      " 3 --  2  4 11 14    8 --  1  7  9 16   13 --  9 12 14 17   18 --  0  7 11 17\n",
      " 4 --  0  3  5  9    9 --  4  8 10 13   14 --  3  7 13 15\n"
     ]
    },
    {
     "data": {
      "image/svg+xml": [
       "<?xml version=\"1.0\" encoding=\"UTF-8\"?>\n",
       "<svg xmlns=\"http://www.w3.org/2000/svg\" xmlns:xlink=\"http://www.w3.org/1999/xlink\" width=\"400pt\" height=\"400pt\" viewBox=\"0 0 400 400\" version=\"1.1\">\n",
       "<g id=\"surface56\">\n",
       "<rect x=\"0\" y=\"0\" width=\"400\" height=\"400\" style=\"fill:rgb(100%,100%,100%);fill-opacity:1;stroke:none;\"/>\n",
       "<path style=\"fill:none;stroke-width:1;stroke-linecap:butt;stroke-linejoin:miter;stroke:rgb(26.666667%,26.666667%,26.666667%);stroke-opacity:1;stroke-miterlimit:10;\" d=\"M 329.242188 168.125 L 183.453125 286.550781 \"/>\n",
       "<path style=\"fill:none;stroke-width:1;stroke-linecap:butt;stroke-linejoin:miter;stroke:rgb(26.666667%,26.666667%,26.666667%);stroke-opacity:1;stroke-miterlimit:10;\" d=\"M 183.453125 286.550781 L 273.023438 350 \"/>\n",
       "<path style=\"fill:none;stroke-width:1;stroke-linecap:butt;stroke-linejoin:miter;stroke:rgb(26.666667%,26.666667%,26.666667%);stroke-opacity:1;stroke-miterlimit:10;\" d=\"M 273.023438 350 L 337.78125 246.03125 \"/>\n",
       "<path style=\"fill:none;stroke-width:1;stroke-linecap:butt;stroke-linejoin:miter;stroke:rgb(26.666667%,26.666667%,26.666667%);stroke-opacity:1;stroke-miterlimit:10;\" d=\"M 337.78125 246.03125 L 204.816406 150.441406 \"/>\n",
       "<path style=\"fill:none;stroke-width:1;stroke-linecap:butt;stroke-linejoin:miter;stroke:rgb(26.666667%,26.666667%,26.666667%);stroke-opacity:1;stroke-miterlimit:10;\" d=\"M 204.816406 150.441406 L 50 205.089844 \"/>\n",
       "<path style=\"fill:none;stroke-width:1;stroke-linecap:butt;stroke-linejoin:miter;stroke:rgb(26.666667%,26.666667%,26.666667%);stroke-opacity:1;stroke-miterlimit:10;\" d=\"M 50 205.089844 L 129.054688 335.523438 \"/>\n",
       "<path style=\"fill:none;stroke-width:1;stroke-linecap:butt;stroke-linejoin:miter;stroke:rgb(26.666667%,26.666667%,26.666667%);stroke-opacity:1;stroke-miterlimit:10;\" d=\"M 129.054688 335.523438 L 239.019531 241.847656 \"/>\n",
       "<path style=\"fill:none;stroke-width:1;stroke-linecap:butt;stroke-linejoin:miter;stroke:rgb(26.666667%,26.666667%,26.666667%);stroke-opacity:1;stroke-miterlimit:10;\" d=\"M 239.019531 241.847656 L 90.792969 169.578125 \"/>\n",
       "<path style=\"fill:none;stroke-width:1;stroke-linecap:butt;stroke-linejoin:miter;stroke:rgb(26.666667%,26.666667%,26.666667%);stroke-opacity:1;stroke-miterlimit:10;\" d=\"M 90.792969 169.578125 L 88.273438 79.835938 \"/>\n",
       "<path style=\"fill:none;stroke-width:1;stroke-linecap:butt;stroke-linejoin:miter;stroke:rgb(26.666667%,26.666667%,26.666667%);stroke-opacity:1;stroke-miterlimit:10;\" d=\"M 88.273438 79.835938 L 150.816406 203.523438 \"/>\n",
       "<path style=\"fill:none;stroke-width:1;stroke-linecap:butt;stroke-linejoin:miter;stroke:rgb(26.666667%,26.666667%,26.666667%);stroke-opacity:1;stroke-miterlimit:10;\" d=\"M 150.816406 203.523438 L 228.523438 341.320313 \"/>\n",
       "<path style=\"fill:none;stroke-width:1;stroke-linecap:butt;stroke-linejoin:miter;stroke:rgb(26.666667%,26.666667%,26.666667%);stroke-opacity:1;stroke-miterlimit:10;\" d=\"M 228.523438 341.320313 L 97.324219 277.707031 \"/>\n",
       "<path style=\"fill:none;stroke-width:1;stroke-linecap:butt;stroke-linejoin:miter;stroke:rgb(26.666667%,26.666667%,26.666667%);stroke-opacity:1;stroke-miterlimit:10;\" d=\"M 97.324219 277.707031 L 200.621094 87.257813 \"/>\n",
       "<path style=\"fill:none;stroke-width:1;stroke-linecap:butt;stroke-linejoin:miter;stroke:rgb(26.666667%,26.666667%,26.666667%);stroke-opacity:1;stroke-miterlimit:10;\" d=\"M 200.621094 87.257813 L 335.683594 107.371094 \"/>\n",
       "<path style=\"fill:none;stroke-width:1;stroke-linecap:butt;stroke-linejoin:miter;stroke:rgb(26.666667%,26.666667%,26.666667%);stroke-opacity:1;stroke-miterlimit:10;\" d=\"M 335.683594 107.371094 L 259.613281 50 \"/>\n",
       "<path style=\"fill:none;stroke-width:1;stroke-linecap:butt;stroke-linejoin:miter;stroke:rgb(26.666667%,26.666667%,26.666667%);stroke-opacity:1;stroke-miterlimit:10;\" d=\"M 259.613281 50 L 141.367188 69.757813 \"/>\n",
       "<path style=\"fill:none;stroke-width:1;stroke-linecap:butt;stroke-linejoin:miter;stroke:rgb(26.666667%,26.666667%,26.666667%);stroke-opacity:1;stroke-miterlimit:10;\" d=\"M 141.367188 69.757813 L 272.503906 179.589844 \"/>\n",
       "<path style=\"fill:none;stroke-width:1;stroke-linecap:butt;stroke-linejoin:miter;stroke:rgb(26.666667%,26.666667%,26.666667%);stroke-opacity:1;stroke-miterlimit:10;\" d=\"M 272.503906 179.589844 L 350 291.019531 \"/>\n",
       "<path style=\"fill:none;stroke-width:1;stroke-linecap:butt;stroke-linejoin:miter;stroke:rgb(26.666667%,26.666667%,26.666667%);stroke-opacity:1;stroke-miterlimit:10;\" d=\"M 329.242188 168.125 L 350 291.019531 \"/>\n",
       "<path style=\"fill:none;stroke-width:1;stroke-linecap:butt;stroke-linejoin:miter;stroke:rgb(26.666667%,26.666667%,26.666667%);stroke-opacity:1;stroke-miterlimit:10;\" d=\"M 329.242188 168.125 L 204.816406 150.441406 \"/>\n",
       "<path style=\"fill:none;stroke-width:1;stroke-linecap:butt;stroke-linejoin:miter;stroke:rgb(26.666667%,26.666667%,26.666667%);stroke-opacity:1;stroke-miterlimit:10;\" d=\"M 204.816406 150.441406 L 88.273438 79.835938 \"/>\n",
       "<path style=\"fill:none;stroke-width:1;stroke-linecap:butt;stroke-linejoin:miter;stroke:rgb(26.666667%,26.666667%,26.666667%);stroke-opacity:1;stroke-miterlimit:10;\" d=\"M 88.273438 79.835938 L 200.621094 87.257813 \"/>\n",
       "<path style=\"fill:none;stroke-width:1;stroke-linecap:butt;stroke-linejoin:miter;stroke:rgb(26.666667%,26.666667%,26.666667%);stroke-opacity:1;stroke-miterlimit:10;\" d=\"M 200.621094 87.257813 L 272.503906 179.589844 \"/>\n",
       "<path style=\"fill:none;stroke-width:1;stroke-linecap:butt;stroke-linejoin:miter;stroke:rgb(26.666667%,26.666667%,26.666667%);stroke-opacity:1;stroke-miterlimit:10;\" d=\"M 273.023438 350 L 272.503906 179.589844 \"/>\n",
       "<path style=\"fill:none;stroke-width:1;stroke-linecap:butt;stroke-linejoin:miter;stroke:rgb(26.666667%,26.666667%,26.666667%);stroke-opacity:1;stroke-miterlimit:10;\" d=\"M 273.023438 350 L 129.054688 335.523438 \"/>\n",
       "<path style=\"fill:none;stroke-width:1;stroke-linecap:butt;stroke-linejoin:miter;stroke:rgb(26.666667%,26.666667%,26.666667%);stroke-opacity:1;stroke-miterlimit:10;\" d=\"M 129.054688 335.523438 L 150.816406 203.523438 \"/>\n",
       "<path style=\"fill:none;stroke-width:1;stroke-linecap:butt;stroke-linejoin:miter;stroke:rgb(26.666667%,26.666667%,26.666667%);stroke-opacity:1;stroke-miterlimit:10;\" d=\"M 150.816406 203.523438 L 259.613281 50 \"/>\n",
       "<path style=\"fill:none;stroke-width:1;stroke-linecap:butt;stroke-linejoin:miter;stroke:rgb(26.666667%,26.666667%,26.666667%);stroke-opacity:1;stroke-miterlimit:10;\" d=\"M 329.242188 168.125 L 259.613281 50 \"/>\n",
       "<path style=\"fill:none;stroke-width:1;stroke-linecap:butt;stroke-linejoin:miter;stroke:rgb(26.666667%,26.666667%,26.666667%);stroke-opacity:1;stroke-miterlimit:10;\" d=\"M 183.453125 286.550781 L 90.792969 169.578125 \"/>\n",
       "<path style=\"fill:none;stroke-width:1;stroke-linecap:butt;stroke-linejoin:miter;stroke:rgb(26.666667%,26.666667%,26.666667%);stroke-opacity:1;stroke-miterlimit:10;\" d=\"M 90.792969 169.578125 L 141.367188 69.757813 \"/>\n",
       "<path style=\"fill:none;stroke-width:1;stroke-linecap:butt;stroke-linejoin:miter;stroke:rgb(26.666667%,26.666667%,26.666667%);stroke-opacity:1;stroke-miterlimit:10;\" d=\"M 50 205.089844 L 141.367188 69.757813 \"/>\n",
       "<path style=\"fill:none;stroke-width:1;stroke-linecap:butt;stroke-linejoin:miter;stroke:rgb(26.666667%,26.666667%,26.666667%);stroke-opacity:1;stroke-miterlimit:10;\" d=\"M 50 205.089844 L 97.324219 277.707031 \"/>\n",
       "<path style=\"fill:none;stroke-width:1;stroke-linecap:butt;stroke-linejoin:miter;stroke:rgb(26.666667%,26.666667%,26.666667%);stroke-opacity:1;stroke-miterlimit:10;\" d=\"M 183.453125 286.550781 L 97.324219 277.707031 \"/>\n",
       "<path style=\"fill:none;stroke-width:1;stroke-linecap:butt;stroke-linejoin:miter;stroke:rgb(26.666667%,26.666667%,26.666667%);stroke-opacity:1;stroke-miterlimit:10;\" d=\"M 239.019531 241.847656 L 350 291.019531 \"/>\n",
       "<path style=\"fill:none;stroke-width:1;stroke-linecap:butt;stroke-linejoin:miter;stroke:rgb(26.666667%,26.666667%,26.666667%);stroke-opacity:1;stroke-miterlimit:10;\" d=\"M 239.019531 241.847656 L 335.683594 107.371094 \"/>\n",
       "<path style=\"fill:none;stroke-width:1;stroke-linecap:butt;stroke-linejoin:miter;stroke:rgb(26.666667%,26.666667%,26.666667%);stroke-opacity:1;stroke-miterlimit:10;\" d=\"M 337.78125 246.03125 L 335.683594 107.371094 \"/>\n",
       "<path style=\"fill:none;stroke-width:1;stroke-linecap:butt;stroke-linejoin:miter;stroke:rgb(26.666667%,26.666667%,26.666667%);stroke-opacity:1;stroke-miterlimit:10;\" d=\"M 337.78125 246.03125 L 228.523438 341.320313 \"/>\n",
       "<path style=\"fill:none;stroke-width:1;stroke-linecap:butt;stroke-linejoin:miter;stroke:rgb(26.666667%,26.666667%,26.666667%);stroke-opacity:1;stroke-miterlimit:10;\" d=\"M 228.523438 341.320313 L 350 291.019531 \"/>\n",
       "<path style=\"fill-rule:nonzero;fill:rgb(100%,0%,0%);fill-opacity:1;stroke-width:1;stroke-linecap:butt;stroke-linejoin:miter;stroke:rgb(0%,0%,0%);stroke-opacity:1;stroke-miterlimit:10;\" d=\"M 334.242188 168.125 C 334.242188 174.792969 324.242188 174.792969 324.242188 168.125 C 324.242188 161.460938 334.242188 161.460938 334.242188 168.125 \"/>\n",
       "<path style=\"fill-rule:nonzero;fill:rgb(100%,0%,0%);fill-opacity:1;stroke-width:1;stroke-linecap:butt;stroke-linejoin:miter;stroke:rgb(0%,0%,0%);stroke-opacity:1;stroke-miterlimit:10;\" d=\"M 188.453125 286.550781 C 188.453125 293.214844 178.453125 293.214844 178.453125 286.550781 C 178.453125 279.882813 188.453125 279.882813 188.453125 286.550781 \"/>\n",
       "<path style=\"fill-rule:nonzero;fill:rgb(100%,0%,0%);fill-opacity:1;stroke-width:1;stroke-linecap:butt;stroke-linejoin:miter;stroke:rgb(0%,0%,0%);stroke-opacity:1;stroke-miterlimit:10;\" d=\"M 278.023438 350 C 278.023438 356.667969 268.023438 356.667969 268.023438 350 C 268.023438 343.332031 278.023438 343.332031 278.023438 350 \"/>\n",
       "<path style=\"fill-rule:nonzero;fill:rgb(100%,0%,0%);fill-opacity:1;stroke-width:1;stroke-linecap:butt;stroke-linejoin:miter;stroke:rgb(0%,0%,0%);stroke-opacity:1;stroke-miterlimit:10;\" d=\"M 342.78125 246.03125 C 342.78125 252.695313 332.78125 252.695313 332.78125 246.03125 C 332.78125 239.363281 342.78125 239.363281 342.78125 246.03125 \"/>\n",
       "<path style=\"fill-rule:nonzero;fill:rgb(100%,0%,0%);fill-opacity:1;stroke-width:1;stroke-linecap:butt;stroke-linejoin:miter;stroke:rgb(0%,0%,0%);stroke-opacity:1;stroke-miterlimit:10;\" d=\"M 209.816406 150.441406 C 209.816406 157.109375 199.816406 157.109375 199.816406 150.441406 C 199.816406 143.773438 209.816406 143.773438 209.816406 150.441406 \"/>\n",
       "<path style=\"fill-rule:nonzero;fill:rgb(100%,0%,0%);fill-opacity:1;stroke-width:1;stroke-linecap:butt;stroke-linejoin:miter;stroke:rgb(0%,0%,0%);stroke-opacity:1;stroke-miterlimit:10;\" d=\"M 55 205.089844 C 55 211.757813 45 211.757813 45 205.089844 C 45 198.421875 55 198.421875 55 205.089844 \"/>\n",
       "<path style=\"fill-rule:nonzero;fill:rgb(100%,0%,0%);fill-opacity:1;stroke-width:1;stroke-linecap:butt;stroke-linejoin:miter;stroke:rgb(0%,0%,0%);stroke-opacity:1;stroke-miterlimit:10;\" d=\"M 134.054688 335.523438 C 134.054688 342.1875 124.054688 342.1875 124.054688 335.523438 C 124.054688 328.855469 134.054688 328.855469 134.054688 335.523438 \"/>\n",
       "<path style=\"fill-rule:nonzero;fill:rgb(100%,0%,0%);fill-opacity:1;stroke-width:1;stroke-linecap:butt;stroke-linejoin:miter;stroke:rgb(0%,0%,0%);stroke-opacity:1;stroke-miterlimit:10;\" d=\"M 244.019531 241.847656 C 244.019531 248.515625 234.019531 248.515625 234.019531 241.847656 C 234.019531 235.183594 244.019531 235.183594 244.019531 241.847656 \"/>\n",
       "<path style=\"fill-rule:nonzero;fill:rgb(100%,0%,0%);fill-opacity:1;stroke-width:1;stroke-linecap:butt;stroke-linejoin:miter;stroke:rgb(0%,0%,0%);stroke-opacity:1;stroke-miterlimit:10;\" d=\"M 95.792969 169.578125 C 95.792969 176.246094 85.792969 176.246094 85.792969 169.578125 C 85.792969 162.914063 95.792969 162.914063 95.792969 169.578125 \"/>\n",
       "<path style=\"fill-rule:nonzero;fill:rgb(100%,0%,0%);fill-opacity:1;stroke-width:1;stroke-linecap:butt;stroke-linejoin:miter;stroke:rgb(0%,0%,0%);stroke-opacity:1;stroke-miterlimit:10;\" d=\"M 93.273438 79.835938 C 93.273438 86.503906 83.273438 86.503906 83.273438 79.835938 C 83.273438 73.167969 93.273438 73.167969 93.273438 79.835938 \"/>\n",
       "<path style=\"fill-rule:nonzero;fill:rgb(100%,0%,0%);fill-opacity:1;stroke-width:1;stroke-linecap:butt;stroke-linejoin:miter;stroke:rgb(0%,0%,0%);stroke-opacity:1;stroke-miterlimit:10;\" d=\"M 155.816406 203.523438 C 155.816406 210.191406 145.816406 210.191406 145.816406 203.523438 C 145.816406 196.859375 155.816406 196.859375 155.816406 203.523438 \"/>\n",
       "<path style=\"fill-rule:nonzero;fill:rgb(100%,0%,0%);fill-opacity:1;stroke-width:1;stroke-linecap:butt;stroke-linejoin:miter;stroke:rgb(0%,0%,0%);stroke-opacity:1;stroke-miterlimit:10;\" d=\"M 233.523438 341.320313 C 233.523438 347.984375 223.523438 347.984375 223.523438 341.320313 C 223.523438 334.652344 233.523438 334.652344 233.523438 341.320313 \"/>\n",
       "<path style=\"fill-rule:nonzero;fill:rgb(100%,0%,0%);fill-opacity:1;stroke-width:1;stroke-linecap:butt;stroke-linejoin:miter;stroke:rgb(0%,0%,0%);stroke-opacity:1;stroke-miterlimit:10;\" d=\"M 102.324219 277.707031 C 102.324219 284.375 92.324219 284.375 92.324219 277.707031 C 92.324219 271.042969 102.324219 271.042969 102.324219 277.707031 \"/>\n",
       "<path style=\"fill-rule:nonzero;fill:rgb(100%,0%,0%);fill-opacity:1;stroke-width:1;stroke-linecap:butt;stroke-linejoin:miter;stroke:rgb(0%,0%,0%);stroke-opacity:1;stroke-miterlimit:10;\" d=\"M 205.621094 87.257813 C 205.621094 93.921875 195.621094 93.921875 195.621094 87.257813 C 195.621094 80.589844 205.621094 80.589844 205.621094 87.257813 \"/>\n",
       "<path style=\"fill-rule:nonzero;fill:rgb(100%,0%,0%);fill-opacity:1;stroke-width:1;stroke-linecap:butt;stroke-linejoin:miter;stroke:rgb(0%,0%,0%);stroke-opacity:1;stroke-miterlimit:10;\" d=\"M 340.683594 107.371094 C 340.683594 114.039063 330.683594 114.039063 330.683594 107.371094 C 330.683594 100.703125 340.683594 100.703125 340.683594 107.371094 \"/>\n",
       "<path style=\"fill-rule:nonzero;fill:rgb(100%,0%,0%);fill-opacity:1;stroke-width:1;stroke-linecap:butt;stroke-linejoin:miter;stroke:rgb(0%,0%,0%);stroke-opacity:1;stroke-miterlimit:10;\" d=\"M 264.613281 50 C 264.613281 56.667969 254.613281 56.667969 254.613281 50 C 254.613281 43.332031 264.613281 43.332031 264.613281 50 \"/>\n",
       "<path style=\"fill-rule:nonzero;fill:rgb(100%,0%,0%);fill-opacity:1;stroke-width:1;stroke-linecap:butt;stroke-linejoin:miter;stroke:rgb(0%,0%,0%);stroke-opacity:1;stroke-miterlimit:10;\" d=\"M 146.367188 69.757813 C 146.367188 76.421875 136.367188 76.421875 136.367188 69.757813 C 136.367188 63.089844 146.367188 63.089844 146.367188 69.757813 \"/>\n",
       "<path style=\"fill-rule:nonzero;fill:rgb(100%,0%,0%);fill-opacity:1;stroke-width:1;stroke-linecap:butt;stroke-linejoin:miter;stroke:rgb(0%,0%,0%);stroke-opacity:1;stroke-miterlimit:10;\" d=\"M 277.503906 179.589844 C 277.503906 186.253906 267.503906 186.253906 267.503906 179.589844 C 267.503906 172.921875 277.503906 172.921875 277.503906 179.589844 \"/>\n",
       "<path style=\"fill-rule:nonzero;fill:rgb(100%,0%,0%);fill-opacity:1;stroke-width:1;stroke-linecap:butt;stroke-linejoin:miter;stroke:rgb(0%,0%,0%);stroke-opacity:1;stroke-miterlimit:10;\" d=\"M 355 291.019531 C 355 297.6875 345 297.6875 345 291.019531 C 345 284.355469 355 284.355469 355 291.019531 \"/>\n",
       "</g>\n",
       "</svg>\n"
      ],
      "text/plain": [
       "<igraph.drawing.Plot at 0x2aeb8007760>"
      ]
     },
     "execution_count": 37,
     "metadata": {
      "image/svg+xml": {
       "isolated": true
      }
     },
     "output_type": "execute_result"
    }
   ],
   "source": [
    "#must used format\n",
    "G.write_gml(\"GMLformat.csv\")\n",
    "gml = ig.Graph.Read_GML(\"GMLformat.csv\")\n",
    "print(gml)\n",
    "ig.plot(gml,bbox=(400,400),margin=50,vertex_size=10)"
   ]
  },
  {
   "cell_type": "markdown",
   "id": "130223e3",
   "metadata": {},
   "source": [
    "## Tutorial igraph\n",
    "* [igraph](https://igraph.org/python/)\n",
    "* [Tutorial](https://igraph.org/python/tutorial/latest/tutorial.html#)"
   ]
  },
  {
   "cell_type": "code",
   "execution_count": null,
   "id": "e934e27b",
   "metadata": {},
   "outputs": [],
   "source": [
    "import igraph\n"
   ]
  }
 ],
 "metadata": {
  "hide_input": false,
  "kernelspec": {
   "display_name": "Python 3 (ipykernel)",
   "language": "python",
   "name": "python3"
  },
  "language_info": {
   "codemirror_mode": {
    "name": "ipython",
    "version": 3
   },
   "file_extension": ".py",
   "mimetype": "text/x-python",
   "name": "python",
   "nbconvert_exporter": "python",
   "pygments_lexer": "ipython3",
   "version": "3.10.5"
  },
  "nbTranslate": {
   "displayLangs": [
    "en"
   ],
   "hotkey": "alt-t",
   "langInMainMenu": true,
   "sourceLang": "es",
   "targetLang": "en",
   "useGoogleTranslate": true
  },
  "toc": {
   "base_numbering": 1,
   "nav_menu": {
    "height": "191.991px",
    "width": "287.991px"
   },
   "number_sections": true,
   "sideBar": true,
   "skip_h1_title": false,
   "title_cell": "Table of Contents",
   "title_sidebar": "Contents",
   "toc_cell": false,
   "toc_position": {
    "height": "calc(100% - 180px)",
    "left": "10px",
    "top": "150px",
    "width": "280.669px"
   },
   "toc_section_display": true,
   "toc_window_display": false
  }
 },
 "nbformat": 4,
 "nbformat_minor": 5
}
