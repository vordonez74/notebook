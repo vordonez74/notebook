{
 "cells": [
  {
   "cell_type": "markdown",
   "id": "8f8b6a8b",
   "metadata": {},
   "source": [
    "# [Manual de R](https://fhernanb.github.io/Manual-de-R/)"
   ]
  },
  {
   "cell_type": "markdown",
   "id": "a93c1369",
   "metadata": {},
   "source": [
    "# Estadística\n",
    "La misión de la **Estadistica Descriptiva** es ordenar, describir y sintetizar la información recogida.<br>\n",
    "La **población** es un conjunto de elementos, con alguna caracteristica común, que es el objeto de nuestro estudio. Esta puede ser finita o infinita.<br>\n",
    "Una **muestra** es un subconjunto de la población. El número de elemento de una muestra se llama **tamaño** de la muestra.<br>\n",
    "El objeto de nuestra medida puede ser: Cuntitativo o Cualitativo.<br>\n",
    "Se entiende por **variable estadística** al símbolo que representa al dato o caracter objeto de nuestro estudio de los elementos de la muestra y que puede tomar un conjunto de valores. Estos pueden ser discretos, continuos, unidimensionales(temperatura o presión atmoférica), bidimensionales(longitud y peso de una barra conductora) o n-dimensionales(velocidad, carga eléctrica y masa de un ión es tridimensionales).\n",
    "## Tabla de frecuencia"
   ]
  },
  {
   "cell_type": "markdown",
   "id": "84b4d2c7",
   "metadata": {},
   "source": [
    "### Variable cuantitativa discreta"
   ]
  },
  {
   "cell_type": "code",
   "execution_count": 2,
   "id": "38dbb92f",
   "metadata": {},
   "outputs": [
    {
     "name": "stdout",
     "output_type": "stream",
     "text": [
      "[1] \"Números de hijos: 20\"\n"
     ]
    }
   ],
   "source": [
    "num_hijos <- c(2,1,1,3,1,2,5,1,2,3,4,2,3,2,1,4,2,3,2,1)\n",
    "N <- length(num_hijos) #tamaño de la muestra\n",
    "print(paste(\"Números de hijos:\",N))"
   ]
  },
  {
   "cell_type": "code",
   "execution_count": 3,
   "id": "38cd1f3e",
   "metadata": {},
   "outputs": [
    {
     "data": {
      "text/plain": [
       "num_hijos\n",
       "1 2 3 4 5 \n",
       "6 7 4 2 1 "
      ]
     },
     "metadata": {},
     "output_type": "display_data"
    }
   ],
   "source": [
    "#Frecuencia absoluta\n",
    "tabla <- table(num_hijos)\n",
    "tabla"
   ]
  },
  {
   "cell_type": "code",
   "execution_count": 4,
   "id": "87b8cfa6",
   "metadata": {},
   "outputs": [
    {
     "data": {
      "text/html": [
       "<style>\n",
       ".dl-inline {width: auto; margin:0; padding: 0}\n",
       ".dl-inline>dt, .dl-inline>dd {float: none; width: auto; display: inline-block}\n",
       ".dl-inline>dt::after {content: \":\\0020\"; padding-right: .5ex}\n",
       ".dl-inline>dt:not(:first-of-type) {padding-left: .5ex}\n",
       "</style><dl class=dl-inline><dt>1</dt><dd>6</dd><dt>2</dt><dd>13</dd><dt>3</dt><dd>17</dd><dt>4</dt><dd>19</dd><dt>5</dt><dd>20</dd></dl>\n"
      ],
      "text/latex": [
       "\\begin{description*}\n",
       "\\item[1] 6\n",
       "\\item[2] 13\n",
       "\\item[3] 17\n",
       "\\item[4] 19\n",
       "\\item[5] 20\n",
       "\\end{description*}\n"
      ],
      "text/markdown": [
       "1\n",
       ":   62\n",
       ":   133\n",
       ":   174\n",
       ":   195\n",
       ":   20\n",
       "\n"
      ],
      "text/plain": [
       " 1  2  3  4  5 \n",
       " 6 13 17 19 20 "
      ]
     },
     "metadata": {},
     "output_type": "display_data"
    }
   ],
   "source": [
    "#Frecuencia acumulada\n",
    "FreqAc <- cumsum(table(num_hijos))\n",
    "FreqAc"
   ]
  },
  {
   "cell_type": "code",
   "execution_count": 5,
   "id": "e0c4d257",
   "metadata": {},
   "outputs": [
    {
     "data": {
      "text/plain": [
       "num_hijos\n",
       "   1    2    3    4    5 \n",
       "0.30 0.35 0.20 0.10 0.05 "
      ]
     },
     "metadata": {},
     "output_type": "display_data"
    }
   ],
   "source": [
    "#Frecuencia relativa\n",
    "FreqRel <- table(num_hijos) / N\n",
    "FreqRel"
   ]
  },
  {
   "cell_type": "code",
   "execution_count": 6,
   "id": "c4faac80",
   "metadata": {},
   "outputs": [
    {
     "data": {
      "text/plain": [
       "num_hijos\n",
       " 1  2  3  4  5 \n",
       "30 35 20 10  5 "
      ]
     },
     "metadata": {},
     "output_type": "display_data"
    }
   ],
   "source": [
    "#Frecuencia relativa en tanto %\n",
    "FreqRelPor100 <- (table(num_hijos)/N)*100\n",
    "FreqRelPor100"
   ]
  },
  {
   "cell_type": "code",
   "execution_count": 7,
   "id": "d61d4700",
   "metadata": {},
   "outputs": [
    {
     "data": {
      "text/html": [
       "<style>\n",
       ".dl-inline {width: auto; margin:0; padding: 0}\n",
       ".dl-inline>dt, .dl-inline>dd {float: none; width: auto; display: inline-block}\n",
       ".dl-inline>dt::after {content: \":\\0020\"; padding-right: .5ex}\n",
       ".dl-inline>dt:not(:first-of-type) {padding-left: .5ex}\n",
       "</style><dl class=dl-inline><dt>1</dt><dd>30</dd><dt>2</dt><dd>65</dd><dt>3</dt><dd>85</dd><dt>4</dt><dd>95</dd><dt>5</dt><dd>100</dd></dl>\n"
      ],
      "text/latex": [
       "\\begin{description*}\n",
       "\\item[1] 30\n",
       "\\item[2] 65\n",
       "\\item[3] 85\n",
       "\\item[4] 95\n",
       "\\item[5] 100\n",
       "\\end{description*}\n"
      ],
      "text/markdown": [
       "1\n",
       ":   302\n",
       ":   653\n",
       ":   854\n",
       ":   955\n",
       ":   100\n",
       "\n"
      ],
      "text/plain": [
       "  1   2   3   4   5 \n",
       " 30  65  85  95 100 "
      ]
     },
     "metadata": {},
     "output_type": "display_data"
    }
   ],
   "source": [
    "#Frecuencia relativa acumulada en tanto porciento\n",
    "FreqRelAcPor100 <- (cumsum(table(num_hijos))/N)*100\n",
    "FreqRelAcPor100"
   ]
  },
  {
   "cell_type": "code",
   "execution_count": 8,
   "id": "1bfaab5e",
   "metadata": {},
   "outputs": [
    {
     "data": {
      "text/html": [
       "<table class=\"dataframe\">\n",
       "<caption>A data.frame: 5 × 3</caption>\n",
       "<thead>\n",
       "\t<tr><th></th><th scope=col>num_hijos</th><th scope=col>Freq</th><th scope=col>FreqAc</th></tr>\n",
       "\t<tr><th></th><th scope=col>&lt;fct&gt;</th><th scope=col>&lt;int&gt;</th><th scope=col>&lt;int&gt;</th></tr>\n",
       "</thead>\n",
       "<tbody>\n",
       "\t<tr><th scope=row>1</th><td>1</td><td>6</td><td> 6</td></tr>\n",
       "\t<tr><th scope=row>2</th><td>2</td><td>7</td><td>13</td></tr>\n",
       "\t<tr><th scope=row>3</th><td>3</td><td>4</td><td>17</td></tr>\n",
       "\t<tr><th scope=row>4</th><td>4</td><td>2</td><td>19</td></tr>\n",
       "\t<tr><th scope=row>5</th><td>5</td><td>1</td><td>20</td></tr>\n",
       "</tbody>\n",
       "</table>\n"
      ],
      "text/latex": [
       "A data.frame: 5 × 3\n",
       "\\begin{tabular}{r|lll}\n",
       "  & num\\_hijos & Freq & FreqAc\\\\\n",
       "  & <fct> & <int> & <int>\\\\\n",
       "\\hline\n",
       "\t1 & 1 & 6 &  6\\\\\n",
       "\t2 & 2 & 7 & 13\\\\\n",
       "\t3 & 3 & 4 & 17\\\\\n",
       "\t4 & 4 & 2 & 19\\\\\n",
       "\t5 & 5 & 1 & 20\\\\\n",
       "\\end{tabular}\n"
      ],
      "text/markdown": [
       "\n",
       "A data.frame: 5 × 3\n",
       "\n",
       "| <!--/--> | num_hijos &lt;fct&gt; | Freq &lt;int&gt; | FreqAc &lt;int&gt; |\n",
       "|---|---|---|---|\n",
       "| 1 | 1 | 6 |  6 |\n",
       "| 2 | 2 | 7 | 13 |\n",
       "| 3 | 3 | 4 | 17 |\n",
       "| 4 | 4 | 2 | 19 |\n",
       "| 5 | 5 | 1 | 20 |\n",
       "\n"
      ],
      "text/plain": [
       "  num_hijos Freq FreqAc\n",
       "1 1         6     6    \n",
       "2 2         7    13    \n",
       "3 3         4    17    \n",
       "4 4         2    19    \n",
       "5 5         1    20    "
      ]
     },
     "metadata": {},
     "output_type": "display_data"
    }
   ],
   "source": [
    "transform(tabla,\n",
    "         FreqAc=FreqAc)"
   ]
  },
  {
   "cell_type": "code",
   "execution_count": 9,
   "id": "698d55c4",
   "metadata": {},
   "outputs": [
    {
     "data": {
      "text/html": [
       "<table class=\"dataframe\">\n",
       "<caption>A data.frame: 5 × 2</caption>\n",
       "<thead>\n",
       "\t<tr><th scope=col>num_hijos</th><th scope=col>Freq</th></tr>\n",
       "\t<tr><th scope=col>&lt;fct&gt;</th><th scope=col>&lt;int&gt;</th></tr>\n",
       "</thead>\n",
       "<tbody>\n",
       "\t<tr><td>1</td><td>6</td></tr>\n",
       "\t<tr><td>2</td><td>7</td></tr>\n",
       "\t<tr><td>3</td><td>4</td></tr>\n",
       "\t<tr><td>4</td><td>2</td></tr>\n",
       "\t<tr><td>5</td><td>1</td></tr>\n",
       "</tbody>\n",
       "</table>\n"
      ],
      "text/latex": [
       "A data.frame: 5 × 2\n",
       "\\begin{tabular}{ll}\n",
       " num\\_hijos & Freq\\\\\n",
       " <fct> & <int>\\\\\n",
       "\\hline\n",
       "\t 1 & 6\\\\\n",
       "\t 2 & 7\\\\\n",
       "\t 3 & 4\\\\\n",
       "\t 4 & 2\\\\\n",
       "\t 5 & 1\\\\\n",
       "\\end{tabular}\n"
      ],
      "text/markdown": [
       "\n",
       "A data.frame: 5 × 2\n",
       "\n",
       "| num_hijos &lt;fct&gt; | Freq &lt;int&gt; |\n",
       "|---|---|\n",
       "| 1 | 6 |\n",
       "| 2 | 7 |\n",
       "| 3 | 4 |\n",
       "| 4 | 2 |\n",
       "| 5 | 1 |\n",
       "\n"
      ],
      "text/plain": [
       "  num_hijos Freq\n",
       "1 1         6   \n",
       "2 2         7   \n",
       "3 3         4   \n",
       "4 4         2   \n",
       "5 5         1   "
      ]
     },
     "metadata": {},
     "output_type": "display_data"
    }
   ],
   "source": [
    "df_num_hijos <- as.data.frame(table(num_hijos))\n",
    "df_num_hijos"
   ]
  },
  {
   "cell_type": "code",
   "execution_count": 10,
   "id": "f9fee286",
   "metadata": {},
   "outputs": [
    {
     "data": {
      "text/html": [
       "<table class=\"dataframe\">\n",
       "<caption>A data.frame: 5 × 5</caption>\n",
       "<thead>\n",
       "\t<tr><th scope=col>num_hijos</th><th scope=col>Freq</th><th scope=col>FreqAc</th><th scope=col>FreqRe</th><th scope=col>FreqReAc</th></tr>\n",
       "\t<tr><th scope=col>&lt;fct&gt;</th><th scope=col>&lt;int&gt;</th><th scope=col>&lt;int&gt;</th><th scope=col>&lt;dbl&gt;</th><th scope=col>&lt;dbl&gt;</th></tr>\n",
       "</thead>\n",
       "<tbody>\n",
       "\t<tr><td>1</td><td>6</td><td> 6</td><td>0.30</td><td>0.30</td></tr>\n",
       "\t<tr><td>2</td><td>7</td><td>13</td><td>0.35</td><td>0.65</td></tr>\n",
       "\t<tr><td>3</td><td>4</td><td>17</td><td>0.20</td><td>0.85</td></tr>\n",
       "\t<tr><td>4</td><td>2</td><td>19</td><td>0.10</td><td>0.95</td></tr>\n",
       "\t<tr><td>5</td><td>1</td><td>20</td><td>0.05</td><td>1.00</td></tr>\n",
       "</tbody>\n",
       "</table>\n"
      ],
      "text/latex": [
       "A data.frame: 5 × 5\n",
       "\\begin{tabular}{lllll}\n",
       " num\\_hijos & Freq & FreqAc & FreqRe & FreqReAc\\\\\n",
       " <fct> & <int> & <int> & <dbl> & <dbl>\\\\\n",
       "\\hline\n",
       "\t 1 & 6 &  6 & 0.30 & 0.30\\\\\n",
       "\t 2 & 7 & 13 & 0.35 & 0.65\\\\\n",
       "\t 3 & 4 & 17 & 0.20 & 0.85\\\\\n",
       "\t 4 & 2 & 19 & 0.10 & 0.95\\\\\n",
       "\t 5 & 1 & 20 & 0.05 & 1.00\\\\\n",
       "\\end{tabular}\n"
      ],
      "text/markdown": [
       "\n",
       "A data.frame: 5 × 5\n",
       "\n",
       "| num_hijos &lt;fct&gt; | Freq &lt;int&gt; | FreqAc &lt;int&gt; | FreqRe &lt;dbl&gt; | FreqReAc &lt;dbl&gt; |\n",
       "|---|---|---|---|---|\n",
       "| 1 | 6 |  6 | 0.30 | 0.30 |\n",
       "| 2 | 7 | 13 | 0.35 | 0.65 |\n",
       "| 3 | 4 | 17 | 0.20 | 0.85 |\n",
       "| 4 | 2 | 19 | 0.10 | 0.95 |\n",
       "| 5 | 1 | 20 | 0.05 | 1.00 |\n",
       "\n"
      ],
      "text/plain": [
       "  num_hijos Freq FreqAc FreqRe FreqReAc\n",
       "1 1         6     6     0.30   0.30    \n",
       "2 2         7    13     0.35   0.65    \n",
       "3 3         4    17     0.20   0.85    \n",
       "4 4         2    19     0.10   0.95    \n",
       "5 5         1    20     0.05   1.00    "
      ]
     },
     "metadata": {},
     "output_type": "display_data"
    }
   ],
   "source": [
    "transform(df_num_hijos,\n",
    "          FreqAc=cumsum(df_num_hijos$Freq),\n",
    "          FreqRe=prop.table(df_num_hijos$Freq),\n",
    "          FreqReAc=cumsum(prop.table(df_num_hijos$Freq)))"
   ]
  },
  {
   "cell_type": "markdown",
   "id": "47704158",
   "metadata": {},
   "source": [
    "## Ejemplo de tabla de frecuencia"
   ]
  },
  {
   "cell_type": "markdown",
   "id": "c20d0d49",
   "metadata": {},
   "source": [
    "El paquete ***dplyr*** contiene una colección de funciones para realizar operaciones de manipulación de datos comunes como: filtrar por fila, seleccionar columnas específicas, reordenar filas, añadir nuevas filas y agregar datos.<br>\n",
    "***readxl*** es un paquete diseñado para hacer una sola tarea: importar hojas de Excel a R"
   ]
  },
  {
   "cell_type": "code",
   "execution_count": 13,
   "id": "5059dd7a",
   "metadata": {},
   "outputs": [
    {
     "name": "stderr",
     "output_type": "stream",
     "text": [
      "Warning message:\n",
      "\"package 'readxl' was built under R version 4.1.2\"\n",
      "Warning message:\n",
      "\"package 'dplyr' was built under R version 4.1.1\"\n",
      "\n",
      "Attaching package: 'dplyr'\n",
      "\n",
      "\n",
      "The following objects are masked from 'package:stats':\n",
      "\n",
      "    filter, lag\n",
      "\n",
      "\n",
      "The following objects are masked from 'package:base':\n",
      "\n",
      "    intersect, setdiff, setequal, union\n",
      "\n",
      "\n"
     ]
    }
   ],
   "source": [
    "library(readxl)\n",
    "library(dplyr)"
   ]
  },
  {
   "cell_type": "code",
   "execution_count": 14,
   "id": "985e631d",
   "metadata": {},
   "outputs": [],
   "source": [
    "df_eje2122 <- read_excel(\"C:/Users/ordonez/Documents/SAP/SAP GUI/PedidosEjercicios/pedidosConCodigoEjercicio21-22.XLSX\")\n",
    "#Cambio los nomrbres de columnas\n",
    "colnames(df_eje2122)<- c('Centro','Almacen','FechaDoc','Cl','Doc','Prov','Pos','UM','Material','CantPed',\n",
    "                         'CantBase','PorEntr','Gpo','Contrato','Cesta','Ref','Borrado','TipoImp','Incom')"
   ]
  },
  {
   "cell_type": "code",
   "execution_count": 15,
   "id": "03acf2d2",
   "metadata": {},
   "outputs": [],
   "source": [
    "df_1126 <- as.data.frame(table(as.data.frame(table(select(filter(df_eje2122,Almacen=='1126'),Material)))$Freq))"
   ]
  },
  {
   "cell_type": "code",
   "execution_count": 16,
   "id": "294cdd38",
   "metadata": {},
   "outputs": [
    {
     "data": {
      "text/html": [
       "<table class=\"dataframe\">\n",
       "<caption>A data.frame: 11 × 5</caption>\n",
       "<thead>\n",
       "\t<tr><th scope=col>Var1</th><th scope=col>Freq</th><th scope=col>FrecAbsAcum</th><th scope=col>FrecRel</th><th scope=col>FrecRelAcum</th></tr>\n",
       "\t<tr><th scope=col>&lt;fct&gt;</th><th scope=col>&lt;int&gt;</th><th scope=col>&lt;int&gt;</th><th scope=col>&lt;dbl&gt;</th><th scope=col>&lt;dbl&gt;</th></tr>\n",
       "</thead>\n",
       "<tbody>\n",
       "\t<tr><td>1 </td><td>1669</td><td>1669</td><td>0.379</td><td>0.379</td></tr>\n",
       "\t<tr><td>2 </td><td>1265</td><td>2934</td><td>0.288</td><td>0.667</td></tr>\n",
       "\t<tr><td>3 </td><td> 800</td><td>3734</td><td>0.182</td><td>0.849</td></tr>\n",
       "\t<tr><td>4 </td><td> 437</td><td>4171</td><td>0.099</td><td>0.948</td></tr>\n",
       "\t<tr><td>5 </td><td> 150</td><td>4321</td><td>0.034</td><td>0.982</td></tr>\n",
       "\t<tr><td>6 </td><td>  46</td><td>4367</td><td>0.010</td><td>0.993</td></tr>\n",
       "\t<tr><td>7 </td><td>  18</td><td>4385</td><td>0.004</td><td>0.997</td></tr>\n",
       "\t<tr><td>8 </td><td>   8</td><td>4393</td><td>0.002</td><td>0.999</td></tr>\n",
       "\t<tr><td>9 </td><td>   2</td><td>4395</td><td>0.000</td><td>0.999</td></tr>\n",
       "\t<tr><td>10</td><td>   1</td><td>4396</td><td>0.000</td><td>1.000</td></tr>\n",
       "\t<tr><td>18</td><td>   2</td><td>4398</td><td>0.000</td><td>1.000</td></tr>\n",
       "</tbody>\n",
       "</table>\n"
      ],
      "text/latex": [
       "A data.frame: 11 × 5\n",
       "\\begin{tabular}{lllll}\n",
       " Var1 & Freq & FrecAbsAcum & FrecRel & FrecRelAcum\\\\\n",
       " <fct> & <int> & <int> & <dbl> & <dbl>\\\\\n",
       "\\hline\n",
       "\t 1  & 1669 & 1669 & 0.379 & 0.379\\\\\n",
       "\t 2  & 1265 & 2934 & 0.288 & 0.667\\\\\n",
       "\t 3  &  800 & 3734 & 0.182 & 0.849\\\\\n",
       "\t 4  &  437 & 4171 & 0.099 & 0.948\\\\\n",
       "\t 5  &  150 & 4321 & 0.034 & 0.982\\\\\n",
       "\t 6  &   46 & 4367 & 0.010 & 0.993\\\\\n",
       "\t 7  &   18 & 4385 & 0.004 & 0.997\\\\\n",
       "\t 8  &    8 & 4393 & 0.002 & 0.999\\\\\n",
       "\t 9  &    2 & 4395 & 0.000 & 0.999\\\\\n",
       "\t 10 &    1 & 4396 & 0.000 & 1.000\\\\\n",
       "\t 18 &    2 & 4398 & 0.000 & 1.000\\\\\n",
       "\\end{tabular}\n"
      ],
      "text/markdown": [
       "\n",
       "A data.frame: 11 × 5\n",
       "\n",
       "| Var1 &lt;fct&gt; | Freq &lt;int&gt; | FrecAbsAcum &lt;int&gt; | FrecRel &lt;dbl&gt; | FrecRelAcum &lt;dbl&gt; |\n",
       "|---|---|---|---|---|\n",
       "| 1  | 1669 | 1669 | 0.379 | 0.379 |\n",
       "| 2  | 1265 | 2934 | 0.288 | 0.667 |\n",
       "| 3  |  800 | 3734 | 0.182 | 0.849 |\n",
       "| 4  |  437 | 4171 | 0.099 | 0.948 |\n",
       "| 5  |  150 | 4321 | 0.034 | 0.982 |\n",
       "| 6  |   46 | 4367 | 0.010 | 0.993 |\n",
       "| 7  |   18 | 4385 | 0.004 | 0.997 |\n",
       "| 8  |    8 | 4393 | 0.002 | 0.999 |\n",
       "| 9  |    2 | 4395 | 0.000 | 0.999 |\n",
       "| 10 |    1 | 4396 | 0.000 | 1.000 |\n",
       "| 18 |    2 | 4398 | 0.000 | 1.000 |\n",
       "\n"
      ],
      "text/plain": [
       "   Var1 Freq FrecAbsAcum FrecRel FrecRelAcum\n",
       "1  1    1669 1669        0.379   0.379      \n",
       "2  2    1265 2934        0.288   0.667      \n",
       "3  3     800 3734        0.182   0.849      \n",
       "4  4     437 4171        0.099   0.948      \n",
       "5  5     150 4321        0.034   0.982      \n",
       "6  6      46 4367        0.010   0.993      \n",
       "7  7      18 4385        0.004   0.997      \n",
       "8  8       8 4393        0.002   0.999      \n",
       "9  9       2 4395        0.000   0.999      \n",
       "10 10      1 4396        0.000   1.000      \n",
       "11 18      2 4398        0.000   1.000      "
      ]
     },
     "metadata": {},
     "output_type": "display_data"
    }
   ],
   "source": [
    "transform(df_1126,\n",
    "         FrecAbsAcum=cumsum(df_1126$Freq),\n",
    "         FrecRel=round(prop.table(df_1126$Freq),3),\n",
    "         FrecRelAcum=round(cumsum(prop.table(df_1126$Freq)),3))"
   ]
  },
  {
   "cell_type": "markdown",
   "id": "a94794a9",
   "metadata": {},
   "source": [
    "**Recorrido o Rango**: La diferencia entre el valor mayor y menor que toma la variable.<br>\n",
    "**Frecuencia absoluta $n_i$**: Definida como el número de veces que aparece el valor en cuestión de la variable estadística en el conjunto de las observaciones realizadas.<br>\n",
    "**Frecuencia relativa $f_i$**: Cociente entre la frecuencia absoluta y el número de observaciones realizadas N.<br>\n",
    "**Frecuencia absoluta acumulada $N_i$**: Suma de las frecuencias absolutas de los valores inferiores o igual a $x_i$.<br>\n",
    "**Frecuencia ralativa acumulada $F_i$**: Cociente entre la frecuencia absoluta acumulada y el número de observaciones.<br>"
   ]
  },
  {
   "cell_type": "markdown",
   "id": "93add56c",
   "metadata": {},
   "source": [
    "## Agrupamiento en intervalos de clase (usando fdth)"
   ]
  },
  {
   "cell_type": "code",
   "execution_count": null,
   "id": "30ffc8d0",
   "metadata": {},
   "outputs": [],
   "source": [
    "#install.packages(\"fdth\")"
   ]
  },
  {
   "cell_type": "markdown",
   "id": "ed63d808",
   "metadata": {},
   "source": [
    "***fdth*** Frequency Distribution Tables, Histograms and Polygons"
   ]
  },
  {
   "cell_type": "code",
   "execution_count": 17,
   "id": "77ea7eed",
   "metadata": {},
   "outputs": [
    {
     "name": "stderr",
     "output_type": "stream",
     "text": [
      "Warning message:\n",
      "\"package 'fdth' was built under R version 4.1.3\"\n",
      "\n",
      "Attaching package: 'fdth'\n",
      "\n",
      "\n",
      "The following objects are masked from 'package:stats':\n",
      "\n",
      "    sd, var\n",
      "\n",
      "\n"
     ]
    }
   ],
   "source": [
    "library(fdth)"
   ]
  },
  {
   "cell_type": "code",
   "execution_count": 18,
   "id": "8a7b1ada",
   "metadata": {},
   "outputs": [],
   "source": [
    "ejemploI6 <- c(8.63,10.16,8.50,8.31,10.80,7.50,8.12,\n",
    "               8.42,9.20,8.16,8.36,9.77,7.52,7.96,\n",
    "               7.83,8.62,7.54,8.28,9.32,7.96,7.47)"
   ]
  },
  {
   "cell_type": "code",
   "execution_count": 19,
   "id": "ab83dbba",
   "metadata": {},
   "outputs": [
    {
     "name": "stdout",
     "output_type": "stream",
     "text": [
      "[1] \"máximo:  10.8\"\n",
      "[1] \"mínimo:  7.47\"\n",
      "[1] \"recorrido: 3.33\"\n"
     ]
    }
   ],
   "source": [
    "recorrido <- max(ejemploI6) - min(ejemploI6)\n",
    "print(paste(\"máximo: \",max(ejemploI6)))\n",
    "print(paste(\"mínimo: \",min(ejemploI6)))\n",
    "print(paste(\"recorrido:\",recorrido))"
   ]
  },
  {
   "cell_type": "code",
   "execution_count": 21,
   "id": "e353483a",
   "metadata": {},
   "outputs": [
    {
     "name": "stdout",
     "output_type": "stream",
     "text": [
      "[1] \"Tamaño de la muestra:  21\"\n",
      "[1] \"número de intervalos  5\"\n"
     ]
    }
   ],
   "source": [
    "N = length(ejemploI6)\n",
    "k = round(N**(0.5),0) #k es el número de intervalos\n",
    "print(paste(\"Tamaño de la muestra: \",N))\n",
    "print(paste(\"número de intervalos \",k))"
   ]
  },
  {
   "cell_type": "code",
   "execution_count": 22,
   "id": "897c64ad",
   "metadata": {},
   "outputs": [
    {
     "data": {
      "text/html": [
       "<dl>\n",
       "\t<dt>$table</dt>\n",
       "\t\t<dd><table class=\"dataframe\">\n",
       "<caption>A data.frame: 7 × 6</caption>\n",
       "<thead>\n",
       "\t<tr><th scope=col>Class limits</th><th scope=col>f</th><th scope=col>rf</th><th scope=col>rf(%)</th><th scope=col>cf</th><th scope=col>cf(%)</th></tr>\n",
       "\t<tr><th scope=col>&lt;fct&gt;</th><th scope=col>&lt;int&gt;</th><th scope=col>&lt;dbl&gt;</th><th scope=col>&lt;dbl&gt;</th><th scope=col>&lt;dbl&gt;</th><th scope=col>&lt;dbl&gt;</th></tr>\n",
       "</thead>\n",
       "<tbody>\n",
       "\t<tr><td>[7.467,7.946)</td><td>5</td><td>0.23809524</td><td>23.809524</td><td> 5</td><td> 23.80952</td></tr>\n",
       "\t<tr><td>[7.946,8.421)</td><td>8</td><td>0.38095238</td><td>38.095238</td><td>13</td><td> 61.90476</td></tr>\n",
       "\t<tr><td>[8.421,8.897)</td><td>3</td><td>0.14285714</td><td>14.285714</td><td>16</td><td> 76.19048</td></tr>\n",
       "\t<tr><td>[8.897,9.373)</td><td>2</td><td>0.09523810</td><td> 9.523810</td><td>18</td><td> 85.71429</td></tr>\n",
       "\t<tr><td>[9.373,9.849)</td><td>1</td><td>0.04761905</td><td> 4.761905</td><td>19</td><td> 90.47619</td></tr>\n",
       "\t<tr><td>[9.849,10.32)</td><td>1</td><td>0.04761905</td><td> 4.761905</td><td>20</td><td> 95.23810</td></tr>\n",
       "\t<tr><td>[10.32,10.8) </td><td>1</td><td>0.04761905</td><td> 4.761905</td><td>21</td><td>100.00000</td></tr>\n",
       "</tbody>\n",
       "</table>\n",
       "</dd>\n",
       "\t<dt>$breaks</dt>\n",
       "\t\t<dd><style>\n",
       ".dl-inline {width: auto; margin:0; padding: 0}\n",
       ".dl-inline>dt, .dl-inline>dd {float: none; width: auto; display: inline-block}\n",
       ".dl-inline>dt::after {content: \":\\0020\"; padding-right: .5ex}\n",
       ".dl-inline>dt:not(:first-of-type) {padding-left: .5ex}\n",
       "</style><dl class=dl-inline><dt>start</dt><dd>7.4</dd><dt>end</dt><dd>10.9</dd><dt>h</dt><dd>5</dd><dt>right</dt><dd>0</dd></dl>\n",
       "</dd>\n",
       "</dl>\n"
      ],
      "text/latex": [
       "\\begin{description}\n",
       "\\item[\\$table] A data.frame: 7 × 6\n",
       "\\begin{tabular}{llllll}\n",
       " Class limits & f & rf & rf(\\%) & cf & cf(\\%)\\\\\n",
       " <fct> & <int> & <dbl> & <dbl> & <dbl> & <dbl>\\\\\n",
       "\\hline\n",
       "\t {[}7.467,7.946) & 5 & 0.23809524 & 23.809524 &  5 &  23.80952\\\\\n",
       "\t {[}7.946,8.421) & 8 & 0.38095238 & 38.095238 & 13 &  61.90476\\\\\n",
       "\t {[}8.421,8.897) & 3 & 0.14285714 & 14.285714 & 16 &  76.19048\\\\\n",
       "\t {[}8.897,9.373) & 2 & 0.09523810 &  9.523810 & 18 &  85.71429\\\\\n",
       "\t {[}9.373,9.849) & 1 & 0.04761905 &  4.761905 & 19 &  90.47619\\\\\n",
       "\t {[}9.849,10.32) & 1 & 0.04761905 &  4.761905 & 20 &  95.23810\\\\\n",
       "\t {[}10.32,10.8)  & 1 & 0.04761905 &  4.761905 & 21 & 100.00000\\\\\n",
       "\\end{tabular}\n",
       "\n",
       "\\item[\\$breaks] \\begin{description*}\n",
       "\\item[start] 7.4\n",
       "\\item[end] 10.9\n",
       "\\item[h] 5\n",
       "\\item[right] 0\n",
       "\\end{description*}\n",
       "\n",
       "\\end{description}\n"
      ],
      "text/markdown": [
       "$table\n",
       ":   \n",
       "A data.frame: 7 × 6\n",
       "\n",
       "| Class limits &lt;fct&gt; | f &lt;int&gt; | rf &lt;dbl&gt; | rf(%) &lt;dbl&gt; | cf &lt;dbl&gt; | cf(%) &lt;dbl&gt; |\n",
       "|---|---|---|---|---|---|\n",
       "| [7.467,7.946) | 5 | 0.23809524 | 23.809524 |  5 |  23.80952 |\n",
       "| [7.946,8.421) | 8 | 0.38095238 | 38.095238 | 13 |  61.90476 |\n",
       "| [8.421,8.897) | 3 | 0.14285714 | 14.285714 | 16 |  76.19048 |\n",
       "| [8.897,9.373) | 2 | 0.09523810 |  9.523810 | 18 |  85.71429 |\n",
       "| [9.373,9.849) | 1 | 0.04761905 |  4.761905 | 19 |  90.47619 |\n",
       "| [9.849,10.32) | 1 | 0.04761905 |  4.761905 | 20 |  95.23810 |\n",
       "| [10.32,10.8)  | 1 | 0.04761905 |  4.761905 | 21 | 100.00000 |\n",
       "\n",
       "\n",
       "$breaks\n",
       ":   start\n",
       ":   7.4end\n",
       ":   10.9h\n",
       ":   5right\n",
       ":   0\n",
       "\n",
       "\n",
       "\n",
       "\n"
      ],
      "text/plain": [
       "  Class limits f   rf rf(%) cf  cf(%)\n",
       " [7.467,7.946) 5 0.24 23.81  5  23.81\n",
       " [7.946,8.421) 8 0.38 38.10 13  61.90\n",
       " [8.421,8.897) 3 0.14 14.29 16  76.19\n",
       " [8.897,9.373) 2 0.10  9.52 18  85.71\n",
       " [9.373,9.849) 1 0.05  4.76 19  90.48\n",
       " [9.849,10.32) 1 0.05  4.76 20  95.24\n",
       "  [10.32,10.8) 1 0.05  4.76 21 100.00"
      ]
     },
     "metadata": {},
     "output_type": "display_data"
    }
   ],
   "source": [
    "dist <- fdt(ejemploI6,start=7.40,end=10.9,h=5)\n",
    "dist"
   ]
  },
  {
   "cell_type": "markdown",
   "id": "5a79782c",
   "metadata": {},
   "source": [
    "# Frecuencias de compras en almacenes (Ejercicio 20/21)"
   ]
  },
  {
   "cell_type": "code",
   "execution_count": null,
   "id": "cac654fc",
   "metadata": {},
   "outputs": [],
   "source": [
    "library(readxl)\n",
    "library(dplyr)"
   ]
  },
  {
   "cell_type": "code",
   "execution_count": 23,
   "id": "36340615",
   "metadata": {},
   "outputs": [],
   "source": [
    "df_eje2122 <- read_excel(\"C:/Users/ordonez/Documents/SAP/SAP GUI/PedidosEjercicios/pedidosConCodigoEjercicio21-22.XLSX\")\n",
    "#Cambio los nomrbres de columnas\n",
    "colnames(df_eje2122)<- c('Centro','Almacen','FechaDoc','Cl','Doc','Prov','Pos','UM','Material','CantPed',\n",
    "                         'CantBase','PorEntr','Gpo','Contrato','Cesta','Ref','Borrado','TipoImp','Incom')"
   ]
  },
  {
   "cell_type": "code",
   "execution_count": 24,
   "id": "f055d10a",
   "metadata": {},
   "outputs": [
    {
     "data": {
      "text/plain": [
       "\n",
       "   1    2    3    4    5    6    7    8    9   10   18 \n",
       "1669 1265  800  437  150   46   18    8    2    1    2 "
      ]
     },
     "metadata": {},
     "output_type": "display_data"
    }
   ],
   "source": [
    "table(as.data.frame(table(select(filter(df_eje2122,Almacen=='1126'),Material)))$Freq)"
   ]
  },
  {
   "cell_type": "code",
   "execution_count": 25,
   "id": "a026373e",
   "metadata": {},
   "outputs": [
    {
     "data": {
      "text/plain": [
       "\n",
       "   1    2    3    4    5    6    7    8    9   11   12   29 \n",
       "1454 1079  622  294  113   49   27    9    2    1    1    1 "
      ]
     },
     "metadata": {},
     "output_type": "display_data"
    }
   ],
   "source": [
    "table(as.data.frame(table(select(filter(df_eje2122,Almacen=='1124'),Material)))$Freq)"
   ]
  },
  {
   "cell_type": "code",
   "execution_count": 26,
   "id": "bed0991e",
   "metadata": {},
   "outputs": [
    {
     "data": {
      "text/plain": [
       "\n",
       "  1   2   3   4   5   6   7 \n",
       "869 452 200  67  33   8   2 "
      ]
     },
     "metadata": {},
     "output_type": "display_data"
    }
   ],
   "source": [
    "table(as.data.frame(table(select(filter(df_eje2122,Almacen=='1128'),Material)))$Freq)"
   ]
  },
  {
   "cell_type": "code",
   "execution_count": 27,
   "id": "5634e6ef",
   "metadata": {},
   "outputs": [
    {
     "data": {
      "text/plain": [
       "\n",
       " 1  2  3  4  5  6  7  8  9 10 11 12 13 14 15 16 19 21 23 33 34 \n",
       "42 21 20 19 16  8  9  4  7  4  6  3  1  1  2  2  2  1  2  1  1 "
      ]
     },
     "metadata": {},
     "output_type": "display_data"
    }
   ],
   "source": [
    "table(as.data.frame(table(select(filter(df_eje2122,Almacen=='1129'),Material)))$Freq)"
   ]
  },
  {
   "cell_type": "markdown",
   "id": "f52a0089",
   "metadata": {},
   "source": [
    "### Variable cualitativa"
   ]
  },
  {
   "cell_type": "code",
   "execution_count": 28,
   "id": "39c99959",
   "metadata": {},
   "outputs": [],
   "source": [
    "color_ojos <- c('azul','verde','marrón','gris','verde','marrón','marrón','azul','verde','marrón','gris','azul','marrón','verde')\n",
    "N1 <- length(color_ojos)"
   ]
  },
  {
   "cell_type": "code",
   "execution_count": 29,
   "id": "b697e6f9",
   "metadata": {},
   "outputs": [
    {
     "data": {
      "text/plain": [
       "color_ojos\n",
       "  azul   gris marrón  verde \n",
       "     3      2      5      4 "
      ]
     },
     "metadata": {},
     "output_type": "display_data"
    }
   ],
   "source": [
    "tabla_color <- table(color_ojos)\n",
    "tabla_color"
   ]
  },
  {
   "cell_type": "code",
   "execution_count": 30,
   "id": "90ea848e",
   "metadata": {},
   "outputs": [
    {
     "data": {
      "text/html": [
       "<style>\n",
       ".dl-inline {width: auto; margin:0; padding: 0}\n",
       ".dl-inline>dt, .dl-inline>dd {float: none; width: auto; display: inline-block}\n",
       ".dl-inline>dt::after {content: \":\\0020\"; padding-right: .5ex}\n",
       ".dl-inline>dt:not(:first-of-type) {padding-left: .5ex}\n",
       "</style><dl class=dl-inline><dt>azul</dt><dd>3</dd><dt>gris</dt><dd>5</dd><dt>marrón</dt><dd>10</dd><dt>verde</dt><dd>14</dd></dl>\n"
      ],
      "text/latex": [
       "\\begin{description*}\n",
       "\\item[azul] 3\n",
       "\\item[gris] 5\n",
       "\\item[marrón] 10\n",
       "\\item[verde] 14\n",
       "\\end{description*}\n"
      ],
      "text/markdown": [
       "azul\n",
       ":   3gris\n",
       ":   5marrón\n",
       ":   10verde\n",
       ":   14\n",
       "\n"
      ],
      "text/plain": [
       "  azul   gris marrón  verde \n",
       "     3      5     10     14 "
      ]
     },
     "metadata": {},
     "output_type": "display_data"
    }
   ],
   "source": [
    "FreqAc <- cumsum(table(color_ojos))\n",
    "FreqAc"
   ]
  },
  {
   "cell_type": "code",
   "execution_count": 31,
   "id": "cda992d7",
   "metadata": {},
   "outputs": [
    {
     "data": {
      "text/html": [
       "<table class=\"dataframe\">\n",
       "<caption>A data.frame: 4 × 3</caption>\n",
       "<thead>\n",
       "\t<tr><th></th><th scope=col>color_ojos</th><th scope=col>Freq</th><th scope=col>FreqAc</th></tr>\n",
       "\t<tr><th></th><th scope=col>&lt;fct&gt;</th><th scope=col>&lt;int&gt;</th><th scope=col>&lt;int&gt;</th></tr>\n",
       "</thead>\n",
       "<tbody>\n",
       "\t<tr><th scope=row>azul</th><td>azul  </td><td>3</td><td> 3</td></tr>\n",
       "\t<tr><th scope=row>gris</th><td>gris  </td><td>2</td><td> 5</td></tr>\n",
       "\t<tr><th scope=row>marrón</th><td>marrón</td><td>5</td><td>10</td></tr>\n",
       "\t<tr><th scope=row>verde</th><td>verde </td><td>4</td><td>14</td></tr>\n",
       "</tbody>\n",
       "</table>\n"
      ],
      "text/latex": [
       "A data.frame: 4 × 3\n",
       "\\begin{tabular}{r|lll}\n",
       "  & color\\_ojos & Freq & FreqAc\\\\\n",
       "  & <fct> & <int> & <int>\\\\\n",
       "\\hline\n",
       "\tazul & azul   & 3 &  3\\\\\n",
       "\tgris & gris   & 2 &  5\\\\\n",
       "\tmarrón & marrón & 5 & 10\\\\\n",
       "\tverde & verde  & 4 & 14\\\\\n",
       "\\end{tabular}\n"
      ],
      "text/markdown": [
       "\n",
       "A data.frame: 4 × 3\n",
       "\n",
       "| <!--/--> | color_ojos &lt;fct&gt; | Freq &lt;int&gt; | FreqAc &lt;int&gt; |\n",
       "|---|---|---|---|\n",
       "| azul | azul   | 3 |  3 |\n",
       "| gris | gris   | 2 |  5 |\n",
       "| marrón | marrón | 5 | 10 |\n",
       "| verde | verde  | 4 | 14 |\n",
       "\n"
      ],
      "text/plain": [
       "       color_ojos Freq FreqAc\n",
       "azul   azul       3     3    \n",
       "gris   gris       2     5    \n",
       "marrón marrón     5    10    \n",
       "verde  verde      4    14    "
      ]
     },
     "metadata": {},
     "output_type": "display_data"
    }
   ],
   "source": [
    "transform(tabla_color,\n",
    "         FreqAc=FreqAc)"
   ]
  },
  {
   "cell_type": "code",
   "execution_count": 32,
   "id": "486fe760",
   "metadata": {},
   "outputs": [
    {
     "data": {
      "text/html": [
       "<style>\n",
       ".list-inline {list-style: none; margin:0; padding: 0}\n",
       ".list-inline>li {display: inline-block}\n",
       ".list-inline>li:not(:last-child)::after {content: \"\\00b7\"; padding: 0 .5ex}\n",
       "</style>\n",
       "<ol class=list-inline><li>3</li><li>2</li><li>5</li><li>4</li></ol>\n"
      ],
      "text/latex": [
       "\\begin{enumerate*}\n",
       "\\item 3\n",
       "\\item 2\n",
       "\\item 5\n",
       "\\item 4\n",
       "\\end{enumerate*}\n"
      ],
      "text/markdown": [
       "1. 3\n",
       "2. 2\n",
       "3. 5\n",
       "4. 4\n",
       "\n",
       "\n"
      ],
      "text/plain": [
       "[1] 3 2 5 4"
      ]
     },
     "metadata": {},
     "output_type": "display_data"
    }
   ],
   "source": [
    "as.data.frame(table(color_ojos))$Freq"
   ]
  },
  {
   "cell_type": "markdown",
   "id": "cb226426",
   "metadata": {},
   "source": [
    "# Importar archivos de Excel"
   ]
  },
  {
   "cell_type": "code",
   "execution_count": null,
   "id": "8580f34e",
   "metadata": {},
   "outputs": [],
   "source": [
    "library(readxl)\n",
    "library(dplyr)#Para el uso de filter y select"
   ]
  },
  {
   "cell_type": "code",
   "execution_count": 33,
   "id": "86747529",
   "metadata": {},
   "outputs": [
    {
     "name": "stderr",
     "output_type": "stream",
     "text": [
      "Warning message in read_fun(path = enc2native(normalizePath(path)), sheet_i = sheet, :\n",
      "\"Expecting logical in R8346 / R8346C18: got 'K'\"\n",
      "Warning message in read_fun(path = enc2native(normalizePath(path)), sheet_i = sheet, :\n",
      "\"Expecting logical in S16862 / R16862C19: got 'X'\"\n",
      "Warning message in read_fun(path = enc2native(normalizePath(path)), sheet_i = sheet, :\n",
      "\"Expecting logical in S24962 / R24962C19: got 'X'\"\n",
      "Warning message in read_fun(path = enc2native(normalizePath(path)), sheet_i = sheet, :\n",
      "\"Expecting logical in S28932 / R28932C19: got 'X'\"\n",
      "Warning message in read_fun(path = enc2native(normalizePath(path)), sheet_i = sheet, :\n",
      "\"Expecting logical in R30271 / R30271C18: got 'K'\"\n"
     ]
    }
   ],
   "source": [
    "ej20_21 <- read_excel(\"C:/Users/ordonez/Documents/SAP/SAP GUI/PedidosEjercicios/pedidosConCodigoEjercicio20-21.XLSX\")\n",
    "colnames(ej20_21)<- c('Centro','Almacen','FechaDoc','Cl','Doc','Prov','Pos','UM','Material','CantPed',\n",
    "                         'CantBase','PorEntr','Gpo','Contrato','Cesta','Ref','Borrado','TipoImp','Incom')"
   ]
  },
  {
   "cell_type": "code",
   "execution_count": 34,
   "id": "98a6d33b",
   "metadata": {},
   "outputs": [],
   "source": [
    "ej21_22 <- read_excel(\"C:/Users/ordonez/Documents/SAP/SAP GUI/PedidosEjercicios/pedidosConCodigoEjercicio21-22.XLSX\")\n",
    "colnames(ej21_22)<- c('Centro','Almacen','FechaDoc','Cl','Doc','Prov','Pos','UM','Material','CantPed',\n",
    "                         'CantBase','PorEntr','Gpo','Contrato','Cesta','Ref','Borrado','TipoImp','Incom')"
   ]
  },
  {
   "cell_type": "markdown",
   "id": "8995103e",
   "metadata": {},
   "source": [
    "## filter()"
   ]
  },
  {
   "cell_type": "code",
   "execution_count": 35,
   "id": "0c4b4665",
   "metadata": {},
   "outputs": [
    {
     "data": {
      "text/html": [
       "<table class=\"dataframe\">\n",
       "<caption>A tibble: 4 × 19</caption>\n",
       "<thead>\n",
       "\t<tr><th scope=col>Centro</th><th scope=col>Almacen</th><th scope=col>FechaDoc</th><th scope=col>Cl</th><th scope=col>Doc</th><th scope=col>Prov</th><th scope=col>Pos</th><th scope=col>UM</th><th scope=col>Material</th><th scope=col>CantPed</th><th scope=col>CantBase</th><th scope=col>PorEntr</th><th scope=col>Gpo</th><th scope=col>Contrato</th><th scope=col>Cesta</th><th scope=col>Ref</th><th scope=col>Borrado</th><th scope=col>TipoImp</th><th scope=col>Incom</th></tr>\n",
       "\t<tr><th scope=col>&lt;chr&gt;</th><th scope=col>&lt;chr&gt;</th><th scope=col>&lt;dttm&gt;</th><th scope=col>&lt;chr&gt;</th><th scope=col>&lt;chr&gt;</th><th scope=col>&lt;chr&gt;</th><th scope=col>&lt;chr&gt;</th><th scope=col>&lt;chr&gt;</th><th scope=col>&lt;chr&gt;</th><th scope=col>&lt;dbl&gt;</th><th scope=col>&lt;dbl&gt;</th><th scope=col>&lt;dbl&gt;</th><th scope=col>&lt;chr&gt;</th><th scope=col>&lt;chr&gt;</th><th scope=col>&lt;chr&gt;</th><th scope=col>&lt;chr&gt;</th><th scope=col>&lt;chr&gt;</th><th scope=col>&lt;lgl&gt;</th><th scope=col>&lt;chr&gt;</th></tr>\n",
       "</thead>\n",
       "<tbody>\n",
       "\t<tr><td>1007</td><td>1124</td><td>2021-06-01</td><td>ZOP</td><td>4800137401</td><td>804038     ANDRES N. BERTOTTO S.A.I</td><td>1 </td><td>C/U</td><td>1037352</td><td>2</td><td>1</td><td>0</td><td>D19</td><td>NA</td><td>3000721193</td><td>NA      </td><td>NA</td><td>NA</td><td>NA</td></tr>\n",
       "\t<tr><td>1007</td><td>1124</td><td>2021-06-01</td><td>ZOP</td><td>4800137401</td><td>804038     ANDRES N. BERTOTTO S.A.I</td><td>2 </td><td>C/U</td><td>1037353</td><td>6</td><td>1</td><td>0</td><td>D19</td><td>NA</td><td>3000721193</td><td>NA      </td><td>NA</td><td>NA</td><td>NA</td></tr>\n",
       "\t<tr><td>1007</td><td>1124</td><td>2021-06-01</td><td>ZOP</td><td>4800137401</td><td>804038     ANDRES N. BERTOTTO S.A.I</td><td>3 </td><td>C/U</td><td>1037354</td><td>1</td><td>1</td><td>0</td><td>D19</td><td>NA</td><td>3000721193</td><td>NA      </td><td>NA</td><td>NA</td><td>NA</td></tr>\n",
       "\t<tr><td>1007</td><td>1124</td><td>2021-06-02</td><td>ZOP</td><td>4500172380</td><td>801546     WHEELPAM S.A.           </td><td>10</td><td>C/U</td><td>1012499</td><td>2</td><td>1</td><td>0</td><td>D18</td><td>NA</td><td>NA        </td><td>DDONAIRE</td><td>NA</td><td>NA</td><td>NA</td></tr>\n",
       "</tbody>\n",
       "</table>\n"
      ],
      "text/latex": [
       "A tibble: 4 × 19\n",
       "\\begin{tabular}{lllllllllllllllllll}\n",
       " Centro & Almacen & FechaDoc & Cl & Doc & Prov & Pos & UM & Material & CantPed & CantBase & PorEntr & Gpo & Contrato & Cesta & Ref & Borrado & TipoImp & Incom\\\\\n",
       " <chr> & <chr> & <dttm> & <chr> & <chr> & <chr> & <chr> & <chr> & <chr> & <dbl> & <dbl> & <dbl> & <chr> & <chr> & <chr> & <chr> & <chr> & <lgl> & <chr>\\\\\n",
       "\\hline\n",
       "\t 1007 & 1124 & 2021-06-01 & ZOP & 4800137401 & 804038     ANDRES N. BERTOTTO S.A.I & 1  & C/U & 1037352 & 2 & 1 & 0 & D19 & NA & 3000721193 & NA       & NA & NA & NA\\\\\n",
       "\t 1007 & 1124 & 2021-06-01 & ZOP & 4800137401 & 804038     ANDRES N. BERTOTTO S.A.I & 2  & C/U & 1037353 & 6 & 1 & 0 & D19 & NA & 3000721193 & NA       & NA & NA & NA\\\\\n",
       "\t 1007 & 1124 & 2021-06-01 & ZOP & 4800137401 & 804038     ANDRES N. BERTOTTO S.A.I & 3  & C/U & 1037354 & 1 & 1 & 0 & D19 & NA & 3000721193 & NA       & NA & NA & NA\\\\\n",
       "\t 1007 & 1124 & 2021-06-02 & ZOP & 4500172380 & 801546     WHEELPAM S.A.            & 10 & C/U & 1012499 & 2 & 1 & 0 & D18 & NA & NA         & DDONAIRE & NA & NA & NA\\\\\n",
       "\\end{tabular}\n"
      ],
      "text/markdown": [
       "\n",
       "A tibble: 4 × 19\n",
       "\n",
       "| Centro &lt;chr&gt; | Almacen &lt;chr&gt; | FechaDoc &lt;dttm&gt; | Cl &lt;chr&gt; | Doc &lt;chr&gt; | Prov &lt;chr&gt; | Pos &lt;chr&gt; | UM &lt;chr&gt; | Material &lt;chr&gt; | CantPed &lt;dbl&gt; | CantBase &lt;dbl&gt; | PorEntr &lt;dbl&gt; | Gpo &lt;chr&gt; | Contrato &lt;chr&gt; | Cesta &lt;chr&gt; | Ref &lt;chr&gt; | Borrado &lt;chr&gt; | TipoImp &lt;lgl&gt; | Incom &lt;chr&gt; |\n",
       "|---|---|---|---|---|---|---|---|---|---|---|---|---|---|---|---|---|---|---|\n",
       "| 1007 | 1124 | 2021-06-01 | ZOP | 4800137401 | 804038     ANDRES N. BERTOTTO S.A.I | 1  | C/U | 1037352 | 2 | 1 | 0 | D19 | NA | 3000721193 | NA       | NA | NA | NA |\n",
       "| 1007 | 1124 | 2021-06-01 | ZOP | 4800137401 | 804038     ANDRES N. BERTOTTO S.A.I | 2  | C/U | 1037353 | 6 | 1 | 0 | D19 | NA | 3000721193 | NA       | NA | NA | NA |\n",
       "| 1007 | 1124 | 2021-06-01 | ZOP | 4800137401 | 804038     ANDRES N. BERTOTTO S.A.I | 3  | C/U | 1037354 | 1 | 1 | 0 | D19 | NA | 3000721193 | NA       | NA | NA | NA |\n",
       "| 1007 | 1124 | 2021-06-02 | ZOP | 4500172380 | 801546     WHEELPAM S.A.            | 10 | C/U | 1012499 | 2 | 1 | 0 | D18 | NA | NA         | DDONAIRE | NA | NA | NA |\n",
       "\n"
      ],
      "text/plain": [
       "  Centro Almacen FechaDoc   Cl  Doc        Prov                               \n",
       "1 1007   1124    2021-06-01 ZOP 4800137401 804038     ANDRES N. BERTOTTO S.A.I\n",
       "2 1007   1124    2021-06-01 ZOP 4800137401 804038     ANDRES N. BERTOTTO S.A.I\n",
       "3 1007   1124    2021-06-01 ZOP 4800137401 804038     ANDRES N. BERTOTTO S.A.I\n",
       "4 1007   1124    2021-06-02 ZOP 4500172380 801546     WHEELPAM S.A.           \n",
       "  Pos UM  Material CantPed CantBase PorEntr Gpo Contrato Cesta      Ref     \n",
       "1 1   C/U 1037352  2       1        0       D19 NA       3000721193 NA      \n",
       "2 2   C/U 1037353  6       1        0       D19 NA       3000721193 NA      \n",
       "3 3   C/U 1037354  1       1        0       D19 NA       3000721193 NA      \n",
       "4 10  C/U 1012499  2       1        0       D18 NA       NA         DDONAIRE\n",
       "  Borrado TipoImp Incom\n",
       "1 NA      NA      NA   \n",
       "2 NA      NA      NA   \n",
       "3 NA      NA      NA   \n",
       "4 NA      NA      NA   "
      ]
     },
     "metadata": {},
     "output_type": "display_data"
    }
   ],
   "source": [
    "head(filter(ej21_22,Almacen=='1124'),4)"
   ]
  },
  {
   "cell_type": "code",
   "execution_count": 36,
   "id": "c4e9dece",
   "metadata": {},
   "outputs": [
    {
     "data": {
      "text/html": [
       "<table class=\"dataframe\">\n",
       "<caption>A tibble: 5 × 19</caption>\n",
       "<thead>\n",
       "\t<tr><th scope=col>Centro</th><th scope=col>Almacen</th><th scope=col>FechaDoc</th><th scope=col>Cl</th><th scope=col>Doc</th><th scope=col>Prov</th><th scope=col>Pos</th><th scope=col>UM</th><th scope=col>Material</th><th scope=col>CantPed</th><th scope=col>CantBase</th><th scope=col>PorEntr</th><th scope=col>Gpo</th><th scope=col>Contrato</th><th scope=col>Cesta</th><th scope=col>Ref</th><th scope=col>Borrado</th><th scope=col>TipoImp</th><th scope=col>Incom</th></tr>\n",
       "\t<tr><th scope=col>&lt;chr&gt;</th><th scope=col>&lt;chr&gt;</th><th scope=col>&lt;dttm&gt;</th><th scope=col>&lt;chr&gt;</th><th scope=col>&lt;chr&gt;</th><th scope=col>&lt;chr&gt;</th><th scope=col>&lt;chr&gt;</th><th scope=col>&lt;chr&gt;</th><th scope=col>&lt;chr&gt;</th><th scope=col>&lt;dbl&gt;</th><th scope=col>&lt;dbl&gt;</th><th scope=col>&lt;dbl&gt;</th><th scope=col>&lt;chr&gt;</th><th scope=col>&lt;chr&gt;</th><th scope=col>&lt;chr&gt;</th><th scope=col>&lt;chr&gt;</th><th scope=col>&lt;chr&gt;</th><th scope=col>&lt;lgl&gt;</th><th scope=col>&lt;chr&gt;</th></tr>\n",
       "</thead>\n",
       "<tbody>\n",
       "\t<tr><td>1007</td><td>1124</td><td>2021-06-01</td><td>ZOP</td><td>4800137401</td><td>804038     ANDRES N. BERTOTTO S.A.I</td><td>1 </td><td>C/U</td><td>1037352</td><td>2</td><td>1</td><td>0</td><td>D19</td><td>NA</td><td>3000721193</td><td>NA      </td><td>NA</td><td>NA</td><td>NA</td></tr>\n",
       "\t<tr><td>1007</td><td>1124</td><td>2021-06-01</td><td>ZOP</td><td>4800137401</td><td>804038     ANDRES N. BERTOTTO S.A.I</td><td>2 </td><td>C/U</td><td>1037353</td><td>6</td><td>1</td><td>0</td><td>D19</td><td>NA</td><td>3000721193</td><td>NA      </td><td>NA</td><td>NA</td><td>NA</td></tr>\n",
       "\t<tr><td>1007</td><td>1124</td><td>2021-06-01</td><td>ZOP</td><td>4800137401</td><td>804038     ANDRES N. BERTOTTO S.A.I</td><td>3 </td><td>C/U</td><td>1037354</td><td>1</td><td>1</td><td>0</td><td>D19</td><td>NA</td><td>3000721193</td><td>NA      </td><td>NA</td><td>NA</td><td>NA</td></tr>\n",
       "\t<tr><td>1007</td><td>1124</td><td>2021-06-02</td><td>ZOP</td><td>4500172380</td><td>801546     WHEELPAM S.A.           </td><td>10</td><td>C/U</td><td>1012499</td><td>2</td><td>1</td><td>0</td><td>D18</td><td>NA</td><td>NA        </td><td>DDONAIRE</td><td>NA</td><td>NA</td><td>NA</td></tr>\n",
       "\t<tr><td>1007</td><td>1124</td><td>2021-06-02</td><td>ZOP</td><td>4800137375</td><td>802853     KSB CIA.SUDAM. DE BOMBAS</td><td>1 </td><td>C/U</td><td>1031042</td><td>4</td><td>1</td><td>0</td><td>D49</td><td>NA</td><td>3000720422</td><td>HUANCODA</td><td>NA</td><td>NA</td><td>NA</td></tr>\n",
       "</tbody>\n",
       "</table>\n"
      ],
      "text/latex": [
       "A tibble: 5 × 19\n",
       "\\begin{tabular}{lllllllllllllllllll}\n",
       " Centro & Almacen & FechaDoc & Cl & Doc & Prov & Pos & UM & Material & CantPed & CantBase & PorEntr & Gpo & Contrato & Cesta & Ref & Borrado & TipoImp & Incom\\\\\n",
       " <chr> & <chr> & <dttm> & <chr> & <chr> & <chr> & <chr> & <chr> & <chr> & <dbl> & <dbl> & <dbl> & <chr> & <chr> & <chr> & <chr> & <chr> & <lgl> & <chr>\\\\\n",
       "\\hline\n",
       "\t 1007 & 1124 & 2021-06-01 & ZOP & 4800137401 & 804038     ANDRES N. BERTOTTO S.A.I & 1  & C/U & 1037352 & 2 & 1 & 0 & D19 & NA & 3000721193 & NA       & NA & NA & NA\\\\\n",
       "\t 1007 & 1124 & 2021-06-01 & ZOP & 4800137401 & 804038     ANDRES N. BERTOTTO S.A.I & 2  & C/U & 1037353 & 6 & 1 & 0 & D19 & NA & 3000721193 & NA       & NA & NA & NA\\\\\n",
       "\t 1007 & 1124 & 2021-06-01 & ZOP & 4800137401 & 804038     ANDRES N. BERTOTTO S.A.I & 3  & C/U & 1037354 & 1 & 1 & 0 & D19 & NA & 3000721193 & NA       & NA & NA & NA\\\\\n",
       "\t 1007 & 1124 & 2021-06-02 & ZOP & 4500172380 & 801546     WHEELPAM S.A.            & 10 & C/U & 1012499 & 2 & 1 & 0 & D18 & NA & NA         & DDONAIRE & NA & NA & NA\\\\\n",
       "\t 1007 & 1124 & 2021-06-02 & ZOP & 4800137375 & 802853     KSB CIA.SUDAM. DE BOMBAS & 1  & C/U & 1031042 & 4 & 1 & 0 & D49 & NA & 3000720422 & HUANCODA & NA & NA & NA\\\\\n",
       "\\end{tabular}\n"
      ],
      "text/markdown": [
       "\n",
       "A tibble: 5 × 19\n",
       "\n",
       "| Centro &lt;chr&gt; | Almacen &lt;chr&gt; | FechaDoc &lt;dttm&gt; | Cl &lt;chr&gt; | Doc &lt;chr&gt; | Prov &lt;chr&gt; | Pos &lt;chr&gt; | UM &lt;chr&gt; | Material &lt;chr&gt; | CantPed &lt;dbl&gt; | CantBase &lt;dbl&gt; | PorEntr &lt;dbl&gt; | Gpo &lt;chr&gt; | Contrato &lt;chr&gt; | Cesta &lt;chr&gt; | Ref &lt;chr&gt; | Borrado &lt;chr&gt; | TipoImp &lt;lgl&gt; | Incom &lt;chr&gt; |\n",
       "|---|---|---|---|---|---|---|---|---|---|---|---|---|---|---|---|---|---|---|\n",
       "| 1007 | 1124 | 2021-06-01 | ZOP | 4800137401 | 804038     ANDRES N. BERTOTTO S.A.I | 1  | C/U | 1037352 | 2 | 1 | 0 | D19 | NA | 3000721193 | NA       | NA | NA | NA |\n",
       "| 1007 | 1124 | 2021-06-01 | ZOP | 4800137401 | 804038     ANDRES N. BERTOTTO S.A.I | 2  | C/U | 1037353 | 6 | 1 | 0 | D19 | NA | 3000721193 | NA       | NA | NA | NA |\n",
       "| 1007 | 1124 | 2021-06-01 | ZOP | 4800137401 | 804038     ANDRES N. BERTOTTO S.A.I | 3  | C/U | 1037354 | 1 | 1 | 0 | D19 | NA | 3000721193 | NA       | NA | NA | NA |\n",
       "| 1007 | 1124 | 2021-06-02 | ZOP | 4500172380 | 801546     WHEELPAM S.A.            | 10 | C/U | 1012499 | 2 | 1 | 0 | D18 | NA | NA         | DDONAIRE | NA | NA | NA |\n",
       "| 1007 | 1124 | 2021-06-02 | ZOP | 4800137375 | 802853     KSB CIA.SUDAM. DE BOMBAS | 1  | C/U | 1031042 | 4 | 1 | 0 | D49 | NA | 3000720422 | HUANCODA | NA | NA | NA |\n",
       "\n"
      ],
      "text/plain": [
       "  Centro Almacen FechaDoc   Cl  Doc        Prov                               \n",
       "1 1007   1124    2021-06-01 ZOP 4800137401 804038     ANDRES N. BERTOTTO S.A.I\n",
       "2 1007   1124    2021-06-01 ZOP 4800137401 804038     ANDRES N. BERTOTTO S.A.I\n",
       "3 1007   1124    2021-06-01 ZOP 4800137401 804038     ANDRES N. BERTOTTO S.A.I\n",
       "4 1007   1124    2021-06-02 ZOP 4500172380 801546     WHEELPAM S.A.           \n",
       "5 1007   1124    2021-06-02 ZOP 4800137375 802853     KSB CIA.SUDAM. DE BOMBAS\n",
       "  Pos UM  Material CantPed CantBase PorEntr Gpo Contrato Cesta      Ref     \n",
       "1 1   C/U 1037352  2       1        0       D19 NA       3000721193 NA      \n",
       "2 2   C/U 1037353  6       1        0       D19 NA       3000721193 NA      \n",
       "3 3   C/U 1037354  1       1        0       D19 NA       3000721193 NA      \n",
       "4 10  C/U 1012499  2       1        0       D18 NA       NA         DDONAIRE\n",
       "5 1   C/U 1031042  4       1        0       D49 NA       3000720422 HUANCODA\n",
       "  Borrado TipoImp Incom\n",
       "1 NA      NA      NA   \n",
       "2 NA      NA      NA   \n",
       "3 NA      NA      NA   \n",
       "4 NA      NA      NA   \n",
       "5 NA      NA      NA   "
      ]
     },
     "metadata": {},
     "output_type": "display_data"
    }
   ],
   "source": [
    "head(filter(ej21_22,Almacen=='1124',UM=='C/U'),5)"
   ]
  },
  {
   "cell_type": "code",
   "execution_count": 37,
   "id": "9c9c0ecb",
   "metadata": {},
   "outputs": [],
   "source": [
    "help(filter)"
   ]
  },
  {
   "cell_type": "markdown",
   "id": "6c34c190",
   "metadata": {},
   "source": [
    "## select()"
   ]
  },
  {
   "cell_type": "code",
   "execution_count": 38,
   "id": "311ee520",
   "metadata": {},
   "outputs": [
    {
     "data": {
      "text/html": [
       "<table class=\"dataframe\">\n",
       "<caption>A tibble: 3 × 1</caption>\n",
       "<thead>\n",
       "\t<tr><th scope=col>Material</th></tr>\n",
       "\t<tr><th scope=col>&lt;chr&gt;</th></tr>\n",
       "</thead>\n",
       "<tbody>\n",
       "\t<tr><td>1056412</td></tr>\n",
       "\t<tr><td>1050053</td></tr>\n",
       "\t<tr><td>1030923</td></tr>\n",
       "</tbody>\n",
       "</table>\n"
      ],
      "text/latex": [
       "A tibble: 3 × 1\n",
       "\\begin{tabular}{l}\n",
       " Material\\\\\n",
       " <chr>\\\\\n",
       "\\hline\n",
       "\t 1056412\\\\\n",
       "\t 1050053\\\\\n",
       "\t 1030923\\\\\n",
       "\\end{tabular}\n"
      ],
      "text/markdown": [
       "\n",
       "A tibble: 3 × 1\n",
       "\n",
       "| Material &lt;chr&gt; |\n",
       "|---|\n",
       "| 1056412 |\n",
       "| 1050053 |\n",
       "| 1030923 |\n",
       "\n"
      ],
      "text/plain": [
       "  Material\n",
       "1 1056412 \n",
       "2 1050053 \n",
       "3 1030923 "
      ]
     },
     "metadata": {},
     "output_type": "display_data"
    }
   ],
   "source": [
    "head(select(ej20_21,Material),3)"
   ]
  },
  {
   "cell_type": "code",
   "execution_count": 40,
   "id": "ffdd1abb",
   "metadata": {},
   "outputs": [
    {
     "data": {
      "text/html": [
       "<table class=\"dataframe\">\n",
       "<caption>A tibble: 5 × 3</caption>\n",
       "<thead>\n",
       "\t<tr><th scope=col>Centro</th><th scope=col>Almacen</th><th scope=col>Material</th></tr>\n",
       "\t<tr><th scope=col>&lt;chr&gt;</th><th scope=col>&lt;chr&gt;</th><th scope=col>&lt;chr&gt;</th></tr>\n",
       "</thead>\n",
       "<tbody>\n",
       "\t<tr><td>1002</td><td>1128</td><td>1014104</td></tr>\n",
       "\t<tr><td>1001</td><td>1126</td><td>1051268</td></tr>\n",
       "\t<tr><td>1001</td><td>1126</td><td>1051269</td></tr>\n",
       "\t<tr><td>1001</td><td>1126</td><td>1034608</td></tr>\n",
       "\t<tr><td>1002</td><td>1129</td><td>1000067</td></tr>\n",
       "</tbody>\n",
       "</table>\n"
      ],
      "text/latex": [
       "A tibble: 5 × 3\n",
       "\\begin{tabular}{lll}\n",
       " Centro & Almacen & Material\\\\\n",
       " <chr> & <chr> & <chr>\\\\\n",
       "\\hline\n",
       "\t 1002 & 1128 & 1014104\\\\\n",
       "\t 1001 & 1126 & 1051268\\\\\n",
       "\t 1001 & 1126 & 1051269\\\\\n",
       "\t 1001 & 1126 & 1034608\\\\\n",
       "\t 1002 & 1129 & 1000067\\\\\n",
       "\\end{tabular}\n"
      ],
      "text/markdown": [
       "\n",
       "A tibble: 5 × 3\n",
       "\n",
       "| Centro &lt;chr&gt; | Almacen &lt;chr&gt; | Material &lt;chr&gt; |\n",
       "|---|---|---|\n",
       "| 1002 | 1128 | 1014104 |\n",
       "| 1001 | 1126 | 1051268 |\n",
       "| 1001 | 1126 | 1051269 |\n",
       "| 1001 | 1126 | 1034608 |\n",
       "| 1002 | 1129 | 1000067 |\n",
       "\n"
      ],
      "text/plain": [
       "  Centro Almacen Material\n",
       "1 1002   1128    1014104 \n",
       "2 1001   1126    1051268 \n",
       "3 1001   1126    1051269 \n",
       "4 1001   1126    1034608 \n",
       "5 1002   1129    1000067 "
      ]
     },
     "metadata": {},
     "output_type": "display_data"
    }
   ],
   "source": [
    "tail(select(ej20_21,c(Centro,Almacen,Material)),5)"
   ]
  },
  {
   "cell_type": "markdown",
   "id": "f0e27249",
   "metadata": {},
   "source": [
    "# dplyr"
   ]
  },
  {
   "cell_type": "code",
   "execution_count": null,
   "id": "8c9a1c27",
   "metadata": {},
   "outputs": [],
   "source": [
    "library(dplyr)"
   ]
  },
  {
   "cell_type": "code",
   "execution_count": 41,
   "id": "06f21215",
   "metadata": {},
   "outputs": [],
   "source": [
    "nombre <- c('Emanuel','Maximiliano','Claudia','Sara','Sebastian')\n",
    "edad <- c(24,23,45,68,37)\n",
    "sexo <- c('masculino','masculino','femenino','femenino','masculino')"
   ]
  },
  {
   "cell_type": "code",
   "execution_count": 42,
   "id": "6cf77a5c",
   "metadata": {},
   "outputs": [
    {
     "data": {
      "text/html": [
       "<table class=\"dataframe\">\n",
       "<caption>A data.frame: 5 × 3</caption>\n",
       "<thead>\n",
       "\t<tr><th scope=col>nombre</th><th scope=col>edad</th><th scope=col>sexo</th></tr>\n",
       "\t<tr><th scope=col>&lt;chr&gt;</th><th scope=col>&lt;dbl&gt;</th><th scope=col>&lt;chr&gt;</th></tr>\n",
       "</thead>\n",
       "<tbody>\n",
       "\t<tr><td>Emanuel    </td><td>24</td><td>masculino</td></tr>\n",
       "\t<tr><td>Maximiliano</td><td>23</td><td>masculino</td></tr>\n",
       "\t<tr><td>Claudia    </td><td>45</td><td>femenino </td></tr>\n",
       "\t<tr><td>Sara       </td><td>68</td><td>femenino </td></tr>\n",
       "\t<tr><td>Sebastian  </td><td>37</td><td>masculino</td></tr>\n",
       "</tbody>\n",
       "</table>\n"
      ],
      "text/latex": [
       "A data.frame: 5 × 3\n",
       "\\begin{tabular}{lll}\n",
       " nombre & edad & sexo\\\\\n",
       " <chr> & <dbl> & <chr>\\\\\n",
       "\\hline\n",
       "\t Emanuel     & 24 & masculino\\\\\n",
       "\t Maximiliano & 23 & masculino\\\\\n",
       "\t Claudia     & 45 & femenino \\\\\n",
       "\t Sara        & 68 & femenino \\\\\n",
       "\t Sebastian   & 37 & masculino\\\\\n",
       "\\end{tabular}\n"
      ],
      "text/markdown": [
       "\n",
       "A data.frame: 5 × 3\n",
       "\n",
       "| nombre &lt;chr&gt; | edad &lt;dbl&gt; | sexo &lt;chr&gt; |\n",
       "|---|---|---|\n",
       "| Emanuel     | 24 | masculino |\n",
       "| Maximiliano | 23 | masculino |\n",
       "| Claudia     | 45 | femenino  |\n",
       "| Sara        | 68 | femenino  |\n",
       "| Sebastian   | 37 | masculino |\n",
       "\n"
      ],
      "text/plain": [
       "  nombre      edad sexo     \n",
       "1 Emanuel     24   masculino\n",
       "2 Maximiliano 23   masculino\n",
       "3 Claudia     45   femenino \n",
       "4 Sara        68   femenino \n",
       "5 Sebastian   37   masculino"
      ]
     },
     "metadata": {},
     "output_type": "display_data"
    }
   ],
   "source": [
    "dataf <- data.frame(nombre,edad,sexo)\n",
    "dataf"
   ]
  },
  {
   "cell_type": "code",
   "execution_count": 43,
   "id": "8a4e068a",
   "metadata": {},
   "outputs": [
    {
     "data": {
      "text/html": [
       "<table class=\"dataframe\">\n",
       "<caption>A data.frame: 2 × 3</caption>\n",
       "<thead>\n",
       "\t<tr><th scope=col>nombre</th><th scope=col>edad</th><th scope=col>sexo</th></tr>\n",
       "\t<tr><th scope=col>&lt;chr&gt;</th><th scope=col>&lt;dbl&gt;</th><th scope=col>&lt;chr&gt;</th></tr>\n",
       "</thead>\n",
       "<tbody>\n",
       "\t<tr><td>Claudia</td><td>45</td><td>femenino</td></tr>\n",
       "\t<tr><td>Sara   </td><td>68</td><td>femenino</td></tr>\n",
       "</tbody>\n",
       "</table>\n"
      ],
      "text/latex": [
       "A data.frame: 2 × 3\n",
       "\\begin{tabular}{lll}\n",
       " nombre & edad & sexo\\\\\n",
       " <chr> & <dbl> & <chr>\\\\\n",
       "\\hline\n",
       "\t Claudia & 45 & femenino\\\\\n",
       "\t Sara    & 68 & femenino\\\\\n",
       "\\end{tabular}\n"
      ],
      "text/markdown": [
       "\n",
       "A data.frame: 2 × 3\n",
       "\n",
       "| nombre &lt;chr&gt; | edad &lt;dbl&gt; | sexo &lt;chr&gt; |\n",
       "|---|---|---|\n",
       "| Claudia | 45 | femenino |\n",
       "| Sara    | 68 | femenino |\n",
       "\n"
      ],
      "text/plain": [
       "  nombre  edad sexo    \n",
       "1 Claudia 45   femenino\n",
       "2 Sara    68   femenino"
      ]
     },
     "metadata": {},
     "output_type": "display_data"
    }
   ],
   "source": [
    "filter(dataf,sexo=='femenino')"
   ]
  },
  {
   "cell_type": "code",
   "execution_count": 44,
   "id": "4282b7ad",
   "metadata": {},
   "outputs": [
    {
     "data": {
      "text/html": [
       "<table class=\"dataframe\">\n",
       "<caption>A data.frame: 5 × 2</caption>\n",
       "<thead>\n",
       "\t<tr><th scope=col>nombre</th><th scope=col>edad</th></tr>\n",
       "\t<tr><th scope=col>&lt;chr&gt;</th><th scope=col>&lt;dbl&gt;</th></tr>\n",
       "</thead>\n",
       "<tbody>\n",
       "\t<tr><td>Emanuel    </td><td>24</td></tr>\n",
       "\t<tr><td>Maximiliano</td><td>23</td></tr>\n",
       "\t<tr><td>Claudia    </td><td>45</td></tr>\n",
       "\t<tr><td>Sara       </td><td>68</td></tr>\n",
       "\t<tr><td>Sebastian  </td><td>37</td></tr>\n",
       "</tbody>\n",
       "</table>\n"
      ],
      "text/latex": [
       "A data.frame: 5 × 2\n",
       "\\begin{tabular}{ll}\n",
       " nombre & edad\\\\\n",
       " <chr> & <dbl>\\\\\n",
       "\\hline\n",
       "\t Emanuel     & 24\\\\\n",
       "\t Maximiliano & 23\\\\\n",
       "\t Claudia     & 45\\\\\n",
       "\t Sara        & 68\\\\\n",
       "\t Sebastian   & 37\\\\\n",
       "\\end{tabular}\n"
      ],
      "text/markdown": [
       "\n",
       "A data.frame: 5 × 2\n",
       "\n",
       "| nombre &lt;chr&gt; | edad &lt;dbl&gt; |\n",
       "|---|---|\n",
       "| Emanuel     | 24 |\n",
       "| Maximiliano | 23 |\n",
       "| Claudia     | 45 |\n",
       "| Sara        | 68 |\n",
       "| Sebastian   | 37 |\n",
       "\n"
      ],
      "text/plain": [
       "  nombre      edad\n",
       "1 Emanuel     24  \n",
       "2 Maximiliano 23  \n",
       "3 Claudia     45  \n",
       "4 Sara        68  \n",
       "5 Sebastian   37  "
      ]
     },
     "metadata": {},
     "output_type": "display_data"
    }
   ],
   "source": [
    "select(dataf,nombre,edad)"
   ]
  },
  {
   "cell_type": "code",
   "execution_count": 45,
   "id": "2746901a",
   "metadata": {},
   "outputs": [
    {
     "data": {
      "text/plain": [
       "\n",
       " femenino masculino \n",
       "        2         3 "
      ]
     },
     "metadata": {},
     "output_type": "display_data"
    }
   ],
   "source": [
    "t_sexo <- table(dataf$sexo)\n",
    "t_sexo"
   ]
  },
  {
   "cell_type": "markdown",
   "id": "433285e2",
   "metadata": {},
   "source": [
    "## tabla a data frame"
   ]
  },
  {
   "cell_type": "code",
   "execution_count": 46,
   "id": "2bbd4cdb",
   "metadata": {},
   "outputs": [
    {
     "data": {
      "text/html": [
       "<table class=\"dataframe\">\n",
       "<caption>A data.frame: 2 × 2</caption>\n",
       "<thead>\n",
       "\t<tr><th scope=col>Var1</th><th scope=col>Freq</th></tr>\n",
       "\t<tr><th scope=col>&lt;fct&gt;</th><th scope=col>&lt;int&gt;</th></tr>\n",
       "</thead>\n",
       "<tbody>\n",
       "\t<tr><td>femenino </td><td>2</td></tr>\n",
       "\t<tr><td>masculino</td><td>3</td></tr>\n",
       "</tbody>\n",
       "</table>\n"
      ],
      "text/latex": [
       "A data.frame: 2 × 2\n",
       "\\begin{tabular}{ll}\n",
       " Var1 & Freq\\\\\n",
       " <fct> & <int>\\\\\n",
       "\\hline\n",
       "\t femenino  & 2\\\\\n",
       "\t masculino & 3\\\\\n",
       "\\end{tabular}\n"
      ],
      "text/markdown": [
       "\n",
       "A data.frame: 2 × 2\n",
       "\n",
       "| Var1 &lt;fct&gt; | Freq &lt;int&gt; |\n",
       "|---|---|\n",
       "| femenino  | 2 |\n",
       "| masculino | 3 |\n",
       "\n"
      ],
      "text/plain": [
       "  Var1      Freq\n",
       "1 femenino  2   \n",
       "2 masculino 3   "
      ]
     },
     "metadata": {},
     "output_type": "display_data"
    }
   ],
   "source": [
    "df_sexo <- as.data.frame(t_sexo)\n",
    "df_sexo"
   ]
  },
  {
   "cell_type": "code",
   "execution_count": 47,
   "id": "35b74d79",
   "metadata": {},
   "outputs": [
    {
     "name": "stdout",
     "output_type": "stream",
     "text": [
      " 'table' int [1:2(1d)] 2 3\n",
      " - attr(*, \"dimnames\")=List of 1\n",
      "  ..$ : chr [1:2] \"femenino\" \"masculino\"\n"
     ]
    }
   ],
   "source": [
    "str(t_sexo)"
   ]
  },
  {
   "cell_type": "markdown",
   "id": "911d4862",
   "metadata": {},
   "source": [
    "## str()"
   ]
  },
  {
   "cell_type": "code",
   "execution_count": 48,
   "id": "400cd876",
   "metadata": {},
   "outputs": [],
   "source": [
    "nombre <- c('Emanuel','Maximiliano','Claudia','Sara','Sebastian')\n",
    "edad <- c(24,23,45,68,37)\n",
    "sexo <- c('masculino','masculino','femenino','femenino','masculino')\n",
    "dataf <- data.frame(nombre,edad,sexo)"
   ]
  },
  {
   "cell_type": "code",
   "execution_count": 49,
   "id": "2ffde885",
   "metadata": {},
   "outputs": [
    {
     "name": "stdout",
     "output_type": "stream",
     "text": [
      "'data.frame':\t5 obs. of  3 variables:\n",
      " $ nombre: chr  \"Emanuel\" \"Maximiliano\" \"Claudia\" \"Sara\" ...\n",
      " $ edad  : num  24 23 45 68 37\n",
      " $ sexo  : chr  \"masculino\" \"masculino\" \"femenino\" \"femenino\" ...\n"
     ]
    }
   ],
   "source": [
    "str(dataf)"
   ]
  },
  {
   "cell_type": "code",
   "execution_count": 50,
   "id": "149800a9",
   "metadata": {},
   "outputs": [
    {
     "name": "stdout",
     "output_type": "stream",
     "text": [
      " chr [1:5] \"Emanuel\" \"Maximiliano\" \"Claudia\" \"Sara\" \"Sebastian\"\n"
     ]
    }
   ],
   "source": [
    "str(nombre)"
   ]
  },
  {
   "cell_type": "code",
   "execution_count": 51,
   "id": "bba99464",
   "metadata": {},
   "outputs": [],
   "source": [
    "tabla <- table(dataf$sexo)"
   ]
  },
  {
   "cell_type": "code",
   "execution_count": 52,
   "id": "03dbf638",
   "metadata": {},
   "outputs": [
    {
     "name": "stdout",
     "output_type": "stream",
     "text": [
      " 'table' int [1:2(1d)] 2 3\n",
      " - attr(*, \"dimnames\")=List of 1\n",
      "  ..$ : chr [1:2] \"femenino\" \"masculino\"\n"
     ]
    }
   ],
   "source": [
    "str(tabla)"
   ]
  },
  {
   "cell_type": "markdown",
   "id": "c210b264",
   "metadata": {},
   "source": [
    "## rnorm"
   ]
  },
  {
   "cell_type": "code",
   "execution_count": 53,
   "id": "46406862",
   "metadata": {},
   "outputs": [
    {
     "data": {
      "image/png": "[encoded data removed]",
      "text/plain": [
       "Plot with title \"Histogram of x\""
      ]
     },
     "metadata": {
      "image/png": {
       "height": 420,
       "width": 420
      }
     },
     "output_type": "display_data"
    }
   ],
   "source": [
    "x <- rnorm(n=200, mean=170, sd=5)\n",
    "hist(x)"
   ]
  },
  {
   "cell_type": "markdown",
   "id": "7e926c8c",
   "metadata": {},
   "source": [
    "## Histograma"
   ]
  },
  {
   "cell_type": "code",
   "execution_count": 54,
   "id": "df044568",
   "metadata": {},
   "outputs": [
    {
     "data": {
      "image/png": "[encoded data removed]",
      "text/plain": [
       "Plot with title \"Histogram of iris$Sepal.Width\""
      ]
     },
     "metadata": {
      "image/png": {
       "height": 420,
       "width": 420
      }
     },
     "output_type": "display_data"
    }
   ],
   "source": [
    "hist(iris$Sepal.Width)"
   ]
  },
  {
   "cell_type": "code",
   "execution_count": 55,
   "id": "385ae717",
   "metadata": {},
   "outputs": [
    {
     "name": "stdout",
     "output_type": "stream",
     "text": [
      "'data.frame':\t150 obs. of  5 variables:\n",
      " $ Sepal.Length: num  5.1 4.9 4.7 4.6 5 5.4 4.6 5 4.4 4.9 ...\n",
      " $ Sepal.Width : num  3.5 3 3.2 3.1 3.6 3.9 3.4 3.4 2.9 3.1 ...\n",
      " $ Petal.Length: num  1.4 1.4 1.3 1.5 1.4 1.7 1.4 1.5 1.4 1.5 ...\n",
      " $ Petal.Width : num  0.2 0.2 0.2 0.2 0.2 0.4 0.3 0.2 0.2 0.1 ...\n",
      " $ Species     : Factor w/ 3 levels \"setosa\",\"versicolor\",..: 1 1 1 1 1 1 1 1 1 1 ...\n"
     ]
    }
   ],
   "source": [
    "str(iris)"
   ]
  },
  {
   "cell_type": "code",
   "execution_count": 56,
   "id": "3319445a",
   "metadata": {},
   "outputs": [],
   "source": [
    "fechas <- c('14/3/2022','7/6/2022','9/6/2022','9/6/2022','9/6/2022','9/6/2022','9/6/2022','9/6/2022','9/6/2022','9/6/2022',\n",
    "            '9/6/2022','9/6/2022','9/6/2022','10/6/2022','13/6/2022','16/6/2022','16/6/2022','16/6/2022','16/6/2022',\n",
    "            '16/6/2022','16/6/2022','16/6/2022','16/6/2022','16/6/2022','16/6/2022','16/6/2022','16/6/2022','16/6/2022')"
   ]
  },
  {
   "cell_type": "code",
   "execution_count": 58,
   "id": "0d8a9a10",
   "metadata": {},
   "outputs": [
    {
     "data": {
      "text/plain": [
       "fechas\n",
       "10/6/2022 13/6/2022 14/3/2022 16/6/2022  7/6/2022  9/6/2022 \n",
       " 3.571429  3.571429  3.571429 46.428571  3.571429 39.285714 "
      ]
     },
     "metadata": {},
     "output_type": "display_data"
    }
   ],
   "source": [
    "table(fechas)/length(fechas)*100"
   ]
  },
  {
   "cell_type": "code",
   "execution_count": 59,
   "id": "5bbfcf1e",
   "metadata": {},
   "outputs": [
    {
     "data": {
      "text/plain": [
       "fechas\n",
       "10/6/2022 13/6/2022 14/3/2022 16/6/2022  7/6/2022  9/6/2022 \n",
       " 3.571429  3.571429  3.571429 46.428571  3.571429 39.285714 "
      ]
     },
     "metadata": {},
     "output_type": "display_data"
    }
   ],
   "source": [
    "table(fechas)/length(fechas)*100"
   ]
  },
  {
   "cell_type": "markdown",
   "id": "f6488015",
   "metadata": {},
   "source": [
    "# Tabla de frecuencias (distintas distribuciones)"
   ]
  },
  {
   "cell_type": "markdown",
   "id": "4f357080",
   "metadata": {},
   "source": [
    "## Distribución uniforme entre cero y uno\n",
    "Esta distribución se usa cuando todos los elementos de la población tienen identica probabilidad\n",
    "de aparecer en nuetra muestra. También se llama rectangular."
   ]
  },
  {
   "cell_type": "code",
   "execution_count": 60,
   "id": "d697b027",
   "metadata": {},
   "outputs": [],
   "source": [
    "#sumulemos 1000 uniformes entre cero y uno\n",
    "x <- runif(1000)"
   ]
  },
  {
   "cell_type": "code",
   "execution_count": 61,
   "id": "1e0def48",
   "metadata": {},
   "outputs": [
    {
     "data": {
      "image/png": "[encoded data removed]",
      "text/plain": [
       "Plot with title \"Histogram of x\""
      ]
     },
     "metadata": {
      "image/png": {
       "height": 420,
       "width": 420
      }
     },
     "output_type": "display_data"
    }
   ],
   "source": [
    "hist(x)"
   ]
  },
  {
   "cell_type": "code",
   "execution_count": 62,
   "id": "ea2b2a68",
   "metadata": {},
   "outputs": [
    {
     "data": {
      "text/html": [
       "11"
      ],
      "text/latex": [
       "11"
      ],
      "text/markdown": [
       "11"
      ],
      "text/plain": [
       "[1] 11"
      ]
     },
     "metadata": {},
     "output_type": "display_data"
    }
   ],
   "source": [
    "#Generamos el números de clases con la regla sturges:\n",
    "k <- nclass.Sturges(x)\n",
    "k"
   ]
  },
  {
   "cell_type": "code",
   "execution_count": 63,
   "id": "4759f269",
   "metadata": {},
   "outputs": [],
   "source": [
    "#Separamos los valores de x en k intervalos de clases\n",
    "intervalos <- cut(x,breaks=k)"
   ]
  },
  {
   "cell_type": "code",
   "execution_count": 64,
   "id": "87a48004",
   "metadata": {},
   "outputs": [
    {
     "data": {
      "text/plain": [
       "intervalos\n",
       "(-0.000567,0.0913]     (0.0913,0.182]      (0.182,0.273]      (0.273,0.364] \n",
       "                91                104                 95                 91 \n",
       "     (0.364,0.455]      (0.455,0.545]      (0.545,0.636]      (0.636,0.727] \n",
       "                86                 86                 94                 88 \n",
       "     (0.727,0.818]      (0.818,0.909]          (0.909,1] \n",
       "                97                 83                 85 "
      ]
     },
     "metadata": {},
     "output_type": "display_data"
    }
   ],
   "source": [
    "# Calculamos las frecuencias absolutas(cuantos elementos caen en cada clase)\n",
    "FA <- table(intervalos)\n",
    "FA"
   ]
  },
  {
   "cell_type": "code",
   "execution_count": 65,
   "id": "e6ae9c5c",
   "metadata": {},
   "outputs": [
    {
     "data": {
      "image/png": "[encoded data removed]",
      "text/plain": [
       "plot without title"
      ]
     },
     "metadata": {
      "image/png": {
       "height": 420,
       "width": 420
      }
     },
     "output_type": "display_data"
    }
   ],
   "source": [
    "barplot(FA)"
   ]
  },
  {
   "cell_type": "code",
   "execution_count": 66,
   "id": "6dbeb19e",
   "metadata": {},
   "outputs": [
    {
     "data": {
      "text/plain": [
       "intervalos\n",
       "(-0.000567,0.0913]     (0.0913,0.182]      (0.182,0.273]      (0.273,0.364] \n",
       "             0.091              0.104              0.095              0.091 \n",
       "     (0.364,0.455]      (0.455,0.545]      (0.545,0.636]      (0.636,0.727] \n",
       "             0.086              0.086              0.094              0.088 \n",
       "     (0.727,0.818]      (0.818,0.909]          (0.909,1] \n",
       "             0.097              0.083              0.085 "
      ]
     },
     "metadata": {},
     "output_type": "display_data"
    }
   ],
   "source": [
    "#Para obtener las frecuencias relativas(tenemos la probabilidad de caer en cada clase)\n",
    "FR <- FA <- table(intervalos)/length(x)\n",
    "FR"
   ]
  },
  {
   "cell_type": "code",
   "execution_count": 67,
   "id": "13eca728",
   "metadata": {},
   "outputs": [
    {
     "data": {
      "text/html": [
       "'table'"
      ],
      "text/latex": [
       "'table'"
      ],
      "text/markdown": [
       "'table'"
      ],
      "text/plain": [
       "[1] \"table\""
      ]
     },
     "metadata": {},
     "output_type": "display_data"
    }
   ],
   "source": [
    "class(FR)"
   ]
  },
  {
   "cell_type": "code",
   "execution_count": 68,
   "id": "2e2b7d4c",
   "metadata": {},
   "outputs": [
    {
     "data": {
      "image/png": "[encoded data removed]",
      "text/plain": [
       "plot without title"
      ]
     },
     "metadata": {
      "image/png": {
       "height": 420,
       "width": 420
      }
     },
     "output_type": "display_data"
    }
   ],
   "source": [
    "barplot(FR)"
   ]
  },
  {
   "cell_type": "markdown",
   "id": "a3db24ac",
   "metadata": {},
   "source": [
    "## Distribución normal estandar\n",
    "Esta distribución se usa cuando la mayoría de los elementos de la población se acercan a la media y el comportamiento es\n",
    "simétrico. Es la base del teorema del límite central y de muchas propiedades estadísticas."
   ]
  },
  {
   "cell_type": "code",
   "execution_count": 69,
   "id": "b4bd8176",
   "metadata": {},
   "outputs": [],
   "source": [
    "#Sumulemos 1000 normales con media cero y ds uno:\n",
    "y <- rnorm(1000)"
   ]
  },
  {
   "cell_type": "code",
   "execution_count": 70,
   "id": "1caeb030",
   "metadata": {},
   "outputs": [
    {
     "data": {
      "image/png": "[encoded data removed]",
      "text/plain": [
       "Plot with title \"Histogram of y\""
      ]
     },
     "metadata": {
      "image/png": {
       "height": 420,
       "width": 420
      }
     },
     "output_type": "display_data"
    }
   ],
   "source": [
    "hist(y)"
   ]
  },
  {
   "cell_type": "code",
   "execution_count": 71,
   "id": "c5661261",
   "metadata": {},
   "outputs": [
    {
     "data": {
      "text/html": [
       "11"
      ],
      "text/latex": [
       "11"
      ],
      "text/markdown": [
       "11"
      ],
      "text/plain": [
       "[1] 11"
      ]
     },
     "metadata": {},
     "output_type": "display_data"
    }
   ],
   "source": [
    "k2 <- nclass.Sturges(y)\n",
    "k2"
   ]
  },
  {
   "cell_type": "code",
   "execution_count": 72,
   "id": "eb2231f0",
   "metadata": {},
   "outputs": [],
   "source": [
    "intervalos2 <- cut(y, breaks=k2)"
   ]
  },
  {
   "cell_type": "code",
   "execution_count": 73,
   "id": "49a6ee2b",
   "metadata": {},
   "outputs": [
    {
     "data": {
      "text/plain": [
       "intervalos2\n",
       "  (-2.93,-2.4]   (-2.4,-1.88]  (-1.88,-1.36] (-1.36,-0.834] (-0.834,-0.31] \n",
       "             5             31             56            113            164 \n",
       " (-0.31,0.214]  (0.214,0.737]   (0.737,1.26]    (1.26,1.78]    (1.78,2.31] \n",
       "           211            189            136             56             32 \n",
       "   (2.31,2.84] \n",
       "             7 "
      ]
     },
     "metadata": {},
     "output_type": "display_data"
    }
   ],
   "source": [
    "FA2 <- table(intervalos2)\n",
    "FA2"
   ]
  },
  {
   "cell_type": "code",
   "execution_count": 74,
   "id": "ea41df7f",
   "metadata": {},
   "outputs": [
    {
     "data": {
      "image/png": "[encoded data removed]",
      "text/plain": [
       "plot without title"
      ]
     },
     "metadata": {
      "image/png": {
       "height": 420,
       "width": 420
      }
     },
     "output_type": "display_data"
    }
   ],
   "source": [
    "barplot(FA2)"
   ]
  },
  {
   "cell_type": "code",
   "execution_count": 75,
   "id": "00d54eba",
   "metadata": {},
   "outputs": [
    {
     "data": {
      "text/plain": [
       "intervalos2\n",
       "  (-2.93,-2.4]   (-2.4,-1.88]  (-1.88,-1.36] (-1.36,-0.834] (-0.834,-0.31] \n",
       "         0.005          0.031          0.056          0.113          0.164 \n",
       " (-0.31,0.214]  (0.214,0.737]   (0.737,1.26]    (1.26,1.78]    (1.78,2.31] \n",
       "         0.211          0.189          0.136          0.056          0.032 \n",
       "   (2.31,2.84] \n",
       "         0.007 "
      ]
     },
     "metadata": {},
     "output_type": "display_data"
    }
   ],
   "source": [
    "FR2 <- table(intervalos2)/length(y)\n",
    "FR2"
   ]
  },
  {
   "cell_type": "code",
   "execution_count": 76,
   "id": "8c9c9e16",
   "metadata": {},
   "outputs": [
    {
     "data": {
      "image/png": "[encoded data removed]",
      "text/plain": [
       "plot without title"
      ]
     },
     "metadata": {
      "image/png": {
       "height": 420,
       "width": 420
      }
     },
     "output_type": "display_data"
    }
   ],
   "source": [
    "barplot(FR2)"
   ]
  },
  {
   "cell_type": "markdown",
   "id": "e1e54051",
   "metadata": {},
   "source": [
    "## Distribución Exponencial\n",
    "Esta distribución se usa cuando la x represnta tiempo entre ocurrencia de eventos. Por ejemplo tiempo entre la llegada\n",
    "de dos autos a un estacionamiento."
   ]
  },
  {
   "cell_type": "code",
   "execution_count": 77,
   "id": "2aca824b",
   "metadata": {},
   "outputs": [],
   "source": [
    "z <- rexp(1000,rate=1)"
   ]
  },
  {
   "cell_type": "code",
   "execution_count": 78,
   "id": "a472142b",
   "metadata": {},
   "outputs": [
    {
     "data": {
      "image/png": "[encoded data removed]",
      "text/plain": [
       "Plot with title \"Histogram of z\""
      ]
     },
     "metadata": {
      "image/png": {
       "height": 420,
       "width": 420
      }
     },
     "output_type": "display_data"
    }
   ],
   "source": [
    "hist(z)"
   ]
  },
  {
   "cell_type": "code",
   "execution_count": 79,
   "id": "73e165fd",
   "metadata": {},
   "outputs": [
    {
     "data": {
      "text/html": [
       "11"
      ],
      "text/latex": [
       "11"
      ],
      "text/markdown": [
       "11"
      ],
      "text/plain": [
       "[1] 11"
      ]
     },
     "metadata": {},
     "output_type": "display_data"
    }
   ],
   "source": [
    "k3 <- nclass.Sturges(z)\n",
    "k3"
   ]
  },
  {
   "cell_type": "code",
   "execution_count": 80,
   "id": "4ee298f6",
   "metadata": {},
   "outputs": [],
   "source": [
    "intervalos3 <- cut(z,breaks=k3)"
   ]
  },
  {
   "cell_type": "code",
   "execution_count": 81,
   "id": "38c5f8cf",
   "metadata": {},
   "outputs": [
    {
     "data": {
      "text/plain": [
       "intervalos3\n",
       "(-0.00798,0.862]     (0.862,1.72]      (1.72,2.58]      (2.58,3.44] \n",
       "             572              232              110               47 \n",
       "      (3.44,4.3]       (4.3,5.16]      (5.16,6.02]      (6.02,6.88] \n",
       "              18                8                8                2 \n",
       "     (6.88,7.75]      (7.75,8.61]      (8.61,9.48] \n",
       "               2                0                1 "
      ]
     },
     "metadata": {},
     "output_type": "display_data"
    }
   ],
   "source": [
    "FA3 <- table(intervalos3)\n",
    "FA3"
   ]
  },
  {
   "cell_type": "code",
   "execution_count": 82,
   "id": "60de6b73",
   "metadata": {},
   "outputs": [
    {
     "data": {
      "image/png": "[encoded data removed]",
      "text/plain": [
       "plot without title"
      ]
     },
     "metadata": {
      "image/png": {
       "height": 420,
       "width": 420
      }
     },
     "output_type": "display_data"
    }
   ],
   "source": [
    "barplot(FA3)"
   ]
  },
  {
   "cell_type": "code",
   "execution_count": 83,
   "id": "ef3fadf5",
   "metadata": {},
   "outputs": [
    {
     "data": {
      "text/plain": [
       "intervalos3\n",
       "(-0.00798,0.862]     (0.862,1.72]      (1.72,2.58]      (2.58,3.44] \n",
       "           0.572            0.232            0.110            0.047 \n",
       "      (3.44,4.3]       (4.3,5.16]      (5.16,6.02]      (6.02,6.88] \n",
       "           0.018            0.008            0.008            0.002 \n",
       "     (6.88,7.75]      (7.75,8.61]      (8.61,9.48] \n",
       "           0.002            0.000            0.001 "
      ]
     },
     "metadata": {},
     "output_type": "display_data"
    }
   ],
   "source": [
    "FR3 <- table(intervalos3)/length(z)\n",
    "FR3"
   ]
  },
  {
   "cell_type": "code",
   "execution_count": 84,
   "id": "32efe06f",
   "metadata": {},
   "outputs": [
    {
     "data": {
      "image/png": "[encoded data removed]",
      "text/plain": [
       "plot without title"
      ]
     },
     "metadata": {
      "image/png": {
       "height": 420,
       "width": 420
      }
     },
     "output_type": "display_data"
    }
   ],
   "source": [
    "barplot(FR3)"
   ]
  },
  {
   "cell_type": "markdown",
   "id": "961cb261",
   "metadata": {},
   "source": [
    "## Distribución de Poisson\n",
    "Estra distribución se usa cuando la h representa el número de ocurrencia por unidad de tiempo.\n",
    "Por ejemplo, el número de llegadas de autos a un estacionamiento."
   ]
  },
  {
   "cell_type": "code",
   "execution_count": 85,
   "id": "04c0a2f4",
   "metadata": {},
   "outputs": [],
   "source": [
    "h <- rpois(1000,lambda=10) #10 es el promedio de ocurrencia por unidad de tiempo"
   ]
  },
  {
   "cell_type": "code",
   "execution_count": 86,
   "id": "e65deef9",
   "metadata": {},
   "outputs": [
    {
     "data": {
      "image/png": "[encoded data removed]",
      "text/plain": [
       "Plot with title \"Histogram of h\""
      ]
     },
     "metadata": {
      "image/png": {
       "height": 420,
       "width": 420
      }
     },
     "output_type": "display_data"
    }
   ],
   "source": [
    "hist(h)"
   ]
  },
  {
   "cell_type": "code",
   "execution_count": 87,
   "id": "b5af421d",
   "metadata": {},
   "outputs": [
    {
     "data": {
      "text/html": [
       "11"
      ],
      "text/latex": [
       "11"
      ],
      "text/markdown": [
       "11"
      ],
      "text/plain": [
       "[1] 11"
      ]
     },
     "metadata": {},
     "output_type": "display_data"
    }
   ],
   "source": [
    "k4 <- nclass.Sturges(h)\n",
    "k4"
   ]
  },
  {
   "cell_type": "code",
   "execution_count": 88,
   "id": "fc6607ba",
   "metadata": {},
   "outputs": [],
   "source": [
    "intervalos4 <- cut(h,breaks=k4)"
   ]
  },
  {
   "cell_type": "code",
   "execution_count": 89,
   "id": "58279236",
   "metadata": {},
   "outputs": [
    {
     "data": {
      "text/plain": [
       "intervalos4\n",
       "(1.98,3.64] (3.64,5.27] (5.27,6.91] (6.91,8.55] (8.55,10.2] (10.2,11.8] \n",
       "         13          66          56         185         239         123 \n",
       "(11.8,13.5] (13.5,15.1] (15.1,16.7] (16.7,18.4]   (18.4,20] \n",
       "        173         101          20          13          11 "
      ]
     },
     "metadata": {},
     "output_type": "display_data"
    }
   ],
   "source": [
    "FA4 <- table(intervalos4)\n",
    "FA4"
   ]
  },
  {
   "cell_type": "code",
   "execution_count": 90,
   "id": "c847b8c4",
   "metadata": {},
   "outputs": [
    {
     "data": {
      "image/png": "[encoded data removed]",
      "text/plain": [
       "plot without title"
      ]
     },
     "metadata": {
      "image/png": {
       "height": 420,
       "width": 420
      }
     },
     "output_type": "display_data"
    }
   ],
   "source": [
    "barplot(FA4)"
   ]
  },
  {
   "cell_type": "code",
   "execution_count": 91,
   "id": "4104d07b",
   "metadata": {},
   "outputs": [
    {
     "data": {
      "text/plain": [
       "intervalos4\n",
       "(1.98,3.64] (3.64,5.27] (5.27,6.91] (6.91,8.55] (8.55,10.2] (10.2,11.8] \n",
       "      0.013       0.066       0.056       0.185       0.239       0.123 \n",
       "(11.8,13.5] (13.5,15.1] (15.1,16.7] (16.7,18.4]   (18.4,20] \n",
       "      0.173       0.101       0.020       0.013       0.011 "
      ]
     },
     "metadata": {},
     "output_type": "display_data"
    }
   ],
   "source": [
    "FR4 <- table(intervalos4)/length(h)\n",
    "FR4"
   ]
  },
  {
   "cell_type": "code",
   "execution_count": 92,
   "id": "3ecd174f",
   "metadata": {},
   "outputs": [
    {
     "data": {
      "image/png": "[encoded data removed]",
      "text/plain": [
       "plot without title"
      ]
     },
     "metadata": {
      "image/png": {
       "height": 420,
       "width": 420
      }
     },
     "output_type": "display_data"
    }
   ],
   "source": [
    "barplot(FR4)"
   ]
  },
  {
   "cell_type": "markdown",
   "id": "4e4e3baa",
   "metadata": {},
   "source": [
    "# Representación gráfica para datos sin agrupar\n",
    "Se usan:\n",
    "* Diagrama de barra\n",
    "* Polígono de frecuencia"
   ]
  },
  {
   "cell_type": "markdown",
   "id": "2d3d7f11",
   "metadata": {},
   "source": [
    "# ggplot2"
   ]
  },
  {
   "cell_type": "code",
   "execution_count": null,
   "id": "2cf6d540",
   "metadata": {},
   "outputs": [],
   "source": [
    "#packageDescription(\"ggplot2\")"
   ]
  },
  {
   "cell_type": "markdown",
   "id": "08c0dd5f",
   "metadata": {},
   "source": [
    "## boxplot\n",
    "* visualizar una variable numérica de diferentes grupos o categorías\n",
    "* facilita la vida cuando comparamos varios grupos"
   ]
  },
  {
   "cell_type": "code",
   "execution_count": 93,
   "id": "ad41050d",
   "metadata": {},
   "outputs": [
    {
     "data": {
      "text/html": [
       "20"
      ],
      "text/latex": [
       "20"
      ],
      "text/markdown": [
       "20"
      ],
      "text/plain": [
       "[1] 20"
      ]
     },
     "metadata": {},
     "output_type": "display_data"
    }
   ],
   "source": [
    "datos <- c(23,24,24,25,29,31,31,33,34,24,36,36,37,39,39,40,41,45,40,20)\n",
    "length(datos)"
   ]
  },
  {
   "cell_type": "code",
   "execution_count": 94,
   "id": "5491ccb8",
   "metadata": {},
   "outputs": [],
   "source": [
    "datos <- sort(datos)"
   ]
  },
  {
   "cell_type": "code",
   "execution_count": 95,
   "id": "292f26d1",
   "metadata": {},
   "outputs": [
    {
     "data": {
      "text/html": [
       "<style>\n",
       ".list-inline {list-style: none; margin:0; padding: 0}\n",
       ".list-inline>li {display: inline-block}\n",
       ".list-inline>li:not(:last-child)::after {content: \"\\00b7\"; padding: 0 .5ex}\n",
       "</style>\n",
       "<ol class=list-inline><li>20</li><li>23</li><li>24</li><li>24</li><li>24</li><li>25</li><li>29</li><li>31</li><li>31</li><li>33</li><li>34</li><li>36</li><li>36</li><li>37</li><li>39</li><li>39</li><li>40</li><li>40</li><li>41</li><li>45</li></ol>\n"
      ],
      "text/latex": [
       "\\begin{enumerate*}\n",
       "\\item 20\n",
       "\\item 23\n",
       "\\item 24\n",
       "\\item 24\n",
       "\\item 24\n",
       "\\item 25\n",
       "\\item 29\n",
       "\\item 31\n",
       "\\item 31\n",
       "\\item 33\n",
       "\\item 34\n",
       "\\item 36\n",
       "\\item 36\n",
       "\\item 37\n",
       "\\item 39\n",
       "\\item 39\n",
       "\\item 40\n",
       "\\item 40\n",
       "\\item 41\n",
       "\\item 45\n",
       "\\end{enumerate*}\n"
      ],
      "text/markdown": [
       "1. 20\n",
       "2. 23\n",
       "3. 24\n",
       "4. 24\n",
       "5. 24\n",
       "6. 25\n",
       "7. 29\n",
       "8. 31\n",
       "9. 31\n",
       "10. 33\n",
       "11. 34\n",
       "12. 36\n",
       "13. 36\n",
       "14. 37\n",
       "15. 39\n",
       "16. 39\n",
       "17. 40\n",
       "18. 40\n",
       "19. 41\n",
       "20. 45\n",
       "\n",
       "\n"
      ],
      "text/plain": [
       " [1] 20 23 24 24 24 25 29 31 31 33 34 36 36 37 39 39 40 40 41 45"
      ]
     },
     "metadata": {},
     "output_type": "display_data"
    }
   ],
   "source": [
    "datos"
   ]
  },
  {
   "cell_type": "code",
   "execution_count": 96,
   "id": "0b72552d",
   "metadata": {},
   "outputs": [
    {
     "name": "stdout",
     "output_type": "stream",
     "text": [
      " num [1:20] 20 23 24 24 24 25 29 31 31 33 ...\n"
     ]
    }
   ],
   "source": [
    "str(datos)"
   ]
  },
  {
   "cell_type": "markdown",
   "id": "c3d95c96",
   "metadata": {},
   "source": [
    "### Cálculo de los cuartiles<br>\n",
    "**1<sup>er</sup> Cuartil**: Primer valor al 25% de los datos, N=20, N/4=5, el 1er Cuartil es igual a la media aritmética entre este valor y el siguiente, (24+25)/2=24.5<br>\n",
    "**2<sup>do</sup> Cuartil**:Mediana de los datos N/2=10, la mediana es la media aritmética de dicho valor y el siguiente, (33+34)/2=33.5<br>\n",
    "**3<sup>er</sup> Cuartil**: Valor que sobre pasa al 75% de los datos 3N/4=15, la mediana es la media aritmética de dicho valor y el siguiente,(39+39)/2=39<br>\n",
    "**Longitud de brazos(bigotes)**<br>\n",
    "RIC = 3er cuartil - 1er cuartil<br>\n",
    "Límite superior = 3er cuartil + 1.5 RIC<br>\n",
    "Límite inferior = 1er cuartil - 1.5 RIC<br>\n",
    "**Valores Raros(outliers)**<br>\n",
    "Cualquier valor que sea más grande que 1.5 veces la distancia de la caja + cuartil 3 es un valor muy muy grande<br>"
   ]
  },
  {
   "cell_type": "code",
   "execution_count": 97,
   "id": "5aa9ae75",
   "metadata": {},
   "outputs": [],
   "source": [
    "library(datasets)"
   ]
  },
  {
   "cell_type": "code",
   "execution_count": 98,
   "id": "447eae82",
   "metadata": {},
   "outputs": [],
   "source": [
    "data(iris)"
   ]
  },
  {
   "cell_type": "code",
   "execution_count": 99,
   "id": "a19620c9",
   "metadata": {},
   "outputs": [
    {
     "data": {
      "text/plain": [
       "  Sepal.Length    Sepal.Width     Petal.Length    Petal.Width   \n",
       " Min.   :4.300   Min.   :2.000   Min.   :1.000   Min.   :0.100  \n",
       " 1st Qu.:5.100   1st Qu.:2.800   1st Qu.:1.600   1st Qu.:0.300  \n",
       " Median :5.800   Median :3.000   Median :4.350   Median :1.300  \n",
       " Mean   :5.843   Mean   :3.057   Mean   :3.758   Mean   :1.199  \n",
       " 3rd Qu.:6.400   3rd Qu.:3.300   3rd Qu.:5.100   3rd Qu.:1.800  \n",
       " Max.   :7.900   Max.   :4.400   Max.   :6.900   Max.   :2.500  \n",
       "       Species  \n",
       " setosa    :50  \n",
       " versicolor:50  \n",
       " virginica :50  \n",
       "                \n",
       "                \n",
       "                "
      ]
     },
     "metadata": {},
     "output_type": "display_data"
    }
   ],
   "source": [
    "summary(iris)"
   ]
  },
  {
   "cell_type": "code",
   "execution_count": 100,
   "id": "1784b663",
   "metadata": {},
   "outputs": [
    {
     "data": {
      "text/html": [
       "<table class=\"dataframe\">\n",
       "<caption>A data.frame: 5 × 5</caption>\n",
       "<thead>\n",
       "\t<tr><th></th><th scope=col>Sepal.Length</th><th scope=col>Sepal.Width</th><th scope=col>Petal.Length</th><th scope=col>Petal.Width</th><th scope=col>Species</th></tr>\n",
       "\t<tr><th></th><th scope=col>&lt;dbl&gt;</th><th scope=col>&lt;dbl&gt;</th><th scope=col>&lt;dbl&gt;</th><th scope=col>&lt;dbl&gt;</th><th scope=col>&lt;fct&gt;</th></tr>\n",
       "</thead>\n",
       "<tbody>\n",
       "\t<tr><th scope=row>1</th><td>5.1</td><td>3.5</td><td>1.4</td><td>0.2</td><td>setosa</td></tr>\n",
       "\t<tr><th scope=row>2</th><td>4.9</td><td>3.0</td><td>1.4</td><td>0.2</td><td>setosa</td></tr>\n",
       "\t<tr><th scope=row>3</th><td>4.7</td><td>3.2</td><td>1.3</td><td>0.2</td><td>setosa</td></tr>\n",
       "\t<tr><th scope=row>4</th><td>4.6</td><td>3.1</td><td>1.5</td><td>0.2</td><td>setosa</td></tr>\n",
       "\t<tr><th scope=row>5</th><td>5.0</td><td>3.6</td><td>1.4</td><td>0.2</td><td>setosa</td></tr>\n",
       "</tbody>\n",
       "</table>\n"
      ],
      "text/latex": [
       "A data.frame: 5 × 5\n",
       "\\begin{tabular}{r|lllll}\n",
       "  & Sepal.Length & Sepal.Width & Petal.Length & Petal.Width & Species\\\\\n",
       "  & <dbl> & <dbl> & <dbl> & <dbl> & <fct>\\\\\n",
       "\\hline\n",
       "\t1 & 5.1 & 3.5 & 1.4 & 0.2 & setosa\\\\\n",
       "\t2 & 4.9 & 3.0 & 1.4 & 0.2 & setosa\\\\\n",
       "\t3 & 4.7 & 3.2 & 1.3 & 0.2 & setosa\\\\\n",
       "\t4 & 4.6 & 3.1 & 1.5 & 0.2 & setosa\\\\\n",
       "\t5 & 5.0 & 3.6 & 1.4 & 0.2 & setosa\\\\\n",
       "\\end{tabular}\n"
      ],
      "text/markdown": [
       "\n",
       "A data.frame: 5 × 5\n",
       "\n",
       "| <!--/--> | Sepal.Length &lt;dbl&gt; | Sepal.Width &lt;dbl&gt; | Petal.Length &lt;dbl&gt; | Petal.Width &lt;dbl&gt; | Species &lt;fct&gt; |\n",
       "|---|---|---|---|---|---|\n",
       "| 1 | 5.1 | 3.5 | 1.4 | 0.2 | setosa |\n",
       "| 2 | 4.9 | 3.0 | 1.4 | 0.2 | setosa |\n",
       "| 3 | 4.7 | 3.2 | 1.3 | 0.2 | setosa |\n",
       "| 4 | 4.6 | 3.1 | 1.5 | 0.2 | setosa |\n",
       "| 5 | 5.0 | 3.6 | 1.4 | 0.2 | setosa |\n",
       "\n"
      ],
      "text/plain": [
       "  Sepal.Length Sepal.Width Petal.Length Petal.Width Species\n",
       "1 5.1          3.5         1.4          0.2         setosa \n",
       "2 4.9          3.0         1.4          0.2         setosa \n",
       "3 4.7          3.2         1.3          0.2         setosa \n",
       "4 4.6          3.1         1.5          0.2         setosa \n",
       "5 5.0          3.6         1.4          0.2         setosa "
      ]
     },
     "metadata": {},
     "output_type": "display_data"
    }
   ],
   "source": [
    "head(iris,5)"
   ]
  },
  {
   "cell_type": "code",
   "execution_count": 101,
   "id": "16eaed66",
   "metadata": {},
   "outputs": [
    {
     "name": "stdout",
     "output_type": "stream",
     "text": [
      "'data.frame':\t150 obs. of  5 variables:\n",
      " $ Sepal.Length: num  5.1 4.9 4.7 4.6 5 5.4 4.6 5 4.4 4.9 ...\n",
      " $ Sepal.Width : num  3.5 3 3.2 3.1 3.6 3.9 3.4 3.4 2.9 3.1 ...\n",
      " $ Petal.Length: num  1.4 1.4 1.3 1.5 1.4 1.7 1.4 1.5 1.4 1.5 ...\n",
      " $ Petal.Width : num  0.2 0.2 0.2 0.2 0.2 0.4 0.3 0.2 0.2 0.1 ...\n",
      " $ Species     : Factor w/ 3 levels \"setosa\",\"versicolor\",..: 1 1 1 1 1 1 1 1 1 1 ...\n"
     ]
    }
   ],
   "source": [
    "str(iris)"
   ]
  },
  {
   "cell_type": "code",
   "execution_count": 102,
   "id": "cf619c44",
   "metadata": {},
   "outputs": [
    {
     "data": {
      "image/png": "[encoded data removed]",
      "text/plain": [
       "Plot with title \"Sepal.With\""
      ]
     },
     "metadata": {
      "image/png": {
       "height": 420,
       "width": 420
      }
     },
     "output_type": "display_data"
    }
   ],
   "source": [
    "boxplot(Sepal.Width ~ Species,data=iris,\n",
    "       main=\"Sepal.With\",\n",
    "       ylab=\"Longitud del sepalo en cm\",\n",
    "       col=c(\"darkorchid4\",\"chartreuse2\",\"darkgoldenrod2\"))"
   ]
  },
  {
   "cell_type": "code",
   "execution_count": 103,
   "id": "010e0dae",
   "metadata": {},
   "outputs": [
    {
     "data": {
      "image/png": "[encoded data removed]",
      "text/plain": [
       "Plot with title \"Sepal.with\""
      ]
     },
     "metadata": {
      "image/png": {
       "height": 420,
       "width": 420
      }
     },
     "output_type": "display_data"
    }
   ],
   "source": [
    "boxplot(Sepal.Width ~ Species,data=iris,lwd=2, main=\"Sepal.with\",ylab=\"Longitud de sepalo en cm\")\n",
    "stripchart(Sepal.Width ~ Species, vertical=TRUE,data=iris,method=\"jitter\",add=TRUE,pch=20,cex=1.5,col='#3AC263')"
   ]
  },
  {
   "cell_type": "code",
   "execution_count": 104,
   "id": "13fbdea1",
   "metadata": {},
   "outputs": [
    {
     "name": "stderr",
     "output_type": "stream",
     "text": [
      "Warning message:\n",
      "\"package 'ggplot2' was built under R version 4.1.2\"\n"
     ]
    }
   ],
   "source": [
    "library(ggplot2)"
   ]
  },
  {
   "cell_type": "code",
   "execution_count": 105,
   "id": "5329aa3b",
   "metadata": {},
   "outputs": [
    {
     "data": {
      "image/png": "[encoded data removed]",
      "text/plain": [
       "plot without title"
      ]
     },
     "metadata": {
      "image/png": {
       "height": 420,
       "width": 420
      }
     },
     "output_type": "display_data"
    }
   ],
   "source": [
    "box <- ggplot(iris,aes(x=Species,\n",
    "                      y=Sepal.Width,\n",
    "                      fill=Species))\n",
    "box + geom_boxplot() + scale_fill_manual(values=c('#460F7C','#85D135','#F9E15C'))"
   ]
  },
  {
   "cell_type": "code",
   "execution_count": 106,
   "id": "097acc84",
   "metadata": {},
   "outputs": [
    {
     "name": "stderr",
     "output_type": "stream",
     "text": [
      "Warning message:\n",
      "\"package 'tidyverse' was built under R version 4.1.2\"\n",
      "-- \u001b[1mAttaching packages\u001b[22m ------------------------------------------------------------------------------- tidyverse 1.3.1 --\n",
      "\n",
      "\u001b[32mv\u001b[39m \u001b[34mtibble \u001b[39m 3.1.2     \u001b[32mv\u001b[39m \u001b[34mpurrr  \u001b[39m 0.3.4\n",
      "\u001b[32mv\u001b[39m \u001b[34mtidyr  \u001b[39m 1.1.3     \u001b[32mv\u001b[39m \u001b[34mstringr\u001b[39m 1.4.0\n",
      "\u001b[32mv\u001b[39m \u001b[34mreadr  \u001b[39m 1.4.0     \u001b[32mv\u001b[39m \u001b[34mforcats\u001b[39m 0.5.1\n",
      "\n",
      "Warning message:\n",
      "\"package 'tidyr' was built under R version 4.1.1\"\n",
      "Warning message:\n",
      "\"package 'stringr' was built under R version 4.1.2\"\n",
      "Warning message:\n",
      "\"package 'forcats' was built under R version 4.1.2\"\n",
      "-- \u001b[1mConflicts\u001b[22m ---------------------------------------------------------------------------------- tidyverse_conflicts() --\n",
      "\u001b[31mx\u001b[39m \u001b[34mdplyr\u001b[39m::\u001b[32mfilter()\u001b[39m masks \u001b[34mstats\u001b[39m::filter()\n",
      "\u001b[31mx\u001b[39m \u001b[34mdplyr\u001b[39m::\u001b[32mlag()\u001b[39m    masks \u001b[34mstats\u001b[39m::lag()\n",
      "\n"
     ]
    }
   ],
   "source": [
    "library(tidyverse)"
   ]
  },
  {
   "cell_type": "code",
   "execution_count": 107,
   "id": "0495f27e",
   "metadata": {},
   "outputs": [],
   "source": [
    "data(\"diamonds\")"
   ]
  },
  {
   "cell_type": "code",
   "execution_count": 108,
   "id": "e975534d",
   "metadata": {},
   "outputs": [
    {
     "data": {
      "text/html": [
       "<table class=\"dataframe\">\n",
       "<caption>A tibble: 5 × 10</caption>\n",
       "<thead>\n",
       "\t<tr><th scope=col>carat</th><th scope=col>cut</th><th scope=col>color</th><th scope=col>clarity</th><th scope=col>depth</th><th scope=col>table</th><th scope=col>price</th><th scope=col>x</th><th scope=col>y</th><th scope=col>z</th></tr>\n",
       "\t<tr><th scope=col>&lt;dbl&gt;</th><th scope=col>&lt;ord&gt;</th><th scope=col>&lt;ord&gt;</th><th scope=col>&lt;ord&gt;</th><th scope=col>&lt;dbl&gt;</th><th scope=col>&lt;dbl&gt;</th><th scope=col>&lt;int&gt;</th><th scope=col>&lt;dbl&gt;</th><th scope=col>&lt;dbl&gt;</th><th scope=col>&lt;dbl&gt;</th></tr>\n",
       "</thead>\n",
       "<tbody>\n",
       "\t<tr><td>0.23</td><td>Ideal  </td><td>E</td><td>SI2</td><td>61.5</td><td>55</td><td>326</td><td>3.95</td><td>3.98</td><td>2.43</td></tr>\n",
       "\t<tr><td>0.21</td><td>Premium</td><td>E</td><td>SI1</td><td>59.8</td><td>61</td><td>326</td><td>3.89</td><td>3.84</td><td>2.31</td></tr>\n",
       "\t<tr><td>0.23</td><td>Good   </td><td>E</td><td>VS1</td><td>56.9</td><td>65</td><td>327</td><td>4.05</td><td>4.07</td><td>2.31</td></tr>\n",
       "\t<tr><td>0.29</td><td>Premium</td><td>I</td><td>VS2</td><td>62.4</td><td>58</td><td>334</td><td>4.20</td><td>4.23</td><td>2.63</td></tr>\n",
       "\t<tr><td>0.31</td><td>Good   </td><td>J</td><td>SI2</td><td>63.3</td><td>58</td><td>335</td><td>4.34</td><td>4.35</td><td>2.75</td></tr>\n",
       "</tbody>\n",
       "</table>\n"
      ],
      "text/latex": [
       "A tibble: 5 × 10\n",
       "\\begin{tabular}{llllllllll}\n",
       " carat & cut & color & clarity & depth & table & price & x & y & z\\\\\n",
       " <dbl> & <ord> & <ord> & <ord> & <dbl> & <dbl> & <int> & <dbl> & <dbl> & <dbl>\\\\\n",
       "\\hline\n",
       "\t 0.23 & Ideal   & E & SI2 & 61.5 & 55 & 326 & 3.95 & 3.98 & 2.43\\\\\n",
       "\t 0.21 & Premium & E & SI1 & 59.8 & 61 & 326 & 3.89 & 3.84 & 2.31\\\\\n",
       "\t 0.23 & Good    & E & VS1 & 56.9 & 65 & 327 & 4.05 & 4.07 & 2.31\\\\\n",
       "\t 0.29 & Premium & I & VS2 & 62.4 & 58 & 334 & 4.20 & 4.23 & 2.63\\\\\n",
       "\t 0.31 & Good    & J & SI2 & 63.3 & 58 & 335 & 4.34 & 4.35 & 2.75\\\\\n",
       "\\end{tabular}\n"
      ],
      "text/markdown": [
       "\n",
       "A tibble: 5 × 10\n",
       "\n",
       "| carat &lt;dbl&gt; | cut &lt;ord&gt; | color &lt;ord&gt; | clarity &lt;ord&gt; | depth &lt;dbl&gt; | table &lt;dbl&gt; | price &lt;int&gt; | x &lt;dbl&gt; | y &lt;dbl&gt; | z &lt;dbl&gt; |\n",
       "|---|---|---|---|---|---|---|---|---|---|\n",
       "| 0.23 | Ideal   | E | SI2 | 61.5 | 55 | 326 | 3.95 | 3.98 | 2.43 |\n",
       "| 0.21 | Premium | E | SI1 | 59.8 | 61 | 326 | 3.89 | 3.84 | 2.31 |\n",
       "| 0.23 | Good    | E | VS1 | 56.9 | 65 | 327 | 4.05 | 4.07 | 2.31 |\n",
       "| 0.29 | Premium | I | VS2 | 62.4 | 58 | 334 | 4.20 | 4.23 | 2.63 |\n",
       "| 0.31 | Good    | J | SI2 | 63.3 | 58 | 335 | 4.34 | 4.35 | 2.75 |\n",
       "\n"
      ],
      "text/plain": [
       "  carat cut     color clarity depth table price x    y    z   \n",
       "1 0.23  Ideal   E     SI2     61.5  55    326   3.95 3.98 2.43\n",
       "2 0.21  Premium E     SI1     59.8  61    326   3.89 3.84 2.31\n",
       "3 0.23  Good    E     VS1     56.9  65    327   4.05 4.07 2.31\n",
       "4 0.29  Premium I     VS2     62.4  58    334   4.20 4.23 2.63\n",
       "5 0.31  Good    J     SI2     63.3  58    335   4.34 4.35 2.75"
      ]
     },
     "metadata": {},
     "output_type": "display_data"
    }
   ],
   "source": [
    "head(diamonds,5)"
   ]
  },
  {
   "cell_type": "code",
   "execution_count": 109,
   "id": "82d981aa",
   "metadata": {},
   "outputs": [
    {
     "name": "stdout",
     "output_type": "stream",
     "text": [
      "tibble [53,940 x 10] (S3: tbl_df/tbl/data.frame)\n",
      " $ carat  : num [1:53940] 0.23 0.21 0.23 0.29 0.31 0.24 0.24 0.26 0.22 0.23 ...\n",
      " $ cut    : Ord.factor w/ 5 levels \"Fair\"<\"Good\"<..: 5 4 2 4 2 3 3 3 1 3 ...\n",
      " $ color  : Ord.factor w/ 7 levels \"D\"<\"E\"<\"F\"<\"G\"<..: 2 2 2 6 7 7 6 5 2 5 ...\n",
      " $ clarity: Ord.factor w/ 8 levels \"I1\"<\"SI2\"<\"SI1\"<..: 2 3 5 4 2 6 7 3 4 5 ...\n",
      " $ depth  : num [1:53940] 61.5 59.8 56.9 62.4 63.3 62.8 62.3 61.9 65.1 59.4 ...\n",
      " $ table  : num [1:53940] 55 61 65 58 58 57 57 55 61 61 ...\n",
      " $ price  : int [1:53940] 326 326 327 334 335 336 336 337 337 338 ...\n",
      " $ x      : num [1:53940] 3.95 3.89 4.05 4.2 4.34 3.94 3.95 4.07 3.87 4 ...\n",
      " $ y      : num [1:53940] 3.98 3.84 4.07 4.23 4.35 3.96 3.98 4.11 3.78 4.05 ...\n",
      " $ z      : num [1:53940] 2.43 2.31 2.31 2.63 2.75 2.48 2.47 2.53 2.49 2.39 ...\n"
     ]
    }
   ],
   "source": [
    "str(diamonds)"
   ]
  },
  {
   "cell_type": "code",
   "execution_count": 110,
   "id": "cb415cfe",
   "metadata": {},
   "outputs": [
    {
     "data": {
      "image/png": "[encoded data removed]",
      "text/plain": [
       "plot without title"
      ]
     },
     "metadata": {
      "image/png": {
       "height": 420,
       "width": 420
      }
     },
     "output_type": "display_data"
    }
   ],
   "source": [
    "ggplot(diamonds,aes(x=carat,y=price))+geom_point(aes(color=cut))+theme_classic()"
   ]
  },
  {
   "cell_type": "code",
   "execution_count": 111,
   "id": "739cd4c0",
   "metadata": {},
   "outputs": [
    {
     "data": {
      "image/png": "[encoded data removed]",
      "text/plain": [
       "plot without title"
      ]
     },
     "metadata": {
      "image/png": {
       "height": 420,
       "width": 420
      }
     },
     "output_type": "display_data"
    }
   ],
   "source": [
    "#usando alpha\n",
    "ggplot(diamonds,aes(x=carat,y=price))+geom_point(aes(color=cut),alpha=0.1)+theme_classic()"
   ]
  },
  {
   "cell_type": "code",
   "execution_count": 112,
   "id": "e82051d8",
   "metadata": {},
   "outputs": [],
   "source": [
    "data(\"mtcars\")"
   ]
  },
  {
   "cell_type": "code",
   "execution_count": 113,
   "id": "1d85f498",
   "metadata": {},
   "outputs": [
    {
     "name": "stdout",
     "output_type": "stream",
     "text": [
      "'data.frame':\t32 obs. of  11 variables:\n",
      " $ mpg : num  21 21 22.8 21.4 18.7 18.1 14.3 24.4 22.8 19.2 ...\n",
      " $ cyl : num  6 6 4 6 8 6 8 4 4 6 ...\n",
      " $ disp: num  160 160 108 258 360 ...\n",
      " $ hp  : num  110 110 93 110 175 105 245 62 95 123 ...\n",
      " $ drat: num  3.9 3.9 3.85 3.08 3.15 2.76 3.21 3.69 3.92 3.92 ...\n",
      " $ wt  : num  2.62 2.88 2.32 3.21 3.44 ...\n",
      " $ qsec: num  16.5 17 18.6 19.4 17 ...\n",
      " $ vs  : num  0 0 1 1 0 1 0 1 1 1 ...\n",
      " $ am  : num  1 1 1 0 0 0 0 0 0 0 ...\n",
      " $ gear: num  4 4 4 3 3 3 3 4 4 4 ...\n",
      " $ carb: num  4 4 1 1 2 1 4 2 2 4 ...\n"
     ]
    }
   ],
   "source": [
    "str(mtcars)"
   ]
  },
  {
   "cell_type": "code",
   "execution_count": 114,
   "id": "06fa607a",
   "metadata": {},
   "outputs": [
    {
     "data": {
      "image/png": "[encoded data removed]",
      "text/plain": [
       "plot without title"
      ]
     },
     "metadata": {
      "image/png": {
       "height": 420,
       "width": 420
      }
     },
     "output_type": "display_data"
    }
   ],
   "source": [
    "ggplot(mtcars,aes(x=mpg,y=wt))+geom_point() #+theme_classic(),theme_bw()"
   ]
  },
  {
   "cell_type": "markdown",
   "id": "d428c1f9",
   "metadata": {},
   "source": [
    "## Argumentos para geoms\n",
    "* color: color de líneas o puntos\n",
    "* alpha: transparencia de 0 a 1\n",
    "* size: tamaño de puntos\n",
    "* shape: tipo de punto\n",
    "* fill: color dentro un área(barras, intervalos)"
   ]
  },
  {
   "cell_type": "code",
   "execution_count": 115,
   "id": "0a5db056",
   "metadata": {},
   "outputs": [
    {
     "data": {
      "image/png": "[encoded data removed]",
      "text/plain": [
       "plot without title"
      ]
     },
     "metadata": {
      "image/png": {
       "height": 420,
       "width": 420
      }
     },
     "output_type": "display_data"
    }
   ],
   "source": [
    "ggplot(mtcars,aes(x=mpg,y=wt))+geom_point()+theme_classic()"
   ]
  },
  {
   "cell_type": "code",
   "execution_count": 116,
   "id": "9563d21c",
   "metadata": {},
   "outputs": [
    {
     "name": "stdout",
     "output_type": "stream",
     "text": [
      "Classes 'nfnGroupedData', 'nfGroupedData', 'groupedData' and 'data.frame':\t578 obs. of  4 variables:\n",
      " $ weight: num  42 51 59 64 76 93 106 125 149 171 ...\n",
      " $ Time  : num  0 2 4 6 8 10 12 14 16 18 ...\n",
      " $ Chick : Ord.factor w/ 50 levels \"18\"<\"16\"<\"15\"<..: 15 15 15 15 15 15 15 15 15 15 ...\n",
      " $ Diet  : Factor w/ 4 levels \"1\",\"2\",\"3\",\"4\": 1 1 1 1 1 1 1 1 1 1 ...\n",
      " - attr(*, \"formula\")=Class 'formula'  language weight ~ Time | Chick\n",
      "  .. ..- attr(*, \".Environment\")=<environment: R_EmptyEnv> \n",
      " - attr(*, \"outer\")=Class 'formula'  language ~Diet\n",
      "  .. ..- attr(*, \".Environment\")=<environment: R_EmptyEnv> \n",
      " - attr(*, \"labels\")=List of 2\n",
      "  ..$ x: chr \"Time\"\n",
      "  ..$ y: chr \"Body weight\"\n",
      " - attr(*, \"units\")=List of 2\n",
      "  ..$ x: chr \"(days)\"\n",
      "  ..$ y: chr \"(gm)\"\n"
     ]
    }
   ],
   "source": [
    "str(ChickWeight)"
   ]
  },
  {
   "cell_type": "code",
   "execution_count": 117,
   "id": "29aec5b8",
   "metadata": {},
   "outputs": [
    {
     "data": {
      "image/png": "[encoded data removed]",
      "text/plain": [
       "plot without title"
      ]
     },
     "metadata": {
      "image/png": {
       "height": 420,
       "width": 420
      }
     },
     "output_type": "display_data"
    }
   ],
   "source": [
    "ggplot(ChickWeight,aes(x=Time,y=weight))+geom_point(aes(color=Diet))"
   ]
  },
  {
   "cell_type": "code",
   "execution_count": 118,
   "id": "e8aa9898",
   "metadata": {},
   "outputs": [
    {
     "data": {
      "image/png": "[encoded data removed]",
      "text/plain": [
       "plot without title"
      ]
     },
     "metadata": {
      "image/png": {
       "height": 420,
       "width": 420
      }
     },
     "output_type": "display_data"
    }
   ],
   "source": [
    "ggplot(ChickWeight,aes(x=Time,y=weight))+geom_point(aes(color=Diet,size=weight))"
   ]
  },
  {
   "cell_type": "code",
   "execution_count": 119,
   "id": "bdb6a590",
   "metadata": {},
   "outputs": [
    {
     "data": {
      "image/png": "[encoded data removed]",
      "text/plain": [
       "plot without title"
      ]
     },
     "metadata": {
      "image/png": {
       "height": 420,
       "width": 420
      }
     },
     "output_type": "display_data"
    }
   ],
   "source": [
    "ggplot(ChickWeight,aes(x=Time,y=weight))+geom_point(aes(color=Diet,shape=Diet))"
   ]
  },
  {
   "cell_type": "code",
   "execution_count": 120,
   "id": "40718f5a",
   "metadata": {},
   "outputs": [
    {
     "name": "stdout",
     "output_type": "stream",
     "text": [
      "'data.frame':\t150 obs. of  5 variables:\n",
      " $ Sepal.Length: num  5.1 4.9 4.7 4.6 5 5.4 4.6 5 4.4 4.9 ...\n",
      " $ Sepal.Width : num  3.5 3 3.2 3.1 3.6 3.9 3.4 3.4 2.9 3.1 ...\n",
      " $ Petal.Length: num  1.4 1.4 1.3 1.5 1.4 1.7 1.4 1.5 1.4 1.5 ...\n",
      " $ Petal.Width : num  0.2 0.2 0.2 0.2 0.2 0.4 0.3 0.2 0.2 0.1 ...\n",
      " $ Species     : Factor w/ 3 levels \"setosa\",\"versicolor\",..: 1 1 1 1 1 1 1 1 1 1 ...\n"
     ]
    }
   ],
   "source": [
    "str(iris)"
   ]
  },
  {
   "cell_type": "code",
   "execution_count": 121,
   "id": "95b6d681",
   "metadata": {},
   "outputs": [
    {
     "data": {
      "image/png": "[encoded data removed]",
      "text/plain": [
       "plot without title"
      ]
     },
     "metadata": {
      "image/png": {
       "height": 420,
       "width": 420
      }
     },
     "output_type": "display_data"
    }
   ],
   "source": [
    "ggplot(iris,aes(x=Species,y=Sepal.Length))+geom_boxplot(aes(color=Species))"
   ]
  },
  {
   "cell_type": "code",
   "execution_count": 122,
   "id": "1e8e9d6a",
   "metadata": {},
   "outputs": [
    {
     "data": {
      "image/png": "[encoded data removed]",
      "text/plain": [
       "plot without title"
      ]
     },
     "metadata": {
      "image/png": {
       "height": 420,
       "width": 420
      }
     },
     "output_type": "display_data"
    }
   ],
   "source": [
    "ggplot(iris,aes(x=Species,y=Sepal.Length))+geom_boxplot(aes(fill=Species))"
   ]
  },
  {
   "cell_type": "code",
   "execution_count": 123,
   "id": "a7207c3a",
   "metadata": {},
   "outputs": [
    {
     "data": {
      "image/png": "[encoded data removed]",
      "text/plain": [
       "plot without title"
      ]
     },
     "metadata": {
      "image/png": {
       "height": 420,
       "width": 420
      }
     },
     "output_type": "display_data"
    }
   ],
   "source": [
    "ggplot(iris,aes(x=Species,y=Sepal.Length))+geom_jitter(aes(color=Species))"
   ]
  },
  {
   "cell_type": "code",
   "execution_count": 124,
   "id": "416d273c",
   "metadata": {},
   "outputs": [
    {
     "data": {
      "image/png": "[encoded data removed]",
      "text/plain": [
       "plot without title"
      ]
     },
     "metadata": {
      "image/png": {
       "height": 420,
       "width": 420
      }
     },
     "output_type": "display_data"
    }
   ],
   "source": [
    "ggplot(iris,aes(x=Species,y=Sepal.Length))+geom_violin()"
   ]
  },
  {
   "cell_type": "code",
   "execution_count": 125,
   "id": "fdbdd040",
   "metadata": {},
   "outputs": [
    {
     "data": {
      "image/png": "[encoded data removed]",
      "text/plain": [
       "plot without title"
      ]
     },
     "metadata": {
      "image/png": {
       "height": 420,
       "width": 420
      }
     },
     "output_type": "display_data"
    }
   ],
   "source": [
    "ggplot(iris,aes(x=Species,y=Sepal.Length))+geom_violin()+coord_flip()"
   ]
  },
  {
   "cell_type": "markdown",
   "id": "b0cca452",
   "metadata": {},
   "source": [
    "## combinando gráficos"
   ]
  },
  {
   "cell_type": "code",
   "execution_count": 126,
   "id": "fdba070f",
   "metadata": {},
   "outputs": [
    {
     "data": {
      "image/png": "[encoded data removed]",
      "text/plain": [
       "plot without title"
      ]
     },
     "metadata": {
      "image/png": {
       "height": 420,
       "width": 420
      }
     },
     "output_type": "display_data"
    }
   ],
   "source": [
    "ggplot(iris,aes(x=Species,y=Sepal.Width))+geom_violin()+geom_jitter(aes(color=Species))"
   ]
  },
  {
   "cell_type": "code",
   "execution_count": null,
   "id": "e593bcb0",
   "metadata": {},
   "outputs": [],
   "source": []
  },
  {
   "cell_type": "markdown",
   "id": "e2388a34",
   "metadata": {},
   "source": [
    "# Datasets"
   ]
  },
  {
   "cell_type": "markdown",
   "id": "4fdb8882",
   "metadata": {},
   "source": [
    "## Dataset mtcars"
   ]
  },
  {
   "cell_type": "code",
   "execution_count": null,
   "id": "36433fc8",
   "metadata": {},
   "outputs": [],
   "source": [
    "attach(mtcars)"
   ]
  },
  {
   "cell_type": "code",
   "execution_count": null,
   "id": "5a5a813e",
   "metadata": {},
   "outputs": [],
   "source": [
    "View(mtcars)"
   ]
  },
  {
   "cell_type": "markdown",
   "id": "d804e7ed",
   "metadata": {},
   "source": [
    "## dataset diamonds"
   ]
  },
  {
   "cell_type": "code",
   "execution_count": null,
   "id": "c0e57f5a",
   "metadata": {},
   "outputs": [],
   "source": [
    "data(\"diamonds\")"
   ]
  },
  {
   "cell_type": "code",
   "execution_count": null,
   "id": "33c09ea1",
   "metadata": {},
   "outputs": [],
   "source": [
    "head(diamonds,20)"
   ]
  },
  {
   "cell_type": "markdown",
   "id": "f85df3eb",
   "metadata": {},
   "source": [
    "## dataset iris"
   ]
  },
  {
   "cell_type": "code",
   "execution_count": null,
   "id": "77ffc4c9",
   "metadata": {},
   "outputs": [],
   "source": [
    "data(\"iris\")"
   ]
  },
  {
   "cell_type": "code",
   "execution_count": null,
   "id": "d394676f",
   "metadata": {},
   "outputs": [],
   "source": [
    "head(iris,15)"
   ]
  },
  {
   "cell_type": "code",
   "execution_count": null,
   "id": "a749a74e",
   "metadata": {},
   "outputs": [],
   "source": [
    "data(\"ChickWeight\")"
   ]
  },
  {
   "cell_type": "code",
   "execution_count": null,
   "id": "a472bb36",
   "metadata": {},
   "outputs": [],
   "source": [
    "str(ChickWeight)"
   ]
  },
  {
   "cell_type": "code",
   "execution_count": null,
   "id": "35963608",
   "metadata": {},
   "outputs": [],
   "source": [
    "head(ChickWeight,15)"
   ]
  },
  {
   "cell_type": "markdown",
   "id": "8f7c02dc",
   "metadata": {},
   "source": [
    "# sample()"
   ]
  },
  {
   "cell_type": "code",
   "execution_count": null,
   "id": "ffb42ec3",
   "metadata": {},
   "outputs": [],
   "source": [
    "help(sample)"
   ]
  },
  {
   "cell_type": "code",
   "execution_count": null,
   "id": "bef7ab6e",
   "metadata": {},
   "outputs": [],
   "source": [
    "x <- 1:20"
   ]
  },
  {
   "cell_type": "code",
   "execution_count": null,
   "id": "9e71bd3b",
   "metadata": {},
   "outputs": [],
   "source": [
    "x"
   ]
  },
  {
   "cell_type": "code",
   "execution_count": null,
   "id": "136b3c82",
   "metadata": {},
   "outputs": [],
   "source": [
    "sample(x,5) #a random permutation"
   ]
  },
  {
   "cell_type": "code",
   "execution_count": null,
   "id": "9d79ac8c",
   "metadata": {},
   "outputs": [],
   "source": [
    "sample(x, replace=TRUE)"
   ]
  },
  {
   "cell_type": "code",
   "execution_count": null,
   "id": "8872dbfb",
   "metadata": {},
   "outputs": [],
   "source": []
  }
 ],
 "metadata": {
  "hide_input": false,
  "kernelspec": {
   "display_name": "R",
   "language": "R",
   "name": "ir"
  },
  "language_info": {
   "codemirror_mode": "r",
   "file_extension": ".r",
   "mimetype": "text/x-r-source",
   "name": "R",
   "pygments_lexer": "r",
   "version": "4.1.0"
  },
  "toc": {
   "base_numbering": 1,
   "nav_menu": {},
   "number_sections": true,
   "sideBar": true,
   "skip_h1_title": false,
   "title_cell": "Table of Contents",
   "title_sidebar": "Contents",
   "toc_cell": false,
   "toc_position": {
    "height": "calc(100% - 180px)",
    "left": "10px",
    "top": "150px",
    "width": "253.723px"
   },
   "toc_section_display": true,
   "toc_window_display": true
  }
 },
 "nbformat": 4,
 "nbformat_minor": 5
}
