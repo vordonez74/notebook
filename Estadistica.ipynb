{
 "cells": [
  {
   "cell_type": "markdown",
   "id": "8f8b6a8b",
   "metadata": {},
   "source": [
    "# [Manual de R](https://fhernanb.github.io/Manual-de-R/)"
   ]
  },
  {
   "cell_type": "markdown",
   "id": "a93c1369",
   "metadata": {},
   "source": [
    "# Estadística\n",
    "La misión de la **Estadistica Descriptiva** es ordenar, describir y sintetizar la información recogida.<br>\n",
    "La **población** es un conjunto de elementos, con alguna caracteristica común, que es el objeto de nuestro estudio. Esta puede ser finita o infinita.<br>\n",
    "Una **muestra** es un subconjunto de la población. El número de elemento de una muestra se llama **tamaño** de la muestra.<br>\n",
    "El objeto de nuestra medida puede ser: Cuntitativo o Cualitativo.<br>\n",
    "Se entiende por **variable estadística** al símbolo que representa al dato o caracter objeto de nuestro estudio de los elementos de la muestra y que puede tomar un conjunto de valores. Estos pueden ser discretos, continuos, unidimensionales(temperatura o presión atmoférica), bidimensionales(longitud y peso de una barra conductora) o n-dimensionales(velocidad, carga eléctrica y masa de un ión es tridimensionales).\n",
    "## Tabla de frecuencia"
   ]
  },
  {
   "cell_type": "markdown",
   "id": "84b4d2c7",
   "metadata": {},
   "source": [
    "### Variable cuantitativa discreta"
   ]
  },
  {
   "cell_type": "code",
   "execution_count": 31,
   "id": "38dbb92f",
   "metadata": {},
   "outputs": [],
   "source": [
    "num_hijos <- c(2,1,1,3,1,2,5,1,2,3,4,2,3,2,1,4,2,3,2,1)\n",
    "N <- length(num_hijos) #tamaño de la muestra"
   ]
  },
  {
   "cell_type": "code",
   "execution_count": 32,
   "id": "38cd1f3e",
   "metadata": {},
   "outputs": [
    {
     "data": {
      "text/plain": [
       "num_hijos\n",
       "1 2 3 4 5 \n",
       "6 7 4 2 1 "
      ]
     },
     "metadata": {},
     "output_type": "display_data"
    }
   ],
   "source": [
    "#Frecuencia absoluta\n",
    "tabla <- table(num_hijos)\n",
    "tabla"
   ]
  },
  {
   "cell_type": "code",
   "execution_count": 33,
   "id": "87b8cfa6",
   "metadata": {},
   "outputs": [
    {
     "data": {
      "text/html": [
       "<style>\n",
       ".dl-inline {width: auto; margin:0; padding: 0}\n",
       ".dl-inline>dt, .dl-inline>dd {float: none; width: auto; display: inline-block}\n",
       ".dl-inline>dt::after {content: \":\\0020\"; padding-right: .5ex}\n",
       ".dl-inline>dt:not(:first-of-type) {padding-left: .5ex}\n",
       "</style><dl class=dl-inline><dt>1</dt><dd>6</dd><dt>2</dt><dd>13</dd><dt>3</dt><dd>17</dd><dt>4</dt><dd>19</dd><dt>5</dt><dd>20</dd></dl>\n"
      ],
      "text/latex": [
       "\\begin{description*}\n",
       "\\item[1] 6\n",
       "\\item[2] 13\n",
       "\\item[3] 17\n",
       "\\item[4] 19\n",
       "\\item[5] 20\n",
       "\\end{description*}\n"
      ],
      "text/markdown": [
       "1\n",
       ":   62\n",
       ":   133\n",
       ":   174\n",
       ":   195\n",
       ":   20\n",
       "\n"
      ],
      "text/plain": [
       " 1  2  3  4  5 \n",
       " 6 13 17 19 20 "
      ]
     },
     "metadata": {},
     "output_type": "display_data"
    }
   ],
   "source": [
    "#Frecuencia acumulada\n",
    "FreqAc <- cumsum(table(num_hijos))\n",
    "FreqAc"
   ]
  },
  {
   "cell_type": "code",
   "execution_count": 34,
   "id": "e0c4d257",
   "metadata": {},
   "outputs": [
    {
     "data": {
      "text/plain": [
       "num_hijos\n",
       "   1    2    3    4    5 \n",
       "0.30 0.35 0.20 0.10 0.05 "
      ]
     },
     "metadata": {},
     "output_type": "display_data"
    }
   ],
   "source": [
    "#Frecuencia relativa\n",
    "FreqRel <- table(num_hijos) / N\n",
    "FreqRel"
   ]
  },
  {
   "cell_type": "code",
   "execution_count": 37,
   "id": "c4faac80",
   "metadata": {},
   "outputs": [
    {
     "data": {
      "text/plain": [
       "num_hijos\n",
       " 1  2  3  4  5 \n",
       "30 35 20 10  5 "
      ]
     },
     "metadata": {},
     "output_type": "display_data"
    }
   ],
   "source": [
    "#Frecuencia relativa en tanto %\n",
    "FreqRelPor100 <- (table(num_hijos)/N)*100\n",
    "FreqRelPor100"
   ]
  },
  {
   "cell_type": "code",
   "execution_count": 39,
   "id": "d61d4700",
   "metadata": {},
   "outputs": [
    {
     "data": {
      "text/html": [
       "<style>\n",
       ".dl-inline {width: auto; margin:0; padding: 0}\n",
       ".dl-inline>dt, .dl-inline>dd {float: none; width: auto; display: inline-block}\n",
       ".dl-inline>dt::after {content: \":\\0020\"; padding-right: .5ex}\n",
       ".dl-inline>dt:not(:first-of-type) {padding-left: .5ex}\n",
       "</style><dl class=dl-inline><dt>1</dt><dd>30</dd><dt>2</dt><dd>65</dd><dt>3</dt><dd>85</dd><dt>4</dt><dd>95</dd><dt>5</dt><dd>100</dd></dl>\n"
      ],
      "text/latex": [
       "\\begin{description*}\n",
       "\\item[1] 30\n",
       "\\item[2] 65\n",
       "\\item[3] 85\n",
       "\\item[4] 95\n",
       "\\item[5] 100\n",
       "\\end{description*}\n"
      ],
      "text/markdown": [
       "1\n",
       ":   302\n",
       ":   653\n",
       ":   854\n",
       ":   955\n",
       ":   100\n",
       "\n"
      ],
      "text/plain": [
       "  1   2   3   4   5 \n",
       " 30  65  85  95 100 "
      ]
     },
     "metadata": {},
     "output_type": "display_data"
    }
   ],
   "source": [
    "#Frecuencia relativa acumulada en tanto porciento\n",
    "FreqRelAcPor100 <- (cumsum(table(num_hijos))/N)*100\n",
    "FreqRelAcPor100"
   ]
  },
  {
   "cell_type": "code",
   "execution_count": 43,
   "id": "1bfaab5e",
   "metadata": {},
   "outputs": [
    {
     "data": {
      "text/html": [
       "<table class=\"dataframe\">\n",
       "<caption>A data.frame: 5 × 3</caption>\n",
       "<thead>\n",
       "\t<tr><th></th><th scope=col>num_hijos</th><th scope=col>Freq</th><th scope=col>FreqAc</th></tr>\n",
       "\t<tr><th></th><th scope=col>&lt;fct&gt;</th><th scope=col>&lt;int&gt;</th><th scope=col>&lt;int&gt;</th></tr>\n",
       "</thead>\n",
       "<tbody>\n",
       "\t<tr><th scope=row>1</th><td>1</td><td>6</td><td> 6</td></tr>\n",
       "\t<tr><th scope=row>2</th><td>2</td><td>7</td><td>13</td></tr>\n",
       "\t<tr><th scope=row>3</th><td>3</td><td>4</td><td>17</td></tr>\n",
       "\t<tr><th scope=row>4</th><td>4</td><td>2</td><td>19</td></tr>\n",
       "\t<tr><th scope=row>5</th><td>5</td><td>1</td><td>20</td></tr>\n",
       "</tbody>\n",
       "</table>\n"
      ],
      "text/latex": [
       "A data.frame: 5 × 3\n",
       "\\begin{tabular}{r|lll}\n",
       "  & num\\_hijos & Freq & FreqAc\\\\\n",
       "  & <fct> & <int> & <int>\\\\\n",
       "\\hline\n",
       "\t1 & 1 & 6 &  6\\\\\n",
       "\t2 & 2 & 7 & 13\\\\\n",
       "\t3 & 3 & 4 & 17\\\\\n",
       "\t4 & 4 & 2 & 19\\\\\n",
       "\t5 & 5 & 1 & 20\\\\\n",
       "\\end{tabular}\n"
      ],
      "text/markdown": [
       "\n",
       "A data.frame: 5 × 3\n",
       "\n",
       "| <!--/--> | num_hijos &lt;fct&gt; | Freq &lt;int&gt; | FreqAc &lt;int&gt; |\n",
       "|---|---|---|---|\n",
       "| 1 | 1 | 6 |  6 |\n",
       "| 2 | 2 | 7 | 13 |\n",
       "| 3 | 3 | 4 | 17 |\n",
       "| 4 | 4 | 2 | 19 |\n",
       "| 5 | 5 | 1 | 20 |\n",
       "\n"
      ],
      "text/plain": [
       "  num_hijos Freq FreqAc\n",
       "1 1         6     6    \n",
       "2 2         7    13    \n",
       "3 3         4    17    \n",
       "4 4         2    19    \n",
       "5 5         1    20    "
      ]
     },
     "metadata": {},
     "output_type": "display_data"
    }
   ],
   "source": [
    "transform(tabla,\n",
    "         FreqAc=FreqAc)"
   ]
  },
  {
   "cell_type": "code",
   "execution_count": 26,
   "id": "698d55c4",
   "metadata": {},
   "outputs": [
    {
     "data": {
      "text/html": [
       "<table class=\"dataframe\">\n",
       "<caption>A data.frame: 5 × 2</caption>\n",
       "<thead>\n",
       "\t<tr><th scope=col>num_hijos</th><th scope=col>Freq</th></tr>\n",
       "\t<tr><th scope=col>&lt;fct&gt;</th><th scope=col>&lt;int&gt;</th></tr>\n",
       "</thead>\n",
       "<tbody>\n",
       "\t<tr><td>1</td><td>6</td></tr>\n",
       "\t<tr><td>2</td><td>7</td></tr>\n",
       "\t<tr><td>3</td><td>4</td></tr>\n",
       "\t<tr><td>4</td><td>2</td></tr>\n",
       "\t<tr><td>5</td><td>1</td></tr>\n",
       "</tbody>\n",
       "</table>\n"
      ],
      "text/latex": [
       "A data.frame: 5 × 2\n",
       "\\begin{tabular}{ll}\n",
       " num\\_hijos & Freq\\\\\n",
       " <fct> & <int>\\\\\n",
       "\\hline\n",
       "\t 1 & 6\\\\\n",
       "\t 2 & 7\\\\\n",
       "\t 3 & 4\\\\\n",
       "\t 4 & 2\\\\\n",
       "\t 5 & 1\\\\\n",
       "\\end{tabular}\n"
      ],
      "text/markdown": [
       "\n",
       "A data.frame: 5 × 2\n",
       "\n",
       "| num_hijos &lt;fct&gt; | Freq &lt;int&gt; |\n",
       "|---|---|\n",
       "| 1 | 6 |\n",
       "| 2 | 7 |\n",
       "| 3 | 4 |\n",
       "| 4 | 2 |\n",
       "| 5 | 1 |\n",
       "\n"
      ],
      "text/plain": [
       "  num_hijos Freq\n",
       "1 1         6   \n",
       "2 2         7   \n",
       "3 3         4   \n",
       "4 4         2   \n",
       "5 5         1   "
      ]
     },
     "metadata": {},
     "output_type": "display_data"
    }
   ],
   "source": [
    "df_num_hijos <- as.data.frame(table(num_hijos))\n",
    "df_num_hijos"
   ]
  },
  {
   "cell_type": "code",
   "execution_count": 30,
   "id": "f9fee286",
   "metadata": {},
   "outputs": [
    {
     "data": {
      "text/html": [
       "<table class=\"dataframe\">\n",
       "<caption>A data.frame: 5 × 5</caption>\n",
       "<thead>\n",
       "\t<tr><th scope=col>num_hijos</th><th scope=col>Freq</th><th scope=col>FreqAc</th><th scope=col>FreqRe</th><th scope=col>FreqReAc</th></tr>\n",
       "\t<tr><th scope=col>&lt;fct&gt;</th><th scope=col>&lt;int&gt;</th><th scope=col>&lt;int&gt;</th><th scope=col>&lt;dbl&gt;</th><th scope=col>&lt;dbl&gt;</th></tr>\n",
       "</thead>\n",
       "<tbody>\n",
       "\t<tr><td>1</td><td>6</td><td> 6</td><td>0.30</td><td>0.30</td></tr>\n",
       "\t<tr><td>2</td><td>7</td><td>13</td><td>0.35</td><td>0.65</td></tr>\n",
       "\t<tr><td>3</td><td>4</td><td>17</td><td>0.20</td><td>0.85</td></tr>\n",
       "\t<tr><td>4</td><td>2</td><td>19</td><td>0.10</td><td>0.95</td></tr>\n",
       "\t<tr><td>5</td><td>1</td><td>20</td><td>0.05</td><td>1.00</td></tr>\n",
       "</tbody>\n",
       "</table>\n"
      ],
      "text/latex": [
       "A data.frame: 5 × 5\n",
       "\\begin{tabular}{lllll}\n",
       " num\\_hijos & Freq & FreqAc & FreqRe & FreqReAc\\\\\n",
       " <fct> & <int> & <int> & <dbl> & <dbl>\\\\\n",
       "\\hline\n",
       "\t 1 & 6 &  6 & 0.30 & 0.30\\\\\n",
       "\t 2 & 7 & 13 & 0.35 & 0.65\\\\\n",
       "\t 3 & 4 & 17 & 0.20 & 0.85\\\\\n",
       "\t 4 & 2 & 19 & 0.10 & 0.95\\\\\n",
       "\t 5 & 1 & 20 & 0.05 & 1.00\\\\\n",
       "\\end{tabular}\n"
      ],
      "text/markdown": [
       "\n",
       "A data.frame: 5 × 5\n",
       "\n",
       "| num_hijos &lt;fct&gt; | Freq &lt;int&gt; | FreqAc &lt;int&gt; | FreqRe &lt;dbl&gt; | FreqReAc &lt;dbl&gt; |\n",
       "|---|---|---|---|---|\n",
       "| 1 | 6 |  6 | 0.30 | 0.30 |\n",
       "| 2 | 7 | 13 | 0.35 | 0.65 |\n",
       "| 3 | 4 | 17 | 0.20 | 0.85 |\n",
       "| 4 | 2 | 19 | 0.10 | 0.95 |\n",
       "| 5 | 1 | 20 | 0.05 | 1.00 |\n",
       "\n"
      ],
      "text/plain": [
       "  num_hijos Freq FreqAc FreqRe FreqReAc\n",
       "1 1         6     6     0.30   0.30    \n",
       "2 2         7    13     0.35   0.65    \n",
       "3 3         4    17     0.20   0.85    \n",
       "4 4         2    19     0.10   0.95    \n",
       "5 5         1    20     0.05   1.00    "
      ]
     },
     "metadata": {},
     "output_type": "display_data"
    }
   ],
   "source": [
    "transform(df_num_hijos,\n",
    "          FreqAc=cumsum(df_num_hijos$Freq),\n",
    "          FreqRe=prop.table(df_num_hijos$Freq),\n",
    "          FreqReAc=cumsum(prop.table(df_num_hijos$Freq)))"
   ]
  },
  {
   "cell_type": "markdown",
   "id": "47704158",
   "metadata": {},
   "source": [
    "## Ejemplo de tabla de frecuencia"
   ]
  },
  {
   "cell_type": "code",
   "execution_count": 69,
   "id": "5059dd7a",
   "metadata": {},
   "outputs": [],
   "source": [
    "library(readxl)\n",
    "library(dplyr)"
   ]
  },
  {
   "cell_type": "code",
   "execution_count": 70,
   "id": "985e631d",
   "metadata": {},
   "outputs": [],
   "source": [
    "df_eje2122 <- read_excel(\"C:/Users/ordonez/Documents/SAP/SAP GUI/PedidosEjercicios/pedidosConCodigoEjercicio21-22.XLSX\")\n",
    "#Cambio los nomrbres de columnas\n",
    "colnames(df_eje2122)<- c('Centro','Almacen','FechaDoc','Cl','Doc','Prov','Pos','UM','Material','CantPed',\n",
    "                         'CantBase','PorEntr','Gpo','Contrato','Cesta','Ref','Borrado','TipoImp','Incom')"
   ]
  },
  {
   "cell_type": "code",
   "execution_count": 71,
   "id": "03acf2d2",
   "metadata": {},
   "outputs": [],
   "source": [
    "df_1126 <- as.data.frame(table(as.data.frame(table(select(filter(df_eje2122,Almacen=='1126'),Material)))$Freq))"
   ]
  },
  {
   "cell_type": "code",
   "execution_count": 72,
   "id": "294cdd38",
   "metadata": {},
   "outputs": [
    {
     "data": {
      "text/html": [
       "<table class=\"dataframe\">\n",
       "<caption>A data.frame: 11 × 5</caption>\n",
       "<thead>\n",
       "\t<tr><th scope=col>Var1</th><th scope=col>Freq</th><th scope=col>FrecAbsAcum</th><th scope=col>FrecRel</th><th scope=col>FrecRelAcum</th></tr>\n",
       "\t<tr><th scope=col>&lt;fct&gt;</th><th scope=col>&lt;int&gt;</th><th scope=col>&lt;int&gt;</th><th scope=col>&lt;dbl&gt;</th><th scope=col>&lt;dbl&gt;</th></tr>\n",
       "</thead>\n",
       "<tbody>\n",
       "\t<tr><td>1 </td><td>1669</td><td>1669</td><td>0.379</td><td>0.379</td></tr>\n",
       "\t<tr><td>2 </td><td>1265</td><td>2934</td><td>0.288</td><td>0.667</td></tr>\n",
       "\t<tr><td>3 </td><td> 800</td><td>3734</td><td>0.182</td><td>0.849</td></tr>\n",
       "\t<tr><td>4 </td><td> 437</td><td>4171</td><td>0.099</td><td>0.948</td></tr>\n",
       "\t<tr><td>5 </td><td> 150</td><td>4321</td><td>0.034</td><td>0.982</td></tr>\n",
       "\t<tr><td>6 </td><td>  46</td><td>4367</td><td>0.010</td><td>0.993</td></tr>\n",
       "\t<tr><td>7 </td><td>  18</td><td>4385</td><td>0.004</td><td>0.997</td></tr>\n",
       "\t<tr><td>8 </td><td>   8</td><td>4393</td><td>0.002</td><td>0.999</td></tr>\n",
       "\t<tr><td>9 </td><td>   2</td><td>4395</td><td>0.000</td><td>0.999</td></tr>\n",
       "\t<tr><td>10</td><td>   1</td><td>4396</td><td>0.000</td><td>1.000</td></tr>\n",
       "\t<tr><td>18</td><td>   2</td><td>4398</td><td>0.000</td><td>1.000</td></tr>\n",
       "</tbody>\n",
       "</table>\n"
      ],
      "text/latex": [
       "A data.frame: 11 × 5\n",
       "\\begin{tabular}{lllll}\n",
       " Var1 & Freq & FrecAbsAcum & FrecRel & FrecRelAcum\\\\\n",
       " <fct> & <int> & <int> & <dbl> & <dbl>\\\\\n",
       "\\hline\n",
       "\t 1  & 1669 & 1669 & 0.379 & 0.379\\\\\n",
       "\t 2  & 1265 & 2934 & 0.288 & 0.667\\\\\n",
       "\t 3  &  800 & 3734 & 0.182 & 0.849\\\\\n",
       "\t 4  &  437 & 4171 & 0.099 & 0.948\\\\\n",
       "\t 5  &  150 & 4321 & 0.034 & 0.982\\\\\n",
       "\t 6  &   46 & 4367 & 0.010 & 0.993\\\\\n",
       "\t 7  &   18 & 4385 & 0.004 & 0.997\\\\\n",
       "\t 8  &    8 & 4393 & 0.002 & 0.999\\\\\n",
       "\t 9  &    2 & 4395 & 0.000 & 0.999\\\\\n",
       "\t 10 &    1 & 4396 & 0.000 & 1.000\\\\\n",
       "\t 18 &    2 & 4398 & 0.000 & 1.000\\\\\n",
       "\\end{tabular}\n"
      ],
      "text/markdown": [
       "\n",
       "A data.frame: 11 × 5\n",
       "\n",
       "| Var1 &lt;fct&gt; | Freq &lt;int&gt; | FrecAbsAcum &lt;int&gt; | FrecRel &lt;dbl&gt; | FrecRelAcum &lt;dbl&gt; |\n",
       "|---|---|---|---|---|\n",
       "| 1  | 1669 | 1669 | 0.379 | 0.379 |\n",
       "| 2  | 1265 | 2934 | 0.288 | 0.667 |\n",
       "| 3  |  800 | 3734 | 0.182 | 0.849 |\n",
       "| 4  |  437 | 4171 | 0.099 | 0.948 |\n",
       "| 5  |  150 | 4321 | 0.034 | 0.982 |\n",
       "| 6  |   46 | 4367 | 0.010 | 0.993 |\n",
       "| 7  |   18 | 4385 | 0.004 | 0.997 |\n",
       "| 8  |    8 | 4393 | 0.002 | 0.999 |\n",
       "| 9  |    2 | 4395 | 0.000 | 0.999 |\n",
       "| 10 |    1 | 4396 | 0.000 | 1.000 |\n",
       "| 18 |    2 | 4398 | 0.000 | 1.000 |\n",
       "\n"
      ],
      "text/plain": [
       "   Var1 Freq FrecAbsAcum FrecRel FrecRelAcum\n",
       "1  1    1669 1669        0.379   0.379      \n",
       "2  2    1265 2934        0.288   0.667      \n",
       "3  3     800 3734        0.182   0.849      \n",
       "4  4     437 4171        0.099   0.948      \n",
       "5  5     150 4321        0.034   0.982      \n",
       "6  6      46 4367        0.010   0.993      \n",
       "7  7      18 4385        0.004   0.997      \n",
       "8  8       8 4393        0.002   0.999      \n",
       "9  9       2 4395        0.000   0.999      \n",
       "10 10      1 4396        0.000   1.000      \n",
       "11 18      2 4398        0.000   1.000      "
      ]
     },
     "metadata": {},
     "output_type": "display_data"
    }
   ],
   "source": [
    "transform(df_1126,\n",
    "         FrecAbsAcum=cumsum(df_1126$Freq),\n",
    "         FrecRel=round(prop.table(df_1126$Freq),3),\n",
    "         FrecRelAcum=round(cumsum(prop.table(df_1126$Freq)),3))"
   ]
  },
  {
   "cell_type": "markdown",
   "id": "a94794a9",
   "metadata": {},
   "source": [
    "**Recorrido o Rango**: La diferencia entre el valor mayor y menor que toma la variable.<br>\n",
    "**Frecuencia absoluta $n_i$**: Definida como el número de veces que aparece el valor en cuestión de la variable estadística en el conjunto de las observaciones realizadas.<br>\n",
    "**Frecuencia relativa $f_i$**: Cociente entre la frecuencia absoluta y el número de observaciones realizadas N.<br>\n",
    "**Frecuencia absoluta acumulada $N_i$**: Suma de las frecuencias absolutas de los valores inferiores o igual a $x_i$.<br>\n",
    "**Frecuencia ralativa acumulada $F_i$**: Cociente entre la frecuencia absoluta acumulada y el número de observaciones.<br>"
   ]
  },
  {
   "cell_type": "markdown",
   "id": "93add56c",
   "metadata": {},
   "source": [
    "## Agrupamiento en intervalos de clase (usando fdth)"
   ]
  },
  {
   "cell_type": "code",
   "execution_count": 1,
   "id": "30ffc8d0",
   "metadata": {},
   "outputs": [],
   "source": [
    "#install.packages(\"fdth\")"
   ]
  },
  {
   "cell_type": "code",
   "execution_count": 1,
   "id": "77ea7eed",
   "metadata": {},
   "outputs": [
    {
     "name": "stderr",
     "output_type": "stream",
     "text": [
      "Warning message:\n",
      "\"package 'fdth' was built under R version 4.1.3\"\n",
      "\n",
      "Attaching package: 'fdth'\n",
      "\n",
      "\n",
      "The following objects are masked from 'package:stats':\n",
      "\n",
      "    sd, var\n",
      "\n",
      "\n"
     ]
    }
   ],
   "source": [
    "library(fdth)"
   ]
  },
  {
   "cell_type": "code",
   "execution_count": 4,
   "id": "8a7b1ada",
   "metadata": {},
   "outputs": [],
   "source": [
    "ejemploI6 <- c(8.63,10.16,8.50,8.31,10.80,7.50,8.12,\n",
    "               8.42,9.20,8.16,8.36,9.77,7.52,7.96,\n",
    "               7.83,8.62,7.54,8.28,9.32,7.96,7.47)"
   ]
  },
  {
   "cell_type": "code",
   "execution_count": 10,
   "id": "ab83dbba",
   "metadata": {},
   "outputs": [
    {
     "name": "stdout",
     "output_type": "stream",
     "text": [
      "[1] \"máximo:  10.8\"\n",
      "[1] \"mínimo:  7.47\"\n",
      "[1] \"recorrido: 3.33\"\n"
     ]
    }
   ],
   "source": [
    "recorrido <- max(ejemploI6) - min(ejemploI6)\n",
    "print(paste(\"máximo: \",max(ejemploI6)))\n",
    "print(paste(\"mínimo: \",min(ejemploI6)))\n",
    "print(paste(\"recorrido:\",recorrido))"
   ]
  },
  {
   "cell_type": "code",
   "execution_count": 8,
   "id": "36bd1652",
   "metadata": {},
   "outputs": [
    {
     "name": "stdout",
     "output_type": "stream",
     "text": [
      "[1] \"recorrido: 3.33\"\n"
     ]
    }
   ],
   "source": [
    "print(paste(\"recorrido:\",recorrido))"
   ]
  },
  {
   "cell_type": "code",
   "execution_count": 13,
   "id": "e353483a",
   "metadata": {},
   "outputs": [
    {
     "name": "stdout",
     "output_type": "stream",
     "text": [
      "[1] \"Tamaño de la muestra:  21\"\n",
      "[1] \"número de intervalos  5\"\n"
     ]
    }
   ],
   "source": [
    "N = length(ejemploI6)\n",
    "k = round(N**(0.5),0) #k es el número de intervalos\n",
    "print(paste(\"Tamaño de la muestra: \",N))\n",
    "print(paste(\"número de intervalos \",k))"
   ]
  },
  {
   "cell_type": "code",
   "execution_count": 12,
   "id": "897c64ad",
   "metadata": {},
   "outputs": [
    {
     "data": {
      "text/html": [
       "<dl>\n",
       "\t<dt>$table</dt>\n",
       "\t\t<dd><table class=\"dataframe\">\n",
       "<caption>A data.frame: 7 × 6</caption>\n",
       "<thead>\n",
       "\t<tr><th scope=col>Class limits</th><th scope=col>f</th><th scope=col>rf</th><th scope=col>rf(%)</th><th scope=col>cf</th><th scope=col>cf(%)</th></tr>\n",
       "\t<tr><th scope=col>&lt;fct&gt;</th><th scope=col>&lt;int&gt;</th><th scope=col>&lt;dbl&gt;</th><th scope=col>&lt;dbl&gt;</th><th scope=col>&lt;dbl&gt;</th><th scope=col>&lt;dbl&gt;</th></tr>\n",
       "</thead>\n",
       "<tbody>\n",
       "\t<tr><td>[7.467,7.946)</td><td>5</td><td>0.23809524</td><td>23.809524</td><td> 5</td><td> 23.80952</td></tr>\n",
       "\t<tr><td>[7.946,8.421)</td><td>8</td><td>0.38095238</td><td>38.095238</td><td>13</td><td> 61.90476</td></tr>\n",
       "\t<tr><td>[8.421,8.897)</td><td>3</td><td>0.14285714</td><td>14.285714</td><td>16</td><td> 76.19048</td></tr>\n",
       "\t<tr><td>[8.897,9.373)</td><td>2</td><td>0.09523810</td><td> 9.523810</td><td>18</td><td> 85.71429</td></tr>\n",
       "\t<tr><td>[9.373,9.849)</td><td>1</td><td>0.04761905</td><td> 4.761905</td><td>19</td><td> 90.47619</td></tr>\n",
       "\t<tr><td>[9.849,10.32)</td><td>1</td><td>0.04761905</td><td> 4.761905</td><td>20</td><td> 95.23810</td></tr>\n",
       "\t<tr><td>[10.32,10.8) </td><td>1</td><td>0.04761905</td><td> 4.761905</td><td>21</td><td>100.00000</td></tr>\n",
       "</tbody>\n",
       "</table>\n",
       "</dd>\n",
       "\t<dt>$breaks</dt>\n",
       "\t\t<dd><style>\n",
       ".dl-inline {width: auto; margin:0; padding: 0}\n",
       ".dl-inline>dt, .dl-inline>dd {float: none; width: auto; display: inline-block}\n",
       ".dl-inline>dt::after {content: \":\\0020\"; padding-right: .5ex}\n",
       ".dl-inline>dt:not(:first-of-type) {padding-left: .5ex}\n",
       "</style><dl class=dl-inline><dt>start</dt><dd>7.4</dd><dt>end</dt><dd>10.9</dd><dt>h</dt><dd>5</dd><dt>right</dt><dd>0</dd></dl>\n",
       "</dd>\n",
       "</dl>\n"
      ],
      "text/latex": [
       "\\begin{description}\n",
       "\\item[\\$table] A data.frame: 7 × 6\n",
       "\\begin{tabular}{llllll}\n",
       " Class limits & f & rf & rf(\\%) & cf & cf(\\%)\\\\\n",
       " <fct> & <int> & <dbl> & <dbl> & <dbl> & <dbl>\\\\\n",
       "\\hline\n",
       "\t {[}7.467,7.946) & 5 & 0.23809524 & 23.809524 &  5 &  23.80952\\\\\n",
       "\t {[}7.946,8.421) & 8 & 0.38095238 & 38.095238 & 13 &  61.90476\\\\\n",
       "\t {[}8.421,8.897) & 3 & 0.14285714 & 14.285714 & 16 &  76.19048\\\\\n",
       "\t {[}8.897,9.373) & 2 & 0.09523810 &  9.523810 & 18 &  85.71429\\\\\n",
       "\t {[}9.373,9.849) & 1 & 0.04761905 &  4.761905 & 19 &  90.47619\\\\\n",
       "\t {[}9.849,10.32) & 1 & 0.04761905 &  4.761905 & 20 &  95.23810\\\\\n",
       "\t {[}10.32,10.8)  & 1 & 0.04761905 &  4.761905 & 21 & 100.00000\\\\\n",
       "\\end{tabular}\n",
       "\n",
       "\\item[\\$breaks] \\begin{description*}\n",
       "\\item[start] 7.4\n",
       "\\item[end] 10.9\n",
       "\\item[h] 5\n",
       "\\item[right] 0\n",
       "\\end{description*}\n",
       "\n",
       "\\end{description}\n"
      ],
      "text/markdown": [
       "$table\n",
       ":   \n",
       "A data.frame: 7 × 6\n",
       "\n",
       "| Class limits &lt;fct&gt; | f &lt;int&gt; | rf &lt;dbl&gt; | rf(%) &lt;dbl&gt; | cf &lt;dbl&gt; | cf(%) &lt;dbl&gt; |\n",
       "|---|---|---|---|---|---|\n",
       "| [7.467,7.946) | 5 | 0.23809524 | 23.809524 |  5 |  23.80952 |\n",
       "| [7.946,8.421) | 8 | 0.38095238 | 38.095238 | 13 |  61.90476 |\n",
       "| [8.421,8.897) | 3 | 0.14285714 | 14.285714 | 16 |  76.19048 |\n",
       "| [8.897,9.373) | 2 | 0.09523810 |  9.523810 | 18 |  85.71429 |\n",
       "| [9.373,9.849) | 1 | 0.04761905 |  4.761905 | 19 |  90.47619 |\n",
       "| [9.849,10.32) | 1 | 0.04761905 |  4.761905 | 20 |  95.23810 |\n",
       "| [10.32,10.8)  | 1 | 0.04761905 |  4.761905 | 21 | 100.00000 |\n",
       "\n",
       "\n",
       "$breaks\n",
       ":   start\n",
       ":   7.4end\n",
       ":   10.9h\n",
       ":   5right\n",
       ":   0\n",
       "\n",
       "\n",
       "\n",
       "\n"
      ],
      "text/plain": [
       "  Class limits f   rf rf(%) cf  cf(%)\n",
       " [7.467,7.946) 5 0.24 23.81  5  23.81\n",
       " [7.946,8.421) 8 0.38 38.10 13  61.90\n",
       " [8.421,8.897) 3 0.14 14.29 16  76.19\n",
       " [8.897,9.373) 2 0.10  9.52 18  85.71\n",
       " [9.373,9.849) 1 0.05  4.76 19  90.48\n",
       " [9.849,10.32) 1 0.05  4.76 20  95.24\n",
       "  [10.32,10.8) 1 0.05  4.76 21 100.00"
      ]
     },
     "metadata": {},
     "output_type": "display_data"
    }
   ],
   "source": [
    "dist <- fdt(ejemploI6,start=7.40,end=10.9,h=5)\n",
    "dist"
   ]
  },
  {
   "cell_type": "markdown",
   "id": "5a79782c",
   "metadata": {},
   "source": [
    "# Frecuencias de compras en almacenes (Ejercicio 20/21)"
   ]
  },
  {
   "cell_type": "code",
   "execution_count": null,
   "id": "cac654fc",
   "metadata": {},
   "outputs": [],
   "source": [
    "library(readxl)\n",
    "library(dplyr)"
   ]
  },
  {
   "cell_type": "code",
   "execution_count": null,
   "id": "36340615",
   "metadata": {},
   "outputs": [],
   "source": [
    "df_eje2122 <- read_excel(\"C:/Users/ordonez/Documents/SAP/SAP GUI/PedidosEjercicios/pedidosConCodigoEjercicio21-22.XLSX\")\n",
    "#Cambio los nomrbres de columnas\n",
    "colnames(df_eje2122)<- c('Centro','Almacen','FechaDoc','Cl','Doc','Prov','Pos','UM','Material','CantPed',\n",
    "                         'CantBase','PorEntr','Gpo','Contrato','Cesta','Ref','Borrado','TipoImp','Incom')"
   ]
  },
  {
   "cell_type": "code",
   "execution_count": 30,
   "id": "f055d10a",
   "metadata": {},
   "outputs": [
    {
     "data": {
      "text/plain": [
       "\n",
       "   1    2    3    4    5    6    7    8    9   10   18 \n",
       "1669 1265  800  437  150   46   18    8    2    1    2 "
      ]
     },
     "metadata": {},
     "output_type": "display_data"
    }
   ],
   "source": [
    "table(as.data.frame(table(select(filter(df_eje2122,Almacen=='1126'),Material)))$Freq)"
   ]
  },
  {
   "cell_type": "code",
   "execution_count": 19,
   "id": "a026373e",
   "metadata": {},
   "outputs": [
    {
     "data": {
      "text/plain": [
       "\n",
       "   1    2    3    4    5    6    7    8    9   11   12   29 \n",
       "1454 1079  622  294  113   49   27    9    2    1    1    1 "
      ]
     },
     "metadata": {},
     "output_type": "display_data"
    }
   ],
   "source": [
    "table(as.data.frame(table(select(filter(df_eje2122,Almacen=='1124'),Material)))$Freq)"
   ]
  },
  {
   "cell_type": "code",
   "execution_count": 20,
   "id": "bed0991e",
   "metadata": {},
   "outputs": [
    {
     "data": {
      "text/plain": [
       "\n",
       "  1   2   3   4   5   6   7 \n",
       "869 452 200  67  33   8   2 "
      ]
     },
     "metadata": {},
     "output_type": "display_data"
    }
   ],
   "source": [
    "table(as.data.frame(table(select(filter(df_eje2122,Almacen=='1128'),Material)))$Freq)"
   ]
  },
  {
   "cell_type": "code",
   "execution_count": 21,
   "id": "5634e6ef",
   "metadata": {},
   "outputs": [
    {
     "data": {
      "text/plain": [
       "\n",
       " 1  2  3  4  5  6  7  8  9 10 11 12 13 14 15 16 19 21 23 33 34 \n",
       "42 21 20 19 16  8  9  4  7  4  6  3  1  1  2  2  2  1  2  1  1 "
      ]
     },
     "metadata": {},
     "output_type": "display_data"
    }
   ],
   "source": [
    "table(as.data.frame(table(select(filter(df_eje2122,Almacen=='1129'),Material)))$Freq)"
   ]
  },
  {
   "cell_type": "markdown",
   "id": "f52a0089",
   "metadata": {},
   "source": [
    "### Variable cualitativa"
   ]
  },
  {
   "cell_type": "code",
   "execution_count": 1,
   "id": "39c99959",
   "metadata": {},
   "outputs": [],
   "source": [
    "color_ojos <- c('azul','verde','marrón','gris','verde','marrón','marrón','azul','verde','marrón','gris','azul','marrón','verde')\n",
    "N1 <- length(color_ojos)"
   ]
  },
  {
   "cell_type": "code",
   "execution_count": 44,
   "id": "b697e6f9",
   "metadata": {},
   "outputs": [
    {
     "data": {
      "text/plain": [
       "color_ojos\n",
       "  azul   gris marrón  verde \n",
       "     3      2      5      4 "
      ]
     },
     "metadata": {},
     "output_type": "display_data"
    }
   ],
   "source": [
    "tabla_color <- table(color_ojos)\n",
    "tabla_color"
   ]
  },
  {
   "cell_type": "code",
   "execution_count": 45,
   "id": "90ea848e",
   "metadata": {},
   "outputs": [
    {
     "data": {
      "text/html": [
       "<style>\n",
       ".dl-inline {width: auto; margin:0; padding: 0}\n",
       ".dl-inline>dt, .dl-inline>dd {float: none; width: auto; display: inline-block}\n",
       ".dl-inline>dt::after {content: \":\\0020\"; padding-right: .5ex}\n",
       ".dl-inline>dt:not(:first-of-type) {padding-left: .5ex}\n",
       "</style><dl class=dl-inline><dt>azul</dt><dd>3</dd><dt>gris</dt><dd>5</dd><dt>marrón</dt><dd>10</dd><dt>verde</dt><dd>14</dd></dl>\n"
      ],
      "text/latex": [
       "\\begin{description*}\n",
       "\\item[azul] 3\n",
       "\\item[gris] 5\n",
       "\\item[marrón] 10\n",
       "\\item[verde] 14\n",
       "\\end{description*}\n"
      ],
      "text/markdown": [
       "azul\n",
       ":   3gris\n",
       ":   5marrón\n",
       ":   10verde\n",
       ":   14\n",
       "\n"
      ],
      "text/plain": [
       "  azul   gris marrón  verde \n",
       "     3      5     10     14 "
      ]
     },
     "metadata": {},
     "output_type": "display_data"
    }
   ],
   "source": [
    "FreqAc <- cumsum(table(color_ojos))\n",
    "FreqAc"
   ]
  },
  {
   "cell_type": "code",
   "execution_count": 46,
   "id": "cda992d7",
   "metadata": {},
   "outputs": [
    {
     "data": {
      "text/html": [
       "<table class=\"dataframe\">\n",
       "<caption>A data.frame: 4 × 3</caption>\n",
       "<thead>\n",
       "\t<tr><th></th><th scope=col>color_ojos</th><th scope=col>Freq</th><th scope=col>FreqAc</th></tr>\n",
       "\t<tr><th></th><th scope=col>&lt;fct&gt;</th><th scope=col>&lt;int&gt;</th><th scope=col>&lt;int&gt;</th></tr>\n",
       "</thead>\n",
       "<tbody>\n",
       "\t<tr><th scope=row>azul</th><td>azul  </td><td>3</td><td> 3</td></tr>\n",
       "\t<tr><th scope=row>gris</th><td>gris  </td><td>2</td><td> 5</td></tr>\n",
       "\t<tr><th scope=row>marrón</th><td>marrón</td><td>5</td><td>10</td></tr>\n",
       "\t<tr><th scope=row>verde</th><td>verde </td><td>4</td><td>14</td></tr>\n",
       "</tbody>\n",
       "</table>\n"
      ],
      "text/latex": [
       "A data.frame: 4 × 3\n",
       "\\begin{tabular}{r|lll}\n",
       "  & color\\_ojos & Freq & FreqAc\\\\\n",
       "  & <fct> & <int> & <int>\\\\\n",
       "\\hline\n",
       "\tazul & azul   & 3 &  3\\\\\n",
       "\tgris & gris   & 2 &  5\\\\\n",
       "\tmarrón & marrón & 5 & 10\\\\\n",
       "\tverde & verde  & 4 & 14\\\\\n",
       "\\end{tabular}\n"
      ],
      "text/markdown": [
       "\n",
       "A data.frame: 4 × 3\n",
       "\n",
       "| <!--/--> | color_ojos &lt;fct&gt; | Freq &lt;int&gt; | FreqAc &lt;int&gt; |\n",
       "|---|---|---|---|\n",
       "| azul | azul   | 3 |  3 |\n",
       "| gris | gris   | 2 |  5 |\n",
       "| marrón | marrón | 5 | 10 |\n",
       "| verde | verde  | 4 | 14 |\n",
       "\n"
      ],
      "text/plain": [
       "       color_ojos Freq FreqAc\n",
       "azul   azul       3     3    \n",
       "gris   gris       2     5    \n",
       "marrón marrón     5    10    \n",
       "verde  verde      4    14    "
      ]
     },
     "metadata": {},
     "output_type": "display_data"
    }
   ],
   "source": [
    "transform(tabla_color,\n",
    "         FreqAc=FreqAc)"
   ]
  },
  {
   "cell_type": "code",
   "execution_count": 7,
   "id": "486fe760",
   "metadata": {},
   "outputs": [
    {
     "data": {
      "text/html": [
       "<style>\n",
       ".list-inline {list-style: none; margin:0; padding: 0}\n",
       ".list-inline>li {display: inline-block}\n",
       ".list-inline>li:not(:last-child)::after {content: \"\\00b7\"; padding: 0 .5ex}\n",
       "</style>\n",
       "<ol class=list-inline><li>3</li><li>2</li><li>5</li><li>4</li></ol>\n"
      ],
      "text/latex": [
       "\\begin{enumerate*}\n",
       "\\item 3\n",
       "\\item 2\n",
       "\\item 5\n",
       "\\item 4\n",
       "\\end{enumerate*}\n"
      ],
      "text/markdown": [
       "1. 3\n",
       "2. 2\n",
       "3. 5\n",
       "4. 4\n",
       "\n",
       "\n"
      ],
      "text/plain": [
       "[1] 3 2 5 4"
      ]
     },
     "metadata": {},
     "output_type": "display_data"
    }
   ],
   "source": [
    "as.data.frame(table(color_ojos))$Freq"
   ]
  },
  {
   "cell_type": "markdown",
   "id": "cb226426",
   "metadata": {},
   "source": [
    "# Importar archivos de Excel"
   ]
  },
  {
   "cell_type": "code",
   "execution_count": 47,
   "id": "8580f34e",
   "metadata": {},
   "outputs": [
    {
     "name": "stderr",
     "output_type": "stream",
     "text": [
      "Warning message:\n",
      "\"package 'readxl' was built under R version 4.1.2\"\n",
      "Warning message:\n",
      "\"package 'dplyr' was built under R version 4.1.1\"\n",
      "\n",
      "Attaching package: 'dplyr'\n",
      "\n",
      "\n",
      "The following objects are masked from 'package:stats':\n",
      "\n",
      "    filter, lag\n",
      "\n",
      "\n",
      "The following objects are masked from 'package:base':\n",
      "\n",
      "    intersect, setdiff, setequal, union\n",
      "\n",
      "\n"
     ]
    }
   ],
   "source": [
    "library(readxl)\n",
    "library(dplyr)#Para el uso de filter y select"
   ]
  },
  {
   "cell_type": "code",
   "execution_count": 57,
   "id": "86747529",
   "metadata": {},
   "outputs": [
    {
     "name": "stderr",
     "output_type": "stream",
     "text": [
      "Warning message in read_fun(path = enc2native(normalizePath(path)), sheet_i = sheet, :\n",
      "\"Expecting logical in R8346 / R8346C18: got 'K'\"\n",
      "Warning message in read_fun(path = enc2native(normalizePath(path)), sheet_i = sheet, :\n",
      "\"Expecting logical in S16862 / R16862C19: got 'X'\"\n",
      "Warning message in read_fun(path = enc2native(normalizePath(path)), sheet_i = sheet, :\n",
      "\"Expecting logical in S24962 / R24962C19: got 'X'\"\n",
      "Warning message in read_fun(path = enc2native(normalizePath(path)), sheet_i = sheet, :\n",
      "\"Expecting logical in S28932 / R28932C19: got 'X'\"\n",
      "Warning message in read_fun(path = enc2native(normalizePath(path)), sheet_i = sheet, :\n",
      "\"Expecting logical in R30271 / R30271C18: got 'K'\"\n"
     ]
    }
   ],
   "source": [
    "ej20_21 <- read_excel(\"C:/Users/ordonez/Documents/SAP/SAP GUI/PedidosEjercicios/pedidosConCodigoEjercicio20-21.XLSX\")\n",
    "colnames(ej20_21)<- c('Centro','Almacen','FechaDoc','Cl','Doc','Prov','Pos','UM','Material','CantPed',\n",
    "                         'CantBase','PorEntr','Gpo','Contrato','Cesta','Ref','Borrado','TipoImp','Incom')"
   ]
  },
  {
   "cell_type": "code",
   "execution_count": 58,
   "id": "98a6d33b",
   "metadata": {},
   "outputs": [],
   "source": [
    "ej21_22 <- read_excel(\"C:/Users/ordonez/Documents/SAP/SAP GUI/PedidosEjercicios/pedidosConCodigoEjercicio21-22.XLSX\")\n",
    "colnames(ej21_22)<- c('Centro','Almacen','FechaDoc','Cl','Doc','Prov','Pos','UM','Material','CantPed',\n",
    "                         'CantBase','PorEntr','Gpo','Contrato','Cesta','Ref','Borrado','TipoImp','Incom')"
   ]
  },
  {
   "cell_type": "markdown",
   "id": "8995103e",
   "metadata": {},
   "source": [
    "## filter()"
   ]
  },
  {
   "cell_type": "code",
   "execution_count": 59,
   "id": "0c4b4665",
   "metadata": {},
   "outputs": [
    {
     "data": {
      "text/html": [
       "<table class=\"dataframe\">\n",
       "<caption>A tibble: 4 × 19</caption>\n",
       "<thead>\n",
       "\t<tr><th scope=col>Centro</th><th scope=col>Almacen</th><th scope=col>FechaDoc</th><th scope=col>Cl</th><th scope=col>Doc</th><th scope=col>Prov</th><th scope=col>Pos</th><th scope=col>UM</th><th scope=col>Material</th><th scope=col>CantPed</th><th scope=col>CantBase</th><th scope=col>PorEntr</th><th scope=col>Gpo</th><th scope=col>Contrato</th><th scope=col>Cesta</th><th scope=col>Ref</th><th scope=col>Borrado</th><th scope=col>TipoImp</th><th scope=col>Incom</th></tr>\n",
       "\t<tr><th scope=col>&lt;chr&gt;</th><th scope=col>&lt;chr&gt;</th><th scope=col>&lt;dttm&gt;</th><th scope=col>&lt;chr&gt;</th><th scope=col>&lt;chr&gt;</th><th scope=col>&lt;chr&gt;</th><th scope=col>&lt;chr&gt;</th><th scope=col>&lt;chr&gt;</th><th scope=col>&lt;chr&gt;</th><th scope=col>&lt;dbl&gt;</th><th scope=col>&lt;dbl&gt;</th><th scope=col>&lt;dbl&gt;</th><th scope=col>&lt;chr&gt;</th><th scope=col>&lt;chr&gt;</th><th scope=col>&lt;chr&gt;</th><th scope=col>&lt;chr&gt;</th><th scope=col>&lt;chr&gt;</th><th scope=col>&lt;lgl&gt;</th><th scope=col>&lt;chr&gt;</th></tr>\n",
       "</thead>\n",
       "<tbody>\n",
       "\t<tr><td>1007</td><td>1124</td><td>2021-06-01</td><td>ZOP</td><td>4800137401</td><td>804038     ANDRES N. BERTOTTO S.A.I</td><td>1 </td><td>C/U</td><td>1037352</td><td>2</td><td>1</td><td>0</td><td>D19</td><td>NA</td><td>3000721193</td><td>NA      </td><td>NA</td><td>NA</td><td>NA</td></tr>\n",
       "\t<tr><td>1007</td><td>1124</td><td>2021-06-01</td><td>ZOP</td><td>4800137401</td><td>804038     ANDRES N. BERTOTTO S.A.I</td><td>2 </td><td>C/U</td><td>1037353</td><td>6</td><td>1</td><td>0</td><td>D19</td><td>NA</td><td>3000721193</td><td>NA      </td><td>NA</td><td>NA</td><td>NA</td></tr>\n",
       "\t<tr><td>1007</td><td>1124</td><td>2021-06-01</td><td>ZOP</td><td>4800137401</td><td>804038     ANDRES N. BERTOTTO S.A.I</td><td>3 </td><td>C/U</td><td>1037354</td><td>1</td><td>1</td><td>0</td><td>D19</td><td>NA</td><td>3000721193</td><td>NA      </td><td>NA</td><td>NA</td><td>NA</td></tr>\n",
       "\t<tr><td>1007</td><td>1124</td><td>2021-06-02</td><td>ZOP</td><td>4500172380</td><td>801546     WHEELPAM S.A.           </td><td>10</td><td>C/U</td><td>1012499</td><td>2</td><td>1</td><td>0</td><td>D18</td><td>NA</td><td>NA        </td><td>DDONAIRE</td><td>NA</td><td>NA</td><td>NA</td></tr>\n",
       "</tbody>\n",
       "</table>\n"
      ],
      "text/latex": [
       "A tibble: 4 × 19\n",
       "\\begin{tabular}{lllllllllllllllllll}\n",
       " Centro & Almacen & FechaDoc & Cl & Doc & Prov & Pos & UM & Material & CantPed & CantBase & PorEntr & Gpo & Contrato & Cesta & Ref & Borrado & TipoImp & Incom\\\\\n",
       " <chr> & <chr> & <dttm> & <chr> & <chr> & <chr> & <chr> & <chr> & <chr> & <dbl> & <dbl> & <dbl> & <chr> & <chr> & <chr> & <chr> & <chr> & <lgl> & <chr>\\\\\n",
       "\\hline\n",
       "\t 1007 & 1124 & 2021-06-01 & ZOP & 4800137401 & 804038     ANDRES N. BERTOTTO S.A.I & 1  & C/U & 1037352 & 2 & 1 & 0 & D19 & NA & 3000721193 & NA       & NA & NA & NA\\\\\n",
       "\t 1007 & 1124 & 2021-06-01 & ZOP & 4800137401 & 804038     ANDRES N. BERTOTTO S.A.I & 2  & C/U & 1037353 & 6 & 1 & 0 & D19 & NA & 3000721193 & NA       & NA & NA & NA\\\\\n",
       "\t 1007 & 1124 & 2021-06-01 & ZOP & 4800137401 & 804038     ANDRES N. BERTOTTO S.A.I & 3  & C/U & 1037354 & 1 & 1 & 0 & D19 & NA & 3000721193 & NA       & NA & NA & NA\\\\\n",
       "\t 1007 & 1124 & 2021-06-02 & ZOP & 4500172380 & 801546     WHEELPAM S.A.            & 10 & C/U & 1012499 & 2 & 1 & 0 & D18 & NA & NA         & DDONAIRE & NA & NA & NA\\\\\n",
       "\\end{tabular}\n"
      ],
      "text/markdown": [
       "\n",
       "A tibble: 4 × 19\n",
       "\n",
       "| Centro &lt;chr&gt; | Almacen &lt;chr&gt; | FechaDoc &lt;dttm&gt; | Cl &lt;chr&gt; | Doc &lt;chr&gt; | Prov &lt;chr&gt; | Pos &lt;chr&gt; | UM &lt;chr&gt; | Material &lt;chr&gt; | CantPed &lt;dbl&gt; | CantBase &lt;dbl&gt; | PorEntr &lt;dbl&gt; | Gpo &lt;chr&gt; | Contrato &lt;chr&gt; | Cesta &lt;chr&gt; | Ref &lt;chr&gt; | Borrado &lt;chr&gt; | TipoImp &lt;lgl&gt; | Incom &lt;chr&gt; |\n",
       "|---|---|---|---|---|---|---|---|---|---|---|---|---|---|---|---|---|---|---|\n",
       "| 1007 | 1124 | 2021-06-01 | ZOP | 4800137401 | 804038     ANDRES N. BERTOTTO S.A.I | 1  | C/U | 1037352 | 2 | 1 | 0 | D19 | NA | 3000721193 | NA       | NA | NA | NA |\n",
       "| 1007 | 1124 | 2021-06-01 | ZOP | 4800137401 | 804038     ANDRES N. BERTOTTO S.A.I | 2  | C/U | 1037353 | 6 | 1 | 0 | D19 | NA | 3000721193 | NA       | NA | NA | NA |\n",
       "| 1007 | 1124 | 2021-06-01 | ZOP | 4800137401 | 804038     ANDRES N. BERTOTTO S.A.I | 3  | C/U | 1037354 | 1 | 1 | 0 | D19 | NA | 3000721193 | NA       | NA | NA | NA |\n",
       "| 1007 | 1124 | 2021-06-02 | ZOP | 4500172380 | 801546     WHEELPAM S.A.            | 10 | C/U | 1012499 | 2 | 1 | 0 | D18 | NA | NA         | DDONAIRE | NA | NA | NA |\n",
       "\n"
      ],
      "text/plain": [
       "  Centro Almacen FechaDoc   Cl  Doc        Prov                               \n",
       "1 1007   1124    2021-06-01 ZOP 4800137401 804038     ANDRES N. BERTOTTO S.A.I\n",
       "2 1007   1124    2021-06-01 ZOP 4800137401 804038     ANDRES N. BERTOTTO S.A.I\n",
       "3 1007   1124    2021-06-01 ZOP 4800137401 804038     ANDRES N. BERTOTTO S.A.I\n",
       "4 1007   1124    2021-06-02 ZOP 4500172380 801546     WHEELPAM S.A.           \n",
       "  Pos UM  Material CantPed CantBase PorEntr Gpo Contrato Cesta      Ref     \n",
       "1 1   C/U 1037352  2       1        0       D19 NA       3000721193 NA      \n",
       "2 2   C/U 1037353  6       1        0       D19 NA       3000721193 NA      \n",
       "3 3   C/U 1037354  1       1        0       D19 NA       3000721193 NA      \n",
       "4 10  C/U 1012499  2       1        0       D18 NA       NA         DDONAIRE\n",
       "  Borrado TipoImp Incom\n",
       "1 NA      NA      NA   \n",
       "2 NA      NA      NA   \n",
       "3 NA      NA      NA   \n",
       "4 NA      NA      NA   "
      ]
     },
     "metadata": {},
     "output_type": "display_data"
    }
   ],
   "source": [
    "head(filter(ej21_22,Almacen=='1124'),4)"
   ]
  },
  {
   "cell_type": "code",
   "execution_count": 64,
   "id": "c4e9dece",
   "metadata": {},
   "outputs": [
    {
     "data": {
      "text/html": [
       "<table class=\"dataframe\">\n",
       "<caption>A tibble: 5 × 19</caption>\n",
       "<thead>\n",
       "\t<tr><th scope=col>Centro</th><th scope=col>Almacen</th><th scope=col>FechaDoc</th><th scope=col>Cl</th><th scope=col>Doc</th><th scope=col>Prov</th><th scope=col>Pos</th><th scope=col>UM</th><th scope=col>Material</th><th scope=col>CantPed</th><th scope=col>CantBase</th><th scope=col>PorEntr</th><th scope=col>Gpo</th><th scope=col>Contrato</th><th scope=col>Cesta</th><th scope=col>Ref</th><th scope=col>Borrado</th><th scope=col>TipoImp</th><th scope=col>Incom</th></tr>\n",
       "\t<tr><th scope=col>&lt;chr&gt;</th><th scope=col>&lt;chr&gt;</th><th scope=col>&lt;dttm&gt;</th><th scope=col>&lt;chr&gt;</th><th scope=col>&lt;chr&gt;</th><th scope=col>&lt;chr&gt;</th><th scope=col>&lt;chr&gt;</th><th scope=col>&lt;chr&gt;</th><th scope=col>&lt;chr&gt;</th><th scope=col>&lt;dbl&gt;</th><th scope=col>&lt;dbl&gt;</th><th scope=col>&lt;dbl&gt;</th><th scope=col>&lt;chr&gt;</th><th scope=col>&lt;chr&gt;</th><th scope=col>&lt;chr&gt;</th><th scope=col>&lt;chr&gt;</th><th scope=col>&lt;chr&gt;</th><th scope=col>&lt;lgl&gt;</th><th scope=col>&lt;chr&gt;</th></tr>\n",
       "</thead>\n",
       "<tbody>\n",
       "\t<tr><td>1007</td><td>1124</td><td>2021-06-01</td><td>ZOP</td><td>4800137401</td><td>804038     ANDRES N. BERTOTTO S.A.I</td><td>1 </td><td>C/U</td><td>1037352</td><td>2</td><td>1</td><td>0</td><td>D19</td><td>NA</td><td>3000721193</td><td>NA      </td><td>NA</td><td>NA</td><td>NA</td></tr>\n",
       "\t<tr><td>1007</td><td>1124</td><td>2021-06-01</td><td>ZOP</td><td>4800137401</td><td>804038     ANDRES N. BERTOTTO S.A.I</td><td>2 </td><td>C/U</td><td>1037353</td><td>6</td><td>1</td><td>0</td><td>D19</td><td>NA</td><td>3000721193</td><td>NA      </td><td>NA</td><td>NA</td><td>NA</td></tr>\n",
       "\t<tr><td>1007</td><td>1124</td><td>2021-06-01</td><td>ZOP</td><td>4800137401</td><td>804038     ANDRES N. BERTOTTO S.A.I</td><td>3 </td><td>C/U</td><td>1037354</td><td>1</td><td>1</td><td>0</td><td>D19</td><td>NA</td><td>3000721193</td><td>NA      </td><td>NA</td><td>NA</td><td>NA</td></tr>\n",
       "\t<tr><td>1007</td><td>1124</td><td>2021-06-02</td><td>ZOP</td><td>4500172380</td><td>801546     WHEELPAM S.A.           </td><td>10</td><td>C/U</td><td>1012499</td><td>2</td><td>1</td><td>0</td><td>D18</td><td>NA</td><td>NA        </td><td>DDONAIRE</td><td>NA</td><td>NA</td><td>NA</td></tr>\n",
       "\t<tr><td>1007</td><td>1124</td><td>2021-06-02</td><td>ZOP</td><td>4800137375</td><td>802853     KSB CIA.SUDAM. DE BOMBAS</td><td>1 </td><td>C/U</td><td>1031042</td><td>4</td><td>1</td><td>0</td><td>D49</td><td>NA</td><td>3000720422</td><td>HUANCODA</td><td>NA</td><td>NA</td><td>NA</td></tr>\n",
       "</tbody>\n",
       "</table>\n"
      ],
      "text/latex": [
       "A tibble: 5 × 19\n",
       "\\begin{tabular}{lllllllllllllllllll}\n",
       " Centro & Almacen & FechaDoc & Cl & Doc & Prov & Pos & UM & Material & CantPed & CantBase & PorEntr & Gpo & Contrato & Cesta & Ref & Borrado & TipoImp & Incom\\\\\n",
       " <chr> & <chr> & <dttm> & <chr> & <chr> & <chr> & <chr> & <chr> & <chr> & <dbl> & <dbl> & <dbl> & <chr> & <chr> & <chr> & <chr> & <chr> & <lgl> & <chr>\\\\\n",
       "\\hline\n",
       "\t 1007 & 1124 & 2021-06-01 & ZOP & 4800137401 & 804038     ANDRES N. BERTOTTO S.A.I & 1  & C/U & 1037352 & 2 & 1 & 0 & D19 & NA & 3000721193 & NA       & NA & NA & NA\\\\\n",
       "\t 1007 & 1124 & 2021-06-01 & ZOP & 4800137401 & 804038     ANDRES N. BERTOTTO S.A.I & 2  & C/U & 1037353 & 6 & 1 & 0 & D19 & NA & 3000721193 & NA       & NA & NA & NA\\\\\n",
       "\t 1007 & 1124 & 2021-06-01 & ZOP & 4800137401 & 804038     ANDRES N. BERTOTTO S.A.I & 3  & C/U & 1037354 & 1 & 1 & 0 & D19 & NA & 3000721193 & NA       & NA & NA & NA\\\\\n",
       "\t 1007 & 1124 & 2021-06-02 & ZOP & 4500172380 & 801546     WHEELPAM S.A.            & 10 & C/U & 1012499 & 2 & 1 & 0 & D18 & NA & NA         & DDONAIRE & NA & NA & NA\\\\\n",
       "\t 1007 & 1124 & 2021-06-02 & ZOP & 4800137375 & 802853     KSB CIA.SUDAM. DE BOMBAS & 1  & C/U & 1031042 & 4 & 1 & 0 & D49 & NA & 3000720422 & HUANCODA & NA & NA & NA\\\\\n",
       "\\end{tabular}\n"
      ],
      "text/markdown": [
       "\n",
       "A tibble: 5 × 19\n",
       "\n",
       "| Centro &lt;chr&gt; | Almacen &lt;chr&gt; | FechaDoc &lt;dttm&gt; | Cl &lt;chr&gt; | Doc &lt;chr&gt; | Prov &lt;chr&gt; | Pos &lt;chr&gt; | UM &lt;chr&gt; | Material &lt;chr&gt; | CantPed &lt;dbl&gt; | CantBase &lt;dbl&gt; | PorEntr &lt;dbl&gt; | Gpo &lt;chr&gt; | Contrato &lt;chr&gt; | Cesta &lt;chr&gt; | Ref &lt;chr&gt; | Borrado &lt;chr&gt; | TipoImp &lt;lgl&gt; | Incom &lt;chr&gt; |\n",
       "|---|---|---|---|---|---|---|---|---|---|---|---|---|---|---|---|---|---|---|\n",
       "| 1007 | 1124 | 2021-06-01 | ZOP | 4800137401 | 804038     ANDRES N. BERTOTTO S.A.I | 1  | C/U | 1037352 | 2 | 1 | 0 | D19 | NA | 3000721193 | NA       | NA | NA | NA |\n",
       "| 1007 | 1124 | 2021-06-01 | ZOP | 4800137401 | 804038     ANDRES N. BERTOTTO S.A.I | 2  | C/U | 1037353 | 6 | 1 | 0 | D19 | NA | 3000721193 | NA       | NA | NA | NA |\n",
       "| 1007 | 1124 | 2021-06-01 | ZOP | 4800137401 | 804038     ANDRES N. BERTOTTO S.A.I | 3  | C/U | 1037354 | 1 | 1 | 0 | D19 | NA | 3000721193 | NA       | NA | NA | NA |\n",
       "| 1007 | 1124 | 2021-06-02 | ZOP | 4500172380 | 801546     WHEELPAM S.A.            | 10 | C/U | 1012499 | 2 | 1 | 0 | D18 | NA | NA         | DDONAIRE | NA | NA | NA |\n",
       "| 1007 | 1124 | 2021-06-02 | ZOP | 4800137375 | 802853     KSB CIA.SUDAM. DE BOMBAS | 1  | C/U | 1031042 | 4 | 1 | 0 | D49 | NA | 3000720422 | HUANCODA | NA | NA | NA |\n",
       "\n"
      ],
      "text/plain": [
       "  Centro Almacen FechaDoc   Cl  Doc        Prov                               \n",
       "1 1007   1124    2021-06-01 ZOP 4800137401 804038     ANDRES N. BERTOTTO S.A.I\n",
       "2 1007   1124    2021-06-01 ZOP 4800137401 804038     ANDRES N. BERTOTTO S.A.I\n",
       "3 1007   1124    2021-06-01 ZOP 4800137401 804038     ANDRES N. BERTOTTO S.A.I\n",
       "4 1007   1124    2021-06-02 ZOP 4500172380 801546     WHEELPAM S.A.           \n",
       "5 1007   1124    2021-06-02 ZOP 4800137375 802853     KSB CIA.SUDAM. DE BOMBAS\n",
       "  Pos UM  Material CantPed CantBase PorEntr Gpo Contrato Cesta      Ref     \n",
       "1 1   C/U 1037352  2       1        0       D19 NA       3000721193 NA      \n",
       "2 2   C/U 1037353  6       1        0       D19 NA       3000721193 NA      \n",
       "3 3   C/U 1037354  1       1        0       D19 NA       3000721193 NA      \n",
       "4 10  C/U 1012499  2       1        0       D18 NA       NA         DDONAIRE\n",
       "5 1   C/U 1031042  4       1        0       D49 NA       3000720422 HUANCODA\n",
       "  Borrado TipoImp Incom\n",
       "1 NA      NA      NA   \n",
       "2 NA      NA      NA   \n",
       "3 NA      NA      NA   \n",
       "4 NA      NA      NA   \n",
       "5 NA      NA      NA   "
      ]
     },
     "metadata": {},
     "output_type": "display_data"
    }
   ],
   "source": [
    "head(filter(ej21_22,Almacen=='1124',UM=='C/U'),5)"
   ]
  },
  {
   "cell_type": "code",
   "execution_count": 61,
   "id": "9c9c0ecb",
   "metadata": {},
   "outputs": [],
   "source": [
    "help(filter)"
   ]
  },
  {
   "cell_type": "markdown",
   "id": "6c34c190",
   "metadata": {},
   "source": [
    "## select()"
   ]
  },
  {
   "cell_type": "code",
   "execution_count": 52,
   "id": "311ee520",
   "metadata": {},
   "outputs": [
    {
     "data": {
      "text/html": [
       "<table class=\"dataframe\">\n",
       "<caption>A tibble: 3 × 1</caption>\n",
       "<thead>\n",
       "\t<tr><th scope=col>Material</th></tr>\n",
       "\t<tr><th scope=col>&lt;chr&gt;</th></tr>\n",
       "</thead>\n",
       "<tbody>\n",
       "\t<tr><td>1056412</td></tr>\n",
       "\t<tr><td>1050053</td></tr>\n",
       "\t<tr><td>1030923</td></tr>\n",
       "</tbody>\n",
       "</table>\n"
      ],
      "text/latex": [
       "A tibble: 3 × 1\n",
       "\\begin{tabular}{l}\n",
       " Material\\\\\n",
       " <chr>\\\\\n",
       "\\hline\n",
       "\t 1056412\\\\\n",
       "\t 1050053\\\\\n",
       "\t 1030923\\\\\n",
       "\\end{tabular}\n"
      ],
      "text/markdown": [
       "\n",
       "A tibble: 3 × 1\n",
       "\n",
       "| Material &lt;chr&gt; |\n",
       "|---|\n",
       "| 1056412 |\n",
       "| 1050053 |\n",
       "| 1030923 |\n",
       "\n"
      ],
      "text/plain": [
       "  Material\n",
       "1 1056412 \n",
       "2 1050053 \n",
       "3 1030923 "
      ]
     },
     "metadata": {},
     "output_type": "display_data"
    }
   ],
   "source": [
    "head(select(ej20_21,Material),3)"
   ]
  },
  {
   "cell_type": "code",
   "execution_count": 55,
   "id": "ffdd1abb",
   "metadata": {},
   "outputs": [
    {
     "data": {
      "text/html": [
       "<table class=\"dataframe\">\n",
       "<caption>A tibble: 5 × 3</caption>\n",
       "<thead>\n",
       "\t<tr><th scope=col>Centro</th><th scope=col>Almacén</th><th scope=col>Material</th></tr>\n",
       "\t<tr><th scope=col>&lt;chr&gt;</th><th scope=col>&lt;chr&gt;</th><th scope=col>&lt;chr&gt;</th></tr>\n",
       "</thead>\n",
       "<tbody>\n",
       "\t<tr><td>1002</td><td>1128</td><td>1014104</td></tr>\n",
       "\t<tr><td>1001</td><td>1126</td><td>1051268</td></tr>\n",
       "\t<tr><td>1001</td><td>1126</td><td>1051269</td></tr>\n",
       "\t<tr><td>1001</td><td>1126</td><td>1034608</td></tr>\n",
       "\t<tr><td>1002</td><td>1129</td><td>1000067</td></tr>\n",
       "</tbody>\n",
       "</table>\n"
      ],
      "text/latex": [
       "A tibble: 5 × 3\n",
       "\\begin{tabular}{lll}\n",
       " Centro & Almacén & Material\\\\\n",
       " <chr> & <chr> & <chr>\\\\\n",
       "\\hline\n",
       "\t 1002 & 1128 & 1014104\\\\\n",
       "\t 1001 & 1126 & 1051268\\\\\n",
       "\t 1001 & 1126 & 1051269\\\\\n",
       "\t 1001 & 1126 & 1034608\\\\\n",
       "\t 1002 & 1129 & 1000067\\\\\n",
       "\\end{tabular}\n"
      ],
      "text/markdown": [
       "\n",
       "A tibble: 5 × 3\n",
       "\n",
       "| Centro &lt;chr&gt; | Almacén &lt;chr&gt; | Material &lt;chr&gt; |\n",
       "|---|---|---|\n",
       "| 1002 | 1128 | 1014104 |\n",
       "| 1001 | 1126 | 1051268 |\n",
       "| 1001 | 1126 | 1051269 |\n",
       "| 1001 | 1126 | 1034608 |\n",
       "| 1002 | 1129 | 1000067 |\n",
       "\n"
      ],
      "text/plain": [
       "  Centro Almacén Material\n",
       "1 1002   1128    1014104 \n",
       "2 1001   1126    1051268 \n",
       "3 1001   1126    1051269 \n",
       "4 1001   1126    1034608 \n",
       "5 1002   1129    1000067 "
      ]
     },
     "metadata": {},
     "output_type": "display_data"
    }
   ],
   "source": [
    "tail(select(ej20_21,c(Centro,Almacén,Material)),5)"
   ]
  },
  {
   "cell_type": "markdown",
   "id": "f0e27249",
   "metadata": {},
   "source": [
    "# dplyr"
   ]
  },
  {
   "cell_type": "code",
   "execution_count": 11,
   "id": "8c9a1c27",
   "metadata": {},
   "outputs": [
    {
     "name": "stderr",
     "output_type": "stream",
     "text": [
      "Warning message:\n",
      "\"package 'dplyr' was built under R version 4.1.1\"\n",
      "\n",
      "Attaching package: 'dplyr'\n",
      "\n",
      "\n",
      "The following objects are masked from 'package:stats':\n",
      "\n",
      "    filter, lag\n",
      "\n",
      "\n",
      "The following objects are masked from 'package:base':\n",
      "\n",
      "    intersect, setdiff, setequal, union\n",
      "\n",
      "\n"
     ]
    }
   ],
   "source": [
    "library(dplyr)"
   ]
  },
  {
   "cell_type": "code",
   "execution_count": null,
   "id": "06f21215",
   "metadata": {},
   "outputs": [],
   "source": [
    "nombre <- c('Emanuel','Maximiliano','Claudia','Sara','Sebastian')\n",
    "edad <- c(24,23,45,68,37)\n",
    "sexo <- c('masculino','masculino','femenino','femenino','masculino')"
   ]
  },
  {
   "cell_type": "code",
   "execution_count": null,
   "id": "6cf77a5c",
   "metadata": {},
   "outputs": [],
   "source": [
    "dataf <- data.frame(nombre,edad,sexo)\n",
    "dataf"
   ]
  },
  {
   "cell_type": "code",
   "execution_count": null,
   "id": "8a4e068a",
   "metadata": {},
   "outputs": [],
   "source": [
    "filter(dataf,sexo=='femenino')"
   ]
  },
  {
   "cell_type": "code",
   "execution_count": null,
   "id": "4282b7ad",
   "metadata": {},
   "outputs": [],
   "source": [
    "select(dataf,nombre,edad)"
   ]
  },
  {
   "cell_type": "code",
   "execution_count": null,
   "id": "2746901a",
   "metadata": {},
   "outputs": [],
   "source": [
    "t_sexo <- table(dataf$sexo)\n",
    "t_sexo"
   ]
  },
  {
   "cell_type": "markdown",
   "id": "433285e2",
   "metadata": {},
   "source": [
    "## tabla a data frame"
   ]
  },
  {
   "cell_type": "code",
   "execution_count": null,
   "id": "2bbd4cdb",
   "metadata": {},
   "outputs": [],
   "source": [
    "df_sexo <- as.data.frame(t_sexo)\n",
    "df_sexo"
   ]
  },
  {
   "cell_type": "code",
   "execution_count": null,
   "id": "35b74d79",
   "metadata": {},
   "outputs": [],
   "source": [
    "str(t_sexo)"
   ]
  },
  {
   "cell_type": "markdown",
   "id": "911d4862",
   "metadata": {},
   "source": [
    "## str()"
   ]
  },
  {
   "cell_type": "code",
   "execution_count": null,
   "id": "400cd876",
   "metadata": {},
   "outputs": [],
   "source": [
    "nombre <- c('Emanuel','Maximiliano','Claudia','Sara','Sebastian')\n",
    "edad <- c(24,23,45,68,37)\n",
    "sexo <- c('masculino','masculino','femenino','femenino','masculino')\n",
    "dataf <- data.frame(nombre,edad,sexo)"
   ]
  },
  {
   "cell_type": "code",
   "execution_count": null,
   "id": "2ffde885",
   "metadata": {},
   "outputs": [],
   "source": [
    "str(dataf)"
   ]
  },
  {
   "cell_type": "code",
   "execution_count": null,
   "id": "149800a9",
   "metadata": {},
   "outputs": [],
   "source": [
    "str(nombre)"
   ]
  },
  {
   "cell_type": "code",
   "execution_count": null,
   "id": "bba99464",
   "metadata": {},
   "outputs": [],
   "source": [
    "tabla <- table(dataf$sexo)"
   ]
  },
  {
   "cell_type": "code",
   "execution_count": null,
   "id": "03dbf638",
   "metadata": {},
   "outputs": [],
   "source": [
    "str(tabla)"
   ]
  },
  {
   "cell_type": "markdown",
   "id": "c210b264",
   "metadata": {},
   "source": [
    "## rnorm"
   ]
  },
  {
   "cell_type": "code",
   "execution_count": 67,
   "id": "46406862",
   "metadata": {},
   "outputs": [
    {
     "data": {
      "image/png": "[encoded data removed]",
      "text/plain": [
       "Plot with title \"Histogram of x\""
      ]
     },
     "metadata": {
      "image/png": {
       "height": 420,
       "width": 420
      }
     },
     "output_type": "display_data"
    }
   ],
   "source": [
    "x <- rnorm(n=200, mean=170, sd=5)\n",
    "hist(x)"
   ]
  },
  {
   "cell_type": "markdown",
   "id": "7e926c8c",
   "metadata": {},
   "source": [
    "## Histograma"
   ]
  },
  {
   "cell_type": "code",
   "execution_count": 65,
   "id": "df044568",
   "metadata": {},
   "outputs": [
    {
     "data": {
      "image/png": "[encoded data removed]",
      "text/plain": [
       "Plot with title \"Histogram of iris$Sepal.Width\""
      ]
     },
     "metadata": {
      "image/png": {
       "height": 420,
       "width": 420
      }
     },
     "output_type": "display_data"
    }
   ],
   "source": [
    "hist(iris$Sepal.Width)"
   ]
  },
  {
   "cell_type": "code",
   "execution_count": 66,
   "id": "385ae717",
   "metadata": {},
   "outputs": [
    {
     "name": "stdout",
     "output_type": "stream",
     "text": [
      "'data.frame':\t150 obs. of  5 variables:\n",
      " $ Sepal.Length: num  5.1 4.9 4.7 4.6 5 5.4 4.6 5 4.4 4.9 ...\n",
      " $ Sepal.Width : num  3.5 3 3.2 3.1 3.6 3.9 3.4 3.4 2.9 3.1 ...\n",
      " $ Petal.Length: num  1.4 1.4 1.3 1.5 1.4 1.7 1.4 1.5 1.4 1.5 ...\n",
      " $ Petal.Width : num  0.2 0.2 0.2 0.2 0.2 0.4 0.3 0.2 0.2 0.1 ...\n",
      " $ Species     : Factor w/ 3 levels \"setosa\",\"versicolor\",..: 1 1 1 1 1 1 1 1 1 1 ...\n"
     ]
    }
   ],
   "source": [
    "str(iris)"
   ]
  },
  {
   "cell_type": "code",
   "execution_count": null,
   "id": "1dab3bd6",
   "metadata": {},
   "outputs": [],
   "source": [
    "45*4"
   ]
  },
  {
   "cell_type": "code",
   "execution_count": 2,
   "id": "3319445a",
   "metadata": {},
   "outputs": [],
   "source": [
    "fechas <- c('14/3/2022','7/6/2022','9/6/2022','9/6/2022','9/6/2022','9/6/2022','9/6/2022','9/6/2022','9/6/2022','9/6/2022',\n",
    "            '9/6/2022','9/6/2022','9/6/2022','10/6/2022','13/6/2022','16/6/2022','16/6/2022','16/6/2022','16/6/2022',\n",
    "            '16/6/2022','16/6/2022','16/6/2022','16/6/2022','16/6/2022','16/6/2022','16/6/2022','16/6/2022','16/6/2022')"
   ]
  },
  {
   "cell_type": "code",
   "execution_count": 4,
   "id": "0d8a9a10",
   "metadata": {},
   "outputs": [
    {
     "data": {
      "text/plain": [
       "fechas\n",
       "10/6/2022 13/6/2022 14/3/2022 16/6/2022  7/6/2022  9/6/2022 \n",
       "        1         1         1        13         1        11 "
      ]
     },
     "metadata": {},
     "output_type": "display_data"
    }
   ],
   "source": [
    "table(fechas)/length(fecha)*100"
   ]
  },
  {
   "cell_type": "code",
   "execution_count": 6,
   "id": "5bbfcf1e",
   "metadata": {},
   "outputs": [
    {
     "data": {
      "text/plain": [
       "fechas\n",
       "10/6/2022 13/6/2022 14/3/2022 16/6/2022  7/6/2022  9/6/2022 \n",
       " 3.571429  3.571429  3.571429 46.428571  3.571429 39.285714 "
      ]
     },
     "metadata": {},
     "output_type": "display_data"
    }
   ],
   "source": [
    "table(fechas)/length(fechas)*100"
   ]
  },
  {
   "cell_type": "markdown",
   "id": "f6488015",
   "metadata": {},
   "source": [
    "# Tabla de frecuencias (distintas distribuciones)"
   ]
  },
  {
   "cell_type": "markdown",
   "id": "4f357080",
   "metadata": {},
   "source": [
    "## Distribución uniforme entre cero y no\n",
    "Esta distribución se usa cuando todos los elementos de la población tienen identica probabilidad\n",
    "de aparecer en nuetra muestra. También se llama rectangular."
   ]
  },
  {
   "cell_type": "code",
   "execution_count": 24,
   "id": "d697b027",
   "metadata": {},
   "outputs": [],
   "source": [
    "#sumulemos 1000 uniformes entre cero y uno\n",
    "x <- runif(1000)"
   ]
  },
  {
   "cell_type": "code",
   "execution_count": 31,
   "id": "1e0def48",
   "metadata": {},
   "outputs": [
    {
     "data": {
      "image/png": "[encoded data removed]",
      "text/plain": [
       "Plot with title \"Histogram of x\""
      ]
     },
     "metadata": {
      "image/png": {
       "height": 420,
       "width": 420
      }
     },
     "output_type": "display_data"
    }
   ],
   "source": [
    "hist(x)"
   ]
  },
  {
   "cell_type": "code",
   "execution_count": 20,
   "id": "ea2b2a68",
   "metadata": {},
   "outputs": [
    {
     "data": {
      "text/html": [
       "11"
      ],
      "text/latex": [
       "11"
      ],
      "text/markdown": [
       "11"
      ],
      "text/plain": [
       "[1] 11"
      ]
     },
     "metadata": {},
     "output_type": "display_data"
    }
   ],
   "source": [
    "#Generamos el números de clases con la regla sturges:\n",
    "k <- nclass.Sturges(x)\n",
    "k"
   ]
  },
  {
   "cell_type": "code",
   "execution_count": 23,
   "id": "4759f269",
   "metadata": {},
   "outputs": [],
   "source": [
    "#Separamos los valores de x en k intervalos de clases\n",
    "intervalos <- cut(x,breaks=k)"
   ]
  },
  {
   "cell_type": "code",
   "execution_count": 26,
   "id": "87a48004",
   "metadata": {},
   "outputs": [
    {
     "data": {
      "text/plain": [
       "intervalos\n",
       "(-0.00086,0.091]    (0.091,0.182]    (0.182,0.273]    (0.273,0.363] \n",
       "              93               99               93               95 \n",
       "   (0.363,0.454]    (0.454,0.545]    (0.545,0.636]    (0.636,0.727] \n",
       "              81              106               64               86 \n",
       "   (0.727,0.818]    (0.818,0.908]        (0.908,1] \n",
       "              98               90               95 "
      ]
     },
     "metadata": {},
     "output_type": "display_data"
    }
   ],
   "source": [
    "# Calculamos las frecuencias absolutas(cuantos elementos caen en cada clase)\n",
    "FA <- table(intervalos)\n",
    "FA"
   ]
  },
  {
   "cell_type": "code",
   "execution_count": 27,
   "id": "e6ae9c5c",
   "metadata": {},
   "outputs": [
    {
     "data": {
      "image/png": "[encoded data removed]",
      "text/plain": [
       "plot without title"
      ]
     },
     "metadata": {
      "image/png": {
       "height": 420,
       "width": 420
      }
     },
     "output_type": "display_data"
    }
   ],
   "source": [
    "barplot(FA)"
   ]
  },
  {
   "cell_type": "code",
   "execution_count": 28,
   "id": "6dbeb19e",
   "metadata": {},
   "outputs": [
    {
     "data": {
      "text/plain": [
       "intervalos\n",
       "(-0.00086,0.091]    (0.091,0.182]    (0.182,0.273]    (0.273,0.363] \n",
       "           0.093            0.099            0.093            0.095 \n",
       "   (0.363,0.454]    (0.454,0.545]    (0.545,0.636]    (0.636,0.727] \n",
       "           0.081            0.106            0.064            0.086 \n",
       "   (0.727,0.818]    (0.818,0.908]        (0.908,1] \n",
       "           0.098            0.090            0.095 "
      ]
     },
     "metadata": {},
     "output_type": "display_data"
    }
   ],
   "source": [
    "#Para obtener las frecuencias relativas(tenemos la probabilidad de caer en cada clase)\n",
    "FR <- FA <- table(intervalos)/length(x)\n",
    "FR"
   ]
  },
  {
   "cell_type": "code",
   "execution_count": 32,
   "id": "13eca728",
   "metadata": {},
   "outputs": [
    {
     "data": {
      "text/html": [
       "'table'"
      ],
      "text/latex": [
       "'table'"
      ],
      "text/markdown": [
       "'table'"
      ],
      "text/plain": [
       "[1] \"table\""
      ]
     },
     "metadata": {},
     "output_type": "display_data"
    }
   ],
   "source": [
    "class(FR)"
   ]
  },
  {
   "cell_type": "code",
   "execution_count": 29,
   "id": "2e2b7d4c",
   "metadata": {},
   "outputs": [
    {
     "data": {
      "image/png": "[encoded data removed]",
      "text/plain": [
       "plot without title"
      ]
     },
     "metadata": {
      "image/png": {
       "height": 420,
       "width": 420
      }
     },
     "output_type": "display_data"
    }
   ],
   "source": [
    "barplot(FR)"
   ]
  },
  {
   "cell_type": "markdown",
   "id": "a3db24ac",
   "metadata": {},
   "source": [
    "## Distribución normal estandar\n",
    "Esta distribución se usa cuando la mayoría de los elementos de la población se acercan a la media y el comportamiento es\n",
    "simétrico. Es la base del teorema del límite central y de muchas propiedades estadísticas."
   ]
  },
  {
   "cell_type": "code",
   "execution_count": 33,
   "id": "b4bd8176",
   "metadata": {},
   "outputs": [],
   "source": [
    "#Sumulemos 1000 normales con media cero y ds uno:\n",
    "y <- rnorm(1000)"
   ]
  },
  {
   "cell_type": "code",
   "execution_count": 55,
   "id": "1caeb030",
   "metadata": {},
   "outputs": [
    {
     "data": {
      "image/png": "[encoded data removed]",
      "text/plain": [
       "Plot with title \"Histogram of y\""
      ]
     },
     "metadata": {
      "image/png": {
       "height": 420,
       "width": 420
      }
     },
     "output_type": "display_data"
    }
   ],
   "source": [
    "hist(y)"
   ]
  },
  {
   "cell_type": "code",
   "execution_count": 49,
   "id": "c5661261",
   "metadata": {},
   "outputs": [
    {
     "data": {
      "text/html": [
       "11"
      ],
      "text/latex": [
       "11"
      ],
      "text/markdown": [
       "11"
      ],
      "text/plain": [
       "[1] 11"
      ]
     },
     "metadata": {},
     "output_type": "display_data"
    }
   ],
   "source": [
    "k2 <- nclass.Sturges(y)\n",
    "k2"
   ]
  },
  {
   "cell_type": "code",
   "execution_count": 50,
   "id": "eb2231f0",
   "metadata": {},
   "outputs": [],
   "source": [
    "intervalos2 <- cut(y, breaks=k2)"
   ]
  },
  {
   "cell_type": "code",
   "execution_count": 51,
   "id": "49a6ee2b",
   "metadata": {},
   "outputs": [
    {
     "data": {
      "text/plain": [
       "intervalos2\n",
       "   (-4.09,-3.41]    (-3.41,-2.75]    (-2.75,-2.08]    (-2.08,-1.41] \n",
       "               2                6               14               62 \n",
       "  (-1.41,-0.741] (-0.741,-0.0731]  (-0.0731,0.595]     (0.595,1.26] \n",
       "             163              252              225              168 \n",
       "     (1.26,1.93]       (1.93,2.6]       (2.6,3.27] \n",
       "              72               29                7 "
      ]
     },
     "metadata": {},
     "output_type": "display_data"
    }
   ],
   "source": [
    "FA2 <- table(intervalos2)\n",
    "FA2"
   ]
  },
  {
   "cell_type": "code",
   "execution_count": 52,
   "id": "ea41df7f",
   "metadata": {},
   "outputs": [
    {
     "data": {
      "image/png": "[encoded data removed]",
      "text/plain": [
       "plot without title"
      ]
     },
     "metadata": {
      "image/png": {
       "height": 420,
       "width": 420
      }
     },
     "output_type": "display_data"
    }
   ],
   "source": [
    "barplot(FA2)"
   ]
  },
  {
   "cell_type": "code",
   "execution_count": 53,
   "id": "00d54eba",
   "metadata": {},
   "outputs": [
    {
     "data": {
      "text/plain": [
       "intervalos2\n",
       "   (-4.09,-3.41]    (-3.41,-2.75]    (-2.75,-2.08]    (-2.08,-1.41] \n",
       "           0.002            0.006            0.014            0.062 \n",
       "  (-1.41,-0.741] (-0.741,-0.0731]  (-0.0731,0.595]     (0.595,1.26] \n",
       "           0.163            0.252            0.225            0.168 \n",
       "     (1.26,1.93]       (1.93,2.6]       (2.6,3.27] \n",
       "           0.072            0.029            0.007 "
      ]
     },
     "metadata": {},
     "output_type": "display_data"
    }
   ],
   "source": [
    "FR2 <- table(intervalos2)/length(y)\n",
    "FR2"
   ]
  },
  {
   "cell_type": "code",
   "execution_count": 54,
   "id": "8c9c9e16",
   "metadata": {},
   "outputs": [
    {
     "data": {
      "image/png": "[encoded data removed]",
      "text/plain": [
       "plot without title"
      ]
     },
     "metadata": {
      "image/png": {
       "height": 420,
       "width": 420
      }
     },
     "output_type": "display_data"
    }
   ],
   "source": [
    "barplot(FR2)"
   ]
  },
  {
   "cell_type": "markdown",
   "id": "e1e54051",
   "metadata": {},
   "source": [
    "## Distribución Exponencial\n",
    "Esta distribución se usa cuando la x represnta tiempo entre ocurrencia de eventos. Por ejemplo tiempo entre la llegada\n",
    "de dos autos a un estacionamiento."
   ]
  },
  {
   "cell_type": "code",
   "execution_count": 46,
   "id": "2aca824b",
   "metadata": {},
   "outputs": [],
   "source": [
    "z <- rexp(1000,rate=1)"
   ]
  },
  {
   "cell_type": "code",
   "execution_count": 48,
   "id": "a472142b",
   "metadata": {},
   "outputs": [
    {
     "data": {
      "image/png": "[encoded data removed]",
      "text/plain": [
       "Plot with title \"Histogram of z\""
      ]
     },
     "metadata": {
      "image/png": {
       "height": 420,
       "width": 420
      }
     },
     "output_type": "display_data"
    }
   ],
   "source": [
    "hist(z)"
   ]
  },
  {
   "cell_type": "code",
   "execution_count": 56,
   "id": "73e165fd",
   "metadata": {},
   "outputs": [
    {
     "data": {
      "text/html": [
       "11"
      ],
      "text/latex": [
       "11"
      ],
      "text/markdown": [
       "11"
      ],
      "text/plain": [
       "[1] 11"
      ]
     },
     "metadata": {},
     "output_type": "display_data"
    }
   ],
   "source": [
    "k3 <- nclass.Sturges(z)\n",
    "k3"
   ]
  },
  {
   "cell_type": "code",
   "execution_count": 57,
   "id": "4ee298f6",
   "metadata": {},
   "outputs": [],
   "source": [
    "intervalos3 <- cut(z,breaks=k3)"
   ]
  },
  {
   "cell_type": "code",
   "execution_count": 59,
   "id": "38c5f8cf",
   "metadata": {},
   "outputs": [
    {
     "data": {
      "text/plain": [
       "intervalos3\n",
       "(-0.00646,0.703]     (0.703,1.41]      (1.41,2.11]      (2.11,2.81] \n",
       "             494              231              118               74 \n",
       "     (2.81,3.51]      (3.51,4.21]      (4.21,4.92]      (4.92,5.62] \n",
       "              37               21               11                9 \n",
       "     (5.62,6.32]      (6.32,7.02]      (7.02,7.73] \n",
       "               3                1                1 "
      ]
     },
     "metadata": {},
     "output_type": "display_data"
    }
   ],
   "source": [
    "FA3 <- table(intervalos3)\n",
    "FA3"
   ]
  },
  {
   "cell_type": "code",
   "execution_count": 60,
   "id": "60de6b73",
   "metadata": {},
   "outputs": [
    {
     "data": {
      "image/png": "[encoded data removed]",
      "text/plain": [
       "plot without title"
      ]
     },
     "metadata": {
      "image/png": {
       "height": 420,
       "width": 420
      }
     },
     "output_type": "display_data"
    }
   ],
   "source": [
    "barplot(FA3)"
   ]
  },
  {
   "cell_type": "code",
   "execution_count": 63,
   "id": "ef3fadf5",
   "metadata": {},
   "outputs": [
    {
     "data": {
      "text/plain": [
       "intervalos3\n",
       "(-0.00646,0.703]     (0.703,1.41]      (1.41,2.11]      (2.11,2.81] \n",
       "           0.494            0.231            0.118            0.074 \n",
       "     (2.81,3.51]      (3.51,4.21]      (4.21,4.92]      (4.92,5.62] \n",
       "           0.037            0.021            0.011            0.009 \n",
       "     (5.62,6.32]      (6.32,7.02]      (7.02,7.73] \n",
       "           0.003            0.001            0.001 "
      ]
     },
     "metadata": {},
     "output_type": "display_data"
    }
   ],
   "source": [
    "FR3 <- table(intervalos3)/length(z)\n",
    "FR3"
   ]
  },
  {
   "cell_type": "code",
   "execution_count": 64,
   "id": "32efe06f",
   "metadata": {},
   "outputs": [
    {
     "data": {
      "image/png": "[encoded data removed]",
      "text/plain": [
       "plot without title"
      ]
     },
     "metadata": {
      "image/png": {
       "height": 420,
       "width": 420
      }
     },
     "output_type": "display_data"
    }
   ],
   "source": [
    "barplot(FR3)"
   ]
  },
  {
   "cell_type": "markdown",
   "id": "961cb261",
   "metadata": {},
   "source": [
    "## Distribución de Poisson\n",
    "Estra distribución se usa cuando la h representa el número de ocurrencia por unidad de tiempo.\n",
    "Por ejemplo, el número de llegadas de autos a un estacionamiento."
   ]
  },
  {
   "cell_type": "code",
   "execution_count": 69,
   "id": "04c0a2f4",
   "metadata": {},
   "outputs": [],
   "source": [
    "h <- rpois(1000,lambda=10) #10 es el promedio de ocurrencia por unidad de tiempo"
   ]
  },
  {
   "cell_type": "code",
   "execution_count": 70,
   "id": "e65deef9",
   "metadata": {},
   "outputs": [
    {
     "data": {
      "image/png": "[encoded data removed]",
      "text/plain": [
       "Plot with title \"Histogram of h\""
      ]
     },
     "metadata": {
      "image/png": {
       "height": 420,
       "width": 420
      }
     },
     "output_type": "display_data"
    }
   ],
   "source": [
    "hist(h)"
   ]
  },
  {
   "cell_type": "code",
   "execution_count": 71,
   "id": "b5af421d",
   "metadata": {},
   "outputs": [
    {
     "data": {
      "text/html": [
       "11"
      ],
      "text/latex": [
       "11"
      ],
      "text/markdown": [
       "11"
      ],
      "text/plain": [
       "[1] 11"
      ]
     },
     "metadata": {},
     "output_type": "display_data"
    }
   ],
   "source": [
    "k4 <- nclass.Sturges(h)\n",
    "k4"
   ]
  },
  {
   "cell_type": "code",
   "execution_count": 72,
   "id": "fc6607ba",
   "metadata": {},
   "outputs": [],
   "source": [
    "intervalos4 <- cut(h,breaks=k4)"
   ]
  },
  {
   "cell_type": "code",
   "execution_count": 73,
   "id": "58279236",
   "metadata": {},
   "outputs": [
    {
     "data": {
      "text/plain": [
       "intervalos4\n",
       "(1.98,3.82] (3.82,5.64] (5.64,7.45] (7.45,9.27] (9.27,11.1] (11.1,12.9] \n",
       "          6          58         172         248         236          86 \n",
       "(12.9,14.7] (14.7,16.5] (16.5,18.4] (18.4,20.2]   (20.2,22] \n",
       "        116          58          13           4           3 "
      ]
     },
     "metadata": {},
     "output_type": "display_data"
    }
   ],
   "source": [
    "FA4 <- table(intervalos4)\n",
    "FA4"
   ]
  },
  {
   "cell_type": "code",
   "execution_count": 74,
   "id": "c847b8c4",
   "metadata": {},
   "outputs": [
    {
     "data": {
      "image/png": "[encoded data removed]",
      "text/plain": [
       "plot without title"
      ]
     },
     "metadata": {
      "image/png": {
       "height": 420,
       "width": 420
      }
     },
     "output_type": "display_data"
    }
   ],
   "source": [
    "barplot(FA4)"
   ]
  },
  {
   "cell_type": "code",
   "execution_count": 76,
   "id": "4104d07b",
   "metadata": {},
   "outputs": [
    {
     "data": {
      "text/plain": [
       "intervalos4\n",
       "(1.98,3.82] (3.82,5.64] (5.64,7.45] (7.45,9.27] (9.27,11.1] (11.1,12.9] \n",
       "      0.006       0.058       0.172       0.248       0.236       0.086 \n",
       "(12.9,14.7] (14.7,16.5] (16.5,18.4] (18.4,20.2]   (20.2,22] \n",
       "      0.116       0.058       0.013       0.004       0.003 "
      ]
     },
     "metadata": {},
     "output_type": "display_data"
    }
   ],
   "source": [
    "FR4 <- table(intervalos4)/length(h)\n",
    "FR4"
   ]
  },
  {
   "cell_type": "code",
   "execution_count": 77,
   "id": "3ecd174f",
   "metadata": {},
   "outputs": [
    {
     "data": {
      "image/png": "[encoded data removed]",
      "text/plain": [
       "plot without title"
      ]
     },
     "metadata": {
      "image/png": {
       "height": 420,
       "width": 420
      }
     },
     "output_type": "display_data"
    }
   ],
   "source": [
    "barplot(FR4)"
   ]
  },
  {
   "cell_type": "markdown",
   "id": "4e4e3baa",
   "metadata": {},
   "source": [
    "# Representación gráfica para datos sin agrupar\n",
    "Se usan:\n",
    "* Diagrama de barra\n",
    "* Polígono de frecuencia"
   ]
  },
  {
   "cell_type": "markdown",
   "id": "e2388a34",
   "metadata": {},
   "source": [
    "## Usaremos un dataset que viene precargado"
   ]
  },
  {
   "cell_type": "code",
   "execution_count": 78,
   "id": "36433fc8",
   "metadata": {},
   "outputs": [],
   "source": [
    "attach(mtcars)"
   ]
  },
  {
   "cell_type": "code",
   "execution_count": 79,
   "id": "5a5a813e",
   "metadata": {},
   "outputs": [
    {
     "data": {
      "text/html": [
       "<table class=\"dataframe\">\n",
       "<caption>A data.frame: 32 × 11</caption>\n",
       "<thead>\n",
       "\t<tr><th></th><th scope=col>mpg</th><th scope=col>cyl</th><th scope=col>disp</th><th scope=col>hp</th><th scope=col>drat</th><th scope=col>wt</th><th scope=col>qsec</th><th scope=col>vs</th><th scope=col>am</th><th scope=col>gear</th><th scope=col>carb</th></tr>\n",
       "\t<tr><th></th><th scope=col>&lt;dbl&gt;</th><th scope=col>&lt;dbl&gt;</th><th scope=col>&lt;dbl&gt;</th><th scope=col>&lt;dbl&gt;</th><th scope=col>&lt;dbl&gt;</th><th scope=col>&lt;dbl&gt;</th><th scope=col>&lt;dbl&gt;</th><th scope=col>&lt;dbl&gt;</th><th scope=col>&lt;dbl&gt;</th><th scope=col>&lt;dbl&gt;</th><th scope=col>&lt;dbl&gt;</th></tr>\n",
       "</thead>\n",
       "<tbody>\n",
       "\t<tr><th scope=row>Mazda RX4</th><td>21.0</td><td>6</td><td>160.0</td><td>110</td><td>3.90</td><td>2.620</td><td>16.46</td><td>0</td><td>1</td><td>4</td><td>4</td></tr>\n",
       "\t<tr><th scope=row>Mazda RX4 Wag</th><td>21.0</td><td>6</td><td>160.0</td><td>110</td><td>3.90</td><td>2.875</td><td>17.02</td><td>0</td><td>1</td><td>4</td><td>4</td></tr>\n",
       "\t<tr><th scope=row>Datsun 710</th><td>22.8</td><td>4</td><td>108.0</td><td> 93</td><td>3.85</td><td>2.320</td><td>18.61</td><td>1</td><td>1</td><td>4</td><td>1</td></tr>\n",
       "\t<tr><th scope=row>Hornet 4 Drive</th><td>21.4</td><td>6</td><td>258.0</td><td>110</td><td>3.08</td><td>3.215</td><td>19.44</td><td>1</td><td>0</td><td>3</td><td>1</td></tr>\n",
       "\t<tr><th scope=row>Hornet Sportabout</th><td>18.7</td><td>8</td><td>360.0</td><td>175</td><td>3.15</td><td>3.440</td><td>17.02</td><td>0</td><td>0</td><td>3</td><td>2</td></tr>\n",
       "\t<tr><th scope=row>Valiant</th><td>18.1</td><td>6</td><td>225.0</td><td>105</td><td>2.76</td><td>3.460</td><td>20.22</td><td>1</td><td>0</td><td>3</td><td>1</td></tr>\n",
       "\t<tr><th scope=row>Duster 360</th><td>14.3</td><td>8</td><td>360.0</td><td>245</td><td>3.21</td><td>3.570</td><td>15.84</td><td>0</td><td>0</td><td>3</td><td>4</td></tr>\n",
       "\t<tr><th scope=row>Merc 240D</th><td>24.4</td><td>4</td><td>146.7</td><td> 62</td><td>3.69</td><td>3.190</td><td>20.00</td><td>1</td><td>0</td><td>4</td><td>2</td></tr>\n",
       "\t<tr><th scope=row>Merc 230</th><td>22.8</td><td>4</td><td>140.8</td><td> 95</td><td>3.92</td><td>3.150</td><td>22.90</td><td>1</td><td>0</td><td>4</td><td>2</td></tr>\n",
       "\t<tr><th scope=row>Merc 280</th><td>19.2</td><td>6</td><td>167.6</td><td>123</td><td>3.92</td><td>3.440</td><td>18.30</td><td>1</td><td>0</td><td>4</td><td>4</td></tr>\n",
       "\t<tr><th scope=row>Merc 280C</th><td>17.8</td><td>6</td><td>167.6</td><td>123</td><td>3.92</td><td>3.440</td><td>18.90</td><td>1</td><td>0</td><td>4</td><td>4</td></tr>\n",
       "\t<tr><th scope=row>Merc 450SE</th><td>16.4</td><td>8</td><td>275.8</td><td>180</td><td>3.07</td><td>4.070</td><td>17.40</td><td>0</td><td>0</td><td>3</td><td>3</td></tr>\n",
       "\t<tr><th scope=row>Merc 450SL</th><td>17.3</td><td>8</td><td>275.8</td><td>180</td><td>3.07</td><td>3.730</td><td>17.60</td><td>0</td><td>0</td><td>3</td><td>3</td></tr>\n",
       "\t<tr><th scope=row>Merc 450SLC</th><td>15.2</td><td>8</td><td>275.8</td><td>180</td><td>3.07</td><td>3.780</td><td>18.00</td><td>0</td><td>0</td><td>3</td><td>3</td></tr>\n",
       "\t<tr><th scope=row>Cadillac Fleetwood</th><td>10.4</td><td>8</td><td>472.0</td><td>205</td><td>2.93</td><td>5.250</td><td>17.98</td><td>0</td><td>0</td><td>3</td><td>4</td></tr>\n",
       "\t<tr><th scope=row>Lincoln Continental</th><td>10.4</td><td>8</td><td>460.0</td><td>215</td><td>3.00</td><td>5.424</td><td>17.82</td><td>0</td><td>0</td><td>3</td><td>4</td></tr>\n",
       "\t<tr><th scope=row>Chrysler Imperial</th><td>14.7</td><td>8</td><td>440.0</td><td>230</td><td>3.23</td><td>5.345</td><td>17.42</td><td>0</td><td>0</td><td>3</td><td>4</td></tr>\n",
       "\t<tr><th scope=row>Fiat 128</th><td>32.4</td><td>4</td><td> 78.7</td><td> 66</td><td>4.08</td><td>2.200</td><td>19.47</td><td>1</td><td>1</td><td>4</td><td>1</td></tr>\n",
       "\t<tr><th scope=row>Honda Civic</th><td>30.4</td><td>4</td><td> 75.7</td><td> 52</td><td>4.93</td><td>1.615</td><td>18.52</td><td>1</td><td>1</td><td>4</td><td>2</td></tr>\n",
       "\t<tr><th scope=row>Toyota Corolla</th><td>33.9</td><td>4</td><td> 71.1</td><td> 65</td><td>4.22</td><td>1.835</td><td>19.90</td><td>1</td><td>1</td><td>4</td><td>1</td></tr>\n",
       "\t<tr><th scope=row>Toyota Corona</th><td>21.5</td><td>4</td><td>120.1</td><td> 97</td><td>3.70</td><td>2.465</td><td>20.01</td><td>1</td><td>0</td><td>3</td><td>1</td></tr>\n",
       "\t<tr><th scope=row>Dodge Challenger</th><td>15.5</td><td>8</td><td>318.0</td><td>150</td><td>2.76</td><td>3.520</td><td>16.87</td><td>0</td><td>0</td><td>3</td><td>2</td></tr>\n",
       "\t<tr><th scope=row>AMC Javelin</th><td>15.2</td><td>8</td><td>304.0</td><td>150</td><td>3.15</td><td>3.435</td><td>17.30</td><td>0</td><td>0</td><td>3</td><td>2</td></tr>\n",
       "\t<tr><th scope=row>Camaro Z28</th><td>13.3</td><td>8</td><td>350.0</td><td>245</td><td>3.73</td><td>3.840</td><td>15.41</td><td>0</td><td>0</td><td>3</td><td>4</td></tr>\n",
       "\t<tr><th scope=row>Pontiac Firebird</th><td>19.2</td><td>8</td><td>400.0</td><td>175</td><td>3.08</td><td>3.845</td><td>17.05</td><td>0</td><td>0</td><td>3</td><td>2</td></tr>\n",
       "\t<tr><th scope=row>Fiat X1-9</th><td>27.3</td><td>4</td><td> 79.0</td><td> 66</td><td>4.08</td><td>1.935</td><td>18.90</td><td>1</td><td>1</td><td>4</td><td>1</td></tr>\n",
       "\t<tr><th scope=row>Porsche 914-2</th><td>26.0</td><td>4</td><td>120.3</td><td> 91</td><td>4.43</td><td>2.140</td><td>16.70</td><td>0</td><td>1</td><td>5</td><td>2</td></tr>\n",
       "\t<tr><th scope=row>Lotus Europa</th><td>30.4</td><td>4</td><td> 95.1</td><td>113</td><td>3.77</td><td>1.513</td><td>16.90</td><td>1</td><td>1</td><td>5</td><td>2</td></tr>\n",
       "\t<tr><th scope=row>Ford Pantera L</th><td>15.8</td><td>8</td><td>351.0</td><td>264</td><td>4.22</td><td>3.170</td><td>14.50</td><td>0</td><td>1</td><td>5</td><td>4</td></tr>\n",
       "\t<tr><th scope=row>Ferrari Dino</th><td>19.7</td><td>6</td><td>145.0</td><td>175</td><td>3.62</td><td>2.770</td><td>15.50</td><td>0</td><td>1</td><td>5</td><td>6</td></tr>\n",
       "\t<tr><th scope=row>Maserati Bora</th><td>15.0</td><td>8</td><td>301.0</td><td>335</td><td>3.54</td><td>3.570</td><td>14.60</td><td>0</td><td>1</td><td>5</td><td>8</td></tr>\n",
       "\t<tr><th scope=row>Volvo 142E</th><td>21.4</td><td>4</td><td>121.0</td><td>109</td><td>4.11</td><td>2.780</td><td>18.60</td><td>1</td><td>1</td><td>4</td><td>2</td></tr>\n",
       "</tbody>\n",
       "</table>\n"
      ],
      "text/latex": [
       "A data.frame: 32 × 11\n",
       "\\begin{tabular}{r|lllllllllll}\n",
       "  & mpg & cyl & disp & hp & drat & wt & qsec & vs & am & gear & carb\\\\\n",
       "  & <dbl> & <dbl> & <dbl> & <dbl> & <dbl> & <dbl> & <dbl> & <dbl> & <dbl> & <dbl> & <dbl>\\\\\n",
       "\\hline\n",
       "\tMazda RX4 & 21.0 & 6 & 160.0 & 110 & 3.90 & 2.620 & 16.46 & 0 & 1 & 4 & 4\\\\\n",
       "\tMazda RX4 Wag & 21.0 & 6 & 160.0 & 110 & 3.90 & 2.875 & 17.02 & 0 & 1 & 4 & 4\\\\\n",
       "\tDatsun 710 & 22.8 & 4 & 108.0 &  93 & 3.85 & 2.320 & 18.61 & 1 & 1 & 4 & 1\\\\\n",
       "\tHornet 4 Drive & 21.4 & 6 & 258.0 & 110 & 3.08 & 3.215 & 19.44 & 1 & 0 & 3 & 1\\\\\n",
       "\tHornet Sportabout & 18.7 & 8 & 360.0 & 175 & 3.15 & 3.440 & 17.02 & 0 & 0 & 3 & 2\\\\\n",
       "\tValiant & 18.1 & 6 & 225.0 & 105 & 2.76 & 3.460 & 20.22 & 1 & 0 & 3 & 1\\\\\n",
       "\tDuster 360 & 14.3 & 8 & 360.0 & 245 & 3.21 & 3.570 & 15.84 & 0 & 0 & 3 & 4\\\\\n",
       "\tMerc 240D & 24.4 & 4 & 146.7 &  62 & 3.69 & 3.190 & 20.00 & 1 & 0 & 4 & 2\\\\\n",
       "\tMerc 230 & 22.8 & 4 & 140.8 &  95 & 3.92 & 3.150 & 22.90 & 1 & 0 & 4 & 2\\\\\n",
       "\tMerc 280 & 19.2 & 6 & 167.6 & 123 & 3.92 & 3.440 & 18.30 & 1 & 0 & 4 & 4\\\\\n",
       "\tMerc 280C & 17.8 & 6 & 167.6 & 123 & 3.92 & 3.440 & 18.90 & 1 & 0 & 4 & 4\\\\\n",
       "\tMerc 450SE & 16.4 & 8 & 275.8 & 180 & 3.07 & 4.070 & 17.40 & 0 & 0 & 3 & 3\\\\\n",
       "\tMerc 450SL & 17.3 & 8 & 275.8 & 180 & 3.07 & 3.730 & 17.60 & 0 & 0 & 3 & 3\\\\\n",
       "\tMerc 450SLC & 15.2 & 8 & 275.8 & 180 & 3.07 & 3.780 & 18.00 & 0 & 0 & 3 & 3\\\\\n",
       "\tCadillac Fleetwood & 10.4 & 8 & 472.0 & 205 & 2.93 & 5.250 & 17.98 & 0 & 0 & 3 & 4\\\\\n",
       "\tLincoln Continental & 10.4 & 8 & 460.0 & 215 & 3.00 & 5.424 & 17.82 & 0 & 0 & 3 & 4\\\\\n",
       "\tChrysler Imperial & 14.7 & 8 & 440.0 & 230 & 3.23 & 5.345 & 17.42 & 0 & 0 & 3 & 4\\\\\n",
       "\tFiat 128 & 32.4 & 4 &  78.7 &  66 & 4.08 & 2.200 & 19.47 & 1 & 1 & 4 & 1\\\\\n",
       "\tHonda Civic & 30.4 & 4 &  75.7 &  52 & 4.93 & 1.615 & 18.52 & 1 & 1 & 4 & 2\\\\\n",
       "\tToyota Corolla & 33.9 & 4 &  71.1 &  65 & 4.22 & 1.835 & 19.90 & 1 & 1 & 4 & 1\\\\\n",
       "\tToyota Corona & 21.5 & 4 & 120.1 &  97 & 3.70 & 2.465 & 20.01 & 1 & 0 & 3 & 1\\\\\n",
       "\tDodge Challenger & 15.5 & 8 & 318.0 & 150 & 2.76 & 3.520 & 16.87 & 0 & 0 & 3 & 2\\\\\n",
       "\tAMC Javelin & 15.2 & 8 & 304.0 & 150 & 3.15 & 3.435 & 17.30 & 0 & 0 & 3 & 2\\\\\n",
       "\tCamaro Z28 & 13.3 & 8 & 350.0 & 245 & 3.73 & 3.840 & 15.41 & 0 & 0 & 3 & 4\\\\\n",
       "\tPontiac Firebird & 19.2 & 8 & 400.0 & 175 & 3.08 & 3.845 & 17.05 & 0 & 0 & 3 & 2\\\\\n",
       "\tFiat X1-9 & 27.3 & 4 &  79.0 &  66 & 4.08 & 1.935 & 18.90 & 1 & 1 & 4 & 1\\\\\n",
       "\tPorsche 914-2 & 26.0 & 4 & 120.3 &  91 & 4.43 & 2.140 & 16.70 & 0 & 1 & 5 & 2\\\\\n",
       "\tLotus Europa & 30.4 & 4 &  95.1 & 113 & 3.77 & 1.513 & 16.90 & 1 & 1 & 5 & 2\\\\\n",
       "\tFord Pantera L & 15.8 & 8 & 351.0 & 264 & 4.22 & 3.170 & 14.50 & 0 & 1 & 5 & 4\\\\\n",
       "\tFerrari Dino & 19.7 & 6 & 145.0 & 175 & 3.62 & 2.770 & 15.50 & 0 & 1 & 5 & 6\\\\\n",
       "\tMaserati Bora & 15.0 & 8 & 301.0 & 335 & 3.54 & 3.570 & 14.60 & 0 & 1 & 5 & 8\\\\\n",
       "\tVolvo 142E & 21.4 & 4 & 121.0 & 109 & 4.11 & 2.780 & 18.60 & 1 & 1 & 4 & 2\\\\\n",
       "\\end{tabular}\n"
      ],
      "text/markdown": [
       "\n",
       "A data.frame: 32 × 11\n",
       "\n",
       "| <!--/--> | mpg &lt;dbl&gt; | cyl &lt;dbl&gt; | disp &lt;dbl&gt; | hp &lt;dbl&gt; | drat &lt;dbl&gt; | wt &lt;dbl&gt; | qsec &lt;dbl&gt; | vs &lt;dbl&gt; | am &lt;dbl&gt; | gear &lt;dbl&gt; | carb &lt;dbl&gt; |\n",
       "|---|---|---|---|---|---|---|---|---|---|---|---|\n",
       "| Mazda RX4 | 21.0 | 6 | 160.0 | 110 | 3.90 | 2.620 | 16.46 | 0 | 1 | 4 | 4 |\n",
       "| Mazda RX4 Wag | 21.0 | 6 | 160.0 | 110 | 3.90 | 2.875 | 17.02 | 0 | 1 | 4 | 4 |\n",
       "| Datsun 710 | 22.8 | 4 | 108.0 |  93 | 3.85 | 2.320 | 18.61 | 1 | 1 | 4 | 1 |\n",
       "| Hornet 4 Drive | 21.4 | 6 | 258.0 | 110 | 3.08 | 3.215 | 19.44 | 1 | 0 | 3 | 1 |\n",
       "| Hornet Sportabout | 18.7 | 8 | 360.0 | 175 | 3.15 | 3.440 | 17.02 | 0 | 0 | 3 | 2 |\n",
       "| Valiant | 18.1 | 6 | 225.0 | 105 | 2.76 | 3.460 | 20.22 | 1 | 0 | 3 | 1 |\n",
       "| Duster 360 | 14.3 | 8 | 360.0 | 245 | 3.21 | 3.570 | 15.84 | 0 | 0 | 3 | 4 |\n",
       "| Merc 240D | 24.4 | 4 | 146.7 |  62 | 3.69 | 3.190 | 20.00 | 1 | 0 | 4 | 2 |\n",
       "| Merc 230 | 22.8 | 4 | 140.8 |  95 | 3.92 | 3.150 | 22.90 | 1 | 0 | 4 | 2 |\n",
       "| Merc 280 | 19.2 | 6 | 167.6 | 123 | 3.92 | 3.440 | 18.30 | 1 | 0 | 4 | 4 |\n",
       "| Merc 280C | 17.8 | 6 | 167.6 | 123 | 3.92 | 3.440 | 18.90 | 1 | 0 | 4 | 4 |\n",
       "| Merc 450SE | 16.4 | 8 | 275.8 | 180 | 3.07 | 4.070 | 17.40 | 0 | 0 | 3 | 3 |\n",
       "| Merc 450SL | 17.3 | 8 | 275.8 | 180 | 3.07 | 3.730 | 17.60 | 0 | 0 | 3 | 3 |\n",
       "| Merc 450SLC | 15.2 | 8 | 275.8 | 180 | 3.07 | 3.780 | 18.00 | 0 | 0 | 3 | 3 |\n",
       "| Cadillac Fleetwood | 10.4 | 8 | 472.0 | 205 | 2.93 | 5.250 | 17.98 | 0 | 0 | 3 | 4 |\n",
       "| Lincoln Continental | 10.4 | 8 | 460.0 | 215 | 3.00 | 5.424 | 17.82 | 0 | 0 | 3 | 4 |\n",
       "| Chrysler Imperial | 14.7 | 8 | 440.0 | 230 | 3.23 | 5.345 | 17.42 | 0 | 0 | 3 | 4 |\n",
       "| Fiat 128 | 32.4 | 4 |  78.7 |  66 | 4.08 | 2.200 | 19.47 | 1 | 1 | 4 | 1 |\n",
       "| Honda Civic | 30.4 | 4 |  75.7 |  52 | 4.93 | 1.615 | 18.52 | 1 | 1 | 4 | 2 |\n",
       "| Toyota Corolla | 33.9 | 4 |  71.1 |  65 | 4.22 | 1.835 | 19.90 | 1 | 1 | 4 | 1 |\n",
       "| Toyota Corona | 21.5 | 4 | 120.1 |  97 | 3.70 | 2.465 | 20.01 | 1 | 0 | 3 | 1 |\n",
       "| Dodge Challenger | 15.5 | 8 | 318.0 | 150 | 2.76 | 3.520 | 16.87 | 0 | 0 | 3 | 2 |\n",
       "| AMC Javelin | 15.2 | 8 | 304.0 | 150 | 3.15 | 3.435 | 17.30 | 0 | 0 | 3 | 2 |\n",
       "| Camaro Z28 | 13.3 | 8 | 350.0 | 245 | 3.73 | 3.840 | 15.41 | 0 | 0 | 3 | 4 |\n",
       "| Pontiac Firebird | 19.2 | 8 | 400.0 | 175 | 3.08 | 3.845 | 17.05 | 0 | 0 | 3 | 2 |\n",
       "| Fiat X1-9 | 27.3 | 4 |  79.0 |  66 | 4.08 | 1.935 | 18.90 | 1 | 1 | 4 | 1 |\n",
       "| Porsche 914-2 | 26.0 | 4 | 120.3 |  91 | 4.43 | 2.140 | 16.70 | 0 | 1 | 5 | 2 |\n",
       "| Lotus Europa | 30.4 | 4 |  95.1 | 113 | 3.77 | 1.513 | 16.90 | 1 | 1 | 5 | 2 |\n",
       "| Ford Pantera L | 15.8 | 8 | 351.0 | 264 | 4.22 | 3.170 | 14.50 | 0 | 1 | 5 | 4 |\n",
       "| Ferrari Dino | 19.7 | 6 | 145.0 | 175 | 3.62 | 2.770 | 15.50 | 0 | 1 | 5 | 6 |\n",
       "| Maserati Bora | 15.0 | 8 | 301.0 | 335 | 3.54 | 3.570 | 14.60 | 0 | 1 | 5 | 8 |\n",
       "| Volvo 142E | 21.4 | 4 | 121.0 | 109 | 4.11 | 2.780 | 18.60 | 1 | 1 | 4 | 2 |\n",
       "\n"
      ],
      "text/plain": [
       "                    mpg  cyl disp  hp  drat wt    qsec  vs am gear carb\n",
       "Mazda RX4           21.0 6   160.0 110 3.90 2.620 16.46 0  1  4    4   \n",
       "Mazda RX4 Wag       21.0 6   160.0 110 3.90 2.875 17.02 0  1  4    4   \n",
       "Datsun 710          22.8 4   108.0  93 3.85 2.320 18.61 1  1  4    1   \n",
       "Hornet 4 Drive      21.4 6   258.0 110 3.08 3.215 19.44 1  0  3    1   \n",
       "Hornet Sportabout   18.7 8   360.0 175 3.15 3.440 17.02 0  0  3    2   \n",
       "Valiant             18.1 6   225.0 105 2.76 3.460 20.22 1  0  3    1   \n",
       "Duster 360          14.3 8   360.0 245 3.21 3.570 15.84 0  0  3    4   \n",
       "Merc 240D           24.4 4   146.7  62 3.69 3.190 20.00 1  0  4    2   \n",
       "Merc 230            22.8 4   140.8  95 3.92 3.150 22.90 1  0  4    2   \n",
       "Merc 280            19.2 6   167.6 123 3.92 3.440 18.30 1  0  4    4   \n",
       "Merc 280C           17.8 6   167.6 123 3.92 3.440 18.90 1  0  4    4   \n",
       "Merc 450SE          16.4 8   275.8 180 3.07 4.070 17.40 0  0  3    3   \n",
       "Merc 450SL          17.3 8   275.8 180 3.07 3.730 17.60 0  0  3    3   \n",
       "Merc 450SLC         15.2 8   275.8 180 3.07 3.780 18.00 0  0  3    3   \n",
       "Cadillac Fleetwood  10.4 8   472.0 205 2.93 5.250 17.98 0  0  3    4   \n",
       "Lincoln Continental 10.4 8   460.0 215 3.00 5.424 17.82 0  0  3    4   \n",
       "Chrysler Imperial   14.7 8   440.0 230 3.23 5.345 17.42 0  0  3    4   \n",
       "Fiat 128            32.4 4    78.7  66 4.08 2.200 19.47 1  1  4    1   \n",
       "Honda Civic         30.4 4    75.7  52 4.93 1.615 18.52 1  1  4    2   \n",
       "Toyota Corolla      33.9 4    71.1  65 4.22 1.835 19.90 1  1  4    1   \n",
       "Toyota Corona       21.5 4   120.1  97 3.70 2.465 20.01 1  0  3    1   \n",
       "Dodge Challenger    15.5 8   318.0 150 2.76 3.520 16.87 0  0  3    2   \n",
       "AMC Javelin         15.2 8   304.0 150 3.15 3.435 17.30 0  0  3    2   \n",
       "Camaro Z28          13.3 8   350.0 245 3.73 3.840 15.41 0  0  3    4   \n",
       "Pontiac Firebird    19.2 8   400.0 175 3.08 3.845 17.05 0  0  3    2   \n",
       "Fiat X1-9           27.3 4    79.0  66 4.08 1.935 18.90 1  1  4    1   \n",
       "Porsche 914-2       26.0 4   120.3  91 4.43 2.140 16.70 0  1  5    2   \n",
       "Lotus Europa        30.4 4    95.1 113 3.77 1.513 16.90 1  1  5    2   \n",
       "Ford Pantera L      15.8 8   351.0 264 4.22 3.170 14.50 0  1  5    4   \n",
       "Ferrari Dino        19.7 6   145.0 175 3.62 2.770 15.50 0  1  5    6   \n",
       "Maserati Bora       15.0 8   301.0 335 3.54 3.570 14.60 0  1  5    8   \n",
       "Volvo 142E          21.4 4   121.0 109 4.11 2.780 18.60 1  1  4    2   "
      ]
     },
     "metadata": {},
     "output_type": "display_data"
    }
   ],
   "source": [
    "View(mtcars)"
   ]
  },
  {
   "cell_type": "code",
   "execution_count": null,
   "id": "c0e57f5a",
   "metadata": {},
   "outputs": [],
   "source": []
  }
 ],
 "metadata": {
  "hide_input": false,
  "kernelspec": {
   "display_name": "R",
   "language": "R",
   "name": "ir"
  },
  "language_info": {
   "codemirror_mode": "r",
   "file_extension": ".r",
   "mimetype": "text/x-r-source",
   "name": "R",
   "pygments_lexer": "r",
   "version": "4.1.0"
  },
  "toc": {
   "base_numbering": 1,
   "nav_menu": {},
   "number_sections": true,
   "sideBar": true,
   "skip_h1_title": false,
   "title_cell": "Table of Contents",
   "title_sidebar": "Contents",
   "toc_cell": false,
   "toc_position": {
    "height": "calc(100% - 180px)",
    "left": "10px",
    "top": "150px",
    "width": "253.723px"
   },
   "toc_section_display": true,
   "toc_window_display": false
  }
 },
 "nbformat": 4,
 "nbformat_minor": 5
}
