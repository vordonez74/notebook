{
 "cells": [
  {
   "cell_type": "markdown",
   "id": "1842c3bb",
   "metadata": {},
   "source": [
    "# [IA NOTEBOOK](https://youtu.be/w2RJ1D6kz-o)\n",
    "\n",
    "## library for machine learning\n",
    "[tutorial sklearn](https://www.tutorialspoint.com/scikit_learn/index.htm)"
   ]
  },
  {
   "cell_type": "code",
   "execution_count": 2,
   "id": "7b226bcd",
   "metadata": {},
   "outputs": [],
   "source": [
    "import numpy as np\n",
    "import matplotlib.pyplot as plt"
   ]
  },
  {
   "cell_type": "code",
   "execution_count": 4,
   "id": "5401a0a2",
   "metadata": {},
   "outputs": [],
   "source": [
    "#Para usar la libreria se debe instalar: pip install -U scikit-learn\n",
    "from sklearn.datasets import load_boston"
   ]
  },
  {
   "cell_type": "code",
   "execution_count": null,
   "id": "84957060",
   "metadata": {},
   "outputs": [],
   "source": []
  }
 ],
 "metadata": {
  "kernelspec": {
   "display_name": "Python 3 (ipykernel)",
   "language": "python",
   "name": "python3"
  },
  "language_info": {
   "codemirror_mode": {
    "name": "ipython",
    "version": 3
   },
   "file_extension": ".py",
   "mimetype": "text/x-python",
   "name": "python",
   "nbconvert_exporter": "python",
   "pygments_lexer": "ipython3",
   "version": "3.10.2"
  }
 },
 "nbformat": 4,
 "nbformat_minor": 5
}
