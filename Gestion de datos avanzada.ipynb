{
 "cells": [
  {
   "cell_type": "code",
   "execution_count": null,
   "id": "d8d8958e",
   "metadata": {},
   "outputs": [],
   "source": [
    "import numpy as np\n",
    "import pandas as pd\n",
    "df = pd.read_csv(\"C:/Users/ordonez/Documents/UCASAL/notebooks/base_datos_2008.csv\", nrows = 1000000)"
   ]
  },
  {
   "cell_type": "code",
   "execution_count": null,
   "id": "bb846ab9",
   "metadata": {},
   "outputs": [],
   "source": [
    "display(df)"
   ]
  },
  {
   "cell_type": "code",
   "execution_count": null,
   "id": "d849b271",
   "metadata": {},
   "outputs": [],
   "source": [
    "#borrar los nulos\n",
    "df.dropna(inplace=True, subset=[\"ArrDelay\",\"DepDelay\"])"
   ]
  },
  {
   "cell_type": "code",
   "execution_count": null,
   "id": "b64b118e",
   "metadata": {},
   "outputs": [],
   "source": [
    "df.dropna(inplace=True, subset=[\"DepTime\"])"
   ]
  },
  {
   "cell_type": "code",
   "execution_count": null,
   "id": "2d8a8cbd",
   "metadata": {},
   "outputs": [],
   "source": [
    "np.corrcoef([df[\"ArrDelay\"],df[\"DepDelay\"]])"
   ]
  },
  {
   "cell_type": "code",
   "execution_count": null,
   "id": "965d84f5",
   "metadata": {},
   "outputs": [],
   "source": [
    "np.corrcoef([df[\"ArrDelay\"],df[\"DepDelay\"],df[\"DepTime\"]])"
   ]
  },
  {
   "cell_type": "code",
   "execution_count": null,
   "id": "bb3376ef",
   "metadata": {},
   "outputs": [],
   "source": [
    "df.drop(inplace=True, columns = [\"Year\",\"Cancelled\",\"Diverted\"])"
   ]
  },
  {
   "cell_type": "code",
   "execution_count": null,
   "id": "0b745309",
   "metadata": {},
   "outputs": [],
   "source": [
    "df.drop(inplace=True, columns = [\"Month\"])"
   ]
  },
  {
   "cell_type": "code",
   "execution_count": null,
   "id": "3cff4764",
   "metadata": {},
   "outputs": [],
   "source": [
    "df.corr()"
   ]
  },
  {
   "cell_type": "code",
   "execution_count": null,
   "id": "e7a5790d",
   "metadata": {},
   "outputs": [],
   "source": [
    "corr = round(df.corr(),3)"
   ]
  },
  {
   "cell_type": "markdown",
   "id": "9042cead",
   "metadata": {},
   "source": [
    "### Para crear la matriz de coorrelación es necesario instalar matplotlib"
   ]
  },
  {
   "cell_type": "code",
   "execution_count": null,
   "id": "7483853e",
   "metadata": {},
   "outputs": [],
   "source": [
    "corr.style.background_gradient()"
   ]
  },
  {
   "cell_type": "markdown",
   "id": "4152f0d7",
   "metadata": {},
   "source": [
    "# Test de chi-Cuadrado\n",
    "Criterio para encontrar relación entre variables cualitativas\n",
    "- Se utiliza para comparar proporciones\n",
    "- Se basa sobre el análisis de variables cualtitativas\n",
    "- Nos va a decir si una tasa es diferente a otra y si esta diferencia es estadisticamente significativa\n",
    "- Para calcularla nos auxiliamos de las **tablas de contingecia**\n",
    "$$X^2=\\sum_{i=1}^k \\frac{(observado_i - esperado_i)^2}{esperado_i}$$"
   ]
  },
  {
   "cell_type": "code",
   "execution_count": null,
   "id": "86db59d7",
   "metadata": {},
   "outputs": [],
   "source": [
    "import pandas as pd\n",
    "import numpy as np\n",
    "import time\n",
    "start = time.time()\n",
    "df = pd.read_csv(\"C:/Users/ordonez/Documents/UCASAL/notebooks/base_datos_2008.csv\")\n",
    "end = time.time()\n",
    "print(f\"Se tardó {round(end-start,2)} segundos en cargar {len(df)} registros.\")"
   ]
  },
  {
   "cell_type": "code",
   "execution_count": null,
   "id": "f7e2ce56",
   "metadata": {},
   "outputs": [],
   "source": [
    "np.random.seed(0)\n",
    "df = df[df[\"Origin\"].isin([\"HOU\",\"ATL\",\"IND\"])]\n",
    "df = df.sample(frac=1)\n",
    "df = df[0:10000]"
   ]
  },
  {
   "cell_type": "code",
   "execution_count": null,
   "id": "0873c8a4",
   "metadata": {},
   "outputs": [],
   "source": [
    "df[\"BigDelay\"] = df[\"ArrDelay\"] > 30\n",
    "observados = pd.crosstab(index=df['BigDelay'],columns=df['Origin'], margins=True)"
   ]
  },
  {
   "cell_type": "code",
   "execution_count": null,
   "id": "4e765080",
   "metadata": {},
   "outputs": [],
   "source": [
    "observados"
   ]
  },
  {
   "cell_type": "code",
   "execution_count": null,
   "id": "9a7618b8",
   "metadata": {},
   "outputs": [],
   "source": []
  }
 ],
 "metadata": {
  "kernelspec": {
   "display_name": "Python 3 (ipykernel)",
   "language": "python",
   "name": "python3"
  },
  "language_info": {
   "codemirror_mode": {
    "name": "ipython",
    "version": 3
   },
   "file_extension": ".py",
   "mimetype": "text/x-python",
   "name": "python",
   "nbconvert_exporter": "python",
   "pygments_lexer": "ipython3",
   "version": "3.10.2"
  }
 },
 "nbformat": 4,
 "nbformat_minor": 5
}
