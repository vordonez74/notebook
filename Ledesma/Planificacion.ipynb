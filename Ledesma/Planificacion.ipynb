{
 "cells": [
  {
   "cell_type": "code",
   "execution_count": 1,
   "id": "24d677e4",
   "metadata": {},
   "outputs": [],
   "source": [
    "import pandas as pd\n",
    "import numpy as np\n",
    "import sqlite3 as sql\n",
    "import time\n",
    "import datetime"
   ]
  },
  {
   "cell_type": "markdown",
   "id": "66658373",
   "metadata": {},
   "source": [
    "# Creamos la base de dato"
   ]
  },
  {
   "cell_type": "code",
   "execution_count": 2,
   "id": "a26e6b2d",
   "metadata": {},
   "outputs": [],
   "source": [
    "conn = sql.connect(\"planificacion.db\")\n",
    "conn.commit()\n",
    "conn.close()"
   ]
  },
  {
   "cell_type": "markdown",
   "id": "6d1994a3",
   "metadata": {},
   "source": [
    "## Creamos las tablas actualizables"
   ]
  },
  {
   "cell_type": "code",
   "execution_count": 3,
   "id": "88bf38a7",
   "metadata": {},
   "outputs": [
    {
     "name": "stdout",
     "output_type": "stream",
     "text": [
      "Listo\n"
     ]
    }
   ],
   "source": [
    "conn = sql.connect(\"planificacion.db\")\n",
    "cursor = conn.cursor()\n",
    "instruccion = f\"CREATE TABLE Material(Material text,UM text,stock real,ptoPedSap real,Max real,TamLote real,Cap text,Texto text,Cod text,Ce text,Alm text,PrMedioVar real,Jquia text,GrupoArt text,GrupoArt2 text,Gcp text,CantBase real,ABC text,Creado date,Critico text,Redondeo real,Parte text,Pze integer)\"\n",
    "cursor.execute(instruccion)\n",
    "\n",
    "instruccion = f\"CREATE TABLE Pedido(Material text,Centro text,Alm text,cl text,Doc text,FechDoc date,Um text,Pos text,Cant real,GrupoCom text,Prov text,CantBase real,NroNec text,TipoImp text,Borrado text,Contrato text,Ref text)\"\n",
    "cursor.execute(instruccion)\n",
    "\n",
    "instruccion = f\"CREATE TABLE Bloq(Material text,Mov text,Cantidad real,Centro text,FechContab date,Pedido text,Referencia text,Proveedor text)\"\n",
    "cursor.execute(instruccion)\n",
    "\n",
    "instruccion = f\"CREATE TABLE Reserva(Material text,Mov text,NroRes text,User text,Ce text,Alm text,CeRec text,AlmRec text,FechBase date,FechNec date,CantDif real,Um text,Pos integer,CantNec real,CantRed real)\"\n",
    "cursor.execute(instruccion)\n",
    "\n",
    "instruccion = f\"CREATE TABLE Zub(Material text,Cl text,Causante text,Creador text,CeSum text,CeDes text,Creado date,Entrega date,CantPend real,Um text,Pos integer,Org text,CantPed real,CantEntr text)\"\n",
    "cursor.execute(instruccion)\n",
    "\n",
    "instruccion = f\"CREATE TABLE Zor(Material text,Ce text,Alm text,CDoc text,Solped text,FechSol date,Um text,Pos integer,Cant real,GrupoCom text,Solicitante text,Cesta text,Pedido text,GCp text,Lib text)\"\n",
    "cursor.execute(instruccion)\n",
    "\n",
    "instruccion = f\"CREATE TABLE Contrato(Material text,Doc text,Pos integer,GrupoCom text,Ce text,Alm text,Cl text,FechDoc date,InPerValidez date,FinPerValidez date,CantPrev real,CantPrevPen real,Prov text,Incompleto text,Borrado text,IndLib text,ValPenTot real,Moneda text,PrecioNeto real,Um text,ValPrev real)\"\n",
    "cursor.execute(instruccion)\n",
    "\n",
    "\n",
    "instruccion = f\"CREATE TABLE Consumo(Fecha date,Material text,Mov text,Alm text,CeRec text,Res text,DH text,Salida real)\"\n",
    "cursor.execute(instruccion)\n",
    "\n",
    "conn.commit()\n",
    "conn.close()\n",
    "print('Listo')"
   ]
  },
  {
   "cell_type": "markdown",
   "id": "95610678",
   "metadata": {},
   "source": [
    "## Carga de consumosMicro(Solo una vez)"
   ]
  },
  {
   "cell_type": "code",
   "execution_count": 35,
   "id": "0225309a",
   "metadata": {},
   "outputs": [
    {
     "name": "stdout",
     "output_type": "stream",
     "text": [
      "Se importo ConsumoMicro (733597 registros/1.6 minutos\n",
      "Listo\n"
     ]
    }
   ],
   "source": [
    "#start = time.time()\n",
    "#Consumo = pd.read_excel(\"C:/Users/ordonez/Documents/SAP/SAP GUI/ConsumosMicro.xlsx\")\n",
    "#end = time.time()\n",
    "#print(f\"Se importo ConsumoMicro ({len(Consumo)} registros/{round((end - start)/60,1)} minutos\")\n",
    "#print('Listo')"
   ]
  },
  {
   "cell_type": "code",
   "execution_count": 42,
   "id": "f7691b57",
   "metadata": {},
   "outputs": [],
   "source": [
    "#conn = sql.connect(\"planificacion.db\")\n",
    "#Consumo.to_sql('Consumo',conn,if_exists='replace',index=False)\n",
    "#conn.close()"
   ]
  },
  {
   "cell_type": "markdown",
   "id": "1c137423",
   "metadata": {},
   "source": [
    "## Actualización de los consumos (CONSUMOS_DIARIOS.xlsx)"
   ]
  },
  {
   "cell_type": "code",
   "execution_count": 87,
   "id": "9730077a",
   "metadata": {},
   "outputs": [
    {
     "name": "stdout",
     "output_type": "stream",
     "text": [
      "No es necesario actualizar\n",
      "\n",
      "Fecha de actualización 2022-07-08 00:00:00 y fecha de la última actualización 2022-07-09 00:00:00\n"
     ]
    },
    {
     "name": "stderr",
     "output_type": "stream",
     "text": [
      "C:\\Users\\ordonez\\AppData\\Local\\Packages\\PythonSoftwareFoundation.Python.3.10_qbz5n2kfra8p0\\LocalCache\\local-packages\\Python310\\site-packages\\openpyxl\\styles\\stylesheet.py:226: UserWarning: Workbook contains no default style, apply openpyxl's default\n",
      "  warn(\"Workbook contains no default style, apply openpyxl's default\")\n"
     ]
    }
   ],
   "source": [
    "#Última actualización\n",
    "def ultimaActualizacion():\n",
    "    datos=\"          \"\n",
    "    consulta =f\"SELECT * FROM Consumo ORDER BY Fecha DESC LIMIT 1\"\n",
    "    conn = sql.connect(\"planificacion.db\")\n",
    "    cursor = conn.cursor()\n",
    "    cursor.execute(consulta)\n",
    "    datos = cursor.fetchall()\n",
    "    conn.commit()\n",
    "    conn.close()\n",
    "    return datetime.datetime.strptime(datos[0][0][:10], \"%Y-%m-%d\")\n",
    "\n",
    "def a_fecha(cadena):\n",
    "    fecha = cadena[0:2:1]+ '/' + cadena[3:5:1] + '/' + cadena[8:10:1]\n",
    "    return pd.to_datetime(fecha,format='%d/%m/%y')\n",
    "\n",
    "FechUltActua = ultimaActualizacion()\n",
    "\n",
    "archivo = 'C:/Users/ordonez/Documents/SAP/SAP GUI/CONSUMOS_DIARIOS.xlsx'\n",
    "tipos = {'Número de Reserva Nivel 01':str,\n",
    "         'Mov':str, 'Alm':str, 'CenRec':str\n",
    "        }\n",
    "consumoAct = pd.read_excel(archivo,header=[2],dtype = tipos)\n",
    "consumoAct.columns = ['Fecha','Material','Mov','Alm','CeRec','Res','DH','Salida']\n",
    "consumoAct['Fecha'] = consumoAct['Fecha'].apply(a_fecha)\n",
    "fechActua = (consumoAct.loc[consumoAct.index[1], \"Fecha\"]).to_pydatetime() #fecha de la actualización\n",
    "if fechActua>FechUltActua:\n",
    "    #Actualiza la base de dato\n",
    "    conn = sql.connect(\"planificacion.db\")\n",
    "    consumoAct.to_sql('Consumo',conn,if_exists='append',index=False)\n",
    "    conn.close()\n",
    "    print(\"Se actualizo la tabla Consumo.\")\n",
    "else:\n",
    "    print(\"No es necesario actualizar\\n\")\n",
    "    print(f\"Fecha de actualización {fechActua} y fecha de la última actualización {FechUltActua}\")"
   ]
  },
  {
   "cell_type": "markdown",
   "id": "76089095",
   "metadata": {},
   "source": [
    "## Importa y carga los reportes de SAP (M, P, B, R, Z, S y C) a la DB"
   ]
  },
  {
   "cell_type": "code",
   "execution_count": 2,
   "id": "0a678261",
   "metadata": {},
   "outputs": [
    {
     "name": "stdout",
     "output_type": "stream",
     "text": [
      "Se importo M (28853 registros/11.6 segundos)\n",
      "Se importo P (3228 registros/0.8 segundos)\n",
      "Se importo B (37241 registros/3.8 segundos)\n",
      "Se importo R (1468 registros/0.3 segundos)\n",
      "Se importo Z (755 registros/0.2 segundos)\n",
      "Se importo S (2130 registros/0.4 segundos)\n",
      "Se importo C (3557 registros/1.0 segundos)\n",
      "Listo\n"
     ]
    }
   ],
   "source": [
    "start = time.time()\n",
    "Material = pd.read_excel(\"C:/Users/ordonez/Documents/SAP/SAP GUI/M.xlsx\")\n",
    "end = time.time()\n",
    "#Borrar los materiales de los almacenes 1140 y 1142 del centro 1002\n",
    "indexABorrar = Material[(Material['Ce.']==1002) & (Material['Almacén'].isin(['1141','1140']))].index\n",
    "Material.drop(indexABorrar, inplace=True)\n",
    "Material.columns =['Material','UM','stock','ptoPedSap','Max','TamLote','Cap','Texto','Cod','Ce','Alm','PrMedioVar','Jquia','GrupoArt','GrupoArt2','Gcp','CantBase','ABC','Creado','Critico','Redondeo','Parte','Pze'] \n",
    "print(f\"Se importo M ({len(Material)} registros/{round(end - start,1)} segundos)\")\n",
    "\n",
    "\n",
    "start = time.time()\n",
    "Pedido = pd.read_excel(\"C:/Users/ordonez/Documents/SAP/SAP GUI/P.xlsx\")\n",
    "end = time.time()\n",
    "Pedido.columns = ['Material','Centro','Alm','cl','Doc','FechDoc','Um','Pos','Cant','GrupoCom','Prov','CantBase','NroNec','TipoImp','Borrado','Contrato','Ref']\n",
    "print(f\"Se importo P ({len(Pedido)} registros/{round(end - start,1)} segundos)\")\n",
    "\n",
    "start = time.time()\n",
    "Bloq = pd.read_excel(\"C:/Users/ordonez/Documents/SAP/SAP GUI/B.xlsx\")\n",
    "end = time.time()\n",
    "Bloq.columns = ['Material','Mov','Cantidad','Centro','FechContab','Pedido','Referencia','Proveedor']\n",
    "print(f\"Se importo B ({len(Bloq)} registros/{round(end - start,1)} segundos)\")\n",
    "\n",
    "start = time.time()\n",
    "Reserva = pd.read_excel(\"C:/Users/ordonez/Documents/SAP/SAP GUI/R.xlsx\")\n",
    "end = time.time()\n",
    "Reserva.columns = ['Material','Mov','NroRes','User','Ce','Alm','CeRec','AlmRec','FechBase','FechNec','CantDif','Um','Pos','CantNec','CantRed']\n",
    "print(f\"Se importo R ({len(Reserva)} registros/{round(end - start,1)} segundos)\")\n",
    "\n",
    "start = time.time()\n",
    "Zub = pd.read_excel(\"C:/Users/ordonez/Documents/SAP/SAP GUI/Z.xlsx\")\n",
    "end = time.time()\n",
    "Zub.drop(['Semáforo'],axis=1,inplace=True)\n",
    "Zub.columns = ['Material','Cl','Causante','Creador','CeSum','CeDes','Creado','Entrega','CantPend','Um','Pos','Org','CantPed','CantEntr']\n",
    "print(f\"Se importo Z ({len(Zub)} registros/{round(end - start,1)} segundos)\")\n",
    "\n",
    "start = time.time()\n",
    "Zor = pd.read_excel(\"C:/Users/ordonez/Documents/SAP/SAP GUI/S.xlsx\")\n",
    "end = time.time()\n",
    "Zor.columns = ['Material','Ce','Alm','CDoc','Solped','FechSol','Um','Pos','Cant','GrupoCom','Solicitante','Cesta','Pedido','GCp','Lib']\n",
    "print(f\"Se importo S ({len(Zor)} registros/{round(end - start,1)} segundos)\")\n",
    "\n",
    "start = time.time()\n",
    "Contrato = pd.read_excel(\"C:/Users/ordonez/Documents/SAP/SAP GUI/C.xlsx\")\n",
    "end = time.time()\n",
    "Contrato.columns = ['Material','Doc','Pos','GrupoCom','Ce','Alm','Cl','FechDoc','InPerValidez','FinPerValidez','CantPrev','CantPrevPen','Prov','Incompleto','Borrado','IndLib','ValPenTot','Moneda','PrecioNeto','Um','ValPrev']\n",
    "print(f\"Se importo C ({len(Contrato)} registros/{round(end - start,1)} segundos)\")\n",
    "\n",
    "#Carga reportes SAP a la DB\n",
    "conn = sql.connect(\"planificacion.db\")\n",
    "Material.to_sql('Material',conn,if_exists='replace',index=False)\n",
    "Pedido.to_sql('Pedido',conn,if_exists='replace',index=False)\n",
    "Bloq.to_sql('Bloq',conn,if_exists='replace',index=False)\n",
    "Reserva.to_sql('Reserva',conn,if_exists='replace',index=False)\n",
    "Zub.to_sql('Zub',conn,if_exists='replace',index=False)\n",
    "Zor.to_sql('Zor',conn,if_exists='replace',index=False)\n",
    "Contrato.to_sql('Contrato',conn,if_exists='replace',index=False)\n",
    "conn.close()\n",
    "print(\"Listo\")"
   ]
  },
  {
   "cell_type": "code",
   "execution_count": 8,
   "id": "8256da93",
   "metadata": {},
   "outputs": [],
   "source": [
    "def query(consulta):\n",
    "    conn = sql.connect(\"planificacion.db\")\n",
    "    cursor = conn.cursor()\n",
    "    cursor.execute(consulta)\n",
    "    data = cursor.fetchall()\n",
    "    conn.commit()\n",
    "    conn.close()\n",
    "    return data"
   ]
  },
  {
   "cell_type": "markdown",
   "id": "1a37a5ca",
   "metadata": {},
   "source": [
    "# Disponibilidad"
   ]
  },
  {
   "cell_type": "code",
   "execution_count": 21,
   "id": "da63a68e",
   "metadata": {},
   "outputs": [],
   "source": [
    "#query(f\"SELECT Material,sum(Cant) FROM Zor GROUP BY Material\")\n",
    "#query(f\"SELECT Material,sum(CantPend) FROM Zub GROUP BY Material\")\n",
    "#query(f\"SELECT Material,sum(CantDif) FROM Reserva GROUP BY Material\")\n",
    "#query(f\"SELECT Material,sum(stock) FROM Material GROUP BY Material\")\n",
    "#query(f\"SELECT Material,sum(Cant) FROM Pedido GROUP BY Material\")"
   ]
  },
  {
   "cell_type": "code",
   "execution_count": 30,
   "id": "dcc10df9",
   "metadata": {},
   "outputs": [],
   "source": [
    "#query(f\"SELECT Material,sum(Cantidad) FROM Bloq where Mov='103' GROUP BY Material\")\n",
    "#query(f\"SELECT Material,sum(Cantidad) FROM Bloq where Mov='104' GROUP BY Material\")\n",
    "#query(f\"SELECT Material,sum(Cantidad) FROM Bloq where Mov='105' GROUP BY Material\")\n",
    "#query(f\"SELECT Material,sum(Cantidad) FROM Bloq where Mov='106' GROUP BY Material\")"
   ]
  },
  {
   "cell_type": "code",
   "execution_count": 49,
   "id": "5fd45df9",
   "metadata": {},
   "outputs": [
    {
     "ename": "OperationalError",
     "evalue": "near \"(\": syntax error",
     "output_type": "error",
     "traceback": [
      "\u001b[1;31m---------------------------------------------------------------------------\u001b[0m",
      "\u001b[1;31mOperationalError\u001b[0m                          Traceback (most recent call last)",
      "Input \u001b[1;32mIn [49]\u001b[0m, in \u001b[0;36m<module>\u001b[1;34m\u001b[0m\n\u001b[0;32m      1\u001b[0m consulta \u001b[38;5;241m=\u001b[39m \u001b[38;5;124m\"\"\"\u001b[39m\u001b[38;5;124m(SELECT Bloq.Material,M103.M103,M104.M104 FROM Bloq left join \u001b[39m\n\u001b[0;32m      2\u001b[0m \u001b[38;5;124m            (SELECT Material,sum(Cantidad) as M103 FROM Bloq where Mov=\u001b[39m\u001b[38;5;124m'\u001b[39m\u001b[38;5;124m103\u001b[39m\u001b[38;5;124m'\u001b[39m\u001b[38;5;124m GROUP BY Material) M103 on Bloq.Material=M103.Material) left join\u001b[39m\n\u001b[0;32m      3\u001b[0m \u001b[38;5;124m            (SELECT Material,sum(Cantidad) as M103 FROM Bloq where Mov=\u001b[39m\u001b[38;5;124m'\u001b[39m\u001b[38;5;124m104\u001b[39m\u001b[38;5;124m'\u001b[39m\u001b[38;5;124m GROUP BY Material) M104 on Bloq.Material=M104.Material\u001b[39m\n\u001b[0;32m      4\u001b[0m \u001b[38;5;124m\"\"\"\u001b[39m\n\u001b[1;32m----> 5\u001b[0m \u001b[43mquery\u001b[49m\u001b[43m(\u001b[49m\u001b[43mconsulta\u001b[49m\u001b[43m)\u001b[49m\n",
      "Input \u001b[1;32mIn [8]\u001b[0m, in \u001b[0;36mquery\u001b[1;34m(consulta)\u001b[0m\n\u001b[0;32m      2\u001b[0m conn \u001b[38;5;241m=\u001b[39m sql\u001b[38;5;241m.\u001b[39mconnect(\u001b[38;5;124m\"\u001b[39m\u001b[38;5;124mplanificacion.db\u001b[39m\u001b[38;5;124m\"\u001b[39m)\n\u001b[0;32m      3\u001b[0m cursor \u001b[38;5;241m=\u001b[39m conn\u001b[38;5;241m.\u001b[39mcursor()\n\u001b[1;32m----> 4\u001b[0m \u001b[43mcursor\u001b[49m\u001b[38;5;241;43m.\u001b[39;49m\u001b[43mexecute\u001b[49m\u001b[43m(\u001b[49m\u001b[43mconsulta\u001b[49m\u001b[43m)\u001b[49m\n\u001b[0;32m      5\u001b[0m data \u001b[38;5;241m=\u001b[39m cursor\u001b[38;5;241m.\u001b[39mfetchall()\n\u001b[0;32m      6\u001b[0m conn\u001b[38;5;241m.\u001b[39mcommit()\n",
      "\u001b[1;31mOperationalError\u001b[0m: near \"(\": syntax error"
     ]
    }
   ],
   "source": [
    "consulta = \"\"\"(SELECT Bloq.Material,M103.M103,M104.M104 FROM Bloq left join \n",
    "            (SELECT Material,sum(Cantidad) as M103 FROM Bloq where Mov='103' GROUP BY Material) M103 on Bloq.Material=M103.Material) left join\n",
    "            (SELECT Material,sum(Cantidad) as M103 FROM Bloq where Mov='104' GROUP BY Material) M104 on Bloq.Material=M104.Material\n",
    "\"\"\"\n",
    "query(consulta)"
   ]
  },
  {
   "cell_type": "code",
   "execution_count": 44,
   "id": "3aacadf5",
   "metadata": {},
   "outputs": [
    {
     "data": {
      "text/plain": [
       "'SELECT Material,sum(Cant) FROM zor GROUP BY Material'"
      ]
     },
     "execution_count": 44,
     "metadata": {},
     "output_type": "execute_result"
    }
   ],
   "source": [
    "consulta"
   ]
  },
  {
   "cell_type": "code",
   "execution_count": null,
   "id": "357d8e90",
   "metadata": {},
   "outputs": [],
   "source": []
  }
 ],
 "metadata": {
  "hide_input": false,
  "kernelspec": {
   "display_name": "Python 3 (ipykernel)",
   "language": "python",
   "name": "python3"
  },
  "language_info": {
   "codemirror_mode": {
    "name": "ipython",
    "version": 3
   },
   "file_extension": ".py",
   "mimetype": "text/x-python",
   "name": "python",
   "nbconvert_exporter": "python",
   "pygments_lexer": "ipython3",
   "version": "3.10.5"
  },
  "toc": {
   "base_numbering": 1,
   "nav_menu": {},
   "number_sections": true,
   "sideBar": true,
   "skip_h1_title": false,
   "title_cell": "Table of Contents",
   "title_sidebar": "Contents",
   "toc_cell": false,
   "toc_position": {
    "height": "calc(100% - 180px)",
    "left": "10px",
    "top": "150px",
    "width": "253.723px"
   },
   "toc_section_display": true,
   "toc_window_display": false
  }
 },
 "nbformat": 4,
 "nbformat_minor": 5
}
