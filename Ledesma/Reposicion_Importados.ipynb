{
 "cells": [
  {
   "cell_type": "markdown",
   "id": "7d0ceaee",
   "metadata": {},
   "source": [
    "# Reposición de importados\n",
    "(Fecha actual 27/05/2022)\n",
    "1. Descartar los materiales observados y con contrato\n",
    "3. Revisar CaP in(ND,PD) con reserva/ZUB\n",
    "2. Descartar CaP in(ND,PD) ult12=0 y consumo2021=0 y no nuevo y sin reservas/ZUB (sin importar si es crítico o no)\n",
    "3. Descartar materiales nuevos y disp>=MaxSap y ult12=0 y sin reservas/ZUB (Considerar nuevos con reservas/ZUB)\n",
    "4. Revisar nuevos y ult12>0\n",
    "5. Revisar CaP in(ND,PD) ult12=0 y consumo2021>0 y disp<consumo2021 (Considerar los PD de poco valor)\n",
    "6. Descartar CaP in(ND,PD) ult12>0 y disp>ult12 (Considerar los PD de poco valor)\n",
    "7. Descartar CaP=V1 y repoDiario=0 disp>=ult12 y desp>=2021 y disp>=maxSap\n",
    "8. Descartar críticos y ult12=0 y consumo2021=0 y disp>=maxSap\n",
    "9. Revisar críticos y ult12=0 y consumo2021=0 y disp>=ptoSap\n",
    "10. Descartar ult12=0 y consumo2021=0 y disp>=maxSAp\n",
    "11. Revisar ult12=0 y consumo2021=0 y disp<maxSAp que disp cubra lo que se consumió alguna vez\n",
    "12. Descartar repoDiario=0 disp>=maxSap y (disp cubra lo que se consumió alguna vez)\n",
    "\n",
    "Antes de emitir solped\n",
    "1. Revisar mail de los ND\n",
    "2. Chequear que no haya de la familia 62 (posible john deere)\n",
    "3. Revisar nuevamente los items A\n",
    "4. Revisar los máximos propuestos\n",
    "5. Revisar que las propuesta sea mayor %30 de un año\n",
    "6. Revisar redondeo\n"
   ]
  },
  {
   "cell_type": "code",
   "execution_count": 4,
   "id": "7e778e53",
   "metadata": {},
   "outputs": [
    {
     "data": {
      "text/plain": [
       "42"
      ]
     },
     "execution_count": 4,
     "metadata": {},
     "output_type": "execute_result"
    }
   ],
   "source": [
    "3*14\n"
   ]
  },
  {
   "cell_type": "code",
   "execution_count": null,
   "id": "f8d53e73",
   "metadata": {},
   "outputs": [],
   "source": []
  }
 ],
 "metadata": {
  "hide_input": false,
  "kernelspec": {
   "display_name": "Python 3 (ipykernel)",
   "language": "python",
   "name": "python3"
  },
  "language_info": {
   "codemirror_mode": {
    "name": "ipython",
    "version": 3
   },
   "file_extension": ".py",
   "mimetype": "text/x-python",
   "name": "python",
   "nbconvert_exporter": "python",
   "pygments_lexer": "ipython3",
   "version": "3.10.4"
  },
  "toc": {
   "base_numbering": 1,
   "nav_menu": {},
   "number_sections": true,
   "sideBar": true,
   "skip_h1_title": false,
   "title_cell": "Table of Contents",
   "title_sidebar": "Contents",
   "toc_cell": false,
   "toc_position": {},
   "toc_section_display": true,
   "toc_window_display": false
  }
 },
 "nbformat": 4,
 "nbformat_minor": 5
}
