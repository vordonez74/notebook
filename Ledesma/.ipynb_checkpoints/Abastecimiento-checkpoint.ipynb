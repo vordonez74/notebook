{
 "cells": [
  {
   "cell_type": "markdown",
   "id": "4d2c07dc",
   "metadata": {},
   "source": [
    "# Carga de librerias"
   ]
  },
  {
   "cell_type": "code",
   "execution_count": null,
   "id": "28c84291",
   "metadata": {},
   "outputs": [],
   "source": [
    "import pandas as pd\n",
    "import numpy as np\n",
    "import matplotlib.pyplot as plt\n",
    "import seaborn as sns\n",
    "import time\n",
    "import math\n",
    "import re\n",
    "#from datetime import date,time,datetime"
   ]
  },
  {
   "cell_type": "code",
   "execution_count": null,
   "id": "9a10cb20",
   "metadata": {},
   "outputs": [],
   "source": [
    "import pyttsx3\n",
    "engine =pyttsx3.init()\n",
    "\n",
    "voices = engine.getProperty('voices')\n",
    "engine.setProperty('voice',voices[0].id)\n",
    "engine.setProperty(\"rate\", 140)\n",
    "def talk(text):\n",
    "    engine.say(text)\n",
    "    engine.runAndWait()"
   ]
  },
  {
   "cell_type": "code",
   "execution_count": null,
   "id": "b1fc8a74",
   "metadata": {},
   "outputs": [],
   "source": [
    "engine.setProperty('voice',voices[0].id)\n",
    "engine.setProperty(\"rate\", 145)\n",
    "talk(\"Listo, por favor procesar el archivo usuarioSAP.\")"
   ]
  },
  {
   "cell_type": "markdown",
   "id": "0ebf8c8b",
   "metadata": {},
   "source": [
    "# Diarios"
   ]
  },
  {
   "cell_type": "code",
   "execution_count": null,
   "id": "16ca2890",
   "metadata": {},
   "outputs": [],
   "source": [
    "def crearFlia(jquia):\n",
    "    flia = jquia[:5][3:]\n",
    "    return flia\n",
    "materiales = pd.read_excel(\"C:/Users/ordonez/Documents/SAP/SAP GUI/M.xlsx\")\n",
    "indexABorrar = materiales[(materiales['Ce.']==1002) & (materiales['Almacén'].isin(['1141','1140']))].index\n",
    "materiales.drop(indexABorrar, inplace=True)\n",
    "materiales['flia'] = materiales['Jquía.productos'].apply(crearFlia)\n",
    "materiales.to_excel('C:/Users/ordonez/Documents/SAP/SAP GUI/M2.xlsx',index=False)"
   ]
  },
  {
   "cell_type": "markdown",
   "id": "2b42ac08",
   "metadata": {},
   "source": [
    "# Reporte Catalogo"
   ]
  },
  {
   "cell_type": "code",
   "execution_count": null,
   "id": "a26540b8",
   "metadata": {},
   "outputs": [],
   "source": [
    "def crearFlia(jquia):\n",
    "    flia = jquia[:5][3:]\n",
    "    return flia\n",
    "materiales = pd.read_excel(\"C:/Users/ordonez/Documents/SAP/SAP GUI/M.xlsx\")\n",
    "indexABorrar = materiales[(materiales['Ce.']==1002) & (materiales['Almacén'].isin(['1141','1140']))].index\n",
    "materiales.drop(indexABorrar, inplace=True)\n",
    "materiales['flia'] = materiales['Jquía.productos'].apply(crearFlia)\n",
    "Catalogo = materiales[['flia','Ce.', 'Almacén','Material','NºMaterial antiguo','Texto breve de material','UMB', 'CaP','Indicador: Parte crítica']].copy()\n",
    "Catalogo.fillna({'NºMaterial antiguo':''},inplace=True)"
   ]
  },
  {
   "cell_type": "code",
   "execution_count": null,
   "id": "4d6c3e3f",
   "metadata": {},
   "outputs": [],
   "source": [
    "Catalogo"
   ]
  },
  {
   "cell_type": "code",
   "execution_count": null,
   "id": "2d2ca7ad",
   "metadata": {},
   "outputs": [],
   "source": []
  },
  {
   "cell_type": "code",
   "execution_count": null,
   "id": "a057625b",
   "metadata": {},
   "outputs": [],
   "source": []
  },
  {
   "cell_type": "code",
   "execution_count": null,
   "id": "37663f4d",
   "metadata": {},
   "outputs": [],
   "source": []
  },
  {
   "cell_type": "markdown",
   "id": "00c5f7fd",
   "metadata": {},
   "source": [
    "# Importando reportes principales (listo)"
   ]
  },
  {
   "cell_type": "code",
   "execution_count": null,
   "id": "ffabdb39",
   "metadata": {},
   "outputs": [],
   "source": [
    "start = time.time()\n",
    "materiales = pd.read_excel(\"C:/Users/ordonez/Documents/SAP/SAP GUI/M.xlsx\")\n",
    "end = time.time()\n",
    "print(f\"Se importo M ({len(materiales)} registros/{round(end - start,1)} segundos)\")\n",
    "print('Listo')"
   ]
  },
  {
   "cell_type": "code",
   "execution_count": null,
   "id": "affe6e1d",
   "metadata": {},
   "outputs": [],
   "source": [
    "start = time.time()\n",
    "pedidos = pd.read_excel(\"C:/Users/ordonez/Documents/SAP/SAP GUI/P.xlsx\")\n",
    "end = time.time()\n",
    "print(f\"Se importo P ({len(pedidos)} registros/{round(end - start,1)} segundos)\")\n",
    "\n",
    "start = time.time()\n",
    "bloq = pd.read_excel(\"C:/Users/ordonez/Documents/SAP/SAP GUI/B.xlsx\")\n",
    "end = time.time()\n",
    "print(f\"Se importo B ({len(bloq)} registros/{round(end - start,1)} segundos)\")\n",
    "\n",
    "start = time.time()\n",
    "reservas = pd.read_excel(\"C:/Users/ordonez/Documents/SAP/SAP GUI/R.xlsx\")\n",
    "end = time.time()\n",
    "print(f\"Se importo R ({len(reservas)} registros/{round(end - start,1)} segundos)\")\n",
    "\n",
    "start = time.time()\n",
    "zub = pd.read_excel(\"C:/Users/ordonez/Documents/SAP/SAP GUI/Z.xlsx\")\n",
    "end = time.time()\n",
    "print(f\"Se importo Z ({len(zub)} registros/{round(end - start,1)} segundos)\")\n",
    "\n",
    "start = time.time()\n",
    "zor = pd.read_excel(\"C:/Users/ordonez/Documents/SAP/SAP GUI/S.xlsx\")\n",
    "end = time.time()\n",
    "print(f\"Se importo S ({len(zor)} registros/{round(end - start,1)} segundos)\")\n",
    "\n",
    "start = time.time()\n",
    "contratos = pd.read_excel(\"C:/Users/ordonez/Documents/SAP/SAP GUI/C.xlsx\")\n",
    "end = time.time()\n",
    "print(f\"Se importo C ({len(contratos)} registros/{round(end - start,1)} segundos)\")\n",
    "print('Listo')"
   ]
  },
  {
   "cell_type": "markdown",
   "id": "210c1bc6",
   "metadata": {},
   "source": [
    "## Importación de ConsumoMicro"
   ]
  },
  {
   "cell_type": "code",
   "execution_count": null,
   "id": "0c4ee8e1",
   "metadata": {},
   "outputs": [],
   "source": [
    "start = time.time()\n",
    "consumos = pd.read_excel(\"C:/Users/ordonez/Documents/SAP/SAP GUI/ConsumosMicro.xlsx\")\n",
    "end = time.time()\n",
    "print(f\"Se importo ConsumoMicro ({len(consumos)} registros/{round((end - start)/60,1)} minutos\")\n",
    "print('Listo')"
   ]
  },
  {
   "cell_type": "markdown",
   "id": "09a0ce2c",
   "metadata": {},
   "source": [
    "## Acondiciona dataframe Materiales"
   ]
  },
  {
   "cell_type": "code",
   "execution_count": null,
   "id": "a99ddbb9",
   "metadata": {},
   "outputs": [],
   "source": [
    "#Borrar los materiales de los almacenes 1140 y 1142 del centro 1002\n",
    "indexABorrar = materiales[(materiales['Ce.']==1002) & (materiales['Almacén'].isin(['1141','1140']))].index\n",
    "materiales.drop(indexABorrar, inplace=True)\n",
    "print('Se borraron los materiales de los almacenes 1140 y 1142 del centro 1002.')\n",
    "\n",
    "#Creamos el id del dataframe materiales\n",
    "materiales[\"id_mat\"] = materiales[\"Almacén\"] + materiales[\"Material\"].astype(str)\n",
    "materiales.set_index('id_mat', inplace=True)\n",
    "print('Se creó id_mat')\n",
    "\n",
    "#Creamos la columna familia\n",
    "def crearFlia(jquia):\n",
    "    flia = jquia[:5][3:]\n",
    "    return flia\n",
    "materiales['flia'] = materiales['Jquía.productos'].apply(crearFlia)\n",
    "materiales[['Material','Texto breve de material','Jquía.productos','flia']]\n",
    "print('Se creó la columna flia en df materiales.')"
   ]
  },
  {
   "cell_type": "markdown",
   "id": "2a7eb974",
   "metadata": {},
   "source": [
    "## Importando proveedores y mat-prov"
   ]
  },
  {
   "cell_type": "code",
   "execution_count": null,
   "id": "c3072bd1",
   "metadata": {},
   "outputs": [],
   "source": [
    "start = time.time()\n",
    "prov = pd.read_excel(\"proveedores.xlsx\")\n",
    "end = time.time()\n",
    "print(f\"Se importo prov ({len(prov)} registros/{round(end - start,1)} segundos)\")\n",
    "\n",
    "start = time.time()\n",
    "matProv = pd.read_excel(\"mat-prov.xlsx\")\n",
    "end = time.time()\n",
    "print(f\"Se importo matProv ({len(matProv)} registros/{round(end - start,1)} segundos)\")"
   ]
  },
  {
   "cell_type": "markdown",
   "id": "83fb6e6a",
   "metadata": {},
   "source": [
    "# Materiales relacionados por proveedor (listo)"
   ]
  },
  {
   "cell_type": "code",
   "execution_count": null,
   "id": "84eb81ad",
   "metadata": {},
   "outputs": [],
   "source": [
    "material = 1000155\n",
    "listProv = matProv[matProv['id_mat']==material]['id_prov'].values.tolist()\n",
    "matProv[matProv['id_prov'].isin(listProv)]['id_mat'].values.tolist()"
   ]
  },
  {
   "cell_type": "markdown",
   "id": "b25ce30b",
   "metadata": {},
   "source": [
    "# Materiales por Almacén"
   ]
  },
  {
   "cell_type": "code",
   "execution_count": null,
   "id": "eb4f4d7e",
   "metadata": {},
   "outputs": [],
   "source": [
    "materiales.columns"
   ]
  },
  {
   "cell_type": "code",
   "execution_count": null,
   "id": "1a8a3705",
   "metadata": {},
   "outputs": [],
   "source": [
    "matPorAlm = materiales.pivot_table(index='Almacén',values='Material',aggfunc='count')\n",
    "matPorAlm"
   ]
  },
  {
   "cell_type": "code",
   "execution_count": null,
   "id": "8d795e4d",
   "metadata": {},
   "outputs": [],
   "source": [
    "matPorAlm.sum()"
   ]
  },
  {
   "cell_type": "code",
   "execution_count": null,
   "id": "061d0a4e",
   "metadata": {},
   "outputs": [],
   "source": [
    "matPorAlm.index"
   ]
  },
  {
   "cell_type": "code",
   "execution_count": null,
   "id": "6cd0e054",
   "metadata": {},
   "outputs": [],
   "source": [
    "plt = sns.barplot(x=matPorAlm.index,y=matPorAlm['Material'])\n",
    "plt.set(xlabel=\"Almacenes\", ylabel=\"Cantidad de Materiales\")"
   ]
  },
  {
   "cell_type": "code",
   "execution_count": null,
   "id": "077895d4",
   "metadata": {},
   "outputs": [],
   "source": [
    "#reemplaza con 'X' los valores NaN de la columna 'ABC'\n",
    "materiales['ABC']=materiales['ABC'].fillna('X')\n",
    "abcPorAlm = materiales.pivot_table(index='Almacén',columns='ABC',values='Material',aggfunc='count')\n",
    "abcPorAlm"
   ]
  },
  {
   "cell_type": "code",
   "execution_count": null,
   "id": "3880756a",
   "metadata": {},
   "outputs": [],
   "source": [
    "#reemplaza los valoes NaN de todo el dataframe\n",
    "abcPorAlm.fillna(0,inplace=True)"
   ]
  },
  {
   "cell_type": "code",
   "execution_count": null,
   "id": "768d34eb",
   "metadata": {},
   "outputs": [],
   "source": [
    "abcPorAlm"
   ]
  },
  {
   "cell_type": "code",
   "execution_count": null,
   "id": "40dc7b45",
   "metadata": {
    "scrolled": true
   },
   "outputs": [],
   "source": [
    "abcPorAlm.transpose()"
   ]
  },
  {
   "cell_type": "code",
   "execution_count": null,
   "id": "c2968f47",
   "metadata": {},
   "outputs": [],
   "source": [
    "abcPorAlm.dtypes"
   ]
  },
  {
   "cell_type": "code",
   "execution_count": null,
   "id": "2c556ee9",
   "metadata": {},
   "outputs": [],
   "source": [
    "barra2 = sns.barplot(x=abcPorAlm.index,y=abcPorAlm['B'],color='blue')\n",
    "barra1 = sns.barplot(x=abcPorAlm.index,y=abcPorAlm['A'],color='red')\n",
    "\n"
   ]
  },
  {
   "cell_type": "code",
   "execution_count": null,
   "id": "28a7cfba",
   "metadata": {},
   "outputs": [],
   "source": [
    "df = pd.DataFrame({\"Price\": [7,1,5,6,3,10,5,8],\n",
    "                    \"Product\": ['C1','C2','C1','C2','C1','C2','C1','C2'],\n",
    "                  \"Day\": [1,1,2,2,3,3,4,4]})\n",
    "df"
   ]
  },
  {
   "cell_type": "code",
   "execution_count": null,
   "id": "7e85d3ea",
   "metadata": {},
   "outputs": [],
   "source": [
    "s = sns.barplot(x =\"Day\", y = 'Price', data = df, hue = \"Product\")"
   ]
  },
  {
   "cell_type": "code",
   "execution_count": null,
   "id": "ba6c88d4",
   "metadata": {},
   "outputs": [],
   "source": [
    "mat = materiales[['Material','Almacén','ABC']]"
   ]
  },
  {
   "cell_type": "code",
   "execution_count": null,
   "id": "6093304c",
   "metadata": {},
   "outputs": [],
   "source": [
    "almAbcpivote = mat.pivot_table(index=['Almacén','ABC'],values='Material',aggfunc='count')\n",
    "almAbcpivote"
   ]
  },
  {
   "cell_type": "code",
   "execution_count": null,
   "id": "154b144c",
   "metadata": {},
   "outputs": [],
   "source": [
    "agrupado = mat.groupby(['Almacén','ABC']).count()\n",
    "agrupado.columns"
   ]
  },
  {
   "cell_type": "code",
   "execution_count": null,
   "id": "7c59ec5d",
   "metadata": {},
   "outputs": [],
   "source": []
  },
  {
   "cell_type": "code",
   "execution_count": null,
   "id": "980140d4",
   "metadata": {},
   "outputs": [],
   "source": []
  },
  {
   "cell_type": "markdown",
   "id": "772382ca",
   "metadata": {},
   "source": [
    "# Busqueda"
   ]
  },
  {
   "cell_type": "code",
   "execution_count": null,
   "id": "8f58834b",
   "metadata": {},
   "outputs": [],
   "source": [
    "columna = 'Texto breve de material'\n",
    "texto1 = '1010'\n",
    "dfBusqueda1 = materiales[materiales[columna].str.contains(texto1,case=False)][['Material','Texto breve de material','Ce.','Almacén','Grupo de artículos', 'GCp']]\n",
    "dfBusqueda1\n",
    "#dfBusqueda1.to_excel('C:/Users/ordonez/Documents/SAP/SAP GUI/busqueda1.xlsx')"
   ]
  },
  {
   "cell_type": "markdown",
   "id": "d108213a",
   "metadata": {},
   "source": [
    "## Busqueda tipo like"
   ]
  },
  {
   "cell_type": "code",
   "execution_count": null,
   "id": "07f34610",
   "metadata": {},
   "outputs": [],
   "source": [
    "columna = 'Texto breve de material'\n",
    "texto1 = 'SAE'\n",
    "texto2 = '1010'\n",
    "\n",
    "dfBusqueda1 = materiales[(materiales[columna].str.contains(texto1,case=False)) & (materiales[columna].str.contains(texto2,case=False))][['Material','Texto breve de material','Ce.','Almacén','Grupo de artículos', 'GCp']]\n",
    "dfBusqueda1\n",
    "#dfBusqueda1.to_excel('C:/Users/ordonez/Documents/SAP/SAP GUI/busqueda1.xlsx')"
   ]
  },
  {
   "cell_type": "code",
   "execution_count": null,
   "id": "41600f44",
   "metadata": {},
   "outputs": [],
   "source": [
    "columna = 'Texto breve de material'\n",
    "texto1 = 'SAE'\n",
    "texto2 = '1010'\n",
    "\n",
    "dfBusqueda2 = materiales[(materiales[columna].str.contains(texto1,case=False)) | (materiales[columna].str.contains(texto2,case=False))][['Material','Texto breve de material','Ce.','Almacén','Grupo de artículos', 'GCp']]\n",
    "dfBusqueda2 = dfBusqueda2['Material']\n",
    "#dfBusqueda2.to_excel('C:/Users/ordonez/Documents/SAP/SAP GUI/busqueda2.xlsx')"
   ]
  },
  {
   "cell_type": "code",
   "execution_count": null,
   "id": "8f857753",
   "metadata": {},
   "outputs": [],
   "source": [
    "columna = 'Grupo de artículos'\n",
    "texto1 = 'toyo'\n",
    "texto2 = 'hilu'\n",
    "\n",
    "dfBusqueda3 = materiales[(materiales[columna].str.contains(texto1,case=False)) | (materiales[columna].str.contains(texto2,case=False))][['Material','Texto breve de material','Ce.','Almacén','Grupo de artículos', 'GCp']]\n",
    "dfBusqueda3 = dfBusqueda3['Material']\n",
    "dfBusqueda3"
   ]
  },
  {
   "cell_type": "code",
   "execution_count": null,
   "id": "bb475fcb",
   "metadata": {},
   "outputs": [],
   "source": [
    "pd.merge(dfBusqueda3,dfBusqueda2,on='Material',how='outer')"
   ]
  },
  {
   "cell_type": "markdown",
   "id": "523e5777",
   "metadata": {},
   "source": [
    "# Análisis de Bloqueados Imputdos"
   ]
  },
  {
   "cell_type": "code",
   "execution_count": null,
   "id": "48ad0dce",
   "metadata": {},
   "outputs": [],
   "source": [
    "bloq = pd.read_excel(\"C:/Users/ordonez/Documents/SAP/SAP GUI/Bx.xlsx\")\n",
    "bloq.columns = ['Referencia','Pedido','Pos','Prov','mov','Cant','Material']"
   ]
  },
  {
   "cell_type": "code",
   "execution_count": null,
   "id": "693d6757",
   "metadata": {},
   "outputs": [],
   "source": [
    "bloq.fillna(0,inplace=True)"
   ]
  },
  {
   "cell_type": "code",
   "execution_count": null,
   "id": "e29d16ba",
   "metadata": {},
   "outputs": [],
   "source": [
    "#convierte en negativo los 105 y los 106\n",
    "def transformar(x,y):\n",
    "    if x == 103:\n",
    "        return y\n",
    "    elif x == 104:\n",
    "        return y\n",
    "    elif x == 105:\n",
    "        return y * (-1)\n",
    "    elif x == 106:\n",
    "        return y\n",
    "bloq['Cantidad'] = bloq.apply(lambda row: transformar(row['mov'],row['Cant']), axis=1)"
   ]
  },
  {
   "cell_type": "code",
   "execution_count": null,
   "id": "818fb62e",
   "metadata": {},
   "outputs": [],
   "source": [
    "resultado = bloq.pivot_table(index=['Referencia','Pedido','Prov','Pos'],values='Cantidad',aggfunc='sum')"
   ]
  },
  {
   "cell_type": "code",
   "execution_count": null,
   "id": "0fa3068b",
   "metadata": {},
   "outputs": [],
   "source": [
    "resultado.to_excel('C:/Users/ordonez/Documents/SAP/SAP GUI/bx2.xlsx')"
   ]
  },
  {
   "cell_type": "code",
   "execution_count": null,
   "id": "07bc0648",
   "metadata": {},
   "outputs": [],
   "source": [
    "resultado2 = bloq.pivot_table(index=['Pedido','Prov','Pos'],values='Cantidad',aggfunc='sum')"
   ]
  },
  {
   "cell_type": "code",
   "execution_count": null,
   "id": "fa6591d8",
   "metadata": {},
   "outputs": [],
   "source": [
    "resultado2.to_excel('C:/Users/ordonez/Documents/SAP/SAP GUI/bx3.xlsx')"
   ]
  },
  {
   "cell_type": "markdown",
   "id": "6c8d864e",
   "metadata": {},
   "source": [
    "## Análisis de bloqueados con código"
   ]
  },
  {
   "cell_type": "code",
   "execution_count": null,
   "id": "a0bc87d4",
   "metadata": {},
   "outputs": [],
   "source": [
    "#Quita los ceros del campo Referencia (Usando expresiones regulres)\n",
    "#patron = re.compile(r'[1-9]+')\n",
    "\n",
    "#def eliminarCeros(cadena):\n",
    "#    respuesta = \"*\"\n",
    "#    if not (pd.isna(cadena)):\n",
    "#        respuesta = \"\".join(patron.findall(cadena))\n",
    "#    return respuesta\n",
    "\n",
    "#bloq['Remitos'] = bloq['Referencia'].apply(eliminarCeros)"
   ]
  },
  {
   "cell_type": "code",
   "execution_count": null,
   "id": "ae5d2728",
   "metadata": {},
   "outputs": [],
   "source": [
    "#convierte en negativo los 105 y los 106\n",
    "def transformarC(x,y):\n",
    "    if x == 103:\n",
    "        return y\n",
    "    elif x == 104:\n",
    "        return y\n",
    "    elif x == 105:\n",
    "        return y * (-1)\n",
    "    elif x == 106:\n",
    "        return y (-1)\n",
    "\n",
    "bloqC = pd.read_excel(\"C:/Users/ordonez/Documents/SAP/SAP GUI/Bx.xlsx\")\n",
    "bloqC.columns = ['Referencia','Pedido','Pos','Prov','mov','Cant','Material']\n",
    "bloqC.fillna(0,inplace=True)\n",
    "bloqC['Cantidad'] = bloqC.apply(lambda row: transformarC(row['mov'],row['Cant']), axis=1)\n"
   ]
  },
  {
   "cell_type": "markdown",
   "id": "dee32b93",
   "metadata": {},
   "source": [
    "### Pasos para resolver\n",
    "NOTA: ver que pasa si en movimientos no existe los 104 o 106 o 124. Posible solución agregando datos ficcticios.\n",
    "### Comentarios\n",
    "1. Si 103 es vacio no se analiza poque es de un periodo anterior. Se descarta (cant.reg.635)\n",
    "2. Si son solo 103 y 105 y su suma es cero. Se descarta.(cant.reg.8413)\n",
    "3. Si solo son 103, se consideran todos como pendientes.(cant.reg.462)\n",
    "4. Si son solo 103 y 104 y su suma es cero. Se descarta.(cant.reg.113)\n",
    "5. Si 104 es vacio y la suma de 105 y 106 es cero. se concidera(cant.reg.2)\n",
    "6. Si 103+104+105+106=0 se descarta\n",
    "\n",
    "### Procedimiento\n",
    "1. Sumo cada tipo de movimiento por cada posición\n",
    "2. Creo el pivot movimientos rrellenando con cero los nulos.(.pivot(columns='mov',values='Cantidad').fillna(0))\n",
    "3."
   ]
  },
  {
   "cell_type": "code",
   "execution_count": null,
   "id": "3fde43df",
   "metadata": {},
   "outputs": [],
   "source": [
    "parcial =bloqC.pivot_table(index=['Pedido','Pos'],columns='mov',values='Cantidad',aggfunc='sum')\n",
    "parcial.to_excel('C:/Users/ordonez/Documents/SAP/SAP GUI/parcial.xlsx')"
   ]
  },
  {
   "cell_type": "code",
   "execution_count": null,
   "id": "f256c003",
   "metadata": {},
   "outputs": [],
   "source": []
  },
  {
   "cell_type": "code",
   "execution_count": null,
   "id": "73ee4408",
   "metadata": {},
   "outputs": [],
   "source": [
    "#movimientos=bloqC.pivot(columns='mov',values='Cantidad').fillna(0)\n",
    "movimientos"
   ]
  },
  {
   "cell_type": "code",
   "execution_count": null,
   "id": "5b79a236",
   "metadata": {},
   "outputs": [],
   "source": [
    "\n",
    "\n",
    "parcial = movimientos[((movimientos[104]==0) & (movimientos[106]==0)& (movimientos[124]==0))]\n",
    "parcial.to_excel('C:/Users/ordonez/Documents/SAP/SAP GUI/parcial.xlsx')\n",
    "#movimientos.columns"
   ]
  },
  {
   "cell_type": "code",
   "execution_count": null,
   "id": "15999b2f",
   "metadata": {},
   "outputs": [],
   "source": []
  },
  {
   "cell_type": "code",
   "execution_count": null,
   "id": "1082c8ad",
   "metadata": {
    "scrolled": true
   },
   "outputs": [],
   "source": [
    "bloqC2 = bloqC.pivot_table(index=['Referencia','Pedido','Prov','Pos'],values='Cantidad',aggfunc='sum')"
   ]
  },
  {
   "cell_type": "code",
   "execution_count": null,
   "id": "40a58bcf",
   "metadata": {},
   "outputs": [],
   "source": [
    "bloqC2"
   ]
  },
  {
   "cell_type": "code",
   "execution_count": null,
   "id": "d0cebc4c",
   "metadata": {},
   "outputs": [],
   "source": [
    "bloqC2.to_excel('C:/Users/ordonez/Documents/SAP/SAP GUI/bx2.xlsx')"
   ]
  },
  {
   "cell_type": "code",
   "execution_count": null,
   "id": "821bbd58",
   "metadata": {},
   "outputs": [],
   "source": []
  },
  {
   "cell_type": "code",
   "execution_count": null,
   "id": "228f8259",
   "metadata": {},
   "outputs": [],
   "source": []
  },
  {
   "cell_type": "code",
   "execution_count": null,
   "id": "cf17472b",
   "metadata": {},
   "outputs": [],
   "source": [
    "# PENDIENTE se debe quitar los ceros al campo referencias\n",
    "\n",
    "#Para concatenar\n",
    "#bloq[\"key\"] = bloq[\"Material\"].astype(str) + bloq[\"Pedido\"].astype(str)"
   ]
  },
  {
   "cell_type": "code",
   "execution_count": null,
   "id": "a333a786",
   "metadata": {},
   "outputs": [],
   "source": [
    "#Suma 103+104+105+106\n",
    "pendientes = bloq.groupby(by = \"Material\")['Cantidad'].sum()\n",
    "\n",
    "pendientes = pendientes[x!=0.0]"
   ]
  },
  {
   "cell_type": "code",
   "execution_count": null,
   "id": "89754f3b",
   "metadata": {},
   "outputs": [],
   "source": [
    "bloq[bloq[\"Material\"].isin(pendientes.keys())]"
   ]
  },
  {
   "cell_type": "code",
   "execution_count": null,
   "id": "16df3158",
   "metadata": {},
   "outputs": [],
   "source": [
    "bloq[bloq[\"Material\"]==1004085]"
   ]
  },
  {
   "cell_type": "code",
   "execution_count": null,
   "id": "3dd87178",
   "metadata": {},
   "outputs": [],
   "source": [
    "#Para exportar a excel\n",
    "#b = bloq.head()\n",
    "#b.to_excel('C:/Users/ordonez/Documents/SAP/SAP GUI/prueba.xlsx')"
   ]
  },
  {
   "cell_type": "markdown",
   "id": "306f3458",
   "metadata": {},
   "source": [
    "# Consumos"
   ]
  },
  {
   "cell_type": "markdown",
   "id": "e64f6277",
   "metadata": {},
   "source": [
    "## Consumo de los Ultimos 12 meses"
   ]
  },
  {
   "cell_type": "code",
   "execution_count": null,
   "id": "c52921ba",
   "metadata": {},
   "outputs": [],
   "source": [
    "hasta = str(date.today().year  )+\"-\"+str(date.today().month)+\"-01\"\n",
    "desde = str(date.today().year-1)+\"-\"+str(date.today().month)+\"-01\"\n",
    "condicion = (consumos['Fecha'] >= desde) & (consumos['Fecha'] < hasta)\n",
    "ult12 = consumos.loc[condicion][['Fecha','Material','Alm','Salida']]"
   ]
  },
  {
   "cell_type": "code",
   "execution_count": null,
   "id": "761daede",
   "metadata": {},
   "outputs": [],
   "source": [
    "ult12"
   ]
  },
  {
   "cell_type": "code",
   "execution_count": null,
   "id": "7b9acdd3",
   "metadata": {},
   "outputs": [],
   "source": [
    "ult12_1125 = ult12[ult12['Alm']=='1125']"
   ]
  },
  {
   "cell_type": "code",
   "execution_count": null,
   "id": "47ae9ac8",
   "metadata": {},
   "outputs": [],
   "source": [
    "ult12_1125"
   ]
  },
  {
   "cell_type": "code",
   "execution_count": null,
   "id": "9cdc06c1",
   "metadata": {},
   "outputs": [],
   "source": [
    "#Dos formas de hacerlo. Ammbas generan warning.\n",
    "#ult12_1125['Mes'] = ult12_1125['Fecha'].dt.month\n",
    "\n",
    "def crearMes(fecha):\n",
    "    mes = fecha.month\n",
    "    return mes\n",
    "ult12_1125['Mes'] = ult12_1125['Fecha'].apply(crearMes)"
   ]
  },
  {
   "cell_type": "code",
   "execution_count": null,
   "id": "2be251de",
   "metadata": {},
   "outputs": [],
   "source": [
    "ult12_1125._is_view #ult12_1125._is_copy"
   ]
  },
  {
   "cell_type": "code",
   "execution_count": null,
   "id": "f3722226",
   "metadata": {},
   "outputs": [],
   "source": [
    "ult12_1125"
   ]
  },
  {
   "cell_type": "code",
   "execution_count": null,
   "id": "e336aba7",
   "metadata": {},
   "outputs": [],
   "source": [
    "ult12_1125['Mes'] = ult12_1125['Fecha'].dt.month"
   ]
  },
  {
   "cell_type": "code",
   "execution_count": null,
   "id": "ba4424b0",
   "metadata": {},
   "outputs": [],
   "source": [
    "ult12_1125._is_view"
   ]
  },
  {
   "cell_type": "code",
   "execution_count": null,
   "id": "7f446412",
   "metadata": {},
   "outputs": [],
   "source": [
    "ult12_1125"
   ]
  },
  {
   "cell_type": "code",
   "execution_count": null,
   "id": "49b38deb",
   "metadata": {},
   "outputs": [],
   "source": [
    "materiales"
   ]
  },
  {
   "cell_type": "markdown",
   "id": "286ea4f6",
   "metadata": {},
   "source": [
    "# ¿Quién consumió? (listo)"
   ]
  },
  {
   "cell_type": "markdown",
   "id": "050d776d",
   "metadata": {},
   "source": [
    "Procedimiento:\n",
    "1. Antes del paso 1 descargo info de consumos con MB51\n",
    "2. Antes del paso 2 copio las reservas de SinDupliar y descargo reserva-user con MB25"
   ]
  },
  {
   "cell_type": "code",
   "execution_count": null,
   "id": "6b6205b3",
   "metadata": {},
   "outputs": [],
   "source": [
    "# 1° cargo información de consumos y reservas (MB51)\n",
    "df = pd.read_excel('C:/Users/ordonez/Documents/SAP/SAP GUI/export.xlsx')\n",
    "df.columns = ['FechaContab', 'Material', 'Moc', 'Cant','Ce', 'Alm', 'reserva', 'CeRecep']\n",
    "# se devuelve las reservas sin duplicar para usar con (MB25)\n",
    "destino = 'C:/Users/ordonez/Documents/SAP/SAP GUI/SinDuplicados.xlsx'\n",
    "pd.DataFrame(df['reserva'].unique()).to_excel(destino,index=False)\n",
    "# Preparo dataframe userSAP\n",
    "userSAP = pd.read_excel('C:/Users/ordonez/Documents/UCASAL/notebooks/usuarioSAP.xlsx')\n",
    "\n",
    "#talk(\"Listo, por favor procesar el archivo usuarioSAP.\")"
   ]
  },
  {
   "cell_type": "code",
   "execution_count": null,
   "id": "c0cb6280",
   "metadata": {},
   "outputs": [],
   "source": [
    "df"
   ]
  },
  {
   "cell_type": "code",
   "execution_count": null,
   "id": "427f5fb0",
   "metadata": {},
   "outputs": [],
   "source": [
    "# 2° cargo información reservas-usuarios (MB25)\n",
    "df2 = pd.read_excel('C:/Users/ordonez/Documents/SAP/SAP GUI/export.XLSX')\n",
    "# Elimina dupliados de la columna N° reserva\n",
    "df2 = df2.drop_duplicates(subset=['Nº reserva'])\n",
    "df2.columns = ['reserva','usuarioSAP']\n",
    "reservaDepto = pd.merge(df2,userSAP,on='usuarioSAP',how='left')[['reserva', 'usuarioSAP', 'ApellidoNombre', 'Depto',\n",
    "       'GciaDeptal']]\n",
    "df_reservas = pd.merge(df,reservaDepto,on='reserva',how='left')\n",
    "centros = pd.read_excel('C:/Users/ordonez/Documents/SAP/SAP GUI/TABLAS_AUXILIARES.xlsx',sheet_name='centros')\n",
    "centros.rename({'id_centro':'CeRecep'},axis=1,inplace=True)\n",
    "df_reservas_centro = pd.merge(df_reservas,centros, on='CeRecep',how='left')\n"
   ]
  },
  {
   "cell_type": "code",
   "execution_count": null,
   "id": "daa552c6",
   "metadata": {},
   "outputs": [],
   "source": [
    "df_reservas_centro.to_excel('C:/Users/ordonez/Documents/SAP/SAP GUI/export.xlsx',index=False)"
   ]
  },
  {
   "cell_type": "markdown",
   "id": "b9c64042",
   "metadata": {},
   "source": [
    "# Limpieza de CONSUMOS_DIARIOS.xlsx (listo)"
   ]
  },
  {
   "cell_type": "code",
   "execution_count": null,
   "id": "8d95c789",
   "metadata": {},
   "outputs": [],
   "source": [
    "def a_fecha(cadena):\n",
    "    fecha = cadena[0:2:1]+ '/' + cadena[3:5:1] + '/' + cadena[8:10:1]\n",
    "    return pd.to_datetime(fecha,format='%d/%m/%y')\n",
    "\n",
    "archivo = 'C:/Users/ordonez/Documents/SAP/SAP GUI/CONSUMOS_DIARIOS.xlsx'\n",
    "tipos = {'Número de Reserva Nivel 01':str,\n",
    "         'Mov':str, 'Alm':str, 'CenRec':str\n",
    "        }\n",
    "consumos = pd.read_excel(archivo,header=[2],dtype = tipos)\n",
    "consumos.columns = ['Fecha','Material','Mov','Alm','CeRec','Res','DH','Salida']\n",
    "\n",
    "\n",
    "consumos['Fecha'] = consumos['Fecha'].apply(a_fecha)\n",
    "\n",
    "consumos.to_excel(archivo,index=False)"
   ]
  },
  {
   "cell_type": "markdown",
   "id": "8f892ae6",
   "metadata": {},
   "source": [
    "# Actualización del Punto de pedido y Stock de Seguridad (listo)"
   ]
  },
  {
   "cell_type": "markdown",
   "id": "44ea132e",
   "metadata": {},
   "source": [
    "$SS=s*\\sqrt{LT}*NivelServicio$\n",
    "$PP=$"
   ]
  },
  {
   "cell_type": "markdown",
   "id": "13c74c6a",
   "metadata": {},
   "source": [
    "## Pasos\n",
    "1. Descargar calcularPto de la DB PLANIFICACION\n",
    "2. Cargar las librerias\n",
    "3. Generar dataframe calcPto\n",
    "4. Exportar"
   ]
  },
  {
   "cell_type": "code",
   "execution_count": null,
   "id": "4468f0df",
   "metadata": {},
   "outputs": [],
   "source": [
    "nivelServicio = 1.65"
   ]
  },
  {
   "cell_type": "markdown",
   "id": "21b0d0d0",
   "metadata": {},
   "source": [
    "## Genera dataframe calcPto"
   ]
  },
  {
   "cell_type": "code",
   "execution_count": null,
   "id": "348e0994",
   "metadata": {},
   "outputs": [],
   "source": [
    "def leadTime(pze):\n",
    "    if pze == 0.0:\n",
    "        return 2\n",
    "    else:\n",
    "        return round(pze/30,1)\n",
    "\n",
    "def colN(filas):\n",
    "    contador=0\n",
    "    for i in range(2,14):\n",
    "        if filas[i]!=0.0:\n",
    "            contador=contador + 1\n",
    "    return contador\n",
    "def pp(filas):\n",
    "    ptoPed = 0\n",
    "    if filas['N']>=7:\n",
    "        ptoPed = round(filas['ss']+filas['mediaN']*filas['LT'],1)\n",
    "    else:\n",
    "        ptoPed = round(filas['ss']+filas['Consumo12']/5*filas['LT'],1)\n",
    "    return ptoPed\n",
    "def pp2(filas):\n",
    "    ptoPed = 0\n",
    "    if filas['N']>=7:\n",
    "        ptoPed = round(filas['ss']+filas['mediaN']*(filas['LT']+1),1)\n",
    "    else:\n",
    "        ptoPed = round(filas['ss']+filas['Consumo12']/5*(filas['LT']+1),1)\n",
    "    return ptoPed\n",
    "\n",
    "start = time.time()\n",
    "calcPto = pd.read_excel(\"C:/Users/ordonez/Documents/SAP/SAP GUI/calcularPto.xlsx\")\n",
    "end = time.time()\n",
    "print(f\"La carga de {len(calcPto)} registros tardó {round(end-start,1)} segundos\")\n",
    "\n",
    "#Limpiendo los datos------------------\n",
    "calcPto.fillna(0,inplace=True)\n",
    "borrar = calcPto[calcPto['CaP']==0]['CaP'].index\n",
    "calcPto = calcPto.drop(borrar)\n",
    "borrar = calcPto[calcPto['CaP'].isin(['PD','ND'])]['CaP'].index\n",
    "calcPto = calcPto.drop(borrar)\n",
    "borrar = calcPto[calcPto['Total de Salida']<=0].index\n",
    "calcPto = calcPto.drop(borrar)\n",
    "#-------------------------------------\n",
    "\n",
    "calcPto.rename({'Total de Salida':'Consumo12'},axis=1,inplace=True)\n",
    "#Crea lead time en meses\n",
    "#calcPto['LT']= calcPto.apply(lambda row: leadTime(row['Import'],row['PzE']),axis=1)\n",
    "calcPto['LT']= calcPto['PzE'].apply(leadTime)\n",
    "print(\"Se creó la columna LT\")\n",
    "#Cuenta los meses con consumos\n",
    "calcPto['N'] = calcPto.apply(colN,axis=1)\n",
    "print(\"Se creó la columna N\")\n",
    "calcPto['mediaN'] = round(calcPto['Consumo12']/calcPto['N'],1)\n",
    "calcPto['media12'] = round(calcPto['Consumo12']/12,1)\n",
    "\n",
    "#Calculo de la desviación estándar \n",
    "calcPto['s'] = round(calcPto.iloc[:,2:14].std(axis=1),1)\n",
    "print(\"Se calculó la desviación estándar\")\n",
    "\n",
    "#Calculo del stock de segudiad\n",
    "calcPto['ss']=round(calcPto['s']*nivelServicio*(calcPto['LT']**(1/2)),1)\n",
    "print(\"Se calculó el stock de seguridad\")\n",
    "#Calculo del punto de pedido\n",
    "calcPto['PP'] = calcPto.apply(pp,axis=1)\n",
    "calcPto['PP2'] = calcPto.apply(pp2,axis=1)\n",
    "calcPto['Material'] = calcPto['Material'].astype(object)\n",
    "calcPto['Ce.'] = calcPto['Ce.'].astype(object)\n",
    "print(\"Listo, se calculó el Punto de Pedido\")"
   ]
  },
  {
   "cell_type": "code",
   "execution_count": null,
   "id": "14da1e48",
   "metadata": {},
   "outputs": [],
   "source": [
    "calcPto.to_excel('C:/Users/ordonez/Documents/SAP/SAP GUI/SS_PP 040722.xlsx',index=False)"
   ]
  },
  {
   "cell_type": "markdown",
   "id": "a6204f36",
   "metadata": {},
   "source": [
    "# Calculo del ABC (listo)"
   ]
  },
  {
   "cell_type": "markdown",
   "id": "a7b906eb",
   "metadata": {},
   "source": [
    "## Pasos\n",
    "1. Descargar calcularAbc de PLANIFICACION"
   ]
  },
  {
   "cell_type": "code",
   "execution_count": null,
   "id": "eeb91cc0",
   "metadata": {},
   "outputs": [],
   "source": [
    "def asignaABC(partAcu):\n",
    "    A=0.80\n",
    "    B=0.95\n",
    "    C=0.995\n",
    "    D=1.0\n",
    "    if partAcu <= A:\n",
    "        return 'A'\n",
    "    elif partAcu <= B:\n",
    "        return 'B'\n",
    "    elif partAcu <= C:\n",
    "        return 'C'\n",
    "    else:\n",
    "        return 'D'\n",
    "    \n",
    "start = time.time()\n",
    "calcAbc = pd.read_excel(\"C:/Users/ordonez/Documents/SAP/SAP GUI/calcularAbc.xlsx\")\n",
    "end = time.time()\n",
    "print(f\"La carga de {len(calcAbc)} registros tardó {round(end-start,1)} segundos\")\n",
    "totalAnual = calcAbc['ValorAnual'].sum()\n",
    "calcAbc['Participacion']=calcAbc['ValorAnual']/totalAnual\n",
    "calcAbc['ParticAcum']=calcAbc['Participacion'].cumsum()\n",
    "calcAbc['ABC']=calcAbc['ParticAcum'].apply(asignaABC)\n",
    "calcAbc['MATERIAL'] = calcAbc['MATERIAL'].astype(object)\n",
    "calcAbc.to_excel('C:/Users/ordonez/Documents/SAP/SAP GUI/ABC 220722.xlsx',index=False)\n",
    "print('Listo')"
   ]
  },
  {
   "cell_type": "markdown",
   "id": "507620cf",
   "metadata": {},
   "source": [
    "# Seguimiento de solped (en progreso)"
   ]
  },
  {
   "cell_type": "code",
   "execution_count": null,
   "id": "59ad34f2",
   "metadata": {},
   "outputs": [],
   "source": [
    "start = time.time()\n",
    "s = pd.read_excel('C:/Users/ordonez/Documents/SAP/SAP GUI/s.xlsx')\n",
    "end = time.time()\n",
    "print(f\"Para cargar {len(s)} registro se tardo {round(end-start,1)}\")\n",
    "s.rename({'Número de documento de documento externo':'cesta'},axis=1,inplace=True)\n",
    "\n",
    "s['Material']=s['Material'].astype(object)\n",
    "s['Sol.pedido']=s['Sol.pedido'].astype(object)\n",
    "s['Pos.']=s['Pos.'].astype(object)\n",
    "s1 = s[['Sol.pedido','Pos.','Material','Ctd.solicitada','Fe.sol.','cesta']].copy()"
   ]
  },
  {
   "cell_type": "code",
   "execution_count": null,
   "id": "ffe536e3",
   "metadata": {},
   "outputs": [],
   "source": [
    "s.set_index(['Sol.pedido','Pos.'],inplace=True)"
   ]
  },
  {
   "cell_type": "code",
   "execution_count": null,
   "id": "0b0f66d9",
   "metadata": {},
   "outputs": [],
   "source": [
    "s.columns"
   ]
  },
  {
   "cell_type": "code",
   "execution_count": null,
   "id": "028d41fd",
   "metadata": {},
   "outputs": [],
   "source": [
    "s.iloc[0:2,0:2]"
   ]
  },
  {
   "cell_type": "code",
   "execution_count": null,
   "id": "afcb9095",
   "metadata": {},
   "outputs": [],
   "source": [
    "#trabaja la selección con indice\n",
    "s.loc[[10096890,10097295],['Material']]"
   ]
  },
  {
   "cell_type": "markdown",
   "id": "68345657",
   "metadata": {},
   "source": [
    "# Fecha de entrega"
   ]
  },
  {
   "cell_type": "code",
   "execution_count": null,
   "id": "2217cf42",
   "metadata": {},
   "outputs": [],
   "source": [
    "entrega = pd.read_excel('C:/Users/ordonez/Documents/SAP/SAP GUI/entregas.xlsx')"
   ]
  },
  {
   "cell_type": "code",
   "execution_count": null,
   "id": "07c5d91b",
   "metadata": {},
   "outputs": [],
   "source": [
    "entrega.info()"
   ]
  },
  {
   "cell_type": "code",
   "execution_count": null,
   "id": "12042b7c",
   "metadata": {},
   "outputs": [],
   "source": [
    "entrega"
   ]
  },
  {
   "cell_type": "markdown",
   "id": "838de51b",
   "metadata": {},
   "source": [
    "# Cotización del dolar\n",
    "(Api)[https://github.com/Castrogiovanni20/api-dolar-argentina]<br>\n",
    "(Postman online)[https://web.postman.co/]"
   ]
  },
  {
   "cell_type": "markdown",
   "id": "e51c1a5b",
   "metadata": {},
   "source": [
    "# Pac de materiales"
   ]
  },
  {
   "cell_type": "code",
   "execution_count": 2,
   "id": "e3d8b3e9",
   "metadata": {},
   "outputs": [],
   "source": [
    "import pandas as pd"
   ]
  },
  {
   "cell_type": "code",
   "execution_count": 3,
   "id": "78de6025",
   "metadata": {},
   "outputs": [
    {
     "name": "stdout",
     "output_type": "stream",
     "text": [
      "CPU times: total: 1.61 s\n",
      "Wall time: 1.65 s\n"
     ]
    }
   ],
   "source": [
    "%%time\n",
    "df = pd.read_csv(\"C:/Users/ordonez/Documents/SAP/SAP GUI/Mat-Mat.csv\",sep=';')"
   ]
  },
  {
   "cell_type": "code",
   "execution_count": 9,
   "id": "06ac5802",
   "metadata": {},
   "outputs": [],
   "source": [
    "df1 = df.head(1000).copy()"
   ]
  },
  {
   "cell_type": "code",
   "execution_count": 10,
   "id": "f2bbab97",
   "metadata": {},
   "outputs": [
    {
     "data": {
      "text/html": [
       "<div>\n",
       "<style scoped>\n",
       "    .dataframe tbody tr th:only-of-type {\n",
       "        vertical-align: middle;\n",
       "    }\n",
       "\n",
       "    .dataframe tbody tr th {\n",
       "        vertical-align: top;\n",
       "    }\n",
       "\n",
       "    .dataframe thead th {\n",
       "        text-align: right;\n",
       "    }\n",
       "</style>\n",
       "<table border=\"1\" class=\"dataframe\">\n",
       "  <thead>\n",
       "    <tr style=\"text-align: right;\">\n",
       "      <th></th>\n",
       "      <th>Mat1</th>\n",
       "      <th>Mat2</th>\n",
       "    </tr>\n",
       "  </thead>\n",
       "  <tbody>\n",
       "    <tr>\n",
       "      <th>0</th>\n",
       "      <td>1017137</td>\n",
       "      <td>1017591</td>\n",
       "    </tr>\n",
       "    <tr>\n",
       "      <th>1</th>\n",
       "      <td>1017137</td>\n",
       "      <td>1017548</td>\n",
       "    </tr>\n",
       "    <tr>\n",
       "      <th>2</th>\n",
       "      <td>1017137</td>\n",
       "      <td>1017423</td>\n",
       "    </tr>\n",
       "    <tr>\n",
       "      <th>3</th>\n",
       "      <td>1017137</td>\n",
       "      <td>1017138</td>\n",
       "    </tr>\n",
       "    <tr>\n",
       "      <th>4</th>\n",
       "      <td>1017137</td>\n",
       "      <td>1017136</td>\n",
       "    </tr>\n",
       "    <tr>\n",
       "      <th>...</th>\n",
       "      <td>...</td>\n",
       "      <td>...</td>\n",
       "    </tr>\n",
       "    <tr>\n",
       "      <th>995</th>\n",
       "      <td>1060882</td>\n",
       "      <td>1060892</td>\n",
       "    </tr>\n",
       "    <tr>\n",
       "      <th>996</th>\n",
       "      <td>1060882</td>\n",
       "      <td>1060903</td>\n",
       "    </tr>\n",
       "    <tr>\n",
       "      <th>997</th>\n",
       "      <td>1060882</td>\n",
       "      <td>1060854</td>\n",
       "    </tr>\n",
       "    <tr>\n",
       "      <th>998</th>\n",
       "      <td>1060882</td>\n",
       "      <td>1060853</td>\n",
       "    </tr>\n",
       "    <tr>\n",
       "      <th>999</th>\n",
       "      <td>1060882</td>\n",
       "      <td>1060855</td>\n",
       "    </tr>\n",
       "  </tbody>\n",
       "</table>\n",
       "<p>1000 rows × 2 columns</p>\n",
       "</div>"
      ],
      "text/plain": [
       "        Mat1     Mat2\n",
       "0    1017137  1017591\n",
       "1    1017137  1017548\n",
       "2    1017137  1017423\n",
       "3    1017137  1017138\n",
       "4    1017137  1017136\n",
       "..       ...      ...\n",
       "995  1060882  1060892\n",
       "996  1060882  1060903\n",
       "997  1060882  1060854\n",
       "998  1060882  1060853\n",
       "999  1060882  1060855\n",
       "\n",
       "[1000 rows x 2 columns]"
      ]
     },
     "execution_count": 10,
     "metadata": {},
     "output_type": "execute_result"
    }
   ],
   "source": [
    "df1"
   ]
  },
  {
   "cell_type": "code",
   "execution_count": 11,
   "id": "e1a99a63",
   "metadata": {},
   "outputs": [
    {
     "name": "stderr",
     "output_type": "stream",
     "text": [
      "<timed exec>:2: FutureWarning: The frame.append method is deprecated and will be removed from pandas in a future version. Use pandas.concat instead.\n"
     ]
    },
    {
     "ename": "TypeError",
     "evalue": "cannot concatenate object of type '<class 'int'>'; only Series and DataFrame objs are valid",
     "output_type": "error",
     "traceback": [
      "\u001b[1;31m---------------------------------------------------------------------------\u001b[0m",
      "\u001b[1;31mTypeError\u001b[0m                                 Traceback (most recent call last)",
      "File \u001b[1;32m<timed exec>:2\u001b[0m, in \u001b[0;36m<module>\u001b[1;34m\u001b[0m\n",
      "File \u001b[1;32m~\\AppData\\Local\\Packages\\PythonSoftwareFoundation.Python.3.10_qbz5n2kfra8p0\\LocalCache\\local-packages\\Python310\\site-packages\\pandas\\core\\frame.py:9033\u001b[0m, in \u001b[0;36mDataFrame.append\u001b[1;34m(self, other, ignore_index, verify_integrity, sort)\u001b[0m\n\u001b[0;32m   8930\u001b[0m \u001b[38;5;124;03m\"\"\"\u001b[39;00m\n\u001b[0;32m   8931\u001b[0m \u001b[38;5;124;03mAppend rows of `other` to the end of caller, returning a new object.\u001b[39;00m\n\u001b[0;32m   8932\u001b[0m \n\u001b[1;32m   (...)\u001b[0m\n\u001b[0;32m   9023\u001b[0m \u001b[38;5;124;03m4  4\u001b[39;00m\n\u001b[0;32m   9024\u001b[0m \u001b[38;5;124;03m\"\"\"\u001b[39;00m\n\u001b[0;32m   9025\u001b[0m warnings\u001b[38;5;241m.\u001b[39mwarn(\n\u001b[0;32m   9026\u001b[0m     \u001b[38;5;124m\"\u001b[39m\u001b[38;5;124mThe frame.append method is deprecated \u001b[39m\u001b[38;5;124m\"\u001b[39m\n\u001b[0;32m   9027\u001b[0m     \u001b[38;5;124m\"\u001b[39m\u001b[38;5;124mand will be removed from pandas in a future version. \u001b[39m\u001b[38;5;124m\"\u001b[39m\n\u001b[1;32m   (...)\u001b[0m\n\u001b[0;32m   9030\u001b[0m     stacklevel\u001b[38;5;241m=\u001b[39mfind_stack_level(),\n\u001b[0;32m   9031\u001b[0m )\n\u001b[1;32m-> 9033\u001b[0m \u001b[38;5;28;01mreturn\u001b[39;00m \u001b[38;5;28;43mself\u001b[39;49m\u001b[38;5;241;43m.\u001b[39;49m\u001b[43m_append\u001b[49m\u001b[43m(\u001b[49m\u001b[43mother\u001b[49m\u001b[43m,\u001b[49m\u001b[43m \u001b[49m\u001b[43mignore_index\u001b[49m\u001b[43m,\u001b[49m\u001b[43m \u001b[49m\u001b[43mverify_integrity\u001b[49m\u001b[43m,\u001b[49m\u001b[43m \u001b[49m\u001b[43msort\u001b[49m\u001b[43m)\u001b[49m\n",
      "File \u001b[1;32m~\\AppData\\Local\\Packages\\PythonSoftwareFoundation.Python.3.10_qbz5n2kfra8p0\\LocalCache\\local-packages\\Python310\\site-packages\\pandas\\core\\frame.py:9076\u001b[0m, in \u001b[0;36mDataFrame._append\u001b[1;34m(self, other, ignore_index, verify_integrity, sort)\u001b[0m\n\u001b[0;32m   9073\u001b[0m \u001b[38;5;28;01melse\u001b[39;00m:\n\u001b[0;32m   9074\u001b[0m     to_concat \u001b[38;5;241m=\u001b[39m [\u001b[38;5;28mself\u001b[39m, other]\n\u001b[1;32m-> 9076\u001b[0m result \u001b[38;5;241m=\u001b[39m \u001b[43mconcat\u001b[49m\u001b[43m(\u001b[49m\n\u001b[0;32m   9077\u001b[0m \u001b[43m    \u001b[49m\u001b[43mto_concat\u001b[49m\u001b[43m,\u001b[49m\n\u001b[0;32m   9078\u001b[0m \u001b[43m    \u001b[49m\u001b[43mignore_index\u001b[49m\u001b[38;5;241;43m=\u001b[39;49m\u001b[43mignore_index\u001b[49m\u001b[43m,\u001b[49m\n\u001b[0;32m   9079\u001b[0m \u001b[43m    \u001b[49m\u001b[43mverify_integrity\u001b[49m\u001b[38;5;241;43m=\u001b[39;49m\u001b[43mverify_integrity\u001b[49m\u001b[43m,\u001b[49m\n\u001b[0;32m   9080\u001b[0m \u001b[43m    \u001b[49m\u001b[43msort\u001b[49m\u001b[38;5;241;43m=\u001b[39;49m\u001b[43msort\u001b[49m\u001b[43m,\u001b[49m\n\u001b[0;32m   9081\u001b[0m \u001b[43m\u001b[49m\u001b[43m)\u001b[49m\n\u001b[0;32m   9082\u001b[0m \u001b[38;5;28;01mif\u001b[39;00m (\n\u001b[0;32m   9083\u001b[0m     combined_columns \u001b[38;5;129;01mis\u001b[39;00m \u001b[38;5;129;01mnot\u001b[39;00m \u001b[38;5;28;01mNone\u001b[39;00m\n\u001b[0;32m   9084\u001b[0m     \u001b[38;5;129;01mand\u001b[39;00m \u001b[38;5;129;01mnot\u001b[39;00m sort\n\u001b[1;32m   (...)\u001b[0m\n\u001b[0;32m   9089\u001b[0m     \u001b[38;5;66;03m# combined_columns.equals check is necessary for preserving dtype\u001b[39;00m\n\u001b[0;32m   9090\u001b[0m     \u001b[38;5;66;03m#  in test_crosstab_normalize\u001b[39;00m\n\u001b[0;32m   9091\u001b[0m     result \u001b[38;5;241m=\u001b[39m result\u001b[38;5;241m.\u001b[39mreindex(combined_columns, axis\u001b[38;5;241m=\u001b[39m\u001b[38;5;241m1\u001b[39m)\n",
      "File \u001b[1;32m~\\AppData\\Local\\Packages\\PythonSoftwareFoundation.Python.3.10_qbz5n2kfra8p0\\LocalCache\\local-packages\\Python310\\site-packages\\pandas\\util\\_decorators.py:311\u001b[0m, in \u001b[0;36mdeprecate_nonkeyword_arguments.<locals>.decorate.<locals>.wrapper\u001b[1;34m(*args, **kwargs)\u001b[0m\n\u001b[0;32m    305\u001b[0m \u001b[38;5;28;01mif\u001b[39;00m \u001b[38;5;28mlen\u001b[39m(args) \u001b[38;5;241m>\u001b[39m num_allow_args:\n\u001b[0;32m    306\u001b[0m     warnings\u001b[38;5;241m.\u001b[39mwarn(\n\u001b[0;32m    307\u001b[0m         msg\u001b[38;5;241m.\u001b[39mformat(arguments\u001b[38;5;241m=\u001b[39marguments),\n\u001b[0;32m    308\u001b[0m         \u001b[38;5;167;01mFutureWarning\u001b[39;00m,\n\u001b[0;32m    309\u001b[0m         stacklevel\u001b[38;5;241m=\u001b[39mstacklevel,\n\u001b[0;32m    310\u001b[0m     )\n\u001b[1;32m--> 311\u001b[0m \u001b[38;5;28;01mreturn\u001b[39;00m func(\u001b[38;5;241m*\u001b[39margs, \u001b[38;5;241m*\u001b[39m\u001b[38;5;241m*\u001b[39mkwargs)\n",
      "File \u001b[1;32m~\\AppData\\Local\\Packages\\PythonSoftwareFoundation.Python.3.10_qbz5n2kfra8p0\\LocalCache\\local-packages\\Python310\\site-packages\\pandas\\core\\reshape\\concat.py:346\u001b[0m, in \u001b[0;36mconcat\u001b[1;34m(objs, axis, join, ignore_index, keys, levels, names, verify_integrity, sort, copy)\u001b[0m\n\u001b[0;32m    142\u001b[0m \u001b[38;5;129m@deprecate_nonkeyword_arguments\u001b[39m(version\u001b[38;5;241m=\u001b[39m\u001b[38;5;28;01mNone\u001b[39;00m, allowed_args\u001b[38;5;241m=\u001b[39m[\u001b[38;5;124m\"\u001b[39m\u001b[38;5;124mobjs\u001b[39m\u001b[38;5;124m\"\u001b[39m])\n\u001b[0;32m    143\u001b[0m \u001b[38;5;28;01mdef\u001b[39;00m \u001b[38;5;21mconcat\u001b[39m(\n\u001b[0;32m    144\u001b[0m     objs: Iterable[NDFrame] \u001b[38;5;241m|\u001b[39m Mapping[Hashable, NDFrame],\n\u001b[1;32m   (...)\u001b[0m\n\u001b[0;32m    153\u001b[0m     copy: \u001b[38;5;28mbool\u001b[39m \u001b[38;5;241m=\u001b[39m \u001b[38;5;28;01mTrue\u001b[39;00m,\n\u001b[0;32m    154\u001b[0m ) \u001b[38;5;241m-\u001b[39m\u001b[38;5;241m>\u001b[39m DataFrame \u001b[38;5;241m|\u001b[39m Series:\n\u001b[0;32m    155\u001b[0m     \u001b[38;5;124;03m\"\"\"\u001b[39;00m\n\u001b[0;32m    156\u001b[0m \u001b[38;5;124;03m    Concatenate pandas objects along a particular axis with optional set logic\u001b[39;00m\n\u001b[0;32m    157\u001b[0m \u001b[38;5;124;03m    along the other axes.\u001b[39;00m\n\u001b[1;32m   (...)\u001b[0m\n\u001b[0;32m    344\u001b[0m \u001b[38;5;124;03m    ValueError: Indexes have overlapping values: ['a']\u001b[39;00m\n\u001b[0;32m    345\u001b[0m \u001b[38;5;124;03m    \"\"\"\u001b[39;00m\n\u001b[1;32m--> 346\u001b[0m     op \u001b[38;5;241m=\u001b[39m \u001b[43m_Concatenator\u001b[49m\u001b[43m(\u001b[49m\n\u001b[0;32m    347\u001b[0m \u001b[43m        \u001b[49m\u001b[43mobjs\u001b[49m\u001b[43m,\u001b[49m\n\u001b[0;32m    348\u001b[0m \u001b[43m        \u001b[49m\u001b[43maxis\u001b[49m\u001b[38;5;241;43m=\u001b[39;49m\u001b[43maxis\u001b[49m\u001b[43m,\u001b[49m\n\u001b[0;32m    349\u001b[0m \u001b[43m        \u001b[49m\u001b[43mignore_index\u001b[49m\u001b[38;5;241;43m=\u001b[39;49m\u001b[43mignore_index\u001b[49m\u001b[43m,\u001b[49m\n\u001b[0;32m    350\u001b[0m \u001b[43m        \u001b[49m\u001b[43mjoin\u001b[49m\u001b[38;5;241;43m=\u001b[39;49m\u001b[43mjoin\u001b[49m\u001b[43m,\u001b[49m\n\u001b[0;32m    351\u001b[0m \u001b[43m        \u001b[49m\u001b[43mkeys\u001b[49m\u001b[38;5;241;43m=\u001b[39;49m\u001b[43mkeys\u001b[49m\u001b[43m,\u001b[49m\n\u001b[0;32m    352\u001b[0m \u001b[43m        \u001b[49m\u001b[43mlevels\u001b[49m\u001b[38;5;241;43m=\u001b[39;49m\u001b[43mlevels\u001b[49m\u001b[43m,\u001b[49m\n\u001b[0;32m    353\u001b[0m \u001b[43m        \u001b[49m\u001b[43mnames\u001b[49m\u001b[38;5;241;43m=\u001b[39;49m\u001b[43mnames\u001b[49m\u001b[43m,\u001b[49m\n\u001b[0;32m    354\u001b[0m \u001b[43m        \u001b[49m\u001b[43mverify_integrity\u001b[49m\u001b[38;5;241;43m=\u001b[39;49m\u001b[43mverify_integrity\u001b[49m\u001b[43m,\u001b[49m\n\u001b[0;32m    355\u001b[0m \u001b[43m        \u001b[49m\u001b[43mcopy\u001b[49m\u001b[38;5;241;43m=\u001b[39;49m\u001b[43mcopy\u001b[49m\u001b[43m,\u001b[49m\n\u001b[0;32m    356\u001b[0m \u001b[43m        \u001b[49m\u001b[43msort\u001b[49m\u001b[38;5;241;43m=\u001b[39;49m\u001b[43msort\u001b[49m\u001b[43m,\u001b[49m\n\u001b[0;32m    357\u001b[0m \u001b[43m    \u001b[49m\u001b[43m)\u001b[49m\n\u001b[0;32m    359\u001b[0m     \u001b[38;5;28;01mreturn\u001b[39;00m op\u001b[38;5;241m.\u001b[39mget_result()\n",
      "File \u001b[1;32m~\\AppData\\Local\\Packages\\PythonSoftwareFoundation.Python.3.10_qbz5n2kfra8p0\\LocalCache\\local-packages\\Python310\\site-packages\\pandas\\core\\reshape\\concat.py:436\u001b[0m, in \u001b[0;36m_Concatenator.__init__\u001b[1;34m(self, objs, axis, join, keys, levels, names, ignore_index, verify_integrity, copy, sort)\u001b[0m\n\u001b[0;32m    431\u001b[0m     \u001b[38;5;28;01mif\u001b[39;00m \u001b[38;5;129;01mnot\u001b[39;00m \u001b[38;5;28misinstance\u001b[39m(obj, (ABCSeries, ABCDataFrame)):\n\u001b[0;32m    432\u001b[0m         msg \u001b[38;5;241m=\u001b[39m (\n\u001b[0;32m    433\u001b[0m             \u001b[38;5;124mf\u001b[39m\u001b[38;5;124m\"\u001b[39m\u001b[38;5;124mcannot concatenate object of type \u001b[39m\u001b[38;5;124m'\u001b[39m\u001b[38;5;132;01m{\u001b[39;00m\u001b[38;5;28mtype\u001b[39m(obj)\u001b[38;5;132;01m}\u001b[39;00m\u001b[38;5;124m'\u001b[39m\u001b[38;5;124m; \u001b[39m\u001b[38;5;124m\"\u001b[39m\n\u001b[0;32m    434\u001b[0m             \u001b[38;5;124m\"\u001b[39m\u001b[38;5;124monly Series and DataFrame objs are valid\u001b[39m\u001b[38;5;124m\"\u001b[39m\n\u001b[0;32m    435\u001b[0m         )\n\u001b[1;32m--> 436\u001b[0m         \u001b[38;5;28;01mraise\u001b[39;00m \u001b[38;5;167;01mTypeError\u001b[39;00m(msg)\n\u001b[0;32m    438\u001b[0m     ndims\u001b[38;5;241m.\u001b[39madd(obj\u001b[38;5;241m.\u001b[39mndim)\n\u001b[0;32m    440\u001b[0m \u001b[38;5;66;03m# get the sample\u001b[39;00m\n\u001b[0;32m    441\u001b[0m \u001b[38;5;66;03m# want the highest ndim that we have, and must be non-empty\u001b[39;00m\n\u001b[0;32m    442\u001b[0m \u001b[38;5;66;03m# unless all objs are empty\u001b[39;00m\n",
      "\u001b[1;31mTypeError\u001b[0m: cannot concatenate object of type '<class 'int'>'; only Series and DataFrame objs are valid"
     ]
    }
   ],
   "source": [
    "%%time\n",
    "i=0\n",
    "for row in df1.itertuples(index=False):\n",
    "    df1.iloc[i]=row.Mat1\n",
    "    i ++"
   ]
  },
  {
   "cell_type": "code",
   "execution_count": 7,
   "id": "02cc4e09",
   "metadata": {},
   "outputs": [],
   "source": [
    "df2 = pd.DataFrame(columns=['Mat1','Mat2'])"
   ]
  },
  {
   "cell_type": "code",
   "execution_count": 8,
   "id": "86c590ec",
   "metadata": {},
   "outputs": [
    {
     "data": {
      "text/html": [
       "<div>\n",
       "<style scoped>\n",
       "    .dataframe tbody tr th:only-of-type {\n",
       "        vertical-align: middle;\n",
       "    }\n",
       "\n",
       "    .dataframe tbody tr th {\n",
       "        vertical-align: top;\n",
       "    }\n",
       "\n",
       "    .dataframe thead th {\n",
       "        text-align: right;\n",
       "    }\n",
       "</style>\n",
       "<table border=\"1\" class=\"dataframe\">\n",
       "  <thead>\n",
       "    <tr style=\"text-align: right;\">\n",
       "      <th></th>\n",
       "      <th>Mat1</th>\n",
       "      <th>Mat2</th>\n",
       "    </tr>\n",
       "  </thead>\n",
       "  <tbody>\n",
       "  </tbody>\n",
       "</table>\n",
       "</div>"
      ],
      "text/plain": [
       "Empty DataFrame\n",
       "Columns: [Mat1, Mat2]\n",
       "Index: []"
      ]
     },
     "execution_count": 8,
     "metadata": {},
     "output_type": "execute_result"
    }
   ],
   "source": [
    "df2"
   ]
  },
  {
   "cell_type": "code",
   "execution_count": null,
   "id": "8dfeec2c",
   "metadata": {},
   "outputs": [],
   "source": []
  }
 ],
 "metadata": {
  "hide_input": false,
  "kernelspec": {
   "display_name": "Python 3 (ipykernel)",
   "language": "python",
   "name": "python3"
  },
  "language_info": {
   "codemirror_mode": {
    "name": "ipython",
    "version": 3
   },
   "file_extension": ".py",
   "mimetype": "text/x-python",
   "name": "python",
   "nbconvert_exporter": "python",
   "pygments_lexer": "ipython3",
   "version": "3.10.5"
  },
  "toc": {
   "base_numbering": 1,
   "nav_menu": {
    "height": "289.984px",
    "width": "300.982px"
   },
   "number_sections": true,
   "sideBar": true,
   "skip_h1_title": false,
   "title_cell": "Table of Contents",
   "title_sidebar": "Contents",
   "toc_cell": false,
   "toc_position": {
    "height": "339.643px",
    "left": "53px",
    "top": "110.477px",
    "width": "293.606px"
   },
   "toc_section_display": true,
   "toc_window_display": true
  }
 },
 "nbformat": 4,
 "nbformat_minor": 5
}
