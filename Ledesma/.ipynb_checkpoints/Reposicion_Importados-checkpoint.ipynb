{
 "cells": [
  {
   "cell_type": "markdown",
   "id": "bf9cb521",
   "metadata": {},
   "source": [
    "# Reposición de importados\n",
    "(Fecha actual 27/05/2022)\n",
    "1. Descartar los materiales observados y con contrato\n",
    "3. Revisar CaP in(ND,PD) con reserva/ZUB\n",
    "2. Descartar CaP in(ND,PD) ult12=0 y consumo2021=0 y no nuevo y sin reservas/ZUB (sin importar si es crítico o no)\n",
    "3. Descartar materiales nuevos y disp>=MaxSap y ult12=0 y sin reservas/ZUB (Considerar nuevos con reservas/ZUB)\n",
    "4. Revisar nuevos y ult12>0\n",
    "5. Revisar CaP in(ND,PD) ult12=0 y consumo2021>0 y disp<consumo2021 (Considerar los PD de poco valor)\n",
    "6. Descartar CaP in(ND,PD) ult12>0 y disp>ult12 (Considerar los PD de poco valor)\n",
    "7. Descartar CaP=V1 y repoDiario=0 disp>=ult12 y desp>=2021 y disp>=maxSap\n",
    "\n",
    "Antes de emitir solped\n",
    "1. Revisar mail de los ND\n",
    "2. Chequear que no haya de la familia 62 (posible john deere)\n",
    "3. Revisar nuevamente los items A\n",
    "4. Revisar los máximos propuestos\n"
   ]
  },
  {
   "cell_type": "code",
   "execution_count": 2,
   "id": "8a7bcba1",
   "metadata": {},
   "outputs": [
    {
     "data": {
      "text/plain": [
       "2238"
      ]
     },
     "execution_count": 2,
     "metadata": {},
     "output_type": "execute_result"
    }
   ],
   "source": [
    "4488-2250"
   ]
  },
  {
   "cell_type": "code",
   "execution_count": null,
   "id": "553ecdfb",
   "metadata": {},
   "outputs": [],
   "source": []
  }
 ],
 "metadata": {
  "hide_input": false,
  "kernelspec": {
   "display_name": "Python 3 (ipykernel)",
   "language": "python",
   "name": "python3"
  },
  "language_info": {
   "codemirror_mode": {
    "name": "ipython",
    "version": 3
   },
   "file_extension": ".py",
   "mimetype": "text/x-python",
   "name": "python",
   "nbconvert_exporter": "python",
   "pygments_lexer": "ipython3",
   "version": "3.10.4"
  },
  "toc": {
   "base_numbering": 1,
   "nav_menu": {},
   "number_sections": true,
   "sideBar": true,
   "skip_h1_title": false,
   "title_cell": "Table of Contents",
   "title_sidebar": "Contents",
   "toc_cell": false,
   "toc_position": {},
   "toc_section_display": true,
   "toc_window_display": false
  }
 },
 "nbformat": 4,
 "nbformat_minor": 5
}
