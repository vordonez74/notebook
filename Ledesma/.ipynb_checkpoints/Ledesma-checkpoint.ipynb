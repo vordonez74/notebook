{
 "cells": [
  {
   "cell_type": "markdown",
   "id": "34616474",
   "metadata": {},
   "source": [
    "# Reportes de SAP\n",
    "Importaremos 7 reportes provenientes de las transacciones: \n",
    "- MB25 (RESERVAS), \n",
    "- ME2N (PEDIDOS), \n",
    "- MB52 (BLOQUEADOS)"
   ]
  },
  {
   "cell_type": "code",
   "execution_count": null,
   "id": "b4f1bb88",
   "metadata": {},
   "outputs": [],
   "source": [
    "import pandas as pd"
   ]
  },
  {
   "cell_type": "markdown",
   "id": "df780afc",
   "metadata": {},
   "source": [
    "### Para importar un archivo de excel\n",
    "Pasos:\n",
    "- pip install openpyxl\n",
    "- usar pd.read_excel(\"\")"
   ]
  },
  {
   "cell_type": "markdown",
   "id": "597cb8f0",
   "metadata": {},
   "source": [
    "## Importamos los reportes a dataframes"
   ]
  },
  {
   "cell_type": "code",
   "execution_count": null,
   "id": "4aabc557",
   "metadata": {},
   "outputs": [],
   "source": [
    "import time\n",
    "start = time.time()\n",
    "materiales = pd.read_excel(\"C:/Users/ordonez/Documents/SAP/SAP GUI\\M.xlsx\")\n",
    "pedidos = pd.read_excel(\"C:/Users/ordonez/Documents/SAP/SAP GUI\\P.xlsx\")\n",
    "bloq = pd.read_excel(\"C:/Users/ordonez/Documents/SAP/SAP GUI\\B.xlsx\")\n",
    "reservas = pd.read_excel(\"C:/Users/ordonez/Documents/SAP/SAP GUI\\R.xlsx\")\n",
    "zub = pd.read_excel(\"C:/Users/ordonez/Documents/SAP/SAP GUI\\Z.xlsx\")\n",
    "zor = pd.read_excel(\"C:/Users/ordonez/Documents/SAP/SAP GUI\\S.xlsx\")\n",
    "contratos = pd.read_excel(\"C:/Users/ordonez/Documents/SAP/SAP GUI\\C.xlsx\")\n",
    "end = time.time()\n",
    "print(f\"Se importaron los datos en {end - start} segundos\")"
   ]
  },
  {
   "cell_type": "code",
   "execution_count": null,
   "id": "10e5096a",
   "metadata": {},
   "outputs": [],
   "source": [
    "#Para mostrar las primeras 5 filas\n",
    "materiales.head()"
   ]
  },
  {
   "cell_type": "code",
   "execution_count": null,
   "id": "af345c46",
   "metadata": {},
   "outputs": [],
   "source": [
    "#Muestra los tipos de datos de cada columna\n",
    "materiales.dtypes"
   ]
  },
  {
   "cell_type": "code",
   "execution_count": null,
   "id": "faeb434f",
   "metadata": {},
   "outputs": [],
   "source": [
    "#Muestra los nombres de cada columna\n",
    "materiales.columns"
   ]
  },
  {
   "cell_type": "code",
   "execution_count": null,
   "id": "964286b1",
   "metadata": {},
   "outputs": [],
   "source": [
    "#Lista la columna Material\n",
    "materiales.Material"
   ]
  },
  {
   "cell_type": "code",
   "execution_count": null,
   "id": "33a1e1e6",
   "metadata": {},
   "outputs": [],
   "source": [
    "#Devuelve un array del contenido del dataframe\n",
    "materiales.values"
   ]
  },
  {
   "cell_type": "markdown",
   "id": "96e67106",
   "metadata": {},
   "source": [
    "# Filtrar datos con python"
   ]
  },
  {
   "cell_type": "code",
   "execution_count": null,
   "id": "2a201651",
   "metadata": {},
   "outputs": [],
   "source": [
    "materiales[\"Material\"].head(10)"
   ]
  },
  {
   "cell_type": "code",
   "execution_count": null,
   "id": "f9e3d501",
   "metadata": {},
   "outputs": [],
   "source": [
    "pedidos.columns"
   ]
  },
  {
   "cell_type": "code",
   "execution_count": null,
   "id": "665055f8",
   "metadata": {},
   "outputs": [],
   "source": [
    "pedidos[\"Documento compras\"].head()"
   ]
  },
  {
   "cell_type": "code",
   "execution_count": null,
   "id": "b65d3f31",
   "metadata": {},
   "outputs": [],
   "source": [
    "pedidos[0:10]"
   ]
  },
  {
   "cell_type": "code",
   "execution_count": null,
   "id": "0ff948ce",
   "metadata": {},
   "outputs": [],
   "source": [
    "materiales.columns"
   ]
  },
  {
   "cell_type": "code",
   "execution_count": null,
   "id": "aade362c",
   "metadata": {},
   "outputs": [],
   "source": [
    "materiales.dtypes"
   ]
  },
  {
   "cell_type": "code",
   "execution_count": null,
   "id": "2baa5b1a",
   "metadata": {},
   "outputs": [],
   "source": [
    "materiales[materiales[\"Libre utiliz.\"] == 0.0].head(10)"
   ]
  },
  {
   "cell_type": "code",
   "execution_count": null,
   "id": "cd14a5a9",
   "metadata": {},
   "outputs": [],
   "source": [
    "materiales[materiales[\"Material\"] == 1019231]"
   ]
  },
  {
   "cell_type": "code",
   "execution_count": null,
   "id": "fc619eff",
   "metadata": {},
   "outputs": [],
   "source": [
    "materiales[(materiales[\"Almacén\"] == \"1126\") & (materiales[\"Libre utiliz.\"] == 0.0)].head()"
   ]
  },
  {
   "cell_type": "code",
   "execution_count": null,
   "id": "705c8954",
   "metadata": {},
   "outputs": [],
   "source": [
    "materiales[materiales.Almacén.isin([\"1126\",\"1124\"])]"
   ]
  },
  {
   "cell_type": "code",
   "execution_count": null,
   "id": "abd90ec3",
   "metadata": {},
   "outputs": [],
   "source": [
    "materiales[materiales['Libre utiliz.'].isin([12.0, 80.0])].head(100)"
   ]
  },
  {
   "cell_type": "markdown",
   "id": "2bfe5aa9",
   "metadata": {},
   "source": [
    "## Cantiad de materiales por Almacén"
   ]
  },
  {
   "cell_type": "code",
   "execution_count": null,
   "id": "7c903933",
   "metadata": {},
   "outputs": [],
   "source": [
    "cant1126 = len(materiales[materiales[\"Almacén\"] == \"1126\"])\n",
    "cant1124 = len(materiales[materiales[\"Almacén\"] == \"1124\"])\n",
    "cant1125 = len(materiales[materiales[\"Almacén\"] == \"1125\"])\n",
    "cant1128 = len(materiales[materiales[\"Almacén\"] == \"1128\"])\n",
    "cantReg = len(materiales)\n",
    "print(f'Hay {cant1126} materiales en el almacén 1126')\n",
    "print(f'Hay {cant1124} materiales en el almacén 1124')\n",
    "print(f'Hay {cant1125} materiales en el almacén 1125')\n",
    "print(f'Hay {cant1128} materiales en el almacén 1128')\n",
    "print(f'Cantiadad de registros {cantReg}')"
   ]
  },
  {
   "cell_type": "code",
   "execution_count": null,
   "id": "a8b3cc64",
   "metadata": {},
   "outputs": [],
   "source": [
    "#Material más caro por almacén\n",
    "materiales.groupby(by = \"Almacén\")[\"PrMedioVar\"].max()"
   ]
  },
  {
   "cell_type": "code",
   "execution_count": null,
   "id": "da50b801",
   "metadata": {},
   "outputs": [],
   "source": [
    "materiales[materiales[\"PrMedioVar\"] == 1763961.54]\n",
    "pd.concat([materiales[materiales[\"PrMedioVar\"] == 1763961.54],\n",
    "           materiales[materiales[\"PrMedioVar\"] == 8733622.13],\n",
    "           materiales[materiales[\"PrMedioVar\"] == 6897091.08],\n",
    "           materiales[materiales[\"PrMedioVar\"] == 3486041.29],\n",
    "           materiales[materiales[\"PrMedioVar\"] == 653662.61]],axis=0)"
   ]
  },
  {
   "cell_type": "code",
   "execution_count": null,
   "id": "e55541ac",
   "metadata": {},
   "outputs": [],
   "source": []
  }
 ],
 "metadata": {
  "kernelspec": {
   "display_name": "Python 3 (ipykernel)",
   "language": "python",
   "name": "python3"
  },
  "language_info": {
   "codemirror_mode": {
    "name": "ipython",
    "version": 3
   },
   "file_extension": ".py",
   "mimetype": "text/x-python",
   "name": "python",
   "nbconvert_exporter": "python",
   "pygments_lexer": "ipython3",
   "version": "3.9.6"
  }
 },
 "nbformat": 4,
 "nbformat_minor": 5
}
