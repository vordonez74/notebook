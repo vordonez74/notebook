{
 "cells": [
  {
   "cell_type": "code",
   "execution_count": null,
   "id": "1d4bbf3d",
   "metadata": {},
   "outputs": [],
   "source": [
    "import numpy as np\n",
    "valoraciones = np.array([[3,6,5],[22,34,65],[3,44,78]])\n",
    "valoraciones"
   ]
  },
  {
   "cell_type": "code",
   "execution_count": null,
   "id": "6546f99e",
   "metadata": {},
   "outputs": [],
   "source": [
    "valoraciones[0][1]"
   ]
  },
  {
   "cell_type": "code",
   "execution_count": null,
   "id": "c8d4400f",
   "metadata": {},
   "outputs": [],
   "source": [
    "valoraciones[0,1]"
   ]
  },
  {
   "cell_type": "code",
   "execution_count": null,
   "id": "7190db92",
   "metadata": {},
   "outputs": [],
   "source": [
    "np.zeros((3,2,4))"
   ]
  },
  {
   "cell_type": "code",
   "execution_count": null,
   "id": "7564e028",
   "metadata": {},
   "outputs": [],
   "source": [
    "np.ones((3,2,4))"
   ]
  },
  {
   "cell_type": "code",
   "execution_count": null,
   "id": "d0928ef9",
   "metadata": {},
   "outputs": [],
   "source": [
    "valoraciones"
   ]
  },
  {
   "cell_type": "code",
   "execution_count": null,
   "id": "8ffcddb8",
   "metadata": {},
   "outputs": [],
   "source": [
    "valoraciones + np.ones((3,3))"
   ]
  },
  {
   "cell_type": "code",
   "execution_count": null,
   "id": "eb91f7c7",
   "metadata": {},
   "outputs": [],
   "source": [
    "np.mean(valoraciones)"
   ]
  },
  {
   "cell_type": "code",
   "execution_count": null,
   "id": "3dda6a18",
   "metadata": {},
   "outputs": [],
   "source": [
    "valoraciones2 = np.array([\n",
    "    [[8,7,8,5],[2,5,5,2]],\n",
    "    [[2,6,8,4],[8,9,7,4]],\n",
    "    [[8,8,9,3],[10,9,10,8]]])"
   ]
  },
  {
   "cell_type": "code",
   "execution_count": null,
   "id": "46ca6678",
   "metadata": {},
   "outputs": [],
   "source": [
    "np.mean(valoraciones2,axis=0)"
   ]
  },
  {
   "cell_type": "code",
   "execution_count": null,
   "id": "8d77ef41",
   "metadata": {},
   "outputs": [],
   "source": [
    "np.mean(valoraciones2,axis=1)"
   ]
  },
  {
   "cell_type": "code",
   "execution_count": null,
   "id": "2913ba68",
   "metadata": {},
   "outputs": [],
   "source": [
    "np.mean(valoraciones2,axis=2)"
   ]
  },
  {
   "cell_type": "code",
   "execution_count": null,
   "id": "fc361197",
   "metadata": {},
   "outputs": [],
   "source": [
    "np.reshape([1,2,3,4,5,6,7,8,9,10,11,12],(3,2,2))"
   ]
  },
  {
   "cell_type": "code",
   "execution_count": null,
   "id": "dc5797eb",
   "metadata": {},
   "outputs": [],
   "source": [
    "np.random.rand(2,2,)"
   ]
  },
  {
   "cell_type": "code",
   "execution_count": null,
   "id": "50d6ba0b",
   "metadata": {},
   "outputs": [],
   "source": []
  }
 ],
 "metadata": {
  "kernelspec": {
   "display_name": "Python 3 (ipykernel)",
   "language": "python",
   "name": "python3"
  },
  "language_info": {
   "codemirror_mode": {
    "name": "ipython",
    "version": 3
   },
   "file_extension": ".py",
   "mimetype": "text/x-python",
   "name": "python",
   "nbconvert_exporter": "python",
   "pygments_lexer": "ipython3",
   "version": "3.10.2"
  }
 },
 "nbformat": 4,
 "nbformat_minor": 5
}
