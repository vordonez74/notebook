{
 "cells": [
  {
   "cell_type": "markdown",
   "id": "3ea9ec9b",
   "metadata": {},
   "source": [
    "# Preparar los datos para Machine Learning"
   ]
  },
  {
   "cell_type": "code",
   "execution_count": 1,
   "id": "bad9a43f",
   "metadata": {},
   "outputs": [],
   "source": [
    "from sklearn import preprocessing\n",
    "import pandas as pd\n",
    "import numpy as np"
   ]
  },
  {
   "cell_type": "code",
   "execution_count": 10,
   "id": "a0d23b35",
   "metadata": {},
   "outputs": [],
   "source": [
    "df = pd.read_csv(\"C:/Users/ordonez/Documents/UCASAL/notebooks/2008.csv\",nrows=100000)"
   ]
  },
  {
   "cell_type": "code",
   "execution_count": 11,
   "id": "f1d8d3cc",
   "metadata": {},
   "outputs": [],
   "source": [
    "## Eliminamos los datos faltantes de las columnas que nos interesa\n",
    "df = df[[\"ArrDelay\",\"DepDelay\",\"Distance\",\"AirTime\"]].dropna()"
   ]
  },
  {
   "cell_type": "markdown",
   "id": "e4b4e0e5",
   "metadata": {},
   "source": [
    "## Escalado"
   ]
  },
  {
   "cell_type": "markdown",
   "id": "ad064944",
   "metadata": {},
   "source": [
    "Algunos de los metodos de machine learning necesita que los datos estén escalados"
   ]
  },
  {
   "cell_type": "code",
   "execution_count": 12,
   "id": "44ad100a",
   "metadata": {},
   "outputs": [
    {
     "data": {
      "text/plain": [
       "array([[-0.63713243, -0.08247884,  0.40657043,  0.4452521 ],\n",
       "       [-0.12045009,  0.3068154 ,  0.40657043,  0.38990966],\n",
       "       [ 0.26706167, -0.08247884, -0.26709367, -0.29264705],\n",
       "       ...,\n",
       "       [ 1.84940134,  2.18250582,  0.53445243,  0.31611975],\n",
       "       [ 0.17018373,  0.37759617,  0.53445243,  0.1869874 ],\n",
       "       [ 0.17018373, -0.25943077,  0.53445243,  0.22388235]])"
      ]
     },
     "execution_count": 12,
     "metadata": {},
     "output_type": "execute_result"
    }
   ],
   "source": [
    "x_scaled = preprocessing.scale(df)\n",
    "x_scaled"
   ]
  },
  {
   "cell_type": "code",
   "execution_count": 13,
   "id": "86257df1",
   "metadata": {},
   "outputs": [
    {
     "data": {
      "text/plain": [
       "array([2.47651119e-17, 1.07267490e-17, 1.19506063e-16, 1.01364179e-16])"
      ]
     },
     "execution_count": 13,
     "metadata": {},
     "output_type": "execute_result"
    }
   ],
   "source": [
    "x_scaled.mean(axis=0)#Media de cada una de las columnas"
   ]
  },
  {
   "cell_type": "code",
   "execution_count": 14,
   "id": "26e66e36",
   "metadata": {},
   "outputs": [
    {
     "data": {
      "text/plain": [
       "array([1., 1., 1., 1.])"
      ]
     },
     "execution_count": 14,
     "metadata": {},
     "output_type": "execute_result"
    }
   ],
   "source": [
    "x_scaled.std(axis=0)#Calcula desviacion estandar"
   ]
  },
  {
   "cell_type": "code",
   "execution_count": 15,
   "id": "9f966a95",
   "metadata": {},
   "outputs": [
    {
     "data": {
      "text/plain": [
       "ArrDelay     14.0\n",
       "DepDelay      8.0\n",
       "Distance    515.0\n",
       "AirTime      76.0\n",
       "Name: 2, dtype: float64"
      ]
     },
     "execution_count": 15,
     "metadata": {},
     "output_type": "execute_result"
    }
   ],
   "source": [
    "df.iloc[2]"
   ]
  },
  {
   "cell_type": "code",
   "execution_count": 16,
   "id": "fce602c6",
   "metadata": {},
   "outputs": [
    {
     "data": {
      "text/plain": [
       "array([ 0.26706167, -0.08247884, -0.26709367, -0.29264705])"
      ]
     },
     "execution_count": 16,
     "metadata": {},
     "output_type": "execute_result"
    }
   ],
   "source": [
    "x_scaled[2]"
   ]
  },
  {
   "cell_type": "markdown",
   "id": "2564835c",
   "metadata": {},
   "source": [
    "### Otro Escalado"
   ]
  },
  {
   "cell_type": "code",
   "execution_count": 18,
   "id": "63c1a63c",
   "metadata": {},
   "outputs": [
    {
     "data": {
      "text/plain": [
       "array([[0.77199282, 0.92857143, 3.15557514, 2.91316527],\n",
       "       [1.05924596, 1.125     , 3.15557514, 2.82913165],\n",
       "       [1.27468582, 0.92857143, 1.85544293, 1.79271709],\n",
       "       ...,\n",
       "       [2.15439856, 2.07142857, 3.4023799 , 2.71708683],\n",
       "       [1.22082585, 1.16071429, 3.4023799 , 2.5210084 ],\n",
       "       [1.22082585, 0.83928571, 3.4023799 , 2.57703081]])"
      ]
     },
     "execution_count": 18,
     "metadata": {},
     "output_type": "execute_result"
    }
   ],
   "source": [
    "min_max_scaler = preprocessing.MinMaxScaler([0,10])\n",
    "x_train_minmax = min_max_scaler.fit_transform(df)\n",
    "x_train_minmax"
   ]
  },
  {
   "cell_type": "markdown",
   "id": "e97eb6af",
   "metadata": {},
   "source": [
    "## Transformar una variable categorica en una variable dummies"
   ]
  },
  {
   "cell_type": "code",
   "execution_count": 20,
   "id": "6b0de72f",
   "metadata": {},
   "outputs": [
    {
     "data": {
      "text/html": [
       "<div>\n",
       "<style scoped>\n",
       "    .dataframe tbody tr th:only-of-type {\n",
       "        vertical-align: middle;\n",
       "    }\n",
       "\n",
       "    .dataframe tbody tr th {\n",
       "        vertical-align: top;\n",
       "    }\n",
       "\n",
       "    .dataframe thead th {\n",
       "        text-align: right;\n",
       "    }\n",
       "</style>\n",
       "<table border=\"1\" class=\"dataframe\">\n",
       "  <thead>\n",
       "    <tr style=\"text-align: right;\">\n",
       "      <th></th>\n",
       "      <th>IAD</th>\n",
       "      <th>IND</th>\n",
       "      <th>ISP</th>\n",
       "      <th>JAN</th>\n",
       "      <th>JAX</th>\n",
       "      <th>LAS</th>\n",
       "    </tr>\n",
       "  </thead>\n",
       "  <tbody>\n",
       "    <tr>\n",
       "      <th>0</th>\n",
       "      <td>1</td>\n",
       "      <td>0</td>\n",
       "      <td>0</td>\n",
       "      <td>0</td>\n",
       "      <td>0</td>\n",
       "      <td>0</td>\n",
       "    </tr>\n",
       "    <tr>\n",
       "      <th>1</th>\n",
       "      <td>1</td>\n",
       "      <td>0</td>\n",
       "      <td>0</td>\n",
       "      <td>0</td>\n",
       "      <td>0</td>\n",
       "      <td>0</td>\n",
       "    </tr>\n",
       "    <tr>\n",
       "      <th>2</th>\n",
       "      <td>0</td>\n",
       "      <td>1</td>\n",
       "      <td>0</td>\n",
       "      <td>0</td>\n",
       "      <td>0</td>\n",
       "      <td>0</td>\n",
       "    </tr>\n",
       "    <tr>\n",
       "      <th>3</th>\n",
       "      <td>0</td>\n",
       "      <td>1</td>\n",
       "      <td>0</td>\n",
       "      <td>0</td>\n",
       "      <td>0</td>\n",
       "      <td>0</td>\n",
       "    </tr>\n",
       "    <tr>\n",
       "      <th>4</th>\n",
       "      <td>0</td>\n",
       "      <td>1</td>\n",
       "      <td>0</td>\n",
       "      <td>0</td>\n",
       "      <td>0</td>\n",
       "      <td>0</td>\n",
       "    </tr>\n",
       "    <tr>\n",
       "      <th>...</th>\n",
       "      <td>...</td>\n",
       "      <td>...</td>\n",
       "      <td>...</td>\n",
       "      <td>...</td>\n",
       "      <td>...</td>\n",
       "      <td>...</td>\n",
       "    </tr>\n",
       "    <tr>\n",
       "      <th>95</th>\n",
       "      <td>0</td>\n",
       "      <td>0</td>\n",
       "      <td>0</td>\n",
       "      <td>0</td>\n",
       "      <td>0</td>\n",
       "      <td>1</td>\n",
       "    </tr>\n",
       "    <tr>\n",
       "      <th>96</th>\n",
       "      <td>0</td>\n",
       "      <td>0</td>\n",
       "      <td>0</td>\n",
       "      <td>0</td>\n",
       "      <td>0</td>\n",
       "      <td>1</td>\n",
       "    </tr>\n",
       "    <tr>\n",
       "      <th>97</th>\n",
       "      <td>0</td>\n",
       "      <td>0</td>\n",
       "      <td>0</td>\n",
       "      <td>0</td>\n",
       "      <td>0</td>\n",
       "      <td>1</td>\n",
       "    </tr>\n",
       "    <tr>\n",
       "      <th>98</th>\n",
       "      <td>0</td>\n",
       "      <td>0</td>\n",
       "      <td>0</td>\n",
       "      <td>0</td>\n",
       "      <td>0</td>\n",
       "      <td>1</td>\n",
       "    </tr>\n",
       "    <tr>\n",
       "      <th>99</th>\n",
       "      <td>0</td>\n",
       "      <td>0</td>\n",
       "      <td>0</td>\n",
       "      <td>0</td>\n",
       "      <td>0</td>\n",
       "      <td>1</td>\n",
       "    </tr>\n",
       "  </tbody>\n",
       "</table>\n",
       "<p>100 rows × 6 columns</p>\n",
       "</div>"
      ],
      "text/plain": [
       "    IAD  IND  ISP  JAN  JAX  LAS\n",
       "0     1    0    0    0    0    0\n",
       "1     1    0    0    0    0    0\n",
       "2     0    1    0    0    0    0\n",
       "3     0    1    0    0    0    0\n",
       "4     0    1    0    0    0    0\n",
       "..  ...  ...  ...  ...  ...  ...\n",
       "95    0    0    0    0    0    1\n",
       "96    0    0    0    0    0    1\n",
       "97    0    0    0    0    0    1\n",
       "98    0    0    0    0    0    1\n",
       "99    0    0    0    0    0    1\n",
       "\n",
       "[100 rows x 6 columns]"
      ]
     },
     "execution_count": 20,
     "metadata": {},
     "output_type": "execute_result"
    }
   ],
   "source": [
    "df = pd.read_csv(\"C:/Users/ordonez/Documents/UCASAL/notebooks/2008.csv\",nrows=100)\n",
    "pd.get_dummies(df[\"Origin\"])"
   ]
  },
  {
   "cell_type": "markdown",
   "id": "b46e1f73",
   "metadata": {},
   "source": [
    "# k-Means, el algoritmo de clustering"
   ]
  },
  {
   "cell_type": "code",
   "execution_count": 21,
   "id": "f0ddecc6",
   "metadata": {},
   "outputs": [],
   "source": [
    "import pandas as pd\n",
    "import numpy as np\n",
    "from sklearn.cluster import KMeans\n",
    "import matplotlib.pyplot as plt"
   ]
  },
  {
   "cell_type": "code",
   "execution_count": 27,
   "id": "517faf9e",
   "metadata": {},
   "outputs": [],
   "source": [
    "df = pd.read_csv(\"C:/Users/ordonez/Documents/UCASAL/notebooks/2008.csv\",nrows=1e5)\n",
    "newdf = df[[\"AirTime\",\"DepDelay\"]].dropna()"
   ]
  },
  {
   "cell_type": "code",
   "execution_count": 25,
   "id": "161b38fb",
   "metadata": {},
   "outputs": [],
   "source": [
    "#newdf = df[[\"AirTime\",\"Distance\",\"TaxiOut\",\"ArrDelay\",\"DepDelay\"]].dropna()"
   ]
  },
  {
   "cell_type": "code",
   "execution_count": 28,
   "id": "a6b10af0",
   "metadata": {},
   "outputs": [
    {
     "data": {
      "text/plain": [
       "array([3, 3, 1, ..., 0, 3, 3])"
      ]
     },
     "execution_count": 28,
     "metadata": {},
     "output_type": "execute_result"
    }
   ],
   "source": [
    "kmeans = KMeans(n_clusters=4,random_state=0).fit(newdf)\n",
    "kmeans.labels_"
   ]
  },
  {
   "cell_type": "code",
   "execution_count": 30,
   "id": "42107559",
   "metadata": {},
   "outputs": [
    {
     "data": {
      "text/plain": [
       "(array([0, 1, 2, 3]), array([ 3944, 60402,  8274, 26078], dtype=int64))"
      ]
     },
     "execution_count": 30,
     "metadata": {},
     "output_type": "execute_result"
    }
   ],
   "source": [
    "np.unique(kmeans.labels_,return_counts=True)"
   ]
  },
  {
   "cell_type": "code",
   "execution_count": 31,
   "id": "4db724b8",
   "metadata": {},
   "outputs": [
    {
     "data": {
      "image/png": "[encoded data removed]",
      "text/plain": [
       "<Figure size 432x288 with 1 Axes>"
      ]
     },
     "metadata": {
      "needs_background": "light"
     },
     "output_type": "display_data"
    }
   ],
   "source": [
    "plt.scatter(newdf[\"AirTime\"],newdf[\"DepDelay\"],c= kmeans.labels_)\n",
    "plt.show()"
   ]
  },
  {
   "cell_type": "code",
   "execution_count": 32,
   "id": "ef69c956",
   "metadata": {},
   "outputs": [
    {
     "data": {
      "text/plain": [
       "array([[ 79.50946731, 116.4478667 ],\n",
       "       [ 58.86814825,   5.65975557],\n",
       "       [224.74990908,  10.03576191],\n",
       "       [128.07685235,   5.12600567]])"
      ]
     },
     "execution_count": 32,
     "metadata": {},
     "output_type": "execute_result"
    }
   ],
   "source": [
    "kmeans.cluster_centers_"
   ]
  },
  {
   "cell_type": "code",
   "execution_count": 34,
   "id": "64768042",
   "metadata": {},
   "outputs": [],
   "source": [
    "alldf = pd.read_csv(\"C:/Users/ordonez/Documents/UCASAL/notebooks/2008.csv\",nrows=1e6)[[\"AirTime\",\"DepDelay\"]].dropna()"
   ]
  },
  {
   "cell_type": "code",
   "execution_count": 35,
   "id": "734ae984",
   "metadata": {},
   "outputs": [
    {
     "data": {
      "text/plain": [
       "array([3, 3, 1, 1, 1, 1, 2, 2, 1, 1, 3, 0, 1, 1, 1, 1, 2, 2, 3, 1, 1, 1,\n",
       "       1, 1, 1, 1, 0, 3, 3, 2, 0, 3, 3, 3, 3, 3, 3, 0, 3, 3, 3, 3, 3, 3,\n",
       "       3, 3, 3, 3, 3, 0])"
      ]
     },
     "execution_count": 35,
     "metadata": {},
     "output_type": "execute_result"
    }
   ],
   "source": [
    "kmeans.predict(alldf)[0:50]"
   ]
  },
  {
   "cell_type": "markdown",
   "id": "64e634c0",
   "metadata": {},
   "source": [
    "## se ejecuta el método con mas variables"
   ]
  },
  {
   "cell_type": "code",
   "execution_count": 36,
   "id": "0aacc5d4",
   "metadata": {},
   "outputs": [
    {
     "data": {
      "text/plain": [
       "208"
      ]
     },
     "execution_count": 36,
     "metadata": {},
     "output_type": "execute_result"
    }
   ],
   "source": [
    "16*13"
   ]
  },
  {
   "cell_type": "code",
   "execution_count": null,
   "id": "88d3ba8e",
   "metadata": {},
   "outputs": [],
   "source": []
  }
 ],
 "metadata": {
  "hide_input": false,
  "kernelspec": {
   "display_name": "Python 3 (ipykernel)",
   "language": "python",
   "name": "python3"
  },
  "language_info": {
   "codemirror_mode": {
    "name": "ipython",
    "version": 3
   },
   "file_extension": ".py",
   "mimetype": "text/x-python",
   "name": "python",
   "nbconvert_exporter": "python",
   "pygments_lexer": "ipython3",
   "version": "3.10.2"
  },
  "toc": {
   "base_numbering": 1,
   "nav_menu": {},
   "number_sections": true,
   "sideBar": true,
   "skip_h1_title": false,
   "title_cell": "Table of Contents",
   "title_sidebar": "Contents",
   "toc_cell": false,
   "toc_position": {},
   "toc_section_display": true,
   "toc_window_display": true
  }
 },
 "nbformat": 4,
 "nbformat_minor": 5
}
