{
 "cells": [
  {
   "cell_type": "code",
   "execution_count": 1,
   "id": "5223bc6b",
   "metadata": {
    "hide_input": false
   },
   "outputs": [],
   "source": [
    "#pip install iplantuml\n",
    "import iplantuml"
   ]
  },
  {
   "cell_type": "markdown",
   "id": "c57defde",
   "metadata": {
    "hide_input": true
   },
   "source": [
    "[Ejemplo UML](https://www.ionos.es/digitalguide/paginas-web/desarrollo-web/diagramas-de-secuencia/)\n",
    "\n",
    "[Tutorial](https://plantuml.com/es/sequence-diagram)\n",
    "\n",
    "[IPlantUML](https://github.com/jbn/IPlantUML)"
   ]
  },
  {
   "cell_type": "markdown",
   "id": "3446d6ff",
   "metadata": {
    "hide_input": true
   },
   "source": [
    "# Guía Practica Nro.3 “CARMABOLAS POO”\n",
    "**Introducción:**\n",
    "Se pretende crear un juego de carambolas en una mesa similar a la de Pool.\n",
    "Primer nivel de juego, es con una bola, el segundo nivel es con dos bolas y el tercero con tras \n",
    "bolas.\n",
    "La regla es simple, las bolas que chocan con las barandas, suman 1 (uno) punto y las que \n",
    "chocan con otra bola suman 2 (dos) puntos.\n",
    "El jugador que mas punto obtenga gana.\n",
    "Los únicos datos de entrada será, ángulo de golpe, y fuerza.\n",
    "- El ángulo va de 0° a 180°, por que se asume que sera hacia adelante.\n",
    "- La fuerza va de 0 a 100, y disminuye 1 punto de fuerza cada segundo de tiempo y 3 puntos de \n",
    "fuerza en cada choque, cuando no tiene mas fuerza la bola se detiene.\n",
    "- NO vamos a tener en cuenta la gravedad, ni el roce con la superficie ni ningún otro factor real\n",
    "\n",
    "![Mesa](mesa.jpg)\n",
    "\n",
    "**Actividad 1:**\n",
    "\n",
    "1. Crear un diagrama de clases UML ( Lenguaje unificado de modelado) para modelar las clases que ud. considera definir para crear el juego Carambolas.\n",
    "2. Crear el diagrama de secuencias, que modele la interacción del o los jugadores con el juego de carambolas.\n",
    "\n",
    "NOTA: Ud. es libre de decidir el nivel de detalles del juego y de explicar cada uno de los \n",
    "diagramas solicitado"
   ]
  },
  {
   "cell_type": "markdown",
   "id": "b54eccf8",
   "metadata": {},
   "source": [
    "## Diagrama de clases"
   ]
  },
  {
   "cell_type": "code",
   "execution_count": 37,
   "id": "c357be41",
   "metadata": {
    "hide_input": false
   },
   "outputs": [
    {
     "data": {
      "image/svg+xml": [
       "<svg xmlns=\"http://www.w3.org/2000/svg\" xmlns:xlink=\"http://www.w3.org/1999/xlink\" contentStyleType=\"text/css\" height=\"522px\" preserveAspectRatio=\"none\" style=\"width:230px;height:522px;background:#FFFFFF;\" version=\"1.1\" viewBox=\"0 0 230 522\" width=\"230px\" zoomAndPan=\"magnify\"><defs/><g><!--MD5=[542f7b1477873529a2859eba941f2ef6]\n",
       "class Juego--><g id=\"elem_Juego\"><rect codeLine=\"1\" fill=\"#F1F1F1\" height=\"113.1875\" id=\"Juego\" rx=\"2.5\" ry=\"2.5\" style=\"stroke:#181818;stroke-width:0.5;\" width=\"216\" x=\"7\" y=\"7\"/><ellipse cx=\"91.25\" cy=\"23\" fill=\"#ADD1B2\" rx=\"11\" ry=\"11\" style=\"stroke:#181818;stroke-width:1.0;\"/><path d=\"M93.5938,18.6719 C92.6563,18.2344 92.0625,18.0938 91.1875,18.0938 C88.5625,18.0938 86.5625,20.1719 86.5625,22.8906 L86.5625,24.0156 C86.5625,26.5938 88.6719,28.4844 91.5625,28.4844 C92.7813,28.4844 93.9375,28.1875 94.6875,27.6406 C95.2656,27.2344 95.5938,26.7813 95.5938,26.3906 C95.5938,25.9375 95.2031,25.5469 94.7344,25.5469 C94.5156,25.5469 94.3125,25.625 94.125,25.8125 C93.6719,26.2969 93.6719,26.2969 93.4844,26.3906 C93.0625,26.6563 92.375,26.7813 91.6094,26.7813 C89.5625,26.7813 88.2656,25.6875 88.2656,23.9844 L88.2656,22.8906 C88.2656,21.1094 89.5156,19.7969 91.25,19.7969 C91.8281,19.7969 92.4375,19.9531 92.9063,20.2031 C93.3906,20.4844 93.5625,20.7031 93.6563,21.1094 C93.7188,21.5156 93.75,21.6406 93.8906,21.7656 C94.0313,21.9063 94.2656,22.0156 94.4844,22.0156 C94.75,22.0156 95.0156,21.875 95.1875,21.6563 C95.2969,21.5 95.3281,21.3125 95.3281,20.8906 L95.3281,19.4688 C95.3281,19.0313 95.3125,18.9063 95.2188,18.75 C95.0625,18.4844 94.7813,18.3438 94.4844,18.3438 C94.1875,18.3438 93.9844,18.4375 93.7656,18.75 L93.5938,18.6719 Z \" fill=\"#000000\"/><text fill=\"#000000\" font-family=\"sans-serif\" font-size=\"14\" lengthAdjust=\"spacing\" textLength=\"39\" x=\"111.75\" y=\"27.8467\">Juego</text><line style=\"stroke:#181818;stroke-width:0.5;\" x1=\"8\" x2=\"222\" y1=\"39\" y2=\"39\"/><rect fill=\"none\" height=\"6\" style=\"stroke:#C82930;stroke-width:1.0;\" width=\"6\" x=\"15\" y=\"47\"/><text fill=\"#000000\" font-family=\"sans-serif\" font-size=\"14\" lengthAdjust=\"spacing\" textLength=\"112\" x=\"27\" y=\"55.9951\">Integer puntaje</text><rect fill=\"none\" height=\"6\" style=\"stroke:#C82930;stroke-width:1.0;\" width=\"6\" x=\"15\" y=\"63.2969\"/><text fill=\"#000000\" font-family=\"sans-serif\" font-size=\"14\" lengthAdjust=\"spacing\" textLength=\"91\" x=\"27\" y=\"72.292\">Integer nivel</text><line style=\"stroke:#181818;stroke-width:0.5;\" x1=\"8\" x2=\"222\" y1=\"79.5938\" y2=\"79.5938\"/><ellipse cx=\"18\" cy=\"90.5938\" fill=\"#84BE84\" rx=\"3\" ry=\"3\" style=\"stroke:#038048;stroke-width:1.0;\"/><text fill=\"#000000\" font-family=\"sans-serif\" font-size=\"14\" lengthAdjust=\"spacing\" textLength=\"190\" x=\"27\" y=\"96.5889\">integer actualizarPuntaje()</text><rect fill=\"#F24D5C\" height=\"6\" style=\"stroke:#C82930;stroke-width:1.0;\" width=\"6\" x=\"15\" y=\"103.8906\"/><text fill=\"#000000\" font-family=\"sans-serif\" font-size=\"14\" lengthAdjust=\"spacing\" textLength=\"148\" x=\"27\" y=\"112.8857\">void actualizarNivel()</text></g><!--MD5=[e5925cd15ccd4863e9dc4bc9e690e485]\n",
       "class Mesa--><g id=\"elem_Mesa\"><rect codeLine=\"8\" fill=\"#F1F1F1\" height=\"113.1875\" id=\"Mesa\" rx=\"2.5\" ry=\"2.5\" style=\"stroke:#181818;stroke-width:0.5;\" width=\"156\" x=\"37\" y=\"180\"/><ellipse cx=\"92.75\" cy=\"196\" fill=\"#ADD1B2\" rx=\"11\" ry=\"11\" style=\"stroke:#181818;stroke-width:1.0;\"/><path d=\"M95.0938,191.6719 C94.1563,191.2344 93.5625,191.0938 92.6875,191.0938 C90.0625,191.0938 88.0625,193.1719 88.0625,195.8906 L88.0625,197.0156 C88.0625,199.5938 90.1719,201.4844 93.0625,201.4844 C94.2813,201.4844 95.4375,201.1875 96.1875,200.6406 C96.7656,200.2344 97.0938,199.7813 97.0938,199.3906 C97.0938,198.9375 96.7031,198.5469 96.2344,198.5469 C96.0156,198.5469 95.8125,198.625 95.625,198.8125 C95.1719,199.2969 95.1719,199.2969 94.9844,199.3906 C94.5625,199.6563 93.875,199.7813 93.1094,199.7813 C91.0625,199.7813 89.7656,198.6875 89.7656,196.9844 L89.7656,195.8906 C89.7656,194.1094 91.0156,192.7969 92.75,192.7969 C93.3281,192.7969 93.9375,192.9531 94.4063,193.2031 C94.8906,193.4844 95.0625,193.7031 95.1563,194.1094 C95.2188,194.5156 95.25,194.6406 95.3906,194.7656 C95.5313,194.9063 95.7656,195.0156 95.9844,195.0156 C96.25,195.0156 96.5156,194.875 96.6875,194.6563 C96.7969,194.5 96.8281,194.3125 96.8281,193.8906 L96.8281,192.4688 C96.8281,192.0313 96.8125,191.9063 96.7188,191.75 C96.5625,191.4844 96.2813,191.3438 95.9844,191.3438 C95.6875,191.3438 95.4844,191.4375 95.2656,191.75 L95.0938,191.6719 Z \" fill=\"#000000\"/><text fill=\"#000000\" font-family=\"sans-serif\" font-size=\"14\" lengthAdjust=\"spacing\" textLength=\"36\" x=\"113.25\" y=\"200.8467\">Mesa</text><line style=\"stroke:#181818;stroke-width:0.5;\" x1=\"38\" x2=\"192\" y1=\"212\" y2=\"212\"/><rect fill=\"none\" height=\"6\" style=\"stroke:#C82930;stroke-width:1.0;\" width=\"6\" x=\"45\" y=\"220\"/><text fill=\"#000000\" font-family=\"sans-serif\" font-size=\"14\" lengthAdjust=\"spacing\" textLength=\"84\" x=\"57\" y=\"228.9951\">String color</text><rect fill=\"none\" height=\"6\" style=\"stroke:#C82930;stroke-width:1.0;\" width=\"6\" x=\"45\" y=\"236.2969\"/><text fill=\"#000000\" font-family=\"sans-serif\" font-size=\"14\" lengthAdjust=\"spacing\" textLength=\"93\" x=\"57\" y=\"245.292\">Integer largo</text><rect fill=\"none\" height=\"6\" style=\"stroke:#C82930;stroke-width:1.0;\" width=\"6\" x=\"45\" y=\"252.5938\"/><text fill=\"#000000\" font-family=\"sans-serif\" font-size=\"14\" lengthAdjust=\"spacing\" textLength=\"100\" x=\"57\" y=\"261.5889\">Integer ancho</text><line style=\"stroke:#181818;stroke-width:0.5;\" x1=\"38\" x2=\"192\" y1=\"268.8906\" y2=\"268.8906\"/><ellipse cx=\"48\" cy=\"279.8906\" fill=\"#84BE84\" rx=\"3\" ry=\"3\" style=\"stroke:#038048;stroke-width:1.0;\"/><text fill=\"#000000\" font-family=\"sans-serif\" font-size=\"14\" lengthAdjust=\"spacing\" textLength=\"130\" x=\"57\" y=\"285.8857\">consultarChoque()</text></g><!--MD5=[4071830c0df2dadaed05793c862bc3d3]\n",
       "class Bola--><g id=\"elem_Bola\"><rect codeLine=\"15\" fill=\"#F1F1F1\" height=\"162.0781\" id=\"Bola\" rx=\"2.5\" ry=\"2.5\" style=\"stroke:#181818;stroke-width:0.5;\" width=\"188\" x=\"21\" y=\"353\"/><ellipse cx=\"95.25\" cy=\"369\" fill=\"#ADD1B2\" rx=\"11\" ry=\"11\" style=\"stroke:#181818;stroke-width:1.0;\"/><path d=\"M97.5938,364.6719 C96.6563,364.2344 96.0625,364.0938 95.1875,364.0938 C92.5625,364.0938 90.5625,366.1719 90.5625,368.8906 L90.5625,370.0156 C90.5625,372.5938 92.6719,374.4844 95.5625,374.4844 C96.7813,374.4844 97.9375,374.1875 98.6875,373.6406 C99.2656,373.2344 99.5938,372.7813 99.5938,372.3906 C99.5938,371.9375 99.2031,371.5469 98.7344,371.5469 C98.5156,371.5469 98.3125,371.625 98.125,371.8125 C97.6719,372.2969 97.6719,372.2969 97.4844,372.3906 C97.0625,372.6563 96.375,372.7813 95.6094,372.7813 C93.5625,372.7813 92.2656,371.6875 92.2656,369.9844 L92.2656,368.8906 C92.2656,367.1094 93.5156,365.7969 95.25,365.7969 C95.8281,365.7969 96.4375,365.9531 96.9063,366.2031 C97.3906,366.4844 97.5625,366.7031 97.6563,367.1094 C97.7188,367.5156 97.75,367.6406 97.8906,367.7656 C98.0313,367.9063 98.2656,368.0156 98.4844,368.0156 C98.75,368.0156 99.0156,367.875 99.1875,367.6563 C99.2969,367.5 99.3281,367.3125 99.3281,366.8906 L99.3281,365.4688 C99.3281,365.0313 99.3125,364.9063 99.2188,364.75 C99.0625,364.4844 98.7813,364.3438 98.4844,364.3438 C98.1875,364.3438 97.9844,364.4375 97.7656,364.75 L97.5938,364.6719 Z \" fill=\"#000000\"/><text fill=\"#000000\" font-family=\"sans-serif\" font-size=\"14\" lengthAdjust=\"spacing\" textLength=\"31\" x=\"115.75\" y=\"373.8467\">Bola</text><line style=\"stroke:#181818;stroke-width:0.5;\" x1=\"22\" x2=\"208\" y1=\"385\" y2=\"385\"/><rect fill=\"none\" height=\"6\" style=\"stroke:#C82930;stroke-width:1.0;\" width=\"6\" x=\"29\" y=\"393\"/><text fill=\"#000000\" font-family=\"sans-serif\" font-size=\"14\" lengthAdjust=\"spacing\" textLength=\"84\" x=\"41\" y=\"401.9951\">String color</text><rect fill=\"none\" height=\"6\" style=\"stroke:#C82930;stroke-width:1.0;\" width=\"6\" x=\"29\" y=\"409.2969\"/><text fill=\"#000000\" font-family=\"sans-serif\" font-size=\"14\" lengthAdjust=\"spacing\" textLength=\"96\" x=\"41\" y=\"418.292\">Double pos_x</text><rect fill=\"none\" height=\"6\" style=\"stroke:#C82930;stroke-width:1.0;\" width=\"6\" x=\"29\" y=\"425.5938\"/><text fill=\"#000000\" font-family=\"sans-serif\" font-size=\"14\" lengthAdjust=\"spacing\" textLength=\"96\" x=\"41\" y=\"434.5889\">Double pos_y</text><rect fill=\"none\" height=\"6\" style=\"stroke:#C82930;stroke-width:1.0;\" width=\"6\" x=\"29\" y=\"441.8906\"/><text fill=\"#000000\" font-family=\"sans-serif\" font-size=\"14\" lengthAdjust=\"spacing\" textLength=\"123\" x=\"41\" y=\"450.8857\">Double velocidad</text><line style=\"stroke:#181818;stroke-width:0.5;\" x1=\"22\" x2=\"208\" y1=\"458.1875\" y2=\"458.1875\"/><ellipse cx=\"32\" cy=\"469.1875\" fill=\"#84BE84\" rx=\"3\" ry=\"3\" style=\"stroke:#038048;stroke-width:1.0;\"/><text fill=\"#000000\" font-family=\"sans-serif\" font-size=\"14\" lengthAdjust=\"spacing\" textLength=\"130\" x=\"41\" y=\"475.1826\">void golpearBola()</text><rect fill=\"#F24D5C\" height=\"6\" style=\"stroke:#C82930;stroke-width:1.0;\" width=\"6\" x=\"29\" y=\"482.4844\"/><text fill=\"#000000\" font-family=\"sans-serif\" font-size=\"14\" lengthAdjust=\"spacing\" textLength=\"162\" x=\"41\" y=\"491.4795\">void actualizarEstado()</text><ellipse cx=\"32\" cy=\"501.7813\" fill=\"#84BE84\" rx=\"3\" ry=\"3\" style=\"stroke:#038048;stroke-width:1.0;\"/><text fill=\"#000000\" font-family=\"sans-serif\" font-size=\"14\" lengthAdjust=\"spacing\" textLength=\"150\" x=\"41\" y=\"507.7764\">void conQueGolpeo()</text></g><!--MD5=[c6205372c10154f213318ff4a57b09f2]\n",
       "reverse link Juego to Mesa--><g id=\"link_Juego_Mesa\"><path codeLine=\"24\" d=\"M115,133.379 C115,148.865 115,165.107 115,179.967 \" fill=\"none\" id=\"Juego-backto-Mesa\" style=\"stroke:#181818;stroke-width:1.0;\"/><polygon fill=\"#181818\" points=\"115,120.019,111,126.019,115,132.019,119,126.019,115,120.019\" style=\"stroke:#181818;stroke-width:1.0;\"/></g><!--MD5=[9e3f74a43f022a8156e212788c4f8cd3]\n",
       "reverse link Mesa to Bola--><g id=\"link_Mesa_Bola\"><path codeLine=\"25\" d=\"M115,306.639 C115,321.553 115,337.442 115,352.74 \" fill=\"none\" id=\"Mesa-backto-Bola\" style=\"stroke:#181818;stroke-width:1.0;\"/><polygon fill=\"none\" points=\"115,293.261,111,299.261,115,305.261,119,299.261,115,293.261\" style=\"stroke:#181818;stroke-width:1.0;\"/></g><!--MD5=[ab5471495fec5057e22638e246f6a5ea]\n",
       "@startuml\n",
       "class Juego{\n",
       "    -Integer puntaje\n",
       "    -Integer nivel\n",
       "    +integer actualizarPuntaje()\n",
       "    -void actualizarNivel()\n",
       "}\n",
       "\n",
       "class Mesa{\n",
       "    -String color\n",
       "    -Integer largo\n",
       "    -Integer ancho\n",
       "    +consultarChoque()\n",
       "}\n",
       "\n",
       "class Bola{\n",
       "    -String color\n",
       "    -Double pos_x\n",
       "    -Double pos_y\n",
       "    -Double velocidad\n",
       "    +void golpearBola()\n",
       "    -void actualizarEstado()\n",
       "    +void conQueGolpeo()\n",
       "}\n",
       "Juego *- - Mesa\n",
       "Mesa o- - Bola\n",
       "@enduml\n",
       "\n",
       "PlantUML version 1.2022.6beta2(Unknown compile time)\n",
       "(GPL source distribution)\n",
       "Java Runtime: Java(TM) SE Runtime Environment\n",
       "JVM: Java HotSpot(TM) 64-Bit Server VM\n",
       "Default Encoding: UTF-8\n",
       "Language: en\n",
       "Country: US\n",
       "--></g></svg>"
      ],
      "text/plain": [
       "<IPython.core.display.SVG object>"
      ]
     },
     "execution_count": 37,
     "metadata": {},
     "output_type": "execute_result"
    }
   ],
   "source": [
    "%%plantuml\n",
    "@startuml\n",
    "class Juego{\n",
    "    -Integer puntaje\n",
    "    -Integer nivel\n",
    "    +integer actualizarPuntaje()\n",
    "    -void actualizarNivel()\n",
    "}\n",
    "\n",
    "class Mesa{\n",
    "    -String color\n",
    "    -Integer largo\n",
    "    -Integer ancho\n",
    "    +consultarChoque()\n",
    "}\n",
    "\n",
    "class Bola{\n",
    "    -String color\n",
    "    -Double pos_x\n",
    "    -Double pos_y\n",
    "    -Double velocidad\n",
    "    +void golpearBola()\n",
    "    -void actualizarEstado()\n",
    "    +void conQueGolpeo()\n",
    "}\n",
    "Juego *-- Mesa\n",
    "Mesa o-- Bola\n",
    "@enduml"
   ]
  },
  {
   "cell_type": "markdown",
   "id": "e7aa717d",
   "metadata": {},
   "source": [
    "## Diagrama de secuencias"
   ]
  },
  {
   "cell_type": "code",
   "execution_count": 31,
   "id": "867d3ecf",
   "metadata": {
    "hide_input": true
   },
   "outputs": [
    {
     "data": {
      "image/svg+xml": [
       "<svg xmlns=\"http://www.w3.org/2000/svg\" xmlns:xlink=\"http://www.w3.org/1999/xlink\" contentStyleType=\"text/css\" height=\"588px\" preserveAspectRatio=\"none\" style=\"width:572px;height:588px;background:#FFFFFF;\" version=\"1.1\" viewBox=\"0 0 572 588\" width=\"572px\" zoomAndPan=\"magnify\"><defs/><g><rect height=\"392.0703\" style=\"stroke:#000000;stroke-width:1.5;fill:none;\" width=\"556.5\" x=\"10\" y=\"98.2969\"/><rect height=\"131.0078\" style=\"stroke:#000000;stroke-width:1.5;fill:none;\" width=\"140\" x=\"265.5\" y=\"323.2266\"/><line style=\"stroke:#181818;stroke-width:0.5;fill:none;stroke-dasharray:5.0,5.0;\" x1=\"49\" x2=\"49\" y1=\"81.2969\" y2=\"507.3672\"/><line style=\"stroke:#181818;stroke-width:0.5;fill:none;stroke-dasharray:5.0,5.0;\" x1=\"158\" x2=\"158\" y1=\"81.2969\" y2=\"507.3672\"/><line style=\"stroke:#181818;stroke-width:0.5;fill:none;stroke-dasharray:5.0,5.0;\" x1=\"300.5\" x2=\"300.5\" y1=\"81.2969\" y2=\"507.3672\"/><line style=\"stroke:#181818;stroke-width:0.5;fill:none;stroke-dasharray:5.0,5.0;\" x1=\"444\" x2=\"444\" y1=\"81.2969\" y2=\"507.3672\"/><text fill=\"#000000\" font-family=\"sans-serif\" font-size=\"14\" lengthAdjust=\"spacing\" textLength=\"53\" x=\"20\" y=\"77.9951\">Jugador</text><ellipse cx=\"49.5\" cy=\"13.5\" fill=\"#0000FF\" rx=\"8\" ry=\"8\" style=\"stroke:#181818;stroke-width:0.5;\"/><path d=\"M49.5,21.5 L49.5,48.5 M36.5,29.5 L62.5,29.5 M49.5,48.5 L36.5,63.5 M49.5,48.5 L62.5,63.5 \" fill=\"none\" style=\"stroke:#181818;stroke-width:0.5;\"/><text fill=\"#000000\" font-family=\"sans-serif\" font-size=\"14\" lengthAdjust=\"spacing\" textLength=\"53\" x=\"20\" y=\"519.3623\">Jugador</text><ellipse cx=\"49.5\" cy=\"531.1641\" fill=\"#0000FF\" rx=\"8\" ry=\"8\" style=\"stroke:#181818;stroke-width:0.5;\"/><path d=\"M49.5,539.1641 L49.5,566.1641 M36.5,547.1641 L62.5,547.1641 M49.5,566.1641 L36.5,581.1641 M49.5,566.1641 L62.5,581.1641 \" fill=\"none\" style=\"stroke:#181818;stroke-width:0.5;\"/><rect fill=\"#FFFFFF\" height=\"30.2969\" rx=\"2.5\" ry=\"2.5\" style=\"stroke:#181818;stroke-width:0.5;\" width=\"45\" x=\"136\" y=\"50\"/><text fill=\"#000000\" font-family=\"sans-serif\" font-size=\"14\" lengthAdjust=\"spacing\" textLength=\"31\" x=\"143\" y=\"69.9951\">Bola</text><rect fill=\"#FFFFFF\" height=\"30.2969\" rx=\"2.5\" ry=\"2.5\" style=\"stroke:#181818;stroke-width:0.5;\" width=\"45\" x=\"136\" y=\"506.3672\"/><text fill=\"#000000\" font-family=\"sans-serif\" font-size=\"14\" lengthAdjust=\"spacing\" textLength=\"31\" x=\"143\" y=\"526.3623\">Bola</text><rect fill=\"#008000\" height=\"30.2969\" rx=\"2.5\" ry=\"2.5\" style=\"stroke:#181818;stroke-width:0.5;\" width=\"50\" x=\"275.5\" y=\"50\"/><text fill=\"#000000\" font-family=\"sans-serif\" font-size=\"14\" lengthAdjust=\"spacing\" textLength=\"36\" x=\"282.5\" y=\"69.9951\">Mesa</text><rect fill=\"#008000\" height=\"30.2969\" rx=\"2.5\" ry=\"2.5\" style=\"stroke:#181818;stroke-width:0.5;\" width=\"50\" x=\"275.5\" y=\"506.3672\"/><text fill=\"#000000\" font-family=\"sans-serif\" font-size=\"14\" lengthAdjust=\"spacing\" textLength=\"36\" x=\"282.5\" y=\"526.3623\">Mesa</text><rect fill=\"#E2E2F0\" height=\"30.2969\" rx=\"2.5\" ry=\"2.5\" style=\"stroke:#181818;stroke-width:0.5;\" width=\"53\" x=\"418\" y=\"50\"/><text fill=\"#000000\" font-family=\"sans-serif\" font-size=\"14\" lengthAdjust=\"spacing\" textLength=\"39\" x=\"425\" y=\"69.9951\">Juego</text><rect fill=\"#E2E2F0\" height=\"30.2969\" rx=\"2.5\" ry=\"2.5\" style=\"stroke:#181818;stroke-width:0.5;\" width=\"53\" x=\"418\" y=\"506.3672\"/><text fill=\"#000000\" font-family=\"sans-serif\" font-size=\"14\" lengthAdjust=\"spacing\" textLength=\"39\" x=\"425\" y=\"526.3623\">Juego</text><path d=\"M10,98.2969 L88,98.2969 L88,105.4297 L78,115.4297 L10,115.4297 L10,98.2969 \" fill=\"#EEEEEE\" style=\"stroke:#000000;stroke-width:1.5;\"/><rect fill=\"none\" height=\"392.0703\" style=\"stroke:#000000;stroke-width:1.5;\" width=\"556.5\" x=\"10\" y=\"98.2969\"/><text fill=\"#000000\" font-family=\"sans-serif\" font-size=\"13\" font-weight=\"bold\" lengthAdjust=\"spacing\" textLength=\"33\" x=\"25\" y=\"111.3638\">loop</text><polygon fill=\"#181818\" points=\"146.5,132.5625,156.5,136.5625,146.5,140.5625,150.5,136.5625\" style=\"stroke:#181818;stroke-width:1.0;\"/><line style=\"stroke:#181818;stroke-width:1.0;\" x1=\"49.5\" x2=\"152.5\" y1=\"136.5625\" y2=\"136.5625\"/><text fill=\"#000000\" font-family=\"sans-serif\" font-size=\"13\" lengthAdjust=\"spacing\" textLength=\"85\" x=\"56.5\" y=\"131.4966\">golpearBola()</text><line style=\"stroke:#181818;stroke-width:1.0;\" x1=\"158.5\" x2=\"200.5\" y1=\"165.6953\" y2=\"165.6953\"/><line style=\"stroke:#181818;stroke-width:1.0;\" x1=\"200.5\" x2=\"200.5\" y1=\"165.6953\" y2=\"178.6953\"/><line style=\"stroke:#181818;stroke-width:1.0;\" x1=\"159.5\" x2=\"200.5\" y1=\"178.6953\" y2=\"178.6953\"/><polygon fill=\"#181818\" points=\"169.5,174.6953,159.5,178.6953,169.5,182.6953,165.5,178.6953\" style=\"stroke:#181818;stroke-width:1.0;\"/><text fill=\"#000000\" font-family=\"sans-serif\" font-size=\"13\" lengthAdjust=\"spacing\" textLength=\"116\" x=\"165.5\" y=\"160.6294\">actualizarEstado()</text><polygon fill=\"#181818\" points=\"288.5,203.8281,298.5,207.8281,288.5,211.8281,292.5,207.8281\" style=\"stroke:#181818;stroke-width:1.0;\"/><line style=\"stroke:#181818;stroke-width:1.0;\" x1=\"158.5\" x2=\"294.5\" y1=\"207.8281\" y2=\"207.8281\"/><text fill=\"#000000\" font-family=\"sans-serif\" font-size=\"13\" lengthAdjust=\"spacing\" textLength=\"118\" x=\"165.5\" y=\"202.7622\">consultarChoque()</text><polygon fill=\"#181818\" points=\"432.5,232.9609,442.5,236.9609,432.5,240.9609,436.5,236.9609\" style=\"stroke:#181818;stroke-width:1.0;\"/><line style=\"stroke:#181818;stroke-width:1.0;\" x1=\"300.5\" x2=\"438.5\" y1=\"236.9609\" y2=\"236.9609\"/><text fill=\"#000000\" font-family=\"sans-serif\" font-size=\"13\" lengthAdjust=\"spacing\" textLength=\"120\" x=\"307.5\" y=\"231.895\">actualizarPuntaje()</text><line style=\"stroke:#181818;stroke-width:1.0;\" x1=\"444.5\" x2=\"486.5\" y1=\"266.0938\" y2=\"266.0938\"/><line style=\"stroke:#181818;stroke-width:1.0;\" x1=\"486.5\" x2=\"486.5\" y1=\"266.0938\" y2=\"279.0938\"/><line style=\"stroke:#181818;stroke-width:1.0;\" x1=\"445.5\" x2=\"486.5\" y1=\"279.0938\" y2=\"279.0938\"/><polygon fill=\"#181818\" points=\"455.5,275.0938,445.5,279.0938,455.5,283.0938,451.5,279.0938\" style=\"stroke:#181818;stroke-width:1.0;\"/><text fill=\"#000000\" font-family=\"sans-serif\" font-size=\"13\" lengthAdjust=\"spacing\" textLength=\"103\" x=\"451.5\" y=\"261.0278\">actualizarNivel()</text><polygon fill=\"#181818\" points=\"311.5,304.2266,301.5,308.2266,311.5,312.2266,307.5,308.2266\" style=\"stroke:#181818;stroke-width:1.0;\"/><line style=\"stroke:#181818;stroke-width:1.0;stroke-dasharray:2.0,2.0;\" x1=\"305.5\" x2=\"443.5\" y1=\"308.2266\" y2=\"308.2266\"/><text fill=\"#000000\" font-family=\"sans-serif\" font-size=\"13\" lengthAdjust=\"spacing\" textLength=\"73\" x=\"317.5\" y=\"303.1606\">return nivel</text><path d=\"M265.5,323.2266 L331.5,323.2266 L331.5,330.3594 L321.5,340.3594 L265.5,340.3594 L265.5,323.2266 \" fill=\"#EEEEEE\" style=\"stroke:#000000;stroke-width:1.5;\"/><rect fill=\"none\" height=\"131.0078\" style=\"stroke:#000000;stroke-width:1.5;\" width=\"140\" x=\"265.5\" y=\"323.2266\"/><text fill=\"#000000\" font-family=\"sans-serif\" font-size=\"13\" font-weight=\"bold\" lengthAdjust=\"spacing\" textLength=\"21\" x=\"280.5\" y=\"336.2935\">alt</text><text fill=\"#000000\" font-family=\"sans-serif\" font-size=\"11\" font-weight=\"bold\" lengthAdjust=\"spacing\" textLength=\"54\" x=\"346.5\" y=\"335.437\">[Nivel 1]</text><line style=\"stroke:#000000;stroke-width:1.0;stroke-dasharray:2.0,2.0;\" x1=\"265.5\" x2=\"405.5\" y1=\"341.3594\" y2=\"341.3594\"/><text fill=\"#000000\" font-family=\"sans-serif\" font-size=\"11\" font-weight=\"bold\" lengthAdjust=\"spacing\" textLength=\"104\" x=\"270.5\" y=\"351.5698\">[CambioNivel 2]</text><line style=\"stroke:#181818;stroke-width:1.0;\" x1=\"300.5\" x2=\"342.5\" y1=\"376.2969\" y2=\"376.2969\"/><line style=\"stroke:#181818;stroke-width:1.0;\" x1=\"342.5\" x2=\"342.5\" y1=\"376.2969\" y2=\"389.2969\"/><line style=\"stroke:#181818;stroke-width:1.0;\" x1=\"301.5\" x2=\"342.5\" y1=\"389.2969\" y2=\"389.2969\"/><polygon fill=\"#181818\" points=\"311.5,385.2969,301.5,389.2969,311.5,393.2969,307.5,389.2969\" style=\"stroke:#181818;stroke-width:1.0;\"/><text fill=\"#000000\" font-family=\"sans-serif\" font-size=\"13\" lengthAdjust=\"spacing\" textLength=\"55\" x=\"307.5\" y=\"371.231\">creaBola</text><line style=\"stroke:#000000;stroke-width:1.0;stroke-dasharray:2.0,2.0;\" x1=\"265.5\" x2=\"405.5\" y1=\"398.2969\" y2=\"398.2969\"/><text fill=\"#000000\" font-family=\"sans-serif\" font-size=\"11\" font-weight=\"bold\" lengthAdjust=\"spacing\" textLength=\"104\" x=\"270.5\" y=\"408.5073\">[CambioNivel 3]</text><line style=\"stroke:#181818;stroke-width:1.0;\" x1=\"300.5\" x2=\"342.5\" y1=\"433.2344\" y2=\"433.2344\"/><line style=\"stroke:#181818;stroke-width:1.0;\" x1=\"342.5\" x2=\"342.5\" y1=\"433.2344\" y2=\"446.2344\"/><line style=\"stroke:#181818;stroke-width:1.0;\" x1=\"301.5\" x2=\"342.5\" y1=\"446.2344\" y2=\"446.2344\"/><polygon fill=\"#181818\" points=\"311.5,442.2344,301.5,446.2344,311.5,450.2344,307.5,446.2344\" style=\"stroke:#181818;stroke-width:1.0;\"/><text fill=\"#000000\" font-family=\"sans-serif\" font-size=\"13\" lengthAdjust=\"spacing\" textLength=\"55\" x=\"307.5\" y=\"428.1685\">creaBola</text><polygon fill=\"#181818\" points=\"169.5,478.3672,159.5,482.3672,169.5,486.3672,165.5,482.3672\" style=\"stroke:#181818;stroke-width:1.0;\"/><line style=\"stroke:#181818;stroke-width:1.0;\" x1=\"163.5\" x2=\"299.5\" y1=\"482.3672\" y2=\"482.3672\"/><text fill=\"#000000\" font-family=\"sans-serif\" font-size=\"13\" lengthAdjust=\"spacing\" textLength=\"104\" x=\"175.5\" y=\"477.3013\">conQueGolpeo()</text><!--MD5=[46750f8b610d0aae2d2d967d849e4cb2]\n",
       "@startuml\n",
       "actor Jugador #blue\n",
       "participant Bola #white\n",
       "participant Mesa #green\n",
       "participant Juego\n",
       "\n",
       "loop\n",
       "    Jugador -> Bola : golpearBola()\n",
       "    Bola -> Bola : actualizarEstado()\n",
       "    Bola -> Mesa : consultarChoque()\n",
       "    Mesa -> Juego : actualizarPuntaje()\n",
       "    Juego -> Juego : actualizarNivel()\n",
       "    Juego - -> Mesa : return nivel\n",
       "    alt Nivel 1\n",
       "        else CambioNivel 2\n",
       "        Mesa -> Mesa : creaBola\n",
       "        else CambioNivel 3\n",
       "        Mesa -> Mesa : creaBola\n",
       "    end\n",
       "    Mesa -> Bola : conQueGolpeo()\n",
       "end\n",
       "@enduml\n",
       "\n",
       "PlantUML version 1.2022.6beta2(Unknown compile time)\n",
       "(GPL source distribution)\n",
       "Java Runtime: Java(TM) SE Runtime Environment\n",
       "JVM: Java HotSpot(TM) 64-Bit Server VM\n",
       "Default Encoding: UTF-8\n",
       "Language: en\n",
       "Country: US\n",
       "--></g></svg>"
      ],
      "text/plain": [
       "<IPython.core.display.SVG object>"
      ]
     },
     "execution_count": 31,
     "metadata": {},
     "output_type": "execute_result"
    }
   ],
   "source": [
    "%%plantuml\n",
    "\n",
    "@startuml\n",
    "actor Jugador #blue\n",
    "participant Bola #white\n",
    "participant Mesa #green\n",
    "participant Juego\n",
    "\n",
    "loop\n",
    "    Jugador -> Bola : golpearBola()\n",
    "    Bola -> Bola : actualizarEstado()\n",
    "    Bola -> Mesa : consultarChoque()\n",
    "    Mesa -> Juego : actualizarPuntaje()\n",
    "    Juego -> Juego : actualizarNivel()\n",
    "    Juego --> Mesa : return nivel\n",
    "    alt Nivel 1\n",
    "        else CambioNivel 2\n",
    "        Mesa -> Mesa : creaBola\n",
    "        else CambioNivel 3\n",
    "        Mesa -> Mesa : creaBola\n",
    "    end\n",
    "    Mesa -> Bola : conQueGolpeo()\n",
    "end\n",
    "@enduml"
   ]
  },
  {
   "cell_type": "markdown",
   "id": "d13a67c9",
   "metadata": {},
   "source": [
    "<p style='text-align: right;'> Victor Alejandro Ordoñez </p>"
   ]
  }
 ],
 "metadata": {
  "hide_input": false,
  "kernelspec": {
   "display_name": "Python 3 (ipykernel)",
   "language": "python",
   "name": "python3"
  },
  "language_info": {
   "codemirror_mode": {
    "name": "ipython",
    "version": 3
   },
   "file_extension": ".py",
   "mimetype": "text/x-python",
   "name": "python",
   "nbconvert_exporter": "python",
   "pygments_lexer": "ipython3",
   "version": "3.10.4"
  },
  "toc": {
   "base_numbering": 1,
   "nav_menu": {},
   "number_sections": true,
   "sideBar": true,
   "skip_h1_title": false,
   "title_cell": "Table of Contents",
   "title_sidebar": "Contents",
   "toc_cell": false,
   "toc_position": {},
   "toc_section_display": true,
   "toc_window_display": true
  }
 },
 "nbformat": 4,
 "nbformat_minor": 5
}
