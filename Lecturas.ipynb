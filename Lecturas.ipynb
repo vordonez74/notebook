{
 "cells": [
  {
   "cell_type": "code",
   "execution_count": 3,
   "id": "2a043ec3",
   "metadata": {},
   "outputs": [],
   "source": [
    "import pyttsx3\n",
    "engine =pyttsx3.init()\n",
    "\n",
    "voices = engine.getProperty('voices')\n",
    "engine.setProperty('voice',voices[0].id)\n",
    "# Frecuencia de ajuste\n",
    "engine.setProperty(\"rate\", 140)\n",
    "# Ajusta el volumen\n",
    "volume = engine.getProperty('volume')\n",
    "engine.setProperty('volume', volume+0.25)\n",
    "\n",
    "def talk(text):\n",
    "    engine.say(text)\n",
    "    engine.runAndWait()"
   ]
  },
  {
   "cell_type": "code",
   "execution_count": 4,
   "id": "b66e3237",
   "metadata": {},
   "outputs": [],
   "source": [
    "with open('lectura.txt','r',encoding='utf-8') as f:\n",
    "    line = f.read()\n",
    "    engine.say(line)\n",
    "    engine.runAndWait()"
   ]
  },
  {
   "cell_type": "code",
   "execution_count": null,
   "id": "cc41d6d2",
   "metadata": {},
   "outputs": [],
   "source": []
  }
 ],
 "metadata": {
  "hide_input": false,
  "kernelspec": {
   "display_name": "Python 3 (ipykernel)",
   "language": "python",
   "name": "python3"
  },
  "language_info": {
   "codemirror_mode": {
    "name": "ipython",
    "version": 3
   },
   "file_extension": ".py",
   "mimetype": "text/x-python",
   "name": "python",
   "nbconvert_exporter": "python",
   "pygments_lexer": "ipython3",
   "version": "3.10.4"
  },
  "toc": {
   "base_numbering": 1,
   "nav_menu": {},
   "number_sections": true,
   "sideBar": true,
   "skip_h1_title": false,
   "title_cell": "Table of Contents",
   "title_sidebar": "Contents",
   "toc_cell": false,
   "toc_position": {},
   "toc_section_display": true,
   "toc_window_display": false
  }
 },
 "nbformat": 4,
 "nbformat_minor": 5
}
